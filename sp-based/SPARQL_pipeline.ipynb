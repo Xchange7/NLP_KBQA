{
  "cells": [
    {
      "cell_type": "markdown",
      "id": "e11a5701-cea3-4c38-8f84-27f84aba242d",
      "metadata": {
        "id": "e11a5701-cea3-4c38-8f84-27f84aba242d"
      },
      "source": [
        "## KQAPro Baselines Pipeline - SPARQL Setup\n",
        "\n",
        "This Jupyter Notebook is designed to set up the pipeline for the [KQAPro Baselines - SPARQL](https://github.com/shijx12/KQAPro_Baselines/tree/master/SPARQL) project. It provides steps for downloading the necessary datasets, organizing files, and preparing the environment to run the SPARQL-based code.\n",
        "\n",
        "Ensure that all dependencies are installed and the required tools are available in your system before proceeding."
      ]
    },
    {
      "cell_type": "markdown",
      "id": "2fd6584a",
      "metadata": {
        "id": "2fd6584a"
      },
      "source": [
        "> To Run it on **Colab**:\n",
        ">\n",
        "> 1. First, **upload** and open this jupyter **notebook** file  \n",
        ">\n",
        "> 2. Second, clone the related [github repository](https://github.com/Xchange7/NLP_KBQA) by executing the following command:"
      ]
    },
    {
      "cell_type": "code",
      "execution_count": 1,
      "id": "57ab1a4f",
      "metadata": {
        "colab": {
          "base_uri": "https://localhost:8080/"
        },
        "id": "57ab1a4f",
        "outputId": "3a13063b-a38d-4b1b-ae0a-a3eb94e4283d"
      },
      "outputs": [
        {
          "name": "stdout",
          "output_type": "stream",
          "text": [
            "Cloning into 'NLP_KBQA'...\n",
            "remote: Enumerating objects: 439, done.\u001b[K\n",
            "remote: Counting objects: 100% (439/439), done.\u001b[K\n",
            "remote: Compressing objects: 100% (260/260), done.\u001b[K\n",
            "remote: Total 439 (delta 188), reused 414 (delta 166), pack-reused 0 (from 0)\u001b[K\n",
            "Receiving objects: 100% (439/439), 18.89 MiB | 16.28 MiB/s, done.\n",
            "Resolving deltas: 100% (188/188), done.\n"
          ]
        }
      ],
      "source": [
        "!git clone https://github.com/Xchange7/NLP_KBQA.git"
      ]
    },
    {
      "cell_type": "markdown",
      "id": "fd2b8b50",
      "metadata": {
        "id": "fd2b8b50"
      },
      "source": [
        "> 3. change the directory to `sp-based/`\n",
        ">\n",
        ">     Use `%cd` rather than `!cd` !!!"
      ]
    },
    {
      "cell_type": "code",
      "execution_count": 2,
      "id": "2b553752",
      "metadata": {
        "colab": {
          "base_uri": "https://localhost:8080/"
        },
        "id": "2b553752",
        "outputId": "0154060e-d240-48f0-b913-8afbec3bad2e"
      },
      "outputs": [
        {
          "name": "stdout",
          "output_type": "stream",
          "text": [
            "/content/NLP_KBQA/sp-based\n"
          ]
        }
      ],
      "source": [
        "%cd NLP_KBQA/sp-based/"
      ]
    },
    {
      "cell_type": "code",
      "execution_count": 3,
      "id": "uwIdx7jpK12U",
      "metadata": {
        "colab": {
          "base_uri": "https://localhost:8080/"
        },
        "id": "uwIdx7jpK12U",
        "outputId": "40d46e64-9e62-4756-8972-a4e69b0ce1b8"
      },
      "outputs": [
        {
          "name": "stdout",
          "output_type": "stream",
          "text": [
            "/content/NLP_KBQA/sp-based\n"
          ]
        }
      ],
      "source": [
        "!pwd"
      ]
    },
    {
      "cell_type": "markdown",
      "id": "d8516955",
      "metadata": {
        "id": "d8516955"
      },
      "source": [
        "> 4. Now continue the following cells"
      ]
    },
    {
      "cell_type": "markdown",
      "id": "bd8e79dd-fcc0-4968-ad9f-b1171f7fd98a",
      "metadata": {
        "id": "bd8e79dd-fcc0-4968-ad9f-b1171f7fd98a"
      },
      "source": [
        "### Download Datasets\n",
        "\n",
        "The following 4 jupyter cells will do the followings:\n",
        "\n",
        "- Download datasets `train.json`, `val.json` and `test.json` from [https://cloud.tsinghua.edu.cn/f/04ce81541e704a648b03/?dl=1](https://cloud.tsinghua.edu.cn/f/04ce81541e704a648b03/?dl=1)\n",
        "- Download datasets `kb.json` from [https://huggingface.co/datasets/drt/kqa_pro](https://huggingface.co/datasets/drt/kqa_pro)"
      ]
    },
    {
      "cell_type": "code",
      "execution_count": 4,
      "id": "9b805c03-47e8-46ff-9077-57309ad35b21",
      "metadata": {
        "colab": {
          "base_uri": "https://localhost:8080/"
        },
        "id": "9b805c03-47e8-46ff-9077-57309ad35b21",
        "outputId": "7b0479b7-d894-4f08-c83c-5f6889bd0072"
      },
      "outputs": [
        {
          "name": "stdout",
          "output_type": "stream",
          "text": [
            "--2025-01-16 21:30:04--  https://cloud.tsinghua.edu.cn/f/04ce81541e704a648b03/?dl=1\n",
            "Resolving cloud.tsinghua.edu.cn (cloud.tsinghua.edu.cn)... 101.6.15.69, 2402:f000:1:402:101:6:15:69\n",
            "Connecting to cloud.tsinghua.edu.cn (cloud.tsinghua.edu.cn)|101.6.15.69|:443... connected.\n",
            "HTTP request sent, awaiting response... 302 Found\n",
            "Location: https://cloud.tsinghua.edu.cn/seafhttp/files/296e76d1-b728-4931-b20e-ff0984ca1a88/KQAPro.IID.zip [following]\n",
            "--2025-01-16 21:30:05--  https://cloud.tsinghua.edu.cn/seafhttp/files/296e76d1-b728-4931-b20e-ff0984ca1a88/KQAPro.IID.zip\n",
            "Reusing existing connection to cloud.tsinghua.edu.cn:443.\n",
            "HTTP request sent, awaiting response... 200 OK\n",
            "Length: 24786704 (24M) [application/zip]\n",
            "Saving to: ‘datasets.zip’\n",
            "\n",
            "datasets.zip        100%[===================>]  23.64M  7.24MB/s    in 3.3s    \n",
            "\n",
            "2025-01-16 21:30:09 (7.24 MB/s) - ‘datasets.zip’ saved [24786704/24786704]\n",
            "\n",
            "Archive:  datasets.zip\n",
            "   creating: datasets/KQAPro.IID/\n",
            "  inflating: datasets/KQAPro.IID/kb.json  \n",
            "  inflating: datasets/KQAPro.IID/README.md  \n",
            "  inflating: datasets/KQAPro.IID/train.json  \n",
            "  inflating: datasets/KQAPro.IID/test.json  \n",
            "  inflating: datasets/KQAPro.IID/val.json  \n"
          ]
        }
      ],
      "source": [
        "# Simply run it\n",
        "\n",
        "!wget -O datasets.zip \"https://cloud.tsinghua.edu.cn/f/04ce81541e704a648b03/?dl=1\" \\\n",
        "&& unzip -o datasets.zip -d datasets \\\n",
        "&& mv datasets/KQAPro.IID/* datasets/ \\\n",
        "&& rm -r datasets/KQAPro.IID \\\n",
        "&& rm datasets.zip"
      ]
    },
    {
      "cell_type": "code",
      "execution_count": 5,
      "id": "beec3dab-52e2-4145-9795-964fbb3bff4a",
      "metadata": {
        "colab": {
          "base_uri": "https://localhost:8080/"
        },
        "id": "beec3dab-52e2-4145-9795-964fbb3bff4a",
        "outputId": "6830c538-1ba3-4863-bb01-3f0db5240c03"
      },
      "outputs": [
        {
          "name": "stdout",
          "output_type": "stream",
          "text": [
            "\u001b[0m\u001b[01;34mBart_SPARQL\u001b[0m/                \u001b[01;34mdatasets\u001b[0m/      README.md        SPARQL_pipeline.ipynb\n",
            "Bart_SPARQL_pipeline.ipynb  evaluate.py    run_BlindGRU.sh  \u001b[01;34mtest_results\u001b[0m/\n",
            "\u001b[01;34mBlindGRU\u001b[0m/                   json2jsonl.py  \u001b[01;34mSPARQL\u001b[0m/          \u001b[01;34mutils\u001b[0m/\n"
          ]
        }
      ],
      "source": [
        "%ls"
      ]
    },
    {
      "cell_type": "code",
      "execution_count": 6,
      "id": "e033209b-5085-4e91-94b8-944f05afe2ee",
      "metadata": {
        "colab": {
          "base_uri": "https://localhost:8080/"
        },
        "id": "e033209b-5085-4e91-94b8-944f05afe2ee",
        "outputId": "8d7723fc-05e0-4800-a262-19f94656214d"
      },
      "outputs": [
        {
          "name": "stdout",
          "output_type": "stream",
          "text": [
            "--2025-01-16 21:30:12--  https://huggingface.co/datasets/drt/kqa_pro/resolve/main/kb.json?download=true\n",
            "Resolving huggingface.co (huggingface.co)... 3.163.189.114, 3.163.189.74, 3.163.189.90, ...\n",
            "Connecting to huggingface.co (huggingface.co)|3.163.189.114|:443... connected.\n",
            "HTTP request sent, awaiting response... 302 Found\n",
            "Location: https://cdn-lfs.hf.co/repos/c0/a4/c0a4536356b7a43fa2d5f4ca0859ea436a28848a2a32e920357a4480a00d4aa7/04da7408320c5cb7023c44372cce32846d56d369d8865d2e61a18c3956661a7c?response-content-disposition=attachment%3B+filename*%3DUTF-8%27%27kb.json%3B+filename%3D%22kb.json%22%3B&response-content-type=application%2Fjson&Expires=1737322212&Policy=eyJTdGF0ZW1lbnQiOlt7IkNvbmRpdGlvbiI6eyJEYXRlTGVzc1RoYW4iOnsiQVdTOkVwb2NoVGltZSI6MTczNzMyMjIxMn19LCJSZXNvdXJjZSI6Imh0dHBzOi8vY2RuLWxmcy5oZi5jby9yZXBvcy9jMC9hNC9jMGE0NTM2MzU2YjdhNDNmYTJkNWY0Y2EwODU5ZWE0MzZhMjg4NDhhMmEzMmU5MjAzNTdhNDQ4MGEwMGQ0YWE3LzA0ZGE3NDA4MzIwYzVjYjcwMjNjNDQzNzJjY2UzMjg0NmQ1NmQzNjlkODg2NWQyZTYxYTE4YzM5NTY2NjFhN2M%7EcmVzcG9uc2UtY29udGVudC1kaXNwb3NpdGlvbj0qJnJlc3BvbnNlLWNvbnRlbnQtdHlwZT0qIn1dfQ__&Signature=h9xfD6lq9OLJklG0L7JaS25wbQGprQjjQ8VqbjQikDTTeMYF4qTCb7ScIwonFxgMMk%7Eh4vQbJmry-InsLVYbx8L9y6CFAeX6tnNUWZg6m-WaVXdNO6Ef1KcUrUAZtKYCaCkHsZo44-blt77cST3IkjSX5v6RnBVGnDiEtckJboeSRq9eXQlxTCvCSAGibNBgY9B1nKgU4Z1U4jcYLHhqMhua7jWQ8u8F8oM5n1%7E7Cef4qNJXZmWuY5I7iqjB-jMp8UiSYVTHV-uoeq%7El9j7PvDL5%7EYvopFoVscQ0q6pNeI8sMtWJY1OnGu6rRMGPumgRz7JwngLMWQiR%7E51XM0nKVw__&Key-Pair-Id=K3RPWS32NSSJCE [following]\n",
            "--2025-01-16 21:30:12--  https://cdn-lfs.hf.co/repos/c0/a4/c0a4536356b7a43fa2d5f4ca0859ea436a28848a2a32e920357a4480a00d4aa7/04da7408320c5cb7023c44372cce32846d56d369d8865d2e61a18c3956661a7c?response-content-disposition=attachment%3B+filename*%3DUTF-8%27%27kb.json%3B+filename%3D%22kb.json%22%3B&response-content-type=application%2Fjson&Expires=1737322212&Policy=eyJTdGF0ZW1lbnQiOlt7IkNvbmRpdGlvbiI6eyJEYXRlTGVzc1RoYW4iOnsiQVdTOkVwb2NoVGltZSI6MTczNzMyMjIxMn19LCJSZXNvdXJjZSI6Imh0dHBzOi8vY2RuLWxmcy5oZi5jby9yZXBvcy9jMC9hNC9jMGE0NTM2MzU2YjdhNDNmYTJkNWY0Y2EwODU5ZWE0MzZhMjg4NDhhMmEzMmU5MjAzNTdhNDQ4MGEwMGQ0YWE3LzA0ZGE3NDA4MzIwYzVjYjcwMjNjNDQzNzJjY2UzMjg0NmQ1NmQzNjlkODg2NWQyZTYxYTE4YzM5NTY2NjFhN2M%7EcmVzcG9uc2UtY29udGVudC1kaXNwb3NpdGlvbj0qJnJlc3BvbnNlLWNvbnRlbnQtdHlwZT0qIn1dfQ__&Signature=h9xfD6lq9OLJklG0L7JaS25wbQGprQjjQ8VqbjQikDTTeMYF4qTCb7ScIwonFxgMMk%7Eh4vQbJmry-InsLVYbx8L9y6CFAeX6tnNUWZg6m-WaVXdNO6Ef1KcUrUAZtKYCaCkHsZo44-blt77cST3IkjSX5v6RnBVGnDiEtckJboeSRq9eXQlxTCvCSAGibNBgY9B1nKgU4Z1U4jcYLHhqMhua7jWQ8u8F8oM5n1%7E7Cef4qNJXZmWuY5I7iqjB-jMp8UiSYVTHV-uoeq%7El9j7PvDL5%7EYvopFoVscQ0q6pNeI8sMtWJY1OnGu6rRMGPumgRz7JwngLMWQiR%7E51XM0nKVw__&Key-Pair-Id=K3RPWS32NSSJCE\n",
            "Resolving cdn-lfs.hf.co (cdn-lfs.hf.co)... 18.238.217.81, 18.238.217.63, 18.238.217.120, ...\n",
            "Connecting to cdn-lfs.hf.co (cdn-lfs.hf.co)|18.238.217.81|:443... connected.\n",
            "HTTP request sent, awaiting response... 200 OK\n",
            "Length: 79341787 (76M) [application/json]\n",
            "Saving to: ‘datasets/kb.json’\n",
            "\n",
            "datasets/kb.json    100%[===================>]  75.67M   155MB/s    in 0.5s    \n",
            "\n",
            "2025-01-16 21:30:13 (155 MB/s) - ‘datasets/kb.json’ saved [79341787/79341787]\n",
            "\n"
          ]
        }
      ],
      "source": [
        "# Simply run it\n",
        "\n",
        "!wget -O datasets/kb.json \"https://huggingface.co/datasets/drt/kqa_pro/resolve/main/kb.json?download=true\""
      ]
    },
    {
      "cell_type": "code",
      "execution_count": 7,
      "id": "2eb65f55-aa46-41e8-ac9d-779fee897e57",
      "metadata": {
        "colab": {
          "base_uri": "https://localhost:8080/"
        },
        "id": "2eb65f55-aa46-41e8-ac9d-779fee897e57",
        "outputId": "469d5ead-5607-4512-ba20-ff714168e7d3"
      },
      "outputs": [
        {
          "name": "stdout",
          "output_type": "stream",
          "text": [
            "kb.json  README.md  test.json  train.json  val.json\n"
          ]
        }
      ],
      "source": [
        "%ls ./datasets"
      ]
    },
    {
      "cell_type": "markdown",
      "id": "5696ed62",
      "metadata": {
        "id": "5696ed62"
      },
      "source": [
        "### Modify the datasets\n",
        "\n",
        "- Current structures of `train.json`, `val.json`:\n",
        "  ```json\n",
        "  {\n",
        "    \"question\": \"\",   // !!! input of the model\n",
        "    \"choices\": [],  // ignore this field\n",
        "    \"program\": [],  // ignore this field\n",
        "    \"sparql\": \"\",   // !!! output of the model\n",
        "    \"answer\": \"\"  // ignore this field\n",
        "  }\n",
        "  ```\n",
        "\n",
        "- Current structure of `test.json`:\n",
        "  ```json\n",
        "  {\n",
        "    \"question\": \"\",   // !!! input of the model\n",
        "    \"answer\": \"\"  // ignore this field\n",
        "  }  // PROBLEM: no `sparql` field\n",
        "  ```\n",
        "\n",
        "- Current `test.json` file has no `sparql` field, so we split the `val.json` into two parts, taking the last **5000** pieces of samples as new test set, and others as evaluation set.\n",
        "- At the same time, we also restructure the json format in all `train.json`, `val.json`, `test.json` files with proper **indentation**."
      ]
    },
    {
      "cell_type": "code",
      "execution_count": 8,
      "id": "681a2d78",
      "metadata": {
        "id": "681a2d78"
      },
      "outputs": [],
      "source": [
        "!rm ./datasets/test.json"
      ]
    },
    {
      "cell_type": "markdown",
      "id": "c70d960d",
      "metadata": {
        "id": "c70d960d"
      },
      "source": [
        "Currently, all data are stored in **a single line** in each file, which is not human-readable. We will reformat the data to make it more readable."
      ]
    },
    {
      "cell_type": "code",
      "execution_count": 9,
      "id": "534a5ba5",
      "metadata": {
        "colab": {
          "base_uri": "https://localhost:8080/"
        },
        "id": "534a5ba5",
        "outputId": "4870b5dd-325a-4c6f-bb7f-68ee2ce5374a"
      },
      "outputs": [
        {
          "name": "stdout",
          "output_type": "stream",
          "text": [
            "        0 ./datasets/kb.json\n",
            "        0 ./datasets/train.json\n",
            "        0 ./datasets/val.json\n",
            "        0 total\n"
          ]
        }
      ],
      "source": [
        "!wc -l ./datasets/*.json  # calculate the number of lines in each file"
      ]
    },
    {
      "cell_type": "code",
      "execution_count": 10,
      "id": "b44f9c4d",
      "metadata": {
        "id": "b44f9c4d"
      },
      "outputs": [],
      "source": [
        "import json\n",
        "\n",
        "\n",
        "with open('./datasets/val.json', 'r', encoding='utf-8') as f:\n",
        "    data = json.load(f)\n",
        "\n",
        "# fetch the last 5000 samples as test data\n",
        "test_data = data[-5000:]\n",
        "remaining_data = data[:-5000]\n",
        "\n",
        "with open('./datasets/test.json', 'w', encoding='utf-8') as f:\n",
        "    json.dump(test_data, f, ensure_ascii=False, indent=4)\n",
        "\n",
        "with open('./datasets/val.json', 'w', encoding='utf-8') as f:\n",
        "    json.dump(remaining_data, f, ensure_ascii=False, indent=4)\n",
        "\n",
        "# at the same time, restore `train.json` with proper indentation\n",
        "with open('./datasets/train.json', 'r', encoding='utf-8') as f:\n",
        "    data = json.load(f)\n",
        "\n",
        "with open('./datasets/train.json', 'w', encoding='utf-8') as f:\n",
        "    json.dump(data, f, ensure_ascii=False, indent=4)"
      ]
    },
    {
      "cell_type": "code",
      "execution_count": 11,
      "id": "ec89a24a",
      "metadata": {
        "colab": {
          "base_uri": "https://localhost:8080/"
        },
        "id": "ec89a24a",
        "outputId": "a4f9be3d-d575-448a-b096-accf6944cab0"
      },
      "outputs": [
        {
          "name": "stdout",
          "output_type": "stream",
          "text": [
            "        0 ./datasets/kb.json\n",
            "   296868 ./datasets/test.json\n",
            "  5580649 ./datasets/train.json\n",
            "   404696 ./datasets/val.json\n",
            "  6282213 total\n"
          ]
        }
      ],
      "source": [
        "!wc -l ./datasets/*.json  # calculate the number of lines in each file"
      ]
    },
    {
      "cell_type": "code",
      "execution_count": 12,
      "id": "f277af7c",
      "metadata": {
        "colab": {
          "base_uri": "https://localhost:8080/"
        },
        "id": "f277af7c",
        "outputId": "27914769-6934-4e96-c4e6-12c2b98a40a4"
      },
      "outputs": [
        {
          "name": "stdout",
          "output_type": "stream",
          "text": [
            "Successfully converted datasets/train.json to datasets/train.jsonl\n",
            "Successfully converted datasets/test.json to datasets/test.jsonl\n",
            "Successfully converted datasets/val.json to datasets/val.jsonl\n"
          ]
        }
      ],
      "source": [
        "# OPTIONAL: convert `train.json`, `val.json`, and `test.json` to `jsonl` format\n",
        "\n",
        "!python json2jsonl.py --mode default"
      ]
    },
    {
      "cell_type": "code",
      "execution_count": 1,
      "id": "1cba9303",
      "metadata": {
        "colab": {
          "base_uri": "https://localhost:8080/"
        },
        "id": "1cba9303",
        "outputId": "3ac86bae-faac-4fee-e1d1-9f2da33f9432"
      },
      "outputs": [
        {
          "name": "stdout",
          "output_type": "stream",
          "text": [
            "    5000 ./datasets/test.jsonl\n",
            "   94376 ./datasets/train.jsonl\n",
            "    6797 ./datasets/val.jsonl\n",
            "  106173 total\n"
          ]
        }
      ],
      "source": [
        "!wc -l ./datasets/*.jsonl  # calculate the number of lines in each file, which represents the number of samples"
      ]
    },
    {
      "cell_type": "markdown",
      "id": "d223c74d-d46d-4799-84f9-202a070f3816",
      "metadata": {
        "id": "d223c74d-d46d-4799-84f9-202a070f3816"
      },
      "source": [
        "### Configure rdflib package\n",
        "\n",
        "Follow the instructions in [https://github.com/shijx12/KQAPro_Baselines/tree/master/SPARQL#requirements](https://github.com/shijx12/KQAPro_Baselines/tree/master/SPARQL#requirements)"
      ]
    },
    {
      "cell_type": "code",
      "execution_count": 14,
      "id": "f410d6a3-bb22-4171-8b60-60c78b2d9a34",
      "metadata": {
        "colab": {
          "base_uri": "https://localhost:8080/"
        },
        "id": "f410d6a3-bb22-4171-8b60-60c78b2d9a34",
        "outputId": "19007163-dbe7-4ffd-9b4a-c97e35f01f72"
      },
      "outputs": [
        {
          "name": "stdout",
          "output_type": "stream",
          "text": [
            "Collecting rdflib\n",
            "  Downloading rdflib-7.1.2-py3-none-any.whl.metadata (11 kB)\n",
            "Requirement already satisfied: pyparsing<4,>=3.2.0 in /usr/local/lib/python3.11/dist-packages (from rdflib) (3.2.1)\n",
            "Downloading rdflib-7.1.2-py3-none-any.whl (567 kB)\n",
            "\u001b[?25l   \u001b[90m━━━━━━━━━━━━━━━━━━━━━━━━━━━━━━━━━━━━━━━━\u001b[0m \u001b[32m0.0/567.0 kB\u001b[0m \u001b[31m?\u001b[0m eta \u001b[36m-:--:--\u001b[0m\r\u001b[2K   \u001b[91m━━━━━━━━━━━━━━━━━━━━━━━\u001b[0m\u001b[91m╸\u001b[0m\u001b[90m━━━━━━━━━━━━━━━━\u001b[0m \u001b[32m337.9/567.0 kB\u001b[0m \u001b[31m10.0 MB/s\u001b[0m eta \u001b[36m0:00:01\u001b[0m\r\u001b[2K   \u001b[90m━━━━━━━━━━━━━━━━━━━━━━━━━━━━━━━━━━━━━━━━\u001b[0m \u001b[32m567.0/567.0 kB\u001b[0m \u001b[31m11.0 MB/s\u001b[0m eta \u001b[36m0:00:00\u001b[0m\n",
            "\u001b[?25hInstalling collected packages: rdflib\n",
            "Successfully installed rdflib-7.1.2\n"
          ]
        }
      ],
      "source": [
        "%pip install rdflib"
      ]
    },
    {
      "cell_type": "code",
      "execution_count": 15,
      "id": "3efa088f-a8c7-4a81-92eb-e25a4bdd5d3a",
      "metadata": {
        "colab": {
          "base_uri": "https://localhost:8080/"
        },
        "id": "3efa088f-a8c7-4a81-92eb-e25a4bdd5d3a",
        "outputId": "37376c0b-3e51-4c81-ff19-851ea51da8b7"
      },
      "outputs": [
        {
          "name": "stdout",
          "output_type": "stream",
          "text": [
            "base_dir: /usr/local/lib/python3.11/dist-packages/rdflib\n",
            "\n",
            "There are 2 files to change in total.\n",
            "File1: /usr/local/lib/python3.11/dist-packages/rdflib/plugins/sparql/parser.py\n",
            "File2: /usr/local/lib/python3.11/dist-packages/rdflib/plugins/serializers/turtle.py\n",
            "\n",
            "First, edit file1, replace the line with codes:\n",
            "`if i + 1 < l and (not isinstance(terms[i + 1], str) or terms[i + 1] not in \".,;\"):`\n",
            "which is just below the line `# is this bnode the subject of more triplets?`\n",
            "\n",
            "Second, edit file2, replace `use_plain=True` with `use_plain=False`\n",
            "\n",
            "For more detailed information, check https://github.com/shijx12/KQAPro_Baselines/tree/master/SPARQL#requirements\n"
          ]
        }
      ],
      "source": [
        "import rdflib\n",
        "import os\n",
        "\n",
        "\"\"\" Follow the instructions of the output below: \"\"\"\n",
        "\n",
        "base_dir = os.path.dirname(rdflib.__file__)\n",
        "print(f\"base_dir: {base_dir}\")\n",
        "\n",
        "file1 = os.path.join(base_dir, \"plugins/sparql/parser.py\")\n",
        "file2 = os.path.join(base_dir, \"plugins/serializers/turtle.py\")\n",
        "\n",
        "\"\"\"What you need TODO:\"\"\"\n",
        "print(\"\\nThere are 2 files to change in total.\")\n",
        "print(f\"File1: {file1}\")\n",
        "print(f\"File2: {file2}\")\n",
        "\n",
        "print(f\"\"\"\n",
        "First, edit file1, replace the line with codes:\n",
        "`if i + 1 < l and (not isinstance(terms[i + 1], str) or terms[i + 1] not in \".,;\"):`\n",
        "which is just below the line `# is this bnode the subject of more triplets?`\n",
        "\"\"\", end=\"\")\n",
        "\n",
        "print(f\"\"\"\n",
        "Second, edit file2, replace `use_plain=True` with `use_plain=False`\n",
        "\"\"\")\n",
        "\n",
        "print(\"For more detailed information, check https://github.com/shijx12/KQAPro_Baselines/tree/master/SPARQL#requirements\")"
      ]
    },
    {
      "cell_type": "markdown",
      "id": "wHZc03euLHNH",
      "metadata": {
        "id": "wHZc03euLHNH"
      },
      "source": [
        "Now edit file1 and file2.\n",
        "\n",
        "> For Colab users, the file paths could be:  \n",
        ">\n",
        "> File1: /usr/local/lib/python3.11/dist-packages/rdflib/plugins/sparql/parser.py  (line: 84)\n",
        ">\n",
        "> File2: /usr/local/lib/python3.11/dist-packages/rdflib/plugins/serializers/turtle.py  (line: 356)\n",
        ">\n",
        "> Simply click the file links to edit"
      ]
    },
    {
      "cell_type": "markdown",
      "id": "5ad52a04-9360-4203-847f-b5221e1eabfc",
      "metadata": {
        "id": "5ad52a04-9360-4203-847f-b5221e1eabfc"
      },
      "source": [
        "### Configure SPARQLWrapper"
      ]
    },
    {
      "cell_type": "code",
      "execution_count": 16,
      "id": "ab050a27-3804-4816-b2f6-c731d3e64cce",
      "metadata": {
        "colab": {
          "base_uri": "https://localhost:8080/"
        },
        "id": "ab050a27-3804-4816-b2f6-c731d3e64cce",
        "outputId": "6d4479e3-2413-42a0-b588-cf9939225bbb"
      },
      "outputs": [
        {
          "name": "stdout",
          "output_type": "stream",
          "text": [
            "Collecting SPARQLWrapper==1.8.4\n",
            "  Downloading SPARQLWrapper-1.8.4-py3-none-any.whl.metadata (1.5 kB)\n",
            "Requirement already satisfied: rdflib>=4.0 in /usr/local/lib/python3.11/dist-packages (from SPARQLWrapper==1.8.4) (7.1.2)\n",
            "Requirement already satisfied: pyparsing<4,>=3.2.0 in /usr/local/lib/python3.11/dist-packages (from rdflib>=4.0->SPARQLWrapper==1.8.4) (3.2.1)\n",
            "Downloading SPARQLWrapper-1.8.4-py3-none-any.whl (27 kB)\n",
            "Installing collected packages: SPARQLWrapper\n",
            "Successfully installed SPARQLWrapper-1.8.4\n"
          ]
        }
      ],
      "source": [
        "%pip install SPARQLWrapper==1.8.4"
      ]
    },
    {
      "cell_type": "code",
      "execution_count": 17,
      "id": "d518e511-c41b-4042-80a9-44967f5e515b",
      "metadata": {
        "colab": {
          "base_uri": "https://localhost:8080/"
        },
        "id": "d518e511-c41b-4042-80a9-44967f5e515b",
        "outputId": "c23cbb1d-9404-43c7-bf51-9a7cc8a80601"
      },
      "outputs": [
        {
          "name": "stdout",
          "output_type": "stream",
          "text": [
            "\u001b[33mWARNING: Package(s) not found: keepalive\u001b[0m\u001b[33m\n",
            "\u001b[0m"
          ]
        }
      ],
      "source": [
        "%pip show keepalive  # Make sure `keepalive` NOT installed"
      ]
    },
    {
      "cell_type": "markdown",
      "id": "2501d07c-85b3-4d27-b37a-1801ef9606f9",
      "metadata": {
        "id": "2501d07c-85b3-4d27-b37a-1801ef9606f9"
      },
      "source": [
        "### Virtuoso Configuration\n",
        "\n",
        "> *Needed for validation and evaluation (Executing SPARQL query to local Virtuoso database)*\n",
        "\n",
        "- The virtuoso backend will start up a web service, we can import our kb into it and then execute SPARQL queries by network requests.\n",
        "- **Purpose of Virtuoso**: The primary purpose of this configuration is to install and set up the Virtuoso backend service on an Ubuntu system, enabling the import of a **knowledge base (KB)** and facilitating access and operations on the data through the **SPARQL query interface**.\n"
      ]
    },
    {
      "cell_type": "markdown",
      "id": "2e7d923a-41e8-40ac-b9bf-282b92aee9fd",
      "metadata": {
        "id": "2e7d923a-41e8-40ac-b9bf-282b92aee9fd"
      },
      "source": [
        "Follow the steps in [https://github.com/shijx12/KQAPro_Baselines/tree/master/SPARQL#how-to-install-virtuoso-backend](https://github.com/shijx12/KQAPro_Baselines/tree/master/SPARQL#how-to-install-virtuoso-backend) or [SPARQL/virtuoso-commands.md](./SPARQL/virtuoso-commands.md)"
      ]
    },
    {
      "cell_type": "markdown",
      "id": "8eaff19f",
      "metadata": {
        "id": "8eaff19f"
      },
      "source": [
        "### Loguru Configuration"
      ]
    },
    {
      "cell_type": "code",
      "execution_count": 18,
      "id": "cb20ca86",
      "metadata": {
        "colab": {
          "base_uri": "https://localhost:8080/"
        },
        "id": "cb20ca86",
        "outputId": "d48528ff-5a32-43ce-abdb-86df89afed75"
      },
      "outputs": [
        {
          "name": "stdout",
          "output_type": "stream",
          "text": [
            "Collecting loguru\n",
            "  Downloading loguru-0.7.3-py3-none-any.whl.metadata (22 kB)\n",
            "Downloading loguru-0.7.3-py3-none-any.whl (61 kB)\n",
            "\u001b[?25l   \u001b[90m━━━━━━━━━━━━━━━━━━━━━━━━━━━━━━━━━━━━━━━━\u001b[0m \u001b[32m0.0/61.6 kB\u001b[0m \u001b[31m?\u001b[0m eta \u001b[36m-:--:--\u001b[0m\r\u001b[2K   \u001b[90m━━━━━━━━━━━━━━━━━━━━━━━━━━━━━━━━━━━━━━━━\u001b[0m \u001b[32m61.6/61.6 kB\u001b[0m \u001b[31m4.3 MB/s\u001b[0m eta \u001b[36m0:00:00\u001b[0m\n",
            "\u001b[?25hInstalling collected packages: loguru\n",
            "Successfully installed loguru-0.7.3\n"
          ]
        }
      ],
      "source": [
        "%pip install loguru"
      ]
    },
    {
      "cell_type": "markdown",
      "id": "b96db1cf-2994-4b60-a454-5ae07852351a",
      "metadata": {
        "id": "b96db1cf-2994-4b60-a454-5ae07852351a"
      },
      "source": [
        "### Preprocess the training data"
      ]
    },
    {
      "cell_type": "code",
      "execution_count": 19,
      "id": "6ae20098-be27-484c-b327-6d189b5a199c",
      "metadata": {
        "colab": {
          "base_uri": "https://localhost:8080/"
        },
        "id": "6ae20098-be27-484c-b327-6d189b5a199c",
        "outputId": "d6ccddec-2029-46be-81bd-a0fca0f91006"
      },
      "outputs": [
        {
          "name": "stderr",
          "output_type": "stream",
          "text": [
            "[nltk_data] Downloading package punkt_tab to /root/nltk_data...\n",
            "[nltk_data]   Unzipping tokenizers/punkt_tab.zip.\n"
          ]
        },
        {
          "data": {
            "text/plain": [
              "True"
            ]
          },
          "execution_count": 19,
          "metadata": {},
          "output_type": "execute_result"
        }
      ],
      "source": [
        "import nltk\n",
        "nltk.download('punkt_tab')"
      ]
    },
    {
      "cell_type": "code",
      "execution_count": 20,
      "id": "7a62e93b-707c-44fc-a173-17209ed9eec9",
      "metadata": {
        "colab": {
          "base_uri": "https://localhost:8080/"
        },
        "id": "7a62e93b-707c-44fc-a173-17209ed9eec9",
        "outputId": "88a3ca45-57cc-4856-b9a5-dab73f999f61"
      },
      "outputs": [
        {
          "name": "stdout",
          "output_type": "stream",
          "text": [
            "Build kb vocabulary\n",
            "Load questions\n",
            "Build question vocabulary\n",
            "Dump vocab to processed_data/vocab.json\n",
            "word_token_to_idx:48554\n",
            "sparql_token_to_idx:45693\n",
            "answer_token_to_idx:79329\n",
            "Encode train set\n",
            "100% 94376/94376 [00:12<00:00, 7854.13it/s]\n",
            "shape of questions, sparqls, choices, answers:\n",
            "(94376, 85)\n",
            "(94376, 103)\n",
            "(94376, 10)\n",
            "(94376,)\n",
            "Encode val set\n",
            "100% 6797/6797 [00:00<00:00, 9745.32it/s]\n",
            "shape of questions, sparqls, choices, answers:\n",
            "(6797, 53)\n",
            "(6797, 95)\n",
            "(6797, 10)\n",
            "(6797,)\n",
            "Encode test set\n",
            "100% 5000/5000 [00:00<00:00, 9491.50it/s]\n",
            "shape of questions, sparqls, choices, answers:\n",
            "(5000, 61)\n",
            "(5000, 100)\n",
            "(5000, 10)\n",
            "(5000,)\n"
          ]
        }
      ],
      "source": [
        "!python3 -m SPARQL.preprocess --input_dir ./datasets --output_dir processed_data"
      ]
    },
    {
      "cell_type": "code",
      "execution_count": 21,
      "id": "51d143a9-8f7b-49b2-b68c-910775510b14",
      "metadata": {
        "colab": {
          "base_uri": "https://localhost:8080/"
        },
        "id": "51d143a9-8f7b-49b2-b68c-910775510b14",
        "outputId": "807ba829-a11b-4dac-bc31-3c3805d50851"
      },
      "outputs": [
        {
          "name": "stdout",
          "output_type": "stream",
          "text": [
            "datasets:\n",
            "kb.json  README.md  test.json  test.jsonl  train.json  train.jsonl  val.json  val.jsonl\n",
            "\n",
            "processed_data:\n",
            "test.pt  train.pt  val.pt  vocab.json\n"
          ]
        }
      ],
      "source": [
        "%ls datasets processed_data"
      ]
    },
    {
      "cell_type": "code",
      "execution_count": 22,
      "id": "e83026cf-86d4-4e82-9e2a-85c1cf8fde0a",
      "metadata": {
        "id": "e83026cf-86d4-4e82-9e2a-85c1cf8fde0a"
      },
      "outputs": [],
      "source": [
        "!cp ./datasets/kb.json processed_data/"
      ]
    },
    {
      "cell_type": "markdown",
      "id": "joW7EHistbSK",
      "metadata": {
        "id": "joW7EHistbSK"
      },
      "source": [
        "### Mount Google Drive (Colab)"
      ]
    },
    {
      "cell_type": "code",
      "execution_count": 28,
      "id": "6zAuHfHBtoTs",
      "metadata": {
        "colab": {
          "base_uri": "https://localhost:8080/"
        },
        "id": "6zAuHfHBtoTs",
        "outputId": "467ba078-1094-4e57-d8fe-2a8192d244f5"
      },
      "outputs": [
        {
          "name": "stdout",
          "output_type": "stream",
          "text": [
            "Mounted at /content/NLP_KBQA/sp-based/checkpoints\n"
          ]
        }
      ],
      "source": [
        "from google.colab import drive\n",
        "\n",
        "drive.mount('/content/NLP_KBQA/sp-based/checkpoints')"
      ]
    },
    {
      "cell_type": "markdown",
      "id": "1511c61b-a00a-4264-afce-a9b947171e9a",
      "metadata": {
        "id": "1511c61b-a00a-4264-afce-a9b947171e9a"
      },
      "source": [
        "### Train\n",
        "\n",
        "**BUG here!!!**:  \n",
        "\n",
        "There is a bug when the command below is executed with GPU, which can be fixed by editing the file:   \n",
        "`....../dist-packages/torch/nn/utils/rnn.py`  \n",
        "In Colab, the file path is:  \n",
        "`/usr/local/lib/python3.11/dist-packages/torch/nn/utils/rnn.py: line 338`\n",
        "\n",
        "Add `lengths = lengths.cpu()` before the line `data, batch_sizes = _VF._pack_padded_sequence(input, lengths, batch_first)`"
      ]
    },
    {
      "cell_type": "code",
      "execution_count": null,
      "id": "c109e198-cf8d-434c-9f43-a618f3279326",
      "metadata": {
        "colab": {
          "base_uri": "https://localhost:8080/"
        },
        "id": "c109e198-cf8d-434c-9f43-a618f3279326",
        "outputId": "ae8f4732-8f5a-424b-eb50-cd58f1bd2376"
      },
      "outputs": [
        {
          "name": "stdout",
          "output_type": "stream",
          "text": [
            "\u001b[32m2025-01-16 21:39:45.100\u001b[0m | \u001b[1mINFO    \u001b[0m | \u001b[36m__main__\u001b[0m:\u001b[36mmain\u001b[0m:\u001b[36m266\u001b[0m - \u001b[1minput_dir: processed_data/\u001b[0m\n",
            "\u001b[32m2025-01-16 21:39:45.101\u001b[0m | \u001b[1mINFO    \u001b[0m | \u001b[36m__main__\u001b[0m:\u001b[36mmain\u001b[0m:\u001b[36m266\u001b[0m - \u001b[1msave_dir: checkpoints/MyDrive/models\u001b[0m\n",
            "\u001b[32m2025-01-16 21:39:45.101\u001b[0m | \u001b[1mINFO    \u001b[0m | \u001b[36m__main__\u001b[0m:\u001b[36mmain\u001b[0m:\u001b[36m266\u001b[0m - \u001b[1mlr: 0.001\u001b[0m\n",
            "\u001b[32m2025-01-16 21:39:45.102\u001b[0m | \u001b[1mINFO    \u001b[0m | \u001b[36m__main__\u001b[0m:\u001b[36mmain\u001b[0m:\u001b[36m266\u001b[0m - \u001b[1mweight_decay: 1e-05\u001b[0m\n",
            "\u001b[32m2025-01-16 21:39:45.102\u001b[0m | \u001b[1mINFO    \u001b[0m | \u001b[36m__main__\u001b[0m:\u001b[36mmain\u001b[0m:\u001b[36m266\u001b[0m - \u001b[1mnum_epoch: 50\u001b[0m\n",
            "\u001b[32m2025-01-16 21:39:45.102\u001b[0m | \u001b[1mINFO    \u001b[0m | \u001b[36m__main__\u001b[0m:\u001b[36mmain\u001b[0m:\u001b[36m266\u001b[0m - \u001b[1mbatch_size: 64\u001b[0m\n",
            "\u001b[32m2025-01-16 21:39:45.102\u001b[0m | \u001b[1mINFO    \u001b[0m | \u001b[36m__main__\u001b[0m:\u001b[36mmain\u001b[0m:\u001b[36m266\u001b[0m - \u001b[1mseed: 666\u001b[0m\n",
            "\u001b[32m2025-01-16 21:39:45.102\u001b[0m | \u001b[1mINFO    \u001b[0m | \u001b[36m__main__\u001b[0m:\u001b[36mmain\u001b[0m:\u001b[36m266\u001b[0m - \u001b[1mdim_word: 300\u001b[0m\n",
            "\u001b[32m2025-01-16 21:39:45.103\u001b[0m | \u001b[1mINFO    \u001b[0m | \u001b[36m__main__\u001b[0m:\u001b[36mmain\u001b[0m:\u001b[36m266\u001b[0m - \u001b[1mdim_hidden: 1024\u001b[0m\n",
            "\u001b[32m2025-01-16 21:39:45.103\u001b[0m | \u001b[1mINFO    \u001b[0m | \u001b[36m__main__\u001b[0m:\u001b[36mmain\u001b[0m:\u001b[36m266\u001b[0m - \u001b[1mmax_dec_len: 100\u001b[0m\n",
            "\u001b[32m2025-01-16 21:39:45.103\u001b[0m | \u001b[1mINFO    \u001b[0m | \u001b[36m__main__\u001b[0m:\u001b[36mmain\u001b[0m:\u001b[36m266\u001b[0m - \u001b[1mresume_training: True\u001b[0m\n",
            "\u001b[32m2025-01-16 21:39:45.103\u001b[0m | \u001b[1mINFO    \u001b[0m | \u001b[36m__main__\u001b[0m:\u001b[36mmain\u001b[0m:\u001b[36m266\u001b[0m - \u001b[1mresume_epoch: 10\u001b[0m\n",
            "\u001b[32m2025-01-16 21:39:45.103\u001b[0m | \u001b[1mINFO    \u001b[0m | \u001b[36m__main__\u001b[0m:\u001b[36mmain\u001b[0m:\u001b[36m266\u001b[0m - \u001b[1mresume_model: model_epoch10.pt\u001b[0m\n",
            "\u001b[32m2025-01-16 21:39:45.103\u001b[0m | \u001b[1mINFO    \u001b[0m | \u001b[36m__main__\u001b[0m:\u001b[36mmain\u001b[0m:\u001b[36m266\u001b[0m - \u001b[1mvirtuoso_enabled: False\u001b[0m\n",
            "\u001b[32m2025-01-16 21:39:45.153\u001b[0m | \u001b[1mINFO    \u001b[0m | \u001b[36m__main__\u001b[0m:\u001b[36mtrain\u001b[0m:\u001b[36m144\u001b[0m - \u001b[1mUsing device: cuda\u001b[0m\n",
            "\u001b[32m2025-01-16 21:39:45.153\u001b[0m | \u001b[1mINFO    \u001b[0m | \u001b[36m__main__\u001b[0m:\u001b[36mtrain\u001b[0m:\u001b[36m146\u001b[0m - \u001b[1mCreate train_loader and val_loader.........\u001b[0m\n",
            "#vocab of word/sparql/answer: 48554/45693/79329\n",
            "\u001b[32m2025-01-16 21:39:50.716\u001b[0m | \u001b[1mINFO    \u001b[0m | \u001b[36m__main__\u001b[0m:\u001b[36mtrain\u001b[0m:\u001b[36m164\u001b[0m - \u001b[1mLoading model parameters trained with 10 epochs, from checkpoints/MyDrive/models/model_epoch10.pt\u001b[0m\n",
            "\u001b[32m2025-01-16 21:39:53.570\u001b[0m | \u001b[1mINFO    \u001b[0m | \u001b[36m__main__\u001b[0m:\u001b[36mtrain\u001b[0m:\u001b[36m166\u001b[0m - \u001b[1mModel loaded on cuda.\u001b[0m\n",
            "\u001b[32m2025-01-16 21:39:53.571\u001b[0m | \u001b[1mINFO    \u001b[0m | \u001b[36m__main__\u001b[0m:\u001b[36mtrain\u001b[0m:\u001b[36m172\u001b[0m - \u001b[1mSPARQLParser(\n",
            "  (word_embeddings): Embedding(48554, 300)\n",
            "  (word_dropout): Dropout(p=0.3, inplace=False)\n",
            "  (question_encoder): GRU(\n",
            "    (encoder): GRU(300, 1024, num_layers=2, batch_first=True, dropout=0.2)\n",
            "  )\n",
            "  (sparql_embeddings): Embedding(45693, 300)\n",
            "  (decoder): GRU(\n",
            "    (encoder): GRU(300, 1024, num_layers=2, batch_first=True, dropout=0.2)\n",
            "  )\n",
            "  (sparql_classifier): Sequential(\n",
            "    (0): Linear(in_features=1024, out_features=1024, bias=True)\n",
            "    (1): ReLU()\n",
            "    (2): Linear(in_features=1024, out_features=45693, bias=True)\n",
            "  )\n",
            "  (att_lin): Linear(in_features=1024, out_features=1024, bias=True)\n",
            ")\u001b[0m\n",
            "\u001b[32m2025-01-16 21:39:59.503\u001b[0m | \u001b[1mINFO    \u001b[0m | \u001b[36m__main__\u001b[0m:\u001b[36mtrain\u001b[0m:\u001b[36m183\u001b[0m - \u001b[1mStart training........\u001b[0m\n",
            "\u001b[32m2025-01-16 21:40:12.141\u001b[0m | \u001b[1mINFO    \u001b[0m | \u001b[36m__main__\u001b[0m:\u001b[36mtrain\u001b[0m:\u001b[36m197\u001b[0m - \u001b[1mepoch: 11  batch: 14/1475  loss: 0.1767 (0.2018)  lr: 0.001000\u001b[0m\n",
            "\u001b[32m2025-01-16 21:40:23.288\u001b[0m | \u001b[1mINFO    \u001b[0m | \u001b[36m__main__\u001b[0m:\u001b[36mtrain\u001b[0m:\u001b[36m197\u001b[0m - \u001b[1mepoch: 11  batch: 28/1475  loss: 0.2050 (0.2039)  lr: 0.001000\u001b[0m\n",
            "\u001b[32m2025-01-16 21:40:34.398\u001b[0m | \u001b[1mINFO    \u001b[0m | \u001b[36m__main__\u001b[0m:\u001b[36mtrain\u001b[0m:\u001b[36m197\u001b[0m - \u001b[1mepoch: 11  batch: 42/1475  loss: 0.2116 (0.2098)  lr: 0.001000\u001b[0m\n",
            "\u001b[32m2025-01-16 21:40:45.578\u001b[0m | \u001b[1mINFO    \u001b[0m | \u001b[36m__main__\u001b[0m:\u001b[36mtrain\u001b[0m:\u001b[36m197\u001b[0m - \u001b[1mepoch: 11  batch: 56/1475  loss: 0.2069 (0.2094)  lr: 0.001000\u001b[0m\n",
            "\u001b[32m2025-01-16 21:40:56.958\u001b[0m | \u001b[1mINFO    \u001b[0m | \u001b[36m__main__\u001b[0m:\u001b[36mtrain\u001b[0m:\u001b[36m197\u001b[0m - \u001b[1mepoch: 11  batch: 70/1475  loss: 0.2131 (0.2114)  lr: 0.001000\u001b[0m\n",
            "\u001b[32m2025-01-16 21:41:08.387\u001b[0m | \u001b[1mINFO    \u001b[0m | \u001b[36m__main__\u001b[0m:\u001b[36mtrain\u001b[0m:\u001b[36m197\u001b[0m - \u001b[1mepoch: 11  batch: 84/1475  loss: 0.2275 (0.2141)  lr: 0.001000\u001b[0m\n",
            "\u001b[32m2025-01-16 21:41:19.944\u001b[0m | \u001b[1mINFO    \u001b[0m | \u001b[36m__main__\u001b[0m:\u001b[36mtrain\u001b[0m:\u001b[36m197\u001b[0m - \u001b[1mepoch: 11  batch: 98/1475  loss: 0.2224 (0.2154)  lr: 0.001000\u001b[0m\n",
            "\u001b[32m2025-01-16 21:41:31.528\u001b[0m | \u001b[1mINFO    \u001b[0m | \u001b[36m__main__\u001b[0m:\u001b[36mtrain\u001b[0m:\u001b[36m197\u001b[0m - \u001b[1mepoch: 11  batch: 112/1475  loss: 0.2249 (0.2164)  lr: 0.001000\u001b[0m\n",
            "\u001b[32m2025-01-16 21:41:43.192\u001b[0m | \u001b[1mINFO    \u001b[0m | \u001b[36m__main__\u001b[0m:\u001b[36mtrain\u001b[0m:\u001b[36m197\u001b[0m - \u001b[1mepoch: 11  batch: 126/1475  loss: 0.2144 (0.2163)  lr: 0.001000\u001b[0m\n",
            "\u001b[32m2025-01-16 21:41:55.008\u001b[0m | \u001b[1mINFO    \u001b[0m | \u001b[36m__main__\u001b[0m:\u001b[36mtrain\u001b[0m:\u001b[36m197\u001b[0m - \u001b[1mepoch: 11  batch: 140/1475  loss: 0.2176 (0.2164)  lr: 0.001000\u001b[0m\n",
            "\u001b[32m2025-01-16 21:42:06.928\u001b[0m | \u001b[1mINFO    \u001b[0m | \u001b[36m__main__\u001b[0m:\u001b[36mtrain\u001b[0m:\u001b[36m197\u001b[0m - \u001b[1mepoch: 11  batch: 154/1475  loss: 0.2033 (0.2156)  lr: 0.001000\u001b[0m\n",
            "\u001b[32m2025-01-16 21:42:19.036\u001b[0m | \u001b[1mINFO    \u001b[0m | \u001b[36m__main__\u001b[0m:\u001b[36mtrain\u001b[0m:\u001b[36m197\u001b[0m - \u001b[1mepoch: 11  batch: 168/1475  loss: 0.2097 (0.2156)  lr: 0.001000\u001b[0m\n",
            "\u001b[32m2025-01-16 21:42:31.272\u001b[0m | \u001b[1mINFO    \u001b[0m | \u001b[36m__main__\u001b[0m:\u001b[36mtrain\u001b[0m:\u001b[36m197\u001b[0m - \u001b[1mepoch: 11  batch: 182/1475  loss: 0.2197 (0.2157)  lr: 0.001000\u001b[0m\n",
            "\u001b[32m2025-01-16 21:42:43.711\u001b[0m | \u001b[1mINFO    \u001b[0m | \u001b[36m__main__\u001b[0m:\u001b[36mtrain\u001b[0m:\u001b[36m197\u001b[0m - \u001b[1mepoch: 11  batch: 196/1475  loss: 0.2197 (0.2157)  lr: 0.001000\u001b[0m\n",
            "\u001b[32m2025-01-16 21:42:56.072\u001b[0m | \u001b[1mINFO    \u001b[0m | \u001b[36m__main__\u001b[0m:\u001b[36mtrain\u001b[0m:\u001b[36m197\u001b[0m - \u001b[1mepoch: 11  batch: 210/1475  loss: 0.2144 (0.2154)  lr: 0.001000\u001b[0m\n",
            "\u001b[32m2025-01-16 21:43:08.297\u001b[0m | \u001b[1mINFO    \u001b[0m | \u001b[36m__main__\u001b[0m:\u001b[36mtrain\u001b[0m:\u001b[36m197\u001b[0m - \u001b[1mepoch: 11  batch: 224/1475  loss: 0.2144 (0.2156)  lr: 0.001000\u001b[0m\n",
            "\u001b[32m2025-01-16 21:43:20.479\u001b[0m | \u001b[1mINFO    \u001b[0m | \u001b[36m__main__\u001b[0m:\u001b[36mtrain\u001b[0m:\u001b[36m197\u001b[0m - \u001b[1mepoch: 11  batch: 238/1475  loss: 0.2140 (0.2155)  lr: 0.001000\u001b[0m\n",
            "\u001b[32m2025-01-16 21:43:32.663\u001b[0m | \u001b[1mINFO    \u001b[0m | \u001b[36m__main__\u001b[0m:\u001b[36mtrain\u001b[0m:\u001b[36m197\u001b[0m - \u001b[1mepoch: 11  batch: 252/1475  loss: 0.2092 (0.2152)  lr: 0.001000\u001b[0m\n",
            "\u001b[32m2025-01-16 21:43:44.868\u001b[0m | \u001b[1mINFO    \u001b[0m | \u001b[36m__main__\u001b[0m:\u001b[36mtrain\u001b[0m:\u001b[36m197\u001b[0m - \u001b[1mepoch: 11  batch: 266/1475  loss: 0.2092 (0.2151)  lr: 0.001000\u001b[0m\n",
            "\u001b[32m2025-01-16 21:43:57.111\u001b[0m | \u001b[1mINFO    \u001b[0m | \u001b[36m__main__\u001b[0m:\u001b[36mtrain\u001b[0m:\u001b[36m197\u001b[0m - \u001b[1mepoch: 11  batch: 280/1475  loss: 0.2057 (0.2147)  lr: 0.001000\u001b[0m\n",
            "\u001b[32m2025-01-16 21:44:09.348\u001b[0m | \u001b[1mINFO    \u001b[0m | \u001b[36m__main__\u001b[0m:\u001b[36mtrain\u001b[0m:\u001b[36m197\u001b[0m - \u001b[1mepoch: 11  batch: 294/1475  loss: 0.2042 (0.2142)  lr: 0.001000\u001b[0m\n",
            "\u001b[32m2025-01-16 21:44:21.585\u001b[0m | \u001b[1mINFO    \u001b[0m | \u001b[36m__main__\u001b[0m:\u001b[36mtrain\u001b[0m:\u001b[36m197\u001b[0m - \u001b[1mepoch: 11  batch: 308/1475  loss: 0.2074 (0.2138)  lr: 0.001000\u001b[0m\n",
            "\u001b[32m2025-01-16 21:44:33.722\u001b[0m | \u001b[1mINFO    \u001b[0m | \u001b[36m__main__\u001b[0m:\u001b[36mtrain\u001b[0m:\u001b[36m197\u001b[0m - \u001b[1mepoch: 11  batch: 322/1475  loss: 0.2056 (0.2136)  lr: 0.001000\u001b[0m\n",
            "\u001b[32m2025-01-16 21:44:45.898\u001b[0m | \u001b[1mINFO    \u001b[0m | \u001b[36m__main__\u001b[0m:\u001b[36mtrain\u001b[0m:\u001b[36m197\u001b[0m - \u001b[1mepoch: 11  batch: 336/1475  loss: 0.2108 (0.2135)  lr: 0.001000\u001b[0m\n",
            "\u001b[32m2025-01-16 21:44:58.092\u001b[0m | \u001b[1mINFO    \u001b[0m | \u001b[36m__main__\u001b[0m:\u001b[36mtrain\u001b[0m:\u001b[36m197\u001b[0m - \u001b[1mepoch: 11  batch: 350/1475  loss: 0.2074 (0.2134)  lr: 0.001000\u001b[0m\n",
            "\u001b[32m2025-01-16 21:45:10.284\u001b[0m | \u001b[1mINFO    \u001b[0m | \u001b[36m__main__\u001b[0m:\u001b[36mtrain\u001b[0m:\u001b[36m197\u001b[0m - \u001b[1mepoch: 11  batch: 364/1475  loss: 0.2029 (0.2128)  lr: 0.001000\u001b[0m\n",
            "\u001b[32m2025-01-16 21:45:22.471\u001b[0m | \u001b[1mINFO    \u001b[0m | \u001b[36m__main__\u001b[0m:\u001b[36mtrain\u001b[0m:\u001b[36m197\u001b[0m - \u001b[1mepoch: 11  batch: 378/1475  loss: 0.2028 (0.2126)  lr: 0.001000\u001b[0m\n",
            "\u001b[32m2025-01-16 21:45:34.693\u001b[0m | \u001b[1mINFO    \u001b[0m | \u001b[36m__main__\u001b[0m:\u001b[36mtrain\u001b[0m:\u001b[36m197\u001b[0m - \u001b[1mepoch: 11  batch: 392/1475  loss: 0.1990 (0.2122)  lr: 0.001000\u001b[0m\n",
            "\u001b[32m2025-01-16 21:45:46.958\u001b[0m | \u001b[1mINFO    \u001b[0m | \u001b[36m__main__\u001b[0m:\u001b[36mtrain\u001b[0m:\u001b[36m197\u001b[0m - \u001b[1mepoch: 11  batch: 406/1475  loss: 0.2002 (0.2118)  lr: 0.001000\u001b[0m\n",
            "\u001b[32m2025-01-16 21:45:59.165\u001b[0m | \u001b[1mINFO    \u001b[0m | \u001b[36m__main__\u001b[0m:\u001b[36mtrain\u001b[0m:\u001b[36m197\u001b[0m - \u001b[1mepoch: 11  batch: 420/1475  loss: 0.1995 (0.2115)  lr: 0.001000\u001b[0m\n",
            "\u001b[32m2025-01-16 21:46:11.385\u001b[0m | \u001b[1mINFO    \u001b[0m | \u001b[36m__main__\u001b[0m:\u001b[36mtrain\u001b[0m:\u001b[36m197\u001b[0m - \u001b[1mepoch: 11  batch: 434/1475  loss: 0.1992 (0.2111)  lr: 0.001000\u001b[0m\n",
            "\u001b[32m2025-01-16 21:46:23.621\u001b[0m | \u001b[1mINFO    \u001b[0m | \u001b[36m__main__\u001b[0m:\u001b[36mtrain\u001b[0m:\u001b[36m197\u001b[0m - \u001b[1mepoch: 11  batch: 448/1475  loss: 0.1945 (0.2107)  lr: 0.001000\u001b[0m\n",
            "\u001b[32m2025-01-16 21:46:35.797\u001b[0m | \u001b[1mINFO    \u001b[0m | \u001b[36m__main__\u001b[0m:\u001b[36mtrain\u001b[0m:\u001b[36m197\u001b[0m - \u001b[1mepoch: 11  batch: 462/1475  loss: 0.1938 (0.2103)  lr: 0.001000\u001b[0m\n",
            "\u001b[32m2025-01-16 21:46:48.017\u001b[0m | \u001b[1mINFO    \u001b[0m | \u001b[36m__main__\u001b[0m:\u001b[36mtrain\u001b[0m:\u001b[36m197\u001b[0m - \u001b[1mepoch: 11  batch: 476/1475  loss: 0.2038 (0.2102)  lr: 0.001000\u001b[0m\n",
            "\u001b[32m2025-01-16 21:47:00.270\u001b[0m | \u001b[1mINFO    \u001b[0m | \u001b[36m__main__\u001b[0m:\u001b[36mtrain\u001b[0m:\u001b[36m197\u001b[0m - \u001b[1mepoch: 11  batch: 490/1475  loss: 0.2001 (0.2098)  lr: 0.001000\u001b[0m\n",
            "\u001b[32m2025-01-16 21:47:12.410\u001b[0m | \u001b[1mINFO    \u001b[0m | \u001b[36m__main__\u001b[0m:\u001b[36mtrain\u001b[0m:\u001b[36m197\u001b[0m - \u001b[1mepoch: 11  batch: 504/1475  loss: 0.2045 (0.2096)  lr: 0.001000\u001b[0m\n",
            "\u001b[32m2025-01-16 21:47:24.718\u001b[0m | \u001b[1mINFO    \u001b[0m | \u001b[36m__main__\u001b[0m:\u001b[36mtrain\u001b[0m:\u001b[36m197\u001b[0m - \u001b[1mepoch: 11  batch: 518/1475  loss: 0.1964 (0.2094)  lr: 0.001000\u001b[0m\n",
            "\u001b[32m2025-01-16 21:47:36.916\u001b[0m | \u001b[1mINFO    \u001b[0m | \u001b[36m__main__\u001b[0m:\u001b[36mtrain\u001b[0m:\u001b[36m197\u001b[0m - \u001b[1mepoch: 11  batch: 532/1475  loss: 0.1969 (0.2093)  lr: 0.001000\u001b[0m\n",
            "\u001b[32m2025-01-16 21:47:49.099\u001b[0m | \u001b[1mINFO    \u001b[0m | \u001b[36m__main__\u001b[0m:\u001b[36mtrain\u001b[0m:\u001b[36m197\u001b[0m - \u001b[1mepoch: 11  batch: 546/1475  loss: 0.1969 (0.2089)  lr: 0.001000\u001b[0m\n",
            "\u001b[32m2025-01-16 21:48:01.298\u001b[0m | \u001b[1mINFO    \u001b[0m | \u001b[36m__main__\u001b[0m:\u001b[36mtrain\u001b[0m:\u001b[36m197\u001b[0m - \u001b[1mepoch: 11  batch: 560/1475  loss: 0.1928 (0.2086)  lr: 0.001000\u001b[0m\n",
            "\u001b[32m2025-01-16 21:48:13.506\u001b[0m | \u001b[1mINFO    \u001b[0m | \u001b[36m__main__\u001b[0m:\u001b[36mtrain\u001b[0m:\u001b[36m197\u001b[0m - \u001b[1mepoch: 11  batch: 574/1475  loss: 0.1903 (0.2082)  lr: 0.001000\u001b[0m\n",
            "\u001b[32m2025-01-16 21:48:25.617\u001b[0m | \u001b[1mINFO    \u001b[0m | \u001b[36m__main__\u001b[0m:\u001b[36mtrain\u001b[0m:\u001b[36m197\u001b[0m - \u001b[1mepoch: 11  batch: 588/1475  loss: 0.1903 (0.2078)  lr: 0.001000\u001b[0m\n",
            "\u001b[32m2025-01-16 21:48:37.799\u001b[0m | \u001b[1mINFO    \u001b[0m | \u001b[36m__main__\u001b[0m:\u001b[36mtrain\u001b[0m:\u001b[36m197\u001b[0m - \u001b[1mepoch: 11  batch: 602/1475  loss: 0.1942 (0.2074)  lr: 0.001000\u001b[0m\n",
            "\u001b[32m2025-01-16 21:48:49.995\u001b[0m | \u001b[1mINFO    \u001b[0m | \u001b[36m__main__\u001b[0m:\u001b[36mtrain\u001b[0m:\u001b[36m197\u001b[0m - \u001b[1mepoch: 11  batch: 616/1475  loss: 0.1912 (0.2070)  lr: 0.001000\u001b[0m\n",
            "\u001b[32m2025-01-16 21:49:02.160\u001b[0m | \u001b[1mINFO    \u001b[0m | \u001b[36m__main__\u001b[0m:\u001b[36mtrain\u001b[0m:\u001b[36m197\u001b[0m - \u001b[1mepoch: 11  batch: 630/1475  loss: 0.1867 (0.2065)  lr: 0.001000\u001b[0m\n",
            "\u001b[32m2025-01-16 21:49:14.366\u001b[0m | \u001b[1mINFO    \u001b[0m | \u001b[36m__main__\u001b[0m:\u001b[36mtrain\u001b[0m:\u001b[36m197\u001b[0m - \u001b[1mepoch: 11  batch: 644/1475  loss: 0.1881 (0.2063)  lr: 0.001000\u001b[0m\n",
            "\u001b[32m2025-01-16 21:49:26.547\u001b[0m | \u001b[1mINFO    \u001b[0m | \u001b[36m__main__\u001b[0m:\u001b[36mtrain\u001b[0m:\u001b[36m197\u001b[0m - \u001b[1mepoch: 11  batch: 658/1475  loss: 0.1871 (0.2058)  lr: 0.001000\u001b[0m\n",
            "\u001b[32m2025-01-16 21:49:38.759\u001b[0m | \u001b[1mINFO    \u001b[0m | \u001b[36m__main__\u001b[0m:\u001b[36mtrain\u001b[0m:\u001b[36m197\u001b[0m - \u001b[1mepoch: 11  batch: 672/1475  loss: 0.1846 (0.2055)  lr: 0.001000\u001b[0m\n",
            "\u001b[32m2025-01-16 21:49:50.934\u001b[0m | \u001b[1mINFO    \u001b[0m | \u001b[36m__main__\u001b[0m:\u001b[36mtrain\u001b[0m:\u001b[36m197\u001b[0m - \u001b[1mepoch: 11  batch: 686/1475  loss: 0.1969 (0.2054)  lr: 0.001000\u001b[0m\n",
            "\u001b[32m2025-01-16 21:50:03.194\u001b[0m | \u001b[1mINFO    \u001b[0m | \u001b[36m__main__\u001b[0m:\u001b[36mtrain\u001b[0m:\u001b[36m197\u001b[0m - \u001b[1mepoch: 11  batch: 700/1475  loss: 0.1970 (0.2051)  lr: 0.001000\u001b[0m\n",
            "\u001b[32m2025-01-16 21:50:15.358\u001b[0m | \u001b[1mINFO    \u001b[0m | \u001b[36m__main__\u001b[0m:\u001b[36mtrain\u001b[0m:\u001b[36m197\u001b[0m - \u001b[1mepoch: 11  batch: 714/1475  loss: 0.1850 (0.2047)  lr: 0.001000\u001b[0m\n",
            "\u001b[32m2025-01-16 21:50:27.663\u001b[0m | \u001b[1mINFO    \u001b[0m | \u001b[36m__main__\u001b[0m:\u001b[36mtrain\u001b[0m:\u001b[36m197\u001b[0m - \u001b[1mepoch: 11  batch: 728/1475  loss: 0.1923 (0.2046)  lr: 0.001000\u001b[0m\n",
            "\u001b[32m2025-01-16 21:50:39.885\u001b[0m | \u001b[1mINFO    \u001b[0m | \u001b[36m__main__\u001b[0m:\u001b[36mtrain\u001b[0m:\u001b[36m197\u001b[0m - \u001b[1mepoch: 11  batch: 742/1475  loss: 0.1936 (0.2044)  lr: 0.001000\u001b[0m\n",
            "\u001b[32m2025-01-16 21:50:52.090\u001b[0m | \u001b[1mINFO    \u001b[0m | \u001b[36m__main__\u001b[0m:\u001b[36mtrain\u001b[0m:\u001b[36m197\u001b[0m - \u001b[1mepoch: 11  batch: 756/1475  loss: 0.1852 (0.2042)  lr: 0.001000\u001b[0m\n",
            "\u001b[32m2025-01-16 21:51:04.290\u001b[0m | \u001b[1mINFO    \u001b[0m | \u001b[36m__main__\u001b[0m:\u001b[36mtrain\u001b[0m:\u001b[36m197\u001b[0m - \u001b[1mepoch: 11  batch: 770/1475  loss: 0.1852 (0.2039)  lr: 0.001000\u001b[0m\n",
            "\u001b[32m2025-01-16 21:51:16.474\u001b[0m | \u001b[1mINFO    \u001b[0m | \u001b[36m__main__\u001b[0m:\u001b[36mtrain\u001b[0m:\u001b[36m197\u001b[0m - \u001b[1mepoch: 11  batch: 784/1475  loss: 0.1836 (0.2035)  lr: 0.001000\u001b[0m\n",
            "\u001b[32m2025-01-16 21:51:28.648\u001b[0m | \u001b[1mINFO    \u001b[0m | \u001b[36m__main__\u001b[0m:\u001b[36mtrain\u001b[0m:\u001b[36m197\u001b[0m - \u001b[1mepoch: 11  batch: 798/1475  loss: 0.1845 (0.2032)  lr: 0.001000\u001b[0m\n",
            "\u001b[32m2025-01-16 21:51:40.797\u001b[0m | \u001b[1mINFO    \u001b[0m | \u001b[36m__main__\u001b[0m:\u001b[36mtrain\u001b[0m:\u001b[36m197\u001b[0m - \u001b[1mepoch: 11  batch: 812/1475  loss: 0.1811 (0.2029)  lr: 0.001000\u001b[0m\n",
            "\u001b[32m2025-01-16 21:51:52.922\u001b[0m | \u001b[1mINFO    \u001b[0m | \u001b[36m__main__\u001b[0m:\u001b[36mtrain\u001b[0m:\u001b[36m197\u001b[0m - \u001b[1mepoch: 11  batch: 826/1475  loss: 0.1824 (0.2025)  lr: 0.001000\u001b[0m\n",
            "\u001b[32m2025-01-16 21:52:05.103\u001b[0m | \u001b[1mINFO    \u001b[0m | \u001b[36m__main__\u001b[0m:\u001b[36mtrain\u001b[0m:\u001b[36m197\u001b[0m - \u001b[1mepoch: 11  batch: 840/1475  loss: 0.1857 (0.2023)  lr: 0.001000\u001b[0m\n",
            "\u001b[32m2025-01-16 21:52:17.177\u001b[0m | \u001b[1mINFO    \u001b[0m | \u001b[36m__main__\u001b[0m:\u001b[36mtrain\u001b[0m:\u001b[36m197\u001b[0m - \u001b[1mepoch: 11  batch: 854/1475  loss: 0.1881 (0.2021)  lr: 0.001000\u001b[0m\n",
            "\u001b[32m2025-01-16 21:52:29.346\u001b[0m | \u001b[1mINFO    \u001b[0m | \u001b[36m__main__\u001b[0m:\u001b[36mtrain\u001b[0m:\u001b[36m197\u001b[0m - \u001b[1mepoch: 11  batch: 868/1475  loss: 0.1851 (0.2018)  lr: 0.001000\u001b[0m\n",
            "\u001b[32m2025-01-16 21:52:41.573\u001b[0m | \u001b[1mINFO    \u001b[0m | \u001b[36m__main__\u001b[0m:\u001b[36mtrain\u001b[0m:\u001b[36m197\u001b[0m - \u001b[1mepoch: 11  batch: 882/1475  loss: 0.1807 (0.2015)  lr: 0.001000\u001b[0m\n",
            "\u001b[32m2025-01-16 21:52:53.756\u001b[0m | \u001b[1mINFO    \u001b[0m | \u001b[36m__main__\u001b[0m:\u001b[36mtrain\u001b[0m:\u001b[36m197\u001b[0m - \u001b[1mepoch: 11  batch: 896/1475  loss: 0.1846 (0.2013)  lr: 0.001000\u001b[0m\n",
            "\u001b[32m2025-01-16 21:53:05.923\u001b[0m | \u001b[1mINFO    \u001b[0m | \u001b[36m__main__\u001b[0m:\u001b[36mtrain\u001b[0m:\u001b[36m197\u001b[0m - \u001b[1mepoch: 11  batch: 910/1475  loss: 0.1828 (0.2010)  lr: 0.001000\u001b[0m\n",
            "\u001b[32m2025-01-16 21:53:18.116\u001b[0m | \u001b[1mINFO    \u001b[0m | \u001b[36m__main__\u001b[0m:\u001b[36mtrain\u001b[0m:\u001b[36m197\u001b[0m - \u001b[1mepoch: 11  batch: 924/1475  loss: 0.1831 (0.2008)  lr: 0.001000\u001b[0m\n",
            "\u001b[32m2025-01-16 21:53:30.262\u001b[0m | \u001b[1mINFO    \u001b[0m | \u001b[36m__main__\u001b[0m:\u001b[36mtrain\u001b[0m:\u001b[36m197\u001b[0m - \u001b[1mepoch: 11  batch: 938/1475  loss: 0.1779 (0.2005)  lr: 0.001000\u001b[0m\n",
            "\u001b[32m2025-01-16 21:53:42.476\u001b[0m | \u001b[1mINFO    \u001b[0m | \u001b[36m__main__\u001b[0m:\u001b[36mtrain\u001b[0m:\u001b[36m197\u001b[0m - \u001b[1mepoch: 11  batch: 952/1475  loss: 0.1767 (0.2002)  lr: 0.001000\u001b[0m\n",
            "\u001b[32m2025-01-16 21:53:54.621\u001b[0m | \u001b[1mINFO    \u001b[0m | \u001b[36m__main__\u001b[0m:\u001b[36mtrain\u001b[0m:\u001b[36m197\u001b[0m - \u001b[1mepoch: 11  batch: 966/1475  loss: 0.1798 (0.1999)  lr: 0.001000\u001b[0m\n",
            "\u001b[32m2025-01-16 21:54:06.774\u001b[0m | \u001b[1mINFO    \u001b[0m | \u001b[36m__main__\u001b[0m:\u001b[36mtrain\u001b[0m:\u001b[36m197\u001b[0m - \u001b[1mepoch: 11  batch: 980/1475  loss: 0.1792 (0.1997)  lr: 0.001000\u001b[0m\n",
            "\u001b[32m2025-01-16 21:54:18.960\u001b[0m | \u001b[1mINFO    \u001b[0m | \u001b[36m__main__\u001b[0m:\u001b[36mtrain\u001b[0m:\u001b[36m197\u001b[0m - \u001b[1mepoch: 11  batch: 994/1475  loss: 0.1869 (0.1996)  lr: 0.001000\u001b[0m\n",
            "\u001b[32m2025-01-16 21:54:31.168\u001b[0m | \u001b[1mINFO    \u001b[0m | \u001b[36m__main__\u001b[0m:\u001b[36mtrain\u001b[0m:\u001b[36m197\u001b[0m - \u001b[1mepoch: 11  batch: 1008/1475  loss: 0.1829 (0.1994)  lr: 0.001000\u001b[0m\n",
            "\u001b[32m2025-01-16 21:54:43.339\u001b[0m | \u001b[1mINFO    \u001b[0m | \u001b[36m__main__\u001b[0m:\u001b[36mtrain\u001b[0m:\u001b[36m197\u001b[0m - \u001b[1mepoch: 11  batch: 1022/1475  loss: 0.1812 (0.1991)  lr: 0.001000\u001b[0m\n",
            "\u001b[32m2025-01-16 21:54:55.461\u001b[0m | \u001b[1mINFO    \u001b[0m | \u001b[36m__main__\u001b[0m:\u001b[36mtrain\u001b[0m:\u001b[36m197\u001b[0m - \u001b[1mepoch: 11  batch: 1036/1475  loss: 0.1812 (0.1989)  lr: 0.001000\u001b[0m\n",
            "\u001b[32m2025-01-16 21:55:07.573\u001b[0m | \u001b[1mINFO    \u001b[0m | \u001b[36m__main__\u001b[0m:\u001b[36mtrain\u001b[0m:\u001b[36m197\u001b[0m - \u001b[1mepoch: 11  batch: 1050/1475  loss: 0.1791 (0.1986)  lr: 0.001000\u001b[0m\n",
            "\u001b[32m2025-01-16 21:55:19.774\u001b[0m | \u001b[1mINFO    \u001b[0m | \u001b[36m__main__\u001b[0m:\u001b[36mtrain\u001b[0m:\u001b[36m197\u001b[0m - \u001b[1mepoch: 11  batch: 1064/1475  loss: 0.1782 (0.1984)  lr: 0.001000\u001b[0m\n",
            "\u001b[32m2025-01-16 21:55:31.901\u001b[0m | \u001b[1mINFO    \u001b[0m | \u001b[36m__main__\u001b[0m:\u001b[36mtrain\u001b[0m:\u001b[36m197\u001b[0m - \u001b[1mepoch: 11  batch: 1078/1475  loss: 0.1786 (0.1982)  lr: 0.001000\u001b[0m\n",
            "\u001b[32m2025-01-16 21:55:44.066\u001b[0m | \u001b[1mINFO    \u001b[0m | \u001b[36m__main__\u001b[0m:\u001b[36mtrain\u001b[0m:\u001b[36m197\u001b[0m - \u001b[1mepoch: 11  batch: 1092/1475  loss: 0.1785 (0.1980)  lr: 0.001000\u001b[0m\n",
            "\u001b[32m2025-01-16 21:55:56.231\u001b[0m | \u001b[1mINFO    \u001b[0m | \u001b[36m__main__\u001b[0m:\u001b[36mtrain\u001b[0m:\u001b[36m197\u001b[0m - \u001b[1mepoch: 11  batch: 1106/1475  loss: 0.1809 (0.1978)  lr: 0.001000\u001b[0m\n",
            "\u001b[32m2025-01-16 21:56:08.421\u001b[0m | \u001b[1mINFO    \u001b[0m | \u001b[36m__main__\u001b[0m:\u001b[36mtrain\u001b[0m:\u001b[36m197\u001b[0m - \u001b[1mepoch: 11  batch: 1120/1475  loss: 0.1756 (0.1976)  lr: 0.001000\u001b[0m\n",
            "\u001b[32m2025-01-16 21:56:20.597\u001b[0m | \u001b[1mINFO    \u001b[0m | \u001b[36m__main__\u001b[0m:\u001b[36mtrain\u001b[0m:\u001b[36m197\u001b[0m - \u001b[1mepoch: 11  batch: 1134/1475  loss: 0.1822 (0.1974)  lr: 0.001000\u001b[0m\n",
            "\u001b[32m2025-01-16 21:56:32.805\u001b[0m | \u001b[1mINFO    \u001b[0m | \u001b[36m__main__\u001b[0m:\u001b[36mtrain\u001b[0m:\u001b[36m197\u001b[0m - \u001b[1mepoch: 11  batch: 1148/1475  loss: 0.1809 (0.1972)  lr: 0.001000\u001b[0m\n",
            "\u001b[32m2025-01-16 21:56:45.047\u001b[0m | \u001b[1mINFO    \u001b[0m | \u001b[36m__main__\u001b[0m:\u001b[36mtrain\u001b[0m:\u001b[36m197\u001b[0m - \u001b[1mepoch: 11  batch: 1162/1475  loss: 0.1799 (0.1970)  lr: 0.001000\u001b[0m\n",
            "\u001b[32m2025-01-16 21:56:57.186\u001b[0m | \u001b[1mINFO    \u001b[0m | \u001b[36m__main__\u001b[0m:\u001b[36mtrain\u001b[0m:\u001b[36m197\u001b[0m - \u001b[1mepoch: 11  batch: 1176/1475  loss: 0.1777 (0.1967)  lr: 0.001000\u001b[0m\n",
            "\u001b[32m2025-01-16 21:57:09.398\u001b[0m | \u001b[1mINFO    \u001b[0m | \u001b[36m__main__\u001b[0m:\u001b[36mtrain\u001b[0m:\u001b[36m197\u001b[0m - \u001b[1mepoch: 11  batch: 1190/1475  loss: 0.1752 (0.1964)  lr: 0.001000\u001b[0m\n",
            "\u001b[32m2025-01-16 21:57:21.591\u001b[0m | \u001b[1mINFO    \u001b[0m | \u001b[36m__main__\u001b[0m:\u001b[36mtrain\u001b[0m:\u001b[36m197\u001b[0m - \u001b[1mepoch: 11  batch: 1204/1475  loss: 0.1772 (0.1962)  lr: 0.001000\u001b[0m\n",
            "\u001b[32m2025-01-16 21:57:33.792\u001b[0m | \u001b[1mINFO    \u001b[0m | \u001b[36m__main__\u001b[0m:\u001b[36mtrain\u001b[0m:\u001b[36m197\u001b[0m - \u001b[1mepoch: 11  batch: 1218/1475  loss: 0.1766 (0.1961)  lr: 0.001000\u001b[0m\n",
            "\u001b[32m2025-01-16 21:57:46.067\u001b[0m | \u001b[1mINFO    \u001b[0m | \u001b[36m__main__\u001b[0m:\u001b[36mtrain\u001b[0m:\u001b[36m197\u001b[0m - \u001b[1mepoch: 11  batch: 1232/1475  loss: 0.1772 (0.1959)  lr: 0.001000\u001b[0m\n",
            "\u001b[32m2025-01-16 21:57:58.251\u001b[0m | \u001b[1mINFO    \u001b[0m | \u001b[36m__main__\u001b[0m:\u001b[36mtrain\u001b[0m:\u001b[36m197\u001b[0m - \u001b[1mepoch: 11  batch: 1246/1475  loss: 0.1765 (0.1957)  lr: 0.001000\u001b[0m\n",
            "\u001b[32m2025-01-16 21:58:10.506\u001b[0m | \u001b[1mINFO    \u001b[0m | \u001b[36m__main__\u001b[0m:\u001b[36mtrain\u001b[0m:\u001b[36m197\u001b[0m - \u001b[1mepoch: 11  batch: 1260/1475  loss: 0.1760 (0.1955)  lr: 0.001000\u001b[0m\n",
            "\u001b[32m2025-01-16 21:58:22.694\u001b[0m | \u001b[1mINFO    \u001b[0m | \u001b[36m__main__\u001b[0m:\u001b[36mtrain\u001b[0m:\u001b[36m197\u001b[0m - \u001b[1mepoch: 11  batch: 1274/1475  loss: 0.1715 (0.1953)  lr: 0.001000\u001b[0m\n",
            "\u001b[32m2025-01-16 21:58:34.947\u001b[0m | \u001b[1mINFO    \u001b[0m | \u001b[36m__main__\u001b[0m:\u001b[36mtrain\u001b[0m:\u001b[36m197\u001b[0m - \u001b[1mepoch: 11  batch: 1288/1475  loss: 0.1755 (0.1951)  lr: 0.001000\u001b[0m\n",
            "\u001b[32m2025-01-16 21:58:47.139\u001b[0m | \u001b[1mINFO    \u001b[0m | \u001b[36m__main__\u001b[0m:\u001b[36mtrain\u001b[0m:\u001b[36m197\u001b[0m - \u001b[1mepoch: 11  batch: 1302/1475  loss: 0.1812 (0.1950)  lr: 0.001000\u001b[0m\n",
            "\u001b[32m2025-01-16 21:58:59.299\u001b[0m | \u001b[1mINFO    \u001b[0m | \u001b[36m__main__\u001b[0m:\u001b[36mtrain\u001b[0m:\u001b[36m197\u001b[0m - \u001b[1mepoch: 11  batch: 1316/1475  loss: 0.1748 (0.1947)  lr: 0.001000\u001b[0m\n",
            "\u001b[32m2025-01-16 21:59:11.507\u001b[0m | \u001b[1mINFO    \u001b[0m | \u001b[36m__main__\u001b[0m:\u001b[36mtrain\u001b[0m:\u001b[36m197\u001b[0m - \u001b[1mepoch: 11  batch: 1330/1475  loss: 0.1709 (0.1944)  lr: 0.001000\u001b[0m\n",
            "\u001b[32m2025-01-16 21:59:23.756\u001b[0m | \u001b[1mINFO    \u001b[0m | \u001b[36m__main__\u001b[0m:\u001b[36mtrain\u001b[0m:\u001b[36m197\u001b[0m - \u001b[1mepoch: 11  batch: 1344/1475  loss: 0.1736 (0.1943)  lr: 0.001000\u001b[0m\n",
            "\u001b[32m2025-01-16 21:59:36.011\u001b[0m | \u001b[1mINFO    \u001b[0m | \u001b[36m__main__\u001b[0m:\u001b[36mtrain\u001b[0m:\u001b[36m197\u001b[0m - \u001b[1mepoch: 11  batch: 1358/1475  loss: 0.1802 (0.1941)  lr: 0.001000\u001b[0m\n",
            "\u001b[32m2025-01-16 21:59:48.220\u001b[0m | \u001b[1mINFO    \u001b[0m | \u001b[36m__main__\u001b[0m:\u001b[36mtrain\u001b[0m:\u001b[36m197\u001b[0m - \u001b[1mepoch: 11  batch: 1372/1475  loss: 0.1784 (0.1940)  lr: 0.001000\u001b[0m\n",
            "\u001b[32m2025-01-16 22:00:00.406\u001b[0m | \u001b[1mINFO    \u001b[0m | \u001b[36m__main__\u001b[0m:\u001b[36mtrain\u001b[0m:\u001b[36m197\u001b[0m - \u001b[1mepoch: 11  batch: 1386/1475  loss: 0.1743 (0.1938)  lr: 0.001000\u001b[0m\n",
            "\u001b[32m2025-01-16 22:00:12.602\u001b[0m | \u001b[1mINFO    \u001b[0m | \u001b[36m__main__\u001b[0m:\u001b[36mtrain\u001b[0m:\u001b[36m197\u001b[0m - \u001b[1mepoch: 11  batch: 1400/1475  loss: 0.1768 (0.1936)  lr: 0.001000\u001b[0m\n",
            "\u001b[32m2025-01-16 22:00:24.759\u001b[0m | \u001b[1mINFO    \u001b[0m | \u001b[36m__main__\u001b[0m:\u001b[36mtrain\u001b[0m:\u001b[36m197\u001b[0m - \u001b[1mepoch: 11  batch: 1414/1475  loss: 0.1745 (0.1935)  lr: 0.001000\u001b[0m\n",
            "\u001b[32m2025-01-16 22:00:36.934\u001b[0m | \u001b[1mINFO    \u001b[0m | \u001b[36m__main__\u001b[0m:\u001b[36mtrain\u001b[0m:\u001b[36m197\u001b[0m - \u001b[1mepoch: 11  batch: 1428/1475  loss: 0.1704 (0.1933)  lr: 0.001000\u001b[0m\n",
            "\u001b[32m2025-01-16 22:00:49.130\u001b[0m | \u001b[1mINFO    \u001b[0m | \u001b[36m__main__\u001b[0m:\u001b[36mtrain\u001b[0m:\u001b[36m197\u001b[0m - \u001b[1mepoch: 11  batch: 1442/1475  loss: 0.1688 (0.1930)  lr: 0.001000\u001b[0m\n",
            "\u001b[32m2025-01-16 22:01:01.355\u001b[0m | \u001b[1mINFO    \u001b[0m | \u001b[36m__main__\u001b[0m:\u001b[36mtrain\u001b[0m:\u001b[36m197\u001b[0m - \u001b[1mepoch: 11  batch: 1456/1475  loss: 0.1686 (0.1929)  lr: 0.001000\u001b[0m\n",
            "\u001b[32m2025-01-16 22:01:13.607\u001b[0m | \u001b[1mINFO    \u001b[0m | \u001b[36m__main__\u001b[0m:\u001b[36mtrain\u001b[0m:\u001b[36m197\u001b[0m - \u001b[1mepoch: 11  batch: 1470/1475  loss: 0.1708 (0.1927)  lr: 0.001000\u001b[0m\n",
            "\u001b[32m2025-01-16 22:01:17.673\u001b[0m | \u001b[1mINFO    \u001b[0m | \u001b[36m__main__\u001b[0m:\u001b[36mtrain\u001b[0m:\u001b[36m219\u001b[0m - \u001b[1mFinish epoch: 11, without validation\u001b[0m\n",
            "\u001b[32m2025-01-16 22:01:31.364\u001b[0m | \u001b[1mINFO    \u001b[0m | \u001b[36m__main__\u001b[0m:\u001b[36mtrain\u001b[0m:\u001b[36m197\u001b[0m - \u001b[1mepoch: 12  batch: 14/1475  loss: 0.1462 (0.1922)  lr: 0.001000\u001b[0m\n",
            "\u001b[32m2025-01-16 22:01:43.531\u001b[0m | \u001b[1mINFO    \u001b[0m | \u001b[36m__main__\u001b[0m:\u001b[36mtrain\u001b[0m:\u001b[36m197\u001b[0m - \u001b[1mepoch: 12  batch: 28/1475  loss: 0.1425 (0.1917)  lr: 0.001000\u001b[0m\n",
            "\u001b[32m2025-01-16 22:01:55.670\u001b[0m | \u001b[1mINFO    \u001b[0m | \u001b[36m__main__\u001b[0m:\u001b[36mtrain\u001b[0m:\u001b[36m197\u001b[0m - \u001b[1mepoch: 12  batch: 42/1475  loss: 0.1429 (0.1913)  lr: 0.001000\u001b[0m\n",
            "\u001b[32m2025-01-16 22:02:07.847\u001b[0m | \u001b[1mINFO    \u001b[0m | \u001b[36m__main__\u001b[0m:\u001b[36mtrain\u001b[0m:\u001b[36m197\u001b[0m - \u001b[1mepoch: 12  batch: 56/1475  loss: 0.1448 (0.1908)  lr: 0.001000\u001b[0m\n",
            "\u001b[32m2025-01-16 22:02:20.167\u001b[0m | \u001b[1mINFO    \u001b[0m | \u001b[36m__main__\u001b[0m:\u001b[36mtrain\u001b[0m:\u001b[36m197\u001b[0m - \u001b[1mepoch: 12  batch: 70/1475  loss: 0.1390 (0.1903)  lr: 0.001000\u001b[0m\n",
            "\u001b[32m2025-01-16 22:02:32.417\u001b[0m | \u001b[1mINFO    \u001b[0m | \u001b[36m__main__\u001b[0m:\u001b[36mtrain\u001b[0m:\u001b[36m197\u001b[0m - \u001b[1mepoch: 12  batch: 84/1475  loss: 0.1436 (0.1899)  lr: 0.001000\u001b[0m\n",
            "\u001b[32m2025-01-16 22:02:44.710\u001b[0m | \u001b[1mINFO    \u001b[0m | \u001b[36m__main__\u001b[0m:\u001b[36mtrain\u001b[0m:\u001b[36m197\u001b[0m - \u001b[1mepoch: 12  batch: 98/1475  loss: 0.1471 (0.1895)  lr: 0.001000\u001b[0m\n",
            "\u001b[32m2025-01-16 22:02:56.910\u001b[0m | \u001b[1mINFO    \u001b[0m | \u001b[36m__main__\u001b[0m:\u001b[36mtrain\u001b[0m:\u001b[36m197\u001b[0m - \u001b[1mepoch: 12  batch: 112/1475  loss: 0.1452 (0.1892)  lr: 0.001000\u001b[0m\n",
            "\u001b[32m2025-01-16 22:03:09.139\u001b[0m | \u001b[1mINFO    \u001b[0m | \u001b[36m__main__\u001b[0m:\u001b[36mtrain\u001b[0m:\u001b[36m197\u001b[0m - \u001b[1mepoch: 12  batch: 126/1475  loss: 0.1458 (0.1888)  lr: 0.001000\u001b[0m\n",
            "\u001b[32m2025-01-16 22:03:21.384\u001b[0m | \u001b[1mINFO    \u001b[0m | \u001b[36m__main__\u001b[0m:\u001b[36mtrain\u001b[0m:\u001b[36m197\u001b[0m - \u001b[1mepoch: 12  batch: 140/1475  loss: 0.1481 (0.1884)  lr: 0.001000\u001b[0m\n",
            "\u001b[32m2025-01-16 22:03:33.633\u001b[0m | \u001b[1mINFO    \u001b[0m | \u001b[36m__main__\u001b[0m:\u001b[36mtrain\u001b[0m:\u001b[36m197\u001b[0m - \u001b[1mepoch: 12  batch: 154/1475  loss: 0.1472 (0.1881)  lr: 0.001000\u001b[0m\n",
            "\u001b[32m2025-01-16 22:03:45.806\u001b[0m | \u001b[1mINFO    \u001b[0m | \u001b[36m__main__\u001b[0m:\u001b[36mtrain\u001b[0m:\u001b[36m197\u001b[0m - \u001b[1mepoch: 12  batch: 168/1475  loss: 0.1423 (0.1877)  lr: 0.001000\u001b[0m\n",
            "\u001b[32m2025-01-16 22:03:57.974\u001b[0m | \u001b[1mINFO    \u001b[0m | \u001b[36m__main__\u001b[0m:\u001b[36mtrain\u001b[0m:\u001b[36m197\u001b[0m - \u001b[1mepoch: 12  batch: 182/1475  loss: 0.1495 (0.1874)  lr: 0.001000\u001b[0m\n",
            "\u001b[32m2025-01-16 22:04:10.247\u001b[0m | \u001b[1mINFO    \u001b[0m | \u001b[36m__main__\u001b[0m:\u001b[36mtrain\u001b[0m:\u001b[36m197\u001b[0m - \u001b[1mepoch: 12  batch: 196/1475  loss: 0.1420 (0.1871)  lr: 0.001000\u001b[0m\n",
            "\u001b[32m2025-01-16 22:04:22.437\u001b[0m | \u001b[1mINFO    \u001b[0m | \u001b[36m__main__\u001b[0m:\u001b[36mtrain\u001b[0m:\u001b[36m197\u001b[0m - \u001b[1mepoch: 12  batch: 210/1475  loss: 0.1509 (0.1868)  lr: 0.001000\u001b[0m\n",
            "\u001b[32m2025-01-16 22:04:34.722\u001b[0m | \u001b[1mINFO    \u001b[0m | \u001b[36m__main__\u001b[0m:\u001b[36mtrain\u001b[0m:\u001b[36m197\u001b[0m - \u001b[1mepoch: 12  batch: 224/1475  loss: 0.1531 (0.1865)  lr: 0.001000\u001b[0m\n",
            "\u001b[32m2025-01-16 22:04:46.904\u001b[0m | \u001b[1mINFO    \u001b[0m | \u001b[36m__main__\u001b[0m:\u001b[36mtrain\u001b[0m:\u001b[36m197\u001b[0m - \u001b[1mepoch: 12  batch: 238/1475  loss: 0.1549 (0.1862)  lr: 0.001000\u001b[0m\n",
            "\u001b[32m2025-01-16 22:04:59.102\u001b[0m | \u001b[1mINFO    \u001b[0m | \u001b[36m__main__\u001b[0m:\u001b[36mtrain\u001b[0m:\u001b[36m197\u001b[0m - \u001b[1mepoch: 12  batch: 252/1475  loss: 0.1504 (0.1859)  lr: 0.001000\u001b[0m\n",
            "\u001b[32m2025-01-16 22:05:11.348\u001b[0m | \u001b[1mINFO    \u001b[0m | \u001b[36m__main__\u001b[0m:\u001b[36mtrain\u001b[0m:\u001b[36m197\u001b[0m - \u001b[1mepoch: 12  batch: 266/1475  loss: 0.1494 (0.1856)  lr: 0.001000\u001b[0m\n",
            "\u001b[32m2025-01-16 22:05:23.636\u001b[0m | \u001b[1mINFO    \u001b[0m | \u001b[36m__main__\u001b[0m:\u001b[36mtrain\u001b[0m:\u001b[36m197\u001b[0m - \u001b[1mepoch: 12  batch: 280/1475  loss: 0.1503 (0.1854)  lr: 0.001000\u001b[0m\n",
            "\u001b[32m2025-01-16 22:05:35.833\u001b[0m | \u001b[1mINFO    \u001b[0m | \u001b[36m__main__\u001b[0m:\u001b[36mtrain\u001b[0m:\u001b[36m197\u001b[0m - \u001b[1mepoch: 12  batch: 294/1475  loss: 0.1453 (0.1851)  lr: 0.001000\u001b[0m\n",
            "\u001b[32m2025-01-16 22:05:48.049\u001b[0m | \u001b[1mINFO    \u001b[0m | \u001b[36m__main__\u001b[0m:\u001b[36mtrain\u001b[0m:\u001b[36m197\u001b[0m - \u001b[1mepoch: 12  batch: 308/1475  loss: 0.1497 (0.1848)  lr: 0.001000\u001b[0m\n",
            "\u001b[32m2025-01-16 22:06:00.266\u001b[0m | \u001b[1mINFO    \u001b[0m | \u001b[36m__main__\u001b[0m:\u001b[36mtrain\u001b[0m:\u001b[36m197\u001b[0m - \u001b[1mepoch: 12  batch: 322/1475  loss: 0.1597 (0.1850)  lr: 0.001000\u001b[0m\n",
            "\u001b[32m2025-01-16 22:06:12.394\u001b[0m | \u001b[1mINFO    \u001b[0m | \u001b[36m__main__\u001b[0m:\u001b[36mtrain\u001b[0m:\u001b[36m197\u001b[0m - \u001b[1mepoch: 12  batch: 336/1475  loss: 0.2383 (0.1857)  lr: 0.001000\u001b[0m\n",
            "\u001b[32m2025-01-16 22:06:24.521\u001b[0m | \u001b[1mINFO    \u001b[0m | \u001b[36m__main__\u001b[0m:\u001b[36mtrain\u001b[0m:\u001b[36m197\u001b[0m - \u001b[1mepoch: 12  batch: 350/1475  loss: 0.2448 (0.1862)  lr: 0.001000\u001b[0m\n",
            "\u001b[32m2025-01-16 22:06:36.593\u001b[0m | \u001b[1mINFO    \u001b[0m | \u001b[36m__main__\u001b[0m:\u001b[36mtrain\u001b[0m:\u001b[36m197\u001b[0m - \u001b[1mepoch: 12  batch: 364/1475  loss: 0.2944 (0.1874)  lr: 0.001000\u001b[0m\n",
            "\u001b[32m2025-01-16 22:06:48.771\u001b[0m | \u001b[1mINFO    \u001b[0m | \u001b[36m__main__\u001b[0m:\u001b[36mtrain\u001b[0m:\u001b[36m197\u001b[0m - \u001b[1mepoch: 12  batch: 378/1475  loss: 0.2848 (0.1881)  lr: 0.001000\u001b[0m\n",
            "\u001b[32m2025-01-16 22:07:00.950\u001b[0m | \u001b[1mINFO    \u001b[0m | \u001b[36m__main__\u001b[0m:\u001b[36mtrain\u001b[0m:\u001b[36m197\u001b[0m - \u001b[1mepoch: 12  batch: 392/1475  loss: 0.2452 (0.1885)  lr: 0.001000\u001b[0m\n",
            "\u001b[32m2025-01-16 22:07:13.116\u001b[0m | \u001b[1mINFO    \u001b[0m | \u001b[36m__main__\u001b[0m:\u001b[36mtrain\u001b[0m:\u001b[36m197\u001b[0m - \u001b[1mepoch: 12  batch: 406/1475  loss: 0.2197 (0.1887)  lr: 0.001000\u001b[0m\n",
            "\u001b[32m2025-01-16 22:07:25.320\u001b[0m | \u001b[1mINFO    \u001b[0m | \u001b[36m__main__\u001b[0m:\u001b[36mtrain\u001b[0m:\u001b[36m197\u001b[0m - \u001b[1mepoch: 12  batch: 420/1475  loss: 0.2133 (0.1888)  lr: 0.001000\u001b[0m\n",
            "\u001b[32m2025-01-16 22:07:37.537\u001b[0m | \u001b[1mINFO    \u001b[0m | \u001b[36m__main__\u001b[0m:\u001b[36mtrain\u001b[0m:\u001b[36m197\u001b[0m - \u001b[1mepoch: 12  batch: 434/1475  loss: 0.1968 (0.1889)  lr: 0.001000\u001b[0m\n",
            "\u001b[32m2025-01-16 22:07:49.714\u001b[0m | \u001b[1mINFO    \u001b[0m | \u001b[36m__main__\u001b[0m:\u001b[36mtrain\u001b[0m:\u001b[36m197\u001b[0m - \u001b[1mepoch: 12  batch: 448/1475  loss: 0.1842 (0.1889)  lr: 0.001000\u001b[0m\n",
            "\u001b[32m2025-01-16 22:08:01.881\u001b[0m | \u001b[1mINFO    \u001b[0m | \u001b[36m__main__\u001b[0m:\u001b[36mtrain\u001b[0m:\u001b[36m197\u001b[0m - \u001b[1mepoch: 12  batch: 462/1475  loss: 0.1872 (0.1889)  lr: 0.001000\u001b[0m\n",
            "\u001b[32m2025-01-16 22:08:14.005\u001b[0m | \u001b[1mINFO    \u001b[0m | \u001b[36m__main__\u001b[0m:\u001b[36mtrain\u001b[0m:\u001b[36m197\u001b[0m - \u001b[1mepoch: 12  batch: 476/1475  loss: 0.1835 (0.1888)  lr: 0.001000\u001b[0m\n",
            "\u001b[32m2025-01-16 22:08:26.232\u001b[0m | \u001b[1mINFO    \u001b[0m | \u001b[36m__main__\u001b[0m:\u001b[36mtrain\u001b[0m:\u001b[36m197\u001b[0m - \u001b[1mepoch: 12  batch: 490/1475  loss: 0.1835 (0.1888)  lr: 0.001000\u001b[0m\n",
            "\u001b[32m2025-01-16 22:08:38.398\u001b[0m | \u001b[1mINFO    \u001b[0m | \u001b[36m__main__\u001b[0m:\u001b[36mtrain\u001b[0m:\u001b[36m197\u001b[0m - \u001b[1mepoch: 12  batch: 504/1475  loss: 0.1766 (0.1887)  lr: 0.001000\u001b[0m\n",
            "\u001b[32m2025-01-16 22:08:50.628\u001b[0m | \u001b[1mINFO    \u001b[0m | \u001b[36m__main__\u001b[0m:\u001b[36mtrain\u001b[0m:\u001b[36m197\u001b[0m - \u001b[1mepoch: 12  batch: 518/1475  loss: 0.1773 (0.1886)  lr: 0.001000\u001b[0m\n",
            "\u001b[32m2025-01-16 22:09:02.766\u001b[0m | \u001b[1mINFO    \u001b[0m | \u001b[36m__main__\u001b[0m:\u001b[36mtrain\u001b[0m:\u001b[36m197\u001b[0m - \u001b[1mepoch: 12  batch: 532/1475  loss: 0.1752 (0.1885)  lr: 0.001000\u001b[0m\n",
            "\u001b[32m2025-01-16 22:09:15.050\u001b[0m | \u001b[1mINFO    \u001b[0m | \u001b[36m__main__\u001b[0m:\u001b[36mtrain\u001b[0m:\u001b[36m197\u001b[0m - \u001b[1mepoch: 12  batch: 546/1475  loss: 0.1748 (0.1884)  lr: 0.001000\u001b[0m\n",
            "\u001b[32m2025-01-16 22:09:27.239\u001b[0m | \u001b[1mINFO    \u001b[0m | \u001b[36m__main__\u001b[0m:\u001b[36mtrain\u001b[0m:\u001b[36m197\u001b[0m - \u001b[1mepoch: 12  batch: 560/1475  loss: 0.1699 (0.1883)  lr: 0.001000\u001b[0m\n",
            "\u001b[32m2025-01-16 22:09:39.335\u001b[0m | \u001b[1mINFO    \u001b[0m | \u001b[36m__main__\u001b[0m:\u001b[36mtrain\u001b[0m:\u001b[36m197\u001b[0m - \u001b[1mepoch: 12  batch: 574/1475  loss: 0.1639 (0.1881)  lr: 0.001000\u001b[0m\n",
            "\u001b[32m2025-01-16 22:09:51.503\u001b[0m | \u001b[1mINFO    \u001b[0m | \u001b[36m__main__\u001b[0m:\u001b[36mtrain\u001b[0m:\u001b[36m197\u001b[0m - \u001b[1mepoch: 12  batch: 588/1475  loss: 0.1692 (0.1880)  lr: 0.001000\u001b[0m\n",
            "\u001b[32m2025-01-16 22:10:03.751\u001b[0m | \u001b[1mINFO    \u001b[0m | \u001b[36m__main__\u001b[0m:\u001b[36mtrain\u001b[0m:\u001b[36m197\u001b[0m - \u001b[1mepoch: 12  batch: 602/1475  loss: 0.1679 (0.1879)  lr: 0.001000\u001b[0m\n",
            "\u001b[32m2025-01-16 22:10:15.997\u001b[0m | \u001b[1mINFO    \u001b[0m | \u001b[36m__main__\u001b[0m:\u001b[36mtrain\u001b[0m:\u001b[36m197\u001b[0m - \u001b[1mepoch: 12  batch: 616/1475  loss: 0.1744 (0.1878)  lr: 0.001000\u001b[0m\n",
            "\u001b[32m2025-01-16 22:10:28.171\u001b[0m | \u001b[1mINFO    \u001b[0m | \u001b[36m__main__\u001b[0m:\u001b[36mtrain\u001b[0m:\u001b[36m197\u001b[0m - \u001b[1mepoch: 12  batch: 630/1475  loss: 0.1636 (0.1876)  lr: 0.001000\u001b[0m\n",
            "\u001b[32m2025-01-16 22:10:40.413\u001b[0m | \u001b[1mINFO    \u001b[0m | \u001b[36m__main__\u001b[0m:\u001b[36mtrain\u001b[0m:\u001b[36m197\u001b[0m - \u001b[1mepoch: 12  batch: 644/1475  loss: 0.1655 (0.1875)  lr: 0.001000\u001b[0m\n",
            "\u001b[32m2025-01-16 22:10:52.592\u001b[0m | \u001b[1mINFO    \u001b[0m | \u001b[36m__main__\u001b[0m:\u001b[36mtrain\u001b[0m:\u001b[36m197\u001b[0m - \u001b[1mepoch: 12  batch: 658/1475  loss: 0.1655 (0.1874)  lr: 0.001000\u001b[0m\n",
            "\u001b[32m2025-01-16 22:11:04.824\u001b[0m | \u001b[1mINFO    \u001b[0m | \u001b[36m__main__\u001b[0m:\u001b[36mtrain\u001b[0m:\u001b[36m197\u001b[0m - \u001b[1mepoch: 12  batch: 672/1475  loss: 0.1673 (0.1872)  lr: 0.001000\u001b[0m\n",
            "\u001b[32m2025-01-16 22:11:17.000\u001b[0m | \u001b[1mINFO    \u001b[0m | \u001b[36m__main__\u001b[0m:\u001b[36mtrain\u001b[0m:\u001b[36m197\u001b[0m - \u001b[1mepoch: 12  batch: 686/1475  loss: 0.1613 (0.1871)  lr: 0.001000\u001b[0m\n",
            "\u001b[32m2025-01-16 22:11:29.179\u001b[0m | \u001b[1mINFO    \u001b[0m | \u001b[36m__main__\u001b[0m:\u001b[36mtrain\u001b[0m:\u001b[36m197\u001b[0m - \u001b[1mepoch: 12  batch: 700/1475  loss: 0.1576 (0.1869)  lr: 0.001000\u001b[0m\n",
            "\u001b[32m2025-01-16 22:11:41.411\u001b[0m | \u001b[1mINFO    \u001b[0m | \u001b[36m__main__\u001b[0m:\u001b[36mtrain\u001b[0m:\u001b[36m197\u001b[0m - \u001b[1mepoch: 12  batch: 714/1475  loss: 0.1631 (0.1868)  lr: 0.001000\u001b[0m\n",
            "\u001b[32m2025-01-16 22:11:53.635\u001b[0m | \u001b[1mINFO    \u001b[0m | \u001b[36m__main__\u001b[0m:\u001b[36mtrain\u001b[0m:\u001b[36m197\u001b[0m - \u001b[1mepoch: 12  batch: 728/1475  loss: 0.1611 (0.1866)  lr: 0.001000\u001b[0m\n",
            "\u001b[32m2025-01-16 22:12:05.836\u001b[0m | \u001b[1mINFO    \u001b[0m | \u001b[36m__main__\u001b[0m:\u001b[36mtrain\u001b[0m:\u001b[36m197\u001b[0m - \u001b[1mepoch: 12  batch: 742/1475  loss: 0.1622 (0.1864)  lr: 0.001000\u001b[0m\n",
            "\u001b[32m2025-01-16 22:12:18.067\u001b[0m | \u001b[1mINFO    \u001b[0m | \u001b[36m__main__\u001b[0m:\u001b[36mtrain\u001b[0m:\u001b[36m197\u001b[0m - \u001b[1mepoch: 12  batch: 756/1475  loss: 0.1590 (0.1862)  lr: 0.001000\u001b[0m\n",
            "\u001b[32m2025-01-16 22:12:30.311\u001b[0m | \u001b[1mINFO    \u001b[0m | \u001b[36m__main__\u001b[0m:\u001b[36mtrain\u001b[0m:\u001b[36m197\u001b[0m - \u001b[1mepoch: 12  batch: 770/1475  loss: 0.1569 (0.1861)  lr: 0.001000\u001b[0m\n",
            "\u001b[32m2025-01-16 22:12:42.542\u001b[0m | \u001b[1mINFO    \u001b[0m | \u001b[36m__main__\u001b[0m:\u001b[36mtrain\u001b[0m:\u001b[36m197\u001b[0m - \u001b[1mepoch: 12  batch: 784/1475  loss: 0.1654 (0.1860)  lr: 0.001000\u001b[0m\n",
            "\u001b[32m2025-01-16 22:12:54.793\u001b[0m | \u001b[1mINFO    \u001b[0m | \u001b[36m__main__\u001b[0m:\u001b[36mtrain\u001b[0m:\u001b[36m197\u001b[0m - \u001b[1mepoch: 12  batch: 798/1475  loss: 0.1634 (0.1858)  lr: 0.001000\u001b[0m\n",
            "\u001b[32m2025-01-16 22:13:06.944\u001b[0m | \u001b[1mINFO    \u001b[0m | \u001b[36m__main__\u001b[0m:\u001b[36mtrain\u001b[0m:\u001b[36m197\u001b[0m - \u001b[1mepoch: 12  batch: 812/1475  loss: 0.1559 (0.1857)  lr: 0.001000\u001b[0m\n",
            "\u001b[32m2025-01-16 22:13:19.214\u001b[0m | \u001b[1mINFO    \u001b[0m | \u001b[36m__main__\u001b[0m:\u001b[36mtrain\u001b[0m:\u001b[36m197\u001b[0m - \u001b[1mepoch: 12  batch: 826/1475  loss: 0.1615 (0.1855)  lr: 0.001000\u001b[0m\n",
            "\u001b[32m2025-01-16 22:13:31.472\u001b[0m | \u001b[1mINFO    \u001b[0m | \u001b[36m__main__\u001b[0m:\u001b[36mtrain\u001b[0m:\u001b[36m197\u001b[0m - \u001b[1mepoch: 12  batch: 840/1475  loss: 0.1608 (0.1854)  lr: 0.001000\u001b[0m\n",
            "\u001b[32m2025-01-16 22:13:43.663\u001b[0m | \u001b[1mINFO    \u001b[0m | \u001b[36m__main__\u001b[0m:\u001b[36mtrain\u001b[0m:\u001b[36m197\u001b[0m - \u001b[1mepoch: 12  batch: 854/1475  loss: 0.1608 (0.1852)  lr: 0.001000\u001b[0m\n",
            "\u001b[32m2025-01-16 22:13:55.884\u001b[0m | \u001b[1mINFO    \u001b[0m | \u001b[36m__main__\u001b[0m:\u001b[36mtrain\u001b[0m:\u001b[36m197\u001b[0m - \u001b[1mepoch: 12  batch: 868/1475  loss: 0.1607 (0.1851)  lr: 0.001000\u001b[0m\n",
            "\u001b[32m2025-01-16 22:14:08.060\u001b[0m | \u001b[1mINFO    \u001b[0m | \u001b[36m__main__\u001b[0m:\u001b[36mtrain\u001b[0m:\u001b[36m197\u001b[0m - \u001b[1mepoch: 12  batch: 882/1475  loss: 0.1610 (0.1850)  lr: 0.001000\u001b[0m\n",
            "\u001b[32m2025-01-16 22:14:20.206\u001b[0m | \u001b[1mINFO    \u001b[0m | \u001b[36m__main__\u001b[0m:\u001b[36mtrain\u001b[0m:\u001b[36m197\u001b[0m - \u001b[1mepoch: 12  batch: 896/1475  loss: 0.1573 (0.1848)  lr: 0.001000\u001b[0m\n",
            "\u001b[32m2025-01-16 22:14:32.399\u001b[0m | \u001b[1mINFO    \u001b[0m | \u001b[36m__main__\u001b[0m:\u001b[36mtrain\u001b[0m:\u001b[36m197\u001b[0m - \u001b[1mepoch: 12  batch: 910/1475  loss: 0.1528 (0.1846)  lr: 0.001000\u001b[0m\n",
            "\u001b[32m2025-01-16 22:14:44.677\u001b[0m | \u001b[1mINFO    \u001b[0m | \u001b[36m__main__\u001b[0m:\u001b[36mtrain\u001b[0m:\u001b[36m197\u001b[0m - \u001b[1mepoch: 12  batch: 924/1475  loss: 0.1582 (0.1845)  lr: 0.001000\u001b[0m\n",
            "\u001b[32m2025-01-16 22:14:56.899\u001b[0m | \u001b[1mINFO    \u001b[0m | \u001b[36m__main__\u001b[0m:\u001b[36mtrain\u001b[0m:\u001b[36m197\u001b[0m - \u001b[1mepoch: 12  batch: 938/1475  loss: 0.1579 (0.1843)  lr: 0.001000\u001b[0m\n",
            "\u001b[32m2025-01-16 22:15:09.166\u001b[0m | \u001b[1mINFO    \u001b[0m | \u001b[36m__main__\u001b[0m:\u001b[36mtrain\u001b[0m:\u001b[36m197\u001b[0m - \u001b[1mepoch: 12  batch: 952/1475  loss: 0.1585 (0.1842)  lr: 0.001000\u001b[0m\n",
            "\u001b[32m2025-01-16 22:15:21.352\u001b[0m | \u001b[1mINFO    \u001b[0m | \u001b[36m__main__\u001b[0m:\u001b[36mtrain\u001b[0m:\u001b[36m197\u001b[0m - \u001b[1mepoch: 12  batch: 966/1475  loss: 0.1509 (0.1840)  lr: 0.001000\u001b[0m\n",
            "\u001b[32m2025-01-16 22:15:33.580\u001b[0m | \u001b[1mINFO    \u001b[0m | \u001b[36m__main__\u001b[0m:\u001b[36mtrain\u001b[0m:\u001b[36m197\u001b[0m - \u001b[1mepoch: 12  batch: 980/1475  loss: 0.1579 (0.1838)  lr: 0.001000\u001b[0m\n",
            "\u001b[32m2025-01-16 22:15:45.763\u001b[0m | \u001b[1mINFO    \u001b[0m | \u001b[36m__main__\u001b[0m:\u001b[36mtrain\u001b[0m:\u001b[36m197\u001b[0m - \u001b[1mepoch: 12  batch: 994/1475  loss: 0.1575 (0.1837)  lr: 0.001000\u001b[0m\n",
            "\u001b[32m2025-01-16 22:15:57.939\u001b[0m | \u001b[1mINFO    \u001b[0m | \u001b[36m__main__\u001b[0m:\u001b[36mtrain\u001b[0m:\u001b[36m197\u001b[0m - \u001b[1mepoch: 12  batch: 1008/1475  loss: 0.1575 (0.1836)  lr: 0.001000\u001b[0m\n",
            "\u001b[32m2025-01-16 22:16:10.138\u001b[0m | \u001b[1mINFO    \u001b[0m | \u001b[36m__main__\u001b[0m:\u001b[36mtrain\u001b[0m:\u001b[36m197\u001b[0m - \u001b[1mepoch: 12  batch: 1022/1475  loss: 0.1522 (0.1834)  lr: 0.001000\u001b[0m\n",
            "\u001b[32m2025-01-16 22:16:22.326\u001b[0m | \u001b[1mINFO    \u001b[0m | \u001b[36m__main__\u001b[0m:\u001b[36mtrain\u001b[0m:\u001b[36m197\u001b[0m - \u001b[1mepoch: 12  batch: 1036/1475  loss: 0.1594 (0.1832)  lr: 0.001000\u001b[0m\n",
            "\u001b[32m2025-01-16 22:16:34.541\u001b[0m | \u001b[1mINFO    \u001b[0m | \u001b[36m__main__\u001b[0m:\u001b[36mtrain\u001b[0m:\u001b[36m197\u001b[0m - \u001b[1mepoch: 12  batch: 1050/1475  loss: 0.1595 (0.1831)  lr: 0.001000\u001b[0m\n",
            "\u001b[32m2025-01-16 22:16:46.712\u001b[0m | \u001b[1mINFO    \u001b[0m | \u001b[36m__main__\u001b[0m:\u001b[36mtrain\u001b[0m:\u001b[36m197\u001b[0m - \u001b[1mepoch: 12  batch: 1064/1475  loss: 0.1526 (0.1829)  lr: 0.001000\u001b[0m\n",
            "\u001b[32m2025-01-16 22:16:58.950\u001b[0m | \u001b[1mINFO    \u001b[0m | \u001b[36m__main__\u001b[0m:\u001b[36mtrain\u001b[0m:\u001b[36m197\u001b[0m - \u001b[1mepoch: 12  batch: 1078/1475  loss: 0.1502 (0.1828)  lr: 0.001000\u001b[0m\n",
            "\u001b[32m2025-01-16 22:17:11.168\u001b[0m | \u001b[1mINFO    \u001b[0m | \u001b[36m__main__\u001b[0m:\u001b[36mtrain\u001b[0m:\u001b[36m197\u001b[0m - \u001b[1mepoch: 12  batch: 1092/1475  loss: 0.1554 (0.1827)  lr: 0.001000\u001b[0m\n",
            "\u001b[32m2025-01-16 22:17:23.301\u001b[0m | \u001b[1mINFO    \u001b[0m | \u001b[36m__main__\u001b[0m:\u001b[36mtrain\u001b[0m:\u001b[36m197\u001b[0m - \u001b[1mepoch: 12  batch: 1106/1475  loss: 0.1554 (0.1825)  lr: 0.001000\u001b[0m\n",
            "\u001b[32m2025-01-16 22:17:35.436\u001b[0m | \u001b[1mINFO    \u001b[0m | \u001b[36m__main__\u001b[0m:\u001b[36mtrain\u001b[0m:\u001b[36m197\u001b[0m - \u001b[1mepoch: 12  batch: 1120/1475  loss: 0.1562 (0.1824)  lr: 0.001000\u001b[0m\n",
            "\u001b[32m2025-01-16 22:17:47.624\u001b[0m | \u001b[1mINFO    \u001b[0m | \u001b[36m__main__\u001b[0m:\u001b[36mtrain\u001b[0m:\u001b[36m197\u001b[0m - \u001b[1mepoch: 12  batch: 1134/1475  loss: 0.1505 (0.1822)  lr: 0.001000\u001b[0m\n",
            "\u001b[32m2025-01-16 22:17:59.858\u001b[0m | \u001b[1mINFO    \u001b[0m | \u001b[36m__main__\u001b[0m:\u001b[36mtrain\u001b[0m:\u001b[36m197\u001b[0m - \u001b[1mepoch: 12  batch: 1148/1475  loss: 0.1557 (0.1821)  lr: 0.001000\u001b[0m\n",
            "\u001b[32m2025-01-16 22:18:12.073\u001b[0m | \u001b[1mINFO    \u001b[0m | \u001b[36m__main__\u001b[0m:\u001b[36mtrain\u001b[0m:\u001b[36m197\u001b[0m - \u001b[1mepoch: 12  batch: 1162/1475  loss: 0.1587 (0.1820)  lr: 0.001000\u001b[0m\n",
            "\u001b[32m2025-01-16 22:18:24.267\u001b[0m | \u001b[1mINFO    \u001b[0m | \u001b[36m__main__\u001b[0m:\u001b[36mtrain\u001b[0m:\u001b[36m197\u001b[0m - \u001b[1mepoch: 12  batch: 1176/1475  loss: 0.1541 (0.1819)  lr: 0.001000\u001b[0m\n",
            "\u001b[32m2025-01-16 22:18:36.528\u001b[0m | \u001b[1mINFO    \u001b[0m | \u001b[36m__main__\u001b[0m:\u001b[36mtrain\u001b[0m:\u001b[36m197\u001b[0m - \u001b[1mepoch: 12  batch: 1190/1475  loss: 0.1559 (0.1817)  lr: 0.001000\u001b[0m\n",
            "\u001b[32m2025-01-16 22:18:48.702\u001b[0m | \u001b[1mINFO    \u001b[0m | \u001b[36m__main__\u001b[0m:\u001b[36mtrain\u001b[0m:\u001b[36m197\u001b[0m - \u001b[1mepoch: 12  batch: 1204/1475  loss: 0.1519 (0.1816)  lr: 0.001000\u001b[0m\n",
            "\u001b[32m2025-01-16 22:19:00.884\u001b[0m | \u001b[1mINFO    \u001b[0m | \u001b[36m__main__\u001b[0m:\u001b[36mtrain\u001b[0m:\u001b[36m197\u001b[0m - \u001b[1mepoch: 12  batch: 1218/1475  loss: 0.1523 (0.1814)  lr: 0.001000\u001b[0m\n",
            "\u001b[32m2025-01-16 22:19:13.061\u001b[0m | \u001b[1mINFO    \u001b[0m | \u001b[36m__main__\u001b[0m:\u001b[36mtrain\u001b[0m:\u001b[36m197\u001b[0m - \u001b[1mepoch: 12  batch: 1232/1475  loss: 0.1608 (0.1813)  lr: 0.001000\u001b[0m\n",
            "\u001b[32m2025-01-16 22:19:25.173\u001b[0m | \u001b[1mINFO    \u001b[0m | \u001b[36m__main__\u001b[0m:\u001b[36mtrain\u001b[0m:\u001b[36m197\u001b[0m - \u001b[1mepoch: 12  batch: 1246/1475  loss: 0.1562 (0.1812)  lr: 0.001000\u001b[0m\n",
            "\u001b[32m2025-01-16 22:19:37.340\u001b[0m | \u001b[1mINFO    \u001b[0m | \u001b[36m__main__\u001b[0m:\u001b[36mtrain\u001b[0m:\u001b[36m197\u001b[0m - \u001b[1mepoch: 12  batch: 1260/1475  loss: 0.1557 (0.1810)  lr: 0.001000\u001b[0m\n",
            "\u001b[32m2025-01-16 22:19:49.513\u001b[0m | \u001b[1mINFO    \u001b[0m | \u001b[36m__main__\u001b[0m:\u001b[36mtrain\u001b[0m:\u001b[36m197\u001b[0m - \u001b[1mepoch: 12  batch: 1274/1475  loss: 0.1558 (0.1809)  lr: 0.001000\u001b[0m\n",
            "\u001b[32m2025-01-16 22:20:01.713\u001b[0m | \u001b[1mINFO    \u001b[0m | \u001b[36m__main__\u001b[0m:\u001b[36mtrain\u001b[0m:\u001b[36m197\u001b[0m - \u001b[1mepoch: 12  batch: 1288/1475  loss: 0.1558 (0.1808)  lr: 0.001000\u001b[0m\n",
            "\u001b[32m2025-01-16 22:20:13.892\u001b[0m | \u001b[1mINFO    \u001b[0m | \u001b[36m__main__\u001b[0m:\u001b[36mtrain\u001b[0m:\u001b[36m197\u001b[0m - \u001b[1mepoch: 12  batch: 1302/1475  loss: 0.1526 (0.1806)  lr: 0.001000\u001b[0m\n",
            "\u001b[32m2025-01-16 22:20:26.102\u001b[0m | \u001b[1mINFO    \u001b[0m | \u001b[36m__main__\u001b[0m:\u001b[36mtrain\u001b[0m:\u001b[36m197\u001b[0m - \u001b[1mepoch: 12  batch: 1316/1475  loss: 0.1522 (0.1805)  lr: 0.001000\u001b[0m\n",
            "\u001b[32m2025-01-16 22:20:38.178\u001b[0m | \u001b[1mINFO    \u001b[0m | \u001b[36m__main__\u001b[0m:\u001b[36mtrain\u001b[0m:\u001b[36m197\u001b[0m - \u001b[1mepoch: 12  batch: 1330/1475  loss: 0.1519 (0.1803)  lr: 0.001000\u001b[0m\n",
            "\u001b[32m2025-01-16 22:20:50.352\u001b[0m | \u001b[1mINFO    \u001b[0m | \u001b[36m__main__\u001b[0m:\u001b[36mtrain\u001b[0m:\u001b[36m197\u001b[0m - \u001b[1mepoch: 12  batch: 1344/1475  loss: 0.1524 (0.1802)  lr: 0.001000\u001b[0m\n",
            "\u001b[32m2025-01-16 22:21:02.546\u001b[0m | \u001b[1mINFO    \u001b[0m | \u001b[36m__main__\u001b[0m:\u001b[36mtrain\u001b[0m:\u001b[36m197\u001b[0m - \u001b[1mepoch: 12  batch: 1358/1475  loss: 0.1552 (0.1801)  lr: 0.001000\u001b[0m\n",
            "\u001b[32m2025-01-16 22:21:14.666\u001b[0m | \u001b[1mINFO    \u001b[0m | \u001b[36m__main__\u001b[0m:\u001b[36mtrain\u001b[0m:\u001b[36m197\u001b[0m - \u001b[1mepoch: 12  batch: 1372/1475  loss: 0.1545 (0.1800)  lr: 0.001000\u001b[0m\n",
            "\u001b[32m2025-01-16 22:21:26.895\u001b[0m | \u001b[1mINFO    \u001b[0m | \u001b[36m__main__\u001b[0m:\u001b[36mtrain\u001b[0m:\u001b[36m197\u001b[0m - \u001b[1mepoch: 12  batch: 1386/1475  loss: 0.1604 (0.1799)  lr: 0.001000\u001b[0m\n",
            "\u001b[32m2025-01-16 22:21:39.016\u001b[0m | \u001b[1mINFO    \u001b[0m | \u001b[36m__main__\u001b[0m:\u001b[36mtrain\u001b[0m:\u001b[36m197\u001b[0m - \u001b[1mepoch: 12  batch: 1400/1475  loss: 0.1612 (0.1798)  lr: 0.001000\u001b[0m\n",
            "\u001b[32m2025-01-16 22:21:51.176\u001b[0m | \u001b[1mINFO    \u001b[0m | \u001b[36m__main__\u001b[0m:\u001b[36mtrain\u001b[0m:\u001b[36m197\u001b[0m - \u001b[1mepoch: 12  batch: 1414/1475  loss: 0.1590 (0.1797)  lr: 0.001000\u001b[0m\n",
            "\u001b[32m2025-01-16 22:22:03.297\u001b[0m | \u001b[1mINFO    \u001b[0m | \u001b[36m__main__\u001b[0m:\u001b[36mtrain\u001b[0m:\u001b[36m197\u001b[0m - \u001b[1mepoch: 12  batch: 1428/1475  loss: 0.1562 (0.1796)  lr: 0.001000\u001b[0m\n",
            "\u001b[32m2025-01-16 22:22:15.461\u001b[0m | \u001b[1mINFO    \u001b[0m | \u001b[36m__main__\u001b[0m:\u001b[36mtrain\u001b[0m:\u001b[36m197\u001b[0m - \u001b[1mepoch: 12  batch: 1442/1475  loss: 0.1540 (0.1794)  lr: 0.001000\u001b[0m\n",
            "\u001b[32m2025-01-16 22:22:27.651\u001b[0m | \u001b[1mINFO    \u001b[0m | \u001b[36m__main__\u001b[0m:\u001b[36mtrain\u001b[0m:\u001b[36m197\u001b[0m - \u001b[1mepoch: 12  batch: 1456/1475  loss: 0.1540 (0.1793)  lr: 0.001000\u001b[0m\n",
            "\u001b[32m2025-01-16 22:22:39.768\u001b[0m | \u001b[1mINFO    \u001b[0m | \u001b[36m__main__\u001b[0m:\u001b[36mtrain\u001b[0m:\u001b[36m197\u001b[0m - \u001b[1mepoch: 12  batch: 1470/1475  loss: 0.1584 (0.1792)  lr: 0.001000\u001b[0m\n",
            "\u001b[32m2025-01-16 22:22:43.849\u001b[0m | \u001b[1mINFO    \u001b[0m | \u001b[36m__main__\u001b[0m:\u001b[36mtrain\u001b[0m:\u001b[36m219\u001b[0m - \u001b[1mFinish epoch: 12, without validation\u001b[0m\n",
            "\u001b[32m2025-01-16 22:22:58.010\u001b[0m | \u001b[1mINFO    \u001b[0m | \u001b[36m__main__\u001b[0m:\u001b[36mtrain\u001b[0m:\u001b[36m197\u001b[0m - \u001b[1mepoch: 13  batch: 14/1475  loss: 0.1324 (0.1790)  lr: 0.001000\u001b[0m\n",
            "\u001b[32m2025-01-16 22:23:10.253\u001b[0m | \u001b[1mINFO    \u001b[0m | \u001b[36m__main__\u001b[0m:\u001b[36mtrain\u001b[0m:\u001b[36m197\u001b[0m - \u001b[1mepoch: 13  batch: 28/1475  loss: 0.1204 (0.1787)  lr: 0.001000\u001b[0m\n",
            "\u001b[32m2025-01-16 22:23:22.488\u001b[0m | \u001b[1mINFO    \u001b[0m | \u001b[36m__main__\u001b[0m:\u001b[36mtrain\u001b[0m:\u001b[36m197\u001b[0m - \u001b[1mepoch: 13  batch: 42/1475  loss: 0.1242 (0.1784)  lr: 0.001000\u001b[0m\n",
            "\u001b[32m2025-01-16 22:23:34.703\u001b[0m | \u001b[1mINFO    \u001b[0m | \u001b[36m__main__\u001b[0m:\u001b[36mtrain\u001b[0m:\u001b[36m197\u001b[0m - \u001b[1mepoch: 13  batch: 56/1475  loss: 0.1266 (0.1782)  lr: 0.001000\u001b[0m\n",
            "\u001b[32m2025-01-16 22:23:46.815\u001b[0m | \u001b[1mINFO    \u001b[0m | \u001b[36m__main__\u001b[0m:\u001b[36mtrain\u001b[0m:\u001b[36m197\u001b[0m - \u001b[1mepoch: 13  batch: 70/1475  loss: 0.1275 (0.1780)  lr: 0.001000\u001b[0m\n",
            "\u001b[32m2025-01-16 22:23:58.920\u001b[0m | \u001b[1mINFO    \u001b[0m | \u001b[36m__main__\u001b[0m:\u001b[36mtrain\u001b[0m:\u001b[36m197\u001b[0m - \u001b[1mepoch: 13  batch: 84/1475  loss: 0.1251 (0.1777)  lr: 0.001000\u001b[0m\n",
            "\u001b[32m2025-01-16 22:24:11.046\u001b[0m | \u001b[1mINFO    \u001b[0m | \u001b[36m__main__\u001b[0m:\u001b[36mtrain\u001b[0m:\u001b[36m197\u001b[0m - \u001b[1mepoch: 13  batch: 98/1475  loss: 0.1305 (0.1775)  lr: 0.001000\u001b[0m\n",
            "\u001b[32m2025-01-16 22:24:23.176\u001b[0m | \u001b[1mINFO    \u001b[0m | \u001b[36m__main__\u001b[0m:\u001b[36mtrain\u001b[0m:\u001b[36m197\u001b[0m - \u001b[1mepoch: 13  batch: 112/1475  loss: 0.1311 (0.1773)  lr: 0.001000\u001b[0m\n",
            "\u001b[32m2025-01-16 22:24:35.301\u001b[0m | \u001b[1mINFO    \u001b[0m | \u001b[36m__main__\u001b[0m:\u001b[36mtrain\u001b[0m:\u001b[36m197\u001b[0m - \u001b[1mepoch: 13  batch: 126/1475  loss: 0.1311 (0.1771)  lr: 0.001000\u001b[0m\n",
            "\u001b[32m2025-01-16 22:24:47.466\u001b[0m | \u001b[1mINFO    \u001b[0m | \u001b[36m__main__\u001b[0m:\u001b[36mtrain\u001b[0m:\u001b[36m197\u001b[0m - \u001b[1mepoch: 13  batch: 140/1475  loss: 0.1335 (0.1769)  lr: 0.001000\u001b[0m\n",
            "\u001b[32m2025-01-16 22:24:59.659\u001b[0m | \u001b[1mINFO    \u001b[0m | \u001b[36m__main__\u001b[0m:\u001b[36mtrain\u001b[0m:\u001b[36m197\u001b[0m - \u001b[1mepoch: 13  batch: 154/1475  loss: 0.1312 (0.1767)  lr: 0.001000\u001b[0m\n",
            "\u001b[32m2025-01-16 22:25:11.833\u001b[0m | \u001b[1mINFO    \u001b[0m | \u001b[36m__main__\u001b[0m:\u001b[36mtrain\u001b[0m:\u001b[36m197\u001b[0m - \u001b[1mepoch: 13  batch: 168/1475  loss: 0.1308 (0.1765)  lr: 0.001000\u001b[0m\n",
            "\u001b[32m2025-01-16 22:25:23.931\u001b[0m | \u001b[1mINFO    \u001b[0m | \u001b[36m__main__\u001b[0m:\u001b[36mtrain\u001b[0m:\u001b[36m197\u001b[0m - \u001b[1mepoch: 13  batch: 182/1475  loss: 0.1247 (0.1762)  lr: 0.001000\u001b[0m\n",
            "\u001b[32m2025-01-16 22:25:36.070\u001b[0m | \u001b[1mINFO    \u001b[0m | \u001b[36m__main__\u001b[0m:\u001b[36mtrain\u001b[0m:\u001b[36m197\u001b[0m - \u001b[1mepoch: 13  batch: 196/1475  loss: 0.1286 (0.1760)  lr: 0.001000\u001b[0m\n",
            "\u001b[32m2025-01-16 22:25:48.214\u001b[0m | \u001b[1mINFO    \u001b[0m | \u001b[36m__main__\u001b[0m:\u001b[36mtrain\u001b[0m:\u001b[36m197\u001b[0m - \u001b[1mepoch: 13  batch: 210/1475  loss: 0.1273 (0.1758)  lr: 0.001000\u001b[0m\n",
            "\u001b[32m2025-01-16 22:26:00.386\u001b[0m | \u001b[1mINFO    \u001b[0m | \u001b[36m__main__\u001b[0m:\u001b[36mtrain\u001b[0m:\u001b[36m197\u001b[0m - \u001b[1mepoch: 13  batch: 224/1475  loss: 0.1287 (0.1756)  lr: 0.001000\u001b[0m\n",
            "\u001b[32m2025-01-16 22:26:12.500\u001b[0m | \u001b[1mINFO    \u001b[0m | \u001b[36m__main__\u001b[0m:\u001b[36mtrain\u001b[0m:\u001b[36m197\u001b[0m - \u001b[1mepoch: 13  batch: 238/1475  loss: 0.1268 (0.1754)  lr: 0.001000\u001b[0m\n",
            "\u001b[32m2025-01-16 22:26:24.663\u001b[0m | \u001b[1mINFO    \u001b[0m | \u001b[36m__main__\u001b[0m:\u001b[36mtrain\u001b[0m:\u001b[36m197\u001b[0m - \u001b[1mepoch: 13  batch: 252/1475  loss: 0.1320 (0.1752)  lr: 0.001000\u001b[0m\n",
            "\u001b[32m2025-01-16 22:26:36.805\u001b[0m | \u001b[1mINFO    \u001b[0m | \u001b[36m__main__\u001b[0m:\u001b[36mtrain\u001b[0m:\u001b[36m197\u001b[0m - \u001b[1mepoch: 13  batch: 266/1475  loss: 0.1320 (0.1750)  lr: 0.001000\u001b[0m\n",
            "\u001b[32m2025-01-16 22:26:48.944\u001b[0m | \u001b[1mINFO    \u001b[0m | \u001b[36m__main__\u001b[0m:\u001b[36mtrain\u001b[0m:\u001b[36m197\u001b[0m - \u001b[1mepoch: 13  batch: 280/1475  loss: 0.1330 (0.1748)  lr: 0.001000\u001b[0m\n",
            "\u001b[32m2025-01-16 22:27:01.100\u001b[0m | \u001b[1mINFO    \u001b[0m | \u001b[36m__main__\u001b[0m:\u001b[36mtrain\u001b[0m:\u001b[36m197\u001b[0m - \u001b[1mepoch: 13  batch: 294/1475  loss: 0.1293 (0.1746)  lr: 0.001000\u001b[0m\n",
            "\u001b[32m2025-01-16 22:27:13.333\u001b[0m | \u001b[1mINFO    \u001b[0m | \u001b[36m__main__\u001b[0m:\u001b[36mtrain\u001b[0m:\u001b[36m197\u001b[0m - \u001b[1mepoch: 13  batch: 308/1475  loss: 0.1288 (0.1745)  lr: 0.001000\u001b[0m\n",
            "\u001b[32m2025-01-16 22:27:25.648\u001b[0m | \u001b[1mINFO    \u001b[0m | \u001b[36m__main__\u001b[0m:\u001b[36mtrain\u001b[0m:\u001b[36m197\u001b[0m - \u001b[1mepoch: 13  batch: 322/1475  loss: 0.1305 (0.1743)  lr: 0.001000\u001b[0m\n",
            "\u001b[32m2025-01-16 22:27:37.893\u001b[0m | \u001b[1mINFO    \u001b[0m | \u001b[36m__main__\u001b[0m:\u001b[36mtrain\u001b[0m:\u001b[36m197\u001b[0m - \u001b[1mepoch: 13  batch: 336/1475  loss: 0.1328 (0.1741)  lr: 0.001000\u001b[0m\n",
            "\u001b[32m2025-01-16 22:27:50.074\u001b[0m | \u001b[1mINFO    \u001b[0m | \u001b[36m__main__\u001b[0m:\u001b[36mtrain\u001b[0m:\u001b[36m197\u001b[0m - \u001b[1mepoch: 13  batch: 350/1475  loss: 0.1334 (0.1740)  lr: 0.001000\u001b[0m\n",
            "\u001b[32m2025-01-16 22:28:02.329\u001b[0m | \u001b[1mINFO    \u001b[0m | \u001b[36m__main__\u001b[0m:\u001b[36mtrain\u001b[0m:\u001b[36m197\u001b[0m - \u001b[1mepoch: 13  batch: 364/1475  loss: 0.1396 (0.1738)  lr: 0.001000\u001b[0m\n",
            "\u001b[32m2025-01-16 22:28:14.498\u001b[0m | \u001b[1mINFO    \u001b[0m | \u001b[36m__main__\u001b[0m:\u001b[36mtrain\u001b[0m:\u001b[36m197\u001b[0m - \u001b[1mepoch: 13  batch: 378/1475  loss: 0.1359 (0.1737)  lr: 0.001000\u001b[0m\n",
            "\u001b[32m2025-01-16 22:28:26.649\u001b[0m | \u001b[1mINFO    \u001b[0m | \u001b[36m__main__\u001b[0m:\u001b[36mtrain\u001b[0m:\u001b[36m197\u001b[0m - \u001b[1mepoch: 13  batch: 392/1475  loss: 0.1285 (0.1735)  lr: 0.001000\u001b[0m\n",
            "\u001b[32m2025-01-16 22:28:38.898\u001b[0m | \u001b[1mINFO    \u001b[0m | \u001b[36m__main__\u001b[0m:\u001b[36mtrain\u001b[0m:\u001b[36m197\u001b[0m - \u001b[1mepoch: 13  batch: 406/1475  loss: 0.1333 (0.1733)  lr: 0.001000\u001b[0m\n",
            "\u001b[32m2025-01-16 22:28:51.148\u001b[0m | \u001b[1mINFO    \u001b[0m | \u001b[36m__main__\u001b[0m:\u001b[36mtrain\u001b[0m:\u001b[36m197\u001b[0m - \u001b[1mepoch: 13  batch: 420/1475  loss: 0.1360 (0.1732)  lr: 0.001000\u001b[0m\n",
            "\u001b[32m2025-01-16 22:29:03.339\u001b[0m | \u001b[1mINFO    \u001b[0m | \u001b[36m__main__\u001b[0m:\u001b[36mtrain\u001b[0m:\u001b[36m197\u001b[0m - \u001b[1mepoch: 13  batch: 434/1475  loss: 0.1360 (0.1730)  lr: 0.001000\u001b[0m\n",
            "\u001b[32m2025-01-16 22:29:15.490\u001b[0m | \u001b[1mINFO    \u001b[0m | \u001b[36m__main__\u001b[0m:\u001b[36mtrain\u001b[0m:\u001b[36m197\u001b[0m - \u001b[1mepoch: 13  batch: 448/1475  loss: 0.1390 (0.1729)  lr: 0.001000\u001b[0m\n",
            "\u001b[32m2025-01-16 22:29:27.766\u001b[0m | \u001b[1mINFO    \u001b[0m | \u001b[36m__main__\u001b[0m:\u001b[36mtrain\u001b[0m:\u001b[36m197\u001b[0m - \u001b[1mepoch: 13  batch: 462/1475  loss: 0.1404 (0.1727)  lr: 0.001000\u001b[0m\n",
            "\u001b[32m2025-01-16 22:29:39.930\u001b[0m | \u001b[1mINFO    \u001b[0m | \u001b[36m__main__\u001b[0m:\u001b[36mtrain\u001b[0m:\u001b[36m197\u001b[0m - \u001b[1mepoch: 13  batch: 476/1475  loss: 0.1330 (0.1726)  lr: 0.001000\u001b[0m\n",
            "\u001b[32m2025-01-16 22:29:52.168\u001b[0m | \u001b[1mINFO    \u001b[0m | \u001b[36m__main__\u001b[0m:\u001b[36mtrain\u001b[0m:\u001b[36m197\u001b[0m - \u001b[1mepoch: 13  batch: 490/1475  loss: 0.1331 (0.1724)  lr: 0.001000\u001b[0m\n",
            "\u001b[32m2025-01-16 22:30:04.345\u001b[0m | \u001b[1mINFO    \u001b[0m | \u001b[36m__main__\u001b[0m:\u001b[36mtrain\u001b[0m:\u001b[36m197\u001b[0m - \u001b[1mepoch: 13  batch: 504/1475  loss: 0.1328 (0.1723)  lr: 0.001000\u001b[0m\n",
            "\u001b[32m2025-01-16 22:30:16.488\u001b[0m | \u001b[1mINFO    \u001b[0m | \u001b[36m__main__\u001b[0m:\u001b[36mtrain\u001b[0m:\u001b[36m197\u001b[0m - \u001b[1mepoch: 13  batch: 518/1475  loss: 0.1315 (0.1721)  lr: 0.001000\u001b[0m\n",
            "\u001b[32m2025-01-16 22:30:28.652\u001b[0m | \u001b[1mINFO    \u001b[0m | \u001b[36m__main__\u001b[0m:\u001b[36mtrain\u001b[0m:\u001b[36m197\u001b[0m - \u001b[1mepoch: 13  batch: 532/1475  loss: 0.1367 (0.1720)  lr: 0.001000\u001b[0m\n",
            "\u001b[32m2025-01-16 22:30:40.853\u001b[0m | \u001b[1mINFO    \u001b[0m | \u001b[36m__main__\u001b[0m:\u001b[36mtrain\u001b[0m:\u001b[36m197\u001b[0m - \u001b[1mepoch: 13  batch: 546/1475  loss: 0.1374 (0.1718)  lr: 0.001000\u001b[0m\n",
            "\u001b[32m2025-01-16 22:30:53.044\u001b[0m | \u001b[1mINFO    \u001b[0m | \u001b[36m__main__\u001b[0m:\u001b[36mtrain\u001b[0m:\u001b[36m197\u001b[0m - \u001b[1mepoch: 13  batch: 560/1475  loss: 0.1334 (0.1717)  lr: 0.001000\u001b[0m\n",
            "\u001b[32m2025-01-16 22:31:05.228\u001b[0m | \u001b[1mINFO    \u001b[0m | \u001b[36m__main__\u001b[0m:\u001b[36mtrain\u001b[0m:\u001b[36m197\u001b[0m - \u001b[1mepoch: 13  batch: 574/1475  loss: 0.1291 (0.1715)  lr: 0.001000\u001b[0m\n",
            "\u001b[32m2025-01-16 22:31:17.380\u001b[0m | \u001b[1mINFO    \u001b[0m | \u001b[36m__main__\u001b[0m:\u001b[36mtrain\u001b[0m:\u001b[36m197\u001b[0m - \u001b[1mepoch: 13  batch: 588/1475  loss: 0.1324 (0.1714)  lr: 0.001000\u001b[0m\n",
            "\u001b[32m2025-01-16 22:31:29.490\u001b[0m | \u001b[1mINFO    \u001b[0m | \u001b[36m__main__\u001b[0m:\u001b[36mtrain\u001b[0m:\u001b[36m197\u001b[0m - \u001b[1mepoch: 13  batch: 602/1475  loss: 0.1344 (0.1712)  lr: 0.001000\u001b[0m\n",
            "\u001b[32m2025-01-16 22:31:41.680\u001b[0m | \u001b[1mINFO    \u001b[0m | \u001b[36m__main__\u001b[0m:\u001b[36mtrain\u001b[0m:\u001b[36m197\u001b[0m - \u001b[1mepoch: 13  batch: 616/1475  loss: 0.1270 (0.1711)  lr: 0.001000\u001b[0m\n",
            "\u001b[32m2025-01-16 22:31:53.879\u001b[0m | \u001b[1mINFO    \u001b[0m | \u001b[36m__main__\u001b[0m:\u001b[36mtrain\u001b[0m:\u001b[36m197\u001b[0m - \u001b[1mepoch: 13  batch: 630/1475  loss: 0.1287 (0.1709)  lr: 0.001000\u001b[0m\n",
            "\u001b[32m2025-01-16 22:32:06.060\u001b[0m | \u001b[1mINFO    \u001b[0m | \u001b[36m__main__\u001b[0m:\u001b[36mtrain\u001b[0m:\u001b[36m197\u001b[0m - \u001b[1mepoch: 13  batch: 644/1475  loss: 0.1377 (0.1708)  lr: 0.001000\u001b[0m\n",
            "\u001b[32m2025-01-16 22:32:18.263\u001b[0m | \u001b[1mINFO    \u001b[0m | \u001b[36m__main__\u001b[0m:\u001b[36mtrain\u001b[0m:\u001b[36m197\u001b[0m - \u001b[1mepoch: 13  batch: 658/1475  loss: 0.1340 (0.1707)  lr: 0.001000\u001b[0m\n",
            "\u001b[32m2025-01-16 22:32:30.450\u001b[0m | \u001b[1mINFO    \u001b[0m | \u001b[36m__main__\u001b[0m:\u001b[36mtrain\u001b[0m:\u001b[36m197\u001b[0m - \u001b[1mepoch: 13  batch: 672/1475  loss: 0.1385 (0.1706)  lr: 0.001000\u001b[0m\n",
            "\u001b[32m2025-01-16 22:32:42.727\u001b[0m | \u001b[1mINFO    \u001b[0m | \u001b[36m__main__\u001b[0m:\u001b[36mtrain\u001b[0m:\u001b[36m197\u001b[0m - \u001b[1mepoch: 13  batch: 686/1475  loss: 0.1388 (0.1705)  lr: 0.001000\u001b[0m\n",
            "\u001b[32m2025-01-16 22:32:54.943\u001b[0m | \u001b[1mINFO    \u001b[0m | \u001b[36m__main__\u001b[0m:\u001b[36mtrain\u001b[0m:\u001b[36m197\u001b[0m - \u001b[1mepoch: 13  batch: 700/1475  loss: 0.1379 (0.1704)  lr: 0.001000\u001b[0m\n",
            "\u001b[32m2025-01-16 22:33:07.116\u001b[0m | \u001b[1mINFO    \u001b[0m | \u001b[36m__main__\u001b[0m:\u001b[36mtrain\u001b[0m:\u001b[36m197\u001b[0m - \u001b[1mepoch: 13  batch: 714/1475  loss: 0.1346 (0.1702)  lr: 0.001000\u001b[0m\n",
            "\u001b[32m2025-01-16 22:33:19.337\u001b[0m | \u001b[1mINFO    \u001b[0m | \u001b[36m__main__\u001b[0m:\u001b[36mtrain\u001b[0m:\u001b[36m197\u001b[0m - \u001b[1mepoch: 13  batch: 728/1475  loss: 0.1390 (0.1701)  lr: 0.001000\u001b[0m\n",
            "\u001b[32m2025-01-16 22:33:31.463\u001b[0m | \u001b[1mINFO    \u001b[0m | \u001b[36m__main__\u001b[0m:\u001b[36mtrain\u001b[0m:\u001b[36m197\u001b[0m - \u001b[1mepoch: 13  batch: 742/1475  loss: 0.1334 (0.1700)  lr: 0.001000\u001b[0m\n",
            "\u001b[32m2025-01-16 22:33:43.726\u001b[0m | \u001b[1mINFO    \u001b[0m | \u001b[36m__main__\u001b[0m:\u001b[36mtrain\u001b[0m:\u001b[36m197\u001b[0m - \u001b[1mepoch: 13  batch: 756/1475  loss: 0.1341 (0.1699)  lr: 0.001000\u001b[0m\n",
            "\u001b[32m2025-01-16 22:33:55.947\u001b[0m | \u001b[1mINFO    \u001b[0m | \u001b[36m__main__\u001b[0m:\u001b[36mtrain\u001b[0m:\u001b[36m197\u001b[0m - \u001b[1mepoch: 13  batch: 770/1475  loss: 0.1352 (0.1697)  lr: 0.001000\u001b[0m\n",
            "\u001b[32m2025-01-16 22:34:08.122\u001b[0m | \u001b[1mINFO    \u001b[0m | \u001b[36m__main__\u001b[0m:\u001b[36mtrain\u001b[0m:\u001b[36m197\u001b[0m - \u001b[1mepoch: 13  batch: 784/1475  loss: 0.1379 (0.1696)  lr: 0.001000\u001b[0m\n",
            "\u001b[32m2025-01-16 22:34:20.280\u001b[0m | \u001b[1mINFO    \u001b[0m | \u001b[36m__main__\u001b[0m:\u001b[36mtrain\u001b[0m:\u001b[36m197\u001b[0m - \u001b[1mepoch: 13  batch: 798/1475  loss: 0.1367 (0.1695)  lr: 0.001000\u001b[0m\n",
            "\u001b[32m2025-01-16 22:34:32.514\u001b[0m | \u001b[1mINFO    \u001b[0m | \u001b[36m__main__\u001b[0m:\u001b[36mtrain\u001b[0m:\u001b[36m197\u001b[0m - \u001b[1mepoch: 13  batch: 812/1475  loss: 0.1343 (0.1694)  lr: 0.001000\u001b[0m\n",
            "\u001b[32m2025-01-16 22:34:44.716\u001b[0m | \u001b[1mINFO    \u001b[0m | \u001b[36m__main__\u001b[0m:\u001b[36mtrain\u001b[0m:\u001b[36m197\u001b[0m - \u001b[1mepoch: 13  batch: 826/1475  loss: 0.1433 (0.1693)  lr: 0.001000\u001b[0m\n",
            "\u001b[32m2025-01-16 22:34:56.902\u001b[0m | \u001b[1mINFO    \u001b[0m | \u001b[36m__main__\u001b[0m:\u001b[36mtrain\u001b[0m:\u001b[36m197\u001b[0m - \u001b[1mepoch: 13  batch: 840/1475  loss: 0.1353 (0.1692)  lr: 0.001000\u001b[0m\n",
            "\u001b[32m2025-01-16 22:35:09.093\u001b[0m | \u001b[1mINFO    \u001b[0m | \u001b[36m__main__\u001b[0m:\u001b[36mtrain\u001b[0m:\u001b[36m197\u001b[0m - \u001b[1mepoch: 13  batch: 854/1475  loss: 0.1330 (0.1690)  lr: 0.001000\u001b[0m\n",
            "\u001b[32m2025-01-16 22:35:21.292\u001b[0m | \u001b[1mINFO    \u001b[0m | \u001b[36m__main__\u001b[0m:\u001b[36mtrain\u001b[0m:\u001b[36m197\u001b[0m - \u001b[1mepoch: 13  batch: 868/1475  loss: 0.1328 (0.1689)  lr: 0.001000\u001b[0m\n",
            "\u001b[32m2025-01-16 22:35:33.515\u001b[0m | \u001b[1mINFO    \u001b[0m | \u001b[36m__main__\u001b[0m:\u001b[36mtrain\u001b[0m:\u001b[36m197\u001b[0m - \u001b[1mepoch: 13  batch: 882/1475  loss: 0.1369 (0.1688)  lr: 0.001000\u001b[0m\n",
            "\u001b[32m2025-01-16 22:35:45.644\u001b[0m | \u001b[1mINFO    \u001b[0m | \u001b[36m__main__\u001b[0m:\u001b[36mtrain\u001b[0m:\u001b[36m197\u001b[0m - \u001b[1mepoch: 13  batch: 896/1475  loss: 0.1368 (0.1687)  lr: 0.001000\u001b[0m\n",
            "\u001b[32m2025-01-16 22:35:57.853\u001b[0m | \u001b[1mINFO    \u001b[0m | \u001b[36m__main__\u001b[0m:\u001b[36mtrain\u001b[0m:\u001b[36m197\u001b[0m - \u001b[1mepoch: 13  batch: 910/1475  loss: 0.1410 (0.1686)  lr: 0.001000\u001b[0m\n",
            "\u001b[32m2025-01-16 22:36:10.013\u001b[0m | \u001b[1mINFO    \u001b[0m | \u001b[36m__main__\u001b[0m:\u001b[36mtrain\u001b[0m:\u001b[36m197\u001b[0m - \u001b[1mepoch: 13  batch: 924/1475  loss: 0.1379 (0.1685)  lr: 0.001000\u001b[0m\n",
            "\u001b[32m2025-01-16 22:36:22.228\u001b[0m | \u001b[1mINFO    \u001b[0m | \u001b[36m__main__\u001b[0m:\u001b[36mtrain\u001b[0m:\u001b[36m197\u001b[0m - \u001b[1mepoch: 13  batch: 938/1475  loss: 0.1379 (0.1684)  lr: 0.001000\u001b[0m\n",
            "\u001b[32m2025-01-16 22:36:34.495\u001b[0m | \u001b[1mINFO    \u001b[0m | \u001b[36m__main__\u001b[0m:\u001b[36mtrain\u001b[0m:\u001b[36m197\u001b[0m - \u001b[1mepoch: 13  batch: 952/1475  loss: 0.1357 (0.1683)  lr: 0.001000\u001b[0m\n",
            "\u001b[32m2025-01-16 22:36:46.680\u001b[0m | \u001b[1mINFO    \u001b[0m | \u001b[36m__main__\u001b[0m:\u001b[36mtrain\u001b[0m:\u001b[36m197\u001b[0m - \u001b[1mepoch: 13  batch: 966/1475  loss: 0.1349 (0.1682)  lr: 0.001000\u001b[0m\n",
            "\u001b[32m2025-01-16 22:36:58.862\u001b[0m | \u001b[1mINFO    \u001b[0m | \u001b[36m__main__\u001b[0m:\u001b[36mtrain\u001b[0m:\u001b[36m197\u001b[0m - \u001b[1mepoch: 13  batch: 980/1475  loss: 0.1337 (0.1681)  lr: 0.001000\u001b[0m\n",
            "\u001b[32m2025-01-16 22:37:11.081\u001b[0m | \u001b[1mINFO    \u001b[0m | \u001b[36m__main__\u001b[0m:\u001b[36mtrain\u001b[0m:\u001b[36m197\u001b[0m - \u001b[1mepoch: 13  batch: 994/1475  loss: 0.1401 (0.1680)  lr: 0.001000\u001b[0m\n",
            "\u001b[32m2025-01-16 22:37:23.346\u001b[0m | \u001b[1mINFO    \u001b[0m | \u001b[36m__main__\u001b[0m:\u001b[36mtrain\u001b[0m:\u001b[36m197\u001b[0m - \u001b[1mepoch: 13  batch: 1008/1475  loss: 0.1386 (0.1679)  lr: 0.001000\u001b[0m\n",
            "\u001b[32m2025-01-16 22:37:35.499\u001b[0m | \u001b[1mINFO    \u001b[0m | \u001b[36m__main__\u001b[0m:\u001b[36mtrain\u001b[0m:\u001b[36m197\u001b[0m - \u001b[1mepoch: 13  batch: 1022/1475  loss: 0.1386 (0.1678)  lr: 0.001000\u001b[0m\n",
            "\u001b[32m2025-01-16 22:37:47.728\u001b[0m | \u001b[1mINFO    \u001b[0m | \u001b[36m__main__\u001b[0m:\u001b[36mtrain\u001b[0m:\u001b[36m197\u001b[0m - \u001b[1mepoch: 13  batch: 1036/1475  loss: 0.1404 (0.1677)  lr: 0.001000\u001b[0m\n",
            "\u001b[32m2025-01-16 22:37:59.933\u001b[0m | \u001b[1mINFO    \u001b[0m | \u001b[36m__main__\u001b[0m:\u001b[36mtrain\u001b[0m:\u001b[36m197\u001b[0m - \u001b[1mepoch: 13  batch: 1050/1475  loss: 0.1385 (0.1676)  lr: 0.001000\u001b[0m\n",
            "\u001b[32m2025-01-16 22:38:12.110\u001b[0m | \u001b[1mINFO    \u001b[0m | \u001b[36m__main__\u001b[0m:\u001b[36mtrain\u001b[0m:\u001b[36m197\u001b[0m - \u001b[1mepoch: 13  batch: 1064/1475  loss: 0.1398 (0.1675)  lr: 0.001000\u001b[0m\n",
            "\u001b[32m2025-01-16 22:38:24.258\u001b[0m | \u001b[1mINFO    \u001b[0m | \u001b[36m__main__\u001b[0m:\u001b[36mtrain\u001b[0m:\u001b[36m197\u001b[0m - \u001b[1mepoch: 13  batch: 1078/1475  loss: 0.1351 (0.1674)  lr: 0.001000\u001b[0m\n",
            "\u001b[32m2025-01-16 22:38:36.411\u001b[0m | \u001b[1mINFO    \u001b[0m | \u001b[36m__main__\u001b[0m:\u001b[36mtrain\u001b[0m:\u001b[36m197\u001b[0m - \u001b[1mepoch: 13  batch: 1092/1475  loss: 0.1301 (0.1673)  lr: 0.001000\u001b[0m\n",
            "\u001b[32m2025-01-16 22:38:48.693\u001b[0m | \u001b[1mINFO    \u001b[0m | \u001b[36m__main__\u001b[0m:\u001b[36mtrain\u001b[0m:\u001b[36m197\u001b[0m - \u001b[1mepoch: 13  batch: 1106/1475  loss: 0.1364 (0.1672)  lr: 0.001000\u001b[0m\n",
            "\u001b[32m2025-01-16 22:39:00.985\u001b[0m | \u001b[1mINFO    \u001b[0m | \u001b[36m__main__\u001b[0m:\u001b[36mtrain\u001b[0m:\u001b[36m197\u001b[0m - \u001b[1mepoch: 13  batch: 1120/1475  loss: 0.1395 (0.1671)  lr: 0.001000\u001b[0m\n",
            "\u001b[32m2025-01-16 22:39:13.276\u001b[0m | \u001b[1mINFO    \u001b[0m | \u001b[36m__main__\u001b[0m:\u001b[36mtrain\u001b[0m:\u001b[36m197\u001b[0m - \u001b[1mepoch: 13  batch: 1134/1475  loss: 0.1393 (0.1670)  lr: 0.001000\u001b[0m\n",
            "\u001b[32m2025-01-16 22:39:25.455\u001b[0m | \u001b[1mINFO    \u001b[0m | \u001b[36m__main__\u001b[0m:\u001b[36mtrain\u001b[0m:\u001b[36m197\u001b[0m - \u001b[1mepoch: 13  batch: 1148/1475  loss: 0.1376 (0.1669)  lr: 0.001000\u001b[0m\n",
            "\u001b[32m2025-01-16 22:39:37.635\u001b[0m | \u001b[1mINFO    \u001b[0m | \u001b[36m__main__\u001b[0m:\u001b[36mtrain\u001b[0m:\u001b[36m197\u001b[0m - \u001b[1mepoch: 13  batch: 1162/1475  loss: 0.1363 (0.1668)  lr: 0.001000\u001b[0m\n",
            "\u001b[32m2025-01-16 22:39:49.815\u001b[0m | \u001b[1mINFO    \u001b[0m | \u001b[36m__main__\u001b[0m:\u001b[36mtrain\u001b[0m:\u001b[36m197\u001b[0m - \u001b[1mepoch: 13  batch: 1176/1475  loss: 0.1363 (0.1667)  lr: 0.001000\u001b[0m\n",
            "\u001b[32m2025-01-16 22:40:02.070\u001b[0m | \u001b[1mINFO    \u001b[0m | \u001b[36m__main__\u001b[0m:\u001b[36mtrain\u001b[0m:\u001b[36m197\u001b[0m - \u001b[1mepoch: 13  batch: 1190/1475  loss: 0.1384 (0.1666)  lr: 0.001000\u001b[0m\n",
            "\u001b[32m2025-01-16 22:40:14.290\u001b[0m | \u001b[1mINFO    \u001b[0m | \u001b[36m__main__\u001b[0m:\u001b[36mtrain\u001b[0m:\u001b[36m197\u001b[0m - \u001b[1mepoch: 13  batch: 1204/1475  loss: 0.1360 (0.1665)  lr: 0.001000\u001b[0m\n",
            "\u001b[32m2025-01-16 22:40:26.444\u001b[0m | \u001b[1mINFO    \u001b[0m | \u001b[36m__main__\u001b[0m:\u001b[36mtrain\u001b[0m:\u001b[36m197\u001b[0m - \u001b[1mepoch: 13  batch: 1218/1475  loss: 0.1322 (0.1664)  lr: 0.001000\u001b[0m\n",
            "\u001b[32m2025-01-16 22:40:38.709\u001b[0m | \u001b[1mINFO    \u001b[0m | \u001b[36m__main__\u001b[0m:\u001b[36mtrain\u001b[0m:\u001b[36m197\u001b[0m - \u001b[1mepoch: 13  batch: 1232/1475  loss: 0.1329 (0.1663)  lr: 0.001000\u001b[0m\n",
            "\u001b[32m2025-01-16 22:40:50.920\u001b[0m | \u001b[1mINFO    \u001b[0m | \u001b[36m__main__\u001b[0m:\u001b[36mtrain\u001b[0m:\u001b[36m197\u001b[0m - \u001b[1mepoch: 13  batch: 1246/1475  loss: 0.1388 (0.1662)  lr: 0.001000\u001b[0m\n",
            "\u001b[32m2025-01-16 22:41:03.231\u001b[0m | \u001b[1mINFO    \u001b[0m | \u001b[36m__main__\u001b[0m:\u001b[36mtrain\u001b[0m:\u001b[36m197\u001b[0m - \u001b[1mepoch: 13  batch: 1260/1475  loss: 0.1352 (0.1661)  lr: 0.001000\u001b[0m\n",
            "\u001b[32m2025-01-16 22:41:15.579\u001b[0m | \u001b[1mINFO    \u001b[0m | \u001b[36m__main__\u001b[0m:\u001b[36mtrain\u001b[0m:\u001b[36m197\u001b[0m - \u001b[1mepoch: 13  batch: 1274/1475  loss: 0.1406 (0.1660)  lr: 0.001000\u001b[0m\n",
            "\u001b[32m2025-01-16 22:41:27.857\u001b[0m | \u001b[1mINFO    \u001b[0m | \u001b[36m__main__\u001b[0m:\u001b[36mtrain\u001b[0m:\u001b[36m197\u001b[0m - \u001b[1mepoch: 13  batch: 1288/1475  loss: 0.1338 (0.1659)  lr: 0.001000\u001b[0m\n",
            "\u001b[32m2025-01-16 22:41:40.099\u001b[0m | \u001b[1mINFO    \u001b[0m | \u001b[36m__main__\u001b[0m:\u001b[36mtrain\u001b[0m:\u001b[36m197\u001b[0m - \u001b[1mepoch: 13  batch: 1302/1475  loss: 0.1347 (0.1658)  lr: 0.001000\u001b[0m\n",
            "\u001b[32m2025-01-16 22:41:52.340\u001b[0m | \u001b[1mINFO    \u001b[0m | \u001b[36m__main__\u001b[0m:\u001b[36mtrain\u001b[0m:\u001b[36m197\u001b[0m - \u001b[1mepoch: 13  batch: 1316/1475  loss: 0.1353 (0.1657)  lr: 0.001000\u001b[0m\n",
            "\u001b[32m2025-01-16 22:42:04.624\u001b[0m | \u001b[1mINFO    \u001b[0m | \u001b[36m__main__\u001b[0m:\u001b[36mtrain\u001b[0m:\u001b[36m197\u001b[0m - \u001b[1mepoch: 13  batch: 1330/1475  loss: 0.1353 (0.1657)  lr: 0.001000\u001b[0m\n",
            "\u001b[32m2025-01-16 22:42:16.973\u001b[0m | \u001b[1mINFO    \u001b[0m | \u001b[36m__main__\u001b[0m:\u001b[36mtrain\u001b[0m:\u001b[36m197\u001b[0m - \u001b[1mepoch: 13  batch: 1344/1475  loss: 0.1493 (0.1656)  lr: 0.001000\u001b[0m\n",
            "\u001b[32m2025-01-16 22:42:29.297\u001b[0m | \u001b[1mINFO    \u001b[0m | \u001b[36m__main__\u001b[0m:\u001b[36mtrain\u001b[0m:\u001b[36m197\u001b[0m - \u001b[1mepoch: 13  batch: 1358/1475  loss: 0.1502 (0.1656)  lr: 0.001000\u001b[0m\n",
            "\u001b[32m2025-01-16 22:42:41.577\u001b[0m | \u001b[1mINFO    \u001b[0m | \u001b[36m__main__\u001b[0m:\u001b[36mtrain\u001b[0m:\u001b[36m197\u001b[0m - \u001b[1mepoch: 13  batch: 1372/1475  loss: 0.1444 (0.1655)  lr: 0.001000\u001b[0m\n",
            "\u001b[32m2025-01-16 22:42:53.915\u001b[0m | \u001b[1mINFO    \u001b[0m | \u001b[36m__main__\u001b[0m:\u001b[36mtrain\u001b[0m:\u001b[36m197\u001b[0m - \u001b[1mepoch: 13  batch: 1386/1475  loss: 0.1419 (0.1654)  lr: 0.001000\u001b[0m\n",
            "\u001b[32m2025-01-16 22:43:06.093\u001b[0m | \u001b[1mINFO    \u001b[0m | \u001b[36m__main__\u001b[0m:\u001b[36mtrain\u001b[0m:\u001b[36m197\u001b[0m - \u001b[1mepoch: 13  batch: 1400/1475  loss: 0.1388 (0.1653)  lr: 0.001000\u001b[0m\n",
            "\u001b[32m2025-01-16 22:43:18.344\u001b[0m | \u001b[1mINFO    \u001b[0m | \u001b[36m__main__\u001b[0m:\u001b[36mtrain\u001b[0m:\u001b[36m197\u001b[0m - \u001b[1mepoch: 13  batch: 1414/1475  loss: 0.1397 (0.1653)  lr: 0.001000\u001b[0m\n",
            "\u001b[32m2025-01-16 22:43:30.641\u001b[0m | \u001b[1mINFO    \u001b[0m | \u001b[36m__main__\u001b[0m:\u001b[36mtrain\u001b[0m:\u001b[36m197\u001b[0m - \u001b[1mepoch: 13  batch: 1428/1475  loss: 0.1431 (0.1652)  lr: 0.001000\u001b[0m\n",
            "\u001b[32m2025-01-16 22:43:42.843\u001b[0m | \u001b[1mINFO    \u001b[0m | \u001b[36m__main__\u001b[0m:\u001b[36mtrain\u001b[0m:\u001b[36m197\u001b[0m - \u001b[1mepoch: 13  batch: 1442/1475  loss: 0.1358 (0.1651)  lr: 0.001000\u001b[0m\n",
            "\u001b[32m2025-01-16 22:43:55.104\u001b[0m | \u001b[1mINFO    \u001b[0m | \u001b[36m__main__\u001b[0m:\u001b[36mtrain\u001b[0m:\u001b[36m197\u001b[0m - \u001b[1mepoch: 13  batch: 1456/1475  loss: 0.1429 (0.1651)  lr: 0.001000\u001b[0m\n",
            "\u001b[32m2025-01-16 22:44:07.354\u001b[0m | \u001b[1mINFO    \u001b[0m | \u001b[36m__main__\u001b[0m:\u001b[36mtrain\u001b[0m:\u001b[36m197\u001b[0m - \u001b[1mepoch: 13  batch: 1470/1475  loss: 0.1376 (0.1650)  lr: 0.001000\u001b[0m\n",
            "\u001b[32m2025-01-16 22:44:11.471\u001b[0m | \u001b[1mINFO    \u001b[0m | \u001b[36m__main__\u001b[0m:\u001b[36mtrain\u001b[0m:\u001b[36m219\u001b[0m - \u001b[1mFinish epoch: 13, without validation\u001b[0m\n",
            "\u001b[32m2025-01-16 22:44:25.373\u001b[0m | \u001b[1mINFO    \u001b[0m | \u001b[36m__main__\u001b[0m:\u001b[36mtrain\u001b[0m:\u001b[36m197\u001b[0m - \u001b[1mepoch: 14  batch: 14/1475  loss: 0.1190 (0.1648)  lr: 0.001000\u001b[0m\n",
            "\u001b[32m2025-01-16 22:44:37.606\u001b[0m | \u001b[1mINFO    \u001b[0m | \u001b[36m__main__\u001b[0m:\u001b[36mtrain\u001b[0m:\u001b[36m197\u001b[0m - \u001b[1mepoch: 14  batch: 28/1475  loss: 0.1065 (0.1646)  lr: 0.001000\u001b[0m\n",
            "\u001b[32m2025-01-16 22:44:49.829\u001b[0m | \u001b[1mINFO    \u001b[0m | \u001b[36m__main__\u001b[0m:\u001b[36mtrain\u001b[0m:\u001b[36m197\u001b[0m - \u001b[1mepoch: 14  batch: 42/1475  loss: 0.1133 (0.1644)  lr: 0.001000\u001b[0m\n",
            "\u001b[32m2025-01-16 22:45:02.048\u001b[0m | \u001b[1mINFO    \u001b[0m | \u001b[36m__main__\u001b[0m:\u001b[36mtrain\u001b[0m:\u001b[36m197\u001b[0m - \u001b[1mepoch: 14  batch: 56/1475  loss: 0.1108 (0.1643)  lr: 0.001000\u001b[0m\n",
            "\u001b[32m2025-01-16 22:45:14.209\u001b[0m | \u001b[1mINFO    \u001b[0m | \u001b[36m__main__\u001b[0m:\u001b[36mtrain\u001b[0m:\u001b[36m197\u001b[0m - \u001b[1mepoch: 14  batch: 70/1475  loss: 0.1110 (0.1641)  lr: 0.001000\u001b[0m\n",
            "\u001b[32m2025-01-16 22:45:26.427\u001b[0m | \u001b[1mINFO    \u001b[0m | \u001b[36m__main__\u001b[0m:\u001b[36mtrain\u001b[0m:\u001b[36m197\u001b[0m - \u001b[1mepoch: 14  batch: 84/1475  loss: 0.1106 (0.1639)  lr: 0.001000\u001b[0m\n",
            "\u001b[32m2025-01-16 22:45:38.659\u001b[0m | \u001b[1mINFO    \u001b[0m | \u001b[36m__main__\u001b[0m:\u001b[36mtrain\u001b[0m:\u001b[36m197\u001b[0m - \u001b[1mepoch: 14  batch: 98/1475  loss: 0.1095 (0.1638)  lr: 0.001000\u001b[0m\n",
            "\u001b[32m2025-01-16 22:45:50.835\u001b[0m | \u001b[1mINFO    \u001b[0m | \u001b[36m__main__\u001b[0m:\u001b[36mtrain\u001b[0m:\u001b[36m197\u001b[0m - \u001b[1mepoch: 14  batch: 112/1475  loss: 0.1124 (0.1636)  lr: 0.001000\u001b[0m\n",
            "\u001b[32m2025-01-16 22:46:03.039\u001b[0m | \u001b[1mINFO    \u001b[0m | \u001b[36m__main__\u001b[0m:\u001b[36mtrain\u001b[0m:\u001b[36m197\u001b[0m - \u001b[1mepoch: 14  batch: 126/1475  loss: 0.1092 (0.1635)  lr: 0.001000\u001b[0m\n",
            "\u001b[32m2025-01-16 22:46:15.216\u001b[0m | \u001b[1mINFO    \u001b[0m | \u001b[36m__main__\u001b[0m:\u001b[36mtrain\u001b[0m:\u001b[36m197\u001b[0m - \u001b[1mepoch: 14  batch: 140/1475  loss: 0.1128 (0.1633)  lr: 0.001000\u001b[0m\n",
            "\u001b[32m2025-01-16 22:46:27.507\u001b[0m | \u001b[1mINFO    \u001b[0m | \u001b[36m__main__\u001b[0m:\u001b[36mtrain\u001b[0m:\u001b[36m197\u001b[0m - \u001b[1mepoch: 14  batch: 154/1475  loss: 0.1137 (0.1632)  lr: 0.001000\u001b[0m\n",
            "\u001b[32m2025-01-16 22:46:39.731\u001b[0m | \u001b[1mINFO    \u001b[0m | \u001b[36m__main__\u001b[0m:\u001b[36mtrain\u001b[0m:\u001b[36m197\u001b[0m - \u001b[1mepoch: 14  batch: 168/1475  loss: 0.1196 (0.1631)  lr: 0.001000\u001b[0m\n",
            "\u001b[32m2025-01-16 22:46:51.981\u001b[0m | \u001b[1mINFO    \u001b[0m | \u001b[36m__main__\u001b[0m:\u001b[36mtrain\u001b[0m:\u001b[36m197\u001b[0m - \u001b[1mepoch: 14  batch: 182/1475  loss: 0.1165 (0.1629)  lr: 0.001000\u001b[0m\n",
            "\u001b[32m2025-01-16 22:47:04.316\u001b[0m | \u001b[1mINFO    \u001b[0m | \u001b[36m__main__\u001b[0m:\u001b[36mtrain\u001b[0m:\u001b[36m197\u001b[0m - \u001b[1mepoch: 14  batch: 196/1475  loss: 0.1125 (0.1628)  lr: 0.001000\u001b[0m\n",
            "\u001b[32m2025-01-16 22:47:16.561\u001b[0m | \u001b[1mINFO    \u001b[0m | \u001b[36m__main__\u001b[0m:\u001b[36mtrain\u001b[0m:\u001b[36m197\u001b[0m - \u001b[1mepoch: 14  batch: 210/1475  loss: 0.1155 (0.1626)  lr: 0.001000\u001b[0m\n",
            "\u001b[32m2025-01-16 22:47:28.841\u001b[0m | \u001b[1mINFO    \u001b[0m | \u001b[36m__main__\u001b[0m:\u001b[36mtrain\u001b[0m:\u001b[36m197\u001b[0m - \u001b[1mepoch: 14  batch: 224/1475  loss: 0.1173 (0.1625)  lr: 0.001000\u001b[0m\n",
            "\u001b[32m2025-01-16 22:47:41.077\u001b[0m | \u001b[1mINFO    \u001b[0m | \u001b[36m__main__\u001b[0m:\u001b[36mtrain\u001b[0m:\u001b[36m197\u001b[0m - \u001b[1mepoch: 14  batch: 238/1475  loss: 0.1135 (0.1623)  lr: 0.001000\u001b[0m\n",
            "\u001b[32m2025-01-16 22:47:53.354\u001b[0m | \u001b[1mINFO    \u001b[0m | \u001b[36m__main__\u001b[0m:\u001b[36mtrain\u001b[0m:\u001b[36m197\u001b[0m - \u001b[1mepoch: 14  batch: 252/1475  loss: 0.1212 (0.1622)  lr: 0.001000\u001b[0m\n",
            "\u001b[32m2025-01-16 22:48:05.670\u001b[0m | \u001b[1mINFO    \u001b[0m | \u001b[36m__main__\u001b[0m:\u001b[36mtrain\u001b[0m:\u001b[36m197\u001b[0m - \u001b[1mepoch: 14  batch: 266/1475  loss: 0.1212 (0.1621)  lr: 0.001000\u001b[0m\n",
            "\u001b[32m2025-01-16 22:48:17.879\u001b[0m | \u001b[1mINFO    \u001b[0m | \u001b[36m__main__\u001b[0m:\u001b[36mtrain\u001b[0m:\u001b[36m197\u001b[0m - \u001b[1mepoch: 14  batch: 280/1475  loss: 0.1168 (0.1620)  lr: 0.001000\u001b[0m\n",
            "\u001b[32m2025-01-16 22:48:30.105\u001b[0m | \u001b[1mINFO    \u001b[0m | \u001b[36m__main__\u001b[0m:\u001b[36mtrain\u001b[0m:\u001b[36m197\u001b[0m - \u001b[1mepoch: 14  batch: 294/1475  loss: 0.1162 (0.1618)  lr: 0.001000\u001b[0m\n",
            "\u001b[32m2025-01-16 22:48:42.319\u001b[0m | \u001b[1mINFO    \u001b[0m | \u001b[36m__main__\u001b[0m:\u001b[36mtrain\u001b[0m:\u001b[36m197\u001b[0m - \u001b[1mepoch: 14  batch: 308/1475  loss: 0.1154 (0.1617)  lr: 0.001000\u001b[0m\n",
            "\u001b[32m2025-01-16 22:48:54.565\u001b[0m | \u001b[1mINFO    \u001b[0m | \u001b[36m__main__\u001b[0m:\u001b[36mtrain\u001b[0m:\u001b[36m197\u001b[0m - \u001b[1mepoch: 14  batch: 322/1475  loss: 0.1210 (0.1616)  lr: 0.001000\u001b[0m\n",
            "\u001b[32m2025-01-16 22:49:06.748\u001b[0m | \u001b[1mINFO    \u001b[0m | \u001b[36m__main__\u001b[0m:\u001b[36mtrain\u001b[0m:\u001b[36m197\u001b[0m - \u001b[1mepoch: 14  batch: 336/1475  loss: 0.1130 (0.1614)  lr: 0.001000\u001b[0m\n",
            "\u001b[32m2025-01-16 22:49:18.974\u001b[0m | \u001b[1mINFO    \u001b[0m | \u001b[36m__main__\u001b[0m:\u001b[36mtrain\u001b[0m:\u001b[36m197\u001b[0m - \u001b[1mepoch: 14  batch: 350/1475  loss: 0.1186 (0.1613)  lr: 0.001000\u001b[0m\n",
            "\u001b[32m2025-01-16 22:49:31.195\u001b[0m | \u001b[1mINFO    \u001b[0m | \u001b[36m__main__\u001b[0m:\u001b[36mtrain\u001b[0m:\u001b[36m197\u001b[0m - \u001b[1mepoch: 14  batch: 364/1475  loss: 0.1186 (0.1612)  lr: 0.001000\u001b[0m\n",
            "\u001b[32m2025-01-16 22:49:43.427\u001b[0m | \u001b[1mINFO    \u001b[0m | \u001b[36m__main__\u001b[0m:\u001b[36mtrain\u001b[0m:\u001b[36m197\u001b[0m - \u001b[1mepoch: 14  batch: 378/1475  loss: 0.1179 (0.1611)  lr: 0.001000\u001b[0m\n",
            "\u001b[32m2025-01-16 22:49:55.679\u001b[0m | \u001b[1mINFO    \u001b[0m | \u001b[36m__main__\u001b[0m:\u001b[36mtrain\u001b[0m:\u001b[36m197\u001b[0m - \u001b[1mepoch: 14  batch: 392/1475  loss: 0.1113 (0.1610)  lr: 0.001000\u001b[0m\n",
            "\u001b[32m2025-01-16 22:50:07.906\u001b[0m | \u001b[1mINFO    \u001b[0m | \u001b[36m__main__\u001b[0m:\u001b[36mtrain\u001b[0m:\u001b[36m197\u001b[0m - \u001b[1mepoch: 14  batch: 406/1475  loss: 0.1177 (0.1608)  lr: 0.001000\u001b[0m\n",
            "\u001b[32m2025-01-16 22:50:20.218\u001b[0m | \u001b[1mINFO    \u001b[0m | \u001b[36m__main__\u001b[0m:\u001b[36mtrain\u001b[0m:\u001b[36m197\u001b[0m - \u001b[1mepoch: 14  batch: 420/1475  loss: 0.1238 (0.1607)  lr: 0.001000\u001b[0m\n",
            "\u001b[32m2025-01-16 22:50:32.529\u001b[0m | \u001b[1mINFO    \u001b[0m | \u001b[36m__main__\u001b[0m:\u001b[36mtrain\u001b[0m:\u001b[36m197\u001b[0m - \u001b[1mepoch: 14  batch: 434/1475  loss: 0.1229 (0.1606)  lr: 0.001000\u001b[0m\n",
            "\u001b[32m2025-01-16 22:50:44.771\u001b[0m | \u001b[1mINFO    \u001b[0m | \u001b[36m__main__\u001b[0m:\u001b[36mtrain\u001b[0m:\u001b[36m197\u001b[0m - \u001b[1mepoch: 14  batch: 448/1475  loss: 0.1110 (0.1605)  lr: 0.001000\u001b[0m\n",
            "\u001b[32m2025-01-16 22:50:57.024\u001b[0m | \u001b[1mINFO    \u001b[0m | \u001b[36m__main__\u001b[0m:\u001b[36mtrain\u001b[0m:\u001b[36m197\u001b[0m - \u001b[1mepoch: 14  batch: 462/1475  loss: 0.1148 (0.1604)  lr: 0.001000\u001b[0m\n",
            "\u001b[32m2025-01-16 22:51:09.231\u001b[0m | \u001b[1mINFO    \u001b[0m | \u001b[36m__main__\u001b[0m:\u001b[36mtrain\u001b[0m:\u001b[36m197\u001b[0m - \u001b[1mepoch: 14  batch: 476/1475  loss: 0.1182 (0.1603)  lr: 0.001000\u001b[0m\n",
            "\u001b[32m2025-01-16 22:51:21.477\u001b[0m | \u001b[1mINFO    \u001b[0m | \u001b[36m__main__\u001b[0m:\u001b[36mtrain\u001b[0m:\u001b[36m197\u001b[0m - \u001b[1mepoch: 14  batch: 490/1475  loss: 0.1200 (0.1602)  lr: 0.001000\u001b[0m\n",
            "\u001b[32m2025-01-16 22:51:33.632\u001b[0m | \u001b[1mINFO    \u001b[0m | \u001b[36m__main__\u001b[0m:\u001b[36mtrain\u001b[0m:\u001b[36m197\u001b[0m - \u001b[1mepoch: 14  batch: 504/1475  loss: 0.1258 (0.1601)  lr: 0.001000\u001b[0m\n",
            "\u001b[32m2025-01-16 22:51:45.857\u001b[0m | \u001b[1mINFO    \u001b[0m | \u001b[36m__main__\u001b[0m:\u001b[36mtrain\u001b[0m:\u001b[36m197\u001b[0m - \u001b[1mepoch: 14  batch: 518/1475  loss: 0.1232 (0.1600)  lr: 0.001000\u001b[0m\n",
            "\u001b[32m2025-01-16 22:51:58.032\u001b[0m | \u001b[1mINFO    \u001b[0m | \u001b[36m__main__\u001b[0m:\u001b[36mtrain\u001b[0m:\u001b[36m197\u001b[0m - \u001b[1mepoch: 14  batch: 532/1475  loss: 0.1258 (0.1599)  lr: 0.001000\u001b[0m\n",
            "\u001b[32m2025-01-16 22:52:10.282\u001b[0m | \u001b[1mINFO    \u001b[0m | \u001b[36m__main__\u001b[0m:\u001b[36mtrain\u001b[0m:\u001b[36m197\u001b[0m - \u001b[1mepoch: 14  batch: 546/1475  loss: 0.1198 (0.1598)  lr: 0.001000\u001b[0m\n",
            "\u001b[32m2025-01-16 22:52:22.565\u001b[0m | \u001b[1mINFO    \u001b[0m | \u001b[36m__main__\u001b[0m:\u001b[36mtrain\u001b[0m:\u001b[36m197\u001b[0m - \u001b[1mepoch: 14  batch: 560/1475  loss: 0.1203 (0.1597)  lr: 0.001000\u001b[0m\n",
            "\u001b[32m2025-01-16 22:52:34.806\u001b[0m | \u001b[1mINFO    \u001b[0m | \u001b[36m__main__\u001b[0m:\u001b[36mtrain\u001b[0m:\u001b[36m197\u001b[0m - \u001b[1mepoch: 14  batch: 574/1475  loss: 0.1203 (0.1596)  lr: 0.001000\u001b[0m\n",
            "\u001b[32m2025-01-16 22:52:47.019\u001b[0m | \u001b[1mINFO    \u001b[0m | \u001b[36m__main__\u001b[0m:\u001b[36mtrain\u001b[0m:\u001b[36m197\u001b[0m - \u001b[1mepoch: 14  batch: 588/1475  loss: 0.1208 (0.1595)  lr: 0.001000\u001b[0m\n",
            "\u001b[32m2025-01-16 22:52:59.254\u001b[0m | \u001b[1mINFO    \u001b[0m | \u001b[36m__main__\u001b[0m:\u001b[36mtrain\u001b[0m:\u001b[36m197\u001b[0m - \u001b[1mepoch: 14  batch: 602/1475  loss: 0.1269 (0.1594)  lr: 0.001000\u001b[0m\n",
            "\u001b[32m2025-01-16 22:53:11.427\u001b[0m | \u001b[1mINFO    \u001b[0m | \u001b[36m__main__\u001b[0m:\u001b[36mtrain\u001b[0m:\u001b[36m197\u001b[0m - \u001b[1mepoch: 14  batch: 616/1475  loss: 0.1233 (0.1593)  lr: 0.001000\u001b[0m\n",
            "\u001b[32m2025-01-16 22:53:23.594\u001b[0m | \u001b[1mINFO    \u001b[0m | \u001b[36m__main__\u001b[0m:\u001b[36mtrain\u001b[0m:\u001b[36m197\u001b[0m - \u001b[1mepoch: 14  batch: 630/1475  loss: 0.1224 (0.1592)  lr: 0.001000\u001b[0m\n",
            "\u001b[32m2025-01-16 22:53:35.830\u001b[0m | \u001b[1mINFO    \u001b[0m | \u001b[36m__main__\u001b[0m:\u001b[36mtrain\u001b[0m:\u001b[36m197\u001b[0m - \u001b[1mepoch: 14  batch: 644/1475  loss: 0.1227 (0.1591)  lr: 0.001000\u001b[0m\n",
            "\u001b[32m2025-01-16 22:53:48.006\u001b[0m | \u001b[1mINFO    \u001b[0m | \u001b[36m__main__\u001b[0m:\u001b[36mtrain\u001b[0m:\u001b[36m197\u001b[0m - \u001b[1mepoch: 14  batch: 658/1475  loss: 0.1261 (0.1590)  lr: 0.001000\u001b[0m\n",
            "\u001b[32m2025-01-16 22:54:00.201\u001b[0m | \u001b[1mINFO    \u001b[0m | \u001b[36m__main__\u001b[0m:\u001b[36mtrain\u001b[0m:\u001b[36m197\u001b[0m - \u001b[1mepoch: 14  batch: 672/1475  loss: 0.1282 (0.1589)  lr: 0.001000\u001b[0m\n",
            "\u001b[32m2025-01-16 22:54:12.451\u001b[0m | \u001b[1mINFO    \u001b[0m | \u001b[36m__main__\u001b[0m:\u001b[36mtrain\u001b[0m:\u001b[36m197\u001b[0m - \u001b[1mepoch: 14  batch: 686/1475  loss: 0.1224 (0.1588)  lr: 0.001000\u001b[0m\n",
            "\u001b[32m2025-01-16 22:54:24.758\u001b[0m | \u001b[1mINFO    \u001b[0m | \u001b[36m__main__\u001b[0m:\u001b[36mtrain\u001b[0m:\u001b[36m197\u001b[0m - \u001b[1mepoch: 14  batch: 700/1475  loss: 0.1224 (0.1587)  lr: 0.001000\u001b[0m\n",
            "\u001b[32m2025-01-16 22:54:36.904\u001b[0m | \u001b[1mINFO    \u001b[0m | \u001b[36m__main__\u001b[0m:\u001b[36mtrain\u001b[0m:\u001b[36m197\u001b[0m - \u001b[1mepoch: 14  batch: 714/1475  loss: 0.1197 (0.1586)  lr: 0.001000\u001b[0m\n",
            "\u001b[32m2025-01-16 22:54:49.098\u001b[0m | \u001b[1mINFO    \u001b[0m | \u001b[36m__main__\u001b[0m:\u001b[36mtrain\u001b[0m:\u001b[36m197\u001b[0m - \u001b[1mepoch: 14  batch: 728/1475  loss: 0.1210 (0.1585)  lr: 0.001000\u001b[0m\n",
            "\u001b[32m2025-01-16 22:55:01.312\u001b[0m | \u001b[1mINFO    \u001b[0m | \u001b[36m__main__\u001b[0m:\u001b[36mtrain\u001b[0m:\u001b[36m197\u001b[0m - \u001b[1mepoch: 14  batch: 742/1475  loss: 0.1325 (0.1585)  lr: 0.001000\u001b[0m\n",
            "\u001b[32m2025-01-16 22:55:13.429\u001b[0m | \u001b[1mINFO    \u001b[0m | \u001b[36m__main__\u001b[0m:\u001b[36mtrain\u001b[0m:\u001b[36m197\u001b[0m - \u001b[1mepoch: 14  batch: 756/1475  loss: 0.1228 (0.1584)  lr: 0.001000\u001b[0m\n",
            "\u001b[32m2025-01-16 22:55:25.639\u001b[0m | \u001b[1mINFO    \u001b[0m | \u001b[36m__main__\u001b[0m:\u001b[36mtrain\u001b[0m:\u001b[36m197\u001b[0m - \u001b[1mepoch: 14  batch: 770/1475  loss: 0.1218 (0.1583)  lr: 0.001000\u001b[0m\n",
            "\u001b[32m2025-01-16 22:55:37.876\u001b[0m | \u001b[1mINFO    \u001b[0m | \u001b[36m__main__\u001b[0m:\u001b[36mtrain\u001b[0m:\u001b[36m197\u001b[0m - \u001b[1mepoch: 14  batch: 784/1475  loss: 0.1202 (0.1582)  lr: 0.001000\u001b[0m\n",
            "\u001b[32m2025-01-16 22:55:50.086\u001b[0m | \u001b[1mINFO    \u001b[0m | \u001b[36m__main__\u001b[0m:\u001b[36mtrain\u001b[0m:\u001b[36m197\u001b[0m - \u001b[1mepoch: 14  batch: 798/1475  loss: 0.1216 (0.1581)  lr: 0.001000\u001b[0m\n",
            "\u001b[32m2025-01-16 22:56:02.340\u001b[0m | \u001b[1mINFO    \u001b[0m | \u001b[36m__main__\u001b[0m:\u001b[36mtrain\u001b[0m:\u001b[36m197\u001b[0m - \u001b[1mepoch: 14  batch: 812/1475  loss: 0.1184 (0.1580)  lr: 0.001000\u001b[0m\n",
            "\u001b[32m2025-01-16 22:56:14.616\u001b[0m | \u001b[1mINFO    \u001b[0m | \u001b[36m__main__\u001b[0m:\u001b[36mtrain\u001b[0m:\u001b[36m197\u001b[0m - \u001b[1mepoch: 14  batch: 826/1475  loss: 0.1246 (0.1579)  lr: 0.001000\u001b[0m\n",
            "\u001b[32m2025-01-16 22:56:26.872\u001b[0m | \u001b[1mINFO    \u001b[0m | \u001b[36m__main__\u001b[0m:\u001b[36mtrain\u001b[0m:\u001b[36m197\u001b[0m - \u001b[1mepoch: 14  batch: 840/1475  loss: 0.1235 (0.1578)  lr: 0.001000\u001b[0m\n",
            "\u001b[32m2025-01-16 22:56:39.012\u001b[0m | \u001b[1mINFO    \u001b[0m | \u001b[36m__main__\u001b[0m:\u001b[36mtrain\u001b[0m:\u001b[36m197\u001b[0m - \u001b[1mepoch: 14  batch: 854/1475  loss: 0.1289 (0.1577)  lr: 0.001000\u001b[0m\n",
            "\u001b[32m2025-01-16 22:56:51.248\u001b[0m | \u001b[1mINFO    \u001b[0m | \u001b[36m__main__\u001b[0m:\u001b[36mtrain\u001b[0m:\u001b[36m197\u001b[0m - \u001b[1mepoch: 14  batch: 868/1475  loss: 0.1262 (0.1577)  lr: 0.001000\u001b[0m\n",
            "\u001b[32m2025-01-16 22:57:03.405\u001b[0m | \u001b[1mINFO    \u001b[0m | \u001b[36m__main__\u001b[0m:\u001b[36mtrain\u001b[0m:\u001b[36m197\u001b[0m - \u001b[1mepoch: 14  batch: 882/1475  loss: 0.1318 (0.1576)  lr: 0.001000\u001b[0m\n",
            "\u001b[32m2025-01-16 22:57:15.625\u001b[0m | \u001b[1mINFO    \u001b[0m | \u001b[36m__main__\u001b[0m:\u001b[36mtrain\u001b[0m:\u001b[36m197\u001b[0m - \u001b[1mepoch: 14  batch: 896/1475  loss: 0.1276 (0.1575)  lr: 0.001000\u001b[0m\n",
            "\u001b[32m2025-01-16 22:57:27.901\u001b[0m | \u001b[1mINFO    \u001b[0m | \u001b[36m__main__\u001b[0m:\u001b[36mtrain\u001b[0m:\u001b[36m197\u001b[0m - \u001b[1mepoch: 14  batch: 910/1475  loss: 0.1276 (0.1574)  lr: 0.001000\u001b[0m\n",
            "\u001b[32m2025-01-16 22:57:40.142\u001b[0m | \u001b[1mINFO    \u001b[0m | \u001b[36m__main__\u001b[0m:\u001b[36mtrain\u001b[0m:\u001b[36m197\u001b[0m - \u001b[1mepoch: 14  batch: 924/1475  loss: 0.1206 (0.1574)  lr: 0.001000\u001b[0m\n",
            "\u001b[32m2025-01-16 22:57:52.388\u001b[0m | \u001b[1mINFO    \u001b[0m | \u001b[36m__main__\u001b[0m:\u001b[36mtrain\u001b[0m:\u001b[36m197\u001b[0m - \u001b[1mepoch: 14  batch: 938/1475  loss: 0.1259 (0.1573)  lr: 0.001000\u001b[0m\n",
            "\u001b[32m2025-01-16 22:58:04.661\u001b[0m | \u001b[1mINFO    \u001b[0m | \u001b[36m__main__\u001b[0m:\u001b[36mtrain\u001b[0m:\u001b[36m197\u001b[0m - \u001b[1mepoch: 14  batch: 952/1475  loss: 0.1325 (0.1572)  lr: 0.001000\u001b[0m\n",
            "\u001b[32m2025-01-16 22:58:16.882\u001b[0m | \u001b[1mINFO    \u001b[0m | \u001b[36m__main__\u001b[0m:\u001b[36mtrain\u001b[0m:\u001b[36m197\u001b[0m - \u001b[1mepoch: 14  batch: 966/1475  loss: 0.1316 (0.1571)  lr: 0.001000\u001b[0m\n",
            "\u001b[32m2025-01-16 22:58:29.073\u001b[0m | \u001b[1mINFO    \u001b[0m | \u001b[36m__main__\u001b[0m:\u001b[36mtrain\u001b[0m:\u001b[36m197\u001b[0m - \u001b[1mepoch: 14  batch: 980/1475  loss: 0.1200 (0.1571)  lr: 0.001000\u001b[0m\n",
            "\u001b[32m2025-01-16 22:58:41.241\u001b[0m | \u001b[1mINFO    \u001b[0m | \u001b[36m__main__\u001b[0m:\u001b[36mtrain\u001b[0m:\u001b[36m197\u001b[0m - \u001b[1mepoch: 14  batch: 994/1475  loss: 0.1212 (0.1570)  lr: 0.001000\u001b[0m\n",
            "\u001b[32m2025-01-16 22:58:53.483\u001b[0m | \u001b[1mINFO    \u001b[0m | \u001b[36m__main__\u001b[0m:\u001b[36mtrain\u001b[0m:\u001b[36m197\u001b[0m - \u001b[1mepoch: 14  batch: 1008/1475  loss: 0.1254 (0.1569)  lr: 0.001000\u001b[0m\n",
            "\u001b[32m2025-01-16 22:59:05.711\u001b[0m | \u001b[1mINFO    \u001b[0m | \u001b[36m__main__\u001b[0m:\u001b[36mtrain\u001b[0m:\u001b[36m197\u001b[0m - \u001b[1mepoch: 14  batch: 1022/1475  loss: 0.1242 (0.1568)  lr: 0.001000\u001b[0m\n",
            "\u001b[32m2025-01-16 22:59:17.943\u001b[0m | \u001b[1mINFO    \u001b[0m | \u001b[36m__main__\u001b[0m:\u001b[36mtrain\u001b[0m:\u001b[36m197\u001b[0m - \u001b[1mepoch: 14  batch: 1036/1475  loss: 0.1222 (0.1567)  lr: 0.001000\u001b[0m\n",
            "\u001b[32m2025-01-16 22:59:30.240\u001b[0m | \u001b[1mINFO    \u001b[0m | \u001b[36m__main__\u001b[0m:\u001b[36mtrain\u001b[0m:\u001b[36m197\u001b[0m - \u001b[1mepoch: 14  batch: 1050/1475  loss: 0.1232 (0.1566)  lr: 0.001000\u001b[0m\n",
            "\u001b[32m2025-01-16 22:59:42.511\u001b[0m | \u001b[1mINFO    \u001b[0m | \u001b[36m__main__\u001b[0m:\u001b[36mtrain\u001b[0m:\u001b[36m197\u001b[0m - \u001b[1mepoch: 14  batch: 1064/1475  loss: 0.1228 (0.1566)  lr: 0.001000\u001b[0m\n",
            "\u001b[32m2025-01-16 22:59:54.705\u001b[0m | \u001b[1mINFO    \u001b[0m | \u001b[36m__main__\u001b[0m:\u001b[36mtrain\u001b[0m:\u001b[36m197\u001b[0m - \u001b[1mepoch: 14  batch: 1078/1475  loss: 0.1250 (0.1565)  lr: 0.001000\u001b[0m\n",
            "\u001b[32m2025-01-16 23:00:06.939\u001b[0m | \u001b[1mINFO    \u001b[0m | \u001b[36m__main__\u001b[0m:\u001b[36mtrain\u001b[0m:\u001b[36m197\u001b[0m - \u001b[1mepoch: 14  batch: 1092/1475  loss: 0.1275 (0.1564)  lr: 0.001000\u001b[0m\n",
            "\u001b[32m2025-01-16 23:00:19.158\u001b[0m | \u001b[1mINFO    \u001b[0m | \u001b[36m__main__\u001b[0m:\u001b[36mtrain\u001b[0m:\u001b[36m197\u001b[0m - \u001b[1mepoch: 14  batch: 1106/1475  loss: 0.1285 (0.1564)  lr: 0.001000\u001b[0m\n",
            "\u001b[32m2025-01-16 23:00:31.292\u001b[0m | \u001b[1mINFO    \u001b[0m | \u001b[36m__main__\u001b[0m:\u001b[36mtrain\u001b[0m:\u001b[36m197\u001b[0m - \u001b[1mepoch: 14  batch: 1120/1475  loss: 0.1252 (0.1563)  lr: 0.001000\u001b[0m\n",
            "\u001b[32m2025-01-16 23:00:43.509\u001b[0m | \u001b[1mINFO    \u001b[0m | \u001b[36m__main__\u001b[0m:\u001b[36mtrain\u001b[0m:\u001b[36m197\u001b[0m - \u001b[1mepoch: 14  batch: 1134/1475  loss: 0.1296 (0.1562)  lr: 0.001000\u001b[0m\n",
            "\u001b[32m2025-01-16 23:00:55.727\u001b[0m | \u001b[1mINFO    \u001b[0m | \u001b[36m__main__\u001b[0m:\u001b[36mtrain\u001b[0m:\u001b[36m197\u001b[0m - \u001b[1mepoch: 14  batch: 1148/1475  loss: 0.1290 (0.1561)  lr: 0.001000\u001b[0m\n",
            "\u001b[32m2025-01-16 23:01:07.939\u001b[0m | \u001b[1mINFO    \u001b[0m | \u001b[36m__main__\u001b[0m:\u001b[36mtrain\u001b[0m:\u001b[36m197\u001b[0m - \u001b[1mepoch: 14  batch: 1162/1475  loss: 0.1285 (0.1561)  lr: 0.001000\u001b[0m\n",
            "\u001b[32m2025-01-16 23:01:20.132\u001b[0m | \u001b[1mINFO    \u001b[0m | \u001b[36m__main__\u001b[0m:\u001b[36mtrain\u001b[0m:\u001b[36m197\u001b[0m - \u001b[1mepoch: 14  batch: 1176/1475  loss: 0.1277 (0.1560)  lr: 0.001000\u001b[0m\n",
            "\u001b[32m2025-01-16 23:01:32.287\u001b[0m | \u001b[1mINFO    \u001b[0m | \u001b[36m__main__\u001b[0m:\u001b[36mtrain\u001b[0m:\u001b[36m197\u001b[0m - \u001b[1mepoch: 14  batch: 1190/1475  loss: 0.1260 (0.1559)  lr: 0.001000\u001b[0m\n",
            "\u001b[32m2025-01-16 23:01:44.459\u001b[0m | \u001b[1mINFO    \u001b[0m | \u001b[36m__main__\u001b[0m:\u001b[36mtrain\u001b[0m:\u001b[36m197\u001b[0m - \u001b[1mepoch: 14  batch: 1204/1475  loss: 0.1216 (0.1559)  lr: 0.001000\u001b[0m\n",
            "\u001b[32m2025-01-16 23:01:56.597\u001b[0m | \u001b[1mINFO    \u001b[0m | \u001b[36m__main__\u001b[0m:\u001b[36mtrain\u001b[0m:\u001b[36m197\u001b[0m - \u001b[1mepoch: 14  batch: 1218/1475  loss: 0.1230 (0.1558)  lr: 0.001000\u001b[0m\n",
            "\u001b[32m2025-01-16 23:02:08.781\u001b[0m | \u001b[1mINFO    \u001b[0m | \u001b[36m__main__\u001b[0m:\u001b[36mtrain\u001b[0m:\u001b[36m197\u001b[0m - \u001b[1mepoch: 14  batch: 1232/1475  loss: 0.1288 (0.1557)  lr: 0.001000\u001b[0m\n",
            "\u001b[32m2025-01-16 23:02:21.015\u001b[0m | \u001b[1mINFO    \u001b[0m | \u001b[36m__main__\u001b[0m:\u001b[36mtrain\u001b[0m:\u001b[36m197\u001b[0m - \u001b[1mepoch: 14  batch: 1246/1475  loss: 0.1286 (0.1557)  lr: 0.001000\u001b[0m\n",
            "\u001b[32m2025-01-16 23:02:33.197\u001b[0m | \u001b[1mINFO    \u001b[0m | \u001b[36m__main__\u001b[0m:\u001b[36mtrain\u001b[0m:\u001b[36m197\u001b[0m - \u001b[1mepoch: 14  batch: 1260/1475  loss: 0.1276 (0.1556)  lr: 0.001000\u001b[0m\n",
            "\u001b[32m2025-01-16 23:02:45.358\u001b[0m | \u001b[1mINFO    \u001b[0m | \u001b[36m__main__\u001b[0m:\u001b[36mtrain\u001b[0m:\u001b[36m197\u001b[0m - \u001b[1mepoch: 14  batch: 1274/1475  loss: 0.1256 (0.1555)  lr: 0.001000\u001b[0m\n",
            "\u001b[32m2025-01-16 23:02:57.537\u001b[0m | \u001b[1mINFO    \u001b[0m | \u001b[36m__main__\u001b[0m:\u001b[36mtrain\u001b[0m:\u001b[36m197\u001b[0m - \u001b[1mepoch: 14  batch: 1288/1475  loss: 0.1242 (0.1554)  lr: 0.001000\u001b[0m\n",
            "\u001b[32m2025-01-16 23:03:09.725\u001b[0m | \u001b[1mINFO    \u001b[0m | \u001b[36m__main__\u001b[0m:\u001b[36mtrain\u001b[0m:\u001b[36m197\u001b[0m - \u001b[1mepoch: 14  batch: 1302/1475  loss: 0.1269 (0.1554)  lr: 0.001000\u001b[0m\n",
            "\u001b[32m2025-01-16 23:03:21.919\u001b[0m | \u001b[1mINFO    \u001b[0m | \u001b[36m__main__\u001b[0m:\u001b[36mtrain\u001b[0m:\u001b[36m197\u001b[0m - \u001b[1mepoch: 14  batch: 1316/1475  loss: 0.1292 (0.1553)  lr: 0.001000\u001b[0m\n",
            "\u001b[32m2025-01-16 23:03:34.188\u001b[0m | \u001b[1mINFO    \u001b[0m | \u001b[36m__main__\u001b[0m:\u001b[36mtrain\u001b[0m:\u001b[36m197\u001b[0m - \u001b[1mepoch: 14  batch: 1330/1475  loss: 0.1257 (0.1553)  lr: 0.001000\u001b[0m\n",
            "\u001b[32m2025-01-16 23:03:46.399\u001b[0m | \u001b[1mINFO    \u001b[0m | \u001b[36m__main__\u001b[0m:\u001b[36mtrain\u001b[0m:\u001b[36m197\u001b[0m - \u001b[1mepoch: 14  batch: 1344/1475  loss: 0.1257 (0.1552)  lr: 0.001000\u001b[0m\n",
            "\u001b[32m2025-01-16 23:03:58.677\u001b[0m | \u001b[1mINFO    \u001b[0m | \u001b[36m__main__\u001b[0m:\u001b[36mtrain\u001b[0m:\u001b[36m197\u001b[0m - \u001b[1mepoch: 14  batch: 1358/1475  loss: 0.1299 (0.1551)  lr: 0.001000\u001b[0m\n",
            "\u001b[32m2025-01-16 23:04:10.825\u001b[0m | \u001b[1mINFO    \u001b[0m | \u001b[36m__main__\u001b[0m:\u001b[36mtrain\u001b[0m:\u001b[36m197\u001b[0m - \u001b[1mepoch: 14  batch: 1372/1475  loss: 0.1205 (0.1550)  lr: 0.001000\u001b[0m\n",
            "\u001b[32m2025-01-16 23:04:23.049\u001b[0m | \u001b[1mINFO    \u001b[0m | \u001b[36m__main__\u001b[0m:\u001b[36mtrain\u001b[0m:\u001b[36m197\u001b[0m - \u001b[1mepoch: 14  batch: 1386/1475  loss: 0.1332 (0.1550)  lr: 0.001000\u001b[0m\n",
            "\u001b[32m2025-01-16 23:04:35.197\u001b[0m | \u001b[1mINFO    \u001b[0m | \u001b[36m__main__\u001b[0m:\u001b[36mtrain\u001b[0m:\u001b[36m197\u001b[0m - \u001b[1mepoch: 14  batch: 1400/1475  loss: 0.1294 (0.1549)  lr: 0.001000\u001b[0m\n",
            "\u001b[32m2025-01-16 23:04:47.456\u001b[0m | \u001b[1mINFO    \u001b[0m | \u001b[36m__main__\u001b[0m:\u001b[36mtrain\u001b[0m:\u001b[36m197\u001b[0m - \u001b[1mepoch: 14  batch: 1414/1475  loss: 0.1306 (0.1549)  lr: 0.001000\u001b[0m\n",
            "\u001b[32m2025-01-16 23:04:59.658\u001b[0m | \u001b[1mINFO    \u001b[0m | \u001b[36m__main__\u001b[0m:\u001b[36mtrain\u001b[0m:\u001b[36m197\u001b[0m - \u001b[1mepoch: 14  batch: 1428/1475  loss: 0.1221 (0.1548)  lr: 0.001000\u001b[0m\n",
            "\u001b[32m2025-01-16 23:05:11.901\u001b[0m | \u001b[1mINFO    \u001b[0m | \u001b[36m__main__\u001b[0m:\u001b[36mtrain\u001b[0m:\u001b[36m197\u001b[0m - \u001b[1mepoch: 14  batch: 1442/1475  loss: 0.1277 (0.1548)  lr: 0.001000\u001b[0m\n",
            "\u001b[32m2025-01-16 23:05:24.190\u001b[0m | \u001b[1mINFO    \u001b[0m | \u001b[36m__main__\u001b[0m:\u001b[36mtrain\u001b[0m:\u001b[36m197\u001b[0m - \u001b[1mepoch: 14  batch: 1456/1475  loss: 0.1284 (0.1547)  lr: 0.001000\u001b[0m\n",
            "\u001b[32m2025-01-16 23:05:36.359\u001b[0m | \u001b[1mINFO    \u001b[0m | \u001b[36m__main__\u001b[0m:\u001b[36mtrain\u001b[0m:\u001b[36m197\u001b[0m - \u001b[1mepoch: 14  batch: 1470/1475  loss: 0.1328 (0.1546)  lr: 0.001000\u001b[0m\n",
            "\u001b[32m2025-01-16 23:05:40.407\u001b[0m | \u001b[1mINFO    \u001b[0m | \u001b[36m__main__\u001b[0m:\u001b[36mtrain\u001b[0m:\u001b[36m219\u001b[0m - \u001b[1mFinish epoch: 14, without validation\u001b[0m\n",
            "\u001b[32m2025-01-16 23:05:54.025\u001b[0m | \u001b[1mINFO    \u001b[0m | \u001b[36m__main__\u001b[0m:\u001b[36mtrain\u001b[0m:\u001b[36m197\u001b[0m - \u001b[1mepoch: 15  batch: 14/1475  loss: 0.1005 (0.1545)  lr: 0.001000\u001b[0m\n",
            "\u001b[32m2025-01-16 23:06:06.312\u001b[0m | \u001b[1mINFO    \u001b[0m | \u001b[36m__main__\u001b[0m:\u001b[36mtrain\u001b[0m:\u001b[36m197\u001b[0m - \u001b[1mepoch: 15  batch: 28/1475  loss: 0.1049 (0.1544)  lr: 0.001000\u001b[0m\n",
            "\u001b[32m2025-01-16 23:06:18.526\u001b[0m | \u001b[1mINFO    \u001b[0m | \u001b[36m__main__\u001b[0m:\u001b[36mtrain\u001b[0m:\u001b[36m197\u001b[0m - \u001b[1mepoch: 15  batch: 42/1475  loss: 0.1045 (0.1542)  lr: 0.001000\u001b[0m\n",
            "\u001b[32m2025-01-16 23:06:30.809\u001b[0m | \u001b[1mINFO    \u001b[0m | \u001b[36m__main__\u001b[0m:\u001b[36mtrain\u001b[0m:\u001b[36m197\u001b[0m - \u001b[1mepoch: 15  batch: 56/1475  loss: 0.1007 (0.1541)  lr: 0.001000\u001b[0m\n",
            "\u001b[32m2025-01-16 23:06:43.025\u001b[0m | \u001b[1mINFO    \u001b[0m | \u001b[36m__main__\u001b[0m:\u001b[36mtrain\u001b[0m:\u001b[36m197\u001b[0m - \u001b[1mepoch: 15  batch: 70/1475  loss: 0.0999 (0.1540)  lr: 0.001000\u001b[0m\n",
            "\u001b[32m2025-01-16 23:06:55.263\u001b[0m | \u001b[1mINFO    \u001b[0m | \u001b[36m__main__\u001b[0m:\u001b[36mtrain\u001b[0m:\u001b[36m197\u001b[0m - \u001b[1mepoch: 15  batch: 84/1475  loss: 0.0973 (0.1538)  lr: 0.001000\u001b[0m\n",
            "\u001b[32m2025-01-16 23:07:07.543\u001b[0m | \u001b[1mINFO    \u001b[0m | \u001b[36m__main__\u001b[0m:\u001b[36mtrain\u001b[0m:\u001b[36m197\u001b[0m - \u001b[1mepoch: 15  batch: 98/1475  loss: 0.0972 (0.1537)  lr: 0.001000\u001b[0m\n",
            "\u001b[32m2025-01-16 23:07:19.727\u001b[0m | \u001b[1mINFO    \u001b[0m | \u001b[36m__main__\u001b[0m:\u001b[36mtrain\u001b[0m:\u001b[36m197\u001b[0m - \u001b[1mepoch: 15  batch: 112/1475  loss: 0.0994 (0.1536)  lr: 0.001000\u001b[0m\n",
            "\u001b[32m2025-01-16 23:07:32.016\u001b[0m | \u001b[1mINFO    \u001b[0m | \u001b[36m__main__\u001b[0m:\u001b[36mtrain\u001b[0m:\u001b[36m197\u001b[0m - \u001b[1mepoch: 15  batch: 126/1475  loss: 0.1027 (0.1535)  lr: 0.001000\u001b[0m\n",
            "\u001b[32m2025-01-16 23:07:44.229\u001b[0m | \u001b[1mINFO    \u001b[0m | \u001b[36m__main__\u001b[0m:\u001b[36mtrain\u001b[0m:\u001b[36m197\u001b[0m - \u001b[1mepoch: 15  batch: 140/1475  loss: 0.1009 (0.1534)  lr: 0.001000\u001b[0m\n",
            "\u001b[32m2025-01-16 23:07:56.505\u001b[0m | \u001b[1mINFO    \u001b[0m | \u001b[36m__main__\u001b[0m:\u001b[36mtrain\u001b[0m:\u001b[36m197\u001b[0m - \u001b[1mepoch: 15  batch: 154/1475  loss: 0.1012 (0.1533)  lr: 0.001000\u001b[0m\n",
            "\u001b[32m2025-01-16 23:08:08.719\u001b[0m | \u001b[1mINFO    \u001b[0m | \u001b[36m__main__\u001b[0m:\u001b[36mtrain\u001b[0m:\u001b[36m197\u001b[0m - \u001b[1mepoch: 15  batch: 168/1475  loss: 0.1010 (0.1531)  lr: 0.001000\u001b[0m\n",
            "\u001b[32m2025-01-16 23:08:21.002\u001b[0m | \u001b[1mINFO    \u001b[0m | \u001b[36m__main__\u001b[0m:\u001b[36mtrain\u001b[0m:\u001b[36m197\u001b[0m - \u001b[1mepoch: 15  batch: 182/1475  loss: 0.1197 (0.1531)  lr: 0.001000\u001b[0m\n",
            "\u001b[32m2025-01-16 23:08:33.349\u001b[0m | \u001b[1mINFO    \u001b[0m | \u001b[36m__main__\u001b[0m:\u001b[36mtrain\u001b[0m:\u001b[36m197\u001b[0m - \u001b[1mepoch: 15  batch: 196/1475  loss: 0.1250 (0.1530)  lr: 0.001000\u001b[0m\n",
            "\u001b[32m2025-01-16 23:08:45.591\u001b[0m | \u001b[1mINFO    \u001b[0m | \u001b[36m__main__\u001b[0m:\u001b[36mtrain\u001b[0m:\u001b[36m197\u001b[0m - \u001b[1mepoch: 15  batch: 210/1475  loss: 0.1256 (0.1530)  lr: 0.001000\u001b[0m\n",
            "\u001b[32m2025-01-16 23:08:57.944\u001b[0m | \u001b[1mINFO    \u001b[0m | \u001b[36m__main__\u001b[0m:\u001b[36mtrain\u001b[0m:\u001b[36m197\u001b[0m - \u001b[1mepoch: 15  batch: 224/1475  loss: 0.1127 (0.1529)  lr: 0.001000\u001b[0m\n",
            "\u001b[32m2025-01-16 23:09:10.157\u001b[0m | \u001b[1mINFO    \u001b[0m | \u001b[36m__main__\u001b[0m:\u001b[36mtrain\u001b[0m:\u001b[36m197\u001b[0m - \u001b[1mepoch: 15  batch: 238/1475  loss: 0.1187 (0.1528)  lr: 0.001000\u001b[0m\n",
            "\u001b[32m2025-01-16 23:09:22.344\u001b[0m | \u001b[1mINFO    \u001b[0m | \u001b[36m__main__\u001b[0m:\u001b[36mtrain\u001b[0m:\u001b[36m197\u001b[0m - \u001b[1mepoch: 15  batch: 252/1475  loss: 0.1122 (0.1527)  lr: 0.001000\u001b[0m\n",
            "\u001b[32m2025-01-16 23:09:34.486\u001b[0m | \u001b[1mINFO    \u001b[0m | \u001b[36m__main__\u001b[0m:\u001b[36mtrain\u001b[0m:\u001b[36m197\u001b[0m - \u001b[1mepoch: 15  batch: 266/1475  loss: 0.1139 (0.1526)  lr: 0.001000\u001b[0m\n",
            "\u001b[32m2025-01-16 23:09:46.678\u001b[0m | \u001b[1mINFO    \u001b[0m | \u001b[36m__main__\u001b[0m:\u001b[36mtrain\u001b[0m:\u001b[36m197\u001b[0m - \u001b[1mepoch: 15  batch: 280/1475  loss: 0.1060 (0.1525)  lr: 0.001000\u001b[0m\n",
            "\u001b[32m2025-01-16 23:09:58.842\u001b[0m | \u001b[1mINFO    \u001b[0m | \u001b[36m__main__\u001b[0m:\u001b[36mtrain\u001b[0m:\u001b[36m197\u001b[0m - \u001b[1mepoch: 15  batch: 294/1475  loss: 0.1114 (0.1524)  lr: 0.001000\u001b[0m\n",
            "\u001b[32m2025-01-16 23:10:11.085\u001b[0m | \u001b[1mINFO    \u001b[0m | \u001b[36m__main__\u001b[0m:\u001b[36mtrain\u001b[0m:\u001b[36m197\u001b[0m - \u001b[1mepoch: 15  batch: 308/1475  loss: 0.1121 (0.1523)  lr: 0.001000\u001b[0m\n",
            "\u001b[32m2025-01-16 23:10:23.291\u001b[0m | \u001b[1mINFO    \u001b[0m | \u001b[36m__main__\u001b[0m:\u001b[36mtrain\u001b[0m:\u001b[36m197\u001b[0m - \u001b[1mepoch: 15  batch: 322/1475  loss: 0.1095 (0.1522)  lr: 0.001000\u001b[0m\n",
            "\u001b[32m2025-01-16 23:10:35.506\u001b[0m | \u001b[1mINFO    \u001b[0m | \u001b[36m__main__\u001b[0m:\u001b[36mtrain\u001b[0m:\u001b[36m197\u001b[0m - \u001b[1mepoch: 15  batch: 336/1475  loss: 0.1095 (0.1522)  lr: 0.001000\u001b[0m\n",
            "\u001b[32m2025-01-16 23:10:47.662\u001b[0m | \u001b[1mINFO    \u001b[0m | \u001b[36m__main__\u001b[0m:\u001b[36mtrain\u001b[0m:\u001b[36m197\u001b[0m - \u001b[1mepoch: 15  batch: 350/1475  loss: 0.1095 (0.1521)  lr: 0.001000\u001b[0m\n",
            "\u001b[32m2025-01-16 23:10:59.895\u001b[0m | \u001b[1mINFO    \u001b[0m | \u001b[36m__main__\u001b[0m:\u001b[36mtrain\u001b[0m:\u001b[36m197\u001b[0m - \u001b[1mepoch: 15  batch: 364/1475  loss: 0.1139 (0.1520)  lr: 0.001000\u001b[0m\n",
            "\u001b[32m2025-01-16 23:11:12.124\u001b[0m | \u001b[1mINFO    \u001b[0m | \u001b[36m__main__\u001b[0m:\u001b[36mtrain\u001b[0m:\u001b[36m197\u001b[0m - \u001b[1mepoch: 15  batch: 378/1475  loss: 0.1117 (0.1519)  lr: 0.001000\u001b[0m\n",
            "\u001b[32m2025-01-16 23:11:24.321\u001b[0m | \u001b[1mINFO    \u001b[0m | \u001b[36m__main__\u001b[0m:\u001b[36mtrain\u001b[0m:\u001b[36m197\u001b[0m - \u001b[1mepoch: 15  batch: 392/1475  loss: 0.1069 (0.1518)  lr: 0.001000\u001b[0m\n",
            "\u001b[32m2025-01-16 23:11:36.497\u001b[0m | \u001b[1mINFO    \u001b[0m | \u001b[36m__main__\u001b[0m:\u001b[36mtrain\u001b[0m:\u001b[36m197\u001b[0m - \u001b[1mepoch: 15  batch: 406/1475  loss: 0.1112 (0.1517)  lr: 0.001000\u001b[0m\n",
            "\u001b[32m2025-01-16 23:11:48.611\u001b[0m | \u001b[1mINFO    \u001b[0m | \u001b[36m__main__\u001b[0m:\u001b[36mtrain\u001b[0m:\u001b[36m197\u001b[0m - \u001b[1mepoch: 15  batch: 420/1475  loss: 0.1113 (0.1516)  lr: 0.001000\u001b[0m\n",
            "\u001b[32m2025-01-16 23:12:00.763\u001b[0m | \u001b[1mINFO    \u001b[0m | \u001b[36m__main__\u001b[0m:\u001b[36mtrain\u001b[0m:\u001b[36m197\u001b[0m - \u001b[1mepoch: 15  batch: 434/1475  loss: 0.1095 (0.1515)  lr: 0.001000\u001b[0m\n",
            "\u001b[32m2025-01-16 23:12:12.991\u001b[0m | \u001b[1mINFO    \u001b[0m | \u001b[36m__main__\u001b[0m:\u001b[36mtrain\u001b[0m:\u001b[36m197\u001b[0m - \u001b[1mepoch: 15  batch: 448/1475  loss: 0.1059 (0.1515)  lr: 0.001000\u001b[0m\n",
            "\u001b[32m2025-01-16 23:12:25.319\u001b[0m | \u001b[1mINFO    \u001b[0m | \u001b[36m__main__\u001b[0m:\u001b[36mtrain\u001b[0m:\u001b[36m197\u001b[0m - \u001b[1mepoch: 15  batch: 462/1475  loss: 0.1063 (0.1514)  lr: 0.001000\u001b[0m\n",
            "\u001b[32m2025-01-16 23:12:37.638\u001b[0m | \u001b[1mINFO    \u001b[0m | \u001b[36m__main__\u001b[0m:\u001b[36mtrain\u001b[0m:\u001b[36m197\u001b[0m - \u001b[1mepoch: 15  batch: 476/1475  loss: 0.1062 (0.1513)  lr: 0.001000\u001b[0m\n",
            "\u001b[32m2025-01-16 23:12:49.854\u001b[0m | \u001b[1mINFO    \u001b[0m | \u001b[36m__main__\u001b[0m:\u001b[36mtrain\u001b[0m:\u001b[36m197\u001b[0m - \u001b[1mepoch: 15  batch: 490/1475  loss: 0.1121 (0.1512)  lr: 0.001000\u001b[0m\n",
            "\u001b[32m2025-01-16 23:13:02.023\u001b[0m | \u001b[1mINFO    \u001b[0m | \u001b[36m__main__\u001b[0m:\u001b[36mtrain\u001b[0m:\u001b[36m197\u001b[0m - \u001b[1mepoch: 15  batch: 504/1475  loss: 0.1150 (0.1511)  lr: 0.001000\u001b[0m\n",
            "\u001b[32m2025-01-16 23:13:14.139\u001b[0m | \u001b[1mINFO    \u001b[0m | \u001b[36m__main__\u001b[0m:\u001b[36mtrain\u001b[0m:\u001b[36m197\u001b[0m - \u001b[1mepoch: 15  batch: 518/1475  loss: 0.1060 (0.1510)  lr: 0.001000\u001b[0m\n",
            "\u001b[32m2025-01-16 23:13:26.295\u001b[0m | \u001b[1mINFO    \u001b[0m | \u001b[36m__main__\u001b[0m:\u001b[36mtrain\u001b[0m:\u001b[36m197\u001b[0m - \u001b[1mepoch: 15  batch: 532/1475  loss: 0.1134 (0.1509)  lr: 0.001000\u001b[0m\n",
            "\u001b[32m2025-01-16 23:13:38.522\u001b[0m | \u001b[1mINFO    \u001b[0m | \u001b[36m__main__\u001b[0m:\u001b[36mtrain\u001b[0m:\u001b[36m197\u001b[0m - \u001b[1mepoch: 15  batch: 546/1475  loss: 0.1111 (0.1508)  lr: 0.001000\u001b[0m\n",
            "\u001b[32m2025-01-16 23:13:50.745\u001b[0m | \u001b[1mINFO    \u001b[0m | \u001b[36m__main__\u001b[0m:\u001b[36mtrain\u001b[0m:\u001b[36m197\u001b[0m - \u001b[1mepoch: 15  batch: 560/1475  loss: 0.1142 (0.1508)  lr: 0.001000\u001b[0m\n",
            "\u001b[32m2025-01-16 23:14:02.909\u001b[0m | \u001b[1mINFO    \u001b[0m | \u001b[36m__main__\u001b[0m:\u001b[36mtrain\u001b[0m:\u001b[36m197\u001b[0m - \u001b[1mepoch: 15  batch: 574/1475  loss: 0.1181 (0.1507)  lr: 0.001000\u001b[0m\n",
            "\u001b[32m2025-01-16 23:14:15.113\u001b[0m | \u001b[1mINFO    \u001b[0m | \u001b[36m__main__\u001b[0m:\u001b[36mtrain\u001b[0m:\u001b[36m197\u001b[0m - \u001b[1mepoch: 15  batch: 588/1475  loss: 0.1147 (0.1506)  lr: 0.001000\u001b[0m\n",
            "\u001b[32m2025-01-16 23:14:27.336\u001b[0m | \u001b[1mINFO    \u001b[0m | \u001b[36m__main__\u001b[0m:\u001b[36mtrain\u001b[0m:\u001b[36m197\u001b[0m - \u001b[1mepoch: 15  batch: 602/1475  loss: 0.1126 (0.1505)  lr: 0.001000\u001b[0m\n",
            "\u001b[32m2025-01-16 23:14:39.509\u001b[0m | \u001b[1mINFO    \u001b[0m | \u001b[36m__main__\u001b[0m:\u001b[36mtrain\u001b[0m:\u001b[36m197\u001b[0m - \u001b[1mepoch: 15  batch: 616/1475  loss: 0.1114 (0.1505)  lr: 0.001000\u001b[0m\n",
            "\u001b[32m2025-01-16 23:14:51.756\u001b[0m | \u001b[1mINFO    \u001b[0m | \u001b[36m__main__\u001b[0m:\u001b[36mtrain\u001b[0m:\u001b[36m197\u001b[0m - \u001b[1mepoch: 15  batch: 630/1475  loss: 0.1187 (0.1504)  lr: 0.001000\u001b[0m\n",
            "\u001b[32m2025-01-16 23:15:03.910\u001b[0m | \u001b[1mINFO    \u001b[0m | \u001b[36m__main__\u001b[0m:\u001b[36mtrain\u001b[0m:\u001b[36m197\u001b[0m - \u001b[1mepoch: 15  batch: 644/1475  loss: 0.1146 (0.1503)  lr: 0.001000\u001b[0m\n",
            "\u001b[32m2025-01-16 23:15:16.101\u001b[0m | \u001b[1mINFO    \u001b[0m | \u001b[36m__main__\u001b[0m:\u001b[36mtrain\u001b[0m:\u001b[36m197\u001b[0m - \u001b[1mepoch: 15  batch: 658/1475  loss: 0.1079 (0.1502)  lr: 0.001000\u001b[0m\n",
            "\u001b[32m2025-01-16 23:15:28.288\u001b[0m | \u001b[1mINFO    \u001b[0m | \u001b[36m__main__\u001b[0m:\u001b[36mtrain\u001b[0m:\u001b[36m197\u001b[0m - \u001b[1mepoch: 15  batch: 672/1475  loss: 0.1118 (0.1502)  lr: 0.001000\u001b[0m\n",
            "\u001b[32m2025-01-16 23:15:40.423\u001b[0m | \u001b[1mINFO    \u001b[0m | \u001b[36m__main__\u001b[0m:\u001b[36mtrain\u001b[0m:\u001b[36m197\u001b[0m - \u001b[1mepoch: 15  batch: 686/1475  loss: 0.1092 (0.1501)  lr: 0.001000\u001b[0m\n",
            "\u001b[32m2025-01-16 23:15:52.726\u001b[0m | \u001b[1mINFO    \u001b[0m | \u001b[36m__main__\u001b[0m:\u001b[36mtrain\u001b[0m:\u001b[36m197\u001b[0m - \u001b[1mepoch: 15  batch: 700/1475  loss: 0.1167 (0.1500)  lr: 0.001000\u001b[0m\n",
            "\u001b[32m2025-01-16 23:16:04.905\u001b[0m | \u001b[1mINFO    \u001b[0m | \u001b[36m__main__\u001b[0m:\u001b[36mtrain\u001b[0m:\u001b[36m197\u001b[0m - \u001b[1mepoch: 15  batch: 714/1475  loss: 0.1138 (0.1499)  lr: 0.001000\u001b[0m\n",
            "\u001b[32m2025-01-16 23:16:17.117\u001b[0m | \u001b[1mINFO    \u001b[0m | \u001b[36m__main__\u001b[0m:\u001b[36mtrain\u001b[0m:\u001b[36m197\u001b[0m - \u001b[1mepoch: 15  batch: 728/1475  loss: 0.1119 (0.1498)  lr: 0.001000\u001b[0m\n",
            "\u001b[32m2025-01-16 23:16:29.363\u001b[0m | \u001b[1mINFO    \u001b[0m | \u001b[36m__main__\u001b[0m:\u001b[36mtrain\u001b[0m:\u001b[36m197\u001b[0m - \u001b[1mepoch: 15  batch: 742/1475  loss: 0.1145 (0.1498)  lr: 0.001000\u001b[0m\n",
            "\u001b[32m2025-01-16 23:16:41.565\u001b[0m | \u001b[1mINFO    \u001b[0m | \u001b[36m__main__\u001b[0m:\u001b[36mtrain\u001b[0m:\u001b[36m197\u001b[0m - \u001b[1mepoch: 15  batch: 756/1475  loss: 0.1168 (0.1497)  lr: 0.001000\u001b[0m\n",
            "\u001b[32m2025-01-16 23:16:53.786\u001b[0m | \u001b[1mINFO    \u001b[0m | \u001b[36m__main__\u001b[0m:\u001b[36mtrain\u001b[0m:\u001b[36m197\u001b[0m - \u001b[1mepoch: 15  batch: 770/1475  loss: 0.1164 (0.1496)  lr: 0.001000\u001b[0m\n",
            "\u001b[32m2025-01-16 23:17:06.014\u001b[0m | \u001b[1mINFO    \u001b[0m | \u001b[36m__main__\u001b[0m:\u001b[36mtrain\u001b[0m:\u001b[36m197\u001b[0m - \u001b[1mepoch: 15  batch: 784/1475  loss: 0.1173 (0.1496)  lr: 0.001000\u001b[0m\n",
            "\u001b[32m2025-01-16 23:17:18.195\u001b[0m | \u001b[1mINFO    \u001b[0m | \u001b[36m__main__\u001b[0m:\u001b[36mtrain\u001b[0m:\u001b[36m197\u001b[0m - \u001b[1mepoch: 15  batch: 798/1475  loss: 0.1125 (0.1495)  lr: 0.001000\u001b[0m\n",
            "\u001b[32m2025-01-16 23:17:30.343\u001b[0m | \u001b[1mINFO    \u001b[0m | \u001b[36m__main__\u001b[0m:\u001b[36mtrain\u001b[0m:\u001b[36m197\u001b[0m - \u001b[1mepoch: 15  batch: 812/1475  loss: 0.1137 (0.1494)  lr: 0.001000\u001b[0m\n",
            "\u001b[32m2025-01-16 23:17:42.577\u001b[0m | \u001b[1mINFO    \u001b[0m | \u001b[36m__main__\u001b[0m:\u001b[36mtrain\u001b[0m:\u001b[36m197\u001b[0m - \u001b[1mepoch: 15  batch: 826/1475  loss: 0.1134 (0.1494)  lr: 0.001000\u001b[0m\n",
            "\u001b[32m2025-01-16 23:17:54.798\u001b[0m | \u001b[1mINFO    \u001b[0m | \u001b[36m__main__\u001b[0m:\u001b[36mtrain\u001b[0m:\u001b[36m197\u001b[0m - \u001b[1mepoch: 15  batch: 840/1475  loss: 0.1123 (0.1493)  lr: 0.001000\u001b[0m\n",
            "\u001b[32m2025-01-16 23:18:06.950\u001b[0m | \u001b[1mINFO    \u001b[0m | \u001b[36m__main__\u001b[0m:\u001b[36mtrain\u001b[0m:\u001b[36m197\u001b[0m - \u001b[1mepoch: 15  batch: 854/1475  loss: 0.1125 (0.1492)  lr: 0.001000\u001b[0m\n",
            "\u001b[32m2025-01-16 23:18:19.100\u001b[0m | \u001b[1mINFO    \u001b[0m | \u001b[36m__main__\u001b[0m:\u001b[36mtrain\u001b[0m:\u001b[36m197\u001b[0m - \u001b[1mepoch: 15  batch: 868/1475  loss: 0.1095 (0.1491)  lr: 0.001000\u001b[0m\n",
            "\u001b[32m2025-01-16 23:18:31.290\u001b[0m | \u001b[1mINFO    \u001b[0m | \u001b[36m__main__\u001b[0m:\u001b[36mtrain\u001b[0m:\u001b[36m197\u001b[0m - \u001b[1mepoch: 15  batch: 882/1475  loss: 0.1135 (0.1491)  lr: 0.001000\u001b[0m\n",
            "\u001b[32m2025-01-16 23:18:43.521\u001b[0m | \u001b[1mINFO    \u001b[0m | \u001b[36m__main__\u001b[0m:\u001b[36mtrain\u001b[0m:\u001b[36m197\u001b[0m - \u001b[1mepoch: 15  batch: 896/1475  loss: 0.1215 (0.1490)  lr: 0.001000\u001b[0m\n",
            "\u001b[32m2025-01-16 23:18:55.719\u001b[0m | \u001b[1mINFO    \u001b[0m | \u001b[36m__main__\u001b[0m:\u001b[36mtrain\u001b[0m:\u001b[36m197\u001b[0m - \u001b[1mepoch: 15  batch: 910/1475  loss: 0.1196 (0.1490)  lr: 0.001000\u001b[0m\n",
            "\u001b[32m2025-01-16 23:19:07.914\u001b[0m | \u001b[1mINFO    \u001b[0m | \u001b[36m__main__\u001b[0m:\u001b[36mtrain\u001b[0m:\u001b[36m197\u001b[0m - \u001b[1mepoch: 15  batch: 924/1475  loss: 0.1167 (0.1489)  lr: 0.001000\u001b[0m\n",
            "\u001b[32m2025-01-16 23:19:20.093\u001b[0m | \u001b[1mINFO    \u001b[0m | \u001b[36m__main__\u001b[0m:\u001b[36mtrain\u001b[0m:\u001b[36m197\u001b[0m - \u001b[1mepoch: 15  batch: 938/1475  loss: 0.1162 (0.1488)  lr: 0.001000\u001b[0m\n",
            "\u001b[32m2025-01-16 23:19:32.298\u001b[0m | \u001b[1mINFO    \u001b[0m | \u001b[36m__main__\u001b[0m:\u001b[36mtrain\u001b[0m:\u001b[36m197\u001b[0m - \u001b[1mepoch: 15  batch: 952/1475  loss: 0.1175 (0.1488)  lr: 0.001000\u001b[0m\n",
            "\u001b[32m2025-01-16 23:19:44.395\u001b[0m | \u001b[1mINFO    \u001b[0m | \u001b[36m__main__\u001b[0m:\u001b[36mtrain\u001b[0m:\u001b[36m197\u001b[0m - \u001b[1mepoch: 15  batch: 966/1475  loss: 0.1197 (0.1487)  lr: 0.001000\u001b[0m\n",
            "\u001b[32m2025-01-16 23:19:56.504\u001b[0m | \u001b[1mINFO    \u001b[0m | \u001b[36m__main__\u001b[0m:\u001b[36mtrain\u001b[0m:\u001b[36m197\u001b[0m - \u001b[1mepoch: 15  batch: 980/1475  loss: 0.1185 (0.1487)  lr: 0.001000\u001b[0m\n",
            "\u001b[32m2025-01-16 23:20:08.634\u001b[0m | \u001b[1mINFO    \u001b[0m | \u001b[36m__main__\u001b[0m:\u001b[36mtrain\u001b[0m:\u001b[36m197\u001b[0m - \u001b[1mepoch: 15  batch: 994/1475  loss: 0.1167 (0.1486)  lr: 0.001000\u001b[0m\n",
            "\u001b[32m2025-01-16 23:20:20.784\u001b[0m | \u001b[1mINFO    \u001b[0m | \u001b[36m__main__\u001b[0m:\u001b[36mtrain\u001b[0m:\u001b[36m197\u001b[0m - \u001b[1mepoch: 15  batch: 1008/1475  loss: 0.1208 (0.1485)  lr: 0.001000\u001b[0m\n",
            "\u001b[32m2025-01-16 23:20:32.928\u001b[0m | \u001b[1mINFO    \u001b[0m | \u001b[36m__main__\u001b[0m:\u001b[36mtrain\u001b[0m:\u001b[36m197\u001b[0m - \u001b[1mepoch: 15  batch: 1022/1475  loss: 0.1191 (0.1485)  lr: 0.001000\u001b[0m\n",
            "\u001b[32m2025-01-16 23:20:45.041\u001b[0m | \u001b[1mINFO    \u001b[0m | \u001b[36m__main__\u001b[0m:\u001b[36mtrain\u001b[0m:\u001b[36m197\u001b[0m - \u001b[1mepoch: 15  batch: 1036/1475  loss: 0.1131 (0.1484)  lr: 0.001000\u001b[0m\n",
            "\u001b[32m2025-01-16 23:20:57.155\u001b[0m | \u001b[1mINFO    \u001b[0m | \u001b[36m__main__\u001b[0m:\u001b[36mtrain\u001b[0m:\u001b[36m197\u001b[0m - \u001b[1mepoch: 15  batch: 1050/1475  loss: 0.1098 (0.1483)  lr: 0.001000\u001b[0m\n",
            "\u001b[32m2025-01-16 23:21:09.311\u001b[0m | \u001b[1mINFO    \u001b[0m | \u001b[36m__main__\u001b[0m:\u001b[36mtrain\u001b[0m:\u001b[36m197\u001b[0m - \u001b[1mepoch: 15  batch: 1064/1475  loss: 0.1233 (0.1483)  lr: 0.001000\u001b[0m\n",
            "\u001b[32m2025-01-16 23:21:21.455\u001b[0m | \u001b[1mINFO    \u001b[0m | \u001b[36m__main__\u001b[0m:\u001b[36mtrain\u001b[0m:\u001b[36m197\u001b[0m - \u001b[1mepoch: 15  batch: 1078/1475  loss: 0.1197 (0.1482)  lr: 0.001000\u001b[0m\n",
            "\u001b[32m2025-01-16 23:21:33.733\u001b[0m | \u001b[1mINFO    \u001b[0m | \u001b[36m__main__\u001b[0m:\u001b[36mtrain\u001b[0m:\u001b[36m197\u001b[0m - \u001b[1mepoch: 15  batch: 1092/1475  loss: 0.1165 (0.1482)  lr: 0.001000\u001b[0m\n",
            "\u001b[32m2025-01-16 23:21:45.939\u001b[0m | \u001b[1mINFO    \u001b[0m | \u001b[36m__main__\u001b[0m:\u001b[36mtrain\u001b[0m:\u001b[36m197\u001b[0m - \u001b[1mepoch: 15  batch: 1106/1475  loss: 0.1123 (0.1481)  lr: 0.001000\u001b[0m\n",
            "\u001b[32m2025-01-16 23:21:58.137\u001b[0m | \u001b[1mINFO    \u001b[0m | \u001b[36m__main__\u001b[0m:\u001b[36mtrain\u001b[0m:\u001b[36m197\u001b[0m - \u001b[1mepoch: 15  batch: 1120/1475  loss: 0.1128 (0.1480)  lr: 0.001000\u001b[0m\n",
            "\u001b[32m2025-01-16 23:22:10.334\u001b[0m | \u001b[1mINFO    \u001b[0m | \u001b[36m__main__\u001b[0m:\u001b[36mtrain\u001b[0m:\u001b[36m197\u001b[0m - \u001b[1mepoch: 15  batch: 1134/1475  loss: 0.1149 (0.1480)  lr: 0.001000\u001b[0m\n",
            "\u001b[32m2025-01-16 23:22:22.489\u001b[0m | \u001b[1mINFO    \u001b[0m | \u001b[36m__main__\u001b[0m:\u001b[36mtrain\u001b[0m:\u001b[36m197\u001b[0m - \u001b[1mepoch: 15  batch: 1148/1475  loss: 0.1177 (0.1479)  lr: 0.001000\u001b[0m\n",
            "\u001b[32m2025-01-16 23:22:34.660\u001b[0m | \u001b[1mINFO    \u001b[0m | \u001b[36m__main__\u001b[0m:\u001b[36mtrain\u001b[0m:\u001b[36m197\u001b[0m - \u001b[1mepoch: 15  batch: 1162/1475  loss: 0.1197 (0.1479)  lr: 0.001000\u001b[0m\n",
            "\u001b[32m2025-01-16 23:22:46.803\u001b[0m | \u001b[1mINFO    \u001b[0m | \u001b[36m__main__\u001b[0m:\u001b[36mtrain\u001b[0m:\u001b[36m197\u001b[0m - \u001b[1mepoch: 15  batch: 1176/1475  loss: 0.1123 (0.1478)  lr: 0.001000\u001b[0m\n",
            "\u001b[32m2025-01-16 23:22:59.033\u001b[0m | \u001b[1mINFO    \u001b[0m | \u001b[36m__main__\u001b[0m:\u001b[36mtrain\u001b[0m:\u001b[36m197\u001b[0m - \u001b[1mepoch: 15  batch: 1190/1475  loss: 0.1123 (0.1477)  lr: 0.001000\u001b[0m\n",
            "\u001b[32m2025-01-16 23:23:11.144\u001b[0m | \u001b[1mINFO    \u001b[0m | \u001b[36m__main__\u001b[0m:\u001b[36mtrain\u001b[0m:\u001b[36m197\u001b[0m - \u001b[1mepoch: 15  batch: 1204/1475  loss: 0.1131 (0.1477)  lr: 0.001000\u001b[0m\n",
            "\u001b[32m2025-01-16 23:23:23.353\u001b[0m | \u001b[1mINFO    \u001b[0m | \u001b[36m__main__\u001b[0m:\u001b[36mtrain\u001b[0m:\u001b[36m197\u001b[0m - \u001b[1mepoch: 15  batch: 1218/1475  loss: 0.1212 (0.1476)  lr: 0.001000\u001b[0m\n",
            "\u001b[32m2025-01-16 23:23:35.537\u001b[0m | \u001b[1mINFO    \u001b[0m | \u001b[36m__main__\u001b[0m:\u001b[36mtrain\u001b[0m:\u001b[36m197\u001b[0m - \u001b[1mepoch: 15  batch: 1232/1475  loss: 0.1189 (0.1476)  lr: 0.001000\u001b[0m\n",
            "\u001b[32m2025-01-16 23:23:47.730\u001b[0m | \u001b[1mINFO    \u001b[0m | \u001b[36m__main__\u001b[0m:\u001b[36mtrain\u001b[0m:\u001b[36m197\u001b[0m - \u001b[1mepoch: 15  batch: 1246/1475  loss: 0.1125 (0.1475)  lr: 0.001000\u001b[0m\n",
            "\u001b[32m2025-01-16 23:23:59.903\u001b[0m | \u001b[1mINFO    \u001b[0m | \u001b[36m__main__\u001b[0m:\u001b[36mtrain\u001b[0m:\u001b[36m197\u001b[0m - \u001b[1mepoch: 15  batch: 1260/1475  loss: 0.1180 (0.1475)  lr: 0.001000\u001b[0m\n",
            "\u001b[32m2025-01-16 23:24:12.120\u001b[0m | \u001b[1mINFO    \u001b[0m | \u001b[36m__main__\u001b[0m:\u001b[36mtrain\u001b[0m:\u001b[36m197\u001b[0m - \u001b[1mepoch: 15  batch: 1274/1475  loss: 0.1183 (0.1474)  lr: 0.001000\u001b[0m\n",
            "\u001b[32m2025-01-16 23:24:24.334\u001b[0m | \u001b[1mINFO    \u001b[0m | \u001b[36m__main__\u001b[0m:\u001b[36mtrain\u001b[0m:\u001b[36m197\u001b[0m - \u001b[1mepoch: 15  batch: 1288/1475  loss: 0.1202 (0.1474)  lr: 0.001000\u001b[0m\n",
            "\u001b[32m2025-01-16 23:24:36.526\u001b[0m | \u001b[1mINFO    \u001b[0m | \u001b[36m__main__\u001b[0m:\u001b[36mtrain\u001b[0m:\u001b[36m197\u001b[0m - \u001b[1mepoch: 15  batch: 1302/1475  loss: 0.1190 (0.1473)  lr: 0.001000\u001b[0m\n",
            "\u001b[32m2025-01-16 23:24:48.728\u001b[0m | \u001b[1mINFO    \u001b[0m | \u001b[36m__main__\u001b[0m:\u001b[36mtrain\u001b[0m:\u001b[36m197\u001b[0m - \u001b[1mepoch: 15  batch: 1316/1475  loss: 0.1192 (0.1473)  lr: 0.001000\u001b[0m\n",
            "\u001b[32m2025-01-16 23:25:00.909\u001b[0m | \u001b[1mINFO    \u001b[0m | \u001b[36m__main__\u001b[0m:\u001b[36mtrain\u001b[0m:\u001b[36m197\u001b[0m - \u001b[1mepoch: 15  batch: 1330/1475  loss: 0.1219 (0.1472)  lr: 0.001000\u001b[0m\n",
            "\u001b[32m2025-01-16 23:25:13.051\u001b[0m | \u001b[1mINFO    \u001b[0m | \u001b[36m__main__\u001b[0m:\u001b[36mtrain\u001b[0m:\u001b[36m197\u001b[0m - \u001b[1mepoch: 15  batch: 1344/1475  loss: 0.1183 (0.1472)  lr: 0.001000\u001b[0m\n",
            "\u001b[32m2025-01-16 23:25:25.282\u001b[0m | \u001b[1mINFO    \u001b[0m | \u001b[36m__main__\u001b[0m:\u001b[36mtrain\u001b[0m:\u001b[36m197\u001b[0m - \u001b[1mepoch: 15  batch: 1358/1475  loss: 0.1134 (0.1471)  lr: 0.001000\u001b[0m\n",
            "\u001b[32m2025-01-16 23:25:37.472\u001b[0m | \u001b[1mINFO    \u001b[0m | \u001b[36m__main__\u001b[0m:\u001b[36mtrain\u001b[0m:\u001b[36m197\u001b[0m - \u001b[1mepoch: 15  batch: 1372/1475  loss: 0.1180 (0.1470)  lr: 0.001000\u001b[0m\n",
            "\u001b[32m2025-01-16 23:25:49.597\u001b[0m | \u001b[1mINFO    \u001b[0m | \u001b[36m__main__\u001b[0m:\u001b[36mtrain\u001b[0m:\u001b[36m197\u001b[0m - \u001b[1mepoch: 15  batch: 1386/1475  loss: 0.1146 (0.1470)  lr: 0.001000\u001b[0m\n",
            "\u001b[32m2025-01-16 23:26:01.795\u001b[0m | \u001b[1mINFO    \u001b[0m | \u001b[36m__main__\u001b[0m:\u001b[36mtrain\u001b[0m:\u001b[36m197\u001b[0m - \u001b[1mepoch: 15  batch: 1400/1475  loss: 0.1119 (0.1469)  lr: 0.001000\u001b[0m\n",
            "\u001b[32m2025-01-16 23:26:13.977\u001b[0m | \u001b[1mINFO    \u001b[0m | \u001b[36m__main__\u001b[0m:\u001b[36mtrain\u001b[0m:\u001b[36m197\u001b[0m - \u001b[1mepoch: 15  batch: 1414/1475  loss: 0.1178 (0.1469)  lr: 0.001000\u001b[0m\n",
            "\u001b[32m2025-01-16 23:26:26.233\u001b[0m | \u001b[1mINFO    \u001b[0m | \u001b[36m__main__\u001b[0m:\u001b[36mtrain\u001b[0m:\u001b[36m197\u001b[0m - \u001b[1mepoch: 15  batch: 1428/1475  loss: 0.1150 (0.1468)  lr: 0.001000\u001b[0m\n",
            "\u001b[32m2025-01-16 23:26:38.343\u001b[0m | \u001b[1mINFO    \u001b[0m | \u001b[36m__main__\u001b[0m:\u001b[36mtrain\u001b[0m:\u001b[36m197\u001b[0m - \u001b[1mepoch: 15  batch: 1442/1475  loss: 0.1117 (0.1468)  lr: 0.001000\u001b[0m\n",
            "\u001b[32m2025-01-16 23:26:50.552\u001b[0m | \u001b[1mINFO    \u001b[0m | \u001b[36m__main__\u001b[0m:\u001b[36mtrain\u001b[0m:\u001b[36m197\u001b[0m - \u001b[1mepoch: 15  batch: 1456/1475  loss: 0.1238 (0.1467)  lr: 0.001000\u001b[0m\n",
            "\u001b[32m2025-01-16 23:27:02.740\u001b[0m | \u001b[1mINFO    \u001b[0m | \u001b[36m__main__\u001b[0m:\u001b[36mtrain\u001b[0m:\u001b[36m197\u001b[0m - \u001b[1mepoch: 15  batch: 1470/1475  loss: 0.1188 (0.1467)  lr: 0.001000\u001b[0m\n",
            "\u001b[32m2025-01-16 23:27:06.840\u001b[0m | \u001b[1mINFO    \u001b[0m | \u001b[36m__main__\u001b[0m:\u001b[36mtrain\u001b[0m:\u001b[36m219\u001b[0m - \u001b[1mFinish epoch: 15, without validation\u001b[0m\n",
            "\u001b[32m2025-01-16 23:27:20.711\u001b[0m | \u001b[1mINFO    \u001b[0m | \u001b[36m__main__\u001b[0m:\u001b[36mtrain\u001b[0m:\u001b[36m197\u001b[0m - \u001b[1mepoch: 16  batch: 14/1475  loss: 0.0918 (0.1465)  lr: 0.000100\u001b[0m\n",
            "\u001b[32m2025-01-16 23:27:32.922\u001b[0m | \u001b[1mINFO    \u001b[0m | \u001b[36m__main__\u001b[0m:\u001b[36mtrain\u001b[0m:\u001b[36m197\u001b[0m - \u001b[1mepoch: 16  batch: 28/1475  loss: 0.0905 (0.1464)  lr: 0.000100\u001b[0m\n",
            "\u001b[32m2025-01-16 23:27:45.083\u001b[0m | \u001b[1mINFO    \u001b[0m | \u001b[36m__main__\u001b[0m:\u001b[36mtrain\u001b[0m:\u001b[36m197\u001b[0m - \u001b[1mepoch: 16  batch: 42/1475  loss: 0.0805 (0.1463)  lr: 0.000100\u001b[0m\n",
            "\u001b[32m2025-01-16 23:27:57.284\u001b[0m | \u001b[1mINFO    \u001b[0m | \u001b[36m__main__\u001b[0m:\u001b[36mtrain\u001b[0m:\u001b[36m197\u001b[0m - \u001b[1mepoch: 16  batch: 56/1475  loss: 0.0764 (0.1462)  lr: 0.000100\u001b[0m\n",
            "\u001b[32m2025-01-16 23:28:09.591\u001b[0m | \u001b[1mINFO    \u001b[0m | \u001b[36m__main__\u001b[0m:\u001b[36mtrain\u001b[0m:\u001b[36m197\u001b[0m - \u001b[1mepoch: 16  batch: 70/1475  loss: 0.0782 (0.1461)  lr: 0.000100\u001b[0m\n",
            "\u001b[32m2025-01-16 23:28:21.827\u001b[0m | \u001b[1mINFO    \u001b[0m | \u001b[36m__main__\u001b[0m:\u001b[36mtrain\u001b[0m:\u001b[36m197\u001b[0m - \u001b[1mepoch: 16  batch: 84/1475  loss: 0.0814 (0.1459)  lr: 0.000100\u001b[0m\n",
            "\u001b[32m2025-01-16 23:28:34.082\u001b[0m | \u001b[1mINFO    \u001b[0m | \u001b[36m__main__\u001b[0m:\u001b[36mtrain\u001b[0m:\u001b[36m197\u001b[0m - \u001b[1mepoch: 16  batch: 98/1475  loss: 0.0790 (0.1458)  lr: 0.000100\u001b[0m\n",
            "\u001b[32m2025-01-16 23:28:46.310\u001b[0m | \u001b[1mINFO    \u001b[0m | \u001b[36m__main__\u001b[0m:\u001b[36mtrain\u001b[0m:\u001b[36m197\u001b[0m - \u001b[1mepoch: 16  batch: 112/1475  loss: 0.0754 (0.1457)  lr: 0.000100\u001b[0m\n",
            "\u001b[32m2025-01-16 23:28:58.407\u001b[0m | \u001b[1mINFO    \u001b[0m | \u001b[36m__main__\u001b[0m:\u001b[36mtrain\u001b[0m:\u001b[36m197\u001b[0m - \u001b[1mepoch: 16  batch: 126/1475  loss: 0.0760 (0.1456)  lr: 0.000100\u001b[0m\n",
            "\u001b[32m2025-01-16 23:29:10.584\u001b[0m | \u001b[1mINFO    \u001b[0m | \u001b[36m__main__\u001b[0m:\u001b[36mtrain\u001b[0m:\u001b[36m197\u001b[0m - \u001b[1mepoch: 16  batch: 140/1475  loss: 0.0763 (0.1454)  lr: 0.000100\u001b[0m\n",
            "\u001b[32m2025-01-16 23:29:22.708\u001b[0m | \u001b[1mINFO    \u001b[0m | \u001b[36m__main__\u001b[0m:\u001b[36mtrain\u001b[0m:\u001b[36m197\u001b[0m - \u001b[1mepoch: 16  batch: 154/1475  loss: 0.0740 (0.1453)  lr: 0.000100\u001b[0m\n",
            "\u001b[32m2025-01-16 23:29:34.849\u001b[0m | \u001b[1mINFO    \u001b[0m | \u001b[36m__main__\u001b[0m:\u001b[36mtrain\u001b[0m:\u001b[36m197\u001b[0m - \u001b[1mepoch: 16  batch: 168/1475  loss: 0.0731 (0.1452)  lr: 0.000100\u001b[0m\n",
            "\u001b[32m2025-01-16 23:29:46.975\u001b[0m | \u001b[1mINFO    \u001b[0m | \u001b[36m__main__\u001b[0m:\u001b[36mtrain\u001b[0m:\u001b[36m197\u001b[0m - \u001b[1mepoch: 16  batch: 182/1475  loss: 0.0740 (0.1450)  lr: 0.000100\u001b[0m\n",
            "\u001b[32m2025-01-16 23:29:59.148\u001b[0m | \u001b[1mINFO    \u001b[0m | \u001b[36m__main__\u001b[0m:\u001b[36mtrain\u001b[0m:\u001b[36m197\u001b[0m - \u001b[1mepoch: 16  batch: 196/1475  loss: 0.0692 (0.1449)  lr: 0.000100\u001b[0m\n",
            "\u001b[32m2025-01-16 23:30:11.270\u001b[0m | \u001b[1mINFO    \u001b[0m | \u001b[36m__main__\u001b[0m:\u001b[36mtrain\u001b[0m:\u001b[36m197\u001b[0m - \u001b[1mepoch: 16  batch: 210/1475  loss: 0.0693 (0.1448)  lr: 0.000100\u001b[0m\n",
            "\u001b[32m2025-01-16 23:30:23.426\u001b[0m | \u001b[1mINFO    \u001b[0m | \u001b[36m__main__\u001b[0m:\u001b[36mtrain\u001b[0m:\u001b[36m197\u001b[0m - \u001b[1mepoch: 16  batch: 224/1475  loss: 0.0702 (0.1446)  lr: 0.000100\u001b[0m\n",
            "\u001b[32m2025-01-16 23:30:35.619\u001b[0m | \u001b[1mINFO    \u001b[0m | \u001b[36m__main__\u001b[0m:\u001b[36mtrain\u001b[0m:\u001b[36m197\u001b[0m - \u001b[1mepoch: 16  batch: 238/1475  loss: 0.0718 (0.1445)  lr: 0.000100\u001b[0m\n",
            "\u001b[32m2025-01-16 23:30:47.820\u001b[0m | \u001b[1mINFO    \u001b[0m | \u001b[36m__main__\u001b[0m:\u001b[36mtrain\u001b[0m:\u001b[36m197\u001b[0m - \u001b[1mepoch: 16  batch: 252/1475  loss: 0.0724 (0.1444)  lr: 0.000100\u001b[0m\n",
            "\u001b[32m2025-01-16 23:31:00.039\u001b[0m | \u001b[1mINFO    \u001b[0m | \u001b[36m__main__\u001b[0m:\u001b[36mtrain\u001b[0m:\u001b[36m197\u001b[0m - \u001b[1mepoch: 16  batch: 266/1475  loss: 0.0706 (0.1442)  lr: 0.000100\u001b[0m\n",
            "\u001b[32m2025-01-16 23:31:12.225\u001b[0m | \u001b[1mINFO    \u001b[0m | \u001b[36m__main__\u001b[0m:\u001b[36mtrain\u001b[0m:\u001b[36m197\u001b[0m - \u001b[1mepoch: 16  batch: 280/1475  loss: 0.0698 (0.1441)  lr: 0.000100\u001b[0m\n",
            "\u001b[32m2025-01-16 23:31:24.451\u001b[0m | \u001b[1mINFO    \u001b[0m | \u001b[36m__main__\u001b[0m:\u001b[36mtrain\u001b[0m:\u001b[36m197\u001b[0m - \u001b[1mepoch: 16  batch: 294/1475  loss: 0.0707 (0.1440)  lr: 0.000100\u001b[0m\n",
            "\u001b[32m2025-01-16 23:31:36.671\u001b[0m | \u001b[1mINFO    \u001b[0m | \u001b[36m__main__\u001b[0m:\u001b[36mtrain\u001b[0m:\u001b[36m197\u001b[0m - \u001b[1mepoch: 16  batch: 308/1475  loss: 0.0684 (0.1438)  lr: 0.000100\u001b[0m\n",
            "\u001b[32m2025-01-16 23:31:48.952\u001b[0m | \u001b[1mINFO    \u001b[0m | \u001b[36m__main__\u001b[0m:\u001b[36mtrain\u001b[0m:\u001b[36m197\u001b[0m - \u001b[1mepoch: 16  batch: 322/1475  loss: 0.0682 (0.1437)  lr: 0.000100\u001b[0m\n",
            "\u001b[32m2025-01-16 23:32:01.237\u001b[0m | \u001b[1mINFO    \u001b[0m | \u001b[36m__main__\u001b[0m:\u001b[36mtrain\u001b[0m:\u001b[36m197\u001b[0m - \u001b[1mepoch: 16  batch: 336/1475  loss: 0.0674 (0.1435)  lr: 0.000100\u001b[0m\n",
            "\u001b[32m2025-01-16 23:32:13.493\u001b[0m | \u001b[1mINFO    \u001b[0m | \u001b[36m__main__\u001b[0m:\u001b[36mtrain\u001b[0m:\u001b[36m197\u001b[0m - \u001b[1mepoch: 16  batch: 350/1475  loss: 0.0668 (0.1434)  lr: 0.000100\u001b[0m\n",
            "\u001b[32m2025-01-16 23:32:25.741\u001b[0m | \u001b[1mINFO    \u001b[0m | \u001b[36m__main__\u001b[0m:\u001b[36mtrain\u001b[0m:\u001b[36m197\u001b[0m - \u001b[1mepoch: 16  batch: 364/1475  loss: 0.0688 (0.1433)  lr: 0.000100\u001b[0m\n",
            "\u001b[32m2025-01-16 23:32:37.944\u001b[0m | \u001b[1mINFO    \u001b[0m | \u001b[36m__main__\u001b[0m:\u001b[36mtrain\u001b[0m:\u001b[36m197\u001b[0m - \u001b[1mepoch: 16  batch: 378/1475  loss: 0.0684 (0.1431)  lr: 0.000100\u001b[0m\n",
            "\u001b[32m2025-01-16 23:32:50.130\u001b[0m | \u001b[1mINFO    \u001b[0m | \u001b[36m__main__\u001b[0m:\u001b[36mtrain\u001b[0m:\u001b[36m197\u001b[0m - \u001b[1mepoch: 16  batch: 392/1475  loss: 0.0684 (0.1430)  lr: 0.000100\u001b[0m\n",
            "\u001b[32m2025-01-16 23:33:02.394\u001b[0m | \u001b[1mINFO    \u001b[0m | \u001b[36m__main__\u001b[0m:\u001b[36mtrain\u001b[0m:\u001b[36m197\u001b[0m - \u001b[1mepoch: 16  batch: 406/1475  loss: 0.0678 (0.1429)  lr: 0.000100\u001b[0m\n",
            "\u001b[32m2025-01-16 23:33:14.709\u001b[0m | \u001b[1mINFO    \u001b[0m | \u001b[36m__main__\u001b[0m:\u001b[36mtrain\u001b[0m:\u001b[36m197\u001b[0m - \u001b[1mepoch: 16  batch: 420/1475  loss: 0.0641 (0.1427)  lr: 0.000100\u001b[0m\n",
            "\u001b[32m2025-01-16 23:33:26.978\u001b[0m | \u001b[1mINFO    \u001b[0m | \u001b[36m__main__\u001b[0m:\u001b[36mtrain\u001b[0m:\u001b[36m197\u001b[0m - \u001b[1mepoch: 16  batch: 434/1475  loss: 0.0641 (0.1426)  lr: 0.000100\u001b[0m\n",
            "\u001b[32m2025-01-16 23:33:39.318\u001b[0m | \u001b[1mINFO    \u001b[0m | \u001b[36m__main__\u001b[0m:\u001b[36mtrain\u001b[0m:\u001b[36m197\u001b[0m - \u001b[1mepoch: 16  batch: 448/1475  loss: 0.0661 (0.1425)  lr: 0.000100\u001b[0m\n",
            "\u001b[32m2025-01-16 23:33:51.678\u001b[0m | \u001b[1mINFO    \u001b[0m | \u001b[36m__main__\u001b[0m:\u001b[36mtrain\u001b[0m:\u001b[36m197\u001b[0m - \u001b[1mepoch: 16  batch: 462/1475  loss: 0.0679 (0.1423)  lr: 0.000100\u001b[0m\n",
            "\u001b[32m2025-01-16 23:34:03.952\u001b[0m | \u001b[1mINFO    \u001b[0m | \u001b[36m__main__\u001b[0m:\u001b[36mtrain\u001b[0m:\u001b[36m197\u001b[0m - \u001b[1mepoch: 16  batch: 476/1475  loss: 0.0680 (0.1422)  lr: 0.000100\u001b[0m\n",
            "\u001b[32m2025-01-16 23:34:16.267\u001b[0m | \u001b[1mINFO    \u001b[0m | \u001b[36m__main__\u001b[0m:\u001b[36mtrain\u001b[0m:\u001b[36m197\u001b[0m - \u001b[1mepoch: 16  batch: 490/1475  loss: 0.0681 (0.1421)  lr: 0.000100\u001b[0m\n",
            "\u001b[32m2025-01-16 23:34:28.582\u001b[0m | \u001b[1mINFO    \u001b[0m | \u001b[36m__main__\u001b[0m:\u001b[36mtrain\u001b[0m:\u001b[36m197\u001b[0m - \u001b[1mepoch: 16  batch: 504/1475  loss: 0.0658 (0.1419)  lr: 0.000100\u001b[0m\n",
            "\u001b[32m2025-01-16 23:34:40.776\u001b[0m | \u001b[1mINFO    \u001b[0m | \u001b[36m__main__\u001b[0m:\u001b[36mtrain\u001b[0m:\u001b[36m197\u001b[0m - \u001b[1mepoch: 16  batch: 518/1475  loss: 0.0637 (0.1418)  lr: 0.000100\u001b[0m\n",
            "\u001b[32m2025-01-16 23:34:53.084\u001b[0m | \u001b[1mINFO    \u001b[0m | \u001b[36m__main__\u001b[0m:\u001b[36mtrain\u001b[0m:\u001b[36m197\u001b[0m - \u001b[1mepoch: 16  batch: 532/1475  loss: 0.0608 (0.1416)  lr: 0.000100\u001b[0m\n",
            "\u001b[32m2025-01-16 23:35:05.326\u001b[0m | \u001b[1mINFO    \u001b[0m | \u001b[36m__main__\u001b[0m:\u001b[36mtrain\u001b[0m:\u001b[36m197\u001b[0m - \u001b[1mepoch: 16  batch: 546/1475  loss: 0.0653 (0.1415)  lr: 0.000100\u001b[0m\n",
            "\u001b[32m2025-01-16 23:35:17.616\u001b[0m | \u001b[1mINFO    \u001b[0m | \u001b[36m__main__\u001b[0m:\u001b[36mtrain\u001b[0m:\u001b[36m197\u001b[0m - \u001b[1mepoch: 16  batch: 560/1475  loss: 0.0650 (0.1414)  lr: 0.000100\u001b[0m\n",
            "\u001b[32m2025-01-16 23:35:29.833\u001b[0m | \u001b[1mINFO    \u001b[0m | \u001b[36m__main__\u001b[0m:\u001b[36mtrain\u001b[0m:\u001b[36m197\u001b[0m - \u001b[1mepoch: 16  batch: 574/1475  loss: 0.0646 (0.1412)  lr: 0.000100\u001b[0m\n",
            "\u001b[32m2025-01-16 23:35:42.032\u001b[0m | \u001b[1mINFO    \u001b[0m | \u001b[36m__main__\u001b[0m:\u001b[36mtrain\u001b[0m:\u001b[36m197\u001b[0m - \u001b[1mepoch: 16  batch: 588/1475  loss: 0.0630 (0.1411)  lr: 0.000100\u001b[0m\n",
            "\u001b[32m2025-01-16 23:35:54.246\u001b[0m | \u001b[1mINFO    \u001b[0m | \u001b[36m__main__\u001b[0m:\u001b[36mtrain\u001b[0m:\u001b[36m197\u001b[0m - \u001b[1mepoch: 16  batch: 602/1475  loss: 0.0631 (0.1410)  lr: 0.000100\u001b[0m\n",
            "\u001b[32m2025-01-16 23:36:06.507\u001b[0m | \u001b[1mINFO    \u001b[0m | \u001b[36m__main__\u001b[0m:\u001b[36mtrain\u001b[0m:\u001b[36m197\u001b[0m - \u001b[1mepoch: 16  batch: 616/1475  loss: 0.0650 (0.1408)  lr: 0.000100\u001b[0m\n",
            "\u001b[32m2025-01-16 23:36:18.691\u001b[0m | \u001b[1mINFO    \u001b[0m | \u001b[36m__main__\u001b[0m:\u001b[36mtrain\u001b[0m:\u001b[36m197\u001b[0m - \u001b[1mepoch: 16  batch: 630/1475  loss: 0.0639 (0.1407)  lr: 0.000100\u001b[0m\n",
            "\u001b[32m2025-01-16 23:36:30.961\u001b[0m | \u001b[1mINFO    \u001b[0m | \u001b[36m__main__\u001b[0m:\u001b[36mtrain\u001b[0m:\u001b[36m197\u001b[0m - \u001b[1mepoch: 16  batch: 644/1475  loss: 0.0631 (0.1406)  lr: 0.000100\u001b[0m\n",
            "\u001b[32m2025-01-16 23:36:43.168\u001b[0m | \u001b[1mINFO    \u001b[0m | \u001b[36m__main__\u001b[0m:\u001b[36mtrain\u001b[0m:\u001b[36m197\u001b[0m - \u001b[1mepoch: 16  batch: 658/1475  loss: 0.0639 (0.1404)  lr: 0.000100\u001b[0m\n",
            "\u001b[32m2025-01-16 23:36:55.399\u001b[0m | \u001b[1mINFO    \u001b[0m | \u001b[36m__main__\u001b[0m:\u001b[36mtrain\u001b[0m:\u001b[36m197\u001b[0m - \u001b[1mepoch: 16  batch: 672/1475  loss: 0.0632 (0.1403)  lr: 0.000100\u001b[0m\n",
            "\u001b[32m2025-01-16 23:37:07.609\u001b[0m | \u001b[1mINFO    \u001b[0m | \u001b[36m__main__\u001b[0m:\u001b[36mtrain\u001b[0m:\u001b[36m197\u001b[0m - \u001b[1mepoch: 16  batch: 686/1475  loss: 0.0605 (0.1402)  lr: 0.000100\u001b[0m\n",
            "\u001b[32m2025-01-16 23:37:19.837\u001b[0m | \u001b[1mINFO    \u001b[0m | \u001b[36m__main__\u001b[0m:\u001b[36mtrain\u001b[0m:\u001b[36m197\u001b[0m - \u001b[1mepoch: 16  batch: 700/1475  loss: 0.0642 (0.1400)  lr: 0.000100\u001b[0m\n",
            "\u001b[32m2025-01-16 23:37:32.120\u001b[0m | \u001b[1mINFO    \u001b[0m | \u001b[36m__main__\u001b[0m:\u001b[36mtrain\u001b[0m:\u001b[36m197\u001b[0m - \u001b[1mepoch: 16  batch: 714/1475  loss: 0.0628 (0.1399)  lr: 0.000100\u001b[0m\n",
            "\u001b[32m2025-01-16 23:37:44.381\u001b[0m | \u001b[1mINFO    \u001b[0m | \u001b[36m__main__\u001b[0m:\u001b[36mtrain\u001b[0m:\u001b[36m197\u001b[0m - \u001b[1mepoch: 16  batch: 728/1475  loss: 0.0633 (0.1398)  lr: 0.000100\u001b[0m\n",
            "\u001b[32m2025-01-16 23:37:56.565\u001b[0m | \u001b[1mINFO    \u001b[0m | \u001b[36m__main__\u001b[0m:\u001b[36mtrain\u001b[0m:\u001b[36m197\u001b[0m - \u001b[1mepoch: 16  batch: 742/1475  loss: 0.0600 (0.1396)  lr: 0.000100\u001b[0m\n",
            "\u001b[32m2025-01-16 23:38:08.770\u001b[0m | \u001b[1mINFO    \u001b[0m | \u001b[36m__main__\u001b[0m:\u001b[36mtrain\u001b[0m:\u001b[36m197\u001b[0m - \u001b[1mepoch: 16  batch: 756/1475  loss: 0.0626 (0.1395)  lr: 0.000100\u001b[0m\n",
            "\u001b[32m2025-01-16 23:38:21.001\u001b[0m | \u001b[1mINFO    \u001b[0m | \u001b[36m__main__\u001b[0m:\u001b[36mtrain\u001b[0m:\u001b[36m197\u001b[0m - \u001b[1mepoch: 16  batch: 770/1475  loss: 0.0650 (0.1394)  lr: 0.000100\u001b[0m\n",
            "\u001b[32m2025-01-16 23:38:33.227\u001b[0m | \u001b[1mINFO    \u001b[0m | \u001b[36m__main__\u001b[0m:\u001b[36mtrain\u001b[0m:\u001b[36m197\u001b[0m - \u001b[1mepoch: 16  batch: 784/1475  loss: 0.0605 (0.1393)  lr: 0.000100\u001b[0m\n",
            "\u001b[32m2025-01-16 23:38:45.476\u001b[0m | \u001b[1mINFO    \u001b[0m | \u001b[36m__main__\u001b[0m:\u001b[36mtrain\u001b[0m:\u001b[36m197\u001b[0m - \u001b[1mepoch: 16  batch: 798/1475  loss: 0.0621 (0.1391)  lr: 0.000100\u001b[0m\n",
            "\u001b[32m2025-01-16 23:38:57.753\u001b[0m | \u001b[1mINFO    \u001b[0m | \u001b[36m__main__\u001b[0m:\u001b[36mtrain\u001b[0m:\u001b[36m197\u001b[0m - \u001b[1mepoch: 16  batch: 812/1475  loss: 0.0630 (0.1390)  lr: 0.000100\u001b[0m\n",
            "\u001b[32m2025-01-16 23:39:10.045\u001b[0m | \u001b[1mINFO    \u001b[0m | \u001b[36m__main__\u001b[0m:\u001b[36mtrain\u001b[0m:\u001b[36m197\u001b[0m - \u001b[1mepoch: 16  batch: 826/1475  loss: 0.0645 (0.1389)  lr: 0.000100\u001b[0m\n",
            "\u001b[32m2025-01-16 23:39:22.360\u001b[0m | \u001b[1mINFO    \u001b[0m | \u001b[36m__main__\u001b[0m:\u001b[36mtrain\u001b[0m:\u001b[36m197\u001b[0m - \u001b[1mepoch: 16  batch: 840/1475  loss: 0.0640 (0.1387)  lr: 0.000100\u001b[0m\n",
            "\u001b[32m2025-01-16 23:39:34.673\u001b[0m | \u001b[1mINFO    \u001b[0m | \u001b[36m__main__\u001b[0m:\u001b[36mtrain\u001b[0m:\u001b[36m197\u001b[0m - \u001b[1mepoch: 16  batch: 854/1475  loss: 0.0625 (0.1386)  lr: 0.000100\u001b[0m\n",
            "\u001b[32m2025-01-16 23:39:46.985\u001b[0m | \u001b[1mINFO    \u001b[0m | \u001b[36m__main__\u001b[0m:\u001b[36mtrain\u001b[0m:\u001b[36m197\u001b[0m - \u001b[1mepoch: 16  batch: 868/1475  loss: 0.0620 (0.1385)  lr: 0.000100\u001b[0m\n",
            "\u001b[32m2025-01-16 23:39:59.249\u001b[0m | \u001b[1mINFO    \u001b[0m | \u001b[36m__main__\u001b[0m:\u001b[36mtrain\u001b[0m:\u001b[36m197\u001b[0m - \u001b[1mepoch: 16  batch: 882/1475  loss: 0.0640 (0.1384)  lr: 0.000100\u001b[0m\n",
            "\u001b[32m2025-01-16 23:40:11.520\u001b[0m | \u001b[1mINFO    \u001b[0m | \u001b[36m__main__\u001b[0m:\u001b[36mtrain\u001b[0m:\u001b[36m197\u001b[0m - \u001b[1mepoch: 16  batch: 896/1475  loss: 0.0678 (0.1382)  lr: 0.000100\u001b[0m\n",
            "\u001b[32m2025-01-16 23:40:23.782\u001b[0m | \u001b[1mINFO    \u001b[0m | \u001b[36m__main__\u001b[0m:\u001b[36mtrain\u001b[0m:\u001b[36m197\u001b[0m - \u001b[1mepoch: 16  batch: 910/1475  loss: 0.0646 (0.1381)  lr: 0.000100\u001b[0m\n",
            "\u001b[32m2025-01-16 23:40:36.076\u001b[0m | \u001b[1mINFO    \u001b[0m | \u001b[36m__main__\u001b[0m:\u001b[36mtrain\u001b[0m:\u001b[36m197\u001b[0m - \u001b[1mepoch: 16  batch: 924/1475  loss: 0.0584 (0.1380)  lr: 0.000100\u001b[0m\n",
            "\u001b[32m2025-01-16 23:40:48.282\u001b[0m | \u001b[1mINFO    \u001b[0m | \u001b[36m__main__\u001b[0m:\u001b[36mtrain\u001b[0m:\u001b[36m197\u001b[0m - \u001b[1mepoch: 16  batch: 938/1475  loss: 0.0615 (0.1379)  lr: 0.000100\u001b[0m\n",
            "\u001b[32m2025-01-16 23:41:00.547\u001b[0m | \u001b[1mINFO    \u001b[0m | \u001b[36m__main__\u001b[0m:\u001b[36mtrain\u001b[0m:\u001b[36m197\u001b[0m - \u001b[1mepoch: 16  batch: 952/1475  loss: 0.0626 (0.1377)  lr: 0.000100\u001b[0m\n",
            "\u001b[32m2025-01-16 23:41:12.793\u001b[0m | \u001b[1mINFO    \u001b[0m | \u001b[36m__main__\u001b[0m:\u001b[36mtrain\u001b[0m:\u001b[36m197\u001b[0m - \u001b[1mepoch: 16  batch: 966/1475  loss: 0.0609 (0.1376)  lr: 0.000100\u001b[0m\n",
            "\u001b[32m2025-01-16 23:41:25.000\u001b[0m | \u001b[1mINFO    \u001b[0m | \u001b[36m__main__\u001b[0m:\u001b[36mtrain\u001b[0m:\u001b[36m197\u001b[0m - \u001b[1mepoch: 16  batch: 980/1475  loss: 0.0609 (0.1375)  lr: 0.000100\u001b[0m\n",
            "\u001b[32m2025-01-16 23:41:37.210\u001b[0m | \u001b[1mINFO    \u001b[0m | \u001b[36m__main__\u001b[0m:\u001b[36mtrain\u001b[0m:\u001b[36m197\u001b[0m - \u001b[1mepoch: 16  batch: 994/1475  loss: 0.0639 (0.1374)  lr: 0.000100\u001b[0m\n",
            "\u001b[32m2025-01-16 23:41:49.450\u001b[0m | \u001b[1mINFO    \u001b[0m | \u001b[36m__main__\u001b[0m:\u001b[36mtrain\u001b[0m:\u001b[36m197\u001b[0m - \u001b[1mepoch: 16  batch: 1008/1475  loss: 0.0621 (0.1372)  lr: 0.000100\u001b[0m\n",
            "\u001b[32m2025-01-16 23:42:01.660\u001b[0m | \u001b[1mINFO    \u001b[0m | \u001b[36m__main__\u001b[0m:\u001b[36mtrain\u001b[0m:\u001b[36m197\u001b[0m - \u001b[1mepoch: 16  batch: 1022/1475  loss: 0.0613 (0.1371)  lr: 0.000100\u001b[0m\n",
            "\u001b[32m2025-01-16 23:42:13.849\u001b[0m | \u001b[1mINFO    \u001b[0m | \u001b[36m__main__\u001b[0m:\u001b[36mtrain\u001b[0m:\u001b[36m197\u001b[0m - \u001b[1mepoch: 16  batch: 1036/1475  loss: 0.0601 (0.1370)  lr: 0.000100\u001b[0m\n",
            "\u001b[32m2025-01-16 23:42:26.047\u001b[0m | \u001b[1mINFO    \u001b[0m | \u001b[36m__main__\u001b[0m:\u001b[36mtrain\u001b[0m:\u001b[36m197\u001b[0m - \u001b[1mepoch: 16  batch: 1050/1475  loss: 0.0571 (0.1369)  lr: 0.000100\u001b[0m\n",
            "\u001b[32m2025-01-16 23:42:38.276\u001b[0m | \u001b[1mINFO    \u001b[0m | \u001b[36m__main__\u001b[0m:\u001b[36mtrain\u001b[0m:\u001b[36m197\u001b[0m - \u001b[1mepoch: 16  batch: 1064/1475  loss: 0.0587 (0.1367)  lr: 0.000100\u001b[0m\n",
            "\u001b[32m2025-01-16 23:42:50.530\u001b[0m | \u001b[1mINFO    \u001b[0m | \u001b[36m__main__\u001b[0m:\u001b[36mtrain\u001b[0m:\u001b[36m197\u001b[0m - \u001b[1mepoch: 16  batch: 1078/1475  loss: 0.0640 (0.1366)  lr: 0.000100\u001b[0m\n",
            "\u001b[32m2025-01-16 23:43:02.811\u001b[0m | \u001b[1mINFO    \u001b[0m | \u001b[36m__main__\u001b[0m:\u001b[36mtrain\u001b[0m:\u001b[36m197\u001b[0m - \u001b[1mepoch: 16  batch: 1092/1475  loss: 0.0624 (0.1365)  lr: 0.000100\u001b[0m\n",
            "\u001b[32m2025-01-16 23:43:14.974\u001b[0m | \u001b[1mINFO    \u001b[0m | \u001b[36m__main__\u001b[0m:\u001b[36mtrain\u001b[0m:\u001b[36m197\u001b[0m - \u001b[1mepoch: 16  batch: 1106/1475  loss: 0.0622 (0.1364)  lr: 0.000100\u001b[0m\n",
            "\u001b[32m2025-01-16 23:43:27.160\u001b[0m | \u001b[1mINFO    \u001b[0m | \u001b[36m__main__\u001b[0m:\u001b[36mtrain\u001b[0m:\u001b[36m197\u001b[0m - \u001b[1mepoch: 16  batch: 1120/1475  loss: 0.0612 (0.1362)  lr: 0.000100\u001b[0m\n",
            "\u001b[32m2025-01-16 23:43:39.455\u001b[0m | \u001b[1mINFO    \u001b[0m | \u001b[36m__main__\u001b[0m:\u001b[36mtrain\u001b[0m:\u001b[36m197\u001b[0m - \u001b[1mepoch: 16  batch: 1134/1475  loss: 0.0595 (0.1361)  lr: 0.000100\u001b[0m\n",
            "\u001b[32m2025-01-16 23:43:51.641\u001b[0m | \u001b[1mINFO    \u001b[0m | \u001b[36m__main__\u001b[0m:\u001b[36mtrain\u001b[0m:\u001b[36m197\u001b[0m - \u001b[1mepoch: 16  batch: 1148/1475  loss: 0.0579 (0.1360)  lr: 0.000100\u001b[0m\n",
            "\u001b[32m2025-01-16 23:44:03.840\u001b[0m | \u001b[1mINFO    \u001b[0m | \u001b[36m__main__\u001b[0m:\u001b[36mtrain\u001b[0m:\u001b[36m197\u001b[0m - \u001b[1mepoch: 16  batch: 1162/1475  loss: 0.0571 (0.1359)  lr: 0.000100\u001b[0m\n",
            "\u001b[32m2025-01-16 23:44:16.026\u001b[0m | \u001b[1mINFO    \u001b[0m | \u001b[36m__main__\u001b[0m:\u001b[36mtrain\u001b[0m:\u001b[36m197\u001b[0m - \u001b[1mepoch: 16  batch: 1176/1475  loss: 0.0571 (0.1357)  lr: 0.000100\u001b[0m\n",
            "\u001b[32m2025-01-16 23:44:28.251\u001b[0m | \u001b[1mINFO    \u001b[0m | \u001b[36m__main__\u001b[0m:\u001b[36mtrain\u001b[0m:\u001b[36m197\u001b[0m - \u001b[1mepoch: 16  batch: 1190/1475  loss: 0.0599 (0.1356)  lr: 0.000100\u001b[0m\n",
            "\u001b[32m2025-01-16 23:44:40.418\u001b[0m | \u001b[1mINFO    \u001b[0m | \u001b[36m__main__\u001b[0m:\u001b[36mtrain\u001b[0m:\u001b[36m197\u001b[0m - \u001b[1mepoch: 16  batch: 1204/1475  loss: 0.0618 (0.1355)  lr: 0.000100\u001b[0m\n",
            "\u001b[32m2025-01-16 23:44:52.649\u001b[0m | \u001b[1mINFO    \u001b[0m | \u001b[36m__main__\u001b[0m:\u001b[36mtrain\u001b[0m:\u001b[36m197\u001b[0m - \u001b[1mepoch: 16  batch: 1218/1475  loss: 0.0613 (0.1354)  lr: 0.000100\u001b[0m\n",
            "\u001b[32m2025-01-16 23:45:04.810\u001b[0m | \u001b[1mINFO    \u001b[0m | \u001b[36m__main__\u001b[0m:\u001b[36mtrain\u001b[0m:\u001b[36m197\u001b[0m - \u001b[1mepoch: 16  batch: 1232/1475  loss: 0.0586 (0.1353)  lr: 0.000100\u001b[0m\n",
            "\u001b[32m2025-01-16 23:45:17.017\u001b[0m | \u001b[1mINFO    \u001b[0m | \u001b[36m__main__\u001b[0m:\u001b[36mtrain\u001b[0m:\u001b[36m197\u001b[0m - \u001b[1mepoch: 16  batch: 1246/1475  loss: 0.0605 (0.1351)  lr: 0.000100\u001b[0m\n",
            "\u001b[32m2025-01-16 23:45:29.218\u001b[0m | \u001b[1mINFO    \u001b[0m | \u001b[36m__main__\u001b[0m:\u001b[36mtrain\u001b[0m:\u001b[36m197\u001b[0m - \u001b[1mepoch: 16  batch: 1260/1475  loss: 0.0591 (0.1350)  lr: 0.000100\u001b[0m\n",
            "\u001b[32m2025-01-16 23:45:41.443\u001b[0m | \u001b[1mINFO    \u001b[0m | \u001b[36m__main__\u001b[0m:\u001b[36mtrain\u001b[0m:\u001b[36m197\u001b[0m - \u001b[1mepoch: 16  batch: 1274/1475  loss: 0.0625 (0.1349)  lr: 0.000100\u001b[0m\n",
            "\u001b[32m2025-01-16 23:45:53.633\u001b[0m | \u001b[1mINFO    \u001b[0m | \u001b[36m__main__\u001b[0m:\u001b[36mtrain\u001b[0m:\u001b[36m197\u001b[0m - \u001b[1mepoch: 16  batch: 1288/1475  loss: 0.0603 (0.1348)  lr: 0.000100\u001b[0m\n",
            "\u001b[32m2025-01-16 23:46:05.760\u001b[0m | \u001b[1mINFO    \u001b[0m | \u001b[36m__main__\u001b[0m:\u001b[36mtrain\u001b[0m:\u001b[36m197\u001b[0m - \u001b[1mepoch: 16  batch: 1302/1475  loss: 0.0583 (0.1347)  lr: 0.000100\u001b[0m\n",
            "\u001b[32m2025-01-16 23:46:17.972\u001b[0m | \u001b[1mINFO    \u001b[0m | \u001b[36m__main__\u001b[0m:\u001b[36mtrain\u001b[0m:\u001b[36m197\u001b[0m - \u001b[1mepoch: 16  batch: 1316/1475  loss: 0.0645 (0.1346)  lr: 0.000100\u001b[0m\n",
            "\u001b[32m2025-01-16 23:46:30.127\u001b[0m | \u001b[1mINFO    \u001b[0m | \u001b[36m__main__\u001b[0m:\u001b[36mtrain\u001b[0m:\u001b[36m197\u001b[0m - \u001b[1mepoch: 16  batch: 1330/1475  loss: 0.0634 (0.1344)  lr: 0.000100\u001b[0m\n",
            "\u001b[32m2025-01-16 23:46:42.306\u001b[0m | \u001b[1mINFO    \u001b[0m | \u001b[36m__main__\u001b[0m:\u001b[36mtrain\u001b[0m:\u001b[36m197\u001b[0m - \u001b[1mepoch: 16  batch: 1344/1475  loss: 0.0614 (0.1343)  lr: 0.000100\u001b[0m\n",
            "\u001b[32m2025-01-16 23:46:54.569\u001b[0m | \u001b[1mINFO    \u001b[0m | \u001b[36m__main__\u001b[0m:\u001b[36mtrain\u001b[0m:\u001b[36m197\u001b[0m - \u001b[1mepoch: 16  batch: 1358/1475  loss: 0.0639 (0.1342)  lr: 0.000100\u001b[0m\n",
            "\u001b[32m2025-01-16 23:47:06.735\u001b[0m | \u001b[1mINFO    \u001b[0m | \u001b[36m__main__\u001b[0m:\u001b[36mtrain\u001b[0m:\u001b[36m197\u001b[0m - \u001b[1mepoch: 16  batch: 1372/1475  loss: 0.0597 (0.1341)  lr: 0.000100\u001b[0m\n",
            "\u001b[32m2025-01-16 23:47:18.939\u001b[0m | \u001b[1mINFO    \u001b[0m | \u001b[36m__main__\u001b[0m:\u001b[36mtrain\u001b[0m:\u001b[36m197\u001b[0m - \u001b[1mepoch: 16  batch: 1386/1475  loss: 0.0624 (0.1340)  lr: 0.000100\u001b[0m\n",
            "\u001b[32m2025-01-16 23:47:31.220\u001b[0m | \u001b[1mINFO    \u001b[0m | \u001b[36m__main__\u001b[0m:\u001b[36mtrain\u001b[0m:\u001b[36m197\u001b[0m - \u001b[1mepoch: 16  batch: 1400/1475  loss: 0.0597 (0.1339)  lr: 0.000100\u001b[0m\n",
            "\u001b[32m2025-01-16 23:47:43.526\u001b[0m | \u001b[1mINFO    \u001b[0m | \u001b[36m__main__\u001b[0m:\u001b[36mtrain\u001b[0m:\u001b[36m197\u001b[0m - \u001b[1mepoch: 16  batch: 1414/1475  loss: 0.0638 (0.1338)  lr: 0.000100\u001b[0m\n",
            "\u001b[32m2025-01-16 23:47:55.740\u001b[0m | \u001b[1mINFO    \u001b[0m | \u001b[36m__main__\u001b[0m:\u001b[36mtrain\u001b[0m:\u001b[36m197\u001b[0m - \u001b[1mepoch: 16  batch: 1428/1475  loss: 0.0608 (0.1336)  lr: 0.000100\u001b[0m\n",
            "\u001b[32m2025-01-16 23:48:08.100\u001b[0m | \u001b[1mINFO    \u001b[0m | \u001b[36m__main__\u001b[0m:\u001b[36mtrain\u001b[0m:\u001b[36m197\u001b[0m - \u001b[1mepoch: 16  batch: 1442/1475  loss: 0.0639 (0.1335)  lr: 0.000100\u001b[0m\n",
            "\u001b[32m2025-01-16 23:48:20.387\u001b[0m | \u001b[1mINFO    \u001b[0m | \u001b[36m__main__\u001b[0m:\u001b[36mtrain\u001b[0m:\u001b[36m197\u001b[0m - \u001b[1mepoch: 16  batch: 1456/1475  loss: 0.0617 (0.1334)  lr: 0.000100\u001b[0m\n",
            "\u001b[32m2025-01-16 23:48:32.615\u001b[0m | \u001b[1mINFO    \u001b[0m | \u001b[36m__main__\u001b[0m:\u001b[36mtrain\u001b[0m:\u001b[36m197\u001b[0m - \u001b[1mepoch: 16  batch: 1470/1475  loss: 0.0602 (0.1333)  lr: 0.000100\u001b[0m\n",
            "\u001b[32m2025-01-16 23:48:36.648\u001b[0m | \u001b[1mINFO    \u001b[0m | \u001b[36m__main__\u001b[0m:\u001b[36mtrain\u001b[0m:\u001b[36m219\u001b[0m - \u001b[1mFinish epoch: 16, without validation\u001b[0m\n",
            "\u001b[32m2025-01-16 23:48:50.315\u001b[0m | \u001b[1mINFO    \u001b[0m | \u001b[36m__main__\u001b[0m:\u001b[36mtrain\u001b[0m:\u001b[36m197\u001b[0m - \u001b[1mepoch: 17  batch: 14/1475  loss: 0.0516 (0.1331)  lr: 0.000100\u001b[0m\n",
            "\u001b[32m2025-01-16 23:49:02.586\u001b[0m | \u001b[1mINFO    \u001b[0m | \u001b[36m__main__\u001b[0m:\u001b[36mtrain\u001b[0m:\u001b[36m197\u001b[0m - \u001b[1mepoch: 17  batch: 28/1475  loss: 0.0492 (0.1330)  lr: 0.000100\u001b[0m\n",
            "\u001b[32m2025-01-16 23:49:14.765\u001b[0m | \u001b[1mINFO    \u001b[0m | \u001b[36m__main__\u001b[0m:\u001b[36mtrain\u001b[0m:\u001b[36m197\u001b[0m - \u001b[1mepoch: 17  batch: 42/1475  loss: 0.0493 (0.1329)  lr: 0.000100\u001b[0m\n",
            "\u001b[32m2025-01-16 23:49:27.048\u001b[0m | \u001b[1mINFO    \u001b[0m | \u001b[36m__main__\u001b[0m:\u001b[36mtrain\u001b[0m:\u001b[36m197\u001b[0m - \u001b[1mepoch: 17  batch: 56/1475  loss: 0.0469 (0.1327)  lr: 0.000100\u001b[0m\n",
            "\u001b[32m2025-01-16 23:49:39.282\u001b[0m | \u001b[1mINFO    \u001b[0m | \u001b[36m__main__\u001b[0m:\u001b[36mtrain\u001b[0m:\u001b[36m197\u001b[0m - \u001b[1mepoch: 17  batch: 70/1475  loss: 0.0482 (0.1326)  lr: 0.000100\u001b[0m\n",
            "\u001b[32m2025-01-16 23:49:51.459\u001b[0m | \u001b[1mINFO    \u001b[0m | \u001b[36m__main__\u001b[0m:\u001b[36mtrain\u001b[0m:\u001b[36m197\u001b[0m - \u001b[1mepoch: 17  batch: 84/1475  loss: 0.0482 (0.1325)  lr: 0.000100\u001b[0m\n",
            "\u001b[32m2025-01-16 23:50:03.625\u001b[0m | \u001b[1mINFO    \u001b[0m | \u001b[36m__main__\u001b[0m:\u001b[36mtrain\u001b[0m:\u001b[36m197\u001b[0m - \u001b[1mepoch: 17  batch: 98/1475  loss: 0.0478 (0.1323)  lr: 0.000100\u001b[0m\n",
            "\u001b[32m2025-01-16 23:50:15.910\u001b[0m | \u001b[1mINFO    \u001b[0m | \u001b[36m__main__\u001b[0m:\u001b[36mtrain\u001b[0m:\u001b[36m197\u001b[0m - \u001b[1mepoch: 17  batch: 112/1475  loss: 0.0469 (0.1322)  lr: 0.000100\u001b[0m\n",
            "\u001b[32m2025-01-16 23:50:28.126\u001b[0m | \u001b[1mINFO    \u001b[0m | \u001b[36m__main__\u001b[0m:\u001b[36mtrain\u001b[0m:\u001b[36m197\u001b[0m - \u001b[1mepoch: 17  batch: 126/1475  loss: 0.0458 (0.1321)  lr: 0.000100\u001b[0m\n",
            "\u001b[32m2025-01-16 23:50:40.387\u001b[0m | \u001b[1mINFO    \u001b[0m | \u001b[36m__main__\u001b[0m:\u001b[36mtrain\u001b[0m:\u001b[36m197\u001b[0m - \u001b[1mepoch: 17  batch: 140/1475  loss: 0.0498 (0.1320)  lr: 0.000100\u001b[0m\n",
            "\u001b[32m2025-01-16 23:50:52.630\u001b[0m | \u001b[1mINFO    \u001b[0m | \u001b[36m__main__\u001b[0m:\u001b[36mtrain\u001b[0m:\u001b[36m197\u001b[0m - \u001b[1mepoch: 17  batch: 154/1475  loss: 0.0480 (0.1318)  lr: 0.000100\u001b[0m\n",
            "\u001b[32m2025-01-16 23:51:04.808\u001b[0m | \u001b[1mINFO    \u001b[0m | \u001b[36m__main__\u001b[0m:\u001b[36mtrain\u001b[0m:\u001b[36m197\u001b[0m - \u001b[1mepoch: 17  batch: 168/1475  loss: 0.0497 (0.1317)  lr: 0.000100\u001b[0m\n",
            "\u001b[32m2025-01-16 23:51:17.001\u001b[0m | \u001b[1mINFO    \u001b[0m | \u001b[36m__main__\u001b[0m:\u001b[36mtrain\u001b[0m:\u001b[36m197\u001b[0m - \u001b[1mepoch: 17  batch: 182/1475  loss: 0.0482 (0.1316)  lr: 0.000100\u001b[0m\n",
            "\u001b[32m2025-01-16 23:51:29.254\u001b[0m | \u001b[1mINFO    \u001b[0m | \u001b[36m__main__\u001b[0m:\u001b[36mtrain\u001b[0m:\u001b[36m197\u001b[0m - \u001b[1mepoch: 17  batch: 196/1475  loss: 0.0460 (0.1314)  lr: 0.000100\u001b[0m\n",
            "\u001b[32m2025-01-16 23:51:41.429\u001b[0m | \u001b[1mINFO    \u001b[0m | \u001b[36m__main__\u001b[0m:\u001b[36mtrain\u001b[0m:\u001b[36m197\u001b[0m - \u001b[1mepoch: 17  batch: 210/1475  loss: 0.0479 (0.1313)  lr: 0.000100\u001b[0m\n",
            "\u001b[32m2025-01-16 23:51:53.560\u001b[0m | \u001b[1mINFO    \u001b[0m | \u001b[36m__main__\u001b[0m:\u001b[36mtrain\u001b[0m:\u001b[36m197\u001b[0m - \u001b[1mepoch: 17  batch: 224/1475  loss: 0.0504 (0.1312)  lr: 0.000100\u001b[0m\n",
            "\u001b[32m2025-01-16 23:52:05.814\u001b[0m | \u001b[1mINFO    \u001b[0m | \u001b[36m__main__\u001b[0m:\u001b[36mtrain\u001b[0m:\u001b[36m197\u001b[0m - \u001b[1mepoch: 17  batch: 238/1475  loss: 0.0504 (0.1311)  lr: 0.000100\u001b[0m\n",
            "\u001b[32m2025-01-16 23:52:17.969\u001b[0m | \u001b[1mINFO    \u001b[0m | \u001b[36m__main__\u001b[0m:\u001b[36mtrain\u001b[0m:\u001b[36m197\u001b[0m - \u001b[1mepoch: 17  batch: 252/1475  loss: 0.0490 (0.1309)  lr: 0.000100\u001b[0m\n",
            "\u001b[32m2025-01-16 23:52:30.132\u001b[0m | \u001b[1mINFO    \u001b[0m | \u001b[36m__main__\u001b[0m:\u001b[36mtrain\u001b[0m:\u001b[36m197\u001b[0m - \u001b[1mepoch: 17  batch: 266/1475  loss: 0.0490 (0.1308)  lr: 0.000100\u001b[0m\n",
            "\u001b[32m2025-01-16 23:52:42.295\u001b[0m | \u001b[1mINFO    \u001b[0m | \u001b[36m__main__\u001b[0m:\u001b[36mtrain\u001b[0m:\u001b[36m197\u001b[0m - \u001b[1mepoch: 17  batch: 280/1475  loss: 0.0464 (0.1307)  lr: 0.000100\u001b[0m\n",
            "\u001b[32m2025-01-16 23:52:54.430\u001b[0m | \u001b[1mINFO    \u001b[0m | \u001b[36m__main__\u001b[0m:\u001b[36mtrain\u001b[0m:\u001b[36m197\u001b[0m - \u001b[1mepoch: 17  batch: 294/1475  loss: 0.0500 (0.1306)  lr: 0.000100\u001b[0m\n",
            "\u001b[32m2025-01-16 23:53:06.586\u001b[0m | \u001b[1mINFO    \u001b[0m | \u001b[36m__main__\u001b[0m:\u001b[36mtrain\u001b[0m:\u001b[36m197\u001b[0m - \u001b[1mepoch: 17  batch: 308/1475  loss: 0.0503 (0.1304)  lr: 0.000100\u001b[0m\n",
            "\u001b[32m2025-01-16 23:53:18.737\u001b[0m | \u001b[1mINFO    \u001b[0m | \u001b[36m__main__\u001b[0m:\u001b[36mtrain\u001b[0m:\u001b[36m197\u001b[0m - \u001b[1mepoch: 17  batch: 322/1475  loss: 0.0485 (0.1303)  lr: 0.000100\u001b[0m\n",
            "\u001b[32m2025-01-16 23:53:30.910\u001b[0m | \u001b[1mINFO    \u001b[0m | \u001b[36m__main__\u001b[0m:\u001b[36mtrain\u001b[0m:\u001b[36m197\u001b[0m - \u001b[1mepoch: 17  batch: 336/1475  loss: 0.0476 (0.1302)  lr: 0.000100\u001b[0m\n",
            "\u001b[32m2025-01-16 23:53:43.165\u001b[0m | \u001b[1mINFO    \u001b[0m | \u001b[36m__main__\u001b[0m:\u001b[36mtrain\u001b[0m:\u001b[36m197\u001b[0m - \u001b[1mepoch: 17  batch: 350/1475  loss: 0.0491 (0.1301)  lr: 0.000100\u001b[0m\n",
            "\u001b[32m2025-01-16 23:53:55.337\u001b[0m | \u001b[1mINFO    \u001b[0m | \u001b[36m__main__\u001b[0m:\u001b[36mtrain\u001b[0m:\u001b[36m197\u001b[0m - \u001b[1mepoch: 17  batch: 364/1475  loss: 0.0509 (0.1300)  lr: 0.000100\u001b[0m\n",
            "\u001b[32m2025-01-16 23:54:07.531\u001b[0m | \u001b[1mINFO    \u001b[0m | \u001b[36m__main__\u001b[0m:\u001b[36mtrain\u001b[0m:\u001b[36m197\u001b[0m - \u001b[1mepoch: 17  batch: 378/1475  loss: 0.0509 (0.1298)  lr: 0.000100\u001b[0m\n",
            "\u001b[32m2025-01-16 23:54:19.727\u001b[0m | \u001b[1mINFO    \u001b[0m | \u001b[36m__main__\u001b[0m:\u001b[36mtrain\u001b[0m:\u001b[36m197\u001b[0m - \u001b[1mepoch: 17  batch: 392/1475  loss: 0.0469 (0.1297)  lr: 0.000100\u001b[0m\n",
            "\u001b[32m2025-01-16 23:54:32.012\u001b[0m | \u001b[1mINFO    \u001b[0m | \u001b[36m__main__\u001b[0m:\u001b[36mtrain\u001b[0m:\u001b[36m197\u001b[0m - \u001b[1mepoch: 17  batch: 406/1475  loss: 0.0452 (0.1296)  lr: 0.000100\u001b[0m\n",
            "\u001b[32m2025-01-16 23:54:44.283\u001b[0m | \u001b[1mINFO    \u001b[0m | \u001b[36m__main__\u001b[0m:\u001b[36mtrain\u001b[0m:\u001b[36m197\u001b[0m - \u001b[1mepoch: 17  batch: 420/1475  loss: 0.0524 (0.1295)  lr: 0.000100\u001b[0m\n",
            "\u001b[32m2025-01-16 23:54:56.485\u001b[0m | \u001b[1mINFO    \u001b[0m | \u001b[36m__main__\u001b[0m:\u001b[36mtrain\u001b[0m:\u001b[36m197\u001b[0m - \u001b[1mepoch: 17  batch: 434/1475  loss: 0.0525 (0.1294)  lr: 0.000100\u001b[0m\n",
            "\u001b[32m2025-01-16 23:55:08.727\u001b[0m | \u001b[1mINFO    \u001b[0m | \u001b[36m__main__\u001b[0m:\u001b[36mtrain\u001b[0m:\u001b[36m197\u001b[0m - \u001b[1mepoch: 17  batch: 448/1475  loss: 0.0522 (0.1292)  lr: 0.000100\u001b[0m\n",
            "\u001b[32m2025-01-16 23:55:20.949\u001b[0m | \u001b[1mINFO    \u001b[0m | \u001b[36m__main__\u001b[0m:\u001b[36mtrain\u001b[0m:\u001b[36m197\u001b[0m - \u001b[1mepoch: 17  batch: 462/1475  loss: 0.0490 (0.1291)  lr: 0.000100\u001b[0m\n",
            "\u001b[32m2025-01-16 23:55:33.141\u001b[0m | \u001b[1mINFO    \u001b[0m | \u001b[36m__main__\u001b[0m:\u001b[36mtrain\u001b[0m:\u001b[36m197\u001b[0m - \u001b[1mepoch: 17  batch: 476/1475  loss: 0.0481 (0.1290)  lr: 0.000100\u001b[0m\n",
            "\u001b[32m2025-01-16 23:55:45.272\u001b[0m | \u001b[1mINFO    \u001b[0m | \u001b[36m__main__\u001b[0m:\u001b[36mtrain\u001b[0m:\u001b[36m197\u001b[0m - \u001b[1mepoch: 17  batch: 490/1475  loss: 0.0527 (0.1289)  lr: 0.000100\u001b[0m\n",
            "\u001b[32m2025-01-16 23:55:57.440\u001b[0m | \u001b[1mINFO    \u001b[0m | \u001b[36m__main__\u001b[0m:\u001b[36mtrain\u001b[0m:\u001b[36m197\u001b[0m - \u001b[1mepoch: 17  batch: 504/1475  loss: 0.0525 (0.1288)  lr: 0.000100\u001b[0m\n",
            "\u001b[32m2025-01-16 23:56:09.566\u001b[0m | \u001b[1mINFO    \u001b[0m | \u001b[36m__main__\u001b[0m:\u001b[36mtrain\u001b[0m:\u001b[36m197\u001b[0m - \u001b[1mepoch: 17  batch: 518/1475  loss: 0.0479 (0.1287)  lr: 0.000100\u001b[0m\n",
            "\u001b[32m2025-01-16 23:56:21.736\u001b[0m | \u001b[1mINFO    \u001b[0m | \u001b[36m__main__\u001b[0m:\u001b[36mtrain\u001b[0m:\u001b[36m197\u001b[0m - \u001b[1mepoch: 17  batch: 532/1475  loss: 0.0504 (0.1285)  lr: 0.000100\u001b[0m\n",
            "\u001b[32m2025-01-16 23:56:33.896\u001b[0m | \u001b[1mINFO    \u001b[0m | \u001b[36m__main__\u001b[0m:\u001b[36mtrain\u001b[0m:\u001b[36m197\u001b[0m - \u001b[1mepoch: 17  batch: 546/1475  loss: 0.0511 (0.1284)  lr: 0.000100\u001b[0m\n",
            "\u001b[32m2025-01-16 23:56:46.040\u001b[0m | \u001b[1mINFO    \u001b[0m | \u001b[36m__main__\u001b[0m:\u001b[36mtrain\u001b[0m:\u001b[36m197\u001b[0m - \u001b[1mepoch: 17  batch: 560/1475  loss: 0.0512 (0.1283)  lr: 0.000100\u001b[0m\n",
            "\u001b[32m2025-01-16 23:56:58.184\u001b[0m | \u001b[1mINFO    \u001b[0m | \u001b[36m__main__\u001b[0m:\u001b[36mtrain\u001b[0m:\u001b[36m197\u001b[0m - \u001b[1mepoch: 17  batch: 574/1475  loss: 0.0515 (0.1282)  lr: 0.000100\u001b[0m\n",
            "\u001b[32m2025-01-16 23:57:10.395\u001b[0m | \u001b[1mINFO    \u001b[0m | \u001b[36m__main__\u001b[0m:\u001b[36mtrain\u001b[0m:\u001b[36m197\u001b[0m - \u001b[1mepoch: 17  batch: 588/1475  loss: 0.0502 (0.1281)  lr: 0.000100\u001b[0m\n",
            "\u001b[32m2025-01-16 23:57:22.537\u001b[0m | \u001b[1mINFO    \u001b[0m | \u001b[36m__main__\u001b[0m:\u001b[36mtrain\u001b[0m:\u001b[36m197\u001b[0m - \u001b[1mepoch: 17  batch: 602/1475  loss: 0.0519 (0.1280)  lr: 0.000100\u001b[0m\n",
            "\u001b[32m2025-01-16 23:57:34.690\u001b[0m | \u001b[1mINFO    \u001b[0m | \u001b[36m__main__\u001b[0m:\u001b[36mtrain\u001b[0m:\u001b[36m197\u001b[0m - \u001b[1mepoch: 17  batch: 616/1475  loss: 0.0510 (0.1279)  lr: 0.000100\u001b[0m\n",
            "\u001b[32m2025-01-16 23:57:46.910\u001b[0m | \u001b[1mINFO    \u001b[0m | \u001b[36m__main__\u001b[0m:\u001b[36mtrain\u001b[0m:\u001b[36m197\u001b[0m - \u001b[1mepoch: 17  batch: 630/1475  loss: 0.0494 (0.1277)  lr: 0.000100\u001b[0m\n",
            "\u001b[32m2025-01-16 23:57:59.093\u001b[0m | \u001b[1mINFO    \u001b[0m | \u001b[36m__main__\u001b[0m:\u001b[36mtrain\u001b[0m:\u001b[36m197\u001b[0m - \u001b[1mepoch: 17  batch: 644/1475  loss: 0.0491 (0.1276)  lr: 0.000100\u001b[0m\n",
            "\u001b[32m2025-01-16 23:58:11.357\u001b[0m | \u001b[1mINFO    \u001b[0m | \u001b[36m__main__\u001b[0m:\u001b[36mtrain\u001b[0m:\u001b[36m197\u001b[0m - \u001b[1mepoch: 17  batch: 658/1475  loss: 0.0503 (0.1275)  lr: 0.000100\u001b[0m\n",
            "\u001b[32m2025-01-16 23:58:23.689\u001b[0m | \u001b[1mINFO    \u001b[0m | \u001b[36m__main__\u001b[0m:\u001b[36mtrain\u001b[0m:\u001b[36m197\u001b[0m - \u001b[1mepoch: 17  batch: 672/1475  loss: 0.0547 (0.1274)  lr: 0.000100\u001b[0m\n",
            "\u001b[32m2025-01-16 23:58:35.920\u001b[0m | \u001b[1mINFO    \u001b[0m | \u001b[36m__main__\u001b[0m:\u001b[36mtrain\u001b[0m:\u001b[36m197\u001b[0m - \u001b[1mepoch: 17  batch: 686/1475  loss: 0.0561 (0.1273)  lr: 0.000100\u001b[0m\n",
            "\u001b[32m2025-01-16 23:58:48.158\u001b[0m | \u001b[1mINFO    \u001b[0m | \u001b[36m__main__\u001b[0m:\u001b[36mtrain\u001b[0m:\u001b[36m197\u001b[0m - \u001b[1mepoch: 17  batch: 700/1475  loss: 0.0523 (0.1272)  lr: 0.000100\u001b[0m\n",
            "\u001b[32m2025-01-16 23:59:00.390\u001b[0m | \u001b[1mINFO    \u001b[0m | \u001b[36m__main__\u001b[0m:\u001b[36mtrain\u001b[0m:\u001b[36m197\u001b[0m - \u001b[1mepoch: 17  batch: 714/1475  loss: 0.0495 (0.1271)  lr: 0.000100\u001b[0m\n",
            "\u001b[32m2025-01-16 23:59:12.658\u001b[0m | \u001b[1mINFO    \u001b[0m | \u001b[36m__main__\u001b[0m:\u001b[36mtrain\u001b[0m:\u001b[36m197\u001b[0m - \u001b[1mepoch: 17  batch: 728/1475  loss: 0.0489 (0.1270)  lr: 0.000100\u001b[0m\n",
            "\u001b[32m2025-01-16 23:59:24.995\u001b[0m | \u001b[1mINFO    \u001b[0m | \u001b[36m__main__\u001b[0m:\u001b[36mtrain\u001b[0m:\u001b[36m197\u001b[0m - \u001b[1mepoch: 17  batch: 742/1475  loss: 0.0518 (0.1269)  lr: 0.000100\u001b[0m\n",
            "\u001b[32m2025-01-16 23:59:37.289\u001b[0m | \u001b[1mINFO    \u001b[0m | \u001b[36m__main__\u001b[0m:\u001b[36mtrain\u001b[0m:\u001b[36m197\u001b[0m - \u001b[1mepoch: 17  batch: 756/1475  loss: 0.0526 (0.1268)  lr: 0.000100\u001b[0m\n",
            "\u001b[32m2025-01-16 23:59:49.511\u001b[0m | \u001b[1mINFO    \u001b[0m | \u001b[36m__main__\u001b[0m:\u001b[36mtrain\u001b[0m:\u001b[36m197\u001b[0m - \u001b[1mepoch: 17  batch: 770/1475  loss: 0.0502 (0.1266)  lr: 0.000100\u001b[0m\n",
            "\u001b[32m2025-01-17 00:00:01.792\u001b[0m | \u001b[1mINFO    \u001b[0m | \u001b[36m__main__\u001b[0m:\u001b[36mtrain\u001b[0m:\u001b[36m197\u001b[0m - \u001b[1mepoch: 17  batch: 784/1475  loss: 0.0506 (0.1265)  lr: 0.000100\u001b[0m\n",
            "\u001b[32m2025-01-17 00:00:13.988\u001b[0m | \u001b[1mINFO    \u001b[0m | \u001b[36m__main__\u001b[0m:\u001b[36mtrain\u001b[0m:\u001b[36m197\u001b[0m - \u001b[1mepoch: 17  batch: 798/1475  loss: 0.0506 (0.1264)  lr: 0.000100\u001b[0m\n",
            "\u001b[32m2025-01-17 00:00:26.179\u001b[0m | \u001b[1mINFO    \u001b[0m | \u001b[36m__main__\u001b[0m:\u001b[36mtrain\u001b[0m:\u001b[36m197\u001b[0m - \u001b[1mepoch: 17  batch: 812/1475  loss: 0.0510 (0.1263)  lr: 0.000100\u001b[0m\n",
            "\u001b[32m2025-01-17 00:00:38.405\u001b[0m | \u001b[1mINFO    \u001b[0m | \u001b[36m__main__\u001b[0m:\u001b[36mtrain\u001b[0m:\u001b[36m197\u001b[0m - \u001b[1mepoch: 17  batch: 826/1475  loss: 0.0519 (0.1262)  lr: 0.000100\u001b[0m\n",
            "\u001b[32m2025-01-17 00:00:50.622\u001b[0m | \u001b[1mINFO    \u001b[0m | \u001b[36m__main__\u001b[0m:\u001b[36mtrain\u001b[0m:\u001b[36m197\u001b[0m - \u001b[1mepoch: 17  batch: 840/1475  loss: 0.0534 (0.1261)  lr: 0.000100\u001b[0m\n",
            "\u001b[32m2025-01-17 00:01:02.836\u001b[0m | \u001b[1mINFO    \u001b[0m | \u001b[36m__main__\u001b[0m:\u001b[36mtrain\u001b[0m:\u001b[36m197\u001b[0m - \u001b[1mepoch: 17  batch: 854/1475  loss: 0.0511 (0.1260)  lr: 0.000100\u001b[0m\n",
            "\u001b[32m2025-01-17 00:01:15.107\u001b[0m | \u001b[1mINFO    \u001b[0m | \u001b[36m__main__\u001b[0m:\u001b[36mtrain\u001b[0m:\u001b[36m197\u001b[0m - \u001b[1mepoch: 17  batch: 868/1475  loss: 0.0507 (0.1259)  lr: 0.000100\u001b[0m\n",
            "\u001b[32m2025-01-17 00:01:27.357\u001b[0m | \u001b[1mINFO    \u001b[0m | \u001b[36m__main__\u001b[0m:\u001b[36mtrain\u001b[0m:\u001b[36m197\u001b[0m - \u001b[1mepoch: 17  batch: 882/1475  loss: 0.0494 (0.1258)  lr: 0.000100\u001b[0m\n",
            "\u001b[32m2025-01-17 00:01:39.541\u001b[0m | \u001b[1mINFO    \u001b[0m | \u001b[36m__main__\u001b[0m:\u001b[36mtrain\u001b[0m:\u001b[36m197\u001b[0m - \u001b[1mepoch: 17  batch: 896/1475  loss: 0.0513 (0.1257)  lr: 0.000100\u001b[0m\n",
            "\u001b[32m2025-01-17 00:01:51.765\u001b[0m | \u001b[1mINFO    \u001b[0m | \u001b[36m__main__\u001b[0m:\u001b[36mtrain\u001b[0m:\u001b[36m197\u001b[0m - \u001b[1mepoch: 17  batch: 910/1475  loss: 0.0466 (0.1256)  lr: 0.000100\u001b[0m\n",
            "\u001b[32m2025-01-17 00:02:03.926\u001b[0m | \u001b[1mINFO    \u001b[0m | \u001b[36m__main__\u001b[0m:\u001b[36mtrain\u001b[0m:\u001b[36m197\u001b[0m - \u001b[1mepoch: 17  batch: 924/1475  loss: 0.0541 (0.1255)  lr: 0.000100\u001b[0m\n",
            "\u001b[32m2025-01-17 00:02:16.147\u001b[0m | \u001b[1mINFO    \u001b[0m | \u001b[36m__main__\u001b[0m:\u001b[36mtrain\u001b[0m:\u001b[36m197\u001b[0m - \u001b[1mepoch: 17  batch: 938/1475  loss: 0.0500 (0.1254)  lr: 0.000100\u001b[0m\n",
            "\u001b[32m2025-01-17 00:02:28.300\u001b[0m | \u001b[1mINFO    \u001b[0m | \u001b[36m__main__\u001b[0m:\u001b[36mtrain\u001b[0m:\u001b[36m197\u001b[0m - \u001b[1mepoch: 17  batch: 952/1475  loss: 0.0504 (0.1253)  lr: 0.000100\u001b[0m\n",
            "\u001b[32m2025-01-17 00:02:40.470\u001b[0m | \u001b[1mINFO    \u001b[0m | \u001b[36m__main__\u001b[0m:\u001b[36mtrain\u001b[0m:\u001b[36m197\u001b[0m - \u001b[1mepoch: 17  batch: 966/1475  loss: 0.0505 (0.1252)  lr: 0.000100\u001b[0m\n",
            "\u001b[32m2025-01-17 00:02:52.684\u001b[0m | \u001b[1mINFO    \u001b[0m | \u001b[36m__main__\u001b[0m:\u001b[36mtrain\u001b[0m:\u001b[36m197\u001b[0m - \u001b[1mepoch: 17  batch: 980/1475  loss: 0.0521 (0.1251)  lr: 0.000100\u001b[0m\n",
            "\u001b[32m2025-01-17 00:03:04.916\u001b[0m | \u001b[1mINFO    \u001b[0m | \u001b[36m__main__\u001b[0m:\u001b[36mtrain\u001b[0m:\u001b[36m197\u001b[0m - \u001b[1mepoch: 17  batch: 994/1475  loss: 0.0504 (0.1250)  lr: 0.000100\u001b[0m\n",
            "\u001b[32m2025-01-17 00:03:17.144\u001b[0m | \u001b[1mINFO    \u001b[0m | \u001b[36m__main__\u001b[0m:\u001b[36mtrain\u001b[0m:\u001b[36m197\u001b[0m - \u001b[1mepoch: 17  batch: 1008/1475  loss: 0.0528 (0.1249)  lr: 0.000100\u001b[0m\n",
            "\u001b[32m2025-01-17 00:03:29.378\u001b[0m | \u001b[1mINFO    \u001b[0m | \u001b[36m__main__\u001b[0m:\u001b[36mtrain\u001b[0m:\u001b[36m197\u001b[0m - \u001b[1mepoch: 17  batch: 1022/1475  loss: 0.0526 (0.1247)  lr: 0.000100\u001b[0m\n",
            "\u001b[32m2025-01-17 00:03:41.594\u001b[0m | \u001b[1mINFO    \u001b[0m | \u001b[36m__main__\u001b[0m:\u001b[36mtrain\u001b[0m:\u001b[36m197\u001b[0m - \u001b[1mepoch: 17  batch: 1036/1475  loss: 0.0517 (0.1246)  lr: 0.000100\u001b[0m\n",
            "\u001b[32m2025-01-17 00:03:53.806\u001b[0m | \u001b[1mINFO    \u001b[0m | \u001b[36m__main__\u001b[0m:\u001b[36mtrain\u001b[0m:\u001b[36m197\u001b[0m - \u001b[1mepoch: 17  batch: 1050/1475  loss: 0.0504 (0.1245)  lr: 0.000100\u001b[0m\n",
            "\u001b[32m2025-01-17 00:04:06.068\u001b[0m | \u001b[1mINFO    \u001b[0m | \u001b[36m__main__\u001b[0m:\u001b[36mtrain\u001b[0m:\u001b[36m197\u001b[0m - \u001b[1mepoch: 17  batch: 1064/1475  loss: 0.0492 (0.1244)  lr: 0.000100\u001b[0m\n",
            "\u001b[32m2025-01-17 00:04:18.335\u001b[0m | \u001b[1mINFO    \u001b[0m | \u001b[36m__main__\u001b[0m:\u001b[36mtrain\u001b[0m:\u001b[36m197\u001b[0m - \u001b[1mepoch: 17  batch: 1078/1475  loss: 0.0558 (0.1243)  lr: 0.000100\u001b[0m\n",
            "\u001b[32m2025-01-17 00:04:30.712\u001b[0m | \u001b[1mINFO    \u001b[0m | \u001b[36m__main__\u001b[0m:\u001b[36mtrain\u001b[0m:\u001b[36m197\u001b[0m - \u001b[1mepoch: 17  batch: 1092/1475  loss: 0.0514 (0.1242)  lr: 0.000100\u001b[0m\n",
            "\u001b[32m2025-01-17 00:04:42.966\u001b[0m | \u001b[1mINFO    \u001b[0m | \u001b[36m__main__\u001b[0m:\u001b[36mtrain\u001b[0m:\u001b[36m197\u001b[0m - \u001b[1mepoch: 17  batch: 1106/1475  loss: 0.0521 (0.1241)  lr: 0.000100\u001b[0m\n",
            "\u001b[32m2025-01-17 00:04:55.209\u001b[0m | \u001b[1mINFO    \u001b[0m | \u001b[36m__main__\u001b[0m:\u001b[36mtrain\u001b[0m:\u001b[36m197\u001b[0m - \u001b[1mepoch: 17  batch: 1120/1475  loss: 0.0515 (0.1240)  lr: 0.000100\u001b[0m\n",
            "\u001b[32m2025-01-17 00:05:07.420\u001b[0m | \u001b[1mINFO    \u001b[0m | \u001b[36m__main__\u001b[0m:\u001b[36mtrain\u001b[0m:\u001b[36m197\u001b[0m - \u001b[1mepoch: 17  batch: 1134/1475  loss: 0.0513 (0.1239)  lr: 0.000100\u001b[0m\n",
            "\u001b[32m2025-01-17 00:05:19.611\u001b[0m | \u001b[1mINFO    \u001b[0m | \u001b[36m__main__\u001b[0m:\u001b[36mtrain\u001b[0m:\u001b[36m197\u001b[0m - \u001b[1mepoch: 17  batch: 1148/1475  loss: 0.0513 (0.1238)  lr: 0.000100\u001b[0m\n",
            "\u001b[32m2025-01-17 00:05:31.799\u001b[0m | \u001b[1mINFO    \u001b[0m | \u001b[36m__main__\u001b[0m:\u001b[36mtrain\u001b[0m:\u001b[36m197\u001b[0m - \u001b[1mepoch: 17  batch: 1162/1475  loss: 0.0519 (0.1237)  lr: 0.000100\u001b[0m\n",
            "\u001b[32m2025-01-17 00:05:43.950\u001b[0m | \u001b[1mINFO    \u001b[0m | \u001b[36m__main__\u001b[0m:\u001b[36mtrain\u001b[0m:\u001b[36m197\u001b[0m - \u001b[1mepoch: 17  batch: 1176/1475  loss: 0.0535 (0.1236)  lr: 0.000100\u001b[0m\n",
            "\u001b[32m2025-01-17 00:05:56.160\u001b[0m | \u001b[1mINFO    \u001b[0m | \u001b[36m__main__\u001b[0m:\u001b[36mtrain\u001b[0m:\u001b[36m197\u001b[0m - \u001b[1mepoch: 17  batch: 1190/1475  loss: 0.0486 (0.1235)  lr: 0.000100\u001b[0m\n",
            "\u001b[32m2025-01-17 00:06:08.358\u001b[0m | \u001b[1mINFO    \u001b[0m | \u001b[36m__main__\u001b[0m:\u001b[36mtrain\u001b[0m:\u001b[36m197\u001b[0m - \u001b[1mepoch: 17  batch: 1204/1475  loss: 0.0501 (0.1234)  lr: 0.000100\u001b[0m\n",
            "\u001b[32m2025-01-17 00:06:20.632\u001b[0m | \u001b[1mINFO    \u001b[0m | \u001b[36m__main__\u001b[0m:\u001b[36mtrain\u001b[0m:\u001b[36m197\u001b[0m - \u001b[1mepoch: 17  batch: 1218/1475  loss: 0.0533 (0.1233)  lr: 0.000100\u001b[0m\n",
            "\u001b[32m2025-01-17 00:06:32.896\u001b[0m | \u001b[1mINFO    \u001b[0m | \u001b[36m__main__\u001b[0m:\u001b[36mtrain\u001b[0m:\u001b[36m197\u001b[0m - \u001b[1mepoch: 17  batch: 1232/1475  loss: 0.0520 (0.1232)  lr: 0.000100\u001b[0m\n",
            "\u001b[32m2025-01-17 00:06:45.136\u001b[0m | \u001b[1mINFO    \u001b[0m | \u001b[36m__main__\u001b[0m:\u001b[36mtrain\u001b[0m:\u001b[36m197\u001b[0m - \u001b[1mepoch: 17  batch: 1246/1475  loss: 0.0551 (0.1232)  lr: 0.000100\u001b[0m\n",
            "\u001b[32m2025-01-17 00:06:57.309\u001b[0m | \u001b[1mINFO    \u001b[0m | \u001b[36m__main__\u001b[0m:\u001b[36mtrain\u001b[0m:\u001b[36m197\u001b[0m - \u001b[1mepoch: 17  batch: 1260/1475  loss: 0.0532 (0.1231)  lr: 0.000100\u001b[0m\n",
            "\u001b[32m2025-01-17 00:07:09.538\u001b[0m | \u001b[1mINFO    \u001b[0m | \u001b[36m__main__\u001b[0m:\u001b[36mtrain\u001b[0m:\u001b[36m197\u001b[0m - \u001b[1mepoch: 17  batch: 1274/1475  loss: 0.0506 (0.1230)  lr: 0.000100\u001b[0m\n",
            "\u001b[32m2025-01-17 00:07:21.745\u001b[0m | \u001b[1mINFO    \u001b[0m | \u001b[36m__main__\u001b[0m:\u001b[36mtrain\u001b[0m:\u001b[36m197\u001b[0m - \u001b[1mepoch: 17  batch: 1288/1475  loss: 0.0521 (0.1229)  lr: 0.000100\u001b[0m\n",
            "\u001b[32m2025-01-17 00:07:34.039\u001b[0m | \u001b[1mINFO    \u001b[0m | \u001b[36m__main__\u001b[0m:\u001b[36mtrain\u001b[0m:\u001b[36m197\u001b[0m - \u001b[1mepoch: 17  batch: 1302/1475  loss: 0.0531 (0.1228)  lr: 0.000100\u001b[0m\n",
            "\u001b[32m2025-01-17 00:07:46.242\u001b[0m | \u001b[1mINFO    \u001b[0m | \u001b[36m__main__\u001b[0m:\u001b[36mtrain\u001b[0m:\u001b[36m197\u001b[0m - \u001b[1mepoch: 17  batch: 1316/1475  loss: 0.0507 (0.1227)  lr: 0.000100\u001b[0m\n",
            "\u001b[32m2025-01-17 00:07:58.440\u001b[0m | \u001b[1mINFO    \u001b[0m | \u001b[36m__main__\u001b[0m:\u001b[36mtrain\u001b[0m:\u001b[36m197\u001b[0m - \u001b[1mepoch: 17  batch: 1330/1475  loss: 0.0504 (0.1226)  lr: 0.000100\u001b[0m\n",
            "\u001b[32m2025-01-17 00:08:10.581\u001b[0m | \u001b[1mINFO    \u001b[0m | \u001b[36m__main__\u001b[0m:\u001b[36mtrain\u001b[0m:\u001b[36m197\u001b[0m - \u001b[1mepoch: 17  batch: 1344/1475  loss: 0.0527 (0.1225)  lr: 0.000100\u001b[0m\n",
            "\u001b[32m2025-01-17 00:08:22.774\u001b[0m | \u001b[1mINFO    \u001b[0m | \u001b[36m__main__\u001b[0m:\u001b[36mtrain\u001b[0m:\u001b[36m197\u001b[0m - \u001b[1mepoch: 17  batch: 1358/1475  loss: 0.0554 (0.1224)  lr: 0.000100\u001b[0m\n",
            "\u001b[32m2025-01-17 00:08:35.000\u001b[0m | \u001b[1mINFO    \u001b[0m | \u001b[36m__main__\u001b[0m:\u001b[36mtrain\u001b[0m:\u001b[36m197\u001b[0m - \u001b[1mepoch: 17  batch: 1372/1475  loss: 0.0514 (0.1223)  lr: 0.000100\u001b[0m\n",
            "\u001b[32m2025-01-17 00:08:47.208\u001b[0m | \u001b[1mINFO    \u001b[0m | \u001b[36m__main__\u001b[0m:\u001b[36mtrain\u001b[0m:\u001b[36m197\u001b[0m - \u001b[1mepoch: 17  batch: 1386/1475  loss: 0.0572 (0.1222)  lr: 0.000100\u001b[0m\n",
            "\u001b[32m2025-01-17 00:08:59.407\u001b[0m | \u001b[1mINFO    \u001b[0m | \u001b[36m__main__\u001b[0m:\u001b[36mtrain\u001b[0m:\u001b[36m197\u001b[0m - \u001b[1mepoch: 17  batch: 1400/1475  loss: 0.0524 (0.1221)  lr: 0.000100\u001b[0m\n",
            "\u001b[32m2025-01-17 00:09:11.658\u001b[0m | \u001b[1mINFO    \u001b[0m | \u001b[36m__main__\u001b[0m:\u001b[36mtrain\u001b[0m:\u001b[36m197\u001b[0m - \u001b[1mepoch: 17  batch: 1414/1475  loss: 0.0522 (0.1220)  lr: 0.000100\u001b[0m\n",
            "\u001b[32m2025-01-17 00:09:23.899\u001b[0m | \u001b[1mINFO    \u001b[0m | \u001b[36m__main__\u001b[0m:\u001b[36mtrain\u001b[0m:\u001b[36m197\u001b[0m - \u001b[1mepoch: 17  batch: 1428/1475  loss: 0.0531 (0.1219)  lr: 0.000100\u001b[0m\n",
            "\u001b[32m2025-01-17 00:09:36.106\u001b[0m | \u001b[1mINFO    \u001b[0m | \u001b[36m__main__\u001b[0m:\u001b[36mtrain\u001b[0m:\u001b[36m197\u001b[0m - \u001b[1mepoch: 17  batch: 1442/1475  loss: 0.0528 (0.1218)  lr: 0.000100\u001b[0m\n",
            "\u001b[32m2025-01-17 00:09:48.341\u001b[0m | \u001b[1mINFO    \u001b[0m | \u001b[36m__main__\u001b[0m:\u001b[36mtrain\u001b[0m:\u001b[36m197\u001b[0m - \u001b[1mepoch: 17  batch: 1456/1475  loss: 0.0546 (0.1217)  lr: 0.000100\u001b[0m\n",
            "\u001b[32m2025-01-17 00:10:00.509\u001b[0m | \u001b[1mINFO    \u001b[0m | \u001b[36m__main__\u001b[0m:\u001b[36mtrain\u001b[0m:\u001b[36m197\u001b[0m - \u001b[1mepoch: 17  batch: 1470/1475  loss: 0.0555 (0.1216)  lr: 0.000100\u001b[0m\n",
            "\u001b[32m2025-01-17 00:10:04.565\u001b[0m | \u001b[1mINFO    \u001b[0m | \u001b[36m__main__\u001b[0m:\u001b[36mtrain\u001b[0m:\u001b[36m219\u001b[0m - \u001b[1mFinish epoch: 17, without validation\u001b[0m\n",
            "\u001b[32m2025-01-17 00:10:18.522\u001b[0m | \u001b[1mINFO    \u001b[0m | \u001b[36m__main__\u001b[0m:\u001b[36mtrain\u001b[0m:\u001b[36m197\u001b[0m - \u001b[1mepoch: 18  batch: 14/1475  loss: 0.0470 (0.1215)  lr: 0.000100\u001b[0m\n",
            "\u001b[32m2025-01-17 00:10:30.745\u001b[0m | \u001b[1mINFO    \u001b[0m | \u001b[36m__main__\u001b[0m:\u001b[36mtrain\u001b[0m:\u001b[36m197\u001b[0m - \u001b[1mepoch: 18  batch: 28/1475  loss: 0.0401 (0.1214)  lr: 0.000100\u001b[0m\n",
            "\u001b[32m2025-01-17 00:10:42.984\u001b[0m | \u001b[1mINFO    \u001b[0m | \u001b[36m__main__\u001b[0m:\u001b[36mtrain\u001b[0m:\u001b[36m197\u001b[0m - \u001b[1mepoch: 18  batch: 42/1475  loss: 0.0408 (0.1213)  lr: 0.000100\u001b[0m\n",
            "\u001b[32m2025-01-17 00:10:55.185\u001b[0m | \u001b[1mINFO    \u001b[0m | \u001b[36m__main__\u001b[0m:\u001b[36mtrain\u001b[0m:\u001b[36m197\u001b[0m - \u001b[1mepoch: 18  batch: 56/1475  loss: 0.0381 (0.1212)  lr: 0.000100\u001b[0m\n",
            "\u001b[32m2025-01-17 00:11:07.348\u001b[0m | \u001b[1mINFO    \u001b[0m | \u001b[36m__main__\u001b[0m:\u001b[36mtrain\u001b[0m:\u001b[36m197\u001b[0m - \u001b[1mepoch: 18  batch: 70/1475  loss: 0.0400 (0.1211)  lr: 0.000100\u001b[0m\n",
            "\u001b[32m2025-01-17 00:11:19.543\u001b[0m | \u001b[1mINFO    \u001b[0m | \u001b[36m__main__\u001b[0m:\u001b[36mtrain\u001b[0m:\u001b[36m197\u001b[0m - \u001b[1mepoch: 18  batch: 84/1475  loss: 0.0403 (0.1210)  lr: 0.000100\u001b[0m\n",
            "\u001b[32m2025-01-17 00:11:31.775\u001b[0m | \u001b[1mINFO    \u001b[0m | \u001b[36m__main__\u001b[0m:\u001b[36mtrain\u001b[0m:\u001b[36m197\u001b[0m - \u001b[1mepoch: 18  batch: 98/1475  loss: 0.0417 (0.1209)  lr: 0.000100\u001b[0m\n",
            "\u001b[32m2025-01-17 00:11:44.008\u001b[0m | \u001b[1mINFO    \u001b[0m | \u001b[36m__main__\u001b[0m:\u001b[36mtrain\u001b[0m:\u001b[36m197\u001b[0m - \u001b[1mepoch: 18  batch: 112/1475  loss: 0.0401 (0.1207)  lr: 0.000100\u001b[0m\n",
            "\u001b[32m2025-01-17 00:11:56.158\u001b[0m | \u001b[1mINFO    \u001b[0m | \u001b[36m__main__\u001b[0m:\u001b[36mtrain\u001b[0m:\u001b[36m197\u001b[0m - \u001b[1mepoch: 18  batch: 126/1475  loss: 0.0396 (0.1206)  lr: 0.000100\u001b[0m\n",
            "\u001b[32m2025-01-17 00:12:08.363\u001b[0m | \u001b[1mINFO    \u001b[0m | \u001b[36m__main__\u001b[0m:\u001b[36mtrain\u001b[0m:\u001b[36m197\u001b[0m - \u001b[1mepoch: 18  batch: 140/1475  loss: 0.0410 (0.1205)  lr: 0.000100\u001b[0m\n",
            "\u001b[32m2025-01-17 00:12:20.602\u001b[0m | \u001b[1mINFO    \u001b[0m | \u001b[36m__main__\u001b[0m:\u001b[36mtrain\u001b[0m:\u001b[36m197\u001b[0m - \u001b[1mepoch: 18  batch: 154/1475  loss: 0.0422 (0.1204)  lr: 0.000100\u001b[0m\n",
            "\u001b[32m2025-01-17 00:12:32.840\u001b[0m | \u001b[1mINFO    \u001b[0m | \u001b[36m__main__\u001b[0m:\u001b[36mtrain\u001b[0m:\u001b[36m197\u001b[0m - \u001b[1mepoch: 18  batch: 168/1475  loss: 0.0419 (0.1203)  lr: 0.000100\u001b[0m\n",
            "\u001b[32m2025-01-17 00:12:45.041\u001b[0m | \u001b[1mINFO    \u001b[0m | \u001b[36m__main__\u001b[0m:\u001b[36mtrain\u001b[0m:\u001b[36m197\u001b[0m - \u001b[1mepoch: 18  batch: 182/1475  loss: 0.0419 (0.1202)  lr: 0.000100\u001b[0m\n",
            "\u001b[32m2025-01-17 00:12:57.215\u001b[0m | \u001b[1mINFO    \u001b[0m | \u001b[36m__main__\u001b[0m:\u001b[36mtrain\u001b[0m:\u001b[36m197\u001b[0m - \u001b[1mepoch: 18  batch: 196/1475  loss: 0.0402 (0.1201)  lr: 0.000100\u001b[0m\n",
            "\u001b[32m2025-01-17 00:13:09.454\u001b[0m | \u001b[1mINFO    \u001b[0m | \u001b[36m__main__\u001b[0m:\u001b[36mtrain\u001b[0m:\u001b[36m197\u001b[0m - \u001b[1mepoch: 18  batch: 210/1475  loss: 0.0410 (0.1200)  lr: 0.000100\u001b[0m\n",
            "\u001b[32m2025-01-17 00:13:21.702\u001b[0m | \u001b[1mINFO    \u001b[0m | \u001b[36m__main__\u001b[0m:\u001b[36mtrain\u001b[0m:\u001b[36m197\u001b[0m - \u001b[1mepoch: 18  batch: 224/1475  loss: 0.0427 (0.1199)  lr: 0.000100\u001b[0m\n",
            "\u001b[32m2025-01-17 00:13:33.899\u001b[0m | \u001b[1mINFO    \u001b[0m | \u001b[36m__main__\u001b[0m:\u001b[36mtrain\u001b[0m:\u001b[36m197\u001b[0m - \u001b[1mepoch: 18  batch: 238/1475  loss: 0.0407 (0.1198)  lr: 0.000100\u001b[0m\n",
            "\u001b[32m2025-01-17 00:13:46.144\u001b[0m | \u001b[1mINFO    \u001b[0m | \u001b[36m__main__\u001b[0m:\u001b[36mtrain\u001b[0m:\u001b[36m197\u001b[0m - \u001b[1mepoch: 18  batch: 252/1475  loss: 0.0445 (0.1197)  lr: 0.000100\u001b[0m\n",
            "\u001b[32m2025-01-17 00:13:58.301\u001b[0m | \u001b[1mINFO    \u001b[0m | \u001b[36m__main__\u001b[0m:\u001b[36mtrain\u001b[0m:\u001b[36m197\u001b[0m - \u001b[1mepoch: 18  batch: 266/1475  loss: 0.0407 (0.1196)  lr: 0.000100\u001b[0m\n",
            "\u001b[32m2025-01-17 00:14:10.582\u001b[0m | \u001b[1mINFO    \u001b[0m | \u001b[36m__main__\u001b[0m:\u001b[36mtrain\u001b[0m:\u001b[36m197\u001b[0m - \u001b[1mepoch: 18  batch: 280/1475  loss: 0.0409 (0.1195)  lr: 0.000100\u001b[0m\n",
            "\u001b[32m2025-01-17 00:14:22.775\u001b[0m | \u001b[1mINFO    \u001b[0m | \u001b[36m__main__\u001b[0m:\u001b[36mtrain\u001b[0m:\u001b[36m197\u001b[0m - \u001b[1mepoch: 18  batch: 294/1475  loss: 0.0420 (0.1194)  lr: 0.000100\u001b[0m\n",
            "\u001b[32m2025-01-17 00:14:34.986\u001b[0m | \u001b[1mINFO    \u001b[0m | \u001b[36m__main__\u001b[0m:\u001b[36mtrain\u001b[0m:\u001b[36m197\u001b[0m - \u001b[1mepoch: 18  batch: 308/1475  loss: 0.0422 (0.1193)  lr: 0.000100\u001b[0m\n",
            "\u001b[32m2025-01-17 00:14:47.181\u001b[0m | \u001b[1mINFO    \u001b[0m | \u001b[36m__main__\u001b[0m:\u001b[36mtrain\u001b[0m:\u001b[36m197\u001b[0m - \u001b[1mepoch: 18  batch: 322/1475  loss: 0.0422 (0.1192)  lr: 0.000100\u001b[0m\n",
            "\u001b[32m2025-01-17 00:14:59.400\u001b[0m | \u001b[1mINFO    \u001b[0m | \u001b[36m__main__\u001b[0m:\u001b[36mtrain\u001b[0m:\u001b[36m197\u001b[0m - \u001b[1mepoch: 18  batch: 336/1475  loss: 0.0421 (0.1191)  lr: 0.000100\u001b[0m\n",
            "\u001b[32m2025-01-17 00:15:11.555\u001b[0m | \u001b[1mINFO    \u001b[0m | \u001b[36m__main__\u001b[0m:\u001b[36mtrain\u001b[0m:\u001b[36m197\u001b[0m - \u001b[1mepoch: 18  batch: 350/1475  loss: 0.0446 (0.1190)  lr: 0.000100\u001b[0m\n",
            "\u001b[32m2025-01-17 00:15:23.818\u001b[0m | \u001b[1mINFO    \u001b[0m | \u001b[36m__main__\u001b[0m:\u001b[36mtrain\u001b[0m:\u001b[36m197\u001b[0m - \u001b[1mepoch: 18  batch: 364/1475  loss: 0.0423 (0.1189)  lr: 0.000100\u001b[0m\n",
            "\u001b[32m2025-01-17 00:15:36.114\u001b[0m | \u001b[1mINFO    \u001b[0m | \u001b[36m__main__\u001b[0m:\u001b[36mtrain\u001b[0m:\u001b[36m197\u001b[0m - \u001b[1mepoch: 18  batch: 378/1475  loss: 0.0423 (0.1188)  lr: 0.000100\u001b[0m\n",
            "\u001b[32m2025-01-17 00:15:48.368\u001b[0m | \u001b[1mINFO    \u001b[0m | \u001b[36m__main__\u001b[0m:\u001b[36mtrain\u001b[0m:\u001b[36m197\u001b[0m - \u001b[1mepoch: 18  batch: 392/1475  loss: 0.0411 (0.1187)  lr: 0.000100\u001b[0m\n",
            "\u001b[32m2025-01-17 00:16:00.641\u001b[0m | \u001b[1mINFO    \u001b[0m | \u001b[36m__main__\u001b[0m:\u001b[36mtrain\u001b[0m:\u001b[36m197\u001b[0m - \u001b[1mepoch: 18  batch: 406/1475  loss: 0.0413 (0.1186)  lr: 0.000100\u001b[0m\n",
            "\u001b[32m2025-01-17 00:16:12.918\u001b[0m | \u001b[1mINFO    \u001b[0m | \u001b[36m__main__\u001b[0m:\u001b[36mtrain\u001b[0m:\u001b[36m197\u001b[0m - \u001b[1mepoch: 18  batch: 420/1475  loss: 0.0437 (0.1185)  lr: 0.000100\u001b[0m\n",
            "\u001b[32m2025-01-17 00:16:25.184\u001b[0m | \u001b[1mINFO    \u001b[0m | \u001b[36m__main__\u001b[0m:\u001b[36mtrain\u001b[0m:\u001b[36m197\u001b[0m - \u001b[1mepoch: 18  batch: 434/1475  loss: 0.0472 (0.1184)  lr: 0.000100\u001b[0m\n",
            "\u001b[32m2025-01-17 00:16:37.382\u001b[0m | \u001b[1mINFO    \u001b[0m | \u001b[36m__main__\u001b[0m:\u001b[36mtrain\u001b[0m:\u001b[36m197\u001b[0m - \u001b[1mepoch: 18  batch: 448/1475  loss: 0.0486 (0.1183)  lr: 0.000100\u001b[0m\n",
            "\u001b[32m2025-01-17 00:16:49.578\u001b[0m | \u001b[1mINFO    \u001b[0m | \u001b[36m__main__\u001b[0m:\u001b[36mtrain\u001b[0m:\u001b[36m197\u001b[0m - \u001b[1mepoch: 18  batch: 462/1475  loss: 0.0416 (0.1182)  lr: 0.000100\u001b[0m\n",
            "\u001b[32m2025-01-17 00:17:01.777\u001b[0m | \u001b[1mINFO    \u001b[0m | \u001b[36m__main__\u001b[0m:\u001b[36mtrain\u001b[0m:\u001b[36m197\u001b[0m - \u001b[1mepoch: 18  batch: 476/1475  loss: 0.0429 (0.1181)  lr: 0.000100\u001b[0m\n",
            "\u001b[32m2025-01-17 00:17:14.033\u001b[0m | \u001b[1mINFO    \u001b[0m | \u001b[36m__main__\u001b[0m:\u001b[36mtrain\u001b[0m:\u001b[36m197\u001b[0m - \u001b[1mepoch: 18  batch: 490/1475  loss: 0.0426 (0.1180)  lr: 0.000100\u001b[0m\n",
            "\u001b[32m2025-01-17 00:17:26.336\u001b[0m | \u001b[1mINFO    \u001b[0m | \u001b[36m__main__\u001b[0m:\u001b[36mtrain\u001b[0m:\u001b[36m197\u001b[0m - \u001b[1mepoch: 18  batch: 504/1475  loss: 0.0437 (0.1179)  lr: 0.000100\u001b[0m\n",
            "\u001b[32m2025-01-17 00:17:38.529\u001b[0m | \u001b[1mINFO    \u001b[0m | \u001b[36m__main__\u001b[0m:\u001b[36mtrain\u001b[0m:\u001b[36m197\u001b[0m - \u001b[1mepoch: 18  batch: 518/1475  loss: 0.0429 (0.1178)  lr: 0.000100\u001b[0m\n",
            "\u001b[32m2025-01-17 00:17:50.752\u001b[0m | \u001b[1mINFO    \u001b[0m | \u001b[36m__main__\u001b[0m:\u001b[36mtrain\u001b[0m:\u001b[36m197\u001b[0m - \u001b[1mepoch: 18  batch: 532/1475  loss: 0.0429 (0.1177)  lr: 0.000100\u001b[0m\n",
            "\u001b[32m2025-01-17 00:18:02.973\u001b[0m | \u001b[1mINFO    \u001b[0m | \u001b[36m__main__\u001b[0m:\u001b[36mtrain\u001b[0m:\u001b[36m197\u001b[0m - \u001b[1mepoch: 18  batch: 546/1475  loss: 0.0438 (0.1176)  lr: 0.000100\u001b[0m\n",
            "\u001b[32m2025-01-17 00:18:15.225\u001b[0m | \u001b[1mINFO    \u001b[0m | \u001b[36m__main__\u001b[0m:\u001b[36mtrain\u001b[0m:\u001b[36m197\u001b[0m - \u001b[1mepoch: 18  batch: 560/1475  loss: 0.0456 (0.1176)  lr: 0.000100\u001b[0m\n",
            "\u001b[32m2025-01-17 00:18:27.500\u001b[0m | \u001b[1mINFO    \u001b[0m | \u001b[36m__main__\u001b[0m:\u001b[36mtrain\u001b[0m:\u001b[36m197\u001b[0m - \u001b[1mepoch: 18  batch: 574/1475  loss: 0.0448 (0.1175)  lr: 0.000100\u001b[0m\n",
            "\u001b[32m2025-01-17 00:18:39.735\u001b[0m | \u001b[1mINFO    \u001b[0m | \u001b[36m__main__\u001b[0m:\u001b[36mtrain\u001b[0m:\u001b[36m197\u001b[0m - \u001b[1mepoch: 18  batch: 588/1475  loss: 0.0437 (0.1174)  lr: 0.000100\u001b[0m\n",
            "\u001b[32m2025-01-17 00:18:51.958\u001b[0m | \u001b[1mINFO    \u001b[0m | \u001b[36m__main__\u001b[0m:\u001b[36mtrain\u001b[0m:\u001b[36m197\u001b[0m - \u001b[1mepoch: 18  batch: 602/1475  loss: 0.0427 (0.1173)  lr: 0.000100\u001b[0m\n",
            "\u001b[32m2025-01-17 00:19:04.210\u001b[0m | \u001b[1mINFO    \u001b[0m | \u001b[36m__main__\u001b[0m:\u001b[36mtrain\u001b[0m:\u001b[36m197\u001b[0m - \u001b[1mepoch: 18  batch: 616/1475  loss: 0.0421 (0.1172)  lr: 0.000100\u001b[0m\n",
            "\u001b[32m2025-01-17 00:19:16.454\u001b[0m | \u001b[1mINFO    \u001b[0m | \u001b[36m__main__\u001b[0m:\u001b[36mtrain\u001b[0m:\u001b[36m197\u001b[0m - \u001b[1mepoch: 18  batch: 630/1475  loss: 0.0452 (0.1171)  lr: 0.000100\u001b[0m\n",
            "\u001b[32m2025-01-17 00:19:28.711\u001b[0m | \u001b[1mINFO    \u001b[0m | \u001b[36m__main__\u001b[0m:\u001b[36mtrain\u001b[0m:\u001b[36m197\u001b[0m - \u001b[1mepoch: 18  batch: 644/1475  loss: 0.0441 (0.1170)  lr: 0.000100\u001b[0m\n",
            "\u001b[32m2025-01-17 00:19:40.947\u001b[0m | \u001b[1mINFO    \u001b[0m | \u001b[36m__main__\u001b[0m:\u001b[36mtrain\u001b[0m:\u001b[36m197\u001b[0m - \u001b[1mepoch: 18  batch: 658/1475  loss: 0.0427 (0.1169)  lr: 0.000100\u001b[0m\n",
            "\u001b[32m2025-01-17 00:19:53.221\u001b[0m | \u001b[1mINFO    \u001b[0m | \u001b[36m__main__\u001b[0m:\u001b[36mtrain\u001b[0m:\u001b[36m197\u001b[0m - \u001b[1mepoch: 18  batch: 672/1475  loss: 0.0429 (0.1168)  lr: 0.000100\u001b[0m\n",
            "\u001b[32m2025-01-17 00:20:05.518\u001b[0m | \u001b[1mINFO    \u001b[0m | \u001b[36m__main__\u001b[0m:\u001b[36mtrain\u001b[0m:\u001b[36m197\u001b[0m - \u001b[1mepoch: 18  batch: 686/1475  loss: 0.0436 (0.1167)  lr: 0.000100\u001b[0m\n",
            "\u001b[32m2025-01-17 00:20:17.772\u001b[0m | \u001b[1mINFO    \u001b[0m | \u001b[36m__main__\u001b[0m:\u001b[36mtrain\u001b[0m:\u001b[36m197\u001b[0m - \u001b[1mepoch: 18  batch: 700/1475  loss: 0.0414 (0.1166)  lr: 0.000100\u001b[0m\n",
            "\u001b[32m2025-01-17 00:20:30.055\u001b[0m | \u001b[1mINFO    \u001b[0m | \u001b[36m__main__\u001b[0m:\u001b[36mtrain\u001b[0m:\u001b[36m197\u001b[0m - \u001b[1mepoch: 18  batch: 714/1475  loss: 0.0451 (0.1165)  lr: 0.000100\u001b[0m\n",
            "\u001b[32m2025-01-17 00:20:42.332\u001b[0m | \u001b[1mINFO    \u001b[0m | \u001b[36m__main__\u001b[0m:\u001b[36mtrain\u001b[0m:\u001b[36m197\u001b[0m - \u001b[1mepoch: 18  batch: 728/1475  loss: 0.0439 (0.1164)  lr: 0.000100\u001b[0m\n",
            "\u001b[32m2025-01-17 00:20:54.603\u001b[0m | \u001b[1mINFO    \u001b[0m | \u001b[36m__main__\u001b[0m:\u001b[36mtrain\u001b[0m:\u001b[36m197\u001b[0m - \u001b[1mepoch: 18  batch: 742/1475  loss: 0.0443 (0.1163)  lr: 0.000100\u001b[0m\n",
            "\u001b[32m2025-01-17 00:21:06.888\u001b[0m | \u001b[1mINFO    \u001b[0m | \u001b[36m__main__\u001b[0m:\u001b[36mtrain\u001b[0m:\u001b[36m197\u001b[0m - \u001b[1mepoch: 18  batch: 756/1475  loss: 0.0446 (0.1163)  lr: 0.000100\u001b[0m\n",
            "\u001b[32m2025-01-17 00:21:19.142\u001b[0m | \u001b[1mINFO    \u001b[0m | \u001b[36m__main__\u001b[0m:\u001b[36mtrain\u001b[0m:\u001b[36m197\u001b[0m - \u001b[1mepoch: 18  batch: 770/1475  loss: 0.0454 (0.1162)  lr: 0.000100\u001b[0m\n",
            "\u001b[32m2025-01-17 00:21:31.432\u001b[0m | \u001b[1mINFO    \u001b[0m | \u001b[36m__main__\u001b[0m:\u001b[36mtrain\u001b[0m:\u001b[36m197\u001b[0m - \u001b[1mepoch: 18  batch: 784/1475  loss: 0.0427 (0.1161)  lr: 0.000100\u001b[0m\n",
            "\u001b[32m2025-01-17 00:21:43.742\u001b[0m | \u001b[1mINFO    \u001b[0m | \u001b[36m__main__\u001b[0m:\u001b[36mtrain\u001b[0m:\u001b[36m197\u001b[0m - \u001b[1mepoch: 18  batch: 798/1475  loss: 0.0443 (0.1160)  lr: 0.000100\u001b[0m\n",
            "\u001b[32m2025-01-17 00:21:56.054\u001b[0m | \u001b[1mINFO    \u001b[0m | \u001b[36m__main__\u001b[0m:\u001b[36mtrain\u001b[0m:\u001b[36m197\u001b[0m - \u001b[1mepoch: 18  batch: 812/1475  loss: 0.0446 (0.1159)  lr: 0.000100\u001b[0m\n",
            "\u001b[32m2025-01-17 00:22:08.274\u001b[0m | \u001b[1mINFO    \u001b[0m | \u001b[36m__main__\u001b[0m:\u001b[36mtrain\u001b[0m:\u001b[36m197\u001b[0m - \u001b[1mepoch: 18  batch: 826/1475  loss: 0.0403 (0.1158)  lr: 0.000100\u001b[0m\n",
            "\u001b[32m2025-01-17 00:22:20.507\u001b[0m | \u001b[1mINFO    \u001b[0m | \u001b[36m__main__\u001b[0m:\u001b[36mtrain\u001b[0m:\u001b[36m197\u001b[0m - \u001b[1mepoch: 18  batch: 840/1475  loss: 0.0439 (0.1157)  lr: 0.000100\u001b[0m\n",
            "\u001b[32m2025-01-17 00:22:32.813\u001b[0m | \u001b[1mINFO    \u001b[0m | \u001b[36m__main__\u001b[0m:\u001b[36mtrain\u001b[0m:\u001b[36m197\u001b[0m - \u001b[1mepoch: 18  batch: 854/1475  loss: 0.0485 (0.1156)  lr: 0.000100\u001b[0m\n",
            "\u001b[32m2025-01-17 00:22:45.082\u001b[0m | \u001b[1mINFO    \u001b[0m | \u001b[36m__main__\u001b[0m:\u001b[36mtrain\u001b[0m:\u001b[36m197\u001b[0m - \u001b[1mepoch: 18  batch: 868/1475  loss: 0.0473 (0.1155)  lr: 0.000100\u001b[0m\n",
            "\u001b[32m2025-01-17 00:22:57.333\u001b[0m | \u001b[1mINFO    \u001b[0m | \u001b[36m__main__\u001b[0m:\u001b[36mtrain\u001b[0m:\u001b[36m197\u001b[0m - \u001b[1mepoch: 18  batch: 882/1475  loss: 0.0451 (0.1155)  lr: 0.000100\u001b[0m\n",
            "\u001b[32m2025-01-17 00:23:09.588\u001b[0m | \u001b[1mINFO    \u001b[0m | \u001b[36m__main__\u001b[0m:\u001b[36mtrain\u001b[0m:\u001b[36m197\u001b[0m - \u001b[1mepoch: 18  batch: 896/1475  loss: 0.0471 (0.1154)  lr: 0.000100\u001b[0m\n",
            "\u001b[32m2025-01-17 00:23:21.776\u001b[0m | \u001b[1mINFO    \u001b[0m | \u001b[36m__main__\u001b[0m:\u001b[36mtrain\u001b[0m:\u001b[36m197\u001b[0m - \u001b[1mepoch: 18  batch: 910/1475  loss: 0.0445 (0.1153)  lr: 0.000100\u001b[0m\n",
            "\u001b[32m2025-01-17 00:23:34.071\u001b[0m | \u001b[1mINFO    \u001b[0m | \u001b[36m__main__\u001b[0m:\u001b[36mtrain\u001b[0m:\u001b[36m197\u001b[0m - \u001b[1mepoch: 18  batch: 924/1475  loss: 0.0436 (0.1152)  lr: 0.000100\u001b[0m\n",
            "\u001b[32m2025-01-17 00:23:46.303\u001b[0m | \u001b[1mINFO    \u001b[0m | \u001b[36m__main__\u001b[0m:\u001b[36mtrain\u001b[0m:\u001b[36m197\u001b[0m - \u001b[1mepoch: 18  batch: 938/1475  loss: 0.0467 (0.1151)  lr: 0.000100\u001b[0m\n",
            "\u001b[32m2025-01-17 00:23:58.525\u001b[0m | \u001b[1mINFO    \u001b[0m | \u001b[36m__main__\u001b[0m:\u001b[36mtrain\u001b[0m:\u001b[36m197\u001b[0m - \u001b[1mepoch: 18  batch: 952/1475  loss: 0.0440 (0.1150)  lr: 0.000100\u001b[0m\n",
            "\u001b[32m2025-01-17 00:24:10.778\u001b[0m | \u001b[1mINFO    \u001b[0m | \u001b[36m__main__\u001b[0m:\u001b[36mtrain\u001b[0m:\u001b[36m197\u001b[0m - \u001b[1mepoch: 18  batch: 966/1475  loss: 0.0437 (0.1149)  lr: 0.000100\u001b[0m\n",
            "\u001b[32m2025-01-17 00:24:22.996\u001b[0m | \u001b[1mINFO    \u001b[0m | \u001b[36m__main__\u001b[0m:\u001b[36mtrain\u001b[0m:\u001b[36m197\u001b[0m - \u001b[1mepoch: 18  batch: 980/1475  loss: 0.0426 (0.1149)  lr: 0.000100\u001b[0m\n",
            "\u001b[32m2025-01-17 00:24:35.171\u001b[0m | \u001b[1mINFO    \u001b[0m | \u001b[36m__main__\u001b[0m:\u001b[36mtrain\u001b[0m:\u001b[36m197\u001b[0m - \u001b[1mepoch: 18  batch: 994/1475  loss: 0.0436 (0.1148)  lr: 0.000100\u001b[0m\n",
            "\u001b[32m2025-01-17 00:24:47.460\u001b[0m | \u001b[1mINFO    \u001b[0m | \u001b[36m__main__\u001b[0m:\u001b[36mtrain\u001b[0m:\u001b[36m197\u001b[0m - \u001b[1mepoch: 18  batch: 1008/1475  loss: 0.0458 (0.1147)  lr: 0.000100\u001b[0m\n",
            "\u001b[32m2025-01-17 00:24:59.731\u001b[0m | \u001b[1mINFO    \u001b[0m | \u001b[36m__main__\u001b[0m:\u001b[36mtrain\u001b[0m:\u001b[36m197\u001b[0m - \u001b[1mepoch: 18  batch: 1022/1475  loss: 0.0445 (0.1146)  lr: 0.000100\u001b[0m\n",
            "\u001b[32m2025-01-17 00:25:12.060\u001b[0m | \u001b[1mINFO    \u001b[0m | \u001b[36m__main__\u001b[0m:\u001b[36mtrain\u001b[0m:\u001b[36m197\u001b[0m - \u001b[1mepoch: 18  batch: 1036/1475  loss: 0.0478 (0.1145)  lr: 0.000100\u001b[0m\n",
            "\u001b[32m2025-01-17 00:25:24.421\u001b[0m | \u001b[1mINFO    \u001b[0m | \u001b[36m__main__\u001b[0m:\u001b[36mtrain\u001b[0m:\u001b[36m197\u001b[0m - \u001b[1mepoch: 18  batch: 1050/1475  loss: 0.0458 (0.1144)  lr: 0.000100\u001b[0m\n",
            "\u001b[32m2025-01-17 00:25:36.746\u001b[0m | \u001b[1mINFO    \u001b[0m | \u001b[36m__main__\u001b[0m:\u001b[36mtrain\u001b[0m:\u001b[36m197\u001b[0m - \u001b[1mepoch: 18  batch: 1064/1475  loss: 0.0451 (0.1143)  lr: 0.000100\u001b[0m\n",
            "\u001b[32m2025-01-17 00:25:49.055\u001b[0m | \u001b[1mINFO    \u001b[0m | \u001b[36m__main__\u001b[0m:\u001b[36mtrain\u001b[0m:\u001b[36m197\u001b[0m - \u001b[1mepoch: 18  batch: 1078/1475  loss: 0.0458 (0.1143)  lr: 0.000100\u001b[0m\n",
            "\u001b[32m2025-01-17 00:26:01.249\u001b[0m | \u001b[1mINFO    \u001b[0m | \u001b[36m__main__\u001b[0m:\u001b[36mtrain\u001b[0m:\u001b[36m197\u001b[0m - \u001b[1mepoch: 18  batch: 1092/1475  loss: 0.0447 (0.1142)  lr: 0.000100\u001b[0m\n",
            "\u001b[32m2025-01-17 00:26:13.516\u001b[0m | \u001b[1mINFO    \u001b[0m | \u001b[36m__main__\u001b[0m:\u001b[36mtrain\u001b[0m:\u001b[36m197\u001b[0m - \u001b[1mepoch: 18  batch: 1106/1475  loss: 0.0425 (0.1141)  lr: 0.000100\u001b[0m\n",
            "\u001b[32m2025-01-17 00:26:25.814\u001b[0m | \u001b[1mINFO    \u001b[0m | \u001b[36m__main__\u001b[0m:\u001b[36mtrain\u001b[0m:\u001b[36m197\u001b[0m - \u001b[1mepoch: 18  batch: 1120/1475  loss: 0.0427 (0.1140)  lr: 0.000100\u001b[0m\n",
            "\u001b[32m2025-01-17 00:26:38.116\u001b[0m | \u001b[1mINFO    \u001b[0m | \u001b[36m__main__\u001b[0m:\u001b[36mtrain\u001b[0m:\u001b[36m197\u001b[0m - \u001b[1mepoch: 18  batch: 1134/1475  loss: 0.0466 (0.1139)  lr: 0.000100\u001b[0m\n",
            "\u001b[32m2025-01-17 00:26:50.358\u001b[0m | \u001b[1mINFO    \u001b[0m | \u001b[36m__main__\u001b[0m:\u001b[36mtrain\u001b[0m:\u001b[36m197\u001b[0m - \u001b[1mepoch: 18  batch: 1148/1475  loss: 0.0460 (0.1138)  lr: 0.000100\u001b[0m\n"
          ]
        }
      ],
      "source": [
        "# without GPU\n",
        "# !python3 -m SPARQL.train --input_dir processed_data/ --save_dir checkpoints/ --virtuoso_enabled False --num_epoch 30 --resume_training True --resume_model \"model_epoch8.pt\" --resume_epoch 8\n",
        "\n",
        "# with GPU\n",
        "# Run on Colab: --virtuoso_enabled False, there is no Virtuoso on Colab, no validating when training\n",
        "!CUDA_VISIBLE_DEVICES=0 python -m SPARQL.train --input_dir processed_data/ --save_dir checkpoints/MyDrive/models --virtuoso_enabled False --num_epoch 50 --resume_training True --resume_model \"model_epoch10.pt\" --resume_epoch 10"
      ]
    },
    {
      "cell_type": "markdown",
      "id": "0c8df0ce",
      "metadata": {
        "id": "0c8df0ce"
      },
      "source": [
        "### Test\n",
        "\n",
        "On Colab: unable to run the test command without configuration of Virtuoso Service"
      ]
    },
    {
      "cell_type": "code",
      "execution_count": null,
      "id": "4161ab87-26ba-4a71-863d-bfab745daea7",
      "metadata": {
        "colab": {
          "base_uri": "https://localhost:8080/"
        },
        "id": "4161ab87-26ba-4a71-863d-bfab745daea7",
        "outputId": "380f210b-6c4c-42df-c2c4-ca5277d36110"
      },
      "outputs": [
        {
          "name": "stdout",
          "output_type": "stream",
          "text": [
            "load test data\n",
            "load model\n",
            "100% 93/93 [00:59<00:00,  1.56it/s]\n"
          ]
        }
      ],
      "source": [
        "# without GPU\n",
        "# !python -m SPARQL.predict --input_dir processed_data/ --save_dir checkpoints/\n",
        "\n",
        "# with GPU\n",
        "!CUDA_VISIBLE_DEVICES=0 python -m SPARQL.predict --input_dir processed_data/ --save_dir checkpoints/"
      ]
    },
    {
      "cell_type": "code",
      "execution_count": null,
      "id": "UQIsX1vfgLQL",
      "metadata": {
        "id": "UQIsX1vfgLQL"
      },
      "outputs": [],
      "source": []
    }
  ],
  "metadata": {
    "accelerator": "GPU",
    "colab": {
      "gpuType": "T4",
      "provenance": []
    },
    "kernelspec": {
      "display_name": "Python 3",
      "language": "python",
      "name": "python3"
    },
    "language_info": {
      "codemirror_mode": {
        "name": "ipython",
        "version": 3
      },
      "file_extension": ".py",
      "mimetype": "text/x-python",
      "name": "python",
      "nbconvert_exporter": "python",
      "pygments_lexer": "ipython3",
      "version": "3.8.10"
    }
  },
  "nbformat": 4,
  "nbformat_minor": 5
}
