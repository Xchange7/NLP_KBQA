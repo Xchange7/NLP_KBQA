{
  "cells": [
    {
      "cell_type": "markdown",
      "id": "e11a5701-cea3-4c38-8f84-27f84aba242d",
      "metadata": {
        "id": "e11a5701-cea3-4c38-8f84-27f84aba242d"
      },
      "source": [
        "## KQAPro Baselines Pipeline - SPARQL Setup\n",
        "\n",
        "This Jupyter Notebook is designed to set up the pipeline for the [KQAPro Baselines - SPARQL](https://github.com/shijx12/KQAPro_Baselines/tree/master/SPARQL) project. It provides steps for downloading the necessary datasets, organizing files, and preparing the environment to run the SPARQL-based code.\n",
        "\n",
        "Ensure that all dependencies are installed and the required tools are available in your system before proceeding."
      ]
    },
    {
      "cell_type": "markdown",
      "id": "2fd6584a",
      "metadata": {
        "id": "2fd6584a"
      },
      "source": [
        "> To Run it on **Colab**:\n",
        ">\n",
        "> 1. First, **upload** and open this jupyter **notebook** file  \n",
        ">\n",
        "> 2. Second, clone the related [github repository](https://github.com/Xchange7/NLP_KBQA) by executing the following command:"
      ]
    },
    {
      "cell_type": "code",
      "execution_count": 1,
      "id": "57ab1a4f",
      "metadata": {
        "colab": {
          "base_uri": "https://localhost:8080/"
        },
        "id": "57ab1a4f",
        "outputId": "9a789902-84a0-419d-fb2b-85a840b087bc"
      },
      "outputs": [
        {
          "output_type": "stream",
          "name": "stdout",
          "text": [
            "Cloning into 'NLP_KBQA'...\n",
            "remote: Enumerating objects: 433, done.\u001b[K\n",
            "remote: Counting objects: 100% (433/433), done.\u001b[K\n",
            "remote: Compressing objects: 100% (258/258), done.\u001b[K\n",
            "remote: Total 433 (delta 183), reused 409 (delta 162), pack-reused 0 (from 0)\u001b[K\n",
            "Receiving objects: 100% (433/433), 18.87 MiB | 26.91 MiB/s, done.\n",
            "Resolving deltas: 100% (183/183), done.\n"
          ]
        }
      ],
      "source": [
        "!git clone https://github.com/Xchange7/NLP_KBQA.git"
      ]
    },
    {
      "cell_type": "markdown",
      "id": "fd2b8b50",
      "metadata": {
        "id": "fd2b8b50"
      },
      "source": [
        "> 3. change the directory to `sp-based/`\n",
        ">\n",
        ">     Use `%cd` rather than `!cd` !!!"
      ]
    },
    {
      "cell_type": "code",
      "execution_count": 2,
      "id": "2b553752",
      "metadata": {
        "colab": {
          "base_uri": "https://localhost:8080/"
        },
        "id": "2b553752",
        "outputId": "c82c246b-6004-4510-afe4-e673ce0d5470"
      },
      "outputs": [
        {
          "output_type": "stream",
          "name": "stdout",
          "text": [
            "/content/NLP_KBQA/sp-based\n"
          ]
        }
      ],
      "source": [
        "%cd NLP_KBQA/sp-based/"
      ]
    },
    {
      "cell_type": "code",
      "execution_count": 3,
      "id": "uwIdx7jpK12U",
      "metadata": {
        "colab": {
          "base_uri": "https://localhost:8080/"
        },
        "id": "uwIdx7jpK12U",
        "outputId": "491fbca4-6ff5-4d30-adf8-e38de1eed16a"
      },
      "outputs": [
        {
          "output_type": "stream",
          "name": "stdout",
          "text": [
            "/content/NLP_KBQA/sp-based\n"
          ]
        }
      ],
      "source": [
        "!pwd"
      ]
    },
    {
      "cell_type": "markdown",
      "id": "d8516955",
      "metadata": {
        "id": "d8516955"
      },
      "source": [
        "> 4. Now continue the following cells"
      ]
    },
    {
      "cell_type": "markdown",
      "id": "bd8e79dd-fcc0-4968-ad9f-b1171f7fd98a",
      "metadata": {
        "id": "bd8e79dd-fcc0-4968-ad9f-b1171f7fd98a"
      },
      "source": [
        "### Download Datasets\n",
        "\n",
        "The following 4 jupyter cells will do the followings:\n",
        "\n",
        "- Download datasets `train.json`, `val.json` and `test.json` from [https://cloud.tsinghua.edu.cn/f/04ce81541e704a648b03/?dl=1](https://cloud.tsinghua.edu.cn/f/04ce81541e704a648b03/?dl=1)\n",
        "- Download datasets `kb.json` from [https://huggingface.co/datasets/drt/kqa_pro](https://huggingface.co/datasets/drt/kqa_pro)"
      ]
    },
    {
      "cell_type": "code",
      "execution_count": 4,
      "id": "9b805c03-47e8-46ff-9077-57309ad35b21",
      "metadata": {
        "colab": {
          "base_uri": "https://localhost:8080/"
        },
        "id": "9b805c03-47e8-46ff-9077-57309ad35b21",
        "outputId": "f77e97e1-3c2a-4fc7-d8db-74fb84a8818a"
      },
      "outputs": [
        {
          "output_type": "stream",
          "name": "stdout",
          "text": [
            "--2025-01-16 15:24:37--  https://cloud.tsinghua.edu.cn/f/04ce81541e704a648b03/?dl=1\n",
            "Resolving cloud.tsinghua.edu.cn (cloud.tsinghua.edu.cn)... 101.6.15.69, 2402:f000:1:402:101:6:15:69\n",
            "Connecting to cloud.tsinghua.edu.cn (cloud.tsinghua.edu.cn)|101.6.15.69|:443... connected.\n",
            "HTTP request sent, awaiting response... 302 Found\n",
            "Location: https://cloud.tsinghua.edu.cn/seafhttp/files/d024f2dd-efd0-4821-99cf-3e17fc717d28/KQAPro.IID.zip [following]\n",
            "--2025-01-16 15:24:38--  https://cloud.tsinghua.edu.cn/seafhttp/files/d024f2dd-efd0-4821-99cf-3e17fc717d28/KQAPro.IID.zip\n",
            "Reusing existing connection to cloud.tsinghua.edu.cn:443.\n",
            "HTTP request sent, awaiting response... 200 OK\n",
            "Length: 24786704 (24M) [application/zip]\n",
            "Saving to: ‘datasets.zip’\n",
            "\n",
            "datasets.zip        100%[===================>]  23.64M  6.00MB/s    in 5.1s    \n",
            "\n",
            "2025-01-16 15:24:44 (4.63 MB/s) - ‘datasets.zip’ saved [24786704/24786704]\n",
            "\n",
            "Archive:  datasets.zip\n",
            "   creating: datasets/KQAPro.IID/\n",
            "  inflating: datasets/KQAPro.IID/kb.json  \n",
            "  inflating: datasets/KQAPro.IID/README.md  \n",
            "  inflating: datasets/KQAPro.IID/train.json  \n",
            "  inflating: datasets/KQAPro.IID/test.json  \n",
            "  inflating: datasets/KQAPro.IID/val.json  \n"
          ]
        }
      ],
      "source": [
        "# Simply run it\n",
        "\n",
        "!wget -O datasets.zip \"https://cloud.tsinghua.edu.cn/f/04ce81541e704a648b03/?dl=1\" \\\n",
        "&& unzip -o datasets.zip -d datasets \\\n",
        "&& mv datasets/KQAPro.IID/* datasets/ \\\n",
        "&& rm -r datasets/KQAPro.IID \\\n",
        "&& rm datasets.zip"
      ]
    },
    {
      "cell_type": "code",
      "execution_count": 5,
      "id": "beec3dab-52e2-4145-9795-964fbb3bff4a",
      "metadata": {
        "colab": {
          "base_uri": "https://localhost:8080/"
        },
        "id": "beec3dab-52e2-4145-9795-964fbb3bff4a",
        "outputId": "c6571b9d-e294-4758-a78e-e55e61522792"
      },
      "outputs": [
        {
          "output_type": "stream",
          "name": "stdout",
          "text": [
            "\u001b[0m\u001b[01;34mBart_SPARQL\u001b[0m/                \u001b[01;34mdatasets\u001b[0m/      README.md        SPARQL_pipeline.ipynb\n",
            "Bart_SPARQL_pipeline.ipynb  evaluate.py    run_BlindGRU.sh  \u001b[01;34mtest_results\u001b[0m/\n",
            "\u001b[01;34mBlindGRU\u001b[0m/                   json2jsonl.py  \u001b[01;34mSPARQL\u001b[0m/          \u001b[01;34mutils\u001b[0m/\n"
          ]
        }
      ],
      "source": [
        "%ls"
      ]
    },
    {
      "cell_type": "code",
      "execution_count": 6,
      "id": "e033209b-5085-4e91-94b8-944f05afe2ee",
      "metadata": {
        "colab": {
          "base_uri": "https://localhost:8080/"
        },
        "id": "e033209b-5085-4e91-94b8-944f05afe2ee",
        "outputId": "b2896c9c-2f6e-4a5c-a6e9-8329d44895b5"
      },
      "outputs": [
        {
          "output_type": "stream",
          "name": "stdout",
          "text": [
            "--2025-01-16 15:24:46--  https://huggingface.co/datasets/drt/kqa_pro/resolve/main/kb.json?download=true\n",
            "Resolving huggingface.co (huggingface.co)... 3.163.189.74, 3.163.189.114, 3.163.189.90, ...\n",
            "Connecting to huggingface.co (huggingface.co)|3.163.189.74|:443... connected.\n",
            "HTTP request sent, awaiting response... 302 Found\n",
            "Location: https://cdn-lfs.hf.co/repos/c0/a4/c0a4536356b7a43fa2d5f4ca0859ea436a28848a2a32e920357a4480a00d4aa7/04da7408320c5cb7023c44372cce32846d56d369d8865d2e61a18c3956661a7c?response-content-disposition=attachment%3B+filename*%3DUTF-8%27%27kb.json%3B+filename%3D%22kb.json%22%3B&response-content-type=application%2Fjson&Expires=1737300286&Policy=eyJTdGF0ZW1lbnQiOlt7IkNvbmRpdGlvbiI6eyJEYXRlTGVzc1RoYW4iOnsiQVdTOkVwb2NoVGltZSI6MTczNzMwMDI4Nn19LCJSZXNvdXJjZSI6Imh0dHBzOi8vY2RuLWxmcy5oZi5jby9yZXBvcy9jMC9hNC9jMGE0NTM2MzU2YjdhNDNmYTJkNWY0Y2EwODU5ZWE0MzZhMjg4NDhhMmEzMmU5MjAzNTdhNDQ4MGEwMGQ0YWE3LzA0ZGE3NDA4MzIwYzVjYjcwMjNjNDQzNzJjY2UzMjg0NmQ1NmQzNjlkODg2NWQyZTYxYTE4YzM5NTY2NjFhN2M%7EcmVzcG9uc2UtY29udGVudC1kaXNwb3NpdGlvbj0qJnJlc3BvbnNlLWNvbnRlbnQtdHlwZT0qIn1dfQ__&Signature=ZjZbvNeswYtlR1MfW0l-4j3Yfi5bg8fmFeaXgYdQ1Z-qQwgMl-mhhmuzQOhcFTwkjiVfmDXlOaYaaIrCN8%7EddEhdFMd4G%7EXdnOcMqHC5SAqHG-m%7EckbPLLwqHsnOlrcKZGD9hZpNPsx2UQ0k98T5V7SfXRLrMzzUHs8j56I4n79GZKENSgfdThZLtb37oT-LMPKcd7873DAtimX8VdiSUdMUGMhoFNH2BzchYxw8hmwU7ttOnhXBMkfx-PGGJf5rqlQebwP3Cz4sOcQMF7yrsJUzY0aTBZyfBV6yeU7gG36QM9xRoyQAkFGgU-kz41NRB6gCha2NQ4seZmIk-Urk8Q__&Key-Pair-Id=K3RPWS32NSSJCE [following]\n",
            "--2025-01-16 15:24:46--  https://cdn-lfs.hf.co/repos/c0/a4/c0a4536356b7a43fa2d5f4ca0859ea436a28848a2a32e920357a4480a00d4aa7/04da7408320c5cb7023c44372cce32846d56d369d8865d2e61a18c3956661a7c?response-content-disposition=attachment%3B+filename*%3DUTF-8%27%27kb.json%3B+filename%3D%22kb.json%22%3B&response-content-type=application%2Fjson&Expires=1737300286&Policy=eyJTdGF0ZW1lbnQiOlt7IkNvbmRpdGlvbiI6eyJEYXRlTGVzc1RoYW4iOnsiQVdTOkVwb2NoVGltZSI6MTczNzMwMDI4Nn19LCJSZXNvdXJjZSI6Imh0dHBzOi8vY2RuLWxmcy5oZi5jby9yZXBvcy9jMC9hNC9jMGE0NTM2MzU2YjdhNDNmYTJkNWY0Y2EwODU5ZWE0MzZhMjg4NDhhMmEzMmU5MjAzNTdhNDQ4MGEwMGQ0YWE3LzA0ZGE3NDA4MzIwYzVjYjcwMjNjNDQzNzJjY2UzMjg0NmQ1NmQzNjlkODg2NWQyZTYxYTE4YzM5NTY2NjFhN2M%7EcmVzcG9uc2UtY29udGVudC1kaXNwb3NpdGlvbj0qJnJlc3BvbnNlLWNvbnRlbnQtdHlwZT0qIn1dfQ__&Signature=ZjZbvNeswYtlR1MfW0l-4j3Yfi5bg8fmFeaXgYdQ1Z-qQwgMl-mhhmuzQOhcFTwkjiVfmDXlOaYaaIrCN8%7EddEhdFMd4G%7EXdnOcMqHC5SAqHG-m%7EckbPLLwqHsnOlrcKZGD9hZpNPsx2UQ0k98T5V7SfXRLrMzzUHs8j56I4n79GZKENSgfdThZLtb37oT-LMPKcd7873DAtimX8VdiSUdMUGMhoFNH2BzchYxw8hmwU7ttOnhXBMkfx-PGGJf5rqlQebwP3Cz4sOcQMF7yrsJUzY0aTBZyfBV6yeU7gG36QM9xRoyQAkFGgU-kz41NRB6gCha2NQ4seZmIk-Urk8Q__&Key-Pair-Id=K3RPWS32NSSJCE\n",
            "Resolving cdn-lfs.hf.co (cdn-lfs.hf.co)... 18.65.229.26, 18.65.229.3, 18.65.229.114, ...\n",
            "Connecting to cdn-lfs.hf.co (cdn-lfs.hf.co)|18.65.229.26|:443... connected.\n",
            "HTTP request sent, awaiting response... 200 OK\n",
            "Length: 79341787 (76M) [application/json]\n",
            "Saving to: ‘datasets/kb.json’\n",
            "\n",
            "datasets/kb.json    100%[===================>]  75.67M  81.0MB/s    in 0.9s    \n",
            "\n",
            "2025-01-16 15:24:47 (81.0 MB/s) - ‘datasets/kb.json’ saved [79341787/79341787]\n",
            "\n"
          ]
        }
      ],
      "source": [
        "# Simply run it\n",
        "\n",
        "!wget -O datasets/kb.json \"https://huggingface.co/datasets/drt/kqa_pro/resolve/main/kb.json?download=true\""
      ]
    },
    {
      "cell_type": "code",
      "execution_count": 7,
      "id": "2eb65f55-aa46-41e8-ac9d-779fee897e57",
      "metadata": {
        "colab": {
          "base_uri": "https://localhost:8080/"
        },
        "id": "2eb65f55-aa46-41e8-ac9d-779fee897e57",
        "outputId": "21c5dc08-d4e0-4c41-dde7-7e38b8836970"
      },
      "outputs": [
        {
          "output_type": "stream",
          "name": "stdout",
          "text": [
            "kb.json  README.md  test.json  train.json  val.json\n"
          ]
        }
      ],
      "source": [
        "%ls ./datasets"
      ]
    },
    {
      "cell_type": "markdown",
      "id": "5696ed62",
      "metadata": {
        "id": "5696ed62"
      },
      "source": [
        "### Modify the datasets\n",
        "\n",
        "- Current structures of `train.json`, `val.json`:\n",
        "  ```json\n",
        "  {\n",
        "    \"question\": \"\",   // !!! input of the model\n",
        "    \"choices\": [],  // ignore this field\n",
        "    \"program\": [],  // ignore this field\n",
        "    \"sparql\": \"\",   // !!! output of the model\n",
        "    \"answer\": \"\"  // ignore this field\n",
        "  }\n",
        "  ```\n",
        "\n",
        "- Current structure of `test.json`:\n",
        "  ```json\n",
        "  {\n",
        "    \"question\": \"\",   // !!! input of the model\n",
        "    \"answer\": \"\"  // ignore this field\n",
        "  }  // PROBLEM: no `sparql` field\n",
        "  ```\n",
        "\n",
        "- Current `test.json` file has no `sparql` field, so we split the `val.json` into two parts, taking the last **5000** pieces of samples as new test set, and others as evaluation set.\n",
        "- At the same time, we also restructure the json format in all `train.json`, `val.json`, `test.json` files with proper **indentation**."
      ]
    },
    {
      "cell_type": "code",
      "execution_count": 8,
      "id": "681a2d78",
      "metadata": {
        "id": "681a2d78"
      },
      "outputs": [],
      "source": [
        "!rm ./datasets/test.json"
      ]
    },
    {
      "cell_type": "markdown",
      "id": "c70d960d",
      "metadata": {
        "id": "c70d960d"
      },
      "source": [
        "Currently, all data are stored in **a single line** in each file, which is not human-readable. We will reformat the data to make it more readable."
      ]
    },
    {
      "cell_type": "code",
      "execution_count": 9,
      "id": "534a5ba5",
      "metadata": {
        "colab": {
          "base_uri": "https://localhost:8080/"
        },
        "id": "534a5ba5",
        "outputId": "a80f98de-5115-432a-81e0-911413b6080f"
      },
      "outputs": [
        {
          "output_type": "stream",
          "name": "stdout",
          "text": [
            "        0 ./datasets/kb.json\n",
            "        0 ./datasets/train.json\n",
            "        0 ./datasets/val.json\n",
            "        0 total\n"
          ]
        }
      ],
      "source": [
        "!wc -l ./datasets/*.json  # calculate the number of lines in each file"
      ]
    },
    {
      "cell_type": "code",
      "execution_count": 10,
      "id": "b44f9c4d",
      "metadata": {
        "id": "b44f9c4d"
      },
      "outputs": [],
      "source": [
        "import json\n",
        "\n",
        "\n",
        "with open('./datasets/val.json', 'r', encoding='utf-8') as f:\n",
        "    data = json.load(f)\n",
        "\n",
        "# fetch the last 5000 samples as test data\n",
        "test_data = data[-5000:]\n",
        "remaining_data = data[:-5000]\n",
        "\n",
        "with open('./datasets/test.json', 'w', encoding='utf-8') as f:\n",
        "    json.dump(test_data, f, ensure_ascii=False, indent=4)\n",
        "\n",
        "with open('./datasets/val.json', 'w', encoding='utf-8') as f:\n",
        "    json.dump(remaining_data, f, ensure_ascii=False, indent=4)\n",
        "\n",
        "# at the same time, restore `train.json` with proper indentation\n",
        "with open('./datasets/train.json', 'r', encoding='utf-8') as f:\n",
        "    data = json.load(f)\n",
        "\n",
        "with open('./datasets/train.json', 'w', encoding='utf-8') as f:\n",
        "    json.dump(data, f, ensure_ascii=False, indent=4)"
      ]
    },
    {
      "cell_type": "code",
      "execution_count": 11,
      "id": "ec89a24a",
      "metadata": {
        "colab": {
          "base_uri": "https://localhost:8080/"
        },
        "id": "ec89a24a",
        "outputId": "3ffc85c6-84ee-4504-a1a7-c3fbd9d85e58"
      },
      "outputs": [
        {
          "output_type": "stream",
          "name": "stdout",
          "text": [
            "        0 ./datasets/kb.json\n",
            "   296868 ./datasets/test.json\n",
            "  5580649 ./datasets/train.json\n",
            "   404696 ./datasets/val.json\n",
            "  6282213 total\n"
          ]
        }
      ],
      "source": [
        "!wc -l ./datasets/*.json  # calculate the number of lines in each file"
      ]
    },
    {
      "cell_type": "code",
      "execution_count": 12,
      "id": "f277af7c",
      "metadata": {
        "colab": {
          "base_uri": "https://localhost:8080/"
        },
        "id": "f277af7c",
        "outputId": "acae0476-b332-4627-909f-0aca58359587"
      },
      "outputs": [
        {
          "output_type": "stream",
          "name": "stdout",
          "text": [
            "Successfully converted datasets/train.json to datasets/train.jsonl\n",
            "Successfully converted datasets/test.json to datasets/test.jsonl\n",
            "Successfully converted datasets/val.json to datasets/val.jsonl\n"
          ]
        }
      ],
      "source": [
        "# OPTIONAL: convert `train.json`, `val.json`, and `test.json` to `jsonl` format\n",
        "\n",
        "!python json2jsonl.py --mode default"
      ]
    },
    {
      "cell_type": "code",
      "execution_count": 13,
      "id": "1cba9303",
      "metadata": {
        "colab": {
          "base_uri": "https://localhost:8080/"
        },
        "id": "1cba9303",
        "outputId": "96378f4e-5e75-4368-a8ce-24035ba37cff"
      },
      "outputs": [
        {
          "output_type": "stream",
          "name": "stdout",
          "text": [
            "    5000 ./datasets/test.jsonl\n",
            "   94376 ./datasets/train.jsonl\n",
            "    6797 ./datasets/val.jsonl\n",
            "  106173 total\n"
          ]
        }
      ],
      "source": [
        "!wc -l ./datasets/*.jsonl  # calculate the number of lines in each file, which represents the number of samples"
      ]
    },
    {
      "cell_type": "markdown",
      "id": "d223c74d-d46d-4799-84f9-202a070f3816",
      "metadata": {
        "id": "d223c74d-d46d-4799-84f9-202a070f3816"
      },
      "source": [
        "### Configure rdflib package\n",
        "\n",
        "Follow the instructions in [https://github.com/shijx12/KQAPro_Baselines/tree/master/SPARQL#requirements](https://github.com/shijx12/KQAPro_Baselines/tree/master/SPARQL#requirements)"
      ]
    },
    {
      "cell_type": "code",
      "execution_count": 14,
      "id": "f410d6a3-bb22-4171-8b60-60c78b2d9a34",
      "metadata": {
        "colab": {
          "base_uri": "https://localhost:8080/"
        },
        "id": "f410d6a3-bb22-4171-8b60-60c78b2d9a34",
        "outputId": "6c84917b-3c03-4b83-cb6c-868980f889b5"
      },
      "outputs": [
        {
          "output_type": "stream",
          "name": "stdout",
          "text": [
            "Collecting rdflib\n",
            "  Downloading rdflib-7.1.2-py3-none-any.whl.metadata (11 kB)\n",
            "Requirement already satisfied: pyparsing<4,>=3.2.0 in /usr/local/lib/python3.11/dist-packages (from rdflib) (3.2.1)\n",
            "Downloading rdflib-7.1.2-py3-none-any.whl (567 kB)\n",
            "\u001b[?25l   \u001b[90m━━━━━━━━━━━━━━━━━━━━━━━━━━━━━━━━━━━━━━━━\u001b[0m \u001b[32m0.0/567.0 kB\u001b[0m \u001b[31m?\u001b[0m eta \u001b[36m-:--:--\u001b[0m\r\u001b[2K   \u001b[91m━━━━━━━━━━━━━━━━━━━━━━━━━━━━━━━━━\u001b[0m\u001b[90m╺\u001b[0m\u001b[90m━━━━━━\u001b[0m \u001b[32m471.0/567.0 kB\u001b[0m \u001b[31m13.9 MB/s\u001b[0m eta \u001b[36m0:00:01\u001b[0m\r\u001b[2K   \u001b[90m━━━━━━━━━━━━━━━━━━━━━━━━━━━━━━━━━━━━━━━━\u001b[0m \u001b[32m567.0/567.0 kB\u001b[0m \u001b[31m10.9 MB/s\u001b[0m eta \u001b[36m0:00:00\u001b[0m\n",
            "\u001b[?25hInstalling collected packages: rdflib\n",
            "Successfully installed rdflib-7.1.2\n"
          ]
        }
      ],
      "source": [
        "%pip install rdflib"
      ]
    },
    {
      "cell_type": "code",
      "execution_count": 15,
      "id": "3efa088f-a8c7-4a81-92eb-e25a4bdd5d3a",
      "metadata": {
        "colab": {
          "base_uri": "https://localhost:8080/"
        },
        "id": "3efa088f-a8c7-4a81-92eb-e25a4bdd5d3a",
        "outputId": "3b3246db-5276-4b65-9635-63f2e468039a"
      },
      "outputs": [
        {
          "output_type": "stream",
          "name": "stdout",
          "text": [
            "base_dir: /usr/local/lib/python3.11/dist-packages/rdflib\n",
            "\n",
            "There are 2 files to change in total.\n",
            "File1: /usr/local/lib/python3.11/dist-packages/rdflib/plugins/sparql/parser.py\n",
            "File2: /usr/local/lib/python3.11/dist-packages/rdflib/plugins/serializers/turtle.py\n",
            "\n",
            "First, edit file1, replace the line with codes:\n",
            "`if i + 1 < l and (not isinstance(terms[i + 1], str) or terms[i + 1] not in \".,;\"):`\n",
            "which is just below the line `# is this bnode the subject of more triplets?`\n",
            "\n",
            "Second, edit file2, replace `use_plain=True` with `use_plain=False`\n",
            "\n",
            "For more detailed information, check https://github.com/shijx12/KQAPro_Baselines/tree/master/SPARQL#requirements\n"
          ]
        }
      ],
      "source": [
        "import rdflib\n",
        "import os\n",
        "\n",
        "\"\"\" Follow the instructions of the output below: \"\"\"\n",
        "\n",
        "base_dir = os.path.dirname(rdflib.__file__)\n",
        "print(f\"base_dir: {base_dir}\")\n",
        "\n",
        "file1 = os.path.join(base_dir, \"plugins/sparql/parser.py\")\n",
        "file2 = os.path.join(base_dir, \"plugins/serializers/turtle.py\")\n",
        "\n",
        "\"\"\"What you need TODO:\"\"\"\n",
        "print(\"\\nThere are 2 files to change in total.\")\n",
        "print(f\"File1: {file1}\")\n",
        "print(f\"File2: {file2}\")\n",
        "\n",
        "print(f\"\"\"\n",
        "First, edit file1, replace the line with codes:\n",
        "`if i + 1 < l and (not isinstance(terms[i + 1], str) or terms[i + 1] not in \".,;\"):`\n",
        "which is just below the line `# is this bnode the subject of more triplets?`\n",
        "\"\"\", end=\"\")\n",
        "\n",
        "print(f\"\"\"\n",
        "Second, edit file2, replace `use_plain=True` with `use_plain=False`\n",
        "\"\"\")\n",
        "\n",
        "print(\"For more detailed information, check https://github.com/shijx12/KQAPro_Baselines/tree/master/SPARQL#requirements\")"
      ]
    },
    {
      "cell_type": "markdown",
      "id": "wHZc03euLHNH",
      "metadata": {
        "id": "wHZc03euLHNH"
      },
      "source": [
        "Now edit file1 and file2.\n",
        "\n",
        "> For Colab users, the file paths could be:  \n",
        ">\n",
        "> File1: /usr/local/lib/python3.11/dist-packages/rdflib/plugins/sparql/parser.py  (line: 84)\n",
        ">\n",
        "> File2: /usr/local/lib/python3.11/dist-packages/rdflib/plugins/serializers/turtle.py  (line: 356)\n",
        ">\n",
        "> Simply click the file links to edit"
      ]
    },
    {
      "cell_type": "markdown",
      "id": "5ad52a04-9360-4203-847f-b5221e1eabfc",
      "metadata": {
        "id": "5ad52a04-9360-4203-847f-b5221e1eabfc"
      },
      "source": [
        "### Configure SPARQLWrapper"
      ]
    },
    {
      "cell_type": "code",
      "execution_count": 16,
      "id": "ab050a27-3804-4816-b2f6-c731d3e64cce",
      "metadata": {
        "colab": {
          "base_uri": "https://localhost:8080/"
        },
        "id": "ab050a27-3804-4816-b2f6-c731d3e64cce",
        "outputId": "d8ba3c4c-2385-449d-ef8c-a94bb26dae8f"
      },
      "outputs": [
        {
          "output_type": "stream",
          "name": "stdout",
          "text": [
            "Collecting SPARQLWrapper==1.8.4\n",
            "  Downloading SPARQLWrapper-1.8.4-py3-none-any.whl.metadata (1.5 kB)\n",
            "Requirement already satisfied: rdflib>=4.0 in /usr/local/lib/python3.11/dist-packages (from SPARQLWrapper==1.8.4) (7.1.2)\n",
            "Requirement already satisfied: pyparsing<4,>=3.2.0 in /usr/local/lib/python3.11/dist-packages (from rdflib>=4.0->SPARQLWrapper==1.8.4) (3.2.1)\n",
            "Downloading SPARQLWrapper-1.8.4-py3-none-any.whl (27 kB)\n",
            "Installing collected packages: SPARQLWrapper\n",
            "Successfully installed SPARQLWrapper-1.8.4\n"
          ]
        }
      ],
      "source": [
        "%pip install SPARQLWrapper==1.8.4"
      ]
    },
    {
      "cell_type": "code",
      "execution_count": 17,
      "id": "d518e511-c41b-4042-80a9-44967f5e515b",
      "metadata": {
        "colab": {
          "base_uri": "https://localhost:8080/"
        },
        "id": "d518e511-c41b-4042-80a9-44967f5e515b",
        "outputId": "829f52a7-6e9d-44ba-bab4-1b0531df9dec"
      },
      "outputs": [
        {
          "output_type": "stream",
          "name": "stdout",
          "text": [
            "\u001b[33mWARNING: Package(s) not found: keepalive\u001b[0m\u001b[33m\n",
            "\u001b[0m"
          ]
        }
      ],
      "source": [
        "%pip show keepalive  # Make sure `keepalive` NOT installed"
      ]
    },
    {
      "cell_type": "markdown",
      "id": "2501d07c-85b3-4d27-b37a-1801ef9606f9",
      "metadata": {
        "id": "2501d07c-85b3-4d27-b37a-1801ef9606f9"
      },
      "source": [
        "### Virtuoso Configuration\n",
        "\n",
        "> *Needed for validation and evaluation (Executing SPARQL query to local Virtuoso database)*\n",
        "\n",
        "- The virtuoso backend will start up a web service, we can import our kb into it and then execute SPARQL queries by network requests.\n",
        "- **Purpose of Virtuoso**: The primary purpose of this configuration is to install and set up the Virtuoso backend service on an Ubuntu system, enabling the import of a **knowledge base (KB)** and facilitating access and operations on the data through the **SPARQL query interface**.\n"
      ]
    },
    {
      "cell_type": "markdown",
      "id": "2e7d923a-41e8-40ac-b9bf-282b92aee9fd",
      "metadata": {
        "id": "2e7d923a-41e8-40ac-b9bf-282b92aee9fd"
      },
      "source": [
        "Follow the steps in [https://github.com/shijx12/KQAPro_Baselines/tree/master/SPARQL#how-to-install-virtuoso-backend](https://github.com/shijx12/KQAPro_Baselines/tree/master/SPARQL#how-to-install-virtuoso-backend) or [SPARQL/virtuoso-commands.md](./SPARQL/virtuoso-commands.md)"
      ]
    },
    {
      "cell_type": "markdown",
      "id": "8eaff19f",
      "metadata": {
        "id": "8eaff19f"
      },
      "source": [
        "### Loguru Configuration"
      ]
    },
    {
      "cell_type": "code",
      "execution_count": 18,
      "id": "cb20ca86",
      "metadata": {
        "colab": {
          "base_uri": "https://localhost:8080/"
        },
        "id": "cb20ca86",
        "outputId": "6c6af36b-f026-4ce2-c24a-51600a959c61"
      },
      "outputs": [
        {
          "output_type": "stream",
          "name": "stdout",
          "text": [
            "Collecting loguru\n",
            "  Downloading loguru-0.7.3-py3-none-any.whl.metadata (22 kB)\n",
            "Downloading loguru-0.7.3-py3-none-any.whl (61 kB)\n",
            "\u001b[?25l   \u001b[90m━━━━━━━━━━━━━━━━━━━━━━━━━━━━━━━━━━━━━━━━\u001b[0m \u001b[32m0.0/61.6 kB\u001b[0m \u001b[31m?\u001b[0m eta \u001b[36m-:--:--\u001b[0m\r\u001b[2K   \u001b[90m━━━━━━━━━━━━━━━━━━━━━━━━━━━━━━━━━━━━━━━━\u001b[0m \u001b[32m61.6/61.6 kB\u001b[0m \u001b[31m3.6 MB/s\u001b[0m eta \u001b[36m0:00:00\u001b[0m\n",
            "\u001b[?25hInstalling collected packages: loguru\n",
            "Successfully installed loguru-0.7.3\n"
          ]
        }
      ],
      "source": [
        "%pip install loguru"
      ]
    },
    {
      "cell_type": "markdown",
      "id": "b96db1cf-2994-4b60-a454-5ae07852351a",
      "metadata": {
        "id": "b96db1cf-2994-4b60-a454-5ae07852351a"
      },
      "source": [
        "### Preprocess the training data"
      ]
    },
    {
      "cell_type": "code",
      "execution_count": 19,
      "id": "6ae20098-be27-484c-b327-6d189b5a199c",
      "metadata": {
        "colab": {
          "base_uri": "https://localhost:8080/"
        },
        "id": "6ae20098-be27-484c-b327-6d189b5a199c",
        "outputId": "22500538-efbc-407e-ce26-a43e538dc7fe"
      },
      "outputs": [
        {
          "output_type": "stream",
          "name": "stderr",
          "text": [
            "[nltk_data] Downloading package punkt_tab to /root/nltk_data...\n",
            "[nltk_data]   Unzipping tokenizers/punkt_tab.zip.\n"
          ]
        },
        {
          "output_type": "execute_result",
          "data": {
            "text/plain": [
              "True"
            ]
          },
          "metadata": {},
          "execution_count": 19
        }
      ],
      "source": [
        "import nltk\n",
        "nltk.download('punkt_tab')"
      ]
    },
    {
      "cell_type": "code",
      "execution_count": 20,
      "id": "7a62e93b-707c-44fc-a173-17209ed9eec9",
      "metadata": {
        "colab": {
          "base_uri": "https://localhost:8080/"
        },
        "id": "7a62e93b-707c-44fc-a173-17209ed9eec9",
        "outputId": "a7615c68-0bad-4274-fd84-2d7c13c8b503"
      },
      "outputs": [
        {
          "output_type": "stream",
          "name": "stdout",
          "text": [
            "Build kb vocabulary\n",
            "Load questions\n",
            "Build question vocabulary\n",
            "Dump vocab to processed_data/vocab.json\n",
            "word_token_to_idx:48554\n",
            "sparql_token_to_idx:45693\n",
            "answer_token_to_idx:79329\n",
            "Encode train set\n",
            "100% 94376/94376 [00:12<00:00, 7543.58it/s]\n",
            "shape of questions, sparqls, choices, answers:\n",
            "(94376, 85)\n",
            "(94376, 103)\n",
            "(94376, 10)\n",
            "(94376,)\n",
            "Encode val set\n",
            "100% 6797/6797 [00:00<00:00, 9412.00it/s]\n",
            "shape of questions, sparqls, choices, answers:\n",
            "(6797, 53)\n",
            "(6797, 95)\n",
            "(6797, 10)\n",
            "(6797,)\n",
            "Encode test set\n",
            "100% 5000/5000 [00:00<00:00, 8826.57it/s]\n",
            "shape of questions, sparqls, choices, answers:\n",
            "(5000, 61)\n",
            "(5000, 100)\n",
            "(5000, 10)\n",
            "(5000,)\n"
          ]
        }
      ],
      "source": [
        "!python3 -m SPARQL.preprocess --input_dir ./datasets --output_dir processed_data"
      ]
    },
    {
      "cell_type": "code",
      "execution_count": 21,
      "id": "51d143a9-8f7b-49b2-b68c-910775510b14",
      "metadata": {
        "colab": {
          "base_uri": "https://localhost:8080/"
        },
        "id": "51d143a9-8f7b-49b2-b68c-910775510b14",
        "outputId": "c93d8af4-495a-4bc7-987e-95115ff77a28"
      },
      "outputs": [
        {
          "output_type": "stream",
          "name": "stdout",
          "text": [
            "datasets:\n",
            "kb.json  README.md  test.json  test.jsonl  train.json  train.jsonl  val.json  val.jsonl\n",
            "\n",
            "processed_data:\n",
            "test.pt  train.pt  val.pt  vocab.json\n"
          ]
        }
      ],
      "source": [
        "%ls datasets processed_data"
      ]
    },
    {
      "cell_type": "code",
      "execution_count": 22,
      "id": "e83026cf-86d4-4e82-9e2a-85c1cf8fde0a",
      "metadata": {
        "id": "e83026cf-86d4-4e82-9e2a-85c1cf8fde0a"
      },
      "outputs": [],
      "source": [
        "!cp ./datasets/kb.json processed_data/"
      ]
    },
    {
      "cell_type": "markdown",
      "source": [
        "### Mount Google Drive (Colab)"
      ],
      "metadata": {
        "id": "joW7EHistbSK"
      },
      "id": "joW7EHistbSK"
    },
    {
      "cell_type": "code",
      "source": [
        "!mkdir checkpoints"
      ],
      "metadata": {
        "colab": {
          "base_uri": "https://localhost:8080/"
        },
        "id": "YJLcFklVuZkX",
        "outputId": "250f0512-0622-41e1-9709-261df9c5fe66"
      },
      "id": "YJLcFklVuZkX",
      "execution_count": 23,
      "outputs": [
        {
          "output_type": "stream",
          "name": "stdout",
          "text": [
            "mkdir: cannot create directory ‘checkpoints’: File exists\n"
          ]
        }
      ]
    },
    {
      "cell_type": "code",
      "source": [
        "from google.colab import drive\n",
        "\n",
        "drive.mount('/content/NLP_KBQA/sp-based/checkpoints')"
      ],
      "metadata": {
        "colab": {
          "base_uri": "https://localhost:8080/"
        },
        "id": "6zAuHfHBtoTs",
        "outputId": "7903886c-9065-49f1-f25f-b6d7c48e621d"
      },
      "id": "6zAuHfHBtoTs",
      "execution_count": 24,
      "outputs": [
        {
          "output_type": "stream",
          "name": "stdout",
          "text": [
            "Mounted at /content/NLP_KBQA/sp-based/checkpoints\n"
          ]
        }
      ]
    },
    {
      "cell_type": "markdown",
      "id": "1511c61b-a00a-4264-afce-a9b947171e9a",
      "metadata": {
        "id": "1511c61b-a00a-4264-afce-a9b947171e9a"
      },
      "source": [
        "### Train\n",
        "\n",
        "**BUG here!!!**:  \n",
        "\n",
        "There is a bug when the command below is executed with GPU, which can be fixed by editing the file:   \n",
        "`....../dist-packages/torch/nn/utils/rnn.py`  \n",
        "In Colab, the file path is:  \n",
        "`/usr/local/lib/python3.11/dist-packages/torch/nn/utils/rnn.py: line 338`\n",
        "\n",
        "Add `lengths = lengths.cpu()` before the line `data, batch_sizes = _VF._pack_padded_sequence(input, lengths, batch_first)`"
      ]
    },
    {
      "cell_type": "code",
      "execution_count": null,
      "id": "c109e198-cf8d-434c-9f43-a618f3279326",
      "metadata": {
        "colab": {
          "base_uri": "https://localhost:8080/"
        },
        "id": "c109e198-cf8d-434c-9f43-a618f3279326",
        "outputId": "41a8394f-0bc9-4765-85e7-d1e01a4a5f9c"
      },
      "outputs": [
        {
          "output_type": "stream",
          "name": "stdout",
          "text": [
            "\u001b[32m2025-01-16 15:29:35.054\u001b[0m | \u001b[1mINFO    \u001b[0m | \u001b[36m__main__\u001b[0m:\u001b[36mmain\u001b[0m:\u001b[36m266\u001b[0m - \u001b[1minput_dir: processed_data/\u001b[0m\n",
            "\u001b[32m2025-01-16 15:29:35.055\u001b[0m | \u001b[1mINFO    \u001b[0m | \u001b[36m__main__\u001b[0m:\u001b[36mmain\u001b[0m:\u001b[36m266\u001b[0m - \u001b[1msave_dir: checkpoints/MyDrive/\u001b[0m\n",
            "\u001b[32m2025-01-16 15:29:35.055\u001b[0m | \u001b[1mINFO    \u001b[0m | \u001b[36m__main__\u001b[0m:\u001b[36mmain\u001b[0m:\u001b[36m266\u001b[0m - \u001b[1mlr: 0.001\u001b[0m\n",
            "\u001b[32m2025-01-16 15:29:35.055\u001b[0m | \u001b[1mINFO    \u001b[0m | \u001b[36m__main__\u001b[0m:\u001b[36mmain\u001b[0m:\u001b[36m266\u001b[0m - \u001b[1mweight_decay: 1e-05\u001b[0m\n",
            "\u001b[32m2025-01-16 15:29:35.055\u001b[0m | \u001b[1mINFO    \u001b[0m | \u001b[36m__main__\u001b[0m:\u001b[36mmain\u001b[0m:\u001b[36m266\u001b[0m - \u001b[1mnum_epoch: 30\u001b[0m\n",
            "\u001b[32m2025-01-16 15:29:35.056\u001b[0m | \u001b[1mINFO    \u001b[0m | \u001b[36m__main__\u001b[0m:\u001b[36mmain\u001b[0m:\u001b[36m266\u001b[0m - \u001b[1mbatch_size: 64\u001b[0m\n",
            "\u001b[32m2025-01-16 15:29:35.056\u001b[0m | \u001b[1mINFO    \u001b[0m | \u001b[36m__main__\u001b[0m:\u001b[36mmain\u001b[0m:\u001b[36m266\u001b[0m - \u001b[1mseed: 666\u001b[0m\n",
            "\u001b[32m2025-01-16 15:29:35.056\u001b[0m | \u001b[1mINFO    \u001b[0m | \u001b[36m__main__\u001b[0m:\u001b[36mmain\u001b[0m:\u001b[36m266\u001b[0m - \u001b[1mdim_word: 300\u001b[0m\n",
            "\u001b[32m2025-01-16 15:29:35.056\u001b[0m | \u001b[1mINFO    \u001b[0m | \u001b[36m__main__\u001b[0m:\u001b[36mmain\u001b[0m:\u001b[36m266\u001b[0m - \u001b[1mdim_hidden: 1024\u001b[0m\n",
            "\u001b[32m2025-01-16 15:29:35.056\u001b[0m | \u001b[1mINFO    \u001b[0m | \u001b[36m__main__\u001b[0m:\u001b[36mmain\u001b[0m:\u001b[36m266\u001b[0m - \u001b[1mmax_dec_len: 100\u001b[0m\n",
            "\u001b[32m2025-01-16 15:29:35.057\u001b[0m | \u001b[1mINFO    \u001b[0m | \u001b[36m__main__\u001b[0m:\u001b[36mmain\u001b[0m:\u001b[36m266\u001b[0m - \u001b[1mresume_training: True\u001b[0m\n",
            "\u001b[32m2025-01-16 15:29:35.057\u001b[0m | \u001b[1mINFO    \u001b[0m | \u001b[36m__main__\u001b[0m:\u001b[36mmain\u001b[0m:\u001b[36m266\u001b[0m - \u001b[1mresume_epoch: 8\u001b[0m\n",
            "\u001b[32m2025-01-16 15:29:35.057\u001b[0m | \u001b[1mINFO    \u001b[0m | \u001b[36m__main__\u001b[0m:\u001b[36mmain\u001b[0m:\u001b[36m266\u001b[0m - \u001b[1mresume_model: model_epoch8.pt\u001b[0m\n",
            "\u001b[32m2025-01-16 15:29:35.057\u001b[0m | \u001b[1mINFO    \u001b[0m | \u001b[36m__main__\u001b[0m:\u001b[36mmain\u001b[0m:\u001b[36m266\u001b[0m - \u001b[1mvirtuoso_enabled: False\u001b[0m\n",
            "\u001b[32m2025-01-16 15:29:35.105\u001b[0m | \u001b[1mINFO    \u001b[0m | \u001b[36m__main__\u001b[0m:\u001b[36mtrain\u001b[0m:\u001b[36m144\u001b[0m - \u001b[1mUsing device: cuda\u001b[0m\n",
            "\u001b[32m2025-01-16 15:29:35.105\u001b[0m | \u001b[1mINFO    \u001b[0m | \u001b[36m__main__\u001b[0m:\u001b[36mtrain\u001b[0m:\u001b[36m146\u001b[0m - \u001b[1mCreate train_loader and val_loader.........\u001b[0m\n",
            "#vocab of word/sparql/answer: 48554/45693/79329\n",
            "\u001b[32m2025-01-16 15:29:41.201\u001b[0m | \u001b[33m\u001b[1mWARNING \u001b[0m | \u001b[36m__main__\u001b[0m:\u001b[36mtrain\u001b[0m:\u001b[36m169\u001b[0m - \u001b[33m\u001b[1mNo model found at checkpoints/MyDrive/model_epoch8.pt, starting from scratch\u001b[0m\n",
            "\u001b[32m2025-01-16 15:29:41.202\u001b[0m | \u001b[1mINFO    \u001b[0m | \u001b[36m__main__\u001b[0m:\u001b[36mtrain\u001b[0m:\u001b[36m170\u001b[0m - \u001b[1mCreate model.........\u001b[0m\n",
            "\u001b[32m2025-01-16 15:29:41.202\u001b[0m | \u001b[1mINFO    \u001b[0m | \u001b[36m__main__\u001b[0m:\u001b[36mtrain\u001b[0m:\u001b[36m172\u001b[0m - \u001b[1mSPARQLParser(\n",
            "  (word_embeddings): Embedding(48554, 300)\n",
            "  (word_dropout): Dropout(p=0.3, inplace=False)\n",
            "  (question_encoder): GRU(\n",
            "    (encoder): GRU(300, 1024, num_layers=2, batch_first=True, dropout=0.2)\n",
            "  )\n",
            "  (sparql_embeddings): Embedding(45693, 300)\n",
            "  (decoder): GRU(\n",
            "    (encoder): GRU(300, 1024, num_layers=2, batch_first=True, dropout=0.2)\n",
            "  )\n",
            "  (sparql_classifier): Sequential(\n",
            "    (0): Linear(in_features=1024, out_features=1024, bias=True)\n",
            "    (1): ReLU()\n",
            "    (2): Linear(in_features=1024, out_features=45693, bias=True)\n",
            "  )\n",
            "  (att_lin): Linear(in_features=1024, out_features=1024, bias=True)\n",
            ")\u001b[0m\n",
            "\u001b[32m2025-01-16 15:29:46.736\u001b[0m | \u001b[1mINFO    \u001b[0m | \u001b[36m__main__\u001b[0m:\u001b[36mtrain\u001b[0m:\u001b[36m183\u001b[0m - \u001b[1mStart training........\u001b[0m\n",
            "\u001b[32m2025-01-16 15:29:59.655\u001b[0m | \u001b[1mINFO    \u001b[0m | \u001b[36m__main__\u001b[0m:\u001b[36mtrain\u001b[0m:\u001b[36m197\u001b[0m - \u001b[1mepoch: 0  batch: 14/1475  loss: 6.7515 (6.5407)  lr: 0.001000\u001b[0m\n",
            "\u001b[32m2025-01-16 15:30:11.043\u001b[0m | \u001b[1mINFO    \u001b[0m | \u001b[36m__main__\u001b[0m:\u001b[36mtrain\u001b[0m:\u001b[36m197\u001b[0m - \u001b[1mepoch: 0  batch: 28/1475  loss: 1.2494 (3.8346)  lr: 0.001000\u001b[0m\n",
            "\u001b[32m2025-01-16 15:30:22.558\u001b[0m | \u001b[1mINFO    \u001b[0m | \u001b[36m__main__\u001b[0m:\u001b[36mtrain\u001b[0m:\u001b[36m197\u001b[0m - \u001b[1mepoch: 0  batch: 42/1475  loss: 0.9343 (2.8733)  lr: 0.001000\u001b[0m\n",
            "\u001b[32m2025-01-16 15:30:34.158\u001b[0m | \u001b[1mINFO    \u001b[0m | \u001b[36m__main__\u001b[0m:\u001b[36mtrain\u001b[0m:\u001b[36m197\u001b[0m - \u001b[1mepoch: 0  batch: 56/1475  loss: 0.7876 (2.3437)  lr: 0.001000\u001b[0m\n",
            "\u001b[32m2025-01-16 15:30:45.930\u001b[0m | \u001b[1mINFO    \u001b[0m | \u001b[36m__main__\u001b[0m:\u001b[36mtrain\u001b[0m:\u001b[36m197\u001b[0m - \u001b[1mepoch: 0  batch: 70/1475  loss: 0.7166 (2.0174)  lr: 0.001000\u001b[0m\n",
            "\u001b[32m2025-01-16 15:30:57.883\u001b[0m | \u001b[1mINFO    \u001b[0m | \u001b[36m__main__\u001b[0m:\u001b[36mtrain\u001b[0m:\u001b[36m197\u001b[0m - \u001b[1mepoch: 0  batch: 84/1475  loss: 0.6707 (1.7921)  lr: 0.001000\u001b[0m\n",
            "\u001b[32m2025-01-16 15:31:09.992\u001b[0m | \u001b[1mINFO    \u001b[0m | \u001b[36m__main__\u001b[0m:\u001b[36mtrain\u001b[0m:\u001b[36m197\u001b[0m - \u001b[1mepoch: 0  batch: 98/1475  loss: 0.6248 (1.6269)  lr: 0.001000\u001b[0m\n",
            "\u001b[32m2025-01-16 15:31:22.252\u001b[0m | \u001b[1mINFO    \u001b[0m | \u001b[36m__main__\u001b[0m:\u001b[36mtrain\u001b[0m:\u001b[36m197\u001b[0m - \u001b[1mepoch: 0  batch: 112/1475  loss: 0.6161 (1.5004)  lr: 0.001000\u001b[0m\n",
            "\u001b[32m2025-01-16 15:31:34.603\u001b[0m | \u001b[1mINFO    \u001b[0m | \u001b[36m__main__\u001b[0m:\u001b[36mtrain\u001b[0m:\u001b[36m197\u001b[0m - \u001b[1mepoch: 0  batch: 126/1475  loss: 0.5840 (1.3984)  lr: 0.001000\u001b[0m\n",
            "\u001b[32m2025-01-16 15:31:46.783\u001b[0m | \u001b[1mINFO    \u001b[0m | \u001b[36m__main__\u001b[0m:\u001b[36mtrain\u001b[0m:\u001b[36m197\u001b[0m - \u001b[1mepoch: 0  batch: 140/1475  loss: 0.5776 (1.3168)  lr: 0.001000\u001b[0m\n",
            "\u001b[32m2025-01-16 15:31:58.859\u001b[0m | \u001b[1mINFO    \u001b[0m | \u001b[36m__main__\u001b[0m:\u001b[36mtrain\u001b[0m:\u001b[36m197\u001b[0m - \u001b[1mepoch: 0  batch: 154/1475  loss: 0.5520 (1.2475)  lr: 0.001000\u001b[0m\n",
            "\u001b[32m2025-01-16 15:32:10.962\u001b[0m | \u001b[1mINFO    \u001b[0m | \u001b[36m__main__\u001b[0m:\u001b[36mtrain\u001b[0m:\u001b[36m197\u001b[0m - \u001b[1mepoch: 0  batch: 168/1475  loss: 0.5520 (1.1901)  lr: 0.001000\u001b[0m\n",
            "\u001b[32m2025-01-16 15:32:22.997\u001b[0m | \u001b[1mINFO    \u001b[0m | \u001b[36m__main__\u001b[0m:\u001b[36mtrain\u001b[0m:\u001b[36m197\u001b[0m - \u001b[1mepoch: 0  batch: 182/1475  loss: 0.5571 (1.1405)  lr: 0.001000\u001b[0m\n",
            "\u001b[32m2025-01-16 15:32:35.103\u001b[0m | \u001b[1mINFO    \u001b[0m | \u001b[36m__main__\u001b[0m:\u001b[36mtrain\u001b[0m:\u001b[36m197\u001b[0m - \u001b[1mepoch: 0  batch: 196/1475  loss: 0.5775 (1.1007)  lr: 0.001000\u001b[0m\n",
            "\u001b[32m2025-01-16 15:32:47.258\u001b[0m | \u001b[1mINFO    \u001b[0m | \u001b[36m__main__\u001b[0m:\u001b[36mtrain\u001b[0m:\u001b[36m197\u001b[0m - \u001b[1mepoch: 0  batch: 210/1475  loss: 0.5601 (1.0645)  lr: 0.001000\u001b[0m\n",
            "\u001b[32m2025-01-16 15:32:59.449\u001b[0m | \u001b[1mINFO    \u001b[0m | \u001b[36m__main__\u001b[0m:\u001b[36mtrain\u001b[0m:\u001b[36m197\u001b[0m - \u001b[1mepoch: 0  batch: 224/1475  loss: 0.5313 (1.0317)  lr: 0.001000\u001b[0m\n",
            "\u001b[32m2025-01-16 15:33:11.588\u001b[0m | \u001b[1mINFO    \u001b[0m | \u001b[36m__main__\u001b[0m:\u001b[36mtrain\u001b[0m:\u001b[36m197\u001b[0m - \u001b[1mepoch: 0  batch: 238/1475  loss: 0.5233 (1.0017)  lr: 0.001000\u001b[0m\n",
            "\u001b[32m2025-01-16 15:33:23.719\u001b[0m | \u001b[1mINFO    \u001b[0m | \u001b[36m__main__\u001b[0m:\u001b[36mtrain\u001b[0m:\u001b[36m197\u001b[0m - \u001b[1mepoch: 0  batch: 252/1475  loss: 0.5233 (0.9756)  lr: 0.001000\u001b[0m\n",
            "\u001b[32m2025-01-16 15:33:35.855\u001b[0m | \u001b[1mINFO    \u001b[0m | \u001b[36m__main__\u001b[0m:\u001b[36mtrain\u001b[0m:\u001b[36m197\u001b[0m - \u001b[1mepoch: 0  batch: 266/1475  loss: 0.5343 (0.9521)  lr: 0.001000\u001b[0m\n",
            "\u001b[32m2025-01-16 15:33:47.926\u001b[0m | \u001b[1mINFO    \u001b[0m | \u001b[36m__main__\u001b[0m:\u001b[36mtrain\u001b[0m:\u001b[36m197\u001b[0m - \u001b[1mepoch: 0  batch: 280/1475  loss: 0.5003 (0.9295)  lr: 0.001000\u001b[0m\n",
            "\u001b[32m2025-01-16 15:34:00.063\u001b[0m | \u001b[1mINFO    \u001b[0m | \u001b[36m__main__\u001b[0m:\u001b[36mtrain\u001b[0m:\u001b[36m197\u001b[0m - \u001b[1mepoch: 0  batch: 294/1475  loss: 0.5030 (0.9092)  lr: 0.001000\u001b[0m\n",
            "\u001b[32m2025-01-16 15:34:12.154\u001b[0m | \u001b[1mINFO    \u001b[0m | \u001b[36m__main__\u001b[0m:\u001b[36mtrain\u001b[0m:\u001b[36m197\u001b[0m - \u001b[1mepoch: 0  batch: 308/1475  loss: 0.4935 (0.8904)  lr: 0.001000\u001b[0m\n",
            "\u001b[32m2025-01-16 15:34:24.229\u001b[0m | \u001b[1mINFO    \u001b[0m | \u001b[36m__main__\u001b[0m:\u001b[36mtrain\u001b[0m:\u001b[36m197\u001b[0m - \u001b[1mepoch: 0  batch: 322/1475  loss: 0.4930 (0.8730)  lr: 0.001000\u001b[0m\n",
            "\u001b[32m2025-01-16 15:34:36.316\u001b[0m | \u001b[1mINFO    \u001b[0m | \u001b[36m__main__\u001b[0m:\u001b[36mtrain\u001b[0m:\u001b[36m197\u001b[0m - \u001b[1mepoch: 0  batch: 336/1475  loss: 0.4894 (0.8572)  lr: 0.001000\u001b[0m\n",
            "\u001b[32m2025-01-16 15:34:48.406\u001b[0m | \u001b[1mINFO    \u001b[0m | \u001b[36m__main__\u001b[0m:\u001b[36mtrain\u001b[0m:\u001b[36m197\u001b[0m - \u001b[1mepoch: 0  batch: 350/1475  loss: 0.4867 (0.8426)  lr: 0.001000\u001b[0m\n",
            "\u001b[32m2025-01-16 15:35:00.518\u001b[0m | \u001b[1mINFO    \u001b[0m | \u001b[36m__main__\u001b[0m:\u001b[36mtrain\u001b[0m:\u001b[36m197\u001b[0m - \u001b[1mepoch: 0  batch: 364/1475  loss: 0.4833 (0.8287)  lr: 0.001000\u001b[0m\n",
            "\u001b[32m2025-01-16 15:35:12.637\u001b[0m | \u001b[1mINFO    \u001b[0m | \u001b[36m__main__\u001b[0m:\u001b[36mtrain\u001b[0m:\u001b[36m197\u001b[0m - \u001b[1mepoch: 0  batch: 378/1475  loss: 0.4773 (0.8158)  lr: 0.001000\u001b[0m\n",
            "\u001b[32m2025-01-16 15:35:24.811\u001b[0m | \u001b[1mINFO    \u001b[0m | \u001b[36m__main__\u001b[0m:\u001b[36mtrain\u001b[0m:\u001b[36m197\u001b[0m - \u001b[1mepoch: 0  batch: 392/1475  loss: 0.4775 (0.8035)  lr: 0.001000\u001b[0m\n",
            "\u001b[32m2025-01-16 15:35:36.890\u001b[0m | \u001b[1mINFO    \u001b[0m | \u001b[36m__main__\u001b[0m:\u001b[36mtrain\u001b[0m:\u001b[36m197\u001b[0m - \u001b[1mepoch: 0  batch: 406/1475  loss: 0.4769 (0.7922)  lr: 0.001000\u001b[0m\n",
            "\u001b[32m2025-01-16 15:35:49.046\u001b[0m | \u001b[1mINFO    \u001b[0m | \u001b[36m__main__\u001b[0m:\u001b[36mtrain\u001b[0m:\u001b[36m197\u001b[0m - \u001b[1mepoch: 0  batch: 420/1475  loss: 0.4744 (0.7816)  lr: 0.001000\u001b[0m\n",
            "\u001b[32m2025-01-16 15:36:01.153\u001b[0m | \u001b[1mINFO    \u001b[0m | \u001b[36m__main__\u001b[0m:\u001b[36mtrain\u001b[0m:\u001b[36m197\u001b[0m - \u001b[1mepoch: 0  batch: 434/1475  loss: 0.4684 (0.7714)  lr: 0.001000\u001b[0m\n",
            "\u001b[32m2025-01-16 15:36:13.305\u001b[0m | \u001b[1mINFO    \u001b[0m | \u001b[36m__main__\u001b[0m:\u001b[36mtrain\u001b[0m:\u001b[36m197\u001b[0m - \u001b[1mepoch: 0  batch: 448/1475  loss: 0.4582 (0.7619)  lr: 0.001000\u001b[0m\n",
            "\u001b[32m2025-01-16 15:36:25.385\u001b[0m | \u001b[1mINFO    \u001b[0m | \u001b[36m__main__\u001b[0m:\u001b[36mtrain\u001b[0m:\u001b[36m197\u001b[0m - \u001b[1mepoch: 0  batch: 462/1475  loss: 0.4609 (0.7529)  lr: 0.001000\u001b[0m\n",
            "\u001b[32m2025-01-16 15:36:37.427\u001b[0m | \u001b[1mINFO    \u001b[0m | \u001b[36m__main__\u001b[0m:\u001b[36mtrain\u001b[0m:\u001b[36m197\u001b[0m - \u001b[1mepoch: 0  batch: 476/1475  loss: 0.4769 (0.7448)  lr: 0.001000\u001b[0m\n",
            "\u001b[32m2025-01-16 15:36:49.521\u001b[0m | \u001b[1mINFO    \u001b[0m | \u001b[36m__main__\u001b[0m:\u001b[36mtrain\u001b[0m:\u001b[36m197\u001b[0m - \u001b[1mepoch: 0  batch: 490/1475  loss: 0.4643 (0.7369)  lr: 0.001000\u001b[0m\n",
            "\u001b[32m2025-01-16 15:37:01.604\u001b[0m | \u001b[1mINFO    \u001b[0m | \u001b[36m__main__\u001b[0m:\u001b[36mtrain\u001b[0m:\u001b[36m197\u001b[0m - \u001b[1mepoch: 0  batch: 504/1475  loss: 0.4468 (0.7292)  lr: 0.001000\u001b[0m\n",
            "\u001b[32m2025-01-16 15:37:13.735\u001b[0m | \u001b[1mINFO    \u001b[0m | \u001b[36m__main__\u001b[0m:\u001b[36mtrain\u001b[0m:\u001b[36m197\u001b[0m - \u001b[1mepoch: 0  batch: 518/1475  loss: 0.4551 (0.7222)  lr: 0.001000\u001b[0m\n",
            "\u001b[32m2025-01-16 15:37:25.799\u001b[0m | \u001b[1mINFO    \u001b[0m | \u001b[36m__main__\u001b[0m:\u001b[36mtrain\u001b[0m:\u001b[36m197\u001b[0m - \u001b[1mepoch: 0  batch: 532/1475  loss: 0.4551 (0.7183)  lr: 0.001000\u001b[0m\n",
            "\u001b[32m2025-01-16 15:37:37.893\u001b[0m | \u001b[1mINFO    \u001b[0m | \u001b[36m__main__\u001b[0m:\u001b[36mtrain\u001b[0m:\u001b[36m197\u001b[0m - \u001b[1mepoch: 0  batch: 546/1475  loss: 0.4648 (0.7119)  lr: 0.001000\u001b[0m\n",
            "\u001b[32m2025-01-16 15:37:49.990\u001b[0m | \u001b[1mINFO    \u001b[0m | \u001b[36m__main__\u001b[0m:\u001b[36mtrain\u001b[0m:\u001b[36m197\u001b[0m - \u001b[1mepoch: 0  batch: 560/1475  loss: 0.4600 (0.7056)  lr: 0.001000\u001b[0m\n",
            "\u001b[32m2025-01-16 15:38:02.065\u001b[0m | \u001b[1mINFO    \u001b[0m | \u001b[36m__main__\u001b[0m:\u001b[36mtrain\u001b[0m:\u001b[36m197\u001b[0m - \u001b[1mepoch: 0  batch: 574/1475  loss: 0.4482 (0.6993)  lr: 0.001000\u001b[0m\n",
            "\u001b[32m2025-01-16 15:38:14.138\u001b[0m | \u001b[1mINFO    \u001b[0m | \u001b[36m__main__\u001b[0m:\u001b[36mtrain\u001b[0m:\u001b[36m197\u001b[0m - \u001b[1mepoch: 0  batch: 588/1475  loss: 0.4409 (0.6932)  lr: 0.001000\u001b[0m\n",
            "\u001b[32m2025-01-16 15:38:26.188\u001b[0m | \u001b[1mINFO    \u001b[0m | \u001b[36m__main__\u001b[0m:\u001b[36mtrain\u001b[0m:\u001b[36m197\u001b[0m - \u001b[1mepoch: 0  batch: 602/1475  loss: 0.4424 (0.6872)  lr: 0.001000\u001b[0m\n",
            "\u001b[32m2025-01-16 15:38:38.235\u001b[0m | \u001b[1mINFO    \u001b[0m | \u001b[36m__main__\u001b[0m:\u001b[36mtrain\u001b[0m:\u001b[36m197\u001b[0m - \u001b[1mepoch: 0  batch: 616/1475  loss: 0.4433 (0.6817)  lr: 0.001000\u001b[0m\n",
            "\u001b[32m2025-01-16 15:38:50.282\u001b[0m | \u001b[1mINFO    \u001b[0m | \u001b[36m__main__\u001b[0m:\u001b[36mtrain\u001b[0m:\u001b[36m197\u001b[0m - \u001b[1mepoch: 0  batch: 630/1475  loss: 0.4418 (0.6763)  lr: 0.001000\u001b[0m\n",
            "\u001b[32m2025-01-16 15:39:02.393\u001b[0m | \u001b[1mINFO    \u001b[0m | \u001b[36m__main__\u001b[0m:\u001b[36mtrain\u001b[0m:\u001b[36m197\u001b[0m - \u001b[1mepoch: 0  batch: 644/1475  loss: 0.4386 (0.6711)  lr: 0.001000\u001b[0m\n",
            "\u001b[32m2025-01-16 15:39:14.459\u001b[0m | \u001b[1mINFO    \u001b[0m | \u001b[36m__main__\u001b[0m:\u001b[36mtrain\u001b[0m:\u001b[36m197\u001b[0m - \u001b[1mepoch: 0  batch: 658/1475  loss: 0.4140 (0.6657)  lr: 0.001000\u001b[0m\n",
            "\u001b[32m2025-01-16 15:39:26.508\u001b[0m | \u001b[1mINFO    \u001b[0m | \u001b[36m__main__\u001b[0m:\u001b[36mtrain\u001b[0m:\u001b[36m197\u001b[0m - \u001b[1mepoch: 0  batch: 672/1475  loss: 0.4185 (0.6608)  lr: 0.001000\u001b[0m\n",
            "\u001b[32m2025-01-16 15:39:38.652\u001b[0m | \u001b[1mINFO    \u001b[0m | \u001b[36m__main__\u001b[0m:\u001b[36mtrain\u001b[0m:\u001b[36m197\u001b[0m - \u001b[1mepoch: 0  batch: 686/1475  loss: 0.4325 (0.6564)  lr: 0.001000\u001b[0m\n",
            "\u001b[32m2025-01-16 15:39:50.737\u001b[0m | \u001b[1mINFO    \u001b[0m | \u001b[36m__main__\u001b[0m:\u001b[36mtrain\u001b[0m:\u001b[36m197\u001b[0m - \u001b[1mepoch: 0  batch: 700/1475  loss: 0.4386 (0.6520)  lr: 0.001000\u001b[0m\n",
            "\u001b[32m2025-01-16 15:40:02.796\u001b[0m | \u001b[1mINFO    \u001b[0m | \u001b[36m__main__\u001b[0m:\u001b[36mtrain\u001b[0m:\u001b[36m197\u001b[0m - \u001b[1mepoch: 0  batch: 714/1475  loss: 0.4323 (0.6476)  lr: 0.001000\u001b[0m\n",
            "\u001b[32m2025-01-16 15:40:14.923\u001b[0m | \u001b[1mINFO    \u001b[0m | \u001b[36m__main__\u001b[0m:\u001b[36mtrain\u001b[0m:\u001b[36m197\u001b[0m - \u001b[1mepoch: 0  batch: 728/1475  loss: 0.4307 (0.6435)  lr: 0.001000\u001b[0m\n",
            "\u001b[32m2025-01-16 15:40:27.026\u001b[0m | \u001b[1mINFO    \u001b[0m | \u001b[36m__main__\u001b[0m:\u001b[36mtrain\u001b[0m:\u001b[36m197\u001b[0m - \u001b[1mepoch: 0  batch: 742/1475  loss: 0.4271 (0.6396)  lr: 0.001000\u001b[0m\n",
            "\u001b[32m2025-01-16 15:40:39.157\u001b[0m | \u001b[1mINFO    \u001b[0m | \u001b[36m__main__\u001b[0m:\u001b[36mtrain\u001b[0m:\u001b[36m197\u001b[0m - \u001b[1mepoch: 0  batch: 756/1475  loss: 0.4228 (0.6356)  lr: 0.001000\u001b[0m\n",
            "\u001b[32m2025-01-16 15:40:51.270\u001b[0m | \u001b[1mINFO    \u001b[0m | \u001b[36m__main__\u001b[0m:\u001b[36mtrain\u001b[0m:\u001b[36m197\u001b[0m - \u001b[1mepoch: 0  batch: 770/1475  loss: 0.4228 (0.6318)  lr: 0.001000\u001b[0m\n",
            "\u001b[32m2025-01-16 15:41:03.413\u001b[0m | \u001b[1mINFO    \u001b[0m | \u001b[36m__main__\u001b[0m:\u001b[36mtrain\u001b[0m:\u001b[36m197\u001b[0m - \u001b[1mepoch: 0  batch: 784/1475  loss: 0.4137 (0.6278)  lr: 0.001000\u001b[0m\n",
            "\u001b[32m2025-01-16 15:41:15.544\u001b[0m | \u001b[1mINFO    \u001b[0m | \u001b[36m__main__\u001b[0m:\u001b[36mtrain\u001b[0m:\u001b[36m197\u001b[0m - \u001b[1mepoch: 0  batch: 798/1475  loss: 0.4186 (0.6243)  lr: 0.001000\u001b[0m\n",
            "\u001b[32m2025-01-16 15:41:27.631\u001b[0m | \u001b[1mINFO    \u001b[0m | \u001b[36m__main__\u001b[0m:\u001b[36mtrain\u001b[0m:\u001b[36m197\u001b[0m - \u001b[1mepoch: 0  batch: 812/1475  loss: 0.4122 (0.6206)  lr: 0.001000\u001b[0m\n",
            "\u001b[32m2025-01-16 15:41:39.727\u001b[0m | \u001b[1mINFO    \u001b[0m | \u001b[36m__main__\u001b[0m:\u001b[36mtrain\u001b[0m:\u001b[36m197\u001b[0m - \u001b[1mepoch: 0  batch: 826/1475  loss: 0.4139 (0.6170)  lr: 0.001000\u001b[0m\n",
            "\u001b[32m2025-01-16 15:41:51.782\u001b[0m | \u001b[1mINFO    \u001b[0m | \u001b[36m__main__\u001b[0m:\u001b[36mtrain\u001b[0m:\u001b[36m197\u001b[0m - \u001b[1mepoch: 0  batch: 840/1475  loss: 0.4105 (0.6137)  lr: 0.001000\u001b[0m\n",
            "\u001b[32m2025-01-16 15:42:03.858\u001b[0m | \u001b[1mINFO    \u001b[0m | \u001b[36m__main__\u001b[0m:\u001b[36mtrain\u001b[0m:\u001b[36m197\u001b[0m - \u001b[1mepoch: 0  batch: 854/1475  loss: 0.4097 (0.6103)  lr: 0.001000\u001b[0m\n",
            "\u001b[32m2025-01-16 15:42:15.953\u001b[0m | \u001b[1mINFO    \u001b[0m | \u001b[36m__main__\u001b[0m:\u001b[36mtrain\u001b[0m:\u001b[36m197\u001b[0m - \u001b[1mepoch: 0  batch: 868/1475  loss: 0.4026 (0.6069)  lr: 0.001000\u001b[0m\n",
            "\u001b[32m2025-01-16 15:42:28.065\u001b[0m | \u001b[1mINFO    \u001b[0m | \u001b[36m__main__\u001b[0m:\u001b[36mtrain\u001b[0m:\u001b[36m197\u001b[0m - \u001b[1mepoch: 0  batch: 882/1475  loss: 0.4024 (0.6037)  lr: 0.001000\u001b[0m\n",
            "\u001b[32m2025-01-16 15:42:40.186\u001b[0m | \u001b[1mINFO    \u001b[0m | \u001b[36m__main__\u001b[0m:\u001b[36mtrain\u001b[0m:\u001b[36m197\u001b[0m - \u001b[1mepoch: 0  batch: 896/1475  loss: 0.4045 (0.6006)  lr: 0.001000\u001b[0m\n",
            "\u001b[32m2025-01-16 15:42:52.302\u001b[0m | \u001b[1mINFO    \u001b[0m | \u001b[36m__main__\u001b[0m:\u001b[36mtrain\u001b[0m:\u001b[36m197\u001b[0m - \u001b[1mepoch: 0  batch: 910/1475  loss: 0.4045 (0.5976)  lr: 0.001000\u001b[0m\n",
            "\u001b[32m2025-01-16 15:43:04.486\u001b[0m | \u001b[1mINFO    \u001b[0m | \u001b[36m__main__\u001b[0m:\u001b[36mtrain\u001b[0m:\u001b[36m197\u001b[0m - \u001b[1mepoch: 0  batch: 924/1475  loss: 0.4021 (0.5948)  lr: 0.001000\u001b[0m\n",
            "\u001b[32m2025-01-16 15:43:16.578\u001b[0m | \u001b[1mINFO    \u001b[0m | \u001b[36m__main__\u001b[0m:\u001b[36mtrain\u001b[0m:\u001b[36m197\u001b[0m - \u001b[1mepoch: 0  batch: 938/1475  loss: 0.3982 (0.5919)  lr: 0.001000\u001b[0m\n",
            "\u001b[32m2025-01-16 15:43:28.654\u001b[0m | \u001b[1mINFO    \u001b[0m | \u001b[36m__main__\u001b[0m:\u001b[36mtrain\u001b[0m:\u001b[36m197\u001b[0m - \u001b[1mepoch: 0  batch: 952/1475  loss: 0.4028 (0.5891)  lr: 0.001000\u001b[0m\n",
            "\u001b[32m2025-01-16 15:43:40.736\u001b[0m | \u001b[1mINFO    \u001b[0m | \u001b[36m__main__\u001b[0m:\u001b[36mtrain\u001b[0m:\u001b[36m197\u001b[0m - \u001b[1mepoch: 0  batch: 966/1475  loss: 0.3957 (0.5864)  lr: 0.001000\u001b[0m\n",
            "\u001b[32m2025-01-16 15:43:52.886\u001b[0m | \u001b[1mINFO    \u001b[0m | \u001b[36m__main__\u001b[0m:\u001b[36mtrain\u001b[0m:\u001b[36m197\u001b[0m - \u001b[1mepoch: 0  batch: 980/1475  loss: 0.3882 (0.5836)  lr: 0.001000\u001b[0m\n",
            "\u001b[32m2025-01-16 15:44:05.044\u001b[0m | \u001b[1mINFO    \u001b[0m | \u001b[36m__main__\u001b[0m:\u001b[36mtrain\u001b[0m:\u001b[36m197\u001b[0m - \u001b[1mepoch: 0  batch: 994/1475  loss: 0.3997 (0.5812)  lr: 0.001000\u001b[0m\n",
            "\u001b[32m2025-01-16 15:44:17.130\u001b[0m | \u001b[1mINFO    \u001b[0m | \u001b[36m__main__\u001b[0m:\u001b[36mtrain\u001b[0m:\u001b[36m197\u001b[0m - \u001b[1mepoch: 0  batch: 1008/1475  loss: 0.3915 (0.5785)  lr: 0.001000\u001b[0m\n",
            "\u001b[32m2025-01-16 15:44:29.249\u001b[0m | \u001b[1mINFO    \u001b[0m | \u001b[36m__main__\u001b[0m:\u001b[36mtrain\u001b[0m:\u001b[36m197\u001b[0m - \u001b[1mepoch: 0  batch: 1022/1475  loss: 0.3936 (0.5760)  lr: 0.001000\u001b[0m\n",
            "\u001b[32m2025-01-16 15:44:41.338\u001b[0m | \u001b[1mINFO    \u001b[0m | \u001b[36m__main__\u001b[0m:\u001b[36mtrain\u001b[0m:\u001b[36m197\u001b[0m - \u001b[1mepoch: 0  batch: 1036/1475  loss: 0.3924 (0.5735)  lr: 0.001000\u001b[0m\n",
            "\u001b[32m2025-01-16 15:44:53.403\u001b[0m | \u001b[1mINFO    \u001b[0m | \u001b[36m__main__\u001b[0m:\u001b[36mtrain\u001b[0m:\u001b[36m197\u001b[0m - \u001b[1mepoch: 0  batch: 1050/1475  loss: 0.3886 (0.5710)  lr: 0.001000\u001b[0m\n",
            "\u001b[32m2025-01-16 15:45:05.511\u001b[0m | \u001b[1mINFO    \u001b[0m | \u001b[36m__main__\u001b[0m:\u001b[36mtrain\u001b[0m:\u001b[36m197\u001b[0m - \u001b[1mepoch: 0  batch: 1064/1475  loss: 0.3963 (0.5688)  lr: 0.001000\u001b[0m\n",
            "\u001b[32m2025-01-16 15:45:17.570\u001b[0m | \u001b[1mINFO    \u001b[0m | \u001b[36m__main__\u001b[0m:\u001b[36mtrain\u001b[0m:\u001b[36m197\u001b[0m - \u001b[1mepoch: 0  batch: 1078/1475  loss: 0.3888 (0.5664)  lr: 0.001000\u001b[0m\n",
            "\u001b[32m2025-01-16 15:45:29.656\u001b[0m | \u001b[1mINFO    \u001b[0m | \u001b[36m__main__\u001b[0m:\u001b[36mtrain\u001b[0m:\u001b[36m197\u001b[0m - \u001b[1mepoch: 0  batch: 1092/1475  loss: 0.3859 (0.5641)  lr: 0.001000\u001b[0m\n",
            "\u001b[32m2025-01-16 15:45:41.779\u001b[0m | \u001b[1mINFO    \u001b[0m | \u001b[36m__main__\u001b[0m:\u001b[36mtrain\u001b[0m:\u001b[36m197\u001b[0m - \u001b[1mepoch: 0  batch: 1106/1475  loss: 0.4067 (0.5622)  lr: 0.001000\u001b[0m\n",
            "\u001b[32m2025-01-16 15:45:53.907\u001b[0m | \u001b[1mINFO    \u001b[0m | \u001b[36m__main__\u001b[0m:\u001b[36mtrain\u001b[0m:\u001b[36m197\u001b[0m - \u001b[1mepoch: 0  batch: 1120/1475  loss: 0.3932 (0.5601)  lr: 0.001000\u001b[0m\n",
            "\u001b[32m2025-01-16 15:46:06.038\u001b[0m | \u001b[1mINFO    \u001b[0m | \u001b[36m__main__\u001b[0m:\u001b[36mtrain\u001b[0m:\u001b[36m197\u001b[0m - \u001b[1mepoch: 0  batch: 1134/1475  loss: 0.3973 (0.5582)  lr: 0.001000\u001b[0m\n",
            "\u001b[32m2025-01-16 15:46:18.184\u001b[0m | \u001b[1mINFO    \u001b[0m | \u001b[36m__main__\u001b[0m:\u001b[36mtrain\u001b[0m:\u001b[36m197\u001b[0m - \u001b[1mepoch: 0  batch: 1148/1475  loss: 0.4272 (0.5566)  lr: 0.001000\u001b[0m\n",
            "\u001b[32m2025-01-16 15:46:30.294\u001b[0m | \u001b[1mINFO    \u001b[0m | \u001b[36m__main__\u001b[0m:\u001b[36mtrain\u001b[0m:\u001b[36m197\u001b[0m - \u001b[1mepoch: 0  batch: 1162/1475  loss: 0.3914 (0.5546)  lr: 0.001000\u001b[0m\n",
            "\u001b[32m2025-01-16 15:46:42.369\u001b[0m | \u001b[1mINFO    \u001b[0m | \u001b[36m__main__\u001b[0m:\u001b[36mtrain\u001b[0m:\u001b[36m197\u001b[0m - \u001b[1mepoch: 0  batch: 1176/1475  loss: 0.3817 (0.5526)  lr: 0.001000\u001b[0m\n",
            "\u001b[32m2025-01-16 15:46:54.478\u001b[0m | \u001b[1mINFO    \u001b[0m | \u001b[36m__main__\u001b[0m:\u001b[36mtrain\u001b[0m:\u001b[36m197\u001b[0m - \u001b[1mepoch: 0  batch: 1190/1475  loss: 0.3841 (0.5506)  lr: 0.001000\u001b[0m\n",
            "\u001b[32m2025-01-16 15:47:06.601\u001b[0m | \u001b[1mINFO    \u001b[0m | \u001b[36m__main__\u001b[0m:\u001b[36mtrain\u001b[0m:\u001b[36m197\u001b[0m - \u001b[1mepoch: 0  batch: 1204/1475  loss: 0.3871 (0.5488)  lr: 0.001000\u001b[0m\n",
            "\u001b[32m2025-01-16 15:47:18.699\u001b[0m | \u001b[1mINFO    \u001b[0m | \u001b[36m__main__\u001b[0m:\u001b[36mtrain\u001b[0m:\u001b[36m197\u001b[0m - \u001b[1mepoch: 0  batch: 1218/1475  loss: 0.3793 (0.5469)  lr: 0.001000\u001b[0m\n",
            "\u001b[32m2025-01-16 15:47:30.820\u001b[0m | \u001b[1mINFO    \u001b[0m | \u001b[36m__main__\u001b[0m:\u001b[36mtrain\u001b[0m:\u001b[36m197\u001b[0m - \u001b[1mepoch: 0  batch: 1232/1475  loss: 0.3784 (0.5451)  lr: 0.001000\u001b[0m\n",
            "\u001b[32m2025-01-16 15:47:42.968\u001b[0m | \u001b[1mINFO    \u001b[0m | \u001b[36m__main__\u001b[0m:\u001b[36mtrain\u001b[0m:\u001b[36m197\u001b[0m - \u001b[1mepoch: 0  batch: 1246/1475  loss: 0.3832 (0.5433)  lr: 0.001000\u001b[0m\n",
            "\u001b[32m2025-01-16 15:47:55.074\u001b[0m | \u001b[1mINFO    \u001b[0m | \u001b[36m__main__\u001b[0m:\u001b[36mtrain\u001b[0m:\u001b[36m197\u001b[0m - \u001b[1mepoch: 0  batch: 1260/1475  loss: 0.3806 (0.5415)  lr: 0.001000\u001b[0m\n",
            "\u001b[32m2025-01-16 15:48:07.181\u001b[0m | \u001b[1mINFO    \u001b[0m | \u001b[36m__main__\u001b[0m:\u001b[36mtrain\u001b[0m:\u001b[36m197\u001b[0m - \u001b[1mepoch: 0  batch: 1274/1475  loss: 0.3725 (0.5397)  lr: 0.001000\u001b[0m\n",
            "\u001b[32m2025-01-16 15:48:19.313\u001b[0m | \u001b[1mINFO    \u001b[0m | \u001b[36m__main__\u001b[0m:\u001b[36mtrain\u001b[0m:\u001b[36m197\u001b[0m - \u001b[1mepoch: 0  batch: 1288/1475  loss: 0.3697 (0.5379)  lr: 0.001000\u001b[0m\n",
            "\u001b[32m2025-01-16 15:48:31.399\u001b[0m | \u001b[1mINFO    \u001b[0m | \u001b[36m__main__\u001b[0m:\u001b[36mtrain\u001b[0m:\u001b[36m197\u001b[0m - \u001b[1mepoch: 0  batch: 1302/1475  loss: 0.3679 (0.5361)  lr: 0.001000\u001b[0m\n",
            "\u001b[32m2025-01-16 15:48:43.506\u001b[0m | \u001b[1mINFO    \u001b[0m | \u001b[36m__main__\u001b[0m:\u001b[36mtrain\u001b[0m:\u001b[36m197\u001b[0m - \u001b[1mepoch: 0  batch: 1316/1475  loss: 0.3653 (0.5343)  lr: 0.001000\u001b[0m\n",
            "\u001b[32m2025-01-16 15:48:55.651\u001b[0m | \u001b[1mINFO    \u001b[0m | \u001b[36m__main__\u001b[0m:\u001b[36mtrain\u001b[0m:\u001b[36m197\u001b[0m - \u001b[1mepoch: 0  batch: 1330/1475  loss: 0.3676 (0.5326)  lr: 0.001000\u001b[0m\n",
            "\u001b[32m2025-01-16 15:49:07.759\u001b[0m | \u001b[1mINFO    \u001b[0m | \u001b[36m__main__\u001b[0m:\u001b[36mtrain\u001b[0m:\u001b[36m197\u001b[0m - \u001b[1mepoch: 0  batch: 1344/1475  loss: 0.3664 (0.5309)  lr: 0.001000\u001b[0m\n",
            "\u001b[32m2025-01-16 15:49:19.868\u001b[0m | \u001b[1mINFO    \u001b[0m | \u001b[36m__main__\u001b[0m:\u001b[36mtrain\u001b[0m:\u001b[36m197\u001b[0m - \u001b[1mepoch: 0  batch: 1358/1475  loss: 0.3759 (0.5293)  lr: 0.001000\u001b[0m\n",
            "\u001b[32m2025-01-16 15:49:32.052\u001b[0m | \u001b[1mINFO    \u001b[0m | \u001b[36m__main__\u001b[0m:\u001b[36mtrain\u001b[0m:\u001b[36m197\u001b[0m - \u001b[1mepoch: 0  batch: 1372/1475  loss: 0.3705 (0.5277)  lr: 0.001000\u001b[0m\n",
            "\u001b[32m2025-01-16 15:49:44.173\u001b[0m | \u001b[1mINFO    \u001b[0m | \u001b[36m__main__\u001b[0m:\u001b[36mtrain\u001b[0m:\u001b[36m197\u001b[0m - \u001b[1mepoch: 0  batch: 1386/1475  loss: 0.3679 (0.5260)  lr: 0.001000\u001b[0m\n",
            "\u001b[32m2025-01-16 15:49:56.257\u001b[0m | \u001b[1mINFO    \u001b[0m | \u001b[36m__main__\u001b[0m:\u001b[36mtrain\u001b[0m:\u001b[36m197\u001b[0m - \u001b[1mepoch: 0  batch: 1400/1475  loss: 0.3654 (0.5244)  lr: 0.001000\u001b[0m\n",
            "\u001b[32m2025-01-16 15:50:08.381\u001b[0m | \u001b[1mINFO    \u001b[0m | \u001b[36m__main__\u001b[0m:\u001b[36mtrain\u001b[0m:\u001b[36m197\u001b[0m - \u001b[1mepoch: 0  batch: 1414/1475  loss: 0.3669 (0.5228)  lr: 0.001000\u001b[0m\n",
            "\u001b[32m2025-01-16 15:50:20.499\u001b[0m | \u001b[1mINFO    \u001b[0m | \u001b[36m__main__\u001b[0m:\u001b[36mtrain\u001b[0m:\u001b[36m197\u001b[0m - \u001b[1mepoch: 0  batch: 1428/1475  loss: 0.3707 (0.5213)  lr: 0.001000\u001b[0m\n",
            "\u001b[32m2025-01-16 15:50:32.608\u001b[0m | \u001b[1mINFO    \u001b[0m | \u001b[36m__main__\u001b[0m:\u001b[36mtrain\u001b[0m:\u001b[36m197\u001b[0m - \u001b[1mepoch: 0  batch: 1442/1475  loss: 0.3603 (0.5197)  lr: 0.001000\u001b[0m\n",
            "\u001b[32m2025-01-16 15:50:44.772\u001b[0m | \u001b[1mINFO    \u001b[0m | \u001b[36m__main__\u001b[0m:\u001b[36mtrain\u001b[0m:\u001b[36m197\u001b[0m - \u001b[1mepoch: 0  batch: 1456/1475  loss: 0.3497 (0.5182)  lr: 0.001000\u001b[0m\n",
            "\u001b[32m2025-01-16 15:50:56.871\u001b[0m | \u001b[1mINFO    \u001b[0m | \u001b[36m__main__\u001b[0m:\u001b[36mtrain\u001b[0m:\u001b[36m197\u001b[0m - \u001b[1mepoch: 0  batch: 1470/1475  loss: 0.3502 (0.5166)  lr: 0.001000\u001b[0m\n",
            "\u001b[32m2025-01-16 15:51:00.937\u001b[0m | \u001b[1mINFO    \u001b[0m | \u001b[36m__main__\u001b[0m:\u001b[36mtrain\u001b[0m:\u001b[36m219\u001b[0m - \u001b[1mFinish epoch: 0, without validation\u001b[0m\n",
            "\u001b[32m2025-01-16 15:51:14.416\u001b[0m | \u001b[1mINFO    \u001b[0m | \u001b[36m__main__\u001b[0m:\u001b[36mtrain\u001b[0m:\u001b[36m197\u001b[0m - \u001b[1mepoch: 1  batch: 14/1475  loss: 0.3493 (0.5145)  lr: 0.001000\u001b[0m\n",
            "\u001b[32m2025-01-16 15:51:26.508\u001b[0m | \u001b[1mINFO    \u001b[0m | \u001b[36m__main__\u001b[0m:\u001b[36mtrain\u001b[0m:\u001b[36m197\u001b[0m - \u001b[1mepoch: 1  batch: 28/1475  loss: 0.3457 (0.5128)  lr: 0.001000\u001b[0m\n",
            "\u001b[32m2025-01-16 15:51:38.661\u001b[0m | \u001b[1mINFO    \u001b[0m | \u001b[36m__main__\u001b[0m:\u001b[36mtrain\u001b[0m:\u001b[36m197\u001b[0m - \u001b[1mepoch: 1  batch: 42/1475  loss: 0.3426 (0.5113)  lr: 0.001000\u001b[0m\n",
            "\u001b[32m2025-01-16 15:51:50.795\u001b[0m | \u001b[1mINFO    \u001b[0m | \u001b[36m__main__\u001b[0m:\u001b[36mtrain\u001b[0m:\u001b[36m197\u001b[0m - \u001b[1mepoch: 1  batch: 56/1475  loss: 0.3440 (0.5098)  lr: 0.001000\u001b[0m\n",
            "\u001b[32m2025-01-16 15:52:02.893\u001b[0m | \u001b[1mINFO    \u001b[0m | \u001b[36m__main__\u001b[0m:\u001b[36mtrain\u001b[0m:\u001b[36m197\u001b[0m - \u001b[1mepoch: 1  batch: 70/1475  loss: 0.3388 (0.5082)  lr: 0.001000\u001b[0m\n",
            "\u001b[32m2025-01-16 15:52:15.065\u001b[0m | \u001b[1mINFO    \u001b[0m | \u001b[36m__main__\u001b[0m:\u001b[36mtrain\u001b[0m:\u001b[36m197\u001b[0m - \u001b[1mepoch: 1  batch: 84/1475  loss: 0.3348 (0.5067)  lr: 0.001000\u001b[0m\n",
            "\u001b[32m2025-01-16 15:52:27.139\u001b[0m | \u001b[1mINFO    \u001b[0m | \u001b[36m__main__\u001b[0m:\u001b[36mtrain\u001b[0m:\u001b[36m197\u001b[0m - \u001b[1mepoch: 1  batch: 98/1475  loss: 0.3431 (0.5053)  lr: 0.001000\u001b[0m\n",
            "\u001b[32m2025-01-16 15:52:39.228\u001b[0m | \u001b[1mINFO    \u001b[0m | \u001b[36m__main__\u001b[0m:\u001b[36mtrain\u001b[0m:\u001b[36m197\u001b[0m - \u001b[1mepoch: 1  batch: 112/1475  loss: 0.3379 (0.5039)  lr: 0.001000\u001b[0m\n",
            "\u001b[32m2025-01-16 15:52:51.295\u001b[0m | \u001b[1mINFO    \u001b[0m | \u001b[36m__main__\u001b[0m:\u001b[36mtrain\u001b[0m:\u001b[36m197\u001b[0m - \u001b[1mepoch: 1  batch: 126/1475  loss: 0.3402 (0.5024)  lr: 0.001000\u001b[0m\n",
            "\u001b[32m2025-01-16 15:53:03.387\u001b[0m | \u001b[1mINFO    \u001b[0m | \u001b[36m__main__\u001b[0m:\u001b[36mtrain\u001b[0m:\u001b[36m197\u001b[0m - \u001b[1mepoch: 1  batch: 140/1475  loss: 0.3369 (0.5010)  lr: 0.001000\u001b[0m\n",
            "\u001b[32m2025-01-16 15:53:15.459\u001b[0m | \u001b[1mINFO    \u001b[0m | \u001b[36m__main__\u001b[0m:\u001b[36mtrain\u001b[0m:\u001b[36m197\u001b[0m - \u001b[1mepoch: 1  batch: 154/1475  loss: 0.3332 (0.4996)  lr: 0.001000\u001b[0m\n",
            "\u001b[32m2025-01-16 15:53:27.551\u001b[0m | \u001b[1mINFO    \u001b[0m | \u001b[36m__main__\u001b[0m:\u001b[36mtrain\u001b[0m:\u001b[36m197\u001b[0m - \u001b[1mepoch: 1  batch: 168/1475  loss: 0.3355 (0.4983)  lr: 0.001000\u001b[0m\n",
            "\u001b[32m2025-01-16 15:53:39.629\u001b[0m | \u001b[1mINFO    \u001b[0m | \u001b[36m__main__\u001b[0m:\u001b[36mtrain\u001b[0m:\u001b[36m197\u001b[0m - \u001b[1mepoch: 1  batch: 182/1475  loss: 0.3381 (0.4969)  lr: 0.001000\u001b[0m\n",
            "\u001b[32m2025-01-16 15:53:51.788\u001b[0m | \u001b[1mINFO    \u001b[0m | \u001b[36m__main__\u001b[0m:\u001b[36mtrain\u001b[0m:\u001b[36m197\u001b[0m - \u001b[1mepoch: 1  batch: 196/1475  loss: 0.3289 (0.4955)  lr: 0.001000\u001b[0m\n",
            "\u001b[32m2025-01-16 15:54:03.935\u001b[0m | \u001b[1mINFO    \u001b[0m | \u001b[36m__main__\u001b[0m:\u001b[36mtrain\u001b[0m:\u001b[36m197\u001b[0m - \u001b[1mepoch: 1  batch: 210/1475  loss: 0.3330 (0.4942)  lr: 0.001000\u001b[0m\n",
            "\u001b[32m2025-01-16 15:54:16.066\u001b[0m | \u001b[1mINFO    \u001b[0m | \u001b[36m__main__\u001b[0m:\u001b[36mtrain\u001b[0m:\u001b[36m197\u001b[0m - \u001b[1mepoch: 1  batch: 224/1475  loss: 0.3645 (0.4932)  lr: 0.001000\u001b[0m\n",
            "\u001b[32m2025-01-16 15:54:28.169\u001b[0m | \u001b[1mINFO    \u001b[0m | \u001b[36m__main__\u001b[0m:\u001b[36mtrain\u001b[0m:\u001b[36m197\u001b[0m - \u001b[1mepoch: 1  batch: 238/1475  loss: 0.3524 (0.4920)  lr: 0.001000\u001b[0m\n",
            "\u001b[32m2025-01-16 15:54:40.278\u001b[0m | \u001b[1mINFO    \u001b[0m | \u001b[36m__main__\u001b[0m:\u001b[36mtrain\u001b[0m:\u001b[36m197\u001b[0m - \u001b[1mepoch: 1  batch: 252/1475  loss: 0.3452 (0.4908)  lr: 0.001000\u001b[0m\n",
            "\u001b[32m2025-01-16 15:54:52.381\u001b[0m | \u001b[1mINFO    \u001b[0m | \u001b[36m__main__\u001b[0m:\u001b[36mtrain\u001b[0m:\u001b[36m197\u001b[0m - \u001b[1mepoch: 1  batch: 266/1475  loss: 0.3414 (0.4895)  lr: 0.001000\u001b[0m\n",
            "\u001b[32m2025-01-16 15:55:04.505\u001b[0m | \u001b[1mINFO    \u001b[0m | \u001b[36m__main__\u001b[0m:\u001b[36mtrain\u001b[0m:\u001b[36m197\u001b[0m - \u001b[1mepoch: 1  batch: 280/1475  loss: 0.3391 (0.4883)  lr: 0.001000\u001b[0m\n",
            "\u001b[32m2025-01-16 15:55:16.598\u001b[0m | \u001b[1mINFO    \u001b[0m | \u001b[36m__main__\u001b[0m:\u001b[36mtrain\u001b[0m:\u001b[36m197\u001b[0m - \u001b[1mepoch: 1  batch: 294/1475  loss: 0.3268 (0.4871)  lr: 0.001000\u001b[0m\n",
            "\u001b[32m2025-01-16 15:55:28.646\u001b[0m | \u001b[1mINFO    \u001b[0m | \u001b[36m__main__\u001b[0m:\u001b[36mtrain\u001b[0m:\u001b[36m197\u001b[0m - \u001b[1mepoch: 1  batch: 308/1475  loss: 0.3368 (0.4859)  lr: 0.001000\u001b[0m\n",
            "\u001b[32m2025-01-16 15:55:40.765\u001b[0m | \u001b[1mINFO    \u001b[0m | \u001b[36m__main__\u001b[0m:\u001b[36mtrain\u001b[0m:\u001b[36m197\u001b[0m - \u001b[1mepoch: 1  batch: 322/1475  loss: 0.3433 (0.4849)  lr: 0.001000\u001b[0m\n",
            "\u001b[32m2025-01-16 15:55:52.834\u001b[0m | \u001b[1mINFO    \u001b[0m | \u001b[36m__main__\u001b[0m:\u001b[36mtrain\u001b[0m:\u001b[36m197\u001b[0m - \u001b[1mepoch: 1  batch: 336/1475  loss: 0.3381 (0.4837)  lr: 0.001000\u001b[0m\n",
            "\u001b[32m2025-01-16 15:56:04.903\u001b[0m | \u001b[1mINFO    \u001b[0m | \u001b[36m__main__\u001b[0m:\u001b[36mtrain\u001b[0m:\u001b[36m197\u001b[0m - \u001b[1mepoch: 1  batch: 350/1475  loss: 0.3258 (0.4825)  lr: 0.001000\u001b[0m\n",
            "\u001b[32m2025-01-16 15:56:16.992\u001b[0m | \u001b[1mINFO    \u001b[0m | \u001b[36m__main__\u001b[0m:\u001b[36mtrain\u001b[0m:\u001b[36m197\u001b[0m - \u001b[1mepoch: 1  batch: 364/1475  loss: 0.3233 (0.4813)  lr: 0.001000\u001b[0m\n",
            "\u001b[32m2025-01-16 15:56:29.069\u001b[0m | \u001b[1mINFO    \u001b[0m | \u001b[36m__main__\u001b[0m:\u001b[36mtrain\u001b[0m:\u001b[36m197\u001b[0m - \u001b[1mepoch: 1  batch: 378/1475  loss: 0.3306 (0.4802)  lr: 0.001000\u001b[0m\n",
            "\u001b[32m2025-01-16 15:56:41.168\u001b[0m | \u001b[1mINFO    \u001b[0m | \u001b[36m__main__\u001b[0m:\u001b[36mtrain\u001b[0m:\u001b[36m197\u001b[0m - \u001b[1mepoch: 1  batch: 392/1475  loss: 0.3311 (0.4791)  lr: 0.001000\u001b[0m\n",
            "\u001b[32m2025-01-16 15:56:53.308\u001b[0m | \u001b[1mINFO    \u001b[0m | \u001b[36m__main__\u001b[0m:\u001b[36mtrain\u001b[0m:\u001b[36m197\u001b[0m - \u001b[1mepoch: 1  batch: 406/1475  loss: 0.3244 (0.4779)  lr: 0.001000\u001b[0m\n",
            "\u001b[32m2025-01-16 15:57:05.436\u001b[0m | \u001b[1mINFO    \u001b[0m | \u001b[36m__main__\u001b[0m:\u001b[36mtrain\u001b[0m:\u001b[36m197\u001b[0m - \u001b[1mepoch: 1  batch: 420/1475  loss: 0.3363 (0.4769)  lr: 0.001000\u001b[0m\n",
            "\u001b[32m2025-01-16 15:57:17.556\u001b[0m | \u001b[1mINFO    \u001b[0m | \u001b[36m__main__\u001b[0m:\u001b[36mtrain\u001b[0m:\u001b[36m197\u001b[0m - \u001b[1mepoch: 1  batch: 434/1475  loss: 0.3330 (0.4759)  lr: 0.001000\u001b[0m\n",
            "\u001b[32m2025-01-16 15:57:29.655\u001b[0m | \u001b[1mINFO    \u001b[0m | \u001b[36m__main__\u001b[0m:\u001b[36mtrain\u001b[0m:\u001b[36m197\u001b[0m - \u001b[1mepoch: 1  batch: 448/1475  loss: 0.3216 (0.4747)  lr: 0.001000\u001b[0m\n",
            "\u001b[32m2025-01-16 15:57:41.784\u001b[0m | \u001b[1mINFO    \u001b[0m | \u001b[36m__main__\u001b[0m:\u001b[36mtrain\u001b[0m:\u001b[36m197\u001b[0m - \u001b[1mepoch: 1  batch: 462/1475  loss: 0.3265 (0.4737)  lr: 0.001000\u001b[0m\n",
            "\u001b[32m2025-01-16 15:57:53.931\u001b[0m | \u001b[1mINFO    \u001b[0m | \u001b[36m__main__\u001b[0m:\u001b[36mtrain\u001b[0m:\u001b[36m197\u001b[0m - \u001b[1mepoch: 1  batch: 476/1475  loss: 0.3236 (0.4726)  lr: 0.001000\u001b[0m\n",
            "\u001b[32m2025-01-16 15:58:05.993\u001b[0m | \u001b[1mINFO    \u001b[0m | \u001b[36m__main__\u001b[0m:\u001b[36mtrain\u001b[0m:\u001b[36m197\u001b[0m - \u001b[1mepoch: 1  batch: 490/1475  loss: 0.3256 (0.4715)  lr: 0.001000\u001b[0m\n",
            "\u001b[32m2025-01-16 15:58:18.082\u001b[0m | \u001b[1mINFO    \u001b[0m | \u001b[36m__main__\u001b[0m:\u001b[36mtrain\u001b[0m:\u001b[36m197\u001b[0m - \u001b[1mepoch: 1  batch: 504/1475  loss: 0.3213 (0.4705)  lr: 0.001000\u001b[0m\n",
            "\u001b[32m2025-01-16 15:58:30.197\u001b[0m | \u001b[1mINFO    \u001b[0m | \u001b[36m__main__\u001b[0m:\u001b[36mtrain\u001b[0m:\u001b[36m197\u001b[0m - \u001b[1mepoch: 1  batch: 518/1475  loss: 0.3238 (0.4694)  lr: 0.001000\u001b[0m\n",
            "\u001b[32m2025-01-16 15:58:42.277\u001b[0m | \u001b[1mINFO    \u001b[0m | \u001b[36m__main__\u001b[0m:\u001b[36mtrain\u001b[0m:\u001b[36m197\u001b[0m - \u001b[1mepoch: 1  batch: 532/1475  loss: 0.3212 (0.4684)  lr: 0.001000\u001b[0m\n",
            "\u001b[32m2025-01-16 15:58:54.368\u001b[0m | \u001b[1mINFO    \u001b[0m | \u001b[36m__main__\u001b[0m:\u001b[36mtrain\u001b[0m:\u001b[36m197\u001b[0m - \u001b[1mepoch: 1  batch: 546/1475  loss: 0.3216 (0.4674)  lr: 0.001000\u001b[0m\n",
            "\u001b[32m2025-01-16 15:59:06.493\u001b[0m | \u001b[1mINFO    \u001b[0m | \u001b[36m__main__\u001b[0m:\u001b[36mtrain\u001b[0m:\u001b[36m197\u001b[0m - \u001b[1mepoch: 1  batch: 560/1475  loss: 0.3195 (0.4664)  lr: 0.001000\u001b[0m\n",
            "\u001b[32m2025-01-16 15:59:18.608\u001b[0m | \u001b[1mINFO    \u001b[0m | \u001b[36m__main__\u001b[0m:\u001b[36mtrain\u001b[0m:\u001b[36m197\u001b[0m - \u001b[1mepoch: 1  batch: 574/1475  loss: 0.3112 (0.4654)  lr: 0.001000\u001b[0m\n",
            "\u001b[32m2025-01-16 15:59:30.737\u001b[0m | \u001b[1mINFO    \u001b[0m | \u001b[36m__main__\u001b[0m:\u001b[36mtrain\u001b[0m:\u001b[36m197\u001b[0m - \u001b[1mepoch: 1  batch: 588/1475  loss: 0.3223 (0.4644)  lr: 0.001000\u001b[0m\n",
            "\u001b[32m2025-01-16 15:59:42.899\u001b[0m | \u001b[1mINFO    \u001b[0m | \u001b[36m__main__\u001b[0m:\u001b[36mtrain\u001b[0m:\u001b[36m197\u001b[0m - \u001b[1mepoch: 1  batch: 602/1475  loss: 0.3179 (0.4634)  lr: 0.001000\u001b[0m\n",
            "\u001b[32m2025-01-16 15:59:55.019\u001b[0m | \u001b[1mINFO    \u001b[0m | \u001b[36m__main__\u001b[0m:\u001b[36mtrain\u001b[0m:\u001b[36m197\u001b[0m - \u001b[1mepoch: 1  batch: 616/1475  loss: 0.3207 (0.4624)  lr: 0.001000\u001b[0m\n",
            "\u001b[32m2025-01-16 16:00:07.157\u001b[0m | \u001b[1mINFO    \u001b[0m | \u001b[36m__main__\u001b[0m:\u001b[36mtrain\u001b[0m:\u001b[36m197\u001b[0m - \u001b[1mepoch: 1  batch: 630/1475  loss: 0.3074 (0.4614)  lr: 0.001000\u001b[0m\n",
            "\u001b[32m2025-01-16 16:00:19.252\u001b[0m | \u001b[1mINFO    \u001b[0m | \u001b[36m__main__\u001b[0m:\u001b[36mtrain\u001b[0m:\u001b[36m197\u001b[0m - \u001b[1mepoch: 1  batch: 644/1475  loss: 0.3169 (0.4605)  lr: 0.001000\u001b[0m\n",
            "\u001b[32m2025-01-16 16:00:31.329\u001b[0m | \u001b[1mINFO    \u001b[0m | \u001b[36m__main__\u001b[0m:\u001b[36mtrain\u001b[0m:\u001b[36m197\u001b[0m - \u001b[1mepoch: 1  batch: 658/1475  loss: 0.3214 (0.4595)  lr: 0.001000\u001b[0m\n",
            "\u001b[32m2025-01-16 16:00:43.395\u001b[0m | \u001b[1mINFO    \u001b[0m | \u001b[36m__main__\u001b[0m:\u001b[36mtrain\u001b[0m:\u001b[36m197\u001b[0m - \u001b[1mepoch: 1  batch: 672/1475  loss: 0.3142 (0.4586)  lr: 0.001000\u001b[0m\n",
            "\u001b[32m2025-01-16 16:00:55.537\u001b[0m | \u001b[1mINFO    \u001b[0m | \u001b[36m__main__\u001b[0m:\u001b[36mtrain\u001b[0m:\u001b[36m197\u001b[0m - \u001b[1mepoch: 1  batch: 686/1475  loss: 0.3054 (0.4576)  lr: 0.001000\u001b[0m\n",
            "\u001b[32m2025-01-16 16:01:07.665\u001b[0m | \u001b[1mINFO    \u001b[0m | \u001b[36m__main__\u001b[0m:\u001b[36mtrain\u001b[0m:\u001b[36m197\u001b[0m - \u001b[1mepoch: 1  batch: 700/1475  loss: 0.3042 (0.4566)  lr: 0.001000\u001b[0m\n",
            "\u001b[32m2025-01-16 16:01:19.801\u001b[0m | \u001b[1mINFO    \u001b[0m | \u001b[36m__main__\u001b[0m:\u001b[36mtrain\u001b[0m:\u001b[36m197\u001b[0m - \u001b[1mepoch: 1  batch: 714/1475  loss: 0.3172 (0.4557)  lr: 0.001000\u001b[0m\n",
            "\u001b[32m2025-01-16 16:01:31.908\u001b[0m | \u001b[1mINFO    \u001b[0m | \u001b[36m__main__\u001b[0m:\u001b[36mtrain\u001b[0m:\u001b[36m197\u001b[0m - \u001b[1mepoch: 1  batch: 728/1475  loss: 0.3165 (0.4548)  lr: 0.001000\u001b[0m\n",
            "\u001b[32m2025-01-16 16:01:44.025\u001b[0m | \u001b[1mINFO    \u001b[0m | \u001b[36m__main__\u001b[0m:\u001b[36mtrain\u001b[0m:\u001b[36m197\u001b[0m - \u001b[1mepoch: 1  batch: 742/1475  loss: 0.3111 (0.4539)  lr: 0.001000\u001b[0m\n",
            "\u001b[32m2025-01-16 16:01:56.154\u001b[0m | \u001b[1mINFO    \u001b[0m | \u001b[36m__main__\u001b[0m:\u001b[36mtrain\u001b[0m:\u001b[36m197\u001b[0m - \u001b[1mepoch: 1  batch: 756/1475  loss: 0.3053 (0.4530)  lr: 0.001000\u001b[0m\n",
            "\u001b[32m2025-01-16 16:02:08.252\u001b[0m | \u001b[1mINFO    \u001b[0m | \u001b[36m__main__\u001b[0m:\u001b[36mtrain\u001b[0m:\u001b[36m197\u001b[0m - \u001b[1mepoch: 1  batch: 770/1475  loss: 0.3096 (0.4520)  lr: 0.001000\u001b[0m\n",
            "\u001b[32m2025-01-16 16:02:20.424\u001b[0m | \u001b[1mINFO    \u001b[0m | \u001b[36m__main__\u001b[0m:\u001b[36mtrain\u001b[0m:\u001b[36m197\u001b[0m - \u001b[1mepoch: 1  batch: 784/1475  loss: 0.3131 (0.4512)  lr: 0.001000\u001b[0m\n",
            "\u001b[32m2025-01-16 16:02:32.514\u001b[0m | \u001b[1mINFO    \u001b[0m | \u001b[36m__main__\u001b[0m:\u001b[36mtrain\u001b[0m:\u001b[36m197\u001b[0m - \u001b[1mepoch: 1  batch: 798/1475  loss: 0.3071 (0.4503)  lr: 0.001000\u001b[0m\n",
            "\u001b[32m2025-01-16 16:02:44.605\u001b[0m | \u001b[1mINFO    \u001b[0m | \u001b[36m__main__\u001b[0m:\u001b[36mtrain\u001b[0m:\u001b[36m197\u001b[0m - \u001b[1mepoch: 1  batch: 812/1475  loss: 0.3013 (0.4494)  lr: 0.001000\u001b[0m\n",
            "\u001b[32m2025-01-16 16:02:56.701\u001b[0m | \u001b[1mINFO    \u001b[0m | \u001b[36m__main__\u001b[0m:\u001b[36mtrain\u001b[0m:\u001b[36m197\u001b[0m - \u001b[1mepoch: 1  batch: 826/1475  loss: 0.3023 (0.4486)  lr: 0.001000\u001b[0m\n",
            "\u001b[32m2025-01-16 16:03:08.836\u001b[0m | \u001b[1mINFO    \u001b[0m | \u001b[36m__main__\u001b[0m:\u001b[36mtrain\u001b[0m:\u001b[36m197\u001b[0m - \u001b[1mepoch: 1  batch: 840/1475  loss: 0.3041 (0.4477)  lr: 0.001000\u001b[0m\n",
            "\u001b[32m2025-01-16 16:03:20.940\u001b[0m | \u001b[1mINFO    \u001b[0m | \u001b[36m__main__\u001b[0m:\u001b[36mtrain\u001b[0m:\u001b[36m197\u001b[0m - \u001b[1mepoch: 1  batch: 854/1475  loss: 0.2971 (0.4468)  lr: 0.001000\u001b[0m\n",
            "\u001b[32m2025-01-16 16:03:33.083\u001b[0m | \u001b[1mINFO    \u001b[0m | \u001b[36m__main__\u001b[0m:\u001b[36mtrain\u001b[0m:\u001b[36m197\u001b[0m - \u001b[1mepoch: 1  batch: 868/1475  loss: 0.3018 (0.4460)  lr: 0.001000\u001b[0m\n",
            "\u001b[32m2025-01-16 16:03:45.204\u001b[0m | \u001b[1mINFO    \u001b[0m | \u001b[36m__main__\u001b[0m:\u001b[36mtrain\u001b[0m:\u001b[36m197\u001b[0m - \u001b[1mepoch: 1  batch: 882/1475  loss: 0.3021 (0.4451)  lr: 0.001000\u001b[0m\n",
            "\u001b[32m2025-01-16 16:03:57.297\u001b[0m | \u001b[1mINFO    \u001b[0m | \u001b[36m__main__\u001b[0m:\u001b[36mtrain\u001b[0m:\u001b[36m197\u001b[0m - \u001b[1mepoch: 1  batch: 896/1475  loss: 0.2956 (0.4443)  lr: 0.001000\u001b[0m\n",
            "\u001b[32m2025-01-16 16:04:09.410\u001b[0m | \u001b[1mINFO    \u001b[0m | \u001b[36m__main__\u001b[0m:\u001b[36mtrain\u001b[0m:\u001b[36m197\u001b[0m - \u001b[1mepoch: 1  batch: 910/1475  loss: 0.2953 (0.4434)  lr: 0.001000\u001b[0m\n",
            "\u001b[32m2025-01-16 16:04:21.515\u001b[0m | \u001b[1mINFO    \u001b[0m | \u001b[36m__main__\u001b[0m:\u001b[36mtrain\u001b[0m:\u001b[36m197\u001b[0m - \u001b[1mepoch: 1  batch: 924/1475  loss: 0.2976 (0.4425)  lr: 0.001000\u001b[0m\n",
            "\u001b[32m2025-01-16 16:04:33.640\u001b[0m | \u001b[1mINFO    \u001b[0m | \u001b[36m__main__\u001b[0m:\u001b[36mtrain\u001b[0m:\u001b[36m197\u001b[0m - \u001b[1mepoch: 1  batch: 938/1475  loss: 0.3699 (0.4433)  lr: 0.001000\u001b[0m\n",
            "\u001b[32m2025-01-16 16:04:45.770\u001b[0m | \u001b[1mINFO    \u001b[0m | \u001b[36m__main__\u001b[0m:\u001b[36mtrain\u001b[0m:\u001b[36m197\u001b[0m - \u001b[1mepoch: 1  batch: 952/1475  loss: 0.4694 (0.4434)  lr: 0.001000\u001b[0m\n",
            "\u001b[32m2025-01-16 16:04:57.825\u001b[0m | \u001b[1mINFO    \u001b[0m | \u001b[36m__main__\u001b[0m:\u001b[36mtrain\u001b[0m:\u001b[36m197\u001b[0m - \u001b[1mepoch: 1  batch: 966/1475  loss: 0.4092 (0.4432)  lr: 0.001000\u001b[0m\n",
            "\u001b[32m2025-01-16 16:05:09.937\u001b[0m | \u001b[1mINFO    \u001b[0m | \u001b[36m__main__\u001b[0m:\u001b[36mtrain\u001b[0m:\u001b[36m197\u001b[0m - \u001b[1mepoch: 1  batch: 980/1475  loss: 0.3710 (0.4427)  lr: 0.001000\u001b[0m\n",
            "\u001b[32m2025-01-16 16:05:22.013\u001b[0m | \u001b[1mINFO    \u001b[0m | \u001b[36m__main__\u001b[0m:\u001b[36mtrain\u001b[0m:\u001b[36m197\u001b[0m - \u001b[1mepoch: 1  batch: 994/1475  loss: 0.3630 (0.4423)  lr: 0.001000\u001b[0m\n",
            "\u001b[32m2025-01-16 16:05:34.093\u001b[0m | \u001b[1mINFO    \u001b[0m | \u001b[36m__main__\u001b[0m:\u001b[36mtrain\u001b[0m:\u001b[36m197\u001b[0m - \u001b[1mepoch: 1  batch: 1008/1475  loss: 0.3499 (0.4417)  lr: 0.001000\u001b[0m\n",
            "\u001b[32m2025-01-16 16:05:46.097\u001b[0m | \u001b[1mINFO    \u001b[0m | \u001b[36m__main__\u001b[0m:\u001b[36mtrain\u001b[0m:\u001b[36m197\u001b[0m - \u001b[1mepoch: 1  batch: 1022/1475  loss: 0.3382 (0.4412)  lr: 0.001000\u001b[0m\n",
            "\u001b[32m2025-01-16 16:05:58.057\u001b[0m | \u001b[1mINFO    \u001b[0m | \u001b[36m__main__\u001b[0m:\u001b[36mtrain\u001b[0m:\u001b[36m197\u001b[0m - \u001b[1mepoch: 1  batch: 1036/1475  loss: 0.3296 (0.4406)  lr: 0.001000\u001b[0m\n",
            "\u001b[32m2025-01-16 16:06:10.069\u001b[0m | \u001b[1mINFO    \u001b[0m | \u001b[36m__main__\u001b[0m:\u001b[36mtrain\u001b[0m:\u001b[36m197\u001b[0m - \u001b[1mepoch: 1  batch: 1050/1475  loss: 0.3289 (0.4399)  lr: 0.001000\u001b[0m\n",
            "\u001b[32m2025-01-16 16:06:22.167\u001b[0m | \u001b[1mINFO    \u001b[0m | \u001b[36m__main__\u001b[0m:\u001b[36mtrain\u001b[0m:\u001b[36m197\u001b[0m - \u001b[1mepoch: 1  batch: 1064/1475  loss: 0.3249 (0.4393)  lr: 0.001000\u001b[0m\n",
            "\u001b[32m2025-01-16 16:06:34.298\u001b[0m | \u001b[1mINFO    \u001b[0m | \u001b[36m__main__\u001b[0m:\u001b[36mtrain\u001b[0m:\u001b[36m197\u001b[0m - \u001b[1mepoch: 1  batch: 1078/1475  loss: 0.3205 (0.4386)  lr: 0.001000\u001b[0m\n",
            "\u001b[32m2025-01-16 16:06:46.437\u001b[0m | \u001b[1mINFO    \u001b[0m | \u001b[36m__main__\u001b[0m:\u001b[36mtrain\u001b[0m:\u001b[36m197\u001b[0m - \u001b[1mepoch: 1  batch: 1092/1475  loss: 0.3213 (0.4380)  lr: 0.001000\u001b[0m\n",
            "\u001b[32m2025-01-16 16:06:58.553\u001b[0m | \u001b[1mINFO    \u001b[0m | \u001b[36m__main__\u001b[0m:\u001b[36mtrain\u001b[0m:\u001b[36m197\u001b[0m - \u001b[1mepoch: 1  batch: 1106/1475  loss: 0.3148 (0.4374)  lr: 0.001000\u001b[0m\n",
            "\u001b[32m2025-01-16 16:07:10.661\u001b[0m | \u001b[1mINFO    \u001b[0m | \u001b[36m__main__\u001b[0m:\u001b[36mtrain\u001b[0m:\u001b[36m197\u001b[0m - \u001b[1mepoch: 1  batch: 1120/1475  loss: 0.3165 (0.4367)  lr: 0.001000\u001b[0m\n",
            "\u001b[32m2025-01-16 16:07:22.757\u001b[0m | \u001b[1mINFO    \u001b[0m | \u001b[36m__main__\u001b[0m:\u001b[36mtrain\u001b[0m:\u001b[36m197\u001b[0m - \u001b[1mepoch: 1  batch: 1134/1475  loss: 0.3086 (0.4360)  lr: 0.001000\u001b[0m\n",
            "\u001b[32m2025-01-16 16:07:34.848\u001b[0m | \u001b[1mINFO    \u001b[0m | \u001b[36m__main__\u001b[0m:\u001b[36mtrain\u001b[0m:\u001b[36m197\u001b[0m - \u001b[1mepoch: 1  batch: 1148/1475  loss: 0.3085 (0.4354)  lr: 0.001000\u001b[0m\n",
            "\u001b[32m2025-01-16 16:07:46.950\u001b[0m | \u001b[1mINFO    \u001b[0m | \u001b[36m__main__\u001b[0m:\u001b[36mtrain\u001b[0m:\u001b[36m197\u001b[0m - \u001b[1mepoch: 1  batch: 1162/1475  loss: 0.3144 (0.4348)  lr: 0.001000\u001b[0m\n",
            "\u001b[32m2025-01-16 16:07:59.036\u001b[0m | \u001b[1mINFO    \u001b[0m | \u001b[36m__main__\u001b[0m:\u001b[36mtrain\u001b[0m:\u001b[36m197\u001b[0m - \u001b[1mepoch: 1  batch: 1176/1475  loss: 0.3090 (0.4341)  lr: 0.001000\u001b[0m\n",
            "\u001b[32m2025-01-16 16:08:11.150\u001b[0m | \u001b[1mINFO    \u001b[0m | \u001b[36m__main__\u001b[0m:\u001b[36mtrain\u001b[0m:\u001b[36m197\u001b[0m - \u001b[1mepoch: 1  batch: 1190/1475  loss: 0.3090 (0.4335)  lr: 0.001000\u001b[0m\n",
            "\u001b[32m2025-01-16 16:08:23.271\u001b[0m | \u001b[1mINFO    \u001b[0m | \u001b[36m__main__\u001b[0m:\u001b[36mtrain\u001b[0m:\u001b[36m197\u001b[0m - \u001b[1mepoch: 1  batch: 1204/1475  loss: 0.2995 (0.4328)  lr: 0.001000\u001b[0m\n",
            "\u001b[32m2025-01-16 16:08:35.401\u001b[0m | \u001b[1mINFO    \u001b[0m | \u001b[36m__main__\u001b[0m:\u001b[36mtrain\u001b[0m:\u001b[36m197\u001b[0m - \u001b[1mepoch: 1  batch: 1218/1475  loss: 0.2989 (0.4321)  lr: 0.001000\u001b[0m\n",
            "\u001b[32m2025-01-16 16:08:47.573\u001b[0m | \u001b[1mINFO    \u001b[0m | \u001b[36m__main__\u001b[0m:\u001b[36mtrain\u001b[0m:\u001b[36m197\u001b[0m - \u001b[1mepoch: 1  batch: 1232/1475  loss: 0.3019 (0.4315)  lr: 0.001000\u001b[0m\n",
            "\u001b[32m2025-01-16 16:08:59.690\u001b[0m | \u001b[1mINFO    \u001b[0m | \u001b[36m__main__\u001b[0m:\u001b[36mtrain\u001b[0m:\u001b[36m197\u001b[0m - \u001b[1mepoch: 1  batch: 1246/1475  loss: 0.3075 (0.4308)  lr: 0.001000\u001b[0m\n",
            "\u001b[32m2025-01-16 16:09:11.809\u001b[0m | \u001b[1mINFO    \u001b[0m | \u001b[36m__main__\u001b[0m:\u001b[36mtrain\u001b[0m:\u001b[36m197\u001b[0m - \u001b[1mepoch: 1  batch: 1260/1475  loss: 0.3075 (0.4302)  lr: 0.001000\u001b[0m\n",
            "\u001b[32m2025-01-16 16:09:23.856\u001b[0m | \u001b[1mINFO    \u001b[0m | \u001b[36m__main__\u001b[0m:\u001b[36mtrain\u001b[0m:\u001b[36m197\u001b[0m - \u001b[1mepoch: 1  batch: 1274/1475  loss: 0.2998 (0.4295)  lr: 0.001000\u001b[0m\n",
            "\u001b[32m2025-01-16 16:09:35.998\u001b[0m | \u001b[1mINFO    \u001b[0m | \u001b[36m__main__\u001b[0m:\u001b[36mtrain\u001b[0m:\u001b[36m197\u001b[0m - \u001b[1mepoch: 1  batch: 1288/1475  loss: 0.2962 (0.4288)  lr: 0.001000\u001b[0m\n",
            "\u001b[32m2025-01-16 16:09:48.083\u001b[0m | \u001b[1mINFO    \u001b[0m | \u001b[36m__main__\u001b[0m:\u001b[36mtrain\u001b[0m:\u001b[36m197\u001b[0m - \u001b[1mepoch: 1  batch: 1302/1475  loss: 0.2983 (0.4282)  lr: 0.001000\u001b[0m\n",
            "\u001b[32m2025-01-16 16:10:00.168\u001b[0m | \u001b[1mINFO    \u001b[0m | \u001b[36m__main__\u001b[0m:\u001b[36mtrain\u001b[0m:\u001b[36m197\u001b[0m - \u001b[1mepoch: 1  batch: 1316/1475  loss: 0.2939 (0.4276)  lr: 0.001000\u001b[0m\n",
            "\u001b[32m2025-01-16 16:10:12.218\u001b[0m | \u001b[1mINFO    \u001b[0m | \u001b[36m__main__\u001b[0m:\u001b[36mtrain\u001b[0m:\u001b[36m197\u001b[0m - \u001b[1mepoch: 1  batch: 1330/1475  loss: 0.2826 (0.4268)  lr: 0.001000\u001b[0m\n",
            "\u001b[32m2025-01-16 16:10:24.347\u001b[0m | \u001b[1mINFO    \u001b[0m | \u001b[36m__main__\u001b[0m:\u001b[36mtrain\u001b[0m:\u001b[36m197\u001b[0m - \u001b[1mepoch: 1  batch: 1344/1475  loss: 0.2898 (0.4262)  lr: 0.001000\u001b[0m\n",
            "\u001b[32m2025-01-16 16:10:36.516\u001b[0m | \u001b[1mINFO    \u001b[0m | \u001b[36m__main__\u001b[0m:\u001b[36mtrain\u001b[0m:\u001b[36m197\u001b[0m - \u001b[1mepoch: 1  batch: 1358/1475  loss: 0.3006 (0.4256)  lr: 0.001000\u001b[0m\n",
            "\u001b[32m2025-01-16 16:10:48.643\u001b[0m | \u001b[1mINFO    \u001b[0m | \u001b[36m__main__\u001b[0m:\u001b[36mtrain\u001b[0m:\u001b[36m197\u001b[0m - \u001b[1mepoch: 1  batch: 1372/1475  loss: 0.2983 (0.4250)  lr: 0.001000\u001b[0m\n",
            "\u001b[32m2025-01-16 16:11:00.772\u001b[0m | \u001b[1mINFO    \u001b[0m | \u001b[36m__main__\u001b[0m:\u001b[36mtrain\u001b[0m:\u001b[36m197\u001b[0m - \u001b[1mepoch: 1  batch: 1386/1475  loss: 0.2986 (0.4244)  lr: 0.001000\u001b[0m\n",
            "\u001b[32m2025-01-16 16:11:12.867\u001b[0m | \u001b[1mINFO    \u001b[0m | \u001b[36m__main__\u001b[0m:\u001b[36mtrain\u001b[0m:\u001b[36m197\u001b[0m - \u001b[1mepoch: 1  batch: 1400/1475  loss: 0.2991 (0.4238)  lr: 0.001000\u001b[0m\n",
            "\u001b[32m2025-01-16 16:11:24.963\u001b[0m | \u001b[1mINFO    \u001b[0m | \u001b[36m__main__\u001b[0m:\u001b[36mtrain\u001b[0m:\u001b[36m197\u001b[0m - \u001b[1mepoch: 1  batch: 1414/1475  loss: 0.2988 (0.4231)  lr: 0.001000\u001b[0m\n",
            "\u001b[32m2025-01-16 16:11:37.063\u001b[0m | \u001b[1mINFO    \u001b[0m | \u001b[36m__main__\u001b[0m:\u001b[36mtrain\u001b[0m:\u001b[36m197\u001b[0m - \u001b[1mepoch: 1  batch: 1428/1475  loss: 0.2923 (0.4225)  lr: 0.001000\u001b[0m\n",
            "\u001b[32m2025-01-16 16:11:49.182\u001b[0m | \u001b[1mINFO    \u001b[0m | \u001b[36m__main__\u001b[0m:\u001b[36mtrain\u001b[0m:\u001b[36m197\u001b[0m - \u001b[1mepoch: 1  batch: 1442/1475  loss: 0.2895 (0.4219)  lr: 0.001000\u001b[0m\n",
            "\u001b[32m2025-01-16 16:12:01.271\u001b[0m | \u001b[1mINFO    \u001b[0m | \u001b[36m__main__\u001b[0m:\u001b[36mtrain\u001b[0m:\u001b[36m197\u001b[0m - \u001b[1mepoch: 1  batch: 1456/1475  loss: 0.2883 (0.4212)  lr: 0.001000\u001b[0m\n",
            "\u001b[32m2025-01-16 16:12:13.381\u001b[0m | \u001b[1mINFO    \u001b[0m | \u001b[36m__main__\u001b[0m:\u001b[36mtrain\u001b[0m:\u001b[36m197\u001b[0m - \u001b[1mepoch: 1  batch: 1470/1475  loss: 0.2884 (0.4206)  lr: 0.001000\u001b[0m\n",
            "\u001b[32m2025-01-16 16:12:17.462\u001b[0m | \u001b[1mINFO    \u001b[0m | \u001b[36m__main__\u001b[0m:\u001b[36mtrain\u001b[0m:\u001b[36m219\u001b[0m - \u001b[1mFinish epoch: 1, without validation\u001b[0m\n",
            "\u001b[32m2025-01-16 16:12:36.812\u001b[0m | \u001b[1mINFO    \u001b[0m | \u001b[36m__main__\u001b[0m:\u001b[36mtrain\u001b[0m:\u001b[36m197\u001b[0m - \u001b[1mepoch: 2  batch: 14/1475  loss: 0.2787 (0.4197)  lr: 0.001000\u001b[0m\n",
            "\u001b[32m2025-01-16 16:12:48.994\u001b[0m | \u001b[1mINFO    \u001b[0m | \u001b[36m__main__\u001b[0m:\u001b[36mtrain\u001b[0m:\u001b[36m197\u001b[0m - \u001b[1mepoch: 2  batch: 28/1475  loss: 0.2607 (0.4190)  lr: 0.001000\u001b[0m\n",
            "\u001b[32m2025-01-16 16:13:01.292\u001b[0m | \u001b[1mINFO    \u001b[0m | \u001b[36m__main__\u001b[0m:\u001b[36mtrain\u001b[0m:\u001b[36m197\u001b[0m - \u001b[1mepoch: 2  batch: 42/1475  loss: 0.2698 (0.4183)  lr: 0.001000\u001b[0m\n",
            "\u001b[32m2025-01-16 16:13:13.501\u001b[0m | \u001b[1mINFO    \u001b[0m | \u001b[36m__main__\u001b[0m:\u001b[36mtrain\u001b[0m:\u001b[36m197\u001b[0m - \u001b[1mepoch: 2  batch: 56/1475  loss: 0.2726 (0.4176)  lr: 0.001000\u001b[0m\n",
            "\u001b[32m2025-01-16 16:13:25.660\u001b[0m | \u001b[1mINFO    \u001b[0m | \u001b[36m__main__\u001b[0m:\u001b[36mtrain\u001b[0m:\u001b[36m197\u001b[0m - \u001b[1mepoch: 2  batch: 70/1475  loss: 0.2762 (0.4170)  lr: 0.001000\u001b[0m\n",
            "\u001b[32m2025-01-16 16:13:37.770\u001b[0m | \u001b[1mINFO    \u001b[0m | \u001b[36m__main__\u001b[0m:\u001b[36mtrain\u001b[0m:\u001b[36m197\u001b[0m - \u001b[1mepoch: 2  batch: 84/1475  loss: 0.2707 (0.4163)  lr: 0.001000\u001b[0m\n",
            "\u001b[32m2025-01-16 16:13:49.853\u001b[0m | \u001b[1mINFO    \u001b[0m | \u001b[36m__main__\u001b[0m:\u001b[36mtrain\u001b[0m:\u001b[36m197\u001b[0m - \u001b[1mepoch: 2  batch: 98/1475  loss: 0.2707 (0.4156)  lr: 0.001000\u001b[0m\n",
            "\u001b[32m2025-01-16 16:14:01.971\u001b[0m | \u001b[1mINFO    \u001b[0m | \u001b[36m__main__\u001b[0m:\u001b[36mtrain\u001b[0m:\u001b[36m197\u001b[0m - \u001b[1mepoch: 2  batch: 112/1475  loss: 0.2671 (0.4150)  lr: 0.001000\u001b[0m\n",
            "\u001b[32m2025-01-16 16:14:14.065\u001b[0m | \u001b[1mINFO    \u001b[0m | \u001b[36m__main__\u001b[0m:\u001b[36mtrain\u001b[0m:\u001b[36m197\u001b[0m - \u001b[1mepoch: 2  batch: 126/1475  loss: 0.2695 (0.4143)  lr: 0.001000\u001b[0m\n",
            "\u001b[32m2025-01-16 16:14:26.176\u001b[0m | \u001b[1mINFO    \u001b[0m | \u001b[36m__main__\u001b[0m:\u001b[36mtrain\u001b[0m:\u001b[36m197\u001b[0m - \u001b[1mepoch: 2  batch: 140/1475  loss: 0.2728 (0.4137)  lr: 0.001000\u001b[0m\n",
            "\u001b[32m2025-01-16 16:14:38.264\u001b[0m | \u001b[1mINFO    \u001b[0m | \u001b[36m__main__\u001b[0m:\u001b[36mtrain\u001b[0m:\u001b[36m197\u001b[0m - \u001b[1mepoch: 2  batch: 154/1475  loss: 0.2703 (0.4130)  lr: 0.001000\u001b[0m\n",
            "\u001b[32m2025-01-16 16:14:50.438\u001b[0m | \u001b[1mINFO    \u001b[0m | \u001b[36m__main__\u001b[0m:\u001b[36mtrain\u001b[0m:\u001b[36m197\u001b[0m - \u001b[1mepoch: 2  batch: 168/1475  loss: 0.2676 (0.4124)  lr: 0.001000\u001b[0m\n",
            "\u001b[32m2025-01-16 16:15:02.553\u001b[0m | \u001b[1mINFO    \u001b[0m | \u001b[36m__main__\u001b[0m:\u001b[36mtrain\u001b[0m:\u001b[36m197\u001b[0m - \u001b[1mepoch: 2  batch: 182/1475  loss: 0.2623 (0.4117)  lr: 0.001000\u001b[0m\n",
            "\u001b[32m2025-01-16 16:15:14.647\u001b[0m | \u001b[1mINFO    \u001b[0m | \u001b[36m__main__\u001b[0m:\u001b[36mtrain\u001b[0m:\u001b[36m197\u001b[0m - \u001b[1mepoch: 2  batch: 196/1475  loss: 0.2641 (0.4110)  lr: 0.001000\u001b[0m\n",
            "\u001b[32m2025-01-16 16:15:26.786\u001b[0m | \u001b[1mINFO    \u001b[0m | \u001b[36m__main__\u001b[0m:\u001b[36mtrain\u001b[0m:\u001b[36m197\u001b[0m - \u001b[1mepoch: 2  batch: 210/1475  loss: 0.2627 (0.4104)  lr: 0.001000\u001b[0m\n",
            "\u001b[32m2025-01-16 16:15:38.873\u001b[0m | \u001b[1mINFO    \u001b[0m | \u001b[36m__main__\u001b[0m:\u001b[36mtrain\u001b[0m:\u001b[36m197\u001b[0m - \u001b[1mepoch: 2  batch: 224/1475  loss: 0.2658 (0.4098)  lr: 0.001000\u001b[0m\n",
            "\u001b[32m2025-01-16 16:15:50.928\u001b[0m | \u001b[1mINFO    \u001b[0m | \u001b[36m__main__\u001b[0m:\u001b[36mtrain\u001b[0m:\u001b[36m197\u001b[0m - \u001b[1mepoch: 2  batch: 238/1475  loss: 0.2600 (0.4091)  lr: 0.001000\u001b[0m\n",
            "\u001b[32m2025-01-16 16:16:03.165\u001b[0m | \u001b[1mINFO    \u001b[0m | \u001b[36m__main__\u001b[0m:\u001b[36mtrain\u001b[0m:\u001b[36m197\u001b[0m - \u001b[1mepoch: 2  batch: 252/1475  loss: 0.2635 (0.4085)  lr: 0.001000\u001b[0m\n",
            "\u001b[32m2025-01-16 16:16:15.305\u001b[0m | \u001b[1mINFO    \u001b[0m | \u001b[36m__main__\u001b[0m:\u001b[36mtrain\u001b[0m:\u001b[36m197\u001b[0m - \u001b[1mepoch: 2  batch: 266/1475  loss: 0.2663 (0.4079)  lr: 0.001000\u001b[0m\n",
            "\u001b[32m2025-01-16 16:16:27.423\u001b[0m | \u001b[1mINFO    \u001b[0m | \u001b[36m__main__\u001b[0m:\u001b[36mtrain\u001b[0m:\u001b[36m197\u001b[0m - \u001b[1mepoch: 2  batch: 280/1475  loss: 0.2680 (0.4073)  lr: 0.001000\u001b[0m\n",
            "\u001b[32m2025-01-16 16:16:39.457\u001b[0m | \u001b[1mINFO    \u001b[0m | \u001b[36m__main__\u001b[0m:\u001b[36mtrain\u001b[0m:\u001b[36m197\u001b[0m - \u001b[1mepoch: 2  batch: 294/1475  loss: 0.2625 (0.4066)  lr: 0.001000\u001b[0m\n",
            "\u001b[32m2025-01-16 16:16:51.559\u001b[0m | \u001b[1mINFO    \u001b[0m | \u001b[36m__main__\u001b[0m:\u001b[36mtrain\u001b[0m:\u001b[36m197\u001b[0m - \u001b[1mepoch: 2  batch: 308/1475  loss: 0.2678 (0.4060)  lr: 0.001000\u001b[0m\n",
            "\u001b[32m2025-01-16 16:17:03.751\u001b[0m | \u001b[1mINFO    \u001b[0m | \u001b[36m__main__\u001b[0m:\u001b[36mtrain\u001b[0m:\u001b[36m197\u001b[0m - \u001b[1mepoch: 2  batch: 322/1475  loss: 0.2678 (0.4054)  lr: 0.001000\u001b[0m\n",
            "\u001b[32m2025-01-16 16:17:15.896\u001b[0m | \u001b[1mINFO    \u001b[0m | \u001b[36m__main__\u001b[0m:\u001b[36mtrain\u001b[0m:\u001b[36m197\u001b[0m - \u001b[1mepoch: 2  batch: 336/1475  loss: 0.2670 (0.4049)  lr: 0.001000\u001b[0m\n",
            "\u001b[32m2025-01-16 16:17:28.059\u001b[0m | \u001b[1mINFO    \u001b[0m | \u001b[36m__main__\u001b[0m:\u001b[36mtrain\u001b[0m:\u001b[36m197\u001b[0m - \u001b[1mepoch: 2  batch: 350/1475  loss: 0.2670 (0.4043)  lr: 0.001000\u001b[0m\n",
            "\u001b[32m2025-01-16 16:17:40.290\u001b[0m | \u001b[1mINFO    \u001b[0m | \u001b[36m__main__\u001b[0m:\u001b[36mtrain\u001b[0m:\u001b[36m197\u001b[0m - \u001b[1mepoch: 2  batch: 364/1475  loss: 0.2719 (0.4037)  lr: 0.001000\u001b[0m\n",
            "\u001b[32m2025-01-16 16:17:52.428\u001b[0m | \u001b[1mINFO    \u001b[0m | \u001b[36m__main__\u001b[0m:\u001b[36mtrain\u001b[0m:\u001b[36m197\u001b[0m - \u001b[1mepoch: 2  batch: 378/1475  loss: 0.2639 (0.4032)  lr: 0.001000\u001b[0m\n",
            "\u001b[32m2025-01-16 16:18:04.597\u001b[0m | \u001b[1mINFO    \u001b[0m | \u001b[36m__main__\u001b[0m:\u001b[36mtrain\u001b[0m:\u001b[36m197\u001b[0m - \u001b[1mepoch: 2  batch: 392/1475  loss: 0.2614 (0.4026)  lr: 0.001000\u001b[0m\n",
            "\u001b[32m2025-01-16 16:18:16.682\u001b[0m | \u001b[1mINFO    \u001b[0m | \u001b[36m__main__\u001b[0m:\u001b[36mtrain\u001b[0m:\u001b[36m197\u001b[0m - \u001b[1mepoch: 2  batch: 406/1475  loss: 0.2653 (0.4020)  lr: 0.001000\u001b[0m\n",
            "\u001b[32m2025-01-16 16:18:28.773\u001b[0m | \u001b[1mINFO    \u001b[0m | \u001b[36m__main__\u001b[0m:\u001b[36mtrain\u001b[0m:\u001b[36m197\u001b[0m - \u001b[1mepoch: 2  batch: 420/1475  loss: 0.2659 (0.4014)  lr: 0.001000\u001b[0m\n",
            "\u001b[32m2025-01-16 16:18:40.859\u001b[0m | \u001b[1mINFO    \u001b[0m | \u001b[36m__main__\u001b[0m:\u001b[36mtrain\u001b[0m:\u001b[36m197\u001b[0m - \u001b[1mepoch: 2  batch: 434/1475  loss: 0.2596 (0.4008)  lr: 0.001000\u001b[0m\n",
            "\u001b[32m2025-01-16 16:18:52.927\u001b[0m | \u001b[1mINFO    \u001b[0m | \u001b[36m__main__\u001b[0m:\u001b[36mtrain\u001b[0m:\u001b[36m197\u001b[0m - \u001b[1mepoch: 2  batch: 448/1475  loss: 0.2661 (0.4003)  lr: 0.001000\u001b[0m\n",
            "\u001b[32m2025-01-16 16:19:05.106\u001b[0m | \u001b[1mINFO    \u001b[0m | \u001b[36m__main__\u001b[0m:\u001b[36mtrain\u001b[0m:\u001b[36m197\u001b[0m - \u001b[1mepoch: 2  batch: 462/1475  loss: 0.2695 (0.3998)  lr: 0.001000\u001b[0m\n",
            "\u001b[32m2025-01-16 16:19:17.194\u001b[0m | \u001b[1mINFO    \u001b[0m | \u001b[36m__main__\u001b[0m:\u001b[36mtrain\u001b[0m:\u001b[36m197\u001b[0m - \u001b[1mepoch: 2  batch: 476/1475  loss: 0.2642 (0.3992)  lr: 0.001000\u001b[0m\n",
            "\u001b[32m2025-01-16 16:19:29.315\u001b[0m | \u001b[1mINFO    \u001b[0m | \u001b[36m__main__\u001b[0m:\u001b[36mtrain\u001b[0m:\u001b[36m197\u001b[0m - \u001b[1mepoch: 2  batch: 490/1475  loss: 0.2585 (0.3987)  lr: 0.001000\u001b[0m\n",
            "\u001b[32m2025-01-16 16:19:41.393\u001b[0m | \u001b[1mINFO    \u001b[0m | \u001b[36m__main__\u001b[0m:\u001b[36mtrain\u001b[0m:\u001b[36m197\u001b[0m - \u001b[1mepoch: 2  batch: 504/1475  loss: 0.2786 (0.3982)  lr: 0.001000\u001b[0m\n",
            "\u001b[32m2025-01-16 16:19:53.435\u001b[0m | \u001b[1mINFO    \u001b[0m | \u001b[36m__main__\u001b[0m:\u001b[36mtrain\u001b[0m:\u001b[36m197\u001b[0m - \u001b[1mepoch: 2  batch: 518/1475  loss: 0.2642 (0.3977)  lr: 0.001000\u001b[0m\n",
            "\u001b[32m2025-01-16 16:20:05.522\u001b[0m | \u001b[1mINFO    \u001b[0m | \u001b[36m__main__\u001b[0m:\u001b[36mtrain\u001b[0m:\u001b[36m197\u001b[0m - \u001b[1mepoch: 2  batch: 532/1475  loss: 0.2712 (0.3972)  lr: 0.001000\u001b[0m\n",
            "\u001b[32m2025-01-16 16:20:17.627\u001b[0m | \u001b[1mINFO    \u001b[0m | \u001b[36m__main__\u001b[0m:\u001b[36mtrain\u001b[0m:\u001b[36m197\u001b[0m - \u001b[1mepoch: 2  batch: 546/1475  loss: 0.2706 (0.3967)  lr: 0.001000\u001b[0m\n",
            "\u001b[32m2025-01-16 16:20:29.735\u001b[0m | \u001b[1mINFO    \u001b[0m | \u001b[36m__main__\u001b[0m:\u001b[36mtrain\u001b[0m:\u001b[36m197\u001b[0m - \u001b[1mepoch: 2  batch: 560/1475  loss: 0.2640 (0.3961)  lr: 0.001000\u001b[0m\n",
            "\u001b[32m2025-01-16 16:20:41.849\u001b[0m | \u001b[1mINFO    \u001b[0m | \u001b[36m__main__\u001b[0m:\u001b[36mtrain\u001b[0m:\u001b[36m197\u001b[0m - \u001b[1mepoch: 2  batch: 574/1475  loss: 0.2630 (0.3956)  lr: 0.001000\u001b[0m\n",
            "\u001b[32m2025-01-16 16:20:53.931\u001b[0m | \u001b[1mINFO    \u001b[0m | \u001b[36m__main__\u001b[0m:\u001b[36mtrain\u001b[0m:\u001b[36m197\u001b[0m - \u001b[1mepoch: 2  batch: 588/1475  loss: 0.2626 (0.3951)  lr: 0.001000\u001b[0m\n",
            "\u001b[32m2025-01-16 16:21:06.002\u001b[0m | \u001b[1mINFO    \u001b[0m | \u001b[36m__main__\u001b[0m:\u001b[36mtrain\u001b[0m:\u001b[36m197\u001b[0m - \u001b[1mepoch: 2  batch: 602/1475  loss: 0.2645 (0.3946)  lr: 0.001000\u001b[0m\n",
            "\u001b[32m2025-01-16 16:21:18.058\u001b[0m | \u001b[1mINFO    \u001b[0m | \u001b[36m__main__\u001b[0m:\u001b[36mtrain\u001b[0m:\u001b[36m197\u001b[0m - \u001b[1mepoch: 2  batch: 616/1475  loss: 0.2598 (0.3940)  lr: 0.001000\u001b[0m\n",
            "\u001b[32m2025-01-16 16:21:30.166\u001b[0m | \u001b[1mINFO    \u001b[0m | \u001b[36m__main__\u001b[0m:\u001b[36mtrain\u001b[0m:\u001b[36m197\u001b[0m - \u001b[1mepoch: 2  batch: 630/1475  loss: 0.2603 (0.3935)  lr: 0.001000\u001b[0m\n",
            "\u001b[32m2025-01-16 16:21:42.274\u001b[0m | \u001b[1mINFO    \u001b[0m | \u001b[36m__main__\u001b[0m:\u001b[36mtrain\u001b[0m:\u001b[36m197\u001b[0m - \u001b[1mepoch: 2  batch: 644/1475  loss: 0.2648 (0.3930)  lr: 0.001000\u001b[0m\n",
            "\u001b[32m2025-01-16 16:21:54.374\u001b[0m | \u001b[1mINFO    \u001b[0m | \u001b[36m__main__\u001b[0m:\u001b[36mtrain\u001b[0m:\u001b[36m197\u001b[0m - \u001b[1mepoch: 2  batch: 658/1475  loss: 0.2631 (0.3925)  lr: 0.001000\u001b[0m\n",
            "\u001b[32m2025-01-16 16:22:06.463\u001b[0m | \u001b[1mINFO    \u001b[0m | \u001b[36m__main__\u001b[0m:\u001b[36mtrain\u001b[0m:\u001b[36m197\u001b[0m - \u001b[1mepoch: 2  batch: 672/1475  loss: 0.2583 (0.3920)  lr: 0.001000\u001b[0m\n",
            "\u001b[32m2025-01-16 16:22:18.611\u001b[0m | \u001b[1mINFO    \u001b[0m | \u001b[36m__main__\u001b[0m:\u001b[36mtrain\u001b[0m:\u001b[36m197\u001b[0m - \u001b[1mepoch: 2  batch: 686/1475  loss: 0.2618 (0.3916)  lr: 0.001000\u001b[0m\n",
            "\u001b[32m2025-01-16 16:22:30.733\u001b[0m | \u001b[1mINFO    \u001b[0m | \u001b[36m__main__\u001b[0m:\u001b[36mtrain\u001b[0m:\u001b[36m197\u001b[0m - \u001b[1mepoch: 2  batch: 700/1475  loss: 0.2543 (0.3910)  lr: 0.001000\u001b[0m\n",
            "\u001b[32m2025-01-16 16:22:42.822\u001b[0m | \u001b[1mINFO    \u001b[0m | \u001b[36m__main__\u001b[0m:\u001b[36mtrain\u001b[0m:\u001b[36m197\u001b[0m - \u001b[1mepoch: 2  batch: 714/1475  loss: 0.2543 (0.3905)  lr: 0.001000\u001b[0m\n",
            "\u001b[32m2025-01-16 16:22:54.985\u001b[0m | \u001b[1mINFO    \u001b[0m | \u001b[36m__main__\u001b[0m:\u001b[36mtrain\u001b[0m:\u001b[36m197\u001b[0m - \u001b[1mepoch: 2  batch: 728/1475  loss: 0.2643 (0.3901)  lr: 0.001000\u001b[0m\n",
            "\u001b[32m2025-01-16 16:23:07.138\u001b[0m | \u001b[1mINFO    \u001b[0m | \u001b[36m__main__\u001b[0m:\u001b[36mtrain\u001b[0m:\u001b[36m197\u001b[0m - \u001b[1mepoch: 2  batch: 742/1475  loss: 0.2553 (0.3896)  lr: 0.001000\u001b[0m\n",
            "\u001b[32m2025-01-16 16:23:19.300\u001b[0m | \u001b[1mINFO    \u001b[0m | \u001b[36m__main__\u001b[0m:\u001b[36mtrain\u001b[0m:\u001b[36m197\u001b[0m - \u001b[1mepoch: 2  batch: 756/1475  loss: 0.2551 (0.3891)  lr: 0.001000\u001b[0m\n",
            "\u001b[32m2025-01-16 16:23:31.434\u001b[0m | \u001b[1mINFO    \u001b[0m | \u001b[36m__main__\u001b[0m:\u001b[36mtrain\u001b[0m:\u001b[36m197\u001b[0m - \u001b[1mepoch: 2  batch: 770/1475  loss: 0.2595 (0.3886)  lr: 0.001000\u001b[0m\n",
            "\u001b[32m2025-01-16 16:23:43.522\u001b[0m | \u001b[1mINFO    \u001b[0m | \u001b[36m__main__\u001b[0m:\u001b[36mtrain\u001b[0m:\u001b[36m197\u001b[0m - \u001b[1mepoch: 2  batch: 784/1475  loss: 0.2581 (0.3881)  lr: 0.001000\u001b[0m\n",
            "\u001b[32m2025-01-16 16:23:55.625\u001b[0m | \u001b[1mINFO    \u001b[0m | \u001b[36m__main__\u001b[0m:\u001b[36mtrain\u001b[0m:\u001b[36m197\u001b[0m - \u001b[1mepoch: 2  batch: 798/1475  loss: 0.2532 (0.3876)  lr: 0.001000\u001b[0m\n",
            "\u001b[32m2025-01-16 16:24:07.701\u001b[0m | \u001b[1mINFO    \u001b[0m | \u001b[36m__main__\u001b[0m:\u001b[36mtrain\u001b[0m:\u001b[36m197\u001b[0m - \u001b[1mepoch: 2  batch: 812/1475  loss: 0.2565 (0.3871)  lr: 0.001000\u001b[0m\n",
            "\u001b[32m2025-01-16 16:24:19.783\u001b[0m | \u001b[1mINFO    \u001b[0m | \u001b[36m__main__\u001b[0m:\u001b[36mtrain\u001b[0m:\u001b[36m197\u001b[0m - \u001b[1mepoch: 2  batch: 826/1475  loss: 0.2646 (0.3867)  lr: 0.001000\u001b[0m\n",
            "\u001b[32m2025-01-16 16:24:31.925\u001b[0m | \u001b[1mINFO    \u001b[0m | \u001b[36m__main__\u001b[0m:\u001b[36mtrain\u001b[0m:\u001b[36m197\u001b[0m - \u001b[1mepoch: 2  batch: 840/1475  loss: 0.2536 (0.3862)  lr: 0.001000\u001b[0m\n",
            "\u001b[32m2025-01-16 16:24:44.027\u001b[0m | \u001b[1mINFO    \u001b[0m | \u001b[36m__main__\u001b[0m:\u001b[36mtrain\u001b[0m:\u001b[36m197\u001b[0m - \u001b[1mepoch: 2  batch: 854/1475  loss: 0.2568 (0.3857)  lr: 0.001000\u001b[0m\n",
            "\u001b[32m2025-01-16 16:24:56.152\u001b[0m | \u001b[1mINFO    \u001b[0m | \u001b[36m__main__\u001b[0m:\u001b[36mtrain\u001b[0m:\u001b[36m197\u001b[0m - \u001b[1mepoch: 2  batch: 868/1475  loss: 0.2633 (0.3853)  lr: 0.001000\u001b[0m\n",
            "\u001b[32m2025-01-16 16:25:08.287\u001b[0m | \u001b[1mINFO    \u001b[0m | \u001b[36m__main__\u001b[0m:\u001b[36mtrain\u001b[0m:\u001b[36m197\u001b[0m - \u001b[1mepoch: 2  batch: 882/1475  loss: 0.2596 (0.3848)  lr: 0.001000\u001b[0m\n",
            "\u001b[32m2025-01-16 16:25:20.424\u001b[0m | \u001b[1mINFO    \u001b[0m | \u001b[36m__main__\u001b[0m:\u001b[36mtrain\u001b[0m:\u001b[36m197\u001b[0m - \u001b[1mepoch: 2  batch: 896/1475  loss: 0.2574 (0.3843)  lr: 0.001000\u001b[0m\n",
            "\u001b[32m2025-01-16 16:25:32.540\u001b[0m | \u001b[1mINFO    \u001b[0m | \u001b[36m__main__\u001b[0m:\u001b[36mtrain\u001b[0m:\u001b[36m197\u001b[0m - \u001b[1mepoch: 2  batch: 910/1475  loss: 0.2582 (0.3839)  lr: 0.001000\u001b[0m\n",
            "\u001b[32m2025-01-16 16:25:44.675\u001b[0m | \u001b[1mINFO    \u001b[0m | \u001b[36m__main__\u001b[0m:\u001b[36mtrain\u001b[0m:\u001b[36m197\u001b[0m - \u001b[1mepoch: 2  batch: 924/1475  loss: 0.2520 (0.3834)  lr: 0.001000\u001b[0m\n",
            "\u001b[32m2025-01-16 16:25:56.830\u001b[0m | \u001b[1mINFO    \u001b[0m | \u001b[36m__main__\u001b[0m:\u001b[36mtrain\u001b[0m:\u001b[36m197\u001b[0m - \u001b[1mepoch: 2  batch: 938/1475  loss: 0.2532 (0.3829)  lr: 0.001000\u001b[0m\n",
            "\u001b[32m2025-01-16 16:26:08.946\u001b[0m | \u001b[1mINFO    \u001b[0m | \u001b[36m__main__\u001b[0m:\u001b[36mtrain\u001b[0m:\u001b[36m197\u001b[0m - \u001b[1mepoch: 2  batch: 952/1475  loss: 0.2581 (0.3825)  lr: 0.001000\u001b[0m\n",
            "\u001b[32m2025-01-16 16:26:21.061\u001b[0m | \u001b[1mINFO    \u001b[0m | \u001b[36m__main__\u001b[0m:\u001b[36mtrain\u001b[0m:\u001b[36m197\u001b[0m - \u001b[1mepoch: 2  batch: 966/1475  loss: 0.2537 (0.3820)  lr: 0.001000\u001b[0m\n",
            "\u001b[32m2025-01-16 16:26:33.215\u001b[0m | \u001b[1mINFO    \u001b[0m | \u001b[36m__main__\u001b[0m:\u001b[36mtrain\u001b[0m:\u001b[36m197\u001b[0m - \u001b[1mepoch: 2  batch: 980/1475  loss: 0.2496 (0.3816)  lr: 0.001000\u001b[0m\n",
            "\u001b[32m2025-01-16 16:26:45.375\u001b[0m | \u001b[1mINFO    \u001b[0m | \u001b[36m__main__\u001b[0m:\u001b[36mtrain\u001b[0m:\u001b[36m197\u001b[0m - \u001b[1mepoch: 2  batch: 994/1475  loss: 0.2511 (0.3811)  lr: 0.001000\u001b[0m\n",
            "\u001b[32m2025-01-16 16:26:57.503\u001b[0m | \u001b[1mINFO    \u001b[0m | \u001b[36m__main__\u001b[0m:\u001b[36mtrain\u001b[0m:\u001b[36m197\u001b[0m - \u001b[1mepoch: 2  batch: 1008/1475  loss: 0.2511 (0.3807)  lr: 0.001000\u001b[0m\n",
            "\u001b[32m2025-01-16 16:27:09.554\u001b[0m | \u001b[1mINFO    \u001b[0m | \u001b[36m__main__\u001b[0m:\u001b[36mtrain\u001b[0m:\u001b[36m197\u001b[0m - \u001b[1mepoch: 2  batch: 1022/1475  loss: 0.2582 (0.3802)  lr: 0.001000\u001b[0m\n",
            "\u001b[32m2025-01-16 16:27:21.670\u001b[0m | \u001b[1mINFO    \u001b[0m | \u001b[36m__main__\u001b[0m:\u001b[36mtrain\u001b[0m:\u001b[36m197\u001b[0m - \u001b[1mepoch: 2  batch: 1036/1475  loss: 0.2619 (0.3798)  lr: 0.001000\u001b[0m\n",
            "\u001b[32m2025-01-16 16:27:33.774\u001b[0m | \u001b[1mINFO    \u001b[0m | \u001b[36m__main__\u001b[0m:\u001b[36mtrain\u001b[0m:\u001b[36m197\u001b[0m - \u001b[1mepoch: 2  batch: 1050/1475  loss: 0.2494 (0.3793)  lr: 0.001000\u001b[0m\n",
            "\u001b[32m2025-01-16 16:27:45.888\u001b[0m | \u001b[1mINFO    \u001b[0m | \u001b[36m__main__\u001b[0m:\u001b[36mtrain\u001b[0m:\u001b[36m197\u001b[0m - \u001b[1mepoch: 2  batch: 1064/1475  loss: 0.2497 (0.3789)  lr: 0.001000\u001b[0m\n",
            "\u001b[32m2025-01-16 16:27:57.999\u001b[0m | \u001b[1mINFO    \u001b[0m | \u001b[36m__main__\u001b[0m:\u001b[36mtrain\u001b[0m:\u001b[36m197\u001b[0m - \u001b[1mepoch: 2  batch: 1078/1475  loss: 0.2483 (0.3785)  lr: 0.001000\u001b[0m\n",
            "\u001b[32m2025-01-16 16:28:10.147\u001b[0m | \u001b[1mINFO    \u001b[0m | \u001b[36m__main__\u001b[0m:\u001b[36mtrain\u001b[0m:\u001b[36m197\u001b[0m - \u001b[1mepoch: 2  batch: 1092/1475  loss: 0.2407 (0.3780)  lr: 0.001000\u001b[0m\n",
            "\u001b[32m2025-01-16 16:28:22.342\u001b[0m | \u001b[1mINFO    \u001b[0m | \u001b[36m__main__\u001b[0m:\u001b[36mtrain\u001b[0m:\u001b[36m197\u001b[0m - \u001b[1mepoch: 2  batch: 1106/1475  loss: 0.2391 (0.3775)  lr: 0.001000\u001b[0m\n",
            "\u001b[32m2025-01-16 16:28:34.495\u001b[0m | \u001b[1mINFO    \u001b[0m | \u001b[36m__main__\u001b[0m:\u001b[36mtrain\u001b[0m:\u001b[36m197\u001b[0m - \u001b[1mepoch: 2  batch: 1120/1475  loss: 0.2474 (0.3771)  lr: 0.001000\u001b[0m\n",
            "\u001b[32m2025-01-16 16:28:46.644\u001b[0m | \u001b[1mINFO    \u001b[0m | \u001b[36m__main__\u001b[0m:\u001b[36mtrain\u001b[0m:\u001b[36m197\u001b[0m - \u001b[1mepoch: 2  batch: 1134/1475  loss: 0.2468 (0.3766)  lr: 0.001000\u001b[0m\n",
            "\u001b[32m2025-01-16 16:28:58.838\u001b[0m | \u001b[1mINFO    \u001b[0m | \u001b[36m__main__\u001b[0m:\u001b[36mtrain\u001b[0m:\u001b[36m197\u001b[0m - \u001b[1mepoch: 2  batch: 1148/1475  loss: 0.2455 (0.3762)  lr: 0.001000\u001b[0m\n",
            "\u001b[32m2025-01-16 16:29:10.944\u001b[0m | \u001b[1mINFO    \u001b[0m | \u001b[36m__main__\u001b[0m:\u001b[36mtrain\u001b[0m:\u001b[36m197\u001b[0m - \u001b[1mepoch: 2  batch: 1162/1475  loss: 0.2462 (0.3758)  lr: 0.001000\u001b[0m\n",
            "\u001b[32m2025-01-16 16:29:23.075\u001b[0m | \u001b[1mINFO    \u001b[0m | \u001b[36m__main__\u001b[0m:\u001b[36mtrain\u001b[0m:\u001b[36m197\u001b[0m - \u001b[1mepoch: 2  batch: 1176/1475  loss: 0.2452 (0.3753)  lr: 0.001000\u001b[0m\n",
            "\u001b[32m2025-01-16 16:29:35.242\u001b[0m | \u001b[1mINFO    \u001b[0m | \u001b[36m__main__\u001b[0m:\u001b[36mtrain\u001b[0m:\u001b[36m197\u001b[0m - \u001b[1mepoch: 2  batch: 1190/1475  loss: 0.2443 (0.3749)  lr: 0.001000\u001b[0m\n",
            "\u001b[32m2025-01-16 16:29:47.367\u001b[0m | \u001b[1mINFO    \u001b[0m | \u001b[36m__main__\u001b[0m:\u001b[36mtrain\u001b[0m:\u001b[36m197\u001b[0m - \u001b[1mepoch: 2  batch: 1204/1475  loss: 0.2427 (0.3745)  lr: 0.001000\u001b[0m\n",
            "\u001b[32m2025-01-16 16:29:59.470\u001b[0m | \u001b[1mINFO    \u001b[0m | \u001b[36m__main__\u001b[0m:\u001b[36mtrain\u001b[0m:\u001b[36m197\u001b[0m - \u001b[1mepoch: 2  batch: 1218/1475  loss: 0.2404 (0.3740)  lr: 0.001000\u001b[0m\n",
            "\u001b[32m2025-01-16 16:30:11.602\u001b[0m | \u001b[1mINFO    \u001b[0m | \u001b[36m__main__\u001b[0m:\u001b[36mtrain\u001b[0m:\u001b[36m197\u001b[0m - \u001b[1mepoch: 2  batch: 1232/1475  loss: 0.2409 (0.3736)  lr: 0.001000\u001b[0m\n",
            "\u001b[32m2025-01-16 16:30:23.740\u001b[0m | \u001b[1mINFO    \u001b[0m | \u001b[36m__main__\u001b[0m:\u001b[36mtrain\u001b[0m:\u001b[36m197\u001b[0m - \u001b[1mepoch: 2  batch: 1246/1475  loss: 0.2406 (0.3731)  lr: 0.001000\u001b[0m\n",
            "\u001b[32m2025-01-16 16:30:35.902\u001b[0m | \u001b[1mINFO    \u001b[0m | \u001b[36m__main__\u001b[0m:\u001b[36mtrain\u001b[0m:\u001b[36m197\u001b[0m - \u001b[1mepoch: 2  batch: 1260/1475  loss: 0.2360 (0.3727)  lr: 0.001000\u001b[0m\n",
            "\u001b[32m2025-01-16 16:30:48.186\u001b[0m | \u001b[1mINFO    \u001b[0m | \u001b[36m__main__\u001b[0m:\u001b[36mtrain\u001b[0m:\u001b[36m197\u001b[0m - \u001b[1mepoch: 2  batch: 1274/1475  loss: 0.2512 (0.3723)  lr: 0.001000\u001b[0m\n",
            "\u001b[32m2025-01-16 16:31:00.355\u001b[0m | \u001b[1mINFO    \u001b[0m | \u001b[36m__main__\u001b[0m:\u001b[36mtrain\u001b[0m:\u001b[36m197\u001b[0m - \u001b[1mepoch: 2  batch: 1288/1475  loss: 0.2448 (0.3719)  lr: 0.001000\u001b[0m\n",
            "\u001b[32m2025-01-16 16:31:12.477\u001b[0m | \u001b[1mINFO    \u001b[0m | \u001b[36m__main__\u001b[0m:\u001b[36mtrain\u001b[0m:\u001b[36m197\u001b[0m - \u001b[1mepoch: 2  batch: 1302/1475  loss: 0.2432 (0.3715)  lr: 0.001000\u001b[0m\n",
            "\u001b[32m2025-01-16 16:31:24.577\u001b[0m | \u001b[1mINFO    \u001b[0m | \u001b[36m__main__\u001b[0m:\u001b[36mtrain\u001b[0m:\u001b[36m197\u001b[0m - \u001b[1mepoch: 2  batch: 1316/1475  loss: 0.2445 (0.3711)  lr: 0.001000\u001b[0m\n",
            "\u001b[32m2025-01-16 16:31:36.701\u001b[0m | \u001b[1mINFO    \u001b[0m | \u001b[36m__main__\u001b[0m:\u001b[36mtrain\u001b[0m:\u001b[36m197\u001b[0m - \u001b[1mepoch: 2  batch: 1330/1475  loss: 0.2413 (0.3707)  lr: 0.001000\u001b[0m\n",
            "\u001b[32m2025-01-16 16:31:48.870\u001b[0m | \u001b[1mINFO    \u001b[0m | \u001b[36m__main__\u001b[0m:\u001b[36mtrain\u001b[0m:\u001b[36m197\u001b[0m - \u001b[1mepoch: 2  batch: 1344/1475  loss: 0.2490 (0.3704)  lr: 0.001000\u001b[0m\n",
            "\u001b[32m2025-01-16 16:32:01.040\u001b[0m | \u001b[1mINFO    \u001b[0m | \u001b[36m__main__\u001b[0m:\u001b[36mtrain\u001b[0m:\u001b[36m197\u001b[0m - \u001b[1mepoch: 2  batch: 1358/1475  loss: 0.2712 (0.3701)  lr: 0.001000\u001b[0m\n",
            "\u001b[32m2025-01-16 16:32:13.215\u001b[0m | \u001b[1mINFO    \u001b[0m | \u001b[36m__main__\u001b[0m:\u001b[36mtrain\u001b[0m:\u001b[36m197\u001b[0m - \u001b[1mepoch: 2  batch: 1372/1475  loss: 0.2577 (0.3697)  lr: 0.001000\u001b[0m\n",
            "\u001b[32m2025-01-16 16:32:25.420\u001b[0m | \u001b[1mINFO    \u001b[0m | \u001b[36m__main__\u001b[0m:\u001b[36mtrain\u001b[0m:\u001b[36m197\u001b[0m - \u001b[1mepoch: 2  batch: 1386/1475  loss: 0.2528 (0.3693)  lr: 0.001000\u001b[0m\n",
            "\u001b[32m2025-01-16 16:32:37.556\u001b[0m | \u001b[1mINFO    \u001b[0m | \u001b[36m__main__\u001b[0m:\u001b[36mtrain\u001b[0m:\u001b[36m197\u001b[0m - \u001b[1mepoch: 2  batch: 1400/1475  loss: 0.2512 (0.3690)  lr: 0.001000\u001b[0m\n",
            "\u001b[32m2025-01-16 16:32:49.680\u001b[0m | \u001b[1mINFO    \u001b[0m | \u001b[36m__main__\u001b[0m:\u001b[36mtrain\u001b[0m:\u001b[36m197\u001b[0m - \u001b[1mepoch: 2  batch: 1414/1475  loss: 0.2430 (0.3686)  lr: 0.001000\u001b[0m\n",
            "\u001b[32m2025-01-16 16:33:01.838\u001b[0m | \u001b[1mINFO    \u001b[0m | \u001b[36m__main__\u001b[0m:\u001b[36mtrain\u001b[0m:\u001b[36m197\u001b[0m - \u001b[1mepoch: 2  batch: 1428/1475  loss: 0.2492 (0.3682)  lr: 0.001000\u001b[0m\n",
            "\u001b[32m2025-01-16 16:33:13.975\u001b[0m | \u001b[1mINFO    \u001b[0m | \u001b[36m__main__\u001b[0m:\u001b[36mtrain\u001b[0m:\u001b[36m197\u001b[0m - \u001b[1mepoch: 2  batch: 1442/1475  loss: 0.2403 (0.3678)  lr: 0.001000\u001b[0m\n",
            "\u001b[32m2025-01-16 16:33:26.097\u001b[0m | \u001b[1mINFO    \u001b[0m | \u001b[36m__main__\u001b[0m:\u001b[36mtrain\u001b[0m:\u001b[36m197\u001b[0m - \u001b[1mepoch: 2  batch: 1456/1475  loss: 0.2412 (0.3674)  lr: 0.001000\u001b[0m\n",
            "\u001b[32m2025-01-16 16:33:38.268\u001b[0m | \u001b[1mINFO    \u001b[0m | \u001b[36m__main__\u001b[0m:\u001b[36mtrain\u001b[0m:\u001b[36m197\u001b[0m - \u001b[1mepoch: 2  batch: 1470/1475  loss: 0.2412 (0.3670)  lr: 0.001000\u001b[0m\n",
            "\u001b[32m2025-01-16 16:33:42.334\u001b[0m | \u001b[1mINFO    \u001b[0m | \u001b[36m__main__\u001b[0m:\u001b[36mtrain\u001b[0m:\u001b[36m219\u001b[0m - \u001b[1mFinish epoch: 2, without validation\u001b[0m\n",
            "\u001b[32m2025-01-16 16:33:59.804\u001b[0m | \u001b[1mINFO    \u001b[0m | \u001b[36m__main__\u001b[0m:\u001b[36mtrain\u001b[0m:\u001b[36m197\u001b[0m - \u001b[1mepoch: 3  batch: 14/1475  loss: 0.2286 (0.3664)  lr: 0.001000\u001b[0m\n",
            "\u001b[32m2025-01-16 16:34:12.092\u001b[0m | \u001b[1mINFO    \u001b[0m | \u001b[36m__main__\u001b[0m:\u001b[36mtrain\u001b[0m:\u001b[36m197\u001b[0m - \u001b[1mepoch: 3  batch: 28/1475  loss: 0.2234 (0.3659)  lr: 0.001000\u001b[0m\n",
            "\u001b[32m2025-01-16 16:34:24.365\u001b[0m | \u001b[1mINFO    \u001b[0m | \u001b[36m__main__\u001b[0m:\u001b[36mtrain\u001b[0m:\u001b[36m197\u001b[0m - \u001b[1mepoch: 3  batch: 42/1475  loss: 0.2282 (0.3655)  lr: 0.001000\u001b[0m\n",
            "\u001b[32m2025-01-16 16:34:36.534\u001b[0m | \u001b[1mINFO    \u001b[0m | \u001b[36m__main__\u001b[0m:\u001b[36mtrain\u001b[0m:\u001b[36m197\u001b[0m - \u001b[1mepoch: 3  batch: 56/1475  loss: 0.2238 (0.3651)  lr: 0.001000\u001b[0m\n",
            "\u001b[32m2025-01-16 16:34:48.653\u001b[0m | \u001b[1mINFO    \u001b[0m | \u001b[36m__main__\u001b[0m:\u001b[36mtrain\u001b[0m:\u001b[36m197\u001b[0m - \u001b[1mepoch: 3  batch: 70/1475  loss: 0.2227 (0.3646)  lr: 0.001000\u001b[0m\n",
            "\u001b[32m2025-01-16 16:35:00.775\u001b[0m | \u001b[1mINFO    \u001b[0m | \u001b[36m__main__\u001b[0m:\u001b[36mtrain\u001b[0m:\u001b[36m197\u001b[0m - \u001b[1mepoch: 3  batch: 84/1475  loss: 0.2216 (0.3642)  lr: 0.001000\u001b[0m\n",
            "\u001b[32m2025-01-16 16:35:12.911\u001b[0m | \u001b[1mINFO    \u001b[0m | \u001b[36m__main__\u001b[0m:\u001b[36mtrain\u001b[0m:\u001b[36m197\u001b[0m - \u001b[1mepoch: 3  batch: 98/1475  loss: 0.2164 (0.3637)  lr: 0.001000\u001b[0m\n",
            "\u001b[32m2025-01-16 16:35:25.079\u001b[0m | \u001b[1mINFO    \u001b[0m | \u001b[36m__main__\u001b[0m:\u001b[36mtrain\u001b[0m:\u001b[36m197\u001b[0m - \u001b[1mepoch: 3  batch: 112/1475  loss: 0.2256 (0.3633)  lr: 0.001000\u001b[0m\n",
            "\u001b[32m2025-01-16 16:35:37.249\u001b[0m | \u001b[1mINFO    \u001b[0m | \u001b[36m__main__\u001b[0m:\u001b[36mtrain\u001b[0m:\u001b[36m197\u001b[0m - \u001b[1mepoch: 3  batch: 126/1475  loss: 0.2235 (0.3629)  lr: 0.001000\u001b[0m\n",
            "\u001b[32m2025-01-16 16:35:49.444\u001b[0m | \u001b[1mINFO    \u001b[0m | \u001b[36m__main__\u001b[0m:\u001b[36mtrain\u001b[0m:\u001b[36m197\u001b[0m - \u001b[1mepoch: 3  batch: 140/1475  loss: 0.2195 (0.3624)  lr: 0.001000\u001b[0m\n",
            "\u001b[32m2025-01-16 16:36:01.621\u001b[0m | \u001b[1mINFO    \u001b[0m | \u001b[36m__main__\u001b[0m:\u001b[36mtrain\u001b[0m:\u001b[36m197\u001b[0m - \u001b[1mepoch: 3  batch: 154/1475  loss: 0.2191 (0.3620)  lr: 0.001000\u001b[0m\n",
            "\u001b[32m2025-01-16 16:36:13.767\u001b[0m | \u001b[1mINFO    \u001b[0m | \u001b[36m__main__\u001b[0m:\u001b[36mtrain\u001b[0m:\u001b[36m197\u001b[0m - \u001b[1mepoch: 3  batch: 168/1475  loss: 0.2317 (0.3616)  lr: 0.001000\u001b[0m\n",
            "\u001b[32m2025-01-16 16:36:25.888\u001b[0m | \u001b[1mINFO    \u001b[0m | \u001b[36m__main__\u001b[0m:\u001b[36mtrain\u001b[0m:\u001b[36m197\u001b[0m - \u001b[1mepoch: 3  batch: 182/1475  loss: 0.2244 (0.3612)  lr: 0.001000\u001b[0m\n",
            "\u001b[32m2025-01-16 16:36:38.048\u001b[0m | \u001b[1mINFO    \u001b[0m | \u001b[36m__main__\u001b[0m:\u001b[36mtrain\u001b[0m:\u001b[36m197\u001b[0m - \u001b[1mepoch: 3  batch: 196/1475  loss: 0.2203 (0.3608)  lr: 0.001000\u001b[0m\n",
            "\u001b[32m2025-01-16 16:36:50.195\u001b[0m | \u001b[1mINFO    \u001b[0m | \u001b[36m__main__\u001b[0m:\u001b[36mtrain\u001b[0m:\u001b[36m197\u001b[0m - \u001b[1mepoch: 3  batch: 210/1475  loss: 0.2204 (0.3603)  lr: 0.001000\u001b[0m\n",
            "\u001b[32m2025-01-16 16:37:02.360\u001b[0m | \u001b[1mINFO    \u001b[0m | \u001b[36m__main__\u001b[0m:\u001b[36mtrain\u001b[0m:\u001b[36m197\u001b[0m - \u001b[1mepoch: 3  batch: 224/1475  loss: 0.2278 (0.3599)  lr: 0.001000\u001b[0m\n",
            "\u001b[32m2025-01-16 16:37:14.531\u001b[0m | \u001b[1mINFO    \u001b[0m | \u001b[36m__main__\u001b[0m:\u001b[36mtrain\u001b[0m:\u001b[36m197\u001b[0m - \u001b[1mepoch: 3  batch: 238/1475  loss: 0.2273 (0.3595)  lr: 0.001000\u001b[0m\n",
            "\u001b[32m2025-01-16 16:37:26.716\u001b[0m | \u001b[1mINFO    \u001b[0m | \u001b[36m__main__\u001b[0m:\u001b[36mtrain\u001b[0m:\u001b[36m197\u001b[0m - \u001b[1mepoch: 3  batch: 252/1475  loss: 0.2281 (0.3591)  lr: 0.001000\u001b[0m\n",
            "\u001b[32m2025-01-16 16:37:38.870\u001b[0m | \u001b[1mINFO    \u001b[0m | \u001b[36m__main__\u001b[0m:\u001b[36mtrain\u001b[0m:\u001b[36m197\u001b[0m - \u001b[1mepoch: 3  batch: 266/1475  loss: 0.2288 (0.3588)  lr: 0.001000\u001b[0m\n",
            "\u001b[32m2025-01-16 16:37:51.066\u001b[0m | \u001b[1mINFO    \u001b[0m | \u001b[36m__main__\u001b[0m:\u001b[36mtrain\u001b[0m:\u001b[36m197\u001b[0m - \u001b[1mepoch: 3  batch: 280/1475  loss: 0.2259 (0.3583)  lr: 0.001000\u001b[0m\n",
            "\u001b[32m2025-01-16 16:38:03.242\u001b[0m | \u001b[1mINFO    \u001b[0m | \u001b[36m__main__\u001b[0m:\u001b[36mtrain\u001b[0m:\u001b[36m197\u001b[0m - \u001b[1mepoch: 3  batch: 294/1475  loss: 0.2194 (0.3579)  lr: 0.001000\u001b[0m\n",
            "\u001b[32m2025-01-16 16:38:15.377\u001b[0m | \u001b[1mINFO    \u001b[0m | \u001b[36m__main__\u001b[0m:\u001b[36mtrain\u001b[0m:\u001b[36m197\u001b[0m - \u001b[1mepoch: 3  batch: 308/1475  loss: 0.2223 (0.3576)  lr: 0.001000\u001b[0m\n",
            "\u001b[32m2025-01-16 16:38:27.478\u001b[0m | \u001b[1mINFO    \u001b[0m | \u001b[36m__main__\u001b[0m:\u001b[36mtrain\u001b[0m:\u001b[36m197\u001b[0m - \u001b[1mepoch: 3  batch: 322/1475  loss: 0.2279 (0.3572)  lr: 0.001000\u001b[0m\n",
            "\u001b[32m2025-01-16 16:38:39.598\u001b[0m | \u001b[1mINFO    \u001b[0m | \u001b[36m__main__\u001b[0m:\u001b[36mtrain\u001b[0m:\u001b[36m197\u001b[0m - \u001b[1mepoch: 3  batch: 336/1475  loss: 0.2192 (0.3568)  lr: 0.001000\u001b[0m\n",
            "\u001b[32m2025-01-16 16:38:51.726\u001b[0m | \u001b[1mINFO    \u001b[0m | \u001b[36m__main__\u001b[0m:\u001b[36mtrain\u001b[0m:\u001b[36m197\u001b[0m - \u001b[1mepoch: 3  batch: 350/1475  loss: 0.2272 (0.3564)  lr: 0.001000\u001b[0m\n",
            "\u001b[32m2025-01-16 16:39:03.847\u001b[0m | \u001b[1mINFO    \u001b[0m | \u001b[36m__main__\u001b[0m:\u001b[36mtrain\u001b[0m:\u001b[36m197\u001b[0m - \u001b[1mepoch: 3  batch: 364/1475  loss: 0.2304 (0.3560)  lr: 0.001000\u001b[0m\n",
            "\u001b[32m2025-01-16 16:39:16.036\u001b[0m | \u001b[1mINFO    \u001b[0m | \u001b[36m__main__\u001b[0m:\u001b[36mtrain\u001b[0m:\u001b[36m197\u001b[0m - \u001b[1mepoch: 3  batch: 378/1475  loss: 0.2211 (0.3556)  lr: 0.001000\u001b[0m\n",
            "\u001b[32m2025-01-16 16:39:28.236\u001b[0m | \u001b[1mINFO    \u001b[0m | \u001b[36m__main__\u001b[0m:\u001b[36mtrain\u001b[0m:\u001b[36m197\u001b[0m - \u001b[1mepoch: 3  batch: 392/1475  loss: 0.2111 (0.3552)  lr: 0.001000\u001b[0m\n",
            "\u001b[32m2025-01-16 16:39:40.423\u001b[0m | \u001b[1mINFO    \u001b[0m | \u001b[36m__main__\u001b[0m:\u001b[36mtrain\u001b[0m:\u001b[36m197\u001b[0m - \u001b[1mepoch: 3  batch: 406/1475  loss: 0.2182 (0.3549)  lr: 0.001000\u001b[0m\n",
            "\u001b[32m2025-01-16 16:39:52.627\u001b[0m | \u001b[1mINFO    \u001b[0m | \u001b[36m__main__\u001b[0m:\u001b[36mtrain\u001b[0m:\u001b[36m197\u001b[0m - \u001b[1mepoch: 3  batch: 420/1475  loss: 0.2322 (0.3545)  lr: 0.001000\u001b[0m\n",
            "\u001b[32m2025-01-16 16:40:04.732\u001b[0m | \u001b[1mINFO    \u001b[0m | \u001b[36m__main__\u001b[0m:\u001b[36mtrain\u001b[0m:\u001b[36m197\u001b[0m - \u001b[1mepoch: 3  batch: 434/1475  loss: 0.2272 (0.3541)  lr: 0.001000\u001b[0m\n",
            "\u001b[32m2025-01-16 16:40:16.776\u001b[0m | \u001b[1mINFO    \u001b[0m | \u001b[36m__main__\u001b[0m:\u001b[36mtrain\u001b[0m:\u001b[36m197\u001b[0m - \u001b[1mepoch: 3  batch: 448/1475  loss: 0.2158 (0.3537)  lr: 0.001000\u001b[0m\n",
            "\u001b[32m2025-01-16 16:40:28.887\u001b[0m | \u001b[1mINFO    \u001b[0m | \u001b[36m__main__\u001b[0m:\u001b[36mtrain\u001b[0m:\u001b[36m197\u001b[0m - \u001b[1mepoch: 3  batch: 462/1475  loss: 0.2188 (0.3534)  lr: 0.001000\u001b[0m\n",
            "\u001b[32m2025-01-16 16:40:41.057\u001b[0m | \u001b[1mINFO    \u001b[0m | \u001b[36m__main__\u001b[0m:\u001b[36mtrain\u001b[0m:\u001b[36m197\u001b[0m - \u001b[1mepoch: 3  batch: 476/1475  loss: 0.2233 (0.3530)  lr: 0.001000\u001b[0m\n",
            "\u001b[32m2025-01-16 16:40:53.292\u001b[0m | \u001b[1mINFO    \u001b[0m | \u001b[36m__main__\u001b[0m:\u001b[36mtrain\u001b[0m:\u001b[36m197\u001b[0m - \u001b[1mepoch: 3  batch: 490/1475  loss: 0.2226 (0.3526)  lr: 0.001000\u001b[0m\n",
            "\u001b[32m2025-01-16 16:41:05.449\u001b[0m | \u001b[1mINFO    \u001b[0m | \u001b[36m__main__\u001b[0m:\u001b[36mtrain\u001b[0m:\u001b[36m197\u001b[0m - \u001b[1mepoch: 3  batch: 504/1475  loss: 0.2265 (0.3523)  lr: 0.001000\u001b[0m\n",
            "\u001b[32m2025-01-16 16:41:17.647\u001b[0m | \u001b[1mINFO    \u001b[0m | \u001b[36m__main__\u001b[0m:\u001b[36mtrain\u001b[0m:\u001b[36m197\u001b[0m - \u001b[1mepoch: 3  batch: 518/1475  loss: 0.2237 (0.3519)  lr: 0.001000\u001b[0m\n",
            "\u001b[32m2025-01-16 16:41:29.809\u001b[0m | \u001b[1mINFO    \u001b[0m | \u001b[36m__main__\u001b[0m:\u001b[36mtrain\u001b[0m:\u001b[36m197\u001b[0m - \u001b[1mepoch: 3  batch: 532/1475  loss: 0.2308 (0.3516)  lr: 0.001000\u001b[0m\n",
            "\u001b[32m2025-01-16 16:41:41.970\u001b[0m | \u001b[1mINFO    \u001b[0m | \u001b[36m__main__\u001b[0m:\u001b[36mtrain\u001b[0m:\u001b[36m197\u001b[0m - \u001b[1mepoch: 3  batch: 546/1475  loss: 0.2272 (0.3512)  lr: 0.001000\u001b[0m\n",
            "\u001b[32m2025-01-16 16:41:54.119\u001b[0m | \u001b[1mINFO    \u001b[0m | \u001b[36m__main__\u001b[0m:\u001b[36mtrain\u001b[0m:\u001b[36m197\u001b[0m - \u001b[1mepoch: 3  batch: 560/1475  loss: 0.2192 (0.3508)  lr: 0.001000\u001b[0m\n",
            "\u001b[32m2025-01-16 16:42:06.255\u001b[0m | \u001b[1mINFO    \u001b[0m | \u001b[36m__main__\u001b[0m:\u001b[36mtrain\u001b[0m:\u001b[36m197\u001b[0m - \u001b[1mepoch: 3  batch: 574/1475  loss: 0.2225 (0.3505)  lr: 0.001000\u001b[0m\n",
            "\u001b[32m2025-01-16 16:42:18.386\u001b[0m | \u001b[1mINFO    \u001b[0m | \u001b[36m__main__\u001b[0m:\u001b[36mtrain\u001b[0m:\u001b[36m197\u001b[0m - \u001b[1mepoch: 3  batch: 588/1475  loss: 0.2281 (0.3502)  lr: 0.001000\u001b[0m\n",
            "\u001b[32m2025-01-16 16:42:30.543\u001b[0m | \u001b[1mINFO    \u001b[0m | \u001b[36m__main__\u001b[0m:\u001b[36mtrain\u001b[0m:\u001b[36m197\u001b[0m - \u001b[1mepoch: 3  batch: 602/1475  loss: 0.2296 (0.3498)  lr: 0.001000\u001b[0m\n",
            "\u001b[32m2025-01-16 16:42:42.708\u001b[0m | \u001b[1mINFO    \u001b[0m | \u001b[36m__main__\u001b[0m:\u001b[36mtrain\u001b[0m:\u001b[36m197\u001b[0m - \u001b[1mepoch: 3  batch: 616/1475  loss: 0.2204 (0.3494)  lr: 0.001000\u001b[0m\n",
            "\u001b[32m2025-01-16 16:42:54.857\u001b[0m | \u001b[1mINFO    \u001b[0m | \u001b[36m__main__\u001b[0m:\u001b[36mtrain\u001b[0m:\u001b[36m197\u001b[0m - \u001b[1mepoch: 3  batch: 630/1475  loss: 0.2238 (0.3491)  lr: 0.001000\u001b[0m\n",
            "\u001b[32m2025-01-16 16:43:07.030\u001b[0m | \u001b[1mINFO    \u001b[0m | \u001b[36m__main__\u001b[0m:\u001b[36mtrain\u001b[0m:\u001b[36m197\u001b[0m - \u001b[1mepoch: 3  batch: 644/1475  loss: 0.2212 (0.3487)  lr: 0.001000\u001b[0m\n",
            "\u001b[32m2025-01-16 16:43:19.213\u001b[0m | \u001b[1mINFO    \u001b[0m | \u001b[36m__main__\u001b[0m:\u001b[36mtrain\u001b[0m:\u001b[36m197\u001b[0m - \u001b[1mepoch: 3  batch: 658/1475  loss: 0.2222 (0.3484)  lr: 0.001000\u001b[0m\n",
            "\u001b[32m2025-01-16 16:43:31.374\u001b[0m | \u001b[1mINFO    \u001b[0m | \u001b[36m__main__\u001b[0m:\u001b[36mtrain\u001b[0m:\u001b[36m197\u001b[0m - \u001b[1mepoch: 3  batch: 672/1475  loss: 0.2253 (0.3481)  lr: 0.001000\u001b[0m\n",
            "\u001b[32m2025-01-16 16:43:43.509\u001b[0m | \u001b[1mINFO    \u001b[0m | \u001b[36m__main__\u001b[0m:\u001b[36mtrain\u001b[0m:\u001b[36m197\u001b[0m - \u001b[1mepoch: 3  batch: 686/1475  loss: 0.2183 (0.3477)  lr: 0.001000\u001b[0m\n",
            "\u001b[32m2025-01-16 16:43:55.624\u001b[0m | \u001b[1mINFO    \u001b[0m | \u001b[36m__main__\u001b[0m:\u001b[36mtrain\u001b[0m:\u001b[36m197\u001b[0m - \u001b[1mepoch: 3  batch: 700/1475  loss: 0.2181 (0.3474)  lr: 0.001000\u001b[0m\n",
            "\u001b[32m2025-01-16 16:44:07.716\u001b[0m | \u001b[1mINFO    \u001b[0m | \u001b[36m__main__\u001b[0m:\u001b[36mtrain\u001b[0m:\u001b[36m197\u001b[0m - \u001b[1mepoch: 3  batch: 714/1475  loss: 0.2140 (0.3470)  lr: 0.001000\u001b[0m\n",
            "\u001b[32m2025-01-16 16:44:19.862\u001b[0m | \u001b[1mINFO    \u001b[0m | \u001b[36m__main__\u001b[0m:\u001b[36mtrain\u001b[0m:\u001b[36m197\u001b[0m - \u001b[1mepoch: 3  batch: 728/1475  loss: 0.2156 (0.3467)  lr: 0.001000\u001b[0m\n",
            "\u001b[32m2025-01-16 16:44:32.043\u001b[0m | \u001b[1mINFO    \u001b[0m | \u001b[36m__main__\u001b[0m:\u001b[36mtrain\u001b[0m:\u001b[36m197\u001b[0m - \u001b[1mepoch: 3  batch: 742/1475  loss: 0.2275 (0.3464)  lr: 0.001000\u001b[0m\n",
            "\u001b[32m2025-01-16 16:44:44.205\u001b[0m | \u001b[1mINFO    \u001b[0m | \u001b[36m__main__\u001b[0m:\u001b[36mtrain\u001b[0m:\u001b[36m197\u001b[0m - \u001b[1mepoch: 3  batch: 756/1475  loss: 0.2236 (0.3460)  lr: 0.001000\u001b[0m\n",
            "\u001b[32m2025-01-16 16:44:56.365\u001b[0m | \u001b[1mINFO    \u001b[0m | \u001b[36m__main__\u001b[0m:\u001b[36mtrain\u001b[0m:\u001b[36m197\u001b[0m - \u001b[1mepoch: 3  batch: 770/1475  loss: 0.2142 (0.3457)  lr: 0.001000\u001b[0m\n",
            "\u001b[32m2025-01-16 16:45:08.545\u001b[0m | \u001b[1mINFO    \u001b[0m | \u001b[36m__main__\u001b[0m:\u001b[36mtrain\u001b[0m:\u001b[36m197\u001b[0m - \u001b[1mepoch: 3  batch: 784/1475  loss: 0.2150 (0.3453)  lr: 0.001000\u001b[0m\n",
            "\u001b[32m2025-01-16 16:45:20.713\u001b[0m | \u001b[1mINFO    \u001b[0m | \u001b[36m__main__\u001b[0m:\u001b[36mtrain\u001b[0m:\u001b[36m197\u001b[0m - \u001b[1mepoch: 3  batch: 798/1475  loss: 0.2173 (0.3450)  lr: 0.001000\u001b[0m\n",
            "\u001b[32m2025-01-16 16:45:32.809\u001b[0m | \u001b[1mINFO    \u001b[0m | \u001b[36m__main__\u001b[0m:\u001b[36mtrain\u001b[0m:\u001b[36m197\u001b[0m - \u001b[1mepoch: 3  batch: 812/1475  loss: 0.2128 (0.3446)  lr: 0.001000\u001b[0m\n",
            "\u001b[32m2025-01-16 16:45:44.938\u001b[0m | \u001b[1mINFO    \u001b[0m | \u001b[36m__main__\u001b[0m:\u001b[36mtrain\u001b[0m:\u001b[36m197\u001b[0m - \u001b[1mepoch: 3  batch: 826/1475  loss: 0.2149 (0.3443)  lr: 0.001000\u001b[0m\n",
            "\u001b[32m2025-01-16 16:45:57.108\u001b[0m | \u001b[1mINFO    \u001b[0m | \u001b[36m__main__\u001b[0m:\u001b[36mtrain\u001b[0m:\u001b[36m197\u001b[0m - \u001b[1mepoch: 3  batch: 840/1475  loss: 0.2202 (0.3440)  lr: 0.001000\u001b[0m\n",
            "\u001b[32m2025-01-16 16:46:09.237\u001b[0m | \u001b[1mINFO    \u001b[0m | \u001b[36m__main__\u001b[0m:\u001b[36mtrain\u001b[0m:\u001b[36m197\u001b[0m - \u001b[1mepoch: 3  batch: 854/1475  loss: 0.2229 (0.3437)  lr: 0.001000\u001b[0m\n",
            "\u001b[32m2025-01-16 16:46:21.456\u001b[0m | \u001b[1mINFO    \u001b[0m | \u001b[36m__main__\u001b[0m:\u001b[36mtrain\u001b[0m:\u001b[36m197\u001b[0m - \u001b[1mepoch: 3  batch: 868/1475  loss: 0.2184 (0.3434)  lr: 0.001000\u001b[0m\n",
            "\u001b[32m2025-01-16 16:46:33.607\u001b[0m | \u001b[1mINFO    \u001b[0m | \u001b[36m__main__\u001b[0m:\u001b[36mtrain\u001b[0m:\u001b[36m197\u001b[0m - \u001b[1mepoch: 3  batch: 882/1475  loss: 0.2181 (0.3430)  lr: 0.001000\u001b[0m\n",
            "\u001b[32m2025-01-16 16:46:45.720\u001b[0m | \u001b[1mINFO    \u001b[0m | \u001b[36m__main__\u001b[0m:\u001b[36mtrain\u001b[0m:\u001b[36m197\u001b[0m - \u001b[1mepoch: 3  batch: 896/1475  loss: 0.2178 (0.3427)  lr: 0.001000\u001b[0m\n",
            "\u001b[32m2025-01-16 16:46:57.894\u001b[0m | \u001b[1mINFO    \u001b[0m | \u001b[36m__main__\u001b[0m:\u001b[36mtrain\u001b[0m:\u001b[36m197\u001b[0m - \u001b[1mepoch: 3  batch: 910/1475  loss: 0.2176 (0.3424)  lr: 0.001000\u001b[0m\n",
            "\u001b[32m2025-01-16 16:47:10.013\u001b[0m | \u001b[1mINFO    \u001b[0m | \u001b[36m__main__\u001b[0m:\u001b[36mtrain\u001b[0m:\u001b[36m197\u001b[0m - \u001b[1mepoch: 3  batch: 924/1475  loss: 0.2153 (0.3421)  lr: 0.001000\u001b[0m\n",
            "\u001b[32m2025-01-16 16:47:22.162\u001b[0m | \u001b[1mINFO    \u001b[0m | \u001b[36m__main__\u001b[0m:\u001b[36mtrain\u001b[0m:\u001b[36m197\u001b[0m - \u001b[1mepoch: 3  batch: 938/1475  loss: 0.2145 (0.3418)  lr: 0.001000\u001b[0m\n",
            "\u001b[32m2025-01-16 16:47:34.341\u001b[0m | \u001b[1mINFO    \u001b[0m | \u001b[36m__main__\u001b[0m:\u001b[36mtrain\u001b[0m:\u001b[36m197\u001b[0m - \u001b[1mepoch: 3  batch: 952/1475  loss: 0.2260 (0.3414)  lr: 0.001000\u001b[0m\n",
            "\u001b[32m2025-01-16 16:47:46.513\u001b[0m | \u001b[1mINFO    \u001b[0m | \u001b[36m__main__\u001b[0m:\u001b[36mtrain\u001b[0m:\u001b[36m197\u001b[0m - \u001b[1mepoch: 3  batch: 966/1475  loss: 0.2260 (0.3411)  lr: 0.001000\u001b[0m\n",
            "\u001b[32m2025-01-16 16:47:58.677\u001b[0m | \u001b[1mINFO    \u001b[0m | \u001b[36m__main__\u001b[0m:\u001b[36mtrain\u001b[0m:\u001b[36m197\u001b[0m - \u001b[1mepoch: 3  batch: 980/1475  loss: 0.2121 (0.3408)  lr: 0.001000\u001b[0m\n",
            "\u001b[32m2025-01-16 16:48:10.782\u001b[0m | \u001b[1mINFO    \u001b[0m | \u001b[36m__main__\u001b[0m:\u001b[36mtrain\u001b[0m:\u001b[36m197\u001b[0m - \u001b[1mepoch: 3  batch: 994/1475  loss: 0.2114 (0.3405)  lr: 0.001000\u001b[0m\n",
            "\u001b[32m2025-01-16 16:48:23.019\u001b[0m | \u001b[1mINFO    \u001b[0m | \u001b[36m__main__\u001b[0m:\u001b[36mtrain\u001b[0m:\u001b[36m197\u001b[0m - \u001b[1mepoch: 3  batch: 1008/1475  loss: 0.2162 (0.3402)  lr: 0.001000\u001b[0m\n",
            "\u001b[32m2025-01-16 16:48:35.167\u001b[0m | \u001b[1mINFO    \u001b[0m | \u001b[36m__main__\u001b[0m:\u001b[36mtrain\u001b[0m:\u001b[36m197\u001b[0m - \u001b[1mepoch: 3  batch: 1022/1475  loss: 0.2154 (0.3399)  lr: 0.001000\u001b[0m\n",
            "\u001b[32m2025-01-16 16:48:47.345\u001b[0m | \u001b[1mINFO    \u001b[0m | \u001b[36m__main__\u001b[0m:\u001b[36mtrain\u001b[0m:\u001b[36m197\u001b[0m - \u001b[1mepoch: 3  batch: 1036/1475  loss: 0.2123 (0.3395)  lr: 0.001000\u001b[0m\n",
            "\u001b[32m2025-01-16 16:48:59.481\u001b[0m | \u001b[1mINFO    \u001b[0m | \u001b[36m__main__\u001b[0m:\u001b[36mtrain\u001b[0m:\u001b[36m197\u001b[0m - \u001b[1mepoch: 3  batch: 1050/1475  loss: 0.2122 (0.3392)  lr: 0.001000\u001b[0m\n",
            "\u001b[32m2025-01-16 16:49:11.632\u001b[0m | \u001b[1mINFO    \u001b[0m | \u001b[36m__main__\u001b[0m:\u001b[36mtrain\u001b[0m:\u001b[36m197\u001b[0m - \u001b[1mepoch: 3  batch: 1064/1475  loss: 0.2172 (0.3389)  lr: 0.001000\u001b[0m\n",
            "\u001b[32m2025-01-16 16:49:23.767\u001b[0m | \u001b[1mINFO    \u001b[0m | \u001b[36m__main__\u001b[0m:\u001b[36mtrain\u001b[0m:\u001b[36m197\u001b[0m - \u001b[1mepoch: 3  batch: 1078/1475  loss: 0.2175 (0.3386)  lr: 0.001000\u001b[0m\n",
            "\u001b[32m2025-01-16 16:49:35.938\u001b[0m | \u001b[1mINFO    \u001b[0m | \u001b[36m__main__\u001b[0m:\u001b[36mtrain\u001b[0m:\u001b[36m197\u001b[0m - \u001b[1mepoch: 3  batch: 1092/1475  loss: 0.2175 (0.3383)  lr: 0.001000\u001b[0m\n",
            "\u001b[32m2025-01-16 16:49:48.134\u001b[0m | \u001b[1mINFO    \u001b[0m | \u001b[36m__main__\u001b[0m:\u001b[36mtrain\u001b[0m:\u001b[36m197\u001b[0m - \u001b[1mepoch: 3  batch: 1106/1475  loss: 0.2217 (0.3380)  lr: 0.001000\u001b[0m\n",
            "\u001b[32m2025-01-16 16:50:00.277\u001b[0m | \u001b[1mINFO    \u001b[0m | \u001b[36m__main__\u001b[0m:\u001b[36mtrain\u001b[0m:\u001b[36m197\u001b[0m - \u001b[1mepoch: 3  batch: 1120/1475  loss: 0.2204 (0.3377)  lr: 0.001000\u001b[0m\n",
            "\u001b[32m2025-01-16 16:50:12.400\u001b[0m | \u001b[1mINFO    \u001b[0m | \u001b[36m__main__\u001b[0m:\u001b[36mtrain\u001b[0m:\u001b[36m197\u001b[0m - \u001b[1mepoch: 3  batch: 1134/1475  loss: 0.2216 (0.3374)  lr: 0.001000\u001b[0m\n",
            "\u001b[32m2025-01-16 16:50:24.580\u001b[0m | \u001b[1mINFO    \u001b[0m | \u001b[36m__main__\u001b[0m:\u001b[36mtrain\u001b[0m:\u001b[36m197\u001b[0m - \u001b[1mepoch: 3  batch: 1148/1475  loss: 0.2225 (0.3371)  lr: 0.001000\u001b[0m\n",
            "\u001b[32m2025-01-16 16:50:36.739\u001b[0m | \u001b[1mINFO    \u001b[0m | \u001b[36m__main__\u001b[0m:\u001b[36mtrain\u001b[0m:\u001b[36m197\u001b[0m - \u001b[1mepoch: 3  batch: 1162/1475  loss: 0.2156 (0.3368)  lr: 0.001000\u001b[0m\n",
            "\u001b[32m2025-01-16 16:50:48.936\u001b[0m | \u001b[1mINFO    \u001b[0m | \u001b[36m__main__\u001b[0m:\u001b[36mtrain\u001b[0m:\u001b[36m197\u001b[0m - \u001b[1mepoch: 3  batch: 1176/1475  loss: 0.2156 (0.3365)  lr: 0.001000\u001b[0m\n",
            "\u001b[32m2025-01-16 16:51:01.085\u001b[0m | \u001b[1mINFO    \u001b[0m | \u001b[36m__main__\u001b[0m:\u001b[36mtrain\u001b[0m:\u001b[36m197\u001b[0m - \u001b[1mepoch: 3  batch: 1190/1475  loss: 0.3020 (0.3365)  lr: 0.001000\u001b[0m\n",
            "\u001b[32m2025-01-16 16:51:13.173\u001b[0m | \u001b[1mINFO    \u001b[0m | \u001b[36m__main__\u001b[0m:\u001b[36mtrain\u001b[0m:\u001b[36m197\u001b[0m - \u001b[1mepoch: 3  batch: 1204/1475  loss: 0.2742 (0.3363)  lr: 0.001000\u001b[0m\n",
            "\u001b[32m2025-01-16 16:51:25.357\u001b[0m | \u001b[1mINFO    \u001b[0m | \u001b[36m__main__\u001b[0m:\u001b[36mtrain\u001b[0m:\u001b[36m197\u001b[0m - \u001b[1mepoch: 3  batch: 1218/1475  loss: 0.2430 (0.3361)  lr: 0.001000\u001b[0m\n",
            "\u001b[32m2025-01-16 16:51:37.533\u001b[0m | \u001b[1mINFO    \u001b[0m | \u001b[36m__main__\u001b[0m:\u001b[36mtrain\u001b[0m:\u001b[36m197\u001b[0m - \u001b[1mepoch: 3  batch: 1232/1475  loss: 0.2669 (0.3359)  lr: 0.001000\u001b[0m\n",
            "\u001b[32m2025-01-16 16:51:49.692\u001b[0m | \u001b[1mINFO    \u001b[0m | \u001b[36m__main__\u001b[0m:\u001b[36mtrain\u001b[0m:\u001b[36m197\u001b[0m - \u001b[1mepoch: 3  batch: 1246/1475  loss: 0.2773 (0.3358)  lr: 0.001000\u001b[0m\n",
            "\u001b[32m2025-01-16 16:52:01.833\u001b[0m | \u001b[1mINFO    \u001b[0m | \u001b[36m__main__\u001b[0m:\u001b[36mtrain\u001b[0m:\u001b[36m197\u001b[0m - \u001b[1mepoch: 3  batch: 1260/1475  loss: 0.2506 (0.3356)  lr: 0.001000\u001b[0m\n",
            "\u001b[32m2025-01-16 16:52:13.905\u001b[0m | \u001b[1mINFO    \u001b[0m | \u001b[36m__main__\u001b[0m:\u001b[36mtrain\u001b[0m:\u001b[36m197\u001b[0m - \u001b[1mepoch: 3  batch: 1274/1475  loss: 0.2374 (0.3353)  lr: 0.001000\u001b[0m\n",
            "\u001b[32m2025-01-16 16:52:26.028\u001b[0m | \u001b[1mINFO    \u001b[0m | \u001b[36m__main__\u001b[0m:\u001b[36mtrain\u001b[0m:\u001b[36m197\u001b[0m - \u001b[1mepoch: 3  batch: 1288/1475  loss: 0.2291 (0.3351)  lr: 0.001000\u001b[0m\n",
            "\u001b[32m2025-01-16 16:52:38.206\u001b[0m | \u001b[1mINFO    \u001b[0m | \u001b[36m__main__\u001b[0m:\u001b[36mtrain\u001b[0m:\u001b[36m197\u001b[0m - \u001b[1mepoch: 3  batch: 1302/1475  loss: 0.2349 (0.3348)  lr: 0.001000\u001b[0m\n",
            "\u001b[32m2025-01-16 16:52:50.372\u001b[0m | \u001b[1mINFO    \u001b[0m | \u001b[36m__main__\u001b[0m:\u001b[36mtrain\u001b[0m:\u001b[36m197\u001b[0m - \u001b[1mepoch: 3  batch: 1316/1475  loss: 0.2329 (0.3345)  lr: 0.001000\u001b[0m\n",
            "\u001b[32m2025-01-16 16:53:02.522\u001b[0m | \u001b[1mINFO    \u001b[0m | \u001b[36m__main__\u001b[0m:\u001b[36mtrain\u001b[0m:\u001b[36m197\u001b[0m - \u001b[1mepoch: 3  batch: 1330/1475  loss: 0.2295 (0.3343)  lr: 0.001000\u001b[0m\n",
            "\u001b[32m2025-01-16 16:53:14.677\u001b[0m | \u001b[1mINFO    \u001b[0m | \u001b[36m__main__\u001b[0m:\u001b[36mtrain\u001b[0m:\u001b[36m197\u001b[0m - \u001b[1mepoch: 3  batch: 1344/1475  loss: 0.2278 (0.3340)  lr: 0.001000\u001b[0m\n",
            "\u001b[32m2025-01-16 16:53:26.813\u001b[0m | \u001b[1mINFO    \u001b[0m | \u001b[36m__main__\u001b[0m:\u001b[36mtrain\u001b[0m:\u001b[36m197\u001b[0m - \u001b[1mepoch: 3  batch: 1358/1475  loss: 0.2262 (0.3338)  lr: 0.001000\u001b[0m\n",
            "\u001b[32m2025-01-16 16:53:38.935\u001b[0m | \u001b[1mINFO    \u001b[0m | \u001b[36m__main__\u001b[0m:\u001b[36mtrain\u001b[0m:\u001b[36m197\u001b[0m - \u001b[1mepoch: 3  batch: 1372/1475  loss: 0.2216 (0.3335)  lr: 0.001000\u001b[0m\n",
            "\u001b[32m2025-01-16 16:53:51.107\u001b[0m | \u001b[1mINFO    \u001b[0m | \u001b[36m__main__\u001b[0m:\u001b[36mtrain\u001b[0m:\u001b[36m197\u001b[0m - \u001b[1mepoch: 3  batch: 1386/1475  loss: 0.2220 (0.3332)  lr: 0.001000\u001b[0m\n",
            "\u001b[32m2025-01-16 16:54:03.299\u001b[0m | \u001b[1mINFO    \u001b[0m | \u001b[36m__main__\u001b[0m:\u001b[36mtrain\u001b[0m:\u001b[36m197\u001b[0m - \u001b[1mepoch: 3  batch: 1400/1475  loss: 0.2255 (0.3330)  lr: 0.001000\u001b[0m\n",
            "\u001b[32m2025-01-16 16:54:15.445\u001b[0m | \u001b[1mINFO    \u001b[0m | \u001b[36m__main__\u001b[0m:\u001b[36mtrain\u001b[0m:\u001b[36m197\u001b[0m - \u001b[1mepoch: 3  batch: 1414/1475  loss: 0.2321 (0.3328)  lr: 0.001000\u001b[0m\n",
            "\u001b[32m2025-01-16 16:54:27.585\u001b[0m | \u001b[1mINFO    \u001b[0m | \u001b[36m__main__\u001b[0m:\u001b[36mtrain\u001b[0m:\u001b[36m197\u001b[0m - \u001b[1mepoch: 3  batch: 1428/1475  loss: 0.2118 (0.3325)  lr: 0.001000\u001b[0m\n",
            "\u001b[32m2025-01-16 16:54:39.724\u001b[0m | \u001b[1mINFO    \u001b[0m | \u001b[36m__main__\u001b[0m:\u001b[36mtrain\u001b[0m:\u001b[36m197\u001b[0m - \u001b[1mepoch: 3  batch: 1442/1475  loss: 0.2187 (0.3322)  lr: 0.001000\u001b[0m\n",
            "\u001b[32m2025-01-16 16:54:51.899\u001b[0m | \u001b[1mINFO    \u001b[0m | \u001b[36m__main__\u001b[0m:\u001b[36mtrain\u001b[0m:\u001b[36m197\u001b[0m - \u001b[1mepoch: 3  batch: 1456/1475  loss: 0.2177 (0.3319)  lr: 0.001000\u001b[0m\n",
            "\u001b[32m2025-01-16 16:55:03.988\u001b[0m | \u001b[1mINFO    \u001b[0m | \u001b[36m__main__\u001b[0m:\u001b[36mtrain\u001b[0m:\u001b[36m197\u001b[0m - \u001b[1mepoch: 3  batch: 1470/1475  loss: 0.2216 (0.3317)  lr: 0.001000\u001b[0m\n",
            "\u001b[32m2025-01-16 16:55:08.050\u001b[0m | \u001b[1mINFO    \u001b[0m | \u001b[36m__main__\u001b[0m:\u001b[36mtrain\u001b[0m:\u001b[36m219\u001b[0m - \u001b[1mFinish epoch: 3, without validation\u001b[0m\n",
            "\u001b[32m2025-01-16 16:55:24.187\u001b[0m | \u001b[1mINFO    \u001b[0m | \u001b[36m__main__\u001b[0m:\u001b[36mtrain\u001b[0m:\u001b[36m197\u001b[0m - \u001b[1mepoch: 4  batch: 14/1475  loss: 0.1939 (0.3312)  lr: 0.001000\u001b[0m\n",
            "\u001b[32m2025-01-16 16:55:36.392\u001b[0m | \u001b[1mINFO    \u001b[0m | \u001b[36m__main__\u001b[0m:\u001b[36mtrain\u001b[0m:\u001b[36m197\u001b[0m - \u001b[1mepoch: 4  batch: 28/1475  loss: 0.1996 (0.3309)  lr: 0.001000\u001b[0m\n",
            "\u001b[32m2025-01-16 16:55:48.623\u001b[0m | \u001b[1mINFO    \u001b[0m | \u001b[36m__main__\u001b[0m:\u001b[36mtrain\u001b[0m:\u001b[36m197\u001b[0m - \u001b[1mepoch: 4  batch: 42/1475  loss: 0.1974 (0.3306)  lr: 0.001000\u001b[0m\n",
            "\u001b[32m2025-01-16 16:56:00.823\u001b[0m | \u001b[1mINFO    \u001b[0m | \u001b[36m__main__\u001b[0m:\u001b[36mtrain\u001b[0m:\u001b[36m197\u001b[0m - \u001b[1mepoch: 4  batch: 56/1475  loss: 0.1936 (0.3303)  lr: 0.001000\u001b[0m\n",
            "\u001b[32m2025-01-16 16:56:12.955\u001b[0m | \u001b[1mINFO    \u001b[0m | \u001b[36m__main__\u001b[0m:\u001b[36mtrain\u001b[0m:\u001b[36m197\u001b[0m - \u001b[1mepoch: 4  batch: 70/1475  loss: 0.1978 (0.3300)  lr: 0.001000\u001b[0m\n",
            "\u001b[32m2025-01-16 16:56:25.037\u001b[0m | \u001b[1mINFO    \u001b[0m | \u001b[36m__main__\u001b[0m:\u001b[36mtrain\u001b[0m:\u001b[36m197\u001b[0m - \u001b[1mepoch: 4  batch: 84/1475  loss: 0.1922 (0.3297)  lr: 0.001000\u001b[0m\n",
            "\u001b[32m2025-01-16 16:56:37.195\u001b[0m | \u001b[1mINFO    \u001b[0m | \u001b[36m__main__\u001b[0m:\u001b[36mtrain\u001b[0m:\u001b[36m197\u001b[0m - \u001b[1mepoch: 4  batch: 98/1475  loss: 0.1944 (0.3294)  lr: 0.001000\u001b[0m\n",
            "\u001b[32m2025-01-16 16:56:49.292\u001b[0m | \u001b[1mINFO    \u001b[0m | \u001b[36m__main__\u001b[0m:\u001b[36mtrain\u001b[0m:\u001b[36m197\u001b[0m - \u001b[1mepoch: 4  batch: 112/1475  loss: 0.1927 (0.3290)  lr: 0.001000\u001b[0m\n",
            "\u001b[32m2025-01-16 16:57:01.410\u001b[0m | \u001b[1mINFO    \u001b[0m | \u001b[36m__main__\u001b[0m:\u001b[36mtrain\u001b[0m:\u001b[36m197\u001b[0m - \u001b[1mepoch: 4  batch: 126/1475  loss: 0.1933 (0.3287)  lr: 0.001000\u001b[0m\n",
            "\u001b[32m2025-01-16 16:57:13.564\u001b[0m | \u001b[1mINFO    \u001b[0m | \u001b[36m__main__\u001b[0m:\u001b[36mtrain\u001b[0m:\u001b[36m197\u001b[0m - \u001b[1mepoch: 4  batch: 140/1475  loss: 0.1942 (0.3284)  lr: 0.001000\u001b[0m\n",
            "\u001b[32m2025-01-16 16:57:25.699\u001b[0m | \u001b[1mINFO    \u001b[0m | \u001b[36m__main__\u001b[0m:\u001b[36mtrain\u001b[0m:\u001b[36m197\u001b[0m - \u001b[1mepoch: 4  batch: 154/1475  loss: 0.1929 (0.3281)  lr: 0.001000\u001b[0m\n",
            "\u001b[32m2025-01-16 16:57:37.865\u001b[0m | \u001b[1mINFO    \u001b[0m | \u001b[36m__main__\u001b[0m:\u001b[36mtrain\u001b[0m:\u001b[36m197\u001b[0m - \u001b[1mepoch: 4  batch: 168/1475  loss: 0.1916 (0.3278)  lr: 0.001000\u001b[0m\n",
            "\u001b[32m2025-01-16 16:57:50.016\u001b[0m | \u001b[1mINFO    \u001b[0m | \u001b[36m__main__\u001b[0m:\u001b[36mtrain\u001b[0m:\u001b[36m197\u001b[0m - \u001b[1mepoch: 4  batch: 182/1475  loss: 0.1956 (0.3275)  lr: 0.001000\u001b[0m\n",
            "\u001b[32m2025-01-16 16:58:02.186\u001b[0m | \u001b[1mINFO    \u001b[0m | \u001b[36m__main__\u001b[0m:\u001b[36mtrain\u001b[0m:\u001b[36m197\u001b[0m - \u001b[1mepoch: 4  batch: 196/1475  loss: 0.2002 (0.3272)  lr: 0.001000\u001b[0m\n",
            "\u001b[32m2025-01-16 16:58:14.328\u001b[0m | \u001b[1mINFO    \u001b[0m | \u001b[36m__main__\u001b[0m:\u001b[36mtrain\u001b[0m:\u001b[36m197\u001b[0m - \u001b[1mepoch: 4  batch: 210/1475  loss: 0.1967 (0.3269)  lr: 0.001000\u001b[0m\n",
            "\u001b[32m2025-01-16 16:58:26.506\u001b[0m | \u001b[1mINFO    \u001b[0m | \u001b[36m__main__\u001b[0m:\u001b[36mtrain\u001b[0m:\u001b[36m197\u001b[0m - \u001b[1mepoch: 4  batch: 224/1475  loss: 0.1950 (0.3266)  lr: 0.001000\u001b[0m\n",
            "\u001b[32m2025-01-16 16:58:38.655\u001b[0m | \u001b[1mINFO    \u001b[0m | \u001b[36m__main__\u001b[0m:\u001b[36mtrain\u001b[0m:\u001b[36m197\u001b[0m - \u001b[1mepoch: 4  batch: 238/1475  loss: 0.1931 (0.3263)  lr: 0.001000\u001b[0m\n",
            "\u001b[32m2025-01-16 16:58:50.707\u001b[0m | \u001b[1mINFO    \u001b[0m | \u001b[36m__main__\u001b[0m:\u001b[36mtrain\u001b[0m:\u001b[36m197\u001b[0m - \u001b[1mepoch: 4  batch: 252/1475  loss: 0.1925 (0.3260)  lr: 0.001000\u001b[0m\n",
            "\u001b[32m2025-01-16 16:59:02.782\u001b[0m | \u001b[1mINFO    \u001b[0m | \u001b[36m__main__\u001b[0m:\u001b[36mtrain\u001b[0m:\u001b[36m197\u001b[0m - \u001b[1mepoch: 4  batch: 266/1475  loss: 0.1956 (0.3257)  lr: 0.001000\u001b[0m\n",
            "\u001b[32m2025-01-16 16:59:14.914\u001b[0m | \u001b[1mINFO    \u001b[0m | \u001b[36m__main__\u001b[0m:\u001b[36mtrain\u001b[0m:\u001b[36m197\u001b[0m - \u001b[1mepoch: 4  batch: 280/1475  loss: 0.1956 (0.3254)  lr: 0.001000\u001b[0m\n",
            "\u001b[32m2025-01-16 16:59:27.075\u001b[0m | \u001b[1mINFO    \u001b[0m | \u001b[36m__main__\u001b[0m:\u001b[36mtrain\u001b[0m:\u001b[36m197\u001b[0m - \u001b[1mepoch: 4  batch: 294/1475  loss: 0.1988 (0.3252)  lr: 0.001000\u001b[0m\n",
            "\u001b[32m2025-01-16 16:59:39.244\u001b[0m | \u001b[1mINFO    \u001b[0m | \u001b[36m__main__\u001b[0m:\u001b[36mtrain\u001b[0m:\u001b[36m197\u001b[0m - \u001b[1mepoch: 4  batch: 308/1475  loss: 0.1968 (0.3249)  lr: 0.001000\u001b[0m\n",
            "\u001b[32m2025-01-16 16:59:51.385\u001b[0m | \u001b[1mINFO    \u001b[0m | \u001b[36m__main__\u001b[0m:\u001b[36mtrain\u001b[0m:\u001b[36m197\u001b[0m - \u001b[1mepoch: 4  batch: 322/1475  loss: 0.1948 (0.3246)  lr: 0.001000\u001b[0m\n",
            "\u001b[32m2025-01-16 17:00:03.548\u001b[0m | \u001b[1mINFO    \u001b[0m | \u001b[36m__main__\u001b[0m:\u001b[36mtrain\u001b[0m:\u001b[36m197\u001b[0m - \u001b[1mepoch: 4  batch: 336/1475  loss: 0.1987 (0.3243)  lr: 0.001000\u001b[0m\n",
            "\u001b[32m2025-01-16 17:00:15.686\u001b[0m | \u001b[1mINFO    \u001b[0m | \u001b[36m__main__\u001b[0m:\u001b[36mtrain\u001b[0m:\u001b[36m197\u001b[0m - \u001b[1mepoch: 4  batch: 350/1475  loss: 0.1969 (0.3240)  lr: 0.001000\u001b[0m\n",
            "\u001b[32m2025-01-16 17:00:27.811\u001b[0m | \u001b[1mINFO    \u001b[0m | \u001b[36m__main__\u001b[0m:\u001b[36mtrain\u001b[0m:\u001b[36m197\u001b[0m - \u001b[1mepoch: 4  batch: 364/1475  loss: 0.2009 (0.3237)  lr: 0.001000\u001b[0m\n",
            "\u001b[32m2025-01-16 17:00:39.922\u001b[0m | \u001b[1mINFO    \u001b[0m | \u001b[36m__main__\u001b[0m:\u001b[36mtrain\u001b[0m:\u001b[36m197\u001b[0m - \u001b[1mepoch: 4  batch: 378/1475  loss: 0.2061 (0.3235)  lr: 0.001000\u001b[0m\n",
            "\u001b[32m2025-01-16 17:00:52.027\u001b[0m | \u001b[1mINFO    \u001b[0m | \u001b[36m__main__\u001b[0m:\u001b[36mtrain\u001b[0m:\u001b[36m197\u001b[0m - \u001b[1mepoch: 4  batch: 392/1475  loss: 0.2032 (0.3232)  lr: 0.001000\u001b[0m\n",
            "\u001b[32m2025-01-16 17:01:04.226\u001b[0m | \u001b[1mINFO    \u001b[0m | \u001b[36m__main__\u001b[0m:\u001b[36mtrain\u001b[0m:\u001b[36m197\u001b[0m - \u001b[1mepoch: 4  batch: 406/1475  loss: 0.2028 (0.3230)  lr: 0.001000\u001b[0m\n",
            "\u001b[32m2025-01-16 17:01:16.368\u001b[0m | \u001b[1mINFO    \u001b[0m | \u001b[36m__main__\u001b[0m:\u001b[36mtrain\u001b[0m:\u001b[36m197\u001b[0m - \u001b[1mepoch: 4  batch: 420/1475  loss: 0.2011 (0.3227)  lr: 0.001000\u001b[0m\n",
            "\u001b[32m2025-01-16 17:01:28.498\u001b[0m | \u001b[1mINFO    \u001b[0m | \u001b[36m__main__\u001b[0m:\u001b[36mtrain\u001b[0m:\u001b[36m197\u001b[0m - \u001b[1mepoch: 4  batch: 434/1475  loss: 0.1977 (0.3224)  lr: 0.001000\u001b[0m\n",
            "\u001b[32m2025-01-16 17:01:40.645\u001b[0m | \u001b[1mINFO    \u001b[0m | \u001b[36m__main__\u001b[0m:\u001b[36mtrain\u001b[0m:\u001b[36m197\u001b[0m - \u001b[1mepoch: 4  batch: 448/1475  loss: 0.1995 (0.3221)  lr: 0.001000\u001b[0m\n",
            "\u001b[32m2025-01-16 17:01:52.805\u001b[0m | \u001b[1mINFO    \u001b[0m | \u001b[36m__main__\u001b[0m:\u001b[36mtrain\u001b[0m:\u001b[36m197\u001b[0m - \u001b[1mepoch: 4  batch: 462/1475  loss: 0.1990 (0.3219)  lr: 0.001000\u001b[0m\n",
            "\u001b[32m2025-01-16 17:02:05.035\u001b[0m | \u001b[1mINFO    \u001b[0m | \u001b[36m__main__\u001b[0m:\u001b[36mtrain\u001b[0m:\u001b[36m197\u001b[0m - \u001b[1mepoch: 4  batch: 476/1475  loss: 0.1984 (0.3216)  lr: 0.001000\u001b[0m\n",
            "\u001b[32m2025-01-16 17:02:17.267\u001b[0m | \u001b[1mINFO    \u001b[0m | \u001b[36m__main__\u001b[0m:\u001b[36mtrain\u001b[0m:\u001b[36m197\u001b[0m - \u001b[1mepoch: 4  batch: 490/1475  loss: 0.1998 (0.3213)  lr: 0.001000\u001b[0m\n",
            "\u001b[32m2025-01-16 17:02:29.473\u001b[0m | \u001b[1mINFO    \u001b[0m | \u001b[36m__main__\u001b[0m:\u001b[36mtrain\u001b[0m:\u001b[36m197\u001b[0m - \u001b[1mepoch: 4  batch: 504/1475  loss: 0.2019 (0.3211)  lr: 0.001000\u001b[0m\n",
            "\u001b[32m2025-01-16 17:02:41.635\u001b[0m | \u001b[1mINFO    \u001b[0m | \u001b[36m__main__\u001b[0m:\u001b[36mtrain\u001b[0m:\u001b[36m197\u001b[0m - \u001b[1mepoch: 4  batch: 518/1475  loss: 0.1985 (0.3208)  lr: 0.001000\u001b[0m\n",
            "\u001b[32m2025-01-16 17:02:53.885\u001b[0m | \u001b[1mINFO    \u001b[0m | \u001b[36m__main__\u001b[0m:\u001b[36mtrain\u001b[0m:\u001b[36m197\u001b[0m - \u001b[1mepoch: 4  batch: 532/1475  loss: 0.1968 (0.3205)  lr: 0.001000\u001b[0m\n",
            "\u001b[32m2025-01-16 17:03:06.055\u001b[0m | \u001b[1mINFO    \u001b[0m | \u001b[36m__main__\u001b[0m:\u001b[36mtrain\u001b[0m:\u001b[36m197\u001b[0m - \u001b[1mepoch: 4  batch: 546/1475  loss: 0.1955 (0.3203)  lr: 0.001000\u001b[0m\n",
            "\u001b[32m2025-01-16 17:03:18.194\u001b[0m | \u001b[1mINFO    \u001b[0m | \u001b[36m__main__\u001b[0m:\u001b[36mtrain\u001b[0m:\u001b[36m197\u001b[0m - \u001b[1mepoch: 4  batch: 560/1475  loss: 0.2010 (0.3200)  lr: 0.001000\u001b[0m\n",
            "\u001b[32m2025-01-16 17:03:30.304\u001b[0m | \u001b[1mINFO    \u001b[0m | \u001b[36m__main__\u001b[0m:\u001b[36mtrain\u001b[0m:\u001b[36m197\u001b[0m - \u001b[1mepoch: 4  batch: 574/1475  loss: 0.2022 (0.3198)  lr: 0.001000\u001b[0m\n",
            "\u001b[32m2025-01-16 17:03:42.439\u001b[0m | \u001b[1mINFO    \u001b[0m | \u001b[36m__main__\u001b[0m:\u001b[36mtrain\u001b[0m:\u001b[36m197\u001b[0m - \u001b[1mepoch: 4  batch: 588/1475  loss: 0.1956 (0.3195)  lr: 0.001000\u001b[0m\n",
            "\u001b[32m2025-01-16 17:03:54.640\u001b[0m | \u001b[1mINFO    \u001b[0m | \u001b[36m__main__\u001b[0m:\u001b[36mtrain\u001b[0m:\u001b[36m197\u001b[0m - \u001b[1mepoch: 4  batch: 602/1475  loss: 0.1934 (0.3192)  lr: 0.001000\u001b[0m\n",
            "\u001b[32m2025-01-16 17:04:06.827\u001b[0m | \u001b[1mINFO    \u001b[0m | \u001b[36m__main__\u001b[0m:\u001b[36mtrain\u001b[0m:\u001b[36m197\u001b[0m - \u001b[1mepoch: 4  batch: 616/1475  loss: 0.1933 (0.3190)  lr: 0.001000\u001b[0m\n",
            "\u001b[32m2025-01-16 17:04:19.017\u001b[0m | \u001b[1mINFO    \u001b[0m | \u001b[36m__main__\u001b[0m:\u001b[36mtrain\u001b[0m:\u001b[36m197\u001b[0m - \u001b[1mepoch: 4  batch: 630/1475  loss: 0.2001 (0.3187)  lr: 0.001000\u001b[0m\n",
            "\u001b[32m2025-01-16 17:04:31.123\u001b[0m | \u001b[1mINFO    \u001b[0m | \u001b[36m__main__\u001b[0m:\u001b[36mtrain\u001b[0m:\u001b[36m197\u001b[0m - \u001b[1mepoch: 4  batch: 644/1475  loss: 0.1970 (0.3185)  lr: 0.001000\u001b[0m\n",
            "\u001b[32m2025-01-16 17:04:43.200\u001b[0m | \u001b[1mINFO    \u001b[0m | \u001b[36m__main__\u001b[0m:\u001b[36mtrain\u001b[0m:\u001b[36m197\u001b[0m - \u001b[1mepoch: 4  batch: 658/1475  loss: 0.1942 (0.3182)  lr: 0.001000\u001b[0m\n",
            "\u001b[32m2025-01-16 17:04:55.323\u001b[0m | \u001b[1mINFO    \u001b[0m | \u001b[36m__main__\u001b[0m:\u001b[36mtrain\u001b[0m:\u001b[36m197\u001b[0m - \u001b[1mepoch: 4  batch: 672/1475  loss: 0.2008 (0.3179)  lr: 0.001000\u001b[0m\n",
            "\u001b[32m2025-01-16 17:05:07.584\u001b[0m | \u001b[1mINFO    \u001b[0m | \u001b[36m__main__\u001b[0m:\u001b[36mtrain\u001b[0m:\u001b[36m197\u001b[0m - \u001b[1mepoch: 4  batch: 686/1475  loss: 0.1974 (0.3177)  lr: 0.001000\u001b[0m\n",
            "\u001b[32m2025-01-16 17:05:19.787\u001b[0m | \u001b[1mINFO    \u001b[0m | \u001b[36m__main__\u001b[0m:\u001b[36mtrain\u001b[0m:\u001b[36m197\u001b[0m - \u001b[1mepoch: 4  batch: 700/1475  loss: 0.1997 (0.3174)  lr: 0.001000\u001b[0m\n",
            "\u001b[32m2025-01-16 17:05:31.967\u001b[0m | \u001b[1mINFO    \u001b[0m | \u001b[36m__main__\u001b[0m:\u001b[36mtrain\u001b[0m:\u001b[36m197\u001b[0m - \u001b[1mepoch: 4  batch: 714/1475  loss: 0.1940 (0.3172)  lr: 0.001000\u001b[0m\n",
            "\u001b[32m2025-01-16 17:05:44.105\u001b[0m | \u001b[1mINFO    \u001b[0m | \u001b[36m__main__\u001b[0m:\u001b[36mtrain\u001b[0m:\u001b[36m197\u001b[0m - \u001b[1mepoch: 4  batch: 728/1475  loss: 0.1921 (0.3169)  lr: 0.001000\u001b[0m\n",
            "\u001b[32m2025-01-16 17:05:56.267\u001b[0m | \u001b[1mINFO    \u001b[0m | \u001b[36m__main__\u001b[0m:\u001b[36mtrain\u001b[0m:\u001b[36m197\u001b[0m - \u001b[1mepoch: 4  batch: 742/1475  loss: 0.1920 (0.3167)  lr: 0.001000\u001b[0m\n",
            "\u001b[32m2025-01-16 17:06:08.434\u001b[0m | \u001b[1mINFO    \u001b[0m | \u001b[36m__main__\u001b[0m:\u001b[36mtrain\u001b[0m:\u001b[36m197\u001b[0m - \u001b[1mepoch: 4  batch: 756/1475  loss: 0.2011 (0.3164)  lr: 0.001000\u001b[0m\n",
            "\u001b[32m2025-01-16 17:06:20.607\u001b[0m | \u001b[1mINFO    \u001b[0m | \u001b[36m__main__\u001b[0m:\u001b[36mtrain\u001b[0m:\u001b[36m197\u001b[0m - \u001b[1mepoch: 4  batch: 770/1475  loss: 0.1969 (0.3162)  lr: 0.001000\u001b[0m\n",
            "\u001b[32m2025-01-16 17:06:32.733\u001b[0m | \u001b[1mINFO    \u001b[0m | \u001b[36m__main__\u001b[0m:\u001b[36mtrain\u001b[0m:\u001b[36m197\u001b[0m - \u001b[1mepoch: 4  batch: 784/1475  loss: 0.1990 (0.3160)  lr: 0.001000\u001b[0m\n",
            "\u001b[32m2025-01-16 17:06:44.873\u001b[0m | \u001b[1mINFO    \u001b[0m | \u001b[36m__main__\u001b[0m:\u001b[36mtrain\u001b[0m:\u001b[36m197\u001b[0m - \u001b[1mepoch: 4  batch: 798/1475  loss: 0.1926 (0.3157)  lr: 0.001000\u001b[0m\n",
            "\u001b[32m2025-01-16 17:06:57.025\u001b[0m | \u001b[1mINFO    \u001b[0m | \u001b[36m__main__\u001b[0m:\u001b[36mtrain\u001b[0m:\u001b[36m197\u001b[0m - \u001b[1mepoch: 4  batch: 812/1475  loss: 0.1926 (0.3155)  lr: 0.001000\u001b[0m\n",
            "\u001b[32m2025-01-16 17:07:09.267\u001b[0m | \u001b[1mINFO    \u001b[0m | \u001b[36m__main__\u001b[0m:\u001b[36mtrain\u001b[0m:\u001b[36m197\u001b[0m - \u001b[1mepoch: 4  batch: 826/1475  loss: 0.1925 (0.3152)  lr: 0.001000\u001b[0m\n",
            "\u001b[32m2025-01-16 17:07:21.428\u001b[0m | \u001b[1mINFO    \u001b[0m | \u001b[36m__main__\u001b[0m:\u001b[36mtrain\u001b[0m:\u001b[36m197\u001b[0m - \u001b[1mepoch: 4  batch: 840/1475  loss: 0.1978 (0.3150)  lr: 0.001000\u001b[0m\n",
            "\u001b[32m2025-01-16 17:07:33.582\u001b[0m | \u001b[1mINFO    \u001b[0m | \u001b[36m__main__\u001b[0m:\u001b[36mtrain\u001b[0m:\u001b[36m197\u001b[0m - \u001b[1mepoch: 4  batch: 854/1475  loss: 0.1951 (0.3147)  lr: 0.001000\u001b[0m\n",
            "\u001b[32m2025-01-16 17:07:45.739\u001b[0m | \u001b[1mINFO    \u001b[0m | \u001b[36m__main__\u001b[0m:\u001b[36mtrain\u001b[0m:\u001b[36m197\u001b[0m - \u001b[1mepoch: 4  batch: 868/1475  loss: 0.1917 (0.3145)  lr: 0.001000\u001b[0m\n",
            "\u001b[32m2025-01-16 17:07:57.916\u001b[0m | \u001b[1mINFO    \u001b[0m | \u001b[36m__main__\u001b[0m:\u001b[36mtrain\u001b[0m:\u001b[36m197\u001b[0m - \u001b[1mepoch: 4  batch: 882/1475  loss: 0.1965 (0.3142)  lr: 0.001000\u001b[0m\n",
            "\u001b[32m2025-01-16 17:08:10.049\u001b[0m | \u001b[1mINFO    \u001b[0m | \u001b[36m__main__\u001b[0m:\u001b[36mtrain\u001b[0m:\u001b[36m197\u001b[0m - \u001b[1mepoch: 4  batch: 896/1475  loss: 0.2118 (0.3141)  lr: 0.001000\u001b[0m\n",
            "\u001b[32m2025-01-16 17:08:22.163\u001b[0m | \u001b[1mINFO    \u001b[0m | \u001b[36m__main__\u001b[0m:\u001b[36mtrain\u001b[0m:\u001b[36m197\u001b[0m - \u001b[1mepoch: 4  batch: 910/1475  loss: 0.2182 (0.3139)  lr: 0.001000\u001b[0m\n",
            "\u001b[32m2025-01-16 17:08:34.296\u001b[0m | \u001b[1mINFO    \u001b[0m | \u001b[36m__main__\u001b[0m:\u001b[36mtrain\u001b[0m:\u001b[36m197\u001b[0m - \u001b[1mepoch: 4  batch: 924/1475  loss: 0.2088 (0.3136)  lr: 0.001000\u001b[0m\n",
            "\u001b[32m2025-01-16 17:08:46.464\u001b[0m | \u001b[1mINFO    \u001b[0m | \u001b[36m__main__\u001b[0m:\u001b[36mtrain\u001b[0m:\u001b[36m197\u001b[0m - \u001b[1mepoch: 4  batch: 938/1475  loss: 0.2011 (0.3134)  lr: 0.001000\u001b[0m\n",
            "\u001b[32m2025-01-16 17:08:58.654\u001b[0m | \u001b[1mINFO    \u001b[0m | \u001b[36m__main__\u001b[0m:\u001b[36mtrain\u001b[0m:\u001b[36m197\u001b[0m - \u001b[1mepoch: 4  batch: 952/1475  loss: 0.2068 (0.3132)  lr: 0.001000\u001b[0m\n",
            "\u001b[32m2025-01-16 17:09:10.831\u001b[0m | \u001b[1mINFO    \u001b[0m | \u001b[36m__main__\u001b[0m:\u001b[36mtrain\u001b[0m:\u001b[36m197\u001b[0m - \u001b[1mepoch: 4  batch: 966/1475  loss: 0.2111 (0.3130)  lr: 0.001000\u001b[0m\n",
            "\u001b[32m2025-01-16 17:09:23.003\u001b[0m | \u001b[1mINFO    \u001b[0m | \u001b[36m__main__\u001b[0m:\u001b[36mtrain\u001b[0m:\u001b[36m197\u001b[0m - \u001b[1mepoch: 4  batch: 980/1475  loss: 0.2044 (0.3128)  lr: 0.001000\u001b[0m\n",
            "\u001b[32m2025-01-16 17:09:35.179\u001b[0m | \u001b[1mINFO    \u001b[0m | \u001b[36m__main__\u001b[0m:\u001b[36mtrain\u001b[0m:\u001b[36m197\u001b[0m - \u001b[1mepoch: 4  batch: 994/1475  loss: 0.2021 (0.3126)  lr: 0.001000\u001b[0m\n",
            "\u001b[32m2025-01-16 17:09:47.352\u001b[0m | \u001b[1mINFO    \u001b[0m | \u001b[36m__main__\u001b[0m:\u001b[36mtrain\u001b[0m:\u001b[36m197\u001b[0m - \u001b[1mepoch: 4  batch: 1008/1475  loss: 0.2029 (0.3123)  lr: 0.001000\u001b[0m\n",
            "\u001b[32m2025-01-16 17:09:59.476\u001b[0m | \u001b[1mINFO    \u001b[0m | \u001b[36m__main__\u001b[0m:\u001b[36mtrain\u001b[0m:\u001b[36m197\u001b[0m - \u001b[1mepoch: 4  batch: 1022/1475  loss: 0.2011 (0.3121)  lr: 0.001000\u001b[0m\n",
            "\u001b[32m2025-01-16 17:10:11.630\u001b[0m | \u001b[1mINFO    \u001b[0m | \u001b[36m__main__\u001b[0m:\u001b[36mtrain\u001b[0m:\u001b[36m197\u001b[0m - \u001b[1mepoch: 4  batch: 1036/1475  loss: 0.1951 (0.3119)  lr: 0.001000\u001b[0m\n",
            "\u001b[32m2025-01-16 17:10:23.755\u001b[0m | \u001b[1mINFO    \u001b[0m | \u001b[36m__main__\u001b[0m:\u001b[36mtrain\u001b[0m:\u001b[36m197\u001b[0m - \u001b[1mepoch: 4  batch: 1050/1475  loss: 0.1951 (0.3117)  lr: 0.001000\u001b[0m\n",
            "\u001b[32m2025-01-16 17:10:35.921\u001b[0m | \u001b[1mINFO    \u001b[0m | \u001b[36m__main__\u001b[0m:\u001b[36mtrain\u001b[0m:\u001b[36m197\u001b[0m - \u001b[1mepoch: 4  batch: 1064/1475  loss: 0.2019 (0.3114)  lr: 0.001000\u001b[0m\n",
            "\u001b[32m2025-01-16 17:10:48.081\u001b[0m | \u001b[1mINFO    \u001b[0m | \u001b[36m__main__\u001b[0m:\u001b[36mtrain\u001b[0m:\u001b[36m197\u001b[0m - \u001b[1mepoch: 4  batch: 1078/1475  loss: 0.1996 (0.3112)  lr: 0.001000\u001b[0m\n",
            "\u001b[32m2025-01-16 17:11:00.236\u001b[0m | \u001b[1mINFO    \u001b[0m | \u001b[36m__main__\u001b[0m:\u001b[36mtrain\u001b[0m:\u001b[36m197\u001b[0m - \u001b[1mepoch: 4  batch: 1092/1475  loss: 0.1951 (0.3110)  lr: 0.001000\u001b[0m\n",
            "\u001b[32m2025-01-16 17:11:12.388\u001b[0m | \u001b[1mINFO    \u001b[0m | \u001b[36m__main__\u001b[0m:\u001b[36mtrain\u001b[0m:\u001b[36m197\u001b[0m - \u001b[1mepoch: 4  batch: 1106/1475  loss: 0.1920 (0.3108)  lr: 0.001000\u001b[0m\n",
            "\u001b[32m2025-01-16 17:11:24.561\u001b[0m | \u001b[1mINFO    \u001b[0m | \u001b[36m__main__\u001b[0m:\u001b[36mtrain\u001b[0m:\u001b[36m197\u001b[0m - \u001b[1mepoch: 4  batch: 1120/1475  loss: 0.1991 (0.3105)  lr: 0.001000\u001b[0m\n",
            "\u001b[32m2025-01-16 17:11:36.745\u001b[0m | \u001b[1mINFO    \u001b[0m | \u001b[36m__main__\u001b[0m:\u001b[36mtrain\u001b[0m:\u001b[36m197\u001b[0m - \u001b[1mepoch: 4  batch: 1134/1475  loss: 0.1948 (0.3103)  lr: 0.001000\u001b[0m\n",
            "\u001b[32m2025-01-16 17:11:48.862\u001b[0m | \u001b[1mINFO    \u001b[0m | \u001b[36m__main__\u001b[0m:\u001b[36mtrain\u001b[0m:\u001b[36m197\u001b[0m - \u001b[1mepoch: 4  batch: 1148/1475  loss: 0.1981 (0.3101)  lr: 0.001000\u001b[0m\n",
            "\u001b[32m2025-01-16 17:12:00.961\u001b[0m | \u001b[1mINFO    \u001b[0m | \u001b[36m__main__\u001b[0m:\u001b[36mtrain\u001b[0m:\u001b[36m197\u001b[0m - \u001b[1mepoch: 4  batch: 1162/1475  loss: 0.1981 (0.3099)  lr: 0.001000\u001b[0m\n",
            "\u001b[32m2025-01-16 17:12:13.080\u001b[0m | \u001b[1mINFO    \u001b[0m | \u001b[36m__main__\u001b[0m:\u001b[36mtrain\u001b[0m:\u001b[36m197\u001b[0m - \u001b[1mepoch: 4  batch: 1176/1475  loss: 0.1901 (0.3096)  lr: 0.001000\u001b[0m\n",
            "\u001b[32m2025-01-16 17:12:25.179\u001b[0m | \u001b[1mINFO    \u001b[0m | \u001b[36m__main__\u001b[0m:\u001b[36mtrain\u001b[0m:\u001b[36m197\u001b[0m - \u001b[1mepoch: 4  batch: 1190/1475  loss: 0.1952 (0.3094)  lr: 0.001000\u001b[0m\n",
            "\u001b[32m2025-01-16 17:12:37.304\u001b[0m | \u001b[1mINFO    \u001b[0m | \u001b[36m__main__\u001b[0m:\u001b[36mtrain\u001b[0m:\u001b[36m197\u001b[0m - \u001b[1mepoch: 4  batch: 1204/1475  loss: 0.1989 (0.3092)  lr: 0.001000\u001b[0m\n",
            "\u001b[32m2025-01-16 17:12:49.463\u001b[0m | \u001b[1mINFO    \u001b[0m | \u001b[36m__main__\u001b[0m:\u001b[36mtrain\u001b[0m:\u001b[36m197\u001b[0m - \u001b[1mepoch: 4  batch: 1218/1475  loss: 0.2005 (0.3090)  lr: 0.001000\u001b[0m\n",
            "\u001b[32m2025-01-16 17:13:01.622\u001b[0m | \u001b[1mINFO    \u001b[0m | \u001b[36m__main__\u001b[0m:\u001b[36mtrain\u001b[0m:\u001b[36m197\u001b[0m - \u001b[1mepoch: 4  batch: 1232/1475  loss: 0.2007 (0.3088)  lr: 0.001000\u001b[0m\n",
            "\u001b[32m2025-01-16 17:13:13.717\u001b[0m | \u001b[1mINFO    \u001b[0m | \u001b[36m__main__\u001b[0m:\u001b[36mtrain\u001b[0m:\u001b[36m197\u001b[0m - \u001b[1mepoch: 4  batch: 1246/1475  loss: 0.1937 (0.3086)  lr: 0.001000\u001b[0m\n",
            "\u001b[32m2025-01-16 17:13:25.833\u001b[0m | \u001b[1mINFO    \u001b[0m | \u001b[36m__main__\u001b[0m:\u001b[36mtrain\u001b[0m:\u001b[36m197\u001b[0m - \u001b[1mepoch: 4  batch: 1260/1475  loss: 0.1959 (0.3083)  lr: 0.001000\u001b[0m\n",
            "\u001b[32m2025-01-16 17:13:37.926\u001b[0m | \u001b[1mINFO    \u001b[0m | \u001b[36m__main__\u001b[0m:\u001b[36mtrain\u001b[0m:\u001b[36m197\u001b[0m - \u001b[1mepoch: 4  batch: 1274/1475  loss: 0.1959 (0.3081)  lr: 0.001000\u001b[0m\n",
            "\u001b[32m2025-01-16 17:13:50.023\u001b[0m | \u001b[1mINFO    \u001b[0m | \u001b[36m__main__\u001b[0m:\u001b[36mtrain\u001b[0m:\u001b[36m197\u001b[0m - \u001b[1mepoch: 4  batch: 1288/1475  loss: 0.1931 (0.3079)  lr: 0.001000\u001b[0m\n",
            "\u001b[32m2025-01-16 17:14:02.176\u001b[0m | \u001b[1mINFO    \u001b[0m | \u001b[36m__main__\u001b[0m:\u001b[36mtrain\u001b[0m:\u001b[36m197\u001b[0m - \u001b[1mepoch: 4  batch: 1302/1475  loss: 0.1945 (0.3077)  lr: 0.001000\u001b[0m\n",
            "\u001b[32m2025-01-16 17:14:14.345\u001b[0m | \u001b[1mINFO    \u001b[0m | \u001b[36m__main__\u001b[0m:\u001b[36mtrain\u001b[0m:\u001b[36m197\u001b[0m - \u001b[1mepoch: 4  batch: 1316/1475  loss: 0.1976 (0.3075)  lr: 0.001000\u001b[0m\n",
            "\u001b[32m2025-01-16 17:14:26.483\u001b[0m | \u001b[1mINFO    \u001b[0m | \u001b[36m__main__\u001b[0m:\u001b[36mtrain\u001b[0m:\u001b[36m197\u001b[0m - \u001b[1mepoch: 4  batch: 1330/1475  loss: 0.1981 (0.3072)  lr: 0.001000\u001b[0m\n",
            "\u001b[32m2025-01-16 17:14:38.620\u001b[0m | \u001b[1mINFO    \u001b[0m | \u001b[36m__main__\u001b[0m:\u001b[36mtrain\u001b[0m:\u001b[36m197\u001b[0m - \u001b[1mepoch: 4  batch: 1344/1475  loss: 0.1948 (0.3070)  lr: 0.001000\u001b[0m\n",
            "\u001b[32m2025-01-16 17:14:50.773\u001b[0m | \u001b[1mINFO    \u001b[0m | \u001b[36m__main__\u001b[0m:\u001b[36mtrain\u001b[0m:\u001b[36m197\u001b[0m - \u001b[1mepoch: 4  batch: 1358/1475  loss: 0.1874 (0.3068)  lr: 0.001000\u001b[0m\n",
            "\u001b[32m2025-01-16 17:15:02.903\u001b[0m | \u001b[1mINFO    \u001b[0m | \u001b[36m__main__\u001b[0m:\u001b[36mtrain\u001b[0m:\u001b[36m197\u001b[0m - \u001b[1mepoch: 4  batch: 1372/1475  loss: 0.1884 (0.3066)  lr: 0.001000\u001b[0m\n",
            "\u001b[32m2025-01-16 17:15:14.945\u001b[0m | \u001b[1mINFO    \u001b[0m | \u001b[36m__main__\u001b[0m:\u001b[36mtrain\u001b[0m:\u001b[36m197\u001b[0m - \u001b[1mepoch: 4  batch: 1386/1475  loss: 0.1884 (0.3064)  lr: 0.001000\u001b[0m\n",
            "\u001b[32m2025-01-16 17:15:27.073\u001b[0m | \u001b[1mINFO    \u001b[0m | \u001b[36m__main__\u001b[0m:\u001b[36mtrain\u001b[0m:\u001b[36m197\u001b[0m - \u001b[1mepoch: 4  batch: 1400/1475  loss: 0.1925 (0.3061)  lr: 0.001000\u001b[0m\n",
            "\u001b[32m2025-01-16 17:15:39.180\u001b[0m | \u001b[1mINFO    \u001b[0m | \u001b[36m__main__\u001b[0m:\u001b[36mtrain\u001b[0m:\u001b[36m197\u001b[0m - \u001b[1mepoch: 4  batch: 1414/1475  loss: 0.1937 (0.3059)  lr: 0.001000\u001b[0m\n",
            "\u001b[32m2025-01-16 17:15:51.348\u001b[0m | \u001b[1mINFO    \u001b[0m | \u001b[36m__main__\u001b[0m:\u001b[36mtrain\u001b[0m:\u001b[36m197\u001b[0m - \u001b[1mepoch: 4  batch: 1428/1475  loss: 0.1903 (0.3057)  lr: 0.001000\u001b[0m\n",
            "\u001b[32m2025-01-16 17:16:03.477\u001b[0m | \u001b[1mINFO    \u001b[0m | \u001b[36m__main__\u001b[0m:\u001b[36mtrain\u001b[0m:\u001b[36m197\u001b[0m - \u001b[1mepoch: 4  batch: 1442/1475  loss: 0.1912 (0.3055)  lr: 0.001000\u001b[0m\n",
            "\u001b[32m2025-01-16 17:16:15.634\u001b[0m | \u001b[1mINFO    \u001b[0m | \u001b[36m__main__\u001b[0m:\u001b[36mtrain\u001b[0m:\u001b[36m197\u001b[0m - \u001b[1mepoch: 4  batch: 1456/1475  loss: 0.2008 (0.3053)  lr: 0.001000\u001b[0m\n",
            "\u001b[32m2025-01-16 17:16:27.782\u001b[0m | \u001b[1mINFO    \u001b[0m | \u001b[36m__main__\u001b[0m:\u001b[36mtrain\u001b[0m:\u001b[36m197\u001b[0m - \u001b[1mepoch: 4  batch: 1470/1475  loss: 0.1917 (0.3051)  lr: 0.001000\u001b[0m\n",
            "\u001b[32m2025-01-16 17:16:31.856\u001b[0m | \u001b[1mINFO    \u001b[0m | \u001b[36m__main__\u001b[0m:\u001b[36mtrain\u001b[0m:\u001b[36m219\u001b[0m - \u001b[1mFinish epoch: 4, without validation\u001b[0m\n",
            "\u001b[32m2025-01-16 17:16:48.587\u001b[0m | \u001b[1mINFO    \u001b[0m | \u001b[36m__main__\u001b[0m:\u001b[36mtrain\u001b[0m:\u001b[36m197\u001b[0m - \u001b[1mepoch: 5  batch: 14/1475  loss: 0.1742 (0.3048)  lr: 0.000100\u001b[0m\n",
            "\u001b[32m2025-01-16 17:17:00.874\u001b[0m | \u001b[1mINFO    \u001b[0m | \u001b[36m__main__\u001b[0m:\u001b[36mtrain\u001b[0m:\u001b[36m197\u001b[0m - \u001b[1mepoch: 5  batch: 28/1475  loss: 0.1687 (0.3045)  lr: 0.000100\u001b[0m\n",
            "\u001b[32m2025-01-16 17:17:13.098\u001b[0m | \u001b[1mINFO    \u001b[0m | \u001b[36m__main__\u001b[0m:\u001b[36mtrain\u001b[0m:\u001b[36m197\u001b[0m - \u001b[1mepoch: 5  batch: 42/1475  loss: 0.1581 (0.3042)  lr: 0.000100\u001b[0m\n",
            "\u001b[32m2025-01-16 17:17:25.253\u001b[0m | \u001b[1mINFO    \u001b[0m | \u001b[36m__main__\u001b[0m:\u001b[36mtrain\u001b[0m:\u001b[36m197\u001b[0m - \u001b[1mepoch: 5  batch: 56/1475  loss: 0.1576 (0.3040)  lr: 0.000100\u001b[0m\n",
            "\u001b[32m2025-01-16 17:17:37.368\u001b[0m | \u001b[1mINFO    \u001b[0m | \u001b[36m__main__\u001b[0m:\u001b[36mtrain\u001b[0m:\u001b[36m197\u001b[0m - \u001b[1mepoch: 5  batch: 70/1475  loss: 0.1605 (0.3037)  lr: 0.000100\u001b[0m\n",
            "\u001b[32m2025-01-16 17:17:49.467\u001b[0m | \u001b[1mINFO    \u001b[0m | \u001b[36m__main__\u001b[0m:\u001b[36mtrain\u001b[0m:\u001b[36m197\u001b[0m - \u001b[1mepoch: 5  batch: 84/1475  loss: 0.1608 (0.3034)  lr: 0.000100\u001b[0m\n",
            "\u001b[32m2025-01-16 17:18:01.582\u001b[0m | \u001b[1mINFO    \u001b[0m | \u001b[36m__main__\u001b[0m:\u001b[36mtrain\u001b[0m:\u001b[36m197\u001b[0m - \u001b[1mepoch: 5  batch: 98/1475  loss: 0.1581 (0.3031)  lr: 0.000100\u001b[0m\n",
            "\u001b[32m2025-01-16 17:18:13.789\u001b[0m | \u001b[1mINFO    \u001b[0m | \u001b[36m__main__\u001b[0m:\u001b[36mtrain\u001b[0m:\u001b[36m197\u001b[0m - \u001b[1mepoch: 5  batch: 112/1475  loss: 0.1535 (0.3029)  lr: 0.000100\u001b[0m\n",
            "\u001b[32m2025-01-16 17:18:25.970\u001b[0m | \u001b[1mINFO    \u001b[0m | \u001b[36m__main__\u001b[0m:\u001b[36mtrain\u001b[0m:\u001b[36m197\u001b[0m - \u001b[1mepoch: 5  batch: 126/1475  loss: 0.1528 (0.3026)  lr: 0.000100\u001b[0m\n",
            "\u001b[32m2025-01-16 17:18:38.153\u001b[0m | \u001b[1mINFO    \u001b[0m | \u001b[36m__main__\u001b[0m:\u001b[36mtrain\u001b[0m:\u001b[36m197\u001b[0m - \u001b[1mepoch: 5  batch: 140/1475  loss: 0.1550 (0.3023)  lr: 0.000100\u001b[0m\n",
            "\u001b[32m2025-01-16 17:18:50.341\u001b[0m | \u001b[1mINFO    \u001b[0m | \u001b[36m__main__\u001b[0m:\u001b[36mtrain\u001b[0m:\u001b[36m197\u001b[0m - \u001b[1mepoch: 5  batch: 154/1475  loss: 0.1504 (0.3020)  lr: 0.000100\u001b[0m\n",
            "\u001b[32m2025-01-16 17:19:02.448\u001b[0m | \u001b[1mINFO    \u001b[0m | \u001b[36m__main__\u001b[0m:\u001b[36mtrain\u001b[0m:\u001b[36m197\u001b[0m - \u001b[1mepoch: 5  batch: 168/1475  loss: 0.1531 (0.3018)  lr: 0.000100\u001b[0m\n",
            "\u001b[32m2025-01-16 17:19:14.570\u001b[0m | \u001b[1mINFO    \u001b[0m | \u001b[36m__main__\u001b[0m:\u001b[36mtrain\u001b[0m:\u001b[36m197\u001b[0m - \u001b[1mepoch: 5  batch: 182/1475  loss: 0.1493 (0.3015)  lr: 0.000100\u001b[0m\n",
            "\u001b[32m2025-01-16 17:19:26.679\u001b[0m | \u001b[1mINFO    \u001b[0m | \u001b[36m__main__\u001b[0m:\u001b[36mtrain\u001b[0m:\u001b[36m197\u001b[0m - \u001b[1mepoch: 5  batch: 196/1475  loss: 0.1474 (0.3012)  lr: 0.000100\u001b[0m\n",
            "\u001b[32m2025-01-16 17:19:38.813\u001b[0m | \u001b[1mINFO    \u001b[0m | \u001b[36m__main__\u001b[0m:\u001b[36mtrain\u001b[0m:\u001b[36m197\u001b[0m - \u001b[1mepoch: 5  batch: 210/1475  loss: 0.1485 (0.3009)  lr: 0.000100\u001b[0m\n",
            "\u001b[32m2025-01-16 17:19:50.917\u001b[0m | \u001b[1mINFO    \u001b[0m | \u001b[36m__main__\u001b[0m:\u001b[36mtrain\u001b[0m:\u001b[36m197\u001b[0m - \u001b[1mepoch: 5  batch: 224/1475  loss: 0.1488 (0.3006)  lr: 0.000100\u001b[0m\n",
            "\u001b[32m2025-01-16 17:20:03.056\u001b[0m | \u001b[1mINFO    \u001b[0m | \u001b[36m__main__\u001b[0m:\u001b[36mtrain\u001b[0m:\u001b[36m197\u001b[0m - \u001b[1mepoch: 5  batch: 238/1475  loss: 0.1511 (0.3004)  lr: 0.000100\u001b[0m\n",
            "\u001b[32m2025-01-16 17:20:15.222\u001b[0m | \u001b[1mINFO    \u001b[0m | \u001b[36m__main__\u001b[0m:\u001b[36mtrain\u001b[0m:\u001b[36m197\u001b[0m - \u001b[1mepoch: 5  batch: 252/1475  loss: 0.1503 (0.3001)  lr: 0.000100\u001b[0m\n",
            "\u001b[32m2025-01-16 17:20:27.355\u001b[0m | \u001b[1mINFO    \u001b[0m | \u001b[36m__main__\u001b[0m:\u001b[36mtrain\u001b[0m:\u001b[36m197\u001b[0m - \u001b[1mepoch: 5  batch: 266/1475  loss: 0.1502 (0.2998)  lr: 0.000100\u001b[0m\n",
            "\u001b[32m2025-01-16 17:20:39.495\u001b[0m | \u001b[1mINFO    \u001b[0m | \u001b[36m__main__\u001b[0m:\u001b[36mtrain\u001b[0m:\u001b[36m197\u001b[0m - \u001b[1mepoch: 5  batch: 280/1475  loss: 0.1498 (0.2996)  lr: 0.000100\u001b[0m\n",
            "\u001b[32m2025-01-16 17:20:51.630\u001b[0m | \u001b[1mINFO    \u001b[0m | \u001b[36m__main__\u001b[0m:\u001b[36mtrain\u001b[0m:\u001b[36m197\u001b[0m - \u001b[1mepoch: 5  batch: 294/1475  loss: 0.1476 (0.2993)  lr: 0.000100\u001b[0m\n",
            "\u001b[32m2025-01-16 17:21:03.782\u001b[0m | \u001b[1mINFO    \u001b[0m | \u001b[36m__main__\u001b[0m:\u001b[36mtrain\u001b[0m:\u001b[36m197\u001b[0m - \u001b[1mepoch: 5  batch: 308/1475  loss: 0.1470 (0.2990)  lr: 0.000100\u001b[0m\n",
            "\u001b[32m2025-01-16 17:21:15.947\u001b[0m | \u001b[1mINFO    \u001b[0m | \u001b[36m__main__\u001b[0m:\u001b[36mtrain\u001b[0m:\u001b[36m197\u001b[0m - \u001b[1mepoch: 5  batch: 322/1475  loss: 0.1461 (0.2987)  lr: 0.000100\u001b[0m\n",
            "\u001b[32m2025-01-16 17:21:28.084\u001b[0m | \u001b[1mINFO    \u001b[0m | \u001b[36m__main__\u001b[0m:\u001b[36mtrain\u001b[0m:\u001b[36m197\u001b[0m - \u001b[1mepoch: 5  batch: 336/1475  loss: 0.1457 (0.2985)  lr: 0.000100\u001b[0m\n",
            "\u001b[32m2025-01-16 17:21:40.218\u001b[0m | \u001b[1mINFO    \u001b[0m | \u001b[36m__main__\u001b[0m:\u001b[36mtrain\u001b[0m:\u001b[36m197\u001b[0m - \u001b[1mepoch: 5  batch: 350/1475  loss: 0.1461 (0.2982)  lr: 0.000100\u001b[0m\n",
            "\u001b[32m2025-01-16 17:21:52.359\u001b[0m | \u001b[1mINFO    \u001b[0m | \u001b[36m__main__\u001b[0m:\u001b[36mtrain\u001b[0m:\u001b[36m197\u001b[0m - \u001b[1mepoch: 5  batch: 364/1475  loss: 0.1476 (0.2979)  lr: 0.000100\u001b[0m\n",
            "\u001b[32m2025-01-16 17:22:04.457\u001b[0m | \u001b[1mINFO    \u001b[0m | \u001b[36m__main__\u001b[0m:\u001b[36mtrain\u001b[0m:\u001b[36m197\u001b[0m - \u001b[1mepoch: 5  batch: 378/1475  loss: 0.1451 (0.2976)  lr: 0.000100\u001b[0m\n",
            "\u001b[32m2025-01-16 17:22:16.545\u001b[0m | \u001b[1mINFO    \u001b[0m | \u001b[36m__main__\u001b[0m:\u001b[36mtrain\u001b[0m:\u001b[36m197\u001b[0m - \u001b[1mepoch: 5  batch: 392/1475  loss: 0.1459 (0.2974)  lr: 0.000100\u001b[0m\n",
            "\u001b[32m2025-01-16 17:22:28.636\u001b[0m | \u001b[1mINFO    \u001b[0m | \u001b[36m__main__\u001b[0m:\u001b[36mtrain\u001b[0m:\u001b[36m197\u001b[0m - \u001b[1mepoch: 5  batch: 406/1475  loss: 0.1449 (0.2971)  lr: 0.000100\u001b[0m\n",
            "\u001b[32m2025-01-16 17:22:40.723\u001b[0m | \u001b[1mINFO    \u001b[0m | \u001b[36m__main__\u001b[0m:\u001b[36mtrain\u001b[0m:\u001b[36m197\u001b[0m - \u001b[1mepoch: 5  batch: 420/1475  loss: 0.1459 (0.2968)  lr: 0.000100\u001b[0m\n",
            "\u001b[32m2025-01-16 17:22:52.820\u001b[0m | \u001b[1mINFO    \u001b[0m | \u001b[36m__main__\u001b[0m:\u001b[36mtrain\u001b[0m:\u001b[36m197\u001b[0m - \u001b[1mepoch: 5  batch: 434/1475  loss: 0.1463 (0.2965)  lr: 0.000100\u001b[0m\n",
            "\u001b[32m2025-01-16 17:23:04.951\u001b[0m | \u001b[1mINFO    \u001b[0m | \u001b[36m__main__\u001b[0m:\u001b[36mtrain\u001b[0m:\u001b[36m197\u001b[0m - \u001b[1mepoch: 5  batch: 448/1475  loss: 0.1463 (0.2963)  lr: 0.000100\u001b[0m\n",
            "\u001b[32m2025-01-16 17:23:17.105\u001b[0m | \u001b[1mINFO    \u001b[0m | \u001b[36m__main__\u001b[0m:\u001b[36mtrain\u001b[0m:\u001b[36m197\u001b[0m - \u001b[1mepoch: 5  batch: 462/1475  loss: 0.1467 (0.2960)  lr: 0.000100\u001b[0m\n",
            "\u001b[32m2025-01-16 17:23:29.203\u001b[0m | \u001b[1mINFO    \u001b[0m | \u001b[36m__main__\u001b[0m:\u001b[36mtrain\u001b[0m:\u001b[36m197\u001b[0m - \u001b[1mepoch: 5  batch: 476/1475  loss: 0.1479 (0.2957)  lr: 0.000100\u001b[0m\n",
            "\u001b[32m2025-01-16 17:23:41.349\u001b[0m | \u001b[1mINFO    \u001b[0m | \u001b[36m__main__\u001b[0m:\u001b[36mtrain\u001b[0m:\u001b[36m197\u001b[0m - \u001b[1mepoch: 5  batch: 490/1475  loss: 0.1472 (0.2955)  lr: 0.000100\u001b[0m\n",
            "\u001b[32m2025-01-16 17:23:53.523\u001b[0m | \u001b[1mINFO    \u001b[0m | \u001b[36m__main__\u001b[0m:\u001b[36mtrain\u001b[0m:\u001b[36m197\u001b[0m - \u001b[1mepoch: 5  batch: 504/1475  loss: 0.1436 (0.2952)  lr: 0.000100\u001b[0m\n",
            "\u001b[32m2025-01-16 17:24:05.607\u001b[0m | \u001b[1mINFO    \u001b[0m | \u001b[36m__main__\u001b[0m:\u001b[36mtrain\u001b[0m:\u001b[36m197\u001b[0m - \u001b[1mepoch: 5  batch: 518/1475  loss: 0.1432 (0.2949)  lr: 0.000100\u001b[0m\n",
            "\u001b[32m2025-01-16 17:24:17.739\u001b[0m | \u001b[1mINFO    \u001b[0m | \u001b[36m__main__\u001b[0m:\u001b[36mtrain\u001b[0m:\u001b[36m197\u001b[0m - \u001b[1mepoch: 5  batch: 532/1475  loss: 0.1379 (0.2947)  lr: 0.000100\u001b[0m\n",
            "\u001b[32m2025-01-16 17:24:29.886\u001b[0m | \u001b[1mINFO    \u001b[0m | \u001b[36m__main__\u001b[0m:\u001b[36mtrain\u001b[0m:\u001b[36m197\u001b[0m - \u001b[1mepoch: 5  batch: 546/1475  loss: 0.1392 (0.2944)  lr: 0.000100\u001b[0m\n",
            "\u001b[32m2025-01-16 17:24:42.006\u001b[0m | \u001b[1mINFO    \u001b[0m | \u001b[36m__main__\u001b[0m:\u001b[36mtrain\u001b[0m:\u001b[36m197\u001b[0m - \u001b[1mepoch: 5  batch: 560/1475  loss: 0.1407 (0.2941)  lr: 0.000100\u001b[0m\n",
            "\u001b[32m2025-01-16 17:24:54.109\u001b[0m | \u001b[1mINFO    \u001b[0m | \u001b[36m__main__\u001b[0m:\u001b[36mtrain\u001b[0m:\u001b[36m197\u001b[0m - \u001b[1mepoch: 5  batch: 574/1475  loss: 0.1451 (0.2939)  lr: 0.000100\u001b[0m\n",
            "\u001b[32m2025-01-16 17:25:06.299\u001b[0m | \u001b[1mINFO    \u001b[0m | \u001b[36m__main__\u001b[0m:\u001b[36mtrain\u001b[0m:\u001b[36m197\u001b[0m - \u001b[1mepoch: 5  batch: 588/1475  loss: 0.1458 (0.2936)  lr: 0.000100\u001b[0m\n",
            "\u001b[32m2025-01-16 17:25:18.438\u001b[0m | \u001b[1mINFO    \u001b[0m | \u001b[36m__main__\u001b[0m:\u001b[36mtrain\u001b[0m:\u001b[36m197\u001b[0m - \u001b[1mepoch: 5  batch: 602/1475  loss: 0.1434 (0.2933)  lr: 0.000100\u001b[0m\n",
            "\u001b[32m2025-01-16 17:25:30.589\u001b[0m | \u001b[1mINFO    \u001b[0m | \u001b[36m__main__\u001b[0m:\u001b[36mtrain\u001b[0m:\u001b[36m197\u001b[0m - \u001b[1mepoch: 5  batch: 616/1475  loss: 0.1401 (0.2931)  lr: 0.000100\u001b[0m\n",
            "\u001b[32m2025-01-16 17:25:42.725\u001b[0m | \u001b[1mINFO    \u001b[0m | \u001b[36m__main__\u001b[0m:\u001b[36mtrain\u001b[0m:\u001b[36m197\u001b[0m - \u001b[1mepoch: 5  batch: 630/1475  loss: 0.1415 (0.2928)  lr: 0.000100\u001b[0m\n",
            "\u001b[32m2025-01-16 17:25:54.879\u001b[0m | \u001b[1mINFO    \u001b[0m | \u001b[36m__main__\u001b[0m:\u001b[36mtrain\u001b[0m:\u001b[36m197\u001b[0m - \u001b[1mepoch: 5  batch: 644/1475  loss: 0.1429 (0.2926)  lr: 0.000100\u001b[0m\n",
            "\u001b[32m2025-01-16 17:26:07.036\u001b[0m | \u001b[1mINFO    \u001b[0m | \u001b[36m__main__\u001b[0m:\u001b[36mtrain\u001b[0m:\u001b[36m197\u001b[0m - \u001b[1mepoch: 5  batch: 658/1475  loss: 0.1418 (0.2923)  lr: 0.000100\u001b[0m\n",
            "\u001b[32m2025-01-16 17:26:19.178\u001b[0m | \u001b[1mINFO    \u001b[0m | \u001b[36m__main__\u001b[0m:\u001b[36mtrain\u001b[0m:\u001b[36m197\u001b[0m - \u001b[1mepoch: 5  batch: 672/1475  loss: 0.1445 (0.2920)  lr: 0.000100\u001b[0m\n",
            "\u001b[32m2025-01-16 17:26:31.300\u001b[0m | \u001b[1mINFO    \u001b[0m | \u001b[36m__main__\u001b[0m:\u001b[36mtrain\u001b[0m:\u001b[36m197\u001b[0m - \u001b[1mepoch: 5  batch: 686/1475  loss: 0.1374 (0.2918)  lr: 0.000100\u001b[0m\n",
            "\u001b[32m2025-01-16 17:26:43.410\u001b[0m | \u001b[1mINFO    \u001b[0m | \u001b[36m__main__\u001b[0m:\u001b[36mtrain\u001b[0m:\u001b[36m197\u001b[0m - \u001b[1mepoch: 5  batch: 700/1475  loss: 0.1417 (0.2915)  lr: 0.000100\u001b[0m\n",
            "\u001b[32m2025-01-16 17:26:55.542\u001b[0m | \u001b[1mINFO    \u001b[0m | \u001b[36m__main__\u001b[0m:\u001b[36mtrain\u001b[0m:\u001b[36m197\u001b[0m - \u001b[1mepoch: 5  batch: 714/1475  loss: 0.1429 (0.2913)  lr: 0.000100\u001b[0m\n",
            "\u001b[32m2025-01-16 17:27:07.672\u001b[0m | \u001b[1mINFO    \u001b[0m | \u001b[36m__main__\u001b[0m:\u001b[36mtrain\u001b[0m:\u001b[36m197\u001b[0m - \u001b[1mepoch: 5  batch: 728/1475  loss: 0.1403 (0.2910)  lr: 0.000100\u001b[0m\n",
            "\u001b[32m2025-01-16 17:27:19.803\u001b[0m | \u001b[1mINFO    \u001b[0m | \u001b[36m__main__\u001b[0m:\u001b[36mtrain\u001b[0m:\u001b[36m197\u001b[0m - \u001b[1mepoch: 5  batch: 742/1475  loss: 0.1376 (0.2907)  lr: 0.000100\u001b[0m\n",
            "\u001b[32m2025-01-16 17:27:31.923\u001b[0m | \u001b[1mINFO    \u001b[0m | \u001b[36m__main__\u001b[0m:\u001b[36mtrain\u001b[0m:\u001b[36m197\u001b[0m - \u001b[1mepoch: 5  batch: 756/1475  loss: 0.1390 (0.2905)  lr: 0.000100\u001b[0m\n",
            "\u001b[32m2025-01-16 17:27:44.096\u001b[0m | \u001b[1mINFO    \u001b[0m | \u001b[36m__main__\u001b[0m:\u001b[36mtrain\u001b[0m:\u001b[36m197\u001b[0m - \u001b[1mepoch: 5  batch: 770/1475  loss: 0.1425 (0.2902)  lr: 0.000100\u001b[0m\n",
            "\u001b[32m2025-01-16 17:27:56.196\u001b[0m | \u001b[1mINFO    \u001b[0m | \u001b[36m__main__\u001b[0m:\u001b[36mtrain\u001b[0m:\u001b[36m197\u001b[0m - \u001b[1mepoch: 5  batch: 784/1475  loss: 0.1390 (0.2900)  lr: 0.000100\u001b[0m\n",
            "\u001b[32m2025-01-16 17:28:08.358\u001b[0m | \u001b[1mINFO    \u001b[0m | \u001b[36m__main__\u001b[0m:\u001b[36mtrain\u001b[0m:\u001b[36m197\u001b[0m - \u001b[1mepoch: 5  batch: 798/1475  loss: 0.1413 (0.2897)  lr: 0.000100\u001b[0m\n",
            "\u001b[32m2025-01-16 17:28:20.516\u001b[0m | \u001b[1mINFO    \u001b[0m | \u001b[36m__main__\u001b[0m:\u001b[36mtrain\u001b[0m:\u001b[36m197\u001b[0m - \u001b[1mepoch: 5  batch: 812/1475  loss: 0.1413 (0.2895)  lr: 0.000100\u001b[0m\n",
            "\u001b[32m2025-01-16 17:28:32.660\u001b[0m | \u001b[1mINFO    \u001b[0m | \u001b[36m__main__\u001b[0m:\u001b[36mtrain\u001b[0m:\u001b[36m197\u001b[0m - \u001b[1mepoch: 5  batch: 826/1475  loss: 0.1412 (0.2892)  lr: 0.000100\u001b[0m\n",
            "\u001b[32m2025-01-16 17:28:44.821\u001b[0m | \u001b[1mINFO    \u001b[0m | \u001b[36m__main__\u001b[0m:\u001b[36mtrain\u001b[0m:\u001b[36m197\u001b[0m - \u001b[1mepoch: 5  batch: 840/1475  loss: 0.1426 (0.2890)  lr: 0.000100\u001b[0m\n",
            "\u001b[32m2025-01-16 17:28:57.019\u001b[0m | \u001b[1mINFO    \u001b[0m | \u001b[36m__main__\u001b[0m:\u001b[36mtrain\u001b[0m:\u001b[36m197\u001b[0m - \u001b[1mepoch: 5  batch: 854/1475  loss: 0.1410 (0.2887)  lr: 0.000100\u001b[0m\n",
            "\u001b[32m2025-01-16 17:29:09.219\u001b[0m | \u001b[1mINFO    \u001b[0m | \u001b[36m__main__\u001b[0m:\u001b[36mtrain\u001b[0m:\u001b[36m197\u001b[0m - \u001b[1mepoch: 5  batch: 868/1475  loss: 0.1395 (0.2885)  lr: 0.000100\u001b[0m\n",
            "\u001b[32m2025-01-16 17:29:21.385\u001b[0m | \u001b[1mINFO    \u001b[0m | \u001b[36m__main__\u001b[0m:\u001b[36mtrain\u001b[0m:\u001b[36m197\u001b[0m - \u001b[1mepoch: 5  batch: 882/1475  loss: 0.1392 (0.2882)  lr: 0.000100\u001b[0m\n",
            "\u001b[32m2025-01-16 17:29:33.571\u001b[0m | \u001b[1mINFO    \u001b[0m | \u001b[36m__main__\u001b[0m:\u001b[36mtrain\u001b[0m:\u001b[36m197\u001b[0m - \u001b[1mepoch: 5  batch: 896/1475  loss: 0.1426 (0.2880)  lr: 0.000100\u001b[0m\n",
            "\u001b[32m2025-01-16 17:29:45.712\u001b[0m | \u001b[1mINFO    \u001b[0m | \u001b[36m__main__\u001b[0m:\u001b[36mtrain\u001b[0m:\u001b[36m197\u001b[0m - \u001b[1mepoch: 5  batch: 910/1475  loss: 0.1413 (0.2877)  lr: 0.000100\u001b[0m\n",
            "\u001b[32m2025-01-16 17:29:57.837\u001b[0m | \u001b[1mINFO    \u001b[0m | \u001b[36m__main__\u001b[0m:\u001b[36mtrain\u001b[0m:\u001b[36m197\u001b[0m - \u001b[1mepoch: 5  batch: 924/1475  loss: 0.1389 (0.2875)  lr: 0.000100\u001b[0m\n",
            "\u001b[32m2025-01-16 17:30:10.002\u001b[0m | \u001b[1mINFO    \u001b[0m | \u001b[36m__main__\u001b[0m:\u001b[36mtrain\u001b[0m:\u001b[36m197\u001b[0m - \u001b[1mepoch: 5  batch: 938/1475  loss: 0.1405 (0.2872)  lr: 0.000100\u001b[0m\n",
            "\u001b[32m2025-01-16 17:30:22.159\u001b[0m | \u001b[1mINFO    \u001b[0m | \u001b[36m__main__\u001b[0m:\u001b[36mtrain\u001b[0m:\u001b[36m197\u001b[0m - \u001b[1mepoch: 5  batch: 952/1475  loss: 0.1409 (0.2870)  lr: 0.000100\u001b[0m\n",
            "\u001b[32m2025-01-16 17:30:34.304\u001b[0m | \u001b[1mINFO    \u001b[0m | \u001b[36m__main__\u001b[0m:\u001b[36mtrain\u001b[0m:\u001b[36m197\u001b[0m - \u001b[1mepoch: 5  batch: 966/1475  loss: 0.1395 (0.2867)  lr: 0.000100\u001b[0m\n",
            "\u001b[32m2025-01-16 17:30:46.450\u001b[0m | \u001b[1mINFO    \u001b[0m | \u001b[36m__main__\u001b[0m:\u001b[36mtrain\u001b[0m:\u001b[36m197\u001b[0m - \u001b[1mepoch: 5  batch: 980/1475  loss: 0.1394 (0.2865)  lr: 0.000100\u001b[0m\n",
            "\u001b[32m2025-01-16 17:30:58.551\u001b[0m | \u001b[1mINFO    \u001b[0m | \u001b[36m__main__\u001b[0m:\u001b[36mtrain\u001b[0m:\u001b[36m197\u001b[0m - \u001b[1mepoch: 5  batch: 994/1475  loss: 0.1451 (0.2863)  lr: 0.000100\u001b[0m\n",
            "\u001b[32m2025-01-16 17:31:10.647\u001b[0m | \u001b[1mINFO    \u001b[0m | \u001b[36m__main__\u001b[0m:\u001b[36mtrain\u001b[0m:\u001b[36m197\u001b[0m - \u001b[1mepoch: 5  batch: 1008/1475  loss: 0.1376 (0.2860)  lr: 0.000100\u001b[0m\n",
            "\u001b[32m2025-01-16 17:31:22.782\u001b[0m | \u001b[1mINFO    \u001b[0m | \u001b[36m__main__\u001b[0m:\u001b[36mtrain\u001b[0m:\u001b[36m197\u001b[0m - \u001b[1mepoch: 5  batch: 1022/1475  loss: 0.1360 (0.2858)  lr: 0.000100\u001b[0m\n",
            "\u001b[32m2025-01-16 17:31:34.912\u001b[0m | \u001b[1mINFO    \u001b[0m | \u001b[36m__main__\u001b[0m:\u001b[36mtrain\u001b[0m:\u001b[36m197\u001b[0m - \u001b[1mepoch: 5  batch: 1036/1475  loss: 0.1369 (0.2855)  lr: 0.000100\u001b[0m\n",
            "\u001b[32m2025-01-16 17:31:47.027\u001b[0m | \u001b[1mINFO    \u001b[0m | \u001b[36m__main__\u001b[0m:\u001b[36mtrain\u001b[0m:\u001b[36m197\u001b[0m - \u001b[1mepoch: 5  batch: 1050/1475  loss: 0.1368 (0.2853)  lr: 0.000100\u001b[0m\n",
            "\u001b[32m2025-01-16 17:31:59.185\u001b[0m | \u001b[1mINFO    \u001b[0m | \u001b[36m__main__\u001b[0m:\u001b[36mtrain\u001b[0m:\u001b[36m197\u001b[0m - \u001b[1mepoch: 5  batch: 1064/1475  loss: 0.1354 (0.2850)  lr: 0.000100\u001b[0m\n",
            "\u001b[32m2025-01-16 17:32:11.326\u001b[0m | \u001b[1mINFO    \u001b[0m | \u001b[36m__main__\u001b[0m:\u001b[36mtrain\u001b[0m:\u001b[36m197\u001b[0m - \u001b[1mepoch: 5  batch: 1078/1475  loss: 0.1391 (0.2848)  lr: 0.000100\u001b[0m\n",
            "\u001b[32m2025-01-16 17:32:23.514\u001b[0m | \u001b[1mINFO    \u001b[0m | \u001b[36m__main__\u001b[0m:\u001b[36mtrain\u001b[0m:\u001b[36m197\u001b[0m - \u001b[1mepoch: 5  batch: 1092/1475  loss: 0.1396 (0.2845)  lr: 0.000100\u001b[0m\n",
            "\u001b[32m2025-01-16 17:32:35.644\u001b[0m | \u001b[1mINFO    \u001b[0m | \u001b[36m__main__\u001b[0m:\u001b[36mtrain\u001b[0m:\u001b[36m197\u001b[0m - \u001b[1mepoch: 5  batch: 1106/1475  loss: 0.1368 (0.2843)  lr: 0.000100\u001b[0m\n",
            "\u001b[32m2025-01-16 17:32:47.689\u001b[0m | \u001b[1mINFO    \u001b[0m | \u001b[36m__main__\u001b[0m:\u001b[36mtrain\u001b[0m:\u001b[36m197\u001b[0m - \u001b[1mepoch: 5  batch: 1120/1475  loss: 0.1346 (0.2841)  lr: 0.000100\u001b[0m\n",
            "\u001b[32m2025-01-16 17:32:59.785\u001b[0m | \u001b[1mINFO    \u001b[0m | \u001b[36m__main__\u001b[0m:\u001b[36mtrain\u001b[0m:\u001b[36m197\u001b[0m - \u001b[1mepoch: 5  batch: 1134/1475  loss: 0.1348 (0.2838)  lr: 0.000100\u001b[0m\n",
            "\u001b[32m2025-01-16 17:33:11.903\u001b[0m | \u001b[1mINFO    \u001b[0m | \u001b[36m__main__\u001b[0m:\u001b[36mtrain\u001b[0m:\u001b[36m197\u001b[0m - \u001b[1mepoch: 5  batch: 1148/1475  loss: 0.1359 (0.2836)  lr: 0.000100\u001b[0m\n",
            "\u001b[32m2025-01-16 17:33:24.052\u001b[0m | \u001b[1mINFO    \u001b[0m | \u001b[36m__main__\u001b[0m:\u001b[36mtrain\u001b[0m:\u001b[36m197\u001b[0m - \u001b[1mepoch: 5  batch: 1162/1475  loss: 0.1372 (0.2833)  lr: 0.000100\u001b[0m\n",
            "\u001b[32m2025-01-16 17:33:36.223\u001b[0m | \u001b[1mINFO    \u001b[0m | \u001b[36m__main__\u001b[0m:\u001b[36mtrain\u001b[0m:\u001b[36m197\u001b[0m - \u001b[1mepoch: 5  batch: 1176/1475  loss: 0.1350 (0.2831)  lr: 0.000100\u001b[0m\n",
            "\u001b[32m2025-01-16 17:33:48.397\u001b[0m | \u001b[1mINFO    \u001b[0m | \u001b[36m__main__\u001b[0m:\u001b[36mtrain\u001b[0m:\u001b[36m197\u001b[0m - \u001b[1mepoch: 5  batch: 1190/1475  loss: 0.1390 (0.2829)  lr: 0.000100\u001b[0m\n",
            "\u001b[32m2025-01-16 17:34:00.543\u001b[0m | \u001b[1mINFO    \u001b[0m | \u001b[36m__main__\u001b[0m:\u001b[36mtrain\u001b[0m:\u001b[36m197\u001b[0m - \u001b[1mepoch: 5  batch: 1204/1475  loss: 0.1390 (0.2826)  lr: 0.000100\u001b[0m\n",
            "\u001b[32m2025-01-16 17:34:12.674\u001b[0m | \u001b[1mINFO    \u001b[0m | \u001b[36m__main__\u001b[0m:\u001b[36mtrain\u001b[0m:\u001b[36m197\u001b[0m - \u001b[1mepoch: 5  batch: 1218/1475  loss: 0.1369 (0.2824)  lr: 0.000100\u001b[0m\n",
            "\u001b[32m2025-01-16 17:34:24.776\u001b[0m | \u001b[1mINFO    \u001b[0m | \u001b[36m__main__\u001b[0m:\u001b[36mtrain\u001b[0m:\u001b[36m197\u001b[0m - \u001b[1mepoch: 5  batch: 1232/1475  loss: 0.1372 (0.2822)  lr: 0.000100\u001b[0m\n",
            "\u001b[32m2025-01-16 17:34:36.894\u001b[0m | \u001b[1mINFO    \u001b[0m | \u001b[36m__main__\u001b[0m:\u001b[36mtrain\u001b[0m:\u001b[36m197\u001b[0m - \u001b[1mepoch: 5  batch: 1246/1475  loss: 0.1348 (0.2819)  lr: 0.000100\u001b[0m\n",
            "\u001b[32m2025-01-16 17:34:48.969\u001b[0m | \u001b[1mINFO    \u001b[0m | \u001b[36m__main__\u001b[0m:\u001b[36mtrain\u001b[0m:\u001b[36m197\u001b[0m - \u001b[1mepoch: 5  batch: 1260/1475  loss: 0.1332 (0.2817)  lr: 0.000100\u001b[0m\n",
            "\u001b[32m2025-01-16 17:35:01.087\u001b[0m | \u001b[1mINFO    \u001b[0m | \u001b[36m__main__\u001b[0m:\u001b[36mtrain\u001b[0m:\u001b[36m197\u001b[0m - \u001b[1mepoch: 5  batch: 1274/1475  loss: 0.1401 (0.2815)  lr: 0.000100\u001b[0m\n",
            "\u001b[32m2025-01-16 17:35:13.213\u001b[0m | \u001b[1mINFO    \u001b[0m | \u001b[36m__main__\u001b[0m:\u001b[36mtrain\u001b[0m:\u001b[36m197\u001b[0m - \u001b[1mepoch: 5  batch: 1288/1475  loss: 0.1418 (0.2812)  lr: 0.000100\u001b[0m\n",
            "\u001b[32m2025-01-16 17:35:25.378\u001b[0m | \u001b[1mINFO    \u001b[0m | \u001b[36m__main__\u001b[0m:\u001b[36mtrain\u001b[0m:\u001b[36m197\u001b[0m - \u001b[1mepoch: 5  batch: 1302/1475  loss: 0.1364 (0.2810)  lr: 0.000100\u001b[0m\n",
            "\u001b[32m2025-01-16 17:35:37.586\u001b[0m | \u001b[1mINFO    \u001b[0m | \u001b[36m__main__\u001b[0m:\u001b[36mtrain\u001b[0m:\u001b[36m197\u001b[0m - \u001b[1mepoch: 5  batch: 1316/1475  loss: 0.1412 (0.2808)  lr: 0.000100\u001b[0m\n",
            "\u001b[32m2025-01-16 17:35:49.750\u001b[0m | \u001b[1mINFO    \u001b[0m | \u001b[36m__main__\u001b[0m:\u001b[36mtrain\u001b[0m:\u001b[36m197\u001b[0m - \u001b[1mepoch: 5  batch: 1330/1475  loss: 0.1412 (0.2805)  lr: 0.000100\u001b[0m\n",
            "\u001b[32m2025-01-16 17:36:01.842\u001b[0m | \u001b[1mINFO    \u001b[0m | \u001b[36m__main__\u001b[0m:\u001b[36mtrain\u001b[0m:\u001b[36m197\u001b[0m - \u001b[1mepoch: 5  batch: 1344/1475  loss: 0.1381 (0.2803)  lr: 0.000100\u001b[0m\n",
            "\u001b[32m2025-01-16 17:36:13.940\u001b[0m | \u001b[1mINFO    \u001b[0m | \u001b[36m__main__\u001b[0m:\u001b[36mtrain\u001b[0m:\u001b[36m197\u001b[0m - \u001b[1mepoch: 5  batch: 1358/1475  loss: 0.1383 (0.2801)  lr: 0.000100\u001b[0m\n",
            "\u001b[32m2025-01-16 17:36:26.100\u001b[0m | \u001b[1mINFO    \u001b[0m | \u001b[36m__main__\u001b[0m:\u001b[36mtrain\u001b[0m:\u001b[36m197\u001b[0m - \u001b[1mepoch: 5  batch: 1372/1475  loss: 0.1365 (0.2799)  lr: 0.000100\u001b[0m\n",
            "\u001b[32m2025-01-16 17:36:38.258\u001b[0m | \u001b[1mINFO    \u001b[0m | \u001b[36m__main__\u001b[0m:\u001b[36mtrain\u001b[0m:\u001b[36m197\u001b[0m - \u001b[1mepoch: 5  batch: 1386/1475  loss: 0.1397 (0.2796)  lr: 0.000100\u001b[0m\n",
            "\u001b[32m2025-01-16 17:36:50.497\u001b[0m | \u001b[1mINFO    \u001b[0m | \u001b[36m__main__\u001b[0m:\u001b[36mtrain\u001b[0m:\u001b[36m197\u001b[0m - \u001b[1mepoch: 5  batch: 1400/1475  loss: 0.1360 (0.2794)  lr: 0.000100\u001b[0m\n",
            "\u001b[32m2025-01-16 17:37:02.686\u001b[0m | \u001b[1mINFO    \u001b[0m | \u001b[36m__main__\u001b[0m:\u001b[36mtrain\u001b[0m:\u001b[36m197\u001b[0m - \u001b[1mepoch: 5  batch: 1414/1475  loss: 0.1376 (0.2792)  lr: 0.000100\u001b[0m\n",
            "\u001b[32m2025-01-16 17:37:14.824\u001b[0m | \u001b[1mINFO    \u001b[0m | \u001b[36m__main__\u001b[0m:\u001b[36mtrain\u001b[0m:\u001b[36m197\u001b[0m - \u001b[1mepoch: 5  batch: 1428/1475  loss: 0.1383 (0.2790)  lr: 0.000100\u001b[0m\n",
            "\u001b[32m2025-01-16 17:37:26.928\u001b[0m | \u001b[1mINFO    \u001b[0m | \u001b[36m__main__\u001b[0m:\u001b[36mtrain\u001b[0m:\u001b[36m197\u001b[0m - \u001b[1mepoch: 5  batch: 1442/1475  loss: 0.1418 (0.2788)  lr: 0.000100\u001b[0m\n",
            "\u001b[32m2025-01-16 17:37:39.057\u001b[0m | \u001b[1mINFO    \u001b[0m | \u001b[36m__main__\u001b[0m:\u001b[36mtrain\u001b[0m:\u001b[36m197\u001b[0m - \u001b[1mepoch: 5  batch: 1456/1475  loss: 0.1383 (0.2785)  lr: 0.000100\u001b[0m\n",
            "\u001b[32m2025-01-16 17:37:51.123\u001b[0m | \u001b[1mINFO    \u001b[0m | \u001b[36m__main__\u001b[0m:\u001b[36mtrain\u001b[0m:\u001b[36m197\u001b[0m - \u001b[1mepoch: 5  batch: 1470/1475  loss: 0.1356 (0.2783)  lr: 0.000100\u001b[0m\n",
            "\u001b[32m2025-01-16 17:37:55.189\u001b[0m | \u001b[1mINFO    \u001b[0m | \u001b[36m__main__\u001b[0m:\u001b[36mtrain\u001b[0m:\u001b[36m219\u001b[0m - \u001b[1mFinish epoch: 5, without validation\u001b[0m\n",
            "\u001b[32m2025-01-16 17:38:10.933\u001b[0m | \u001b[1mINFO    \u001b[0m | \u001b[36m__main__\u001b[0m:\u001b[36mtrain\u001b[0m:\u001b[36m197\u001b[0m - \u001b[1mepoch: 6  batch: 14/1475  loss: 0.1307 (0.2780)  lr: 0.000100\u001b[0m\n",
            "\u001b[32m2025-01-16 17:38:23.216\u001b[0m | \u001b[1mINFO    \u001b[0m | \u001b[36m__main__\u001b[0m:\u001b[36mtrain\u001b[0m:\u001b[36m197\u001b[0m - \u001b[1mepoch: 6  batch: 28/1475  loss: 0.1284 (0.2778)  lr: 0.000100\u001b[0m\n",
            "\u001b[32m2025-01-16 17:38:35.484\u001b[0m | \u001b[1mINFO    \u001b[0m | \u001b[36m__main__\u001b[0m:\u001b[36mtrain\u001b[0m:\u001b[36m197\u001b[0m - \u001b[1mepoch: 6  batch: 42/1475  loss: 0.1282 (0.2775)  lr: 0.000100\u001b[0m\n",
            "\u001b[32m2025-01-16 17:38:47.671\u001b[0m | \u001b[1mINFO    \u001b[0m | \u001b[36m__main__\u001b[0m:\u001b[36mtrain\u001b[0m:\u001b[36m197\u001b[0m - \u001b[1mepoch: 6  batch: 56/1475  loss: 0.1236 (0.2773)  lr: 0.000100\u001b[0m\n",
            "\u001b[32m2025-01-16 17:38:59.750\u001b[0m | \u001b[1mINFO    \u001b[0m | \u001b[36m__main__\u001b[0m:\u001b[36mtrain\u001b[0m:\u001b[36m197\u001b[0m - \u001b[1mepoch: 6  batch: 70/1475  loss: 0.1236 (0.2770)  lr: 0.000100\u001b[0m\n",
            "\u001b[32m2025-01-16 17:39:11.876\u001b[0m | \u001b[1mINFO    \u001b[0m | \u001b[36m__main__\u001b[0m:\u001b[36mtrain\u001b[0m:\u001b[36m197\u001b[0m - \u001b[1mepoch: 6  batch: 84/1475  loss: 0.1223 (0.2768)  lr: 0.000100\u001b[0m\n",
            "\u001b[32m2025-01-16 17:39:23.982\u001b[0m | \u001b[1mINFO    \u001b[0m | \u001b[36m__main__\u001b[0m:\u001b[36mtrain\u001b[0m:\u001b[36m197\u001b[0m - \u001b[1mepoch: 6  batch: 98/1475  loss: 0.1196 (0.2766)  lr: 0.000100\u001b[0m\n",
            "\u001b[32m2025-01-16 17:39:36.140\u001b[0m | \u001b[1mINFO    \u001b[0m | \u001b[36m__main__\u001b[0m:\u001b[36mtrain\u001b[0m:\u001b[36m197\u001b[0m - \u001b[1mepoch: 6  batch: 112/1475  loss: 0.1218 (0.2763)  lr: 0.000100\u001b[0m\n",
            "\u001b[32m2025-01-16 17:39:48.276\u001b[0m | \u001b[1mINFO    \u001b[0m | \u001b[36m__main__\u001b[0m:\u001b[36mtrain\u001b[0m:\u001b[36m197\u001b[0m - \u001b[1mepoch: 6  batch: 126/1475  loss: 0.1213 (0.2761)  lr: 0.000100\u001b[0m\n",
            "\u001b[32m2025-01-16 17:40:00.369\u001b[0m | \u001b[1mINFO    \u001b[0m | \u001b[36m__main__\u001b[0m:\u001b[36mtrain\u001b[0m:\u001b[36m197\u001b[0m - \u001b[1mepoch: 6  batch: 140/1475  loss: 0.1297 (0.2759)  lr: 0.000100\u001b[0m\n",
            "\u001b[32m2025-01-16 17:40:12.512\u001b[0m | \u001b[1mINFO    \u001b[0m | \u001b[36m__main__\u001b[0m:\u001b[36mtrain\u001b[0m:\u001b[36m197\u001b[0m - \u001b[1mepoch: 6  batch: 154/1475  loss: 0.1278 (0.2756)  lr: 0.000100\u001b[0m\n",
            "\u001b[32m2025-01-16 17:40:24.663\u001b[0m | \u001b[1mINFO    \u001b[0m | \u001b[36m__main__\u001b[0m:\u001b[36mtrain\u001b[0m:\u001b[36m197\u001b[0m - \u001b[1mepoch: 6  batch: 168/1475  loss: 0.1248 (0.2754)  lr: 0.000100\u001b[0m\n",
            "\u001b[32m2025-01-16 17:40:36.781\u001b[0m | \u001b[1mINFO    \u001b[0m | \u001b[36m__main__\u001b[0m:\u001b[36mtrain\u001b[0m:\u001b[36m197\u001b[0m - \u001b[1mepoch: 6  batch: 182/1475  loss: 0.1248 (0.2752)  lr: 0.000100\u001b[0m\n",
            "\u001b[32m2025-01-16 17:40:48.893\u001b[0m | \u001b[1mINFO    \u001b[0m | \u001b[36m__main__\u001b[0m:\u001b[36mtrain\u001b[0m:\u001b[36m197\u001b[0m - \u001b[1mepoch: 6  batch: 196/1475  loss: 0.1239 (0.2749)  lr: 0.000100\u001b[0m\n",
            "\u001b[32m2025-01-16 17:41:00.989\u001b[0m | \u001b[1mINFO    \u001b[0m | \u001b[36m__main__\u001b[0m:\u001b[36mtrain\u001b[0m:\u001b[36m197\u001b[0m - \u001b[1mepoch: 6  batch: 210/1475  loss: 0.1242 (0.2747)  lr: 0.000100\u001b[0m\n",
            "\u001b[32m2025-01-16 17:41:13.072\u001b[0m | \u001b[1mINFO    \u001b[0m | \u001b[36m__main__\u001b[0m:\u001b[36mtrain\u001b[0m:\u001b[36m197\u001b[0m - \u001b[1mepoch: 6  batch: 224/1475  loss: 0.1250 (0.2745)  lr: 0.000100\u001b[0m\n",
            "\u001b[32m2025-01-16 17:41:25.240\u001b[0m | \u001b[1mINFO    \u001b[0m | \u001b[36m__main__\u001b[0m:\u001b[36mtrain\u001b[0m:\u001b[36m197\u001b[0m - \u001b[1mepoch: 6  batch: 238/1475  loss: 0.1252 (0.2742)  lr: 0.000100\u001b[0m\n",
            "\u001b[32m2025-01-16 17:41:37.366\u001b[0m | \u001b[1mINFO    \u001b[0m | \u001b[36m__main__\u001b[0m:\u001b[36mtrain\u001b[0m:\u001b[36m197\u001b[0m - \u001b[1mepoch: 6  batch: 252/1475  loss: 0.1254 (0.2740)  lr: 0.000100\u001b[0m\n",
            "\u001b[32m2025-01-16 17:41:49.473\u001b[0m | \u001b[1mINFO    \u001b[0m | \u001b[36m__main__\u001b[0m:\u001b[36mtrain\u001b[0m:\u001b[36m197\u001b[0m - \u001b[1mepoch: 6  batch: 266/1475  loss: 0.1252 (0.2738)  lr: 0.000100\u001b[0m\n",
            "\u001b[32m2025-01-16 17:42:01.591\u001b[0m | \u001b[1mINFO    \u001b[0m | \u001b[36m__main__\u001b[0m:\u001b[36mtrain\u001b[0m:\u001b[36m197\u001b[0m - \u001b[1mepoch: 6  batch: 280/1475  loss: 0.1174 (0.2735)  lr: 0.000100\u001b[0m\n",
            "\u001b[32m2025-01-16 17:42:13.727\u001b[0m | \u001b[1mINFO    \u001b[0m | \u001b[36m__main__\u001b[0m:\u001b[36mtrain\u001b[0m:\u001b[36m197\u001b[0m - \u001b[1mepoch: 6  batch: 294/1475  loss: 0.1239 (0.2733)  lr: 0.000100\u001b[0m\n",
            "\u001b[32m2025-01-16 17:42:25.876\u001b[0m | \u001b[1mINFO    \u001b[0m | \u001b[36m__main__\u001b[0m:\u001b[36mtrain\u001b[0m:\u001b[36m197\u001b[0m - \u001b[1mepoch: 6  batch: 308/1475  loss: 0.1272 (0.2731)  lr: 0.000100\u001b[0m\n",
            "\u001b[32m2025-01-16 17:42:38.002\u001b[0m | \u001b[1mINFO    \u001b[0m | \u001b[36m__main__\u001b[0m:\u001b[36mtrain\u001b[0m:\u001b[36m197\u001b[0m - \u001b[1mepoch: 6  batch: 322/1475  loss: 0.1272 (0.2729)  lr: 0.000100\u001b[0m\n",
            "\u001b[32m2025-01-16 17:42:50.166\u001b[0m | \u001b[1mINFO    \u001b[0m | \u001b[36m__main__\u001b[0m:\u001b[36mtrain\u001b[0m:\u001b[36m197\u001b[0m - \u001b[1mepoch: 6  batch: 336/1475  loss: 0.1218 (0.2726)  lr: 0.000100\u001b[0m\n",
            "\u001b[32m2025-01-16 17:43:02.308\u001b[0m | \u001b[1mINFO    \u001b[0m | \u001b[36m__main__\u001b[0m:\u001b[36mtrain\u001b[0m:\u001b[36m197\u001b[0m - \u001b[1mepoch: 6  batch: 350/1475  loss: 0.1287 (0.2724)  lr: 0.000100\u001b[0m\n",
            "\u001b[32m2025-01-16 17:43:14.454\u001b[0m | \u001b[1mINFO    \u001b[0m | \u001b[36m__main__\u001b[0m:\u001b[36mtrain\u001b[0m:\u001b[36m197\u001b[0m - \u001b[1mepoch: 6  batch: 364/1475  loss: 0.1289 (0.2722)  lr: 0.000100\u001b[0m\n",
            "\u001b[32m2025-01-16 17:43:26.626\u001b[0m | \u001b[1mINFO    \u001b[0m | \u001b[36m__main__\u001b[0m:\u001b[36mtrain\u001b[0m:\u001b[36m197\u001b[0m - \u001b[1mepoch: 6  batch: 378/1475  loss: 0.1226 (0.2720)  lr: 0.000100\u001b[0m\n",
            "\u001b[32m2025-01-16 17:43:38.757\u001b[0m | \u001b[1mINFO    \u001b[0m | \u001b[36m__main__\u001b[0m:\u001b[36mtrain\u001b[0m:\u001b[36m197\u001b[0m - \u001b[1mepoch: 6  batch: 392/1475  loss: 0.1209 (0.2718)  lr: 0.000100\u001b[0m\n",
            "\u001b[32m2025-01-16 17:43:50.890\u001b[0m | \u001b[1mINFO    \u001b[0m | \u001b[36m__main__\u001b[0m:\u001b[36mtrain\u001b[0m:\u001b[36m197\u001b[0m - \u001b[1mepoch: 6  batch: 406/1475  loss: 0.1209 (0.2715)  lr: 0.000100\u001b[0m\n",
            "\u001b[32m2025-01-16 17:44:03.071\u001b[0m | \u001b[1mINFO    \u001b[0m | \u001b[36m__main__\u001b[0m:\u001b[36mtrain\u001b[0m:\u001b[36m197\u001b[0m - \u001b[1mepoch: 6  batch: 420/1475  loss: 0.1283 (0.2713)  lr: 0.000100\u001b[0m\n",
            "\u001b[32m2025-01-16 17:44:15.200\u001b[0m | \u001b[1mINFO    \u001b[0m | \u001b[36m__main__\u001b[0m:\u001b[36mtrain\u001b[0m:\u001b[36m197\u001b[0m - \u001b[1mepoch: 6  batch: 434/1475  loss: 0.1257 (0.2711)  lr: 0.000100\u001b[0m\n",
            "\u001b[32m2025-01-16 17:44:27.364\u001b[0m | \u001b[1mINFO    \u001b[0m | \u001b[36m__main__\u001b[0m:\u001b[36mtrain\u001b[0m:\u001b[36m197\u001b[0m - \u001b[1mepoch: 6  batch: 448/1475  loss: 0.1266 (0.2709)  lr: 0.000100\u001b[0m\n",
            "\u001b[32m2025-01-16 17:44:39.443\u001b[0m | \u001b[1mINFO    \u001b[0m | \u001b[36m__main__\u001b[0m:\u001b[36mtrain\u001b[0m:\u001b[36m197\u001b[0m - \u001b[1mepoch: 6  batch: 462/1475  loss: 0.1243 (0.2707)  lr: 0.000100\u001b[0m\n",
            "\u001b[32m2025-01-16 17:44:51.497\u001b[0m | \u001b[1mINFO    \u001b[0m | \u001b[36m__main__\u001b[0m:\u001b[36mtrain\u001b[0m:\u001b[36m197\u001b[0m - \u001b[1mepoch: 6  batch: 476/1475  loss: 0.1214 (0.2704)  lr: 0.000100\u001b[0m\n",
            "\u001b[32m2025-01-16 17:45:03.593\u001b[0m | \u001b[1mINFO    \u001b[0m | \u001b[36m__main__\u001b[0m:\u001b[36mtrain\u001b[0m:\u001b[36m197\u001b[0m - \u001b[1mepoch: 6  batch: 490/1475  loss: 0.1231 (0.2702)  lr: 0.000100\u001b[0m\n",
            "\u001b[32m2025-01-16 17:45:15.738\u001b[0m | \u001b[1mINFO    \u001b[0m | \u001b[36m__main__\u001b[0m:\u001b[36mtrain\u001b[0m:\u001b[36m197\u001b[0m - \u001b[1mepoch: 6  batch: 504/1475  loss: 0.1271 (0.2700)  lr: 0.000100\u001b[0m\n",
            "\u001b[32m2025-01-16 17:45:27.879\u001b[0m | \u001b[1mINFO    \u001b[0m | \u001b[36m__main__\u001b[0m:\u001b[36mtrain\u001b[0m:\u001b[36m197\u001b[0m - \u001b[1mepoch: 6  batch: 518/1475  loss: 0.1240 (0.2698)  lr: 0.000100\u001b[0m\n",
            "\u001b[32m2025-01-16 17:45:39.994\u001b[0m | \u001b[1mINFO    \u001b[0m | \u001b[36m__main__\u001b[0m:\u001b[36mtrain\u001b[0m:\u001b[36m197\u001b[0m - \u001b[1mepoch: 6  batch: 532/1475  loss: 0.1262 (0.2696)  lr: 0.000100\u001b[0m\n",
            "\u001b[32m2025-01-16 17:45:52.114\u001b[0m | \u001b[1mINFO    \u001b[0m | \u001b[36m__main__\u001b[0m:\u001b[36mtrain\u001b[0m:\u001b[36m197\u001b[0m - \u001b[1mepoch: 6  batch: 546/1475  loss: 0.1248 (0.2694)  lr: 0.000100\u001b[0m\n",
            "\u001b[32m2025-01-16 17:46:04.225\u001b[0m | \u001b[1mINFO    \u001b[0m | \u001b[36m__main__\u001b[0m:\u001b[36mtrain\u001b[0m:\u001b[36m197\u001b[0m - \u001b[1mepoch: 6  batch: 560/1475  loss: 0.1242 (0.2692)  lr: 0.000100\u001b[0m\n",
            "\u001b[32m2025-01-16 17:46:16.390\u001b[0m | \u001b[1mINFO    \u001b[0m | \u001b[36m__main__\u001b[0m:\u001b[36mtrain\u001b[0m:\u001b[36m197\u001b[0m - \u001b[1mepoch: 6  batch: 574/1475  loss: 0.1264 (0.2689)  lr: 0.000100\u001b[0m\n",
            "\u001b[32m2025-01-16 17:46:28.573\u001b[0m | \u001b[1mINFO    \u001b[0m | \u001b[36m__main__\u001b[0m:\u001b[36mtrain\u001b[0m:\u001b[36m197\u001b[0m - \u001b[1mepoch: 6  batch: 588/1475  loss: 0.1290 (0.2687)  lr: 0.000100\u001b[0m\n",
            "\u001b[32m2025-01-16 17:46:40.686\u001b[0m | \u001b[1mINFO    \u001b[0m | \u001b[36m__main__\u001b[0m:\u001b[36mtrain\u001b[0m:\u001b[36m197\u001b[0m - \u001b[1mepoch: 6  batch: 602/1475  loss: 0.1287 (0.2685)  lr: 0.000100\u001b[0m\n",
            "\u001b[32m2025-01-16 17:46:52.808\u001b[0m | \u001b[1mINFO    \u001b[0m | \u001b[36m__main__\u001b[0m:\u001b[36mtrain\u001b[0m:\u001b[36m197\u001b[0m - \u001b[1mepoch: 6  batch: 616/1475  loss: 0.1276 (0.2683)  lr: 0.000100\u001b[0m\n",
            "\u001b[32m2025-01-16 17:47:04.950\u001b[0m | \u001b[1mINFO    \u001b[0m | \u001b[36m__main__\u001b[0m:\u001b[36mtrain\u001b[0m:\u001b[36m197\u001b[0m - \u001b[1mepoch: 6  batch: 630/1475  loss: 0.1243 (0.2681)  lr: 0.000100\u001b[0m\n",
            "\u001b[32m2025-01-16 17:47:17.106\u001b[0m | \u001b[1mINFO    \u001b[0m | \u001b[36m__main__\u001b[0m:\u001b[36mtrain\u001b[0m:\u001b[36m197\u001b[0m - \u001b[1mepoch: 6  batch: 644/1475  loss: 0.1240 (0.2679)  lr: 0.000100\u001b[0m\n",
            "\u001b[32m2025-01-16 17:47:29.302\u001b[0m | \u001b[1mINFO    \u001b[0m | \u001b[36m__main__\u001b[0m:\u001b[36mtrain\u001b[0m:\u001b[36m197\u001b[0m - \u001b[1mepoch: 6  batch: 658/1475  loss: 0.1255 (0.2677)  lr: 0.000100\u001b[0m\n",
            "\u001b[32m2025-01-16 17:47:41.480\u001b[0m | \u001b[1mINFO    \u001b[0m | \u001b[36m__main__\u001b[0m:\u001b[36mtrain\u001b[0m:\u001b[36m197\u001b[0m - \u001b[1mepoch: 6  batch: 672/1475  loss: 0.1281 (0.2675)  lr: 0.000100\u001b[0m\n",
            "\u001b[32m2025-01-16 17:47:53.634\u001b[0m | \u001b[1mINFO    \u001b[0m | \u001b[36m__main__\u001b[0m:\u001b[36mtrain\u001b[0m:\u001b[36m197\u001b[0m - \u001b[1mepoch: 6  batch: 686/1475  loss: 0.1308 (0.2673)  lr: 0.000100\u001b[0m\n",
            "\u001b[32m2025-01-16 17:48:05.776\u001b[0m | \u001b[1mINFO    \u001b[0m | \u001b[36m__main__\u001b[0m:\u001b[36mtrain\u001b[0m:\u001b[36m197\u001b[0m - \u001b[1mepoch: 6  batch: 700/1475  loss: 0.1293 (0.2671)  lr: 0.000100\u001b[0m\n",
            "\u001b[32m2025-01-16 17:48:17.916\u001b[0m | \u001b[1mINFO    \u001b[0m | \u001b[36m__main__\u001b[0m:\u001b[36mtrain\u001b[0m:\u001b[36m197\u001b[0m - \u001b[1mepoch: 6  batch: 714/1475  loss: 0.1251 (0.2669)  lr: 0.000100\u001b[0m\n",
            "\u001b[32m2025-01-16 17:48:30.082\u001b[0m | \u001b[1mINFO    \u001b[0m | \u001b[36m__main__\u001b[0m:\u001b[36mtrain\u001b[0m:\u001b[36m197\u001b[0m - \u001b[1mepoch: 6  batch: 728/1475  loss: 0.1246 (0.2667)  lr: 0.000100\u001b[0m\n",
            "\u001b[32m2025-01-16 17:48:42.258\u001b[0m | \u001b[1mINFO    \u001b[0m | \u001b[36m__main__\u001b[0m:\u001b[36mtrain\u001b[0m:\u001b[36m197\u001b[0m - \u001b[1mepoch: 6  batch: 742/1475  loss: 0.1301 (0.2665)  lr: 0.000100\u001b[0m\n",
            "\u001b[32m2025-01-16 17:48:54.399\u001b[0m | \u001b[1mINFO    \u001b[0m | \u001b[36m__main__\u001b[0m:\u001b[36mtrain\u001b[0m:\u001b[36m197\u001b[0m - \u001b[1mepoch: 6  batch: 756/1475  loss: 0.1274 (0.2663)  lr: 0.000100\u001b[0m\n",
            "\u001b[32m2025-01-16 17:49:06.593\u001b[0m | \u001b[1mINFO    \u001b[0m | \u001b[36m__main__\u001b[0m:\u001b[36mtrain\u001b[0m:\u001b[36m197\u001b[0m - \u001b[1mepoch: 6  batch: 770/1475  loss: 0.1263 (0.2661)  lr: 0.000100\u001b[0m\n",
            "\u001b[32m2025-01-16 17:49:18.855\u001b[0m | \u001b[1mINFO    \u001b[0m | \u001b[36m__main__\u001b[0m:\u001b[36mtrain\u001b[0m:\u001b[36m197\u001b[0m - \u001b[1mepoch: 6  batch: 784/1475  loss: 0.1247 (0.2659)  lr: 0.000100\u001b[0m\n",
            "\u001b[32m2025-01-16 17:49:31.047\u001b[0m | \u001b[1mINFO    \u001b[0m | \u001b[36m__main__\u001b[0m:\u001b[36mtrain\u001b[0m:\u001b[36m197\u001b[0m - \u001b[1mepoch: 6  batch: 798/1475  loss: 0.1262 (0.2657)  lr: 0.000100\u001b[0m\n",
            "\u001b[32m2025-01-16 17:49:43.216\u001b[0m | \u001b[1mINFO    \u001b[0m | \u001b[36m__main__\u001b[0m:\u001b[36mtrain\u001b[0m:\u001b[36m197\u001b[0m - \u001b[1mepoch: 6  batch: 812/1475  loss: 0.1278 (0.2655)  lr: 0.000100\u001b[0m\n",
            "\u001b[32m2025-01-16 17:49:55.373\u001b[0m | \u001b[1mINFO    \u001b[0m | \u001b[36m__main__\u001b[0m:\u001b[36mtrain\u001b[0m:\u001b[36m197\u001b[0m - \u001b[1mepoch: 6  batch: 826/1475  loss: 0.1260 (0.2653)  lr: 0.000100\u001b[0m\n",
            "\u001b[32m2025-01-16 17:50:07.468\u001b[0m | \u001b[1mINFO    \u001b[0m | \u001b[36m__main__\u001b[0m:\u001b[36mtrain\u001b[0m:\u001b[36m197\u001b[0m - \u001b[1mepoch: 6  batch: 840/1475  loss: 0.1264 (0.2651)  lr: 0.000100\u001b[0m\n",
            "\u001b[32m2025-01-16 17:50:19.625\u001b[0m | \u001b[1mINFO    \u001b[0m | \u001b[36m__main__\u001b[0m:\u001b[36mtrain\u001b[0m:\u001b[36m197\u001b[0m - \u001b[1mepoch: 6  batch: 854/1475  loss: 0.1265 (0.2649)  lr: 0.000100\u001b[0m\n",
            "\u001b[32m2025-01-16 17:50:31.723\u001b[0m | \u001b[1mINFO    \u001b[0m | \u001b[36m__main__\u001b[0m:\u001b[36mtrain\u001b[0m:\u001b[36m197\u001b[0m - \u001b[1mepoch: 6  batch: 868/1475  loss: 0.1238 (0.2646)  lr: 0.000100\u001b[0m\n",
            "\u001b[32m2025-01-16 17:50:43.877\u001b[0m | \u001b[1mINFO    \u001b[0m | \u001b[36m__main__\u001b[0m:\u001b[36mtrain\u001b[0m:\u001b[36m197\u001b[0m - \u001b[1mepoch: 6  batch: 882/1475  loss: 0.1249 (0.2644)  lr: 0.000100\u001b[0m\n",
            "\u001b[32m2025-01-16 17:50:55.999\u001b[0m | \u001b[1mINFO    \u001b[0m | \u001b[36m__main__\u001b[0m:\u001b[36mtrain\u001b[0m:\u001b[36m197\u001b[0m - \u001b[1mepoch: 6  batch: 896/1475  loss: 0.1228 (0.2642)  lr: 0.000100\u001b[0m\n",
            "\u001b[32m2025-01-16 17:51:08.149\u001b[0m | \u001b[1mINFO    \u001b[0m | \u001b[36m__main__\u001b[0m:\u001b[36mtrain\u001b[0m:\u001b[36m197\u001b[0m - \u001b[1mepoch: 6  batch: 910/1475  loss: 0.1223 (0.2640)  lr: 0.000100\u001b[0m\n",
            "\u001b[32m2025-01-16 17:51:20.290\u001b[0m | \u001b[1mINFO    \u001b[0m | \u001b[36m__main__\u001b[0m:\u001b[36mtrain\u001b[0m:\u001b[36m197\u001b[0m - \u001b[1mepoch: 6  batch: 924/1475  loss: 0.1277 (0.2638)  lr: 0.000100\u001b[0m\n",
            "\u001b[32m2025-01-16 17:51:32.459\u001b[0m | \u001b[1mINFO    \u001b[0m | \u001b[36m__main__\u001b[0m:\u001b[36mtrain\u001b[0m:\u001b[36m197\u001b[0m - \u001b[1mepoch: 6  batch: 938/1475  loss: 0.1273 (0.2637)  lr: 0.000100\u001b[0m\n",
            "\u001b[32m2025-01-16 17:51:44.627\u001b[0m | \u001b[1mINFO    \u001b[0m | \u001b[36m__main__\u001b[0m:\u001b[36mtrain\u001b[0m:\u001b[36m197\u001b[0m - \u001b[1mepoch: 6  batch: 952/1475  loss: 0.1263 (0.2635)  lr: 0.000100\u001b[0m\n",
            "\u001b[32m2025-01-16 17:51:56.747\u001b[0m | \u001b[1mINFO    \u001b[0m | \u001b[36m__main__\u001b[0m:\u001b[36mtrain\u001b[0m:\u001b[36m197\u001b[0m - \u001b[1mepoch: 6  batch: 966/1475  loss: 0.1244 (0.2633)  lr: 0.000100\u001b[0m\n",
            "\u001b[32m2025-01-16 17:52:08.921\u001b[0m | \u001b[1mINFO    \u001b[0m | \u001b[36m__main__\u001b[0m:\u001b[36mtrain\u001b[0m:\u001b[36m197\u001b[0m - \u001b[1mepoch: 6  batch: 980/1475  loss: 0.1272 (0.2631)  lr: 0.000100\u001b[0m\n",
            "\u001b[32m2025-01-16 17:52:21.061\u001b[0m | \u001b[1mINFO    \u001b[0m | \u001b[36m__main__\u001b[0m:\u001b[36mtrain\u001b[0m:\u001b[36m197\u001b[0m - \u001b[1mepoch: 6  batch: 994/1475  loss: 0.1242 (0.2629)  lr: 0.000100\u001b[0m\n",
            "\u001b[32m2025-01-16 17:52:33.206\u001b[0m | \u001b[1mINFO    \u001b[0m | \u001b[36m__main__\u001b[0m:\u001b[36mtrain\u001b[0m:\u001b[36m197\u001b[0m - \u001b[1mepoch: 6  batch: 1008/1475  loss: 0.1277 (0.2627)  lr: 0.000100\u001b[0m\n",
            "\u001b[32m2025-01-16 17:52:45.396\u001b[0m | \u001b[1mINFO    \u001b[0m | \u001b[36m__main__\u001b[0m:\u001b[36mtrain\u001b[0m:\u001b[36m197\u001b[0m - \u001b[1mepoch: 6  batch: 1022/1475  loss: 0.1298 (0.2625)  lr: 0.000100\u001b[0m\n",
            "\u001b[32m2025-01-16 17:52:57.584\u001b[0m | \u001b[1mINFO    \u001b[0m | \u001b[36m__main__\u001b[0m:\u001b[36mtrain\u001b[0m:\u001b[36m197\u001b[0m - \u001b[1mepoch: 6  batch: 1036/1475  loss: 0.1258 (0.2623)  lr: 0.000100\u001b[0m\n",
            "\u001b[32m2025-01-16 17:53:09.756\u001b[0m | \u001b[1mINFO    \u001b[0m | \u001b[36m__main__\u001b[0m:\u001b[36mtrain\u001b[0m:\u001b[36m197\u001b[0m - \u001b[1mepoch: 6  batch: 1050/1475  loss: 0.1220 (0.2621)  lr: 0.000100\u001b[0m\n",
            "\u001b[32m2025-01-16 17:53:21.923\u001b[0m | \u001b[1mINFO    \u001b[0m | \u001b[36m__main__\u001b[0m:\u001b[36mtrain\u001b[0m:\u001b[36m197\u001b[0m - \u001b[1mepoch: 6  batch: 1064/1475  loss: 0.1218 (0.2619)  lr: 0.000100\u001b[0m\n",
            "\u001b[32m2025-01-16 17:53:34.059\u001b[0m | \u001b[1mINFO    \u001b[0m | \u001b[36m__main__\u001b[0m:\u001b[36mtrain\u001b[0m:\u001b[36m197\u001b[0m - \u001b[1mepoch: 6  batch: 1078/1475  loss: 0.1255 (0.2617)  lr: 0.000100\u001b[0m\n",
            "\u001b[32m2025-01-16 17:53:46.239\u001b[0m | \u001b[1mINFO    \u001b[0m | \u001b[36m__main__\u001b[0m:\u001b[36mtrain\u001b[0m:\u001b[36m197\u001b[0m - \u001b[1mepoch: 6  batch: 1092/1475  loss: 0.1248 (0.2615)  lr: 0.000100\u001b[0m\n",
            "\u001b[32m2025-01-16 17:53:58.410\u001b[0m | \u001b[1mINFO    \u001b[0m | \u001b[36m__main__\u001b[0m:\u001b[36mtrain\u001b[0m:\u001b[36m197\u001b[0m - \u001b[1mepoch: 6  batch: 1106/1475  loss: 0.1243 (0.2613)  lr: 0.000100\u001b[0m\n",
            "\u001b[32m2025-01-16 17:54:10.561\u001b[0m | \u001b[1mINFO    \u001b[0m | \u001b[36m__main__\u001b[0m:\u001b[36mtrain\u001b[0m:\u001b[36m197\u001b[0m - \u001b[1mepoch: 6  batch: 1120/1475  loss: 0.1262 (0.2611)  lr: 0.000100\u001b[0m\n",
            "\u001b[32m2025-01-16 17:54:22.721\u001b[0m | \u001b[1mINFO    \u001b[0m | \u001b[36m__main__\u001b[0m:\u001b[36mtrain\u001b[0m:\u001b[36m197\u001b[0m - \u001b[1mepoch: 6  batch: 1134/1475  loss: 0.1252 (0.2610)  lr: 0.000100\u001b[0m\n",
            "\u001b[32m2025-01-16 17:54:34.851\u001b[0m | \u001b[1mINFO    \u001b[0m | \u001b[36m__main__\u001b[0m:\u001b[36mtrain\u001b[0m:\u001b[36m197\u001b[0m - \u001b[1mepoch: 6  batch: 1148/1475  loss: 0.1236 (0.2608)  lr: 0.000100\u001b[0m\n",
            "\u001b[32m2025-01-16 17:54:46.988\u001b[0m | \u001b[1mINFO    \u001b[0m | \u001b[36m__main__\u001b[0m:\u001b[36mtrain\u001b[0m:\u001b[36m197\u001b[0m - \u001b[1mepoch: 6  batch: 1162/1475  loss: 0.1254 (0.2606)  lr: 0.000100\u001b[0m\n",
            "\u001b[32m2025-01-16 17:54:59.158\u001b[0m | \u001b[1mINFO    \u001b[0m | \u001b[36m__main__\u001b[0m:\u001b[36mtrain\u001b[0m:\u001b[36m197\u001b[0m - \u001b[1mepoch: 6  batch: 1176/1475  loss: 0.1253 (0.2604)  lr: 0.000100\u001b[0m\n",
            "\u001b[32m2025-01-16 17:55:11.315\u001b[0m | \u001b[1mINFO    \u001b[0m | \u001b[36m__main__\u001b[0m:\u001b[36mtrain\u001b[0m:\u001b[36m197\u001b[0m - \u001b[1mepoch: 6  batch: 1190/1475  loss: 0.1238 (0.2602)  lr: 0.000100\u001b[0m\n",
            "\u001b[32m2025-01-16 17:55:23.454\u001b[0m | \u001b[1mINFO    \u001b[0m | \u001b[36m__main__\u001b[0m:\u001b[36mtrain\u001b[0m:\u001b[36m197\u001b[0m - \u001b[1mepoch: 6  batch: 1204/1475  loss: 0.1238 (0.2600)  lr: 0.000100\u001b[0m\n",
            "\u001b[32m2025-01-16 17:55:35.587\u001b[0m | \u001b[1mINFO    \u001b[0m | \u001b[36m__main__\u001b[0m:\u001b[36mtrain\u001b[0m:\u001b[36m197\u001b[0m - \u001b[1mepoch: 6  batch: 1218/1475  loss: 0.1260 (0.2598)  lr: 0.000100\u001b[0m\n",
            "\u001b[32m2025-01-16 17:55:47.753\u001b[0m | \u001b[1mINFO    \u001b[0m | \u001b[36m__main__\u001b[0m:\u001b[36mtrain\u001b[0m:\u001b[36m197\u001b[0m - \u001b[1mepoch: 6  batch: 1232/1475  loss: 0.1267 (0.2596)  lr: 0.000100\u001b[0m\n",
            "\u001b[32m2025-01-16 17:55:59.940\u001b[0m | \u001b[1mINFO    \u001b[0m | \u001b[36m__main__\u001b[0m:\u001b[36mtrain\u001b[0m:\u001b[36m197\u001b[0m - \u001b[1mepoch: 6  batch: 1246/1475  loss: 0.1294 (0.2595)  lr: 0.000100\u001b[0m\n",
            "\u001b[32m2025-01-16 17:56:12.079\u001b[0m | \u001b[1mINFO    \u001b[0m | \u001b[36m__main__\u001b[0m:\u001b[36mtrain\u001b[0m:\u001b[36m197\u001b[0m - \u001b[1mepoch: 6  batch: 1260/1475  loss: 0.1255 (0.2593)  lr: 0.000100\u001b[0m\n",
            "\u001b[32m2025-01-16 17:56:24.186\u001b[0m | \u001b[1mINFO    \u001b[0m | \u001b[36m__main__\u001b[0m:\u001b[36mtrain\u001b[0m:\u001b[36m197\u001b[0m - \u001b[1mepoch: 6  batch: 1274/1475  loss: 0.1229 (0.2591)  lr: 0.000100\u001b[0m\n",
            "\u001b[32m2025-01-16 17:56:36.319\u001b[0m | \u001b[1mINFO    \u001b[0m | \u001b[36m__main__\u001b[0m:\u001b[36mtrain\u001b[0m:\u001b[36m197\u001b[0m - \u001b[1mepoch: 6  batch: 1288/1475  loss: 0.1242 (0.2589)  lr: 0.000100\u001b[0m\n",
            "\u001b[32m2025-01-16 17:56:48.509\u001b[0m | \u001b[1mINFO    \u001b[0m | \u001b[36m__main__\u001b[0m:\u001b[36mtrain\u001b[0m:\u001b[36m197\u001b[0m - \u001b[1mepoch: 6  batch: 1302/1475  loss: 0.1302 (0.2587)  lr: 0.000100\u001b[0m\n",
            "\u001b[32m2025-01-16 17:57:00.647\u001b[0m | \u001b[1mINFO    \u001b[0m | \u001b[36m__main__\u001b[0m:\u001b[36mtrain\u001b[0m:\u001b[36m197\u001b[0m - \u001b[1mepoch: 6  batch: 1316/1475  loss: 0.1227 (0.2585)  lr: 0.000100\u001b[0m\n",
            "\u001b[32m2025-01-16 17:57:12.794\u001b[0m | \u001b[1mINFO    \u001b[0m | \u001b[36m__main__\u001b[0m:\u001b[36mtrain\u001b[0m:\u001b[36m197\u001b[0m - \u001b[1mepoch: 6  batch: 1330/1475  loss: 0.1227 (0.2584)  lr: 0.000100\u001b[0m\n",
            "\u001b[32m2025-01-16 17:57:24.900\u001b[0m | \u001b[1mINFO    \u001b[0m | \u001b[36m__main__\u001b[0m:\u001b[36mtrain\u001b[0m:\u001b[36m197\u001b[0m - \u001b[1mepoch: 6  batch: 1344/1475  loss: 0.1237 (0.2582)  lr: 0.000100\u001b[0m\n",
            "\u001b[32m2025-01-16 17:57:37.007\u001b[0m | \u001b[1mINFO    \u001b[0m | \u001b[36m__main__\u001b[0m:\u001b[36mtrain\u001b[0m:\u001b[36m197\u001b[0m - \u001b[1mepoch: 6  batch: 1358/1475  loss: 0.1261 (0.2580)  lr: 0.000100\u001b[0m\n",
            "\u001b[32m2025-01-16 17:57:49.187\u001b[0m | \u001b[1mINFO    \u001b[0m | \u001b[36m__main__\u001b[0m:\u001b[36mtrain\u001b[0m:\u001b[36m197\u001b[0m - \u001b[1mepoch: 6  batch: 1372/1475  loss: 0.1217 (0.2578)  lr: 0.000100\u001b[0m\n",
            "\u001b[32m2025-01-16 17:58:01.330\u001b[0m | \u001b[1mINFO    \u001b[0m | \u001b[36m__main__\u001b[0m:\u001b[36mtrain\u001b[0m:\u001b[36m197\u001b[0m - \u001b[1mepoch: 6  batch: 1386/1475  loss: 0.1257 (0.2576)  lr: 0.000100\u001b[0m\n",
            "\u001b[32m2025-01-16 17:58:13.431\u001b[0m | \u001b[1mINFO    \u001b[0m | \u001b[36m__main__\u001b[0m:\u001b[36mtrain\u001b[0m:\u001b[36m197\u001b[0m - \u001b[1mepoch: 6  batch: 1400/1475  loss: 0.1247 (0.2575)  lr: 0.000100\u001b[0m\n",
            "\u001b[32m2025-01-16 17:58:25.581\u001b[0m | \u001b[1mINFO    \u001b[0m | \u001b[36m__main__\u001b[0m:\u001b[36mtrain\u001b[0m:\u001b[36m197\u001b[0m - \u001b[1mepoch: 6  batch: 1414/1475  loss: 0.1269 (0.2573)  lr: 0.000100\u001b[0m\n",
            "\u001b[32m2025-01-16 17:58:37.671\u001b[0m | \u001b[1mINFO    \u001b[0m | \u001b[36m__main__\u001b[0m:\u001b[36mtrain\u001b[0m:\u001b[36m197\u001b[0m - \u001b[1mepoch: 6  batch: 1428/1475  loss: 0.1249 (0.2571)  lr: 0.000100\u001b[0m\n",
            "\u001b[32m2025-01-16 17:58:49.820\u001b[0m | \u001b[1mINFO    \u001b[0m | \u001b[36m__main__\u001b[0m:\u001b[36mtrain\u001b[0m:\u001b[36m197\u001b[0m - \u001b[1mepoch: 6  batch: 1442/1475  loss: 0.1252 (0.2569)  lr: 0.000100\u001b[0m\n",
            "\u001b[32m2025-01-16 17:59:02.005\u001b[0m | \u001b[1mINFO    \u001b[0m | \u001b[36m__main__\u001b[0m:\u001b[36mtrain\u001b[0m:\u001b[36m197\u001b[0m - \u001b[1mepoch: 6  batch: 1456/1475  loss: 0.1282 (0.2568)  lr: 0.000100\u001b[0m\n",
            "\u001b[32m2025-01-16 17:59:14.189\u001b[0m | \u001b[1mINFO    \u001b[0m | \u001b[36m__main__\u001b[0m:\u001b[36mtrain\u001b[0m:\u001b[36m197\u001b[0m - \u001b[1mepoch: 6  batch: 1470/1475  loss: 0.1281 (0.2566)  lr: 0.000100\u001b[0m\n",
            "\u001b[32m2025-01-16 17:59:18.254\u001b[0m | \u001b[1mINFO    \u001b[0m | \u001b[36m__main__\u001b[0m:\u001b[36mtrain\u001b[0m:\u001b[36m219\u001b[0m - \u001b[1mFinish epoch: 6, without validation\u001b[0m\n",
            "\u001b[32m2025-01-16 17:59:37.262\u001b[0m | \u001b[1mINFO    \u001b[0m | \u001b[36m__main__\u001b[0m:\u001b[36mtrain\u001b[0m:\u001b[36m197\u001b[0m - \u001b[1mepoch: 7  batch: 14/1475  loss: 0.1166 (0.2563)  lr: 0.000100\u001b[0m\n",
            "\u001b[32m2025-01-16 17:59:49.468\u001b[0m | \u001b[1mINFO    \u001b[0m | \u001b[36m__main__\u001b[0m:\u001b[36mtrain\u001b[0m:\u001b[36m197\u001b[0m - \u001b[1mepoch: 7  batch: 28/1475  loss: 0.1110 (0.2561)  lr: 0.000100\u001b[0m\n",
            "\u001b[32m2025-01-16 18:00:01.819\u001b[0m | \u001b[1mINFO    \u001b[0m | \u001b[36m__main__\u001b[0m:\u001b[36mtrain\u001b[0m:\u001b[36m197\u001b[0m - \u001b[1mepoch: 7  batch: 42/1475  loss: 0.1105 (0.2559)  lr: 0.000100\u001b[0m\n",
            "\u001b[32m2025-01-16 18:00:14.017\u001b[0m | \u001b[1mINFO    \u001b[0m | \u001b[36m__main__\u001b[0m:\u001b[36mtrain\u001b[0m:\u001b[36m197\u001b[0m - \u001b[1mepoch: 7  batch: 56/1475  loss: 0.1080 (0.2557)  lr: 0.000100\u001b[0m\n",
            "\u001b[32m2025-01-16 18:00:26.182\u001b[0m | \u001b[1mINFO    \u001b[0m | \u001b[36m__main__\u001b[0m:\u001b[36mtrain\u001b[0m:\u001b[36m197\u001b[0m - \u001b[1mepoch: 7  batch: 70/1475  loss: 0.1105 (0.2555)  lr: 0.000100\u001b[0m\n",
            "\u001b[32m2025-01-16 18:00:38.341\u001b[0m | \u001b[1mINFO    \u001b[0m | \u001b[36m__main__\u001b[0m:\u001b[36mtrain\u001b[0m:\u001b[36m197\u001b[0m - \u001b[1mepoch: 7  batch: 84/1475  loss: 0.1133 (0.2553)  lr: 0.000100\u001b[0m\n",
            "\u001b[32m2025-01-16 18:00:50.460\u001b[0m | \u001b[1mINFO    \u001b[0m | \u001b[36m__main__\u001b[0m:\u001b[36mtrain\u001b[0m:\u001b[36m197\u001b[0m - \u001b[1mepoch: 7  batch: 98/1475  loss: 0.1141 (0.2552)  lr: 0.000100\u001b[0m\n",
            "\u001b[32m2025-01-16 18:01:02.576\u001b[0m | \u001b[1mINFO    \u001b[0m | \u001b[36m__main__\u001b[0m:\u001b[36mtrain\u001b[0m:\u001b[36m197\u001b[0m - \u001b[1mepoch: 7  batch: 112/1475  loss: 0.1140 (0.2550)  lr: 0.000100\u001b[0m\n",
            "\u001b[32m2025-01-16 18:01:14.721\u001b[0m | \u001b[1mINFO    \u001b[0m | \u001b[36m__main__\u001b[0m:\u001b[36mtrain\u001b[0m:\u001b[36m197\u001b[0m - \u001b[1mepoch: 7  batch: 126/1475  loss: 0.1111 (0.2548)  lr: 0.000100\u001b[0m\n",
            "\u001b[32m2025-01-16 18:01:26.858\u001b[0m | \u001b[1mINFO    \u001b[0m | \u001b[36m__main__\u001b[0m:\u001b[36mtrain\u001b[0m:\u001b[36m197\u001b[0m - \u001b[1mepoch: 7  batch: 140/1475  loss: 0.1124 (0.2546)  lr: 0.000100\u001b[0m\n",
            "\u001b[32m2025-01-16 18:01:38.934\u001b[0m | \u001b[1mINFO    \u001b[0m | \u001b[36m__main__\u001b[0m:\u001b[36mtrain\u001b[0m:\u001b[36m197\u001b[0m - \u001b[1mepoch: 7  batch: 154/1475  loss: 0.1108 (0.2544)  lr: 0.000100\u001b[0m\n",
            "\u001b[32m2025-01-16 18:01:51.060\u001b[0m | \u001b[1mINFO    \u001b[0m | \u001b[36m__main__\u001b[0m:\u001b[36mtrain\u001b[0m:\u001b[36m197\u001b[0m - \u001b[1mepoch: 7  batch: 168/1475  loss: 0.1109 (0.2542)  lr: 0.000100\u001b[0m\n",
            "\u001b[32m2025-01-16 18:02:03.278\u001b[0m | \u001b[1mINFO    \u001b[0m | \u001b[36m__main__\u001b[0m:\u001b[36mtrain\u001b[0m:\u001b[36m197\u001b[0m - \u001b[1mepoch: 7  batch: 182/1475  loss: 0.1120 (0.2540)  lr: 0.000100\u001b[0m\n",
            "\u001b[32m2025-01-16 18:02:15.412\u001b[0m | \u001b[1mINFO    \u001b[0m | \u001b[36m__main__\u001b[0m:\u001b[36mtrain\u001b[0m:\u001b[36m197\u001b[0m - \u001b[1mepoch: 7  batch: 196/1475  loss: 0.1101 (0.2538)  lr: 0.000100\u001b[0m\n",
            "\u001b[32m2025-01-16 18:02:27.587\u001b[0m | \u001b[1mINFO    \u001b[0m | \u001b[36m__main__\u001b[0m:\u001b[36mtrain\u001b[0m:\u001b[36m197\u001b[0m - \u001b[1mepoch: 7  batch: 210/1475  loss: 0.1137 (0.2536)  lr: 0.000100\u001b[0m\n",
            "\u001b[32m2025-01-16 18:02:39.732\u001b[0m | \u001b[1mINFO    \u001b[0m | \u001b[36m__main__\u001b[0m:\u001b[36mtrain\u001b[0m:\u001b[36m197\u001b[0m - \u001b[1mepoch: 7  batch: 224/1475  loss: 0.1161 (0.2535)  lr: 0.000100\u001b[0m\n",
            "\u001b[32m2025-01-16 18:02:51.879\u001b[0m | \u001b[1mINFO    \u001b[0m | \u001b[36m__main__\u001b[0m:\u001b[36mtrain\u001b[0m:\u001b[36m197\u001b[0m - \u001b[1mepoch: 7  batch: 238/1475  loss: 0.1161 (0.2533)  lr: 0.000100\u001b[0m\n",
            "\u001b[32m2025-01-16 18:03:03.993\u001b[0m | \u001b[1mINFO    \u001b[0m | \u001b[36m__main__\u001b[0m:\u001b[36mtrain\u001b[0m:\u001b[36m197\u001b[0m - \u001b[1mepoch: 7  batch: 252/1475  loss: 0.1161 (0.2531)  lr: 0.000100\u001b[0m\n",
            "\u001b[32m2025-01-16 18:03:16.073\u001b[0m | \u001b[1mINFO    \u001b[0m | \u001b[36m__main__\u001b[0m:\u001b[36mtrain\u001b[0m:\u001b[36m197\u001b[0m - \u001b[1mepoch: 7  batch: 266/1475  loss: 0.1105 (0.2529)  lr: 0.000100\u001b[0m\n",
            "\u001b[32m2025-01-16 18:03:28.187\u001b[0m | \u001b[1mINFO    \u001b[0m | \u001b[36m__main__\u001b[0m:\u001b[36mtrain\u001b[0m:\u001b[36m197\u001b[0m - \u001b[1mepoch: 7  batch: 280/1475  loss: 0.1106 (0.2527)  lr: 0.000100\u001b[0m\n",
            "\u001b[32m2025-01-16 18:03:40.337\u001b[0m | \u001b[1mINFO    \u001b[0m | \u001b[36m__main__\u001b[0m:\u001b[36mtrain\u001b[0m:\u001b[36m197\u001b[0m - \u001b[1mepoch: 7  batch: 294/1475  loss: 0.1115 (0.2525)  lr: 0.000100\u001b[0m\n",
            "\u001b[32m2025-01-16 18:03:52.494\u001b[0m | \u001b[1mINFO    \u001b[0m | \u001b[36m__main__\u001b[0m:\u001b[36mtrain\u001b[0m:\u001b[36m197\u001b[0m - \u001b[1mepoch: 7  batch: 308/1475  loss: 0.1115 (0.2524)  lr: 0.000100\u001b[0m\n",
            "\u001b[32m2025-01-16 18:04:04.636\u001b[0m | \u001b[1mINFO    \u001b[0m | \u001b[36m__main__\u001b[0m:\u001b[36mtrain\u001b[0m:\u001b[36m197\u001b[0m - \u001b[1mepoch: 7  batch: 322/1475  loss: 0.1104 (0.2522)  lr: 0.000100\u001b[0m\n",
            "\u001b[32m2025-01-16 18:04:16.788\u001b[0m | \u001b[1mINFO    \u001b[0m | \u001b[36m__main__\u001b[0m:\u001b[36mtrain\u001b[0m:\u001b[36m197\u001b[0m - \u001b[1mepoch: 7  batch: 336/1475  loss: 0.1150 (0.2520)  lr: 0.000100\u001b[0m\n",
            "\u001b[32m2025-01-16 18:04:28.922\u001b[0m | \u001b[1mINFO    \u001b[0m | \u001b[36m__main__\u001b[0m:\u001b[36mtrain\u001b[0m:\u001b[36m197\u001b[0m - \u001b[1mepoch: 7  batch: 350/1475  loss: 0.1163 (0.2518)  lr: 0.000100\u001b[0m\n",
            "\u001b[32m2025-01-16 18:04:41.053\u001b[0m | \u001b[1mINFO    \u001b[0m | \u001b[36m__main__\u001b[0m:\u001b[36mtrain\u001b[0m:\u001b[36m197\u001b[0m - \u001b[1mepoch: 7  batch: 364/1475  loss: 0.1092 (0.2516)  lr: 0.000100\u001b[0m\n",
            "\u001b[32m2025-01-16 18:04:53.197\u001b[0m | \u001b[1mINFO    \u001b[0m | \u001b[36m__main__\u001b[0m:\u001b[36mtrain\u001b[0m:\u001b[36m197\u001b[0m - \u001b[1mepoch: 7  batch: 378/1475  loss: 0.1150 (0.2515)  lr: 0.000100\u001b[0m\n",
            "\u001b[32m2025-01-16 18:05:05.336\u001b[0m | \u001b[1mINFO    \u001b[0m | \u001b[36m__main__\u001b[0m:\u001b[36mtrain\u001b[0m:\u001b[36m197\u001b[0m - \u001b[1mepoch: 7  batch: 392/1475  loss: 0.1131 (0.2513)  lr: 0.000100\u001b[0m\n",
            "\u001b[32m2025-01-16 18:05:17.444\u001b[0m | \u001b[1mINFO    \u001b[0m | \u001b[36m__main__\u001b[0m:\u001b[36mtrain\u001b[0m:\u001b[36m197\u001b[0m - \u001b[1mepoch: 7  batch: 406/1475  loss: 0.1148 (0.2511)  lr: 0.000100\u001b[0m\n",
            "\u001b[32m2025-01-16 18:05:29.578\u001b[0m | \u001b[1mINFO    \u001b[0m | \u001b[36m__main__\u001b[0m:\u001b[36mtrain\u001b[0m:\u001b[36m197\u001b[0m - \u001b[1mepoch: 7  batch: 420/1475  loss: 0.1141 (0.2509)  lr: 0.000100\u001b[0m\n",
            "\u001b[32m2025-01-16 18:05:41.755\u001b[0m | \u001b[1mINFO    \u001b[0m | \u001b[36m__main__\u001b[0m:\u001b[36mtrain\u001b[0m:\u001b[36m197\u001b[0m - \u001b[1mepoch: 7  batch: 434/1475  loss: 0.1155 (0.2507)  lr: 0.000100\u001b[0m\n",
            "\u001b[32m2025-01-16 18:05:53.852\u001b[0m | \u001b[1mINFO    \u001b[0m | \u001b[36m__main__\u001b[0m:\u001b[36mtrain\u001b[0m:\u001b[36m197\u001b[0m - \u001b[1mepoch: 7  batch: 448/1475  loss: 0.1157 (0.2506)  lr: 0.000100\u001b[0m\n",
            "\u001b[32m2025-01-16 18:06:05.976\u001b[0m | \u001b[1mINFO    \u001b[0m | \u001b[36m__main__\u001b[0m:\u001b[36mtrain\u001b[0m:\u001b[36m197\u001b[0m - \u001b[1mepoch: 7  batch: 462/1475  loss: 0.1144 (0.2504)  lr: 0.000100\u001b[0m\n",
            "\u001b[32m2025-01-16 18:06:18.067\u001b[0m | \u001b[1mINFO    \u001b[0m | \u001b[36m__main__\u001b[0m:\u001b[36mtrain\u001b[0m:\u001b[36m197\u001b[0m - \u001b[1mepoch: 7  batch: 476/1475  loss: 0.1144 (0.2502)  lr: 0.000100\u001b[0m\n",
            "\u001b[32m2025-01-16 18:06:30.197\u001b[0m | \u001b[1mINFO    \u001b[0m | \u001b[36m__main__\u001b[0m:\u001b[36mtrain\u001b[0m:\u001b[36m197\u001b[0m - \u001b[1mepoch: 7  batch: 490/1475  loss: 0.1117 (0.2500)  lr: 0.000100\u001b[0m\n",
            "\u001b[32m2025-01-16 18:06:42.362\u001b[0m | \u001b[1mINFO    \u001b[0m | \u001b[36m__main__\u001b[0m:\u001b[36mtrain\u001b[0m:\u001b[36m197\u001b[0m - \u001b[1mepoch: 7  batch: 504/1475  loss: 0.1149 (0.2499)  lr: 0.000100\u001b[0m\n",
            "\u001b[32m2025-01-16 18:06:54.457\u001b[0m | \u001b[1mINFO    \u001b[0m | \u001b[36m__main__\u001b[0m:\u001b[36mtrain\u001b[0m:\u001b[36m197\u001b[0m - \u001b[1mepoch: 7  batch: 518/1475  loss: 0.1115 (0.2497)  lr: 0.000100\u001b[0m\n",
            "\u001b[32m2025-01-16 18:07:06.591\u001b[0m | \u001b[1mINFO    \u001b[0m | \u001b[36m__main__\u001b[0m:\u001b[36mtrain\u001b[0m:\u001b[36m197\u001b[0m - \u001b[1mepoch: 7  batch: 532/1475  loss: 0.1097 (0.2495)  lr: 0.000100\u001b[0m\n",
            "\u001b[32m2025-01-16 18:07:18.730\u001b[0m | \u001b[1mINFO    \u001b[0m | \u001b[36m__main__\u001b[0m:\u001b[36mtrain\u001b[0m:\u001b[36m197\u001b[0m - \u001b[1mepoch: 7  batch: 546/1475  loss: 0.1102 (0.2493)  lr: 0.000100\u001b[0m\n",
            "\u001b[32m2025-01-16 18:07:30.847\u001b[0m | \u001b[1mINFO    \u001b[0m | \u001b[36m__main__\u001b[0m:\u001b[36mtrain\u001b[0m:\u001b[36m197\u001b[0m - \u001b[1mepoch: 7  batch: 560/1475  loss: 0.1134 (0.2492)  lr: 0.000100\u001b[0m\n",
            "\u001b[32m2025-01-16 18:07:43.006\u001b[0m | \u001b[1mINFO    \u001b[0m | \u001b[36m__main__\u001b[0m:\u001b[36mtrain\u001b[0m:\u001b[36m197\u001b[0m - \u001b[1mepoch: 7  batch: 574/1475  loss: 0.1141 (0.2490)  lr: 0.000100\u001b[0m\n",
            "\u001b[32m2025-01-16 18:07:55.174\u001b[0m | \u001b[1mINFO    \u001b[0m | \u001b[36m__main__\u001b[0m:\u001b[36mtrain\u001b[0m:\u001b[36m197\u001b[0m - \u001b[1mepoch: 7  batch: 588/1475  loss: 0.1139 (0.2488)  lr: 0.000100\u001b[0m\n",
            "\u001b[32m2025-01-16 18:08:07.292\u001b[0m | \u001b[1mINFO    \u001b[0m | \u001b[36m__main__\u001b[0m:\u001b[36mtrain\u001b[0m:\u001b[36m197\u001b[0m - \u001b[1mepoch: 7  batch: 602/1475  loss: 0.1111 (0.2486)  lr: 0.000100\u001b[0m\n",
            "\u001b[32m2025-01-16 18:08:19.401\u001b[0m | \u001b[1mINFO    \u001b[0m | \u001b[36m__main__\u001b[0m:\u001b[36mtrain\u001b[0m:\u001b[36m197\u001b[0m - \u001b[1mepoch: 7  batch: 616/1475  loss: 0.1111 (0.2485)  lr: 0.000100\u001b[0m\n",
            "\u001b[32m2025-01-16 18:08:31.525\u001b[0m | \u001b[1mINFO    \u001b[0m | \u001b[36m__main__\u001b[0m:\u001b[36mtrain\u001b[0m:\u001b[36m197\u001b[0m - \u001b[1mepoch: 7  batch: 630/1475  loss: 0.1124 (0.2483)  lr: 0.000100\u001b[0m\n",
            "\u001b[32m2025-01-16 18:08:43.641\u001b[0m | \u001b[1mINFO    \u001b[0m | \u001b[36m__main__\u001b[0m:\u001b[36mtrain\u001b[0m:\u001b[36m197\u001b[0m - \u001b[1mepoch: 7  batch: 644/1475  loss: 0.1153 (0.2481)  lr: 0.000100\u001b[0m\n",
            "\u001b[32m2025-01-16 18:08:55.779\u001b[0m | \u001b[1mINFO    \u001b[0m | \u001b[36m__main__\u001b[0m:\u001b[36mtrain\u001b[0m:\u001b[36m197\u001b[0m - \u001b[1mepoch: 7  batch: 658/1475  loss: 0.1125 (0.2479)  lr: 0.000100\u001b[0m\n",
            "\u001b[32m2025-01-16 18:09:07.941\u001b[0m | \u001b[1mINFO    \u001b[0m | \u001b[36m__main__\u001b[0m:\u001b[36mtrain\u001b[0m:\u001b[36m197\u001b[0m - \u001b[1mepoch: 7  batch: 672/1475  loss: 0.1125 (0.2478)  lr: 0.000100\u001b[0m\n",
            "\u001b[32m2025-01-16 18:09:20.056\u001b[0m | \u001b[1mINFO    \u001b[0m | \u001b[36m__main__\u001b[0m:\u001b[36mtrain\u001b[0m:\u001b[36m197\u001b[0m - \u001b[1mepoch: 7  batch: 686/1475  loss: 0.1134 (0.2476)  lr: 0.000100\u001b[0m\n",
            "\u001b[32m2025-01-16 18:09:32.203\u001b[0m | \u001b[1mINFO    \u001b[0m | \u001b[36m__main__\u001b[0m:\u001b[36mtrain\u001b[0m:\u001b[36m197\u001b[0m - \u001b[1mepoch: 7  batch: 700/1475  loss: 0.1134 (0.2474)  lr: 0.000100\u001b[0m\n",
            "\u001b[32m2025-01-16 18:09:44.366\u001b[0m | \u001b[1mINFO    \u001b[0m | \u001b[36m__main__\u001b[0m:\u001b[36mtrain\u001b[0m:\u001b[36m197\u001b[0m - \u001b[1mepoch: 7  batch: 714/1475  loss: 0.1159 (0.2473)  lr: 0.000100\u001b[0m\n",
            "\u001b[32m2025-01-16 18:09:56.497\u001b[0m | \u001b[1mINFO    \u001b[0m | \u001b[36m__main__\u001b[0m:\u001b[36mtrain\u001b[0m:\u001b[36m197\u001b[0m - \u001b[1mepoch: 7  batch: 728/1475  loss: 0.1156 (0.2471)  lr: 0.000100\u001b[0m\n",
            "\u001b[32m2025-01-16 18:10:08.659\u001b[0m | \u001b[1mINFO    \u001b[0m | \u001b[36m__main__\u001b[0m:\u001b[36mtrain\u001b[0m:\u001b[36m197\u001b[0m - \u001b[1mepoch: 7  batch: 742/1475  loss: 0.1157 (0.2469)  lr: 0.000100\u001b[0m\n",
            "\u001b[32m2025-01-16 18:10:20.782\u001b[0m | \u001b[1mINFO    \u001b[0m | \u001b[36m__main__\u001b[0m:\u001b[36mtrain\u001b[0m:\u001b[36m197\u001b[0m - \u001b[1mepoch: 7  batch: 756/1475  loss: 0.1157 (0.2468)  lr: 0.000100\u001b[0m\n",
            "\u001b[32m2025-01-16 18:10:32.853\u001b[0m | \u001b[1mINFO    \u001b[0m | \u001b[36m__main__\u001b[0m:\u001b[36mtrain\u001b[0m:\u001b[36m197\u001b[0m - \u001b[1mepoch: 7  batch: 770/1475  loss: 0.1134 (0.2466)  lr: 0.000100\u001b[0m\n",
            "\u001b[32m2025-01-16 18:10:44.959\u001b[0m | \u001b[1mINFO    \u001b[0m | \u001b[36m__main__\u001b[0m:\u001b[36mtrain\u001b[0m:\u001b[36m197\u001b[0m - \u001b[1mepoch: 7  batch: 784/1475  loss: 0.1120 (0.2464)  lr: 0.000100\u001b[0m\n",
            "\u001b[32m2025-01-16 18:10:57.124\u001b[0m | \u001b[1mINFO    \u001b[0m | \u001b[36m__main__\u001b[0m:\u001b[36mtrain\u001b[0m:\u001b[36m197\u001b[0m - \u001b[1mepoch: 7  batch: 798/1475  loss: 0.1137 (0.2463)  lr: 0.000100\u001b[0m\n",
            "\u001b[32m2025-01-16 18:11:09.257\u001b[0m | \u001b[1mINFO    \u001b[0m | \u001b[36m__main__\u001b[0m:\u001b[36mtrain\u001b[0m:\u001b[36m197\u001b[0m - \u001b[1mepoch: 7  batch: 812/1475  loss: 0.1134 (0.2461)  lr: 0.000100\u001b[0m\n",
            "\u001b[32m2025-01-16 18:11:21.365\u001b[0m | \u001b[1mINFO    \u001b[0m | \u001b[36m__main__\u001b[0m:\u001b[36mtrain\u001b[0m:\u001b[36m197\u001b[0m - \u001b[1mepoch: 7  batch: 826/1475  loss: 0.1130 (0.2459)  lr: 0.000100\u001b[0m\n",
            "\u001b[32m2025-01-16 18:11:33.541\u001b[0m | \u001b[1mINFO    \u001b[0m | \u001b[36m__main__\u001b[0m:\u001b[36mtrain\u001b[0m:\u001b[36m197\u001b[0m - \u001b[1mepoch: 7  batch: 840/1475  loss: 0.1127 (0.2458)  lr: 0.000100\u001b[0m\n",
            "\u001b[32m2025-01-16 18:11:45.729\u001b[0m | \u001b[1mINFO    \u001b[0m | \u001b[36m__main__\u001b[0m:\u001b[36mtrain\u001b[0m:\u001b[36m197\u001b[0m - \u001b[1mepoch: 7  batch: 854/1475  loss: 0.1183 (0.2456)  lr: 0.000100\u001b[0m\n",
            "\u001b[32m2025-01-16 18:11:57.898\u001b[0m | \u001b[1mINFO    \u001b[0m | \u001b[36m__main__\u001b[0m:\u001b[36mtrain\u001b[0m:\u001b[36m197\u001b[0m - \u001b[1mepoch: 7  batch: 868/1475  loss: 0.1167 (0.2455)  lr: 0.000100\u001b[0m\n",
            "\u001b[32m2025-01-16 18:12:10.090\u001b[0m | \u001b[1mINFO    \u001b[0m | \u001b[36m__main__\u001b[0m:\u001b[36mtrain\u001b[0m:\u001b[36m197\u001b[0m - \u001b[1mepoch: 7  batch: 882/1475  loss: 0.1151 (0.2453)  lr: 0.000100\u001b[0m\n",
            "\u001b[32m2025-01-16 18:12:22.232\u001b[0m | \u001b[1mINFO    \u001b[0m | \u001b[36m__main__\u001b[0m:\u001b[36mtrain\u001b[0m:\u001b[36m197\u001b[0m - \u001b[1mepoch: 7  batch: 896/1475  loss: 0.1151 (0.2451)  lr: 0.000100\u001b[0m\n",
            "\u001b[32m2025-01-16 18:12:34.330\u001b[0m | \u001b[1mINFO    \u001b[0m | \u001b[36m__main__\u001b[0m:\u001b[36mtrain\u001b[0m:\u001b[36m197\u001b[0m - \u001b[1mepoch: 7  batch: 910/1475  loss: 0.1134 (0.2450)  lr: 0.000100\u001b[0m\n",
            "\u001b[32m2025-01-16 18:12:46.480\u001b[0m | \u001b[1mINFO    \u001b[0m | \u001b[36m__main__\u001b[0m:\u001b[36mtrain\u001b[0m:\u001b[36m197\u001b[0m - \u001b[1mepoch: 7  batch: 924/1475  loss: 0.1124 (0.2448)  lr: 0.000100\u001b[0m\n",
            "\u001b[32m2025-01-16 18:12:58.654\u001b[0m | \u001b[1mINFO    \u001b[0m | \u001b[36m__main__\u001b[0m:\u001b[36mtrain\u001b[0m:\u001b[36m197\u001b[0m - \u001b[1mepoch: 7  batch: 938/1475  loss: 0.1142 (0.2446)  lr: 0.000100\u001b[0m\n",
            "\u001b[32m2025-01-16 18:13:10.799\u001b[0m | \u001b[1mINFO    \u001b[0m | \u001b[36m__main__\u001b[0m:\u001b[36mtrain\u001b[0m:\u001b[36m197\u001b[0m - \u001b[1mepoch: 7  batch: 952/1475  loss: 0.1156 (0.2445)  lr: 0.000100\u001b[0m\n",
            "\u001b[32m2025-01-16 18:13:22.943\u001b[0m | \u001b[1mINFO    \u001b[0m | \u001b[36m__main__\u001b[0m:\u001b[36mtrain\u001b[0m:\u001b[36m197\u001b[0m - \u001b[1mepoch: 7  batch: 966/1475  loss: 0.1117 (0.2443)  lr: 0.000100\u001b[0m\n",
            "\u001b[32m2025-01-16 18:13:35.117\u001b[0m | \u001b[1mINFO    \u001b[0m | \u001b[36m__main__\u001b[0m:\u001b[36mtrain\u001b[0m:\u001b[36m197\u001b[0m - \u001b[1mepoch: 7  batch: 980/1475  loss: 0.1103 (0.2442)  lr: 0.000100\u001b[0m\n",
            "\u001b[32m2025-01-16 18:13:47.225\u001b[0m | \u001b[1mINFO    \u001b[0m | \u001b[36m__main__\u001b[0m:\u001b[36mtrain\u001b[0m:\u001b[36m197\u001b[0m - \u001b[1mepoch: 7  batch: 994/1475  loss: 0.1125 (0.2440)  lr: 0.000100\u001b[0m\n",
            "\u001b[32m2025-01-16 18:13:59.377\u001b[0m | \u001b[1mINFO    \u001b[0m | \u001b[36m__main__\u001b[0m:\u001b[36mtrain\u001b[0m:\u001b[36m197\u001b[0m - \u001b[1mepoch: 7  batch: 1008/1475  loss: 0.1169 (0.2438)  lr: 0.000100\u001b[0m\n",
            "\u001b[32m2025-01-16 18:14:11.497\u001b[0m | \u001b[1mINFO    \u001b[0m | \u001b[36m__main__\u001b[0m:\u001b[36mtrain\u001b[0m:\u001b[36m197\u001b[0m - \u001b[1mepoch: 7  batch: 1022/1475  loss: 0.1160 (0.2437)  lr: 0.000100\u001b[0m\n",
            "\u001b[32m2025-01-16 18:14:23.658\u001b[0m | \u001b[1mINFO    \u001b[0m | \u001b[36m__main__\u001b[0m:\u001b[36mtrain\u001b[0m:\u001b[36m197\u001b[0m - \u001b[1mepoch: 7  batch: 1036/1475  loss: 0.1171 (0.2435)  lr: 0.000100\u001b[0m\n",
            "\u001b[32m2025-01-16 18:14:35.764\u001b[0m | \u001b[1mINFO    \u001b[0m | \u001b[36m__main__\u001b[0m:\u001b[36mtrain\u001b[0m:\u001b[36m197\u001b[0m - \u001b[1mepoch: 7  batch: 1050/1475  loss: 0.1136 (0.2434)  lr: 0.000100\u001b[0m\n",
            "\u001b[32m2025-01-16 18:14:47.895\u001b[0m | \u001b[1mINFO    \u001b[0m | \u001b[36m__main__\u001b[0m:\u001b[36mtrain\u001b[0m:\u001b[36m197\u001b[0m - \u001b[1mepoch: 7  batch: 1064/1475  loss: 0.1147 (0.2432)  lr: 0.000100\u001b[0m\n",
            "\u001b[32m2025-01-16 18:15:00.039\u001b[0m | \u001b[1mINFO    \u001b[0m | \u001b[36m__main__\u001b[0m:\u001b[36mtrain\u001b[0m:\u001b[36m197\u001b[0m - \u001b[1mepoch: 7  batch: 1078/1475  loss: 0.1155 (0.2431)  lr: 0.000100\u001b[0m\n",
            "\u001b[32m2025-01-16 18:15:12.109\u001b[0m | \u001b[1mINFO    \u001b[0m | \u001b[36m__main__\u001b[0m:\u001b[36mtrain\u001b[0m:\u001b[36m197\u001b[0m - \u001b[1mepoch: 7  batch: 1092/1475  loss: 0.1132 (0.2429)  lr: 0.000100\u001b[0m\n",
            "\u001b[32m2025-01-16 18:15:24.247\u001b[0m | \u001b[1mINFO    \u001b[0m | \u001b[36m__main__\u001b[0m:\u001b[36mtrain\u001b[0m:\u001b[36m197\u001b[0m - \u001b[1mepoch: 7  batch: 1106/1475  loss: 0.1099 (0.2427)  lr: 0.000100\u001b[0m\n",
            "\u001b[32m2025-01-16 18:15:36.403\u001b[0m | \u001b[1mINFO    \u001b[0m | \u001b[36m__main__\u001b[0m:\u001b[36mtrain\u001b[0m:\u001b[36m197\u001b[0m - \u001b[1mepoch: 7  batch: 1120/1475  loss: 0.1115 (0.2426)  lr: 0.000100\u001b[0m\n",
            "\u001b[32m2025-01-16 18:15:48.528\u001b[0m | \u001b[1mINFO    \u001b[0m | \u001b[36m__main__\u001b[0m:\u001b[36mtrain\u001b[0m:\u001b[36m197\u001b[0m - \u001b[1mepoch: 7  batch: 1134/1475  loss: 0.1142 (0.2424)  lr: 0.000100\u001b[0m\n",
            "\u001b[32m2025-01-16 18:16:00.667\u001b[0m | \u001b[1mINFO    \u001b[0m | \u001b[36m__main__\u001b[0m:\u001b[36mtrain\u001b[0m:\u001b[36m197\u001b[0m - \u001b[1mepoch: 7  batch: 1148/1475  loss: 0.1143 (0.2423)  lr: 0.000100\u001b[0m\n",
            "\u001b[32m2025-01-16 18:16:12.855\u001b[0m | \u001b[1mINFO    \u001b[0m | \u001b[36m__main__\u001b[0m:\u001b[36mtrain\u001b[0m:\u001b[36m197\u001b[0m - \u001b[1mepoch: 7  batch: 1162/1475  loss: 0.1157 (0.2421)  lr: 0.000100\u001b[0m\n",
            "\u001b[32m2025-01-16 18:16:25.031\u001b[0m | \u001b[1mINFO    \u001b[0m | \u001b[36m__main__\u001b[0m:\u001b[36mtrain\u001b[0m:\u001b[36m197\u001b[0m - \u001b[1mepoch: 7  batch: 1176/1475  loss: 0.1134 (0.2420)  lr: 0.000100\u001b[0m\n",
            "\u001b[32m2025-01-16 18:16:37.190\u001b[0m | \u001b[1mINFO    \u001b[0m | \u001b[36m__main__\u001b[0m:\u001b[36mtrain\u001b[0m:\u001b[36m197\u001b[0m - \u001b[1mepoch: 7  batch: 1190/1475  loss: 0.1154 (0.2418)  lr: 0.000100\u001b[0m\n",
            "\u001b[32m2025-01-16 18:16:49.359\u001b[0m | \u001b[1mINFO    \u001b[0m | \u001b[36m__main__\u001b[0m:\u001b[36mtrain\u001b[0m:\u001b[36m197\u001b[0m - \u001b[1mepoch: 7  batch: 1204/1475  loss: 0.1119 (0.2417)  lr: 0.000100\u001b[0m\n",
            "\u001b[32m2025-01-16 18:17:01.539\u001b[0m | \u001b[1mINFO    \u001b[0m | \u001b[36m__main__\u001b[0m:\u001b[36mtrain\u001b[0m:\u001b[36m197\u001b[0m - \u001b[1mepoch: 7  batch: 1218/1475  loss: 0.1127 (0.2415)  lr: 0.000100\u001b[0m\n",
            "\u001b[32m2025-01-16 18:17:13.711\u001b[0m | \u001b[1mINFO    \u001b[0m | \u001b[36m__main__\u001b[0m:\u001b[36mtrain\u001b[0m:\u001b[36m197\u001b[0m - \u001b[1mepoch: 7  batch: 1232/1475  loss: 0.1136 (0.2414)  lr: 0.000100\u001b[0m\n",
            "\u001b[32m2025-01-16 18:17:25.868\u001b[0m | \u001b[1mINFO    \u001b[0m | \u001b[36m__main__\u001b[0m:\u001b[36mtrain\u001b[0m:\u001b[36m197\u001b[0m - \u001b[1mepoch: 7  batch: 1246/1475  loss: 0.1160 (0.2412)  lr: 0.000100\u001b[0m\n",
            "\u001b[32m2025-01-16 18:17:38.007\u001b[0m | \u001b[1mINFO    \u001b[0m | \u001b[36m__main__\u001b[0m:\u001b[36mtrain\u001b[0m:\u001b[36m197\u001b[0m - \u001b[1mepoch: 7  batch: 1260/1475  loss: 0.1158 (0.2411)  lr: 0.000100\u001b[0m\n",
            "\u001b[32m2025-01-16 18:17:50.148\u001b[0m | \u001b[1mINFO    \u001b[0m | \u001b[36m__main__\u001b[0m:\u001b[36mtrain\u001b[0m:\u001b[36m197\u001b[0m - \u001b[1mepoch: 7  batch: 1274/1475  loss: 0.1165 (0.2409)  lr: 0.000100\u001b[0m\n",
            "\u001b[32m2025-01-16 18:18:02.230\u001b[0m | \u001b[1mINFO    \u001b[0m | \u001b[36m__main__\u001b[0m:\u001b[36mtrain\u001b[0m:\u001b[36m197\u001b[0m - \u001b[1mepoch: 7  batch: 1288/1475  loss: 0.1151 (0.2408)  lr: 0.000100\u001b[0m\n",
            "\u001b[32m2025-01-16 18:18:14.417\u001b[0m | \u001b[1mINFO    \u001b[0m | \u001b[36m__main__\u001b[0m:\u001b[36mtrain\u001b[0m:\u001b[36m197\u001b[0m - \u001b[1mepoch: 7  batch: 1302/1475  loss: 0.1170 (0.2406)  lr: 0.000100\u001b[0m\n",
            "\u001b[32m2025-01-16 18:18:26.585\u001b[0m | \u001b[1mINFO    \u001b[0m | \u001b[36m__main__\u001b[0m:\u001b[36mtrain\u001b[0m:\u001b[36m197\u001b[0m - \u001b[1mepoch: 7  batch: 1316/1475  loss: 0.1190 (0.2405)  lr: 0.000100\u001b[0m\n",
            "\u001b[32m2025-01-16 18:18:38.755\u001b[0m | \u001b[1mINFO    \u001b[0m | \u001b[36m__main__\u001b[0m:\u001b[36mtrain\u001b[0m:\u001b[36m197\u001b[0m - \u001b[1mepoch: 7  batch: 1330/1475  loss: 0.1159 (0.2403)  lr: 0.000100\u001b[0m\n",
            "\u001b[32m2025-01-16 18:18:50.897\u001b[0m | \u001b[1mINFO    \u001b[0m | \u001b[36m__main__\u001b[0m:\u001b[36mtrain\u001b[0m:\u001b[36m197\u001b[0m - \u001b[1mepoch: 7  batch: 1344/1475  loss: 0.1119 (0.2402)  lr: 0.000100\u001b[0m\n",
            "\u001b[32m2025-01-16 18:19:02.995\u001b[0m | \u001b[1mINFO    \u001b[0m | \u001b[36m__main__\u001b[0m:\u001b[36mtrain\u001b[0m:\u001b[36m197\u001b[0m - \u001b[1mepoch: 7  batch: 1358/1475  loss: 0.1131 (0.2400)  lr: 0.000100\u001b[0m\n",
            "\u001b[32m2025-01-16 18:19:15.163\u001b[0m | \u001b[1mINFO    \u001b[0m | \u001b[36m__main__\u001b[0m:\u001b[36mtrain\u001b[0m:\u001b[36m197\u001b[0m - \u001b[1mepoch: 7  batch: 1372/1475  loss: 0.1176 (0.2399)  lr: 0.000100\u001b[0m\n",
            "\u001b[32m2025-01-16 18:19:27.308\u001b[0m | \u001b[1mINFO    \u001b[0m | \u001b[36m__main__\u001b[0m:\u001b[36mtrain\u001b[0m:\u001b[36m197\u001b[0m - \u001b[1mepoch: 7  batch: 1386/1475  loss: 0.1200 (0.2397)  lr: 0.000100\u001b[0m\n",
            "\u001b[32m2025-01-16 18:19:39.437\u001b[0m | \u001b[1mINFO    \u001b[0m | \u001b[36m__main__\u001b[0m:\u001b[36mtrain\u001b[0m:\u001b[36m197\u001b[0m - \u001b[1mepoch: 7  batch: 1400/1475  loss: 0.1129 (0.2396)  lr: 0.000100\u001b[0m\n",
            "\u001b[32m2025-01-16 18:19:51.536\u001b[0m | \u001b[1mINFO    \u001b[0m | \u001b[36m__main__\u001b[0m:\u001b[36mtrain\u001b[0m:\u001b[36m197\u001b[0m - \u001b[1mepoch: 7  batch: 1414/1475  loss: 0.1137 (0.2394)  lr: 0.000100\u001b[0m\n",
            "\u001b[32m2025-01-16 18:20:03.714\u001b[0m | \u001b[1mINFO    \u001b[0m | \u001b[36m__main__\u001b[0m:\u001b[36mtrain\u001b[0m:\u001b[36m197\u001b[0m - \u001b[1mepoch: 7  batch: 1428/1475  loss: 0.1141 (0.2393)  lr: 0.000100\u001b[0m\n",
            "\u001b[32m2025-01-16 18:20:15.877\u001b[0m | \u001b[1mINFO    \u001b[0m | \u001b[36m__main__\u001b[0m:\u001b[36mtrain\u001b[0m:\u001b[36m197\u001b[0m - \u001b[1mepoch: 7  batch: 1442/1475  loss: 0.1189 (0.2391)  lr: 0.000100\u001b[0m\n",
            "\u001b[32m2025-01-16 18:20:28.029\u001b[0m | \u001b[1mINFO    \u001b[0m | \u001b[36m__main__\u001b[0m:\u001b[36mtrain\u001b[0m:\u001b[36m197\u001b[0m - \u001b[1mepoch: 7  batch: 1456/1475  loss: 0.1188 (0.2390)  lr: 0.000100\u001b[0m\n",
            "\u001b[32m2025-01-16 18:20:40.178\u001b[0m | \u001b[1mINFO    \u001b[0m | \u001b[36m__main__\u001b[0m:\u001b[36mtrain\u001b[0m:\u001b[36m197\u001b[0m - \u001b[1mepoch: 7  batch: 1470/1475  loss: 0.1155 (0.2389)  lr: 0.000100\u001b[0m\n",
            "\u001b[32m2025-01-16 18:20:44.285\u001b[0m | \u001b[1mINFO    \u001b[0m | \u001b[36m__main__\u001b[0m:\u001b[36mtrain\u001b[0m:\u001b[36m219\u001b[0m - \u001b[1mFinish epoch: 7, without validation\u001b[0m\n",
            "\u001b[32m2025-01-16 18:20:58.063\u001b[0m | \u001b[1mINFO    \u001b[0m | \u001b[36m__main__\u001b[0m:\u001b[36mtrain\u001b[0m:\u001b[36m197\u001b[0m - \u001b[1mepoch: 8  batch: 14/1475  loss: 0.1045 (0.2386)  lr: 0.000100\u001b[0m\n",
            "\u001b[32m2025-01-16 18:21:10.249\u001b[0m | \u001b[1mINFO    \u001b[0m | \u001b[36m__main__\u001b[0m:\u001b[36mtrain\u001b[0m:\u001b[36m197\u001b[0m - \u001b[1mepoch: 8  batch: 28/1475  loss: 0.0981 (0.2385)  lr: 0.000100\u001b[0m\n",
            "\u001b[32m2025-01-16 18:21:22.400\u001b[0m | \u001b[1mINFO    \u001b[0m | \u001b[36m__main__\u001b[0m:\u001b[36mtrain\u001b[0m:\u001b[36m197\u001b[0m - \u001b[1mepoch: 8  batch: 42/1475  loss: 0.0997 (0.2383)  lr: 0.000100\u001b[0m\n",
            "\u001b[32m2025-01-16 18:21:34.584\u001b[0m | \u001b[1mINFO    \u001b[0m | \u001b[36m__main__\u001b[0m:\u001b[36mtrain\u001b[0m:\u001b[36m197\u001b[0m - \u001b[1mepoch: 8  batch: 56/1475  loss: 0.1000 (0.2381)  lr: 0.000100\u001b[0m\n",
            "\u001b[32m2025-01-16 18:21:46.787\u001b[0m | \u001b[1mINFO    \u001b[0m | \u001b[36m__main__\u001b[0m:\u001b[36mtrain\u001b[0m:\u001b[36m197\u001b[0m - \u001b[1mepoch: 8  batch: 70/1475  loss: 0.1012 (0.2380)  lr: 0.000100\u001b[0m\n",
            "\u001b[32m2025-01-16 18:21:58.913\u001b[0m | \u001b[1mINFO    \u001b[0m | \u001b[36m__main__\u001b[0m:\u001b[36mtrain\u001b[0m:\u001b[36m197\u001b[0m - \u001b[1mepoch: 8  batch: 84/1475  loss: 0.0993 (0.2378)  lr: 0.000100\u001b[0m\n",
            "\u001b[32m2025-01-16 18:22:11.043\u001b[0m | \u001b[1mINFO    \u001b[0m | \u001b[36m__main__\u001b[0m:\u001b[36mtrain\u001b[0m:\u001b[36m197\u001b[0m - \u001b[1mepoch: 8  batch: 98/1475  loss: 0.0989 (0.2377)  lr: 0.000100\u001b[0m\n",
            "\u001b[32m2025-01-16 18:22:23.141\u001b[0m | \u001b[1mINFO    \u001b[0m | \u001b[36m__main__\u001b[0m:\u001b[36mtrain\u001b[0m:\u001b[36m197\u001b[0m - \u001b[1mepoch: 8  batch: 112/1475  loss: 0.1000 (0.2375)  lr: 0.000100\u001b[0m\n",
            "\u001b[32m2025-01-16 18:22:35.279\u001b[0m | \u001b[1mINFO    \u001b[0m | \u001b[36m__main__\u001b[0m:\u001b[36mtrain\u001b[0m:\u001b[36m197\u001b[0m - \u001b[1mepoch: 8  batch: 126/1475  loss: 0.1019 (0.2373)  lr: 0.000100\u001b[0m\n",
            "\u001b[32m2025-01-16 18:22:47.409\u001b[0m | \u001b[1mINFO    \u001b[0m | \u001b[36m__main__\u001b[0m:\u001b[36mtrain\u001b[0m:\u001b[36m197\u001b[0m - \u001b[1mepoch: 8  batch: 140/1475  loss: 0.1012 (0.2372)  lr: 0.000100\u001b[0m\n",
            "\u001b[32m2025-01-16 18:22:59.590\u001b[0m | \u001b[1mINFO    \u001b[0m | \u001b[36m__main__\u001b[0m:\u001b[36mtrain\u001b[0m:\u001b[36m197\u001b[0m - \u001b[1mepoch: 8  batch: 154/1475  loss: 0.0973 (0.2370)  lr: 0.000100\u001b[0m\n",
            "\u001b[32m2025-01-16 18:23:11.780\u001b[0m | \u001b[1mINFO    \u001b[0m | \u001b[36m__main__\u001b[0m:\u001b[36mtrain\u001b[0m:\u001b[36m197\u001b[0m - \u001b[1mepoch: 8  batch: 168/1475  loss: 0.1008 (0.2369)  lr: 0.000100\u001b[0m\n",
            "\u001b[32m2025-01-16 18:23:23.937\u001b[0m | \u001b[1mINFO    \u001b[0m | \u001b[36m__main__\u001b[0m:\u001b[36mtrain\u001b[0m:\u001b[36m197\u001b[0m - \u001b[1mepoch: 8  batch: 182/1475  loss: 0.0995 (0.2367)  lr: 0.000100\u001b[0m\n",
            "\u001b[32m2025-01-16 18:23:36.102\u001b[0m | \u001b[1mINFO    \u001b[0m | \u001b[36m__main__\u001b[0m:\u001b[36mtrain\u001b[0m:\u001b[36m197\u001b[0m - \u001b[1mepoch: 8  batch: 196/1475  loss: 0.1020 (0.2366)  lr: 0.000100\u001b[0m\n",
            "\u001b[32m2025-01-16 18:23:48.278\u001b[0m | \u001b[1mINFO    \u001b[0m | \u001b[36m__main__\u001b[0m:\u001b[36mtrain\u001b[0m:\u001b[36m197\u001b[0m - \u001b[1mepoch: 8  batch: 210/1475  loss: 0.1036 (0.2364)  lr: 0.000100\u001b[0m\n",
            "\u001b[32m2025-01-16 18:24:00.416\u001b[0m | \u001b[1mINFO    \u001b[0m | \u001b[36m__main__\u001b[0m:\u001b[36mtrain\u001b[0m:\u001b[36m197\u001b[0m - \u001b[1mepoch: 8  batch: 224/1475  loss: 0.1032 (0.2362)  lr: 0.000100\u001b[0m\n",
            "\u001b[32m2025-01-16 18:24:12.537\u001b[0m | \u001b[1mINFO    \u001b[0m | \u001b[36m__main__\u001b[0m:\u001b[36mtrain\u001b[0m:\u001b[36m197\u001b[0m - \u001b[1mepoch: 8  batch: 238/1475  loss: 0.1024 (0.2361)  lr: 0.000100\u001b[0m\n",
            "\u001b[32m2025-01-16 18:24:24.720\u001b[0m | \u001b[1mINFO    \u001b[0m | \u001b[36m__main__\u001b[0m:\u001b[36mtrain\u001b[0m:\u001b[36m197\u001b[0m - \u001b[1mepoch: 8  batch: 252/1475  loss: 0.1012 (0.2359)  lr: 0.000100\u001b[0m\n",
            "\u001b[32m2025-01-16 18:24:36.862\u001b[0m | \u001b[1mINFO    \u001b[0m | \u001b[36m__main__\u001b[0m:\u001b[36mtrain\u001b[0m:\u001b[36m197\u001b[0m - \u001b[1mepoch: 8  batch: 266/1475  loss: 0.1037 (0.2358)  lr: 0.000100\u001b[0m\n",
            "\u001b[32m2025-01-16 18:24:49.045\u001b[0m | \u001b[1mINFO    \u001b[0m | \u001b[36m__main__\u001b[0m:\u001b[36mtrain\u001b[0m:\u001b[36m197\u001b[0m - \u001b[1mepoch: 8  batch: 280/1475  loss: 0.1055 (0.2356)  lr: 0.000100\u001b[0m\n",
            "\u001b[32m2025-01-16 18:25:01.195\u001b[0m | \u001b[1mINFO    \u001b[0m | \u001b[36m__main__\u001b[0m:\u001b[36mtrain\u001b[0m:\u001b[36m197\u001b[0m - \u001b[1mepoch: 8  batch: 294/1475  loss: 0.1024 (0.2355)  lr: 0.000100\u001b[0m\n",
            "\u001b[32m2025-01-16 18:25:13.406\u001b[0m | \u001b[1mINFO    \u001b[0m | \u001b[36m__main__\u001b[0m:\u001b[36mtrain\u001b[0m:\u001b[36m197\u001b[0m - \u001b[1mepoch: 8  batch: 308/1475  loss: 0.1024 (0.2353)  lr: 0.000100\u001b[0m\n",
            "\u001b[32m2025-01-16 18:25:25.643\u001b[0m | \u001b[1mINFO    \u001b[0m | \u001b[36m__main__\u001b[0m:\u001b[36mtrain\u001b[0m:\u001b[36m197\u001b[0m - \u001b[1mepoch: 8  batch: 322/1475  loss: 0.1036 (0.2352)  lr: 0.000100\u001b[0m\n",
            "\u001b[32m2025-01-16 18:25:37.851\u001b[0m | \u001b[1mINFO    \u001b[0m | \u001b[36m__main__\u001b[0m:\u001b[36mtrain\u001b[0m:\u001b[36m197\u001b[0m - \u001b[1mepoch: 8  batch: 336/1475  loss: 0.1058 (0.2350)  lr: 0.000100\u001b[0m\n",
            "\u001b[32m2025-01-16 18:25:50.001\u001b[0m | \u001b[1mINFO    \u001b[0m | \u001b[36m__main__\u001b[0m:\u001b[36mtrain\u001b[0m:\u001b[36m197\u001b[0m - \u001b[1mepoch: 8  batch: 350/1475  loss: 0.1018 (0.2349)  lr: 0.000100\u001b[0m\n",
            "\u001b[32m2025-01-16 18:26:02.177\u001b[0m | \u001b[1mINFO    \u001b[0m | \u001b[36m__main__\u001b[0m:\u001b[36mtrain\u001b[0m:\u001b[36m197\u001b[0m - \u001b[1mepoch: 8  batch: 364/1475  loss: 0.1034 (0.2347)  lr: 0.000100\u001b[0m\n",
            "\u001b[32m2025-01-16 18:26:14.365\u001b[0m | \u001b[1mINFO    \u001b[0m | \u001b[36m__main__\u001b[0m:\u001b[36mtrain\u001b[0m:\u001b[36m197\u001b[0m - \u001b[1mepoch: 8  batch: 378/1475  loss: 0.1024 (0.2346)  lr: 0.000100\u001b[0m\n",
            "\u001b[32m2025-01-16 18:26:26.548\u001b[0m | \u001b[1mINFO    \u001b[0m | \u001b[36m__main__\u001b[0m:\u001b[36mtrain\u001b[0m:\u001b[36m197\u001b[0m - \u001b[1mepoch: 8  batch: 392/1475  loss: 0.1002 (0.2344)  lr: 0.000100\u001b[0m\n",
            "\u001b[32m2025-01-16 18:26:38.691\u001b[0m | \u001b[1mINFO    \u001b[0m | \u001b[36m__main__\u001b[0m:\u001b[36mtrain\u001b[0m:\u001b[36m197\u001b[0m - \u001b[1mepoch: 8  batch: 406/1475  loss: 0.1028 (0.2343)  lr: 0.000100\u001b[0m\n",
            "\u001b[32m2025-01-16 18:26:50.848\u001b[0m | \u001b[1mINFO    \u001b[0m | \u001b[36m__main__\u001b[0m:\u001b[36mtrain\u001b[0m:\u001b[36m197\u001b[0m - \u001b[1mepoch: 8  batch: 420/1475  loss: 0.1036 (0.2341)  lr: 0.000100\u001b[0m\n",
            "\u001b[32m2025-01-16 18:27:02.998\u001b[0m | \u001b[1mINFO    \u001b[0m | \u001b[36m__main__\u001b[0m:\u001b[36mtrain\u001b[0m:\u001b[36m197\u001b[0m - \u001b[1mepoch: 8  batch: 434/1475  loss: 0.1003 (0.2340)  lr: 0.000100\u001b[0m\n",
            "\u001b[32m2025-01-16 18:27:15.203\u001b[0m | \u001b[1mINFO    \u001b[0m | \u001b[36m__main__\u001b[0m:\u001b[36mtrain\u001b[0m:\u001b[36m197\u001b[0m - \u001b[1mepoch: 8  batch: 448/1475  loss: 0.1003 (0.2338)  lr: 0.000100\u001b[0m\n",
            "\u001b[32m2025-01-16 18:27:27.352\u001b[0m | \u001b[1mINFO    \u001b[0m | \u001b[36m__main__\u001b[0m:\u001b[36mtrain\u001b[0m:\u001b[36m197\u001b[0m - \u001b[1mepoch: 8  batch: 462/1475  loss: 0.1049 (0.2337)  lr: 0.000100\u001b[0m\n",
            "\u001b[32m2025-01-16 18:27:39.529\u001b[0m | \u001b[1mINFO    \u001b[0m | \u001b[36m__main__\u001b[0m:\u001b[36mtrain\u001b[0m:\u001b[36m197\u001b[0m - \u001b[1mepoch: 8  batch: 476/1475  loss: 0.1049 (0.2335)  lr: 0.000100\u001b[0m\n",
            "\u001b[32m2025-01-16 18:27:51.706\u001b[0m | \u001b[1mINFO    \u001b[0m | \u001b[36m__main__\u001b[0m:\u001b[36mtrain\u001b[0m:\u001b[36m197\u001b[0m - \u001b[1mepoch: 8  batch: 490/1475  loss: 0.1034 (0.2334)  lr: 0.000100\u001b[0m\n",
            "\u001b[32m2025-01-16 18:28:03.858\u001b[0m | \u001b[1mINFO    \u001b[0m | \u001b[36m__main__\u001b[0m:\u001b[36mtrain\u001b[0m:\u001b[36m197\u001b[0m - \u001b[1mepoch: 8  batch: 504/1475  loss: 0.1038 (0.2332)  lr: 0.000100\u001b[0m\n",
            "\u001b[32m2025-01-16 18:28:15.982\u001b[0m | \u001b[1mINFO    \u001b[0m | \u001b[36m__main__\u001b[0m:\u001b[36mtrain\u001b[0m:\u001b[36m197\u001b[0m - \u001b[1mepoch: 8  batch: 518/1475  loss: 0.1038 (0.2331)  lr: 0.000100\u001b[0m\n",
            "\u001b[32m2025-01-16 18:28:28.189\u001b[0m | \u001b[1mINFO    \u001b[0m | \u001b[36m__main__\u001b[0m:\u001b[36mtrain\u001b[0m:\u001b[36m197\u001b[0m - \u001b[1mepoch: 8  batch: 532/1475  loss: 0.1045 (0.2329)  lr: 0.000100\u001b[0m\n",
            "\u001b[32m2025-01-16 18:28:40.323\u001b[0m | \u001b[1mINFO    \u001b[0m | \u001b[36m__main__\u001b[0m:\u001b[36mtrain\u001b[0m:\u001b[36m197\u001b[0m - \u001b[1mepoch: 8  batch: 546/1475  loss: 0.1034 (0.2328)  lr: 0.000100\u001b[0m\n",
            "\u001b[32m2025-01-16 18:28:52.466\u001b[0m | \u001b[1mINFO    \u001b[0m | \u001b[36m__main__\u001b[0m:\u001b[36mtrain\u001b[0m:\u001b[36m197\u001b[0m - \u001b[1mepoch: 8  batch: 560/1475  loss: 0.1053 (0.2327)  lr: 0.000100\u001b[0m\n",
            "\u001b[32m2025-01-16 18:29:04.637\u001b[0m | \u001b[1mINFO    \u001b[0m | \u001b[36m__main__\u001b[0m:\u001b[36mtrain\u001b[0m:\u001b[36m197\u001b[0m - \u001b[1mepoch: 8  batch: 574/1475  loss: 0.1015 (0.2325)  lr: 0.000100\u001b[0m\n",
            "\u001b[32m2025-01-16 18:29:16.774\u001b[0m | \u001b[1mINFO    \u001b[0m | \u001b[36m__main__\u001b[0m:\u001b[36mtrain\u001b[0m:\u001b[36m197\u001b[0m - \u001b[1mepoch: 8  batch: 588/1475  loss: 0.1008 (0.2324)  lr: 0.000100\u001b[0m\n",
            "\u001b[32m2025-01-16 18:29:28.930\u001b[0m | \u001b[1mINFO    \u001b[0m | \u001b[36m__main__\u001b[0m:\u001b[36mtrain\u001b[0m:\u001b[36m197\u001b[0m - \u001b[1mepoch: 8  batch: 602/1475  loss: 0.1035 (0.2322)  lr: 0.000100\u001b[0m\n",
            "\u001b[32m2025-01-16 18:29:41.126\u001b[0m | \u001b[1mINFO    \u001b[0m | \u001b[36m__main__\u001b[0m:\u001b[36mtrain\u001b[0m:\u001b[36m197\u001b[0m - \u001b[1mepoch: 8  batch: 616/1475  loss: 0.1005 (0.2321)  lr: 0.000100\u001b[0m\n",
            "\u001b[32m2025-01-16 18:29:53.309\u001b[0m | \u001b[1mINFO    \u001b[0m | \u001b[36m__main__\u001b[0m:\u001b[36mtrain\u001b[0m:\u001b[36m197\u001b[0m - \u001b[1mepoch: 8  batch: 630/1475  loss: 0.1031 (0.2319)  lr: 0.000100\u001b[0m\n",
            "\u001b[32m2025-01-16 18:30:05.443\u001b[0m | \u001b[1mINFO    \u001b[0m | \u001b[36m__main__\u001b[0m:\u001b[36mtrain\u001b[0m:\u001b[36m197\u001b[0m - \u001b[1mepoch: 8  batch: 644/1475  loss: 0.1044 (0.2318)  lr: 0.000100\u001b[0m\n",
            "\u001b[32m2025-01-16 18:30:17.574\u001b[0m | \u001b[1mINFO    \u001b[0m | \u001b[36m__main__\u001b[0m:\u001b[36mtrain\u001b[0m:\u001b[36m197\u001b[0m - \u001b[1mepoch: 8  batch: 658/1475  loss: 0.1044 (0.2317)  lr: 0.000100\u001b[0m\n",
            "\u001b[32m2025-01-16 18:30:29.769\u001b[0m | \u001b[1mINFO    \u001b[0m | \u001b[36m__main__\u001b[0m:\u001b[36mtrain\u001b[0m:\u001b[36m197\u001b[0m - \u001b[1mepoch: 8  batch: 672/1475  loss: 0.1058 (0.2315)  lr: 0.000100\u001b[0m\n",
            "\u001b[32m2025-01-16 18:30:41.943\u001b[0m | \u001b[1mINFO    \u001b[0m | \u001b[36m__main__\u001b[0m:\u001b[36mtrain\u001b[0m:\u001b[36m197\u001b[0m - \u001b[1mepoch: 8  batch: 686/1475  loss: 0.1052 (0.2314)  lr: 0.000100\u001b[0m\n",
            "\u001b[32m2025-01-16 18:30:54.103\u001b[0m | \u001b[1mINFO    \u001b[0m | \u001b[36m__main__\u001b[0m:\u001b[36mtrain\u001b[0m:\u001b[36m197\u001b[0m - \u001b[1mepoch: 8  batch: 700/1475  loss: 0.1065 (0.2312)  lr: 0.000100\u001b[0m\n",
            "\u001b[32m2025-01-16 18:31:06.286\u001b[0m | \u001b[1mINFO    \u001b[0m | \u001b[36m__main__\u001b[0m:\u001b[36mtrain\u001b[0m:\u001b[36m197\u001b[0m - \u001b[1mepoch: 8  batch: 714/1475  loss: 0.1050 (0.2311)  lr: 0.000100\u001b[0m\n",
            "\u001b[32m2025-01-16 18:31:18.425\u001b[0m | \u001b[1mINFO    \u001b[0m | \u001b[36m__main__\u001b[0m:\u001b[36mtrain\u001b[0m:\u001b[36m197\u001b[0m - \u001b[1mepoch: 8  batch: 728/1475  loss: 0.1020 (0.2309)  lr: 0.000100\u001b[0m\n",
            "\u001b[32m2025-01-16 18:31:30.604\u001b[0m | \u001b[1mINFO    \u001b[0m | \u001b[36m__main__\u001b[0m:\u001b[36mtrain\u001b[0m:\u001b[36m197\u001b[0m - \u001b[1mepoch: 8  batch: 742/1475  loss: 0.1012 (0.2308)  lr: 0.000100\u001b[0m\n",
            "\u001b[32m2025-01-16 18:31:42.769\u001b[0m | \u001b[1mINFO    \u001b[0m | \u001b[36m__main__\u001b[0m:\u001b[36mtrain\u001b[0m:\u001b[36m197\u001b[0m - \u001b[1mepoch: 8  batch: 756/1475  loss: 0.1044 (0.2307)  lr: 0.000100\u001b[0m\n",
            "\u001b[32m2025-01-16 18:31:54.965\u001b[0m | \u001b[1mINFO    \u001b[0m | \u001b[36m__main__\u001b[0m:\u001b[36mtrain\u001b[0m:\u001b[36m197\u001b[0m - \u001b[1mepoch: 8  batch: 770/1475  loss: 0.1038 (0.2305)  lr: 0.000100\u001b[0m\n",
            "\u001b[32m2025-01-16 18:32:07.094\u001b[0m | \u001b[1mINFO    \u001b[0m | \u001b[36m__main__\u001b[0m:\u001b[36mtrain\u001b[0m:\u001b[36m197\u001b[0m - \u001b[1mepoch: 8  batch: 784/1475  loss: 0.1028 (0.2304)  lr: 0.000100\u001b[0m\n",
            "\u001b[32m2025-01-16 18:32:19.281\u001b[0m | \u001b[1mINFO    \u001b[0m | \u001b[36m__main__\u001b[0m:\u001b[36mtrain\u001b[0m:\u001b[36m197\u001b[0m - \u001b[1mepoch: 8  batch: 798/1475  loss: 0.1031 (0.2302)  lr: 0.000100\u001b[0m\n",
            "\u001b[32m2025-01-16 18:32:31.450\u001b[0m | \u001b[1mINFO    \u001b[0m | \u001b[36m__main__\u001b[0m:\u001b[36mtrain\u001b[0m:\u001b[36m197\u001b[0m - \u001b[1mepoch: 8  batch: 812/1475  loss: 0.1034 (0.2301)  lr: 0.000100\u001b[0m\n",
            "\u001b[32m2025-01-16 18:32:43.582\u001b[0m | \u001b[1mINFO    \u001b[0m | \u001b[36m__main__\u001b[0m:\u001b[36mtrain\u001b[0m:\u001b[36m197\u001b[0m - \u001b[1mepoch: 8  batch: 826/1475  loss: 0.1033 (0.2300)  lr: 0.000100\u001b[0m\n",
            "\u001b[32m2025-01-16 18:32:55.724\u001b[0m | \u001b[1mINFO    \u001b[0m | \u001b[36m__main__\u001b[0m:\u001b[36mtrain\u001b[0m:\u001b[36m197\u001b[0m - \u001b[1mepoch: 8  batch: 840/1475  loss: 0.1017 (0.2298)  lr: 0.000100\u001b[0m\n",
            "\u001b[32m2025-01-16 18:33:07.886\u001b[0m | \u001b[1mINFO    \u001b[0m | \u001b[36m__main__\u001b[0m:\u001b[36mtrain\u001b[0m:\u001b[36m197\u001b[0m - \u001b[1mepoch: 8  batch: 854/1475  loss: 0.1003 (0.2297)  lr: 0.000100\u001b[0m\n",
            "\u001b[32m2025-01-16 18:33:19.996\u001b[0m | \u001b[1mINFO    \u001b[0m | \u001b[36m__main__\u001b[0m:\u001b[36mtrain\u001b[0m:\u001b[36m197\u001b[0m - \u001b[1mepoch: 8  batch: 868/1475  loss: 0.1043 (0.2296)  lr: 0.000100\u001b[0m\n",
            "\u001b[32m2025-01-16 18:33:32.171\u001b[0m | \u001b[1mINFO    \u001b[0m | \u001b[36m__main__\u001b[0m:\u001b[36mtrain\u001b[0m:\u001b[36m197\u001b[0m - \u001b[1mepoch: 8  batch: 882/1475  loss: 0.1043 (0.2294)  lr: 0.000100\u001b[0m\n",
            "\u001b[32m2025-01-16 18:33:44.344\u001b[0m | \u001b[1mINFO    \u001b[0m | \u001b[36m__main__\u001b[0m:\u001b[36mtrain\u001b[0m:\u001b[36m197\u001b[0m - \u001b[1mepoch: 8  batch: 896/1475  loss: 0.1043 (0.2293)  lr: 0.000100\u001b[0m\n",
            "\u001b[32m2025-01-16 18:33:56.543\u001b[0m | \u001b[1mINFO    \u001b[0m | \u001b[36m__main__\u001b[0m:\u001b[36mtrain\u001b[0m:\u001b[36m197\u001b[0m - \u001b[1mepoch: 8  batch: 910/1475  loss: 0.1158 (0.2292)  lr: 0.000100\u001b[0m\n",
            "\u001b[32m2025-01-16 18:34:08.714\u001b[0m | \u001b[1mINFO    \u001b[0m | \u001b[36m__main__\u001b[0m:\u001b[36mtrain\u001b[0m:\u001b[36m197\u001b[0m - \u001b[1mepoch: 8  batch: 924/1475  loss: 0.1157 (0.2290)  lr: 0.000100\u001b[0m\n",
            "\u001b[32m2025-01-16 18:34:20.861\u001b[0m | \u001b[1mINFO    \u001b[0m | \u001b[36m__main__\u001b[0m:\u001b[36mtrain\u001b[0m:\u001b[36m197\u001b[0m - \u001b[1mepoch: 8  batch: 938/1475  loss: 0.1094 (0.2289)  lr: 0.000100\u001b[0m\n",
            "\u001b[32m2025-01-16 18:34:33.030\u001b[0m | \u001b[1mINFO    \u001b[0m | \u001b[36m__main__\u001b[0m:\u001b[36mtrain\u001b[0m:\u001b[36m197\u001b[0m - \u001b[1mepoch: 8  batch: 952/1475  loss: 0.1074 (0.2288)  lr: 0.000100\u001b[0m\n",
            "\u001b[32m2025-01-16 18:34:45.147\u001b[0m | \u001b[1mINFO    \u001b[0m | \u001b[36m__main__\u001b[0m:\u001b[36mtrain\u001b[0m:\u001b[36m197\u001b[0m - \u001b[1mepoch: 8  batch: 966/1475  loss: 0.1021 (0.2286)  lr: 0.000100\u001b[0m\n",
            "\u001b[32m2025-01-16 18:34:57.257\u001b[0m | \u001b[1mINFO    \u001b[0m | \u001b[36m__main__\u001b[0m:\u001b[36mtrain\u001b[0m:\u001b[36m197\u001b[0m - \u001b[1mepoch: 8  batch: 980/1475  loss: 0.1057 (0.2285)  lr: 0.000100\u001b[0m\n",
            "\u001b[32m2025-01-16 18:35:09.426\u001b[0m | \u001b[1mINFO    \u001b[0m | \u001b[36m__main__\u001b[0m:\u001b[36mtrain\u001b[0m:\u001b[36m197\u001b[0m - \u001b[1mepoch: 8  batch: 994/1475  loss: 0.1054 (0.2284)  lr: 0.000100\u001b[0m\n",
            "\u001b[32m2025-01-16 18:35:21.616\u001b[0m | \u001b[1mINFO    \u001b[0m | \u001b[36m__main__\u001b[0m:\u001b[36mtrain\u001b[0m:\u001b[36m197\u001b[0m - \u001b[1mepoch: 8  batch: 1008/1475  loss: 0.1050 (0.2282)  lr: 0.000100\u001b[0m\n",
            "\u001b[32m2025-01-16 18:35:33.824\u001b[0m | \u001b[1mINFO    \u001b[0m | \u001b[36m__main__\u001b[0m:\u001b[36mtrain\u001b[0m:\u001b[36m197\u001b[0m - \u001b[1mepoch: 8  batch: 1022/1475  loss: 0.1048 (0.2281)  lr: 0.000100\u001b[0m\n",
            "\u001b[32m2025-01-16 18:35:45.927\u001b[0m | \u001b[1mINFO    \u001b[0m | \u001b[36m__main__\u001b[0m:\u001b[36mtrain\u001b[0m:\u001b[36m197\u001b[0m - \u001b[1mepoch: 8  batch: 1036/1475  loss: 0.1048 (0.2280)  lr: 0.000100\u001b[0m\n",
            "\u001b[32m2025-01-16 18:35:58.042\u001b[0m | \u001b[1mINFO    \u001b[0m | \u001b[36m__main__\u001b[0m:\u001b[36mtrain\u001b[0m:\u001b[36m197\u001b[0m - \u001b[1mepoch: 8  batch: 1050/1475  loss: 0.1021 (0.2278)  lr: 0.000100\u001b[0m\n",
            "\u001b[32m2025-01-16 18:36:10.199\u001b[0m | \u001b[1mINFO    \u001b[0m | \u001b[36m__main__\u001b[0m:\u001b[36mtrain\u001b[0m:\u001b[36m197\u001b[0m - \u001b[1mepoch: 8  batch: 1064/1475  loss: 0.1041 (0.2277)  lr: 0.000100\u001b[0m\n",
            "\u001b[32m2025-01-16 18:36:22.330\u001b[0m | \u001b[1mINFO    \u001b[0m | \u001b[36m__main__\u001b[0m:\u001b[36mtrain\u001b[0m:\u001b[36m197\u001b[0m - \u001b[1mepoch: 8  batch: 1078/1475  loss: 0.1049 (0.2276)  lr: 0.000100\u001b[0m\n",
            "\u001b[32m2025-01-16 18:36:34.504\u001b[0m | \u001b[1mINFO    \u001b[0m | \u001b[36m__main__\u001b[0m:\u001b[36mtrain\u001b[0m:\u001b[36m197\u001b[0m - \u001b[1mepoch: 8  batch: 1092/1475  loss: 0.1056 (0.2274)  lr: 0.000100\u001b[0m\n",
            "\u001b[32m2025-01-16 18:36:46.685\u001b[0m | \u001b[1mINFO    \u001b[0m | \u001b[36m__main__\u001b[0m:\u001b[36mtrain\u001b[0m:\u001b[36m197\u001b[0m - \u001b[1mepoch: 8  batch: 1106/1475  loss: 0.1022 (0.2273)  lr: 0.000100\u001b[0m\n",
            "\u001b[32m2025-01-16 18:36:58.840\u001b[0m | \u001b[1mINFO    \u001b[0m | \u001b[36m__main__\u001b[0m:\u001b[36mtrain\u001b[0m:\u001b[36m197\u001b[0m - \u001b[1mepoch: 8  batch: 1120/1475  loss: 0.1007 (0.2272)  lr: 0.000100\u001b[0m\n",
            "\u001b[32m2025-01-16 18:37:10.994\u001b[0m | \u001b[1mINFO    \u001b[0m | \u001b[36m__main__\u001b[0m:\u001b[36mtrain\u001b[0m:\u001b[36m197\u001b[0m - \u001b[1mepoch: 8  batch: 1134/1475  loss: 0.1032 (0.2270)  lr: 0.000100\u001b[0m\n",
            "\u001b[32m2025-01-16 18:37:23.180\u001b[0m | \u001b[1mINFO    \u001b[0m | \u001b[36m__main__\u001b[0m:\u001b[36mtrain\u001b[0m:\u001b[36m197\u001b[0m - \u001b[1mepoch: 8  batch: 1148/1475  loss: 0.1049 (0.2269)  lr: 0.000100\u001b[0m\n",
            "\u001b[32m2025-01-16 18:37:35.313\u001b[0m | \u001b[1mINFO    \u001b[0m | \u001b[36m__main__\u001b[0m:\u001b[36mtrain\u001b[0m:\u001b[36m197\u001b[0m - \u001b[1mepoch: 8  batch: 1162/1475  loss: 0.1049 (0.2268)  lr: 0.000100\u001b[0m\n",
            "\u001b[32m2025-01-16 18:37:47.455\u001b[0m | \u001b[1mINFO    \u001b[0m | \u001b[36m__main__\u001b[0m:\u001b[36mtrain\u001b[0m:\u001b[36m197\u001b[0m - \u001b[1mepoch: 8  batch: 1176/1475  loss: 0.1076 (0.2267)  lr: 0.000100\u001b[0m\n",
            "\u001b[32m2025-01-16 18:37:59.673\u001b[0m | \u001b[1mINFO    \u001b[0m | \u001b[36m__main__\u001b[0m:\u001b[36mtrain\u001b[0m:\u001b[36m197\u001b[0m - \u001b[1mepoch: 8  batch: 1190/1475  loss: 0.1092 (0.2265)  lr: 0.000100\u001b[0m\n",
            "\u001b[32m2025-01-16 18:38:11.818\u001b[0m | \u001b[1mINFO    \u001b[0m | \u001b[36m__main__\u001b[0m:\u001b[36mtrain\u001b[0m:\u001b[36m197\u001b[0m - \u001b[1mepoch: 8  batch: 1204/1475  loss: 0.1079 (0.2264)  lr: 0.000100\u001b[0m\n",
            "\u001b[32m2025-01-16 18:38:23.924\u001b[0m | \u001b[1mINFO    \u001b[0m | \u001b[36m__main__\u001b[0m:\u001b[36mtrain\u001b[0m:\u001b[36m197\u001b[0m - \u001b[1mepoch: 8  batch: 1218/1475  loss: 0.1025 (0.2263)  lr: 0.000100\u001b[0m\n",
            "\u001b[32m2025-01-16 18:38:36.030\u001b[0m | \u001b[1mINFO    \u001b[0m | \u001b[36m__main__\u001b[0m:\u001b[36mtrain\u001b[0m:\u001b[36m197\u001b[0m - \u001b[1mepoch: 8  batch: 1232/1475  loss: 0.1079 (0.2261)  lr: 0.000100\u001b[0m\n",
            "\u001b[32m2025-01-16 18:38:48.177\u001b[0m | \u001b[1mINFO    \u001b[0m | \u001b[36m__main__\u001b[0m:\u001b[36mtrain\u001b[0m:\u001b[36m197\u001b[0m - \u001b[1mepoch: 8  batch: 1246/1475  loss: 0.1086 (0.2260)  lr: 0.000100\u001b[0m\n",
            "\u001b[32m2025-01-16 18:39:00.391\u001b[0m | \u001b[1mINFO    \u001b[0m | \u001b[36m__main__\u001b[0m:\u001b[36mtrain\u001b[0m:\u001b[36m197\u001b[0m - \u001b[1mepoch: 8  batch: 1260/1475  loss: 0.1066 (0.2259)  lr: 0.000100\u001b[0m\n",
            "\u001b[32m2025-01-16 18:39:12.605\u001b[0m | \u001b[1mINFO    \u001b[0m | \u001b[36m__main__\u001b[0m:\u001b[36mtrain\u001b[0m:\u001b[36m197\u001b[0m - \u001b[1mepoch: 8  batch: 1274/1475  loss: 0.1035 (0.2258)  lr: 0.000100\u001b[0m\n",
            "\u001b[32m2025-01-16 18:39:24.764\u001b[0m | \u001b[1mINFO    \u001b[0m | \u001b[36m__main__\u001b[0m:\u001b[36mtrain\u001b[0m:\u001b[36m197\u001b[0m - \u001b[1mepoch: 8  batch: 1288/1475  loss: 0.1050 (0.2256)  lr: 0.000100\u001b[0m\n",
            "\u001b[32m2025-01-16 18:39:36.924\u001b[0m | \u001b[1mINFO    \u001b[0m | \u001b[36m__main__\u001b[0m:\u001b[36mtrain\u001b[0m:\u001b[36m197\u001b[0m - \u001b[1mepoch: 8  batch: 1302/1475  loss: 0.1032 (0.2255)  lr: 0.000100\u001b[0m\n",
            "\u001b[32m2025-01-16 18:39:49.017\u001b[0m | \u001b[1mINFO    \u001b[0m | \u001b[36m__main__\u001b[0m:\u001b[36mtrain\u001b[0m:\u001b[36m197\u001b[0m - \u001b[1mepoch: 8  batch: 1316/1475  loss: 0.1074 (0.2254)  lr: 0.000100\u001b[0m\n",
            "\u001b[32m2025-01-16 18:40:01.166\u001b[0m | \u001b[1mINFO    \u001b[0m | \u001b[36m__main__\u001b[0m:\u001b[36mtrain\u001b[0m:\u001b[36m197\u001b[0m - \u001b[1mepoch: 8  batch: 1330/1475  loss: 0.1048 (0.2253)  lr: 0.000100\u001b[0m\n",
            "\u001b[32m2025-01-16 18:40:13.331\u001b[0m | \u001b[1mINFO    \u001b[0m | \u001b[36m__main__\u001b[0m:\u001b[36mtrain\u001b[0m:\u001b[36m197\u001b[0m - \u001b[1mepoch: 8  batch: 1344/1475  loss: 0.1053 (0.2251)  lr: 0.000100\u001b[0m\n",
            "\u001b[32m2025-01-16 18:40:25.535\u001b[0m | \u001b[1mINFO    \u001b[0m | \u001b[36m__main__\u001b[0m:\u001b[36mtrain\u001b[0m:\u001b[36m197\u001b[0m - \u001b[1mepoch: 8  batch: 1358/1475  loss: 0.1061 (0.2250)  lr: 0.000100\u001b[0m\n",
            "\u001b[32m2025-01-16 18:40:37.720\u001b[0m | \u001b[1mINFO    \u001b[0m | \u001b[36m__main__\u001b[0m:\u001b[36mtrain\u001b[0m:\u001b[36m197\u001b[0m - \u001b[1mepoch: 8  batch: 1372/1475  loss: 0.1076 (0.2249)  lr: 0.000100\u001b[0m\n",
            "\u001b[32m2025-01-16 18:40:49.913\u001b[0m | \u001b[1mINFO    \u001b[0m | \u001b[36m__main__\u001b[0m:\u001b[36mtrain\u001b[0m:\u001b[36m197\u001b[0m - \u001b[1mepoch: 8  batch: 1386/1475  loss: 0.1093 (0.2248)  lr: 0.000100\u001b[0m\n",
            "\u001b[32m2025-01-16 18:41:02.046\u001b[0m | \u001b[1mINFO    \u001b[0m | \u001b[36m__main__\u001b[0m:\u001b[36mtrain\u001b[0m:\u001b[36m197\u001b[0m - \u001b[1mepoch: 8  batch: 1400/1475  loss: 0.1058 (0.2246)  lr: 0.000100\u001b[0m\n",
            "\u001b[32m2025-01-16 18:41:14.205\u001b[0m | \u001b[1mINFO    \u001b[0m | \u001b[36m__main__\u001b[0m:\u001b[36mtrain\u001b[0m:\u001b[36m197\u001b[0m - \u001b[1mepoch: 8  batch: 1414/1475  loss: 0.1059 (0.2245)  lr: 0.000100\u001b[0m\n",
            "\u001b[32m2025-01-16 18:41:26.384\u001b[0m | \u001b[1mINFO    \u001b[0m | \u001b[36m__main__\u001b[0m:\u001b[36mtrain\u001b[0m:\u001b[36m197\u001b[0m - \u001b[1mepoch: 8  batch: 1428/1475  loss: 0.1046 (0.2244)  lr: 0.000100\u001b[0m\n",
            "\u001b[32m2025-01-16 18:41:38.512\u001b[0m | \u001b[1mINFO    \u001b[0m | \u001b[36m__main__\u001b[0m:\u001b[36mtrain\u001b[0m:\u001b[36m197\u001b[0m - \u001b[1mepoch: 8  batch: 1442/1475  loss: 0.1046 (0.2243)  lr: 0.000100\u001b[0m\n",
            "\u001b[32m2025-01-16 18:41:50.709\u001b[0m | \u001b[1mINFO    \u001b[0m | \u001b[36m__main__\u001b[0m:\u001b[36mtrain\u001b[0m:\u001b[36m197\u001b[0m - \u001b[1mepoch: 8  batch: 1456/1475  loss: 0.1060 (0.2241)  lr: 0.000100\u001b[0m\n",
            "\u001b[32m2025-01-16 18:42:02.892\u001b[0m | \u001b[1mINFO    \u001b[0m | \u001b[36m__main__\u001b[0m:\u001b[36mtrain\u001b[0m:\u001b[36m197\u001b[0m - \u001b[1mepoch: 8  batch: 1470/1475  loss: 0.1055 (0.2240)  lr: 0.000100\u001b[0m\n",
            "\u001b[32m2025-01-16 18:42:07.018\u001b[0m | \u001b[1mINFO    \u001b[0m | \u001b[36m__main__\u001b[0m:\u001b[36mtrain\u001b[0m:\u001b[36m219\u001b[0m - \u001b[1mFinish epoch: 8, without validation\u001b[0m\n",
            "\u001b[32m2025-01-16 18:42:20.887\u001b[0m | \u001b[1mINFO    \u001b[0m | \u001b[36m__main__\u001b[0m:\u001b[36mtrain\u001b[0m:\u001b[36m197\u001b[0m - \u001b[1mepoch: 9  batch: 14/1475  loss: 0.0973 (0.2238)  lr: 0.000100\u001b[0m\n",
            "\u001b[32m2025-01-16 18:42:33.041\u001b[0m | \u001b[1mINFO    \u001b[0m | \u001b[36m__main__\u001b[0m:\u001b[36mtrain\u001b[0m:\u001b[36m197\u001b[0m - \u001b[1mepoch: 9  batch: 28/1475  loss: 0.0900 (0.2237)  lr: 0.000100\u001b[0m\n",
            "\u001b[32m2025-01-16 18:42:45.192\u001b[0m | \u001b[1mINFO    \u001b[0m | \u001b[36m__main__\u001b[0m:\u001b[36mtrain\u001b[0m:\u001b[36m197\u001b[0m - \u001b[1mepoch: 9  batch: 42/1475  loss: 0.0881 (0.2235)  lr: 0.000100\u001b[0m\n",
            "\u001b[32m2025-01-16 18:42:57.449\u001b[0m | \u001b[1mINFO    \u001b[0m | \u001b[36m__main__\u001b[0m:\u001b[36mtrain\u001b[0m:\u001b[36m197\u001b[0m - \u001b[1mepoch: 9  batch: 56/1475  loss: 0.0916 (0.2234)  lr: 0.000100\u001b[0m\n",
            "\u001b[32m2025-01-16 18:43:09.655\u001b[0m | \u001b[1mINFO    \u001b[0m | \u001b[36m__main__\u001b[0m:\u001b[36mtrain\u001b[0m:\u001b[36m197\u001b[0m - \u001b[1mepoch: 9  batch: 70/1475  loss: 0.0930 (0.2233)  lr: 0.000100\u001b[0m\n",
            "\u001b[32m2025-01-16 18:43:21.824\u001b[0m | \u001b[1mINFO    \u001b[0m | \u001b[36m__main__\u001b[0m:\u001b[36mtrain\u001b[0m:\u001b[36m197\u001b[0m - \u001b[1mepoch: 9  batch: 84/1475  loss: 0.0929 (0.2231)  lr: 0.000100\u001b[0m\n",
            "\u001b[32m2025-01-16 18:43:33.950\u001b[0m | \u001b[1mINFO    \u001b[0m | \u001b[36m__main__\u001b[0m:\u001b[36mtrain\u001b[0m:\u001b[36m197\u001b[0m - \u001b[1mepoch: 9  batch: 98/1475  loss: 0.0917 (0.2230)  lr: 0.000100\u001b[0m\n",
            "\u001b[32m2025-01-16 18:43:46.159\u001b[0m | \u001b[1mINFO    \u001b[0m | \u001b[36m__main__\u001b[0m:\u001b[36mtrain\u001b[0m:\u001b[36m197\u001b[0m - \u001b[1mepoch: 9  batch: 112/1475  loss: 0.0934 (0.2229)  lr: 0.000100\u001b[0m\n",
            "\u001b[32m2025-01-16 18:43:58.295\u001b[0m | \u001b[1mINFO    \u001b[0m | \u001b[36m__main__\u001b[0m:\u001b[36mtrain\u001b[0m:\u001b[36m197\u001b[0m - \u001b[1mepoch: 9  batch: 126/1475  loss: 0.0945 (0.2227)  lr: 0.000100\u001b[0m\n",
            "\u001b[32m2025-01-16 18:44:10.489\u001b[0m | \u001b[1mINFO    \u001b[0m | \u001b[36m__main__\u001b[0m:\u001b[36mtrain\u001b[0m:\u001b[36m197\u001b[0m - \u001b[1mepoch: 9  batch: 140/1475  loss: 0.0889 (0.2226)  lr: 0.000100\u001b[0m\n",
            "\u001b[32m2025-01-16 18:44:22.653\u001b[0m | \u001b[1mINFO    \u001b[0m | \u001b[36m__main__\u001b[0m:\u001b[36mtrain\u001b[0m:\u001b[36m197\u001b[0m - \u001b[1mepoch: 9  batch: 154/1475  loss: 0.0920 (0.2224)  lr: 0.000100\u001b[0m\n",
            "\u001b[32m2025-01-16 18:44:34.811\u001b[0m | \u001b[1mINFO    \u001b[0m | \u001b[36m__main__\u001b[0m:\u001b[36mtrain\u001b[0m:\u001b[36m197\u001b[0m - \u001b[1mepoch: 9  batch: 168/1475  loss: 0.0934 (0.2223)  lr: 0.000100\u001b[0m\n",
            "\u001b[32m2025-01-16 18:44:46.945\u001b[0m | \u001b[1mINFO    \u001b[0m | \u001b[36m__main__\u001b[0m:\u001b[36mtrain\u001b[0m:\u001b[36m197\u001b[0m - \u001b[1mepoch: 9  batch: 182/1475  loss: 0.0933 (0.2222)  lr: 0.000100\u001b[0m\n",
            "\u001b[32m2025-01-16 18:44:59.083\u001b[0m | \u001b[1mINFO    \u001b[0m | \u001b[36m__main__\u001b[0m:\u001b[36mtrain\u001b[0m:\u001b[36m197\u001b[0m - \u001b[1mepoch: 9  batch: 196/1475  loss: 0.0951 (0.2221)  lr: 0.000100\u001b[0m\n",
            "\u001b[32m2025-01-16 18:45:11.224\u001b[0m | \u001b[1mINFO    \u001b[0m | \u001b[36m__main__\u001b[0m:\u001b[36mtrain\u001b[0m:\u001b[36m197\u001b[0m - \u001b[1mepoch: 9  batch: 210/1475  loss: 0.0951 (0.2219)  lr: 0.000100\u001b[0m\n",
            "\u001b[32m2025-01-16 18:45:23.326\u001b[0m | \u001b[1mINFO    \u001b[0m | \u001b[36m__main__\u001b[0m:\u001b[36mtrain\u001b[0m:\u001b[36m197\u001b[0m - \u001b[1mepoch: 9  batch: 224/1475  loss: 0.0913 (0.2218)  lr: 0.000100\u001b[0m\n",
            "\u001b[32m2025-01-16 18:45:35.421\u001b[0m | \u001b[1mINFO    \u001b[0m | \u001b[36m__main__\u001b[0m:\u001b[36mtrain\u001b[0m:\u001b[36m197\u001b[0m - \u001b[1mepoch: 9  batch: 238/1475  loss: 0.0878 (0.2217)  lr: 0.000100\u001b[0m\n",
            "\u001b[32m2025-01-16 18:45:47.486\u001b[0m | \u001b[1mINFO    \u001b[0m | \u001b[36m__main__\u001b[0m:\u001b[36mtrain\u001b[0m:\u001b[36m197\u001b[0m - \u001b[1mepoch: 9  batch: 252/1475  loss: 0.0899 (0.2215)  lr: 0.000100\u001b[0m\n",
            "\u001b[32m2025-01-16 18:45:59.540\u001b[0m | \u001b[1mINFO    \u001b[0m | \u001b[36m__main__\u001b[0m:\u001b[36mtrain\u001b[0m:\u001b[36m197\u001b[0m - \u001b[1mepoch: 9  batch: 266/1475  loss: 0.0942 (0.2214)  lr: 0.000100\u001b[0m\n",
            "\u001b[32m2025-01-16 18:46:11.669\u001b[0m | \u001b[1mINFO    \u001b[0m | \u001b[36m__main__\u001b[0m:\u001b[36mtrain\u001b[0m:\u001b[36m197\u001b[0m - \u001b[1mepoch: 9  batch: 280/1475  loss: 0.0942 (0.2213)  lr: 0.000100\u001b[0m\n",
            "\u001b[32m2025-01-16 18:46:23.793\u001b[0m | \u001b[1mINFO    \u001b[0m | \u001b[36m__main__\u001b[0m:\u001b[36mtrain\u001b[0m:\u001b[36m197\u001b[0m - \u001b[1mepoch: 9  batch: 294/1475  loss: 0.0921 (0.2211)  lr: 0.000100\u001b[0m\n",
            "\u001b[32m2025-01-16 18:46:35.958\u001b[0m | \u001b[1mINFO    \u001b[0m | \u001b[36m__main__\u001b[0m:\u001b[36mtrain\u001b[0m:\u001b[36m197\u001b[0m - \u001b[1mepoch: 9  batch: 308/1475  loss: 0.0955 (0.2210)  lr: 0.000100\u001b[0m\n",
            "\u001b[32m2025-01-16 18:46:48.101\u001b[0m | \u001b[1mINFO    \u001b[0m | \u001b[36m__main__\u001b[0m:\u001b[36mtrain\u001b[0m:\u001b[36m197\u001b[0m - \u001b[1mepoch: 9  batch: 322/1475  loss: 0.0978 (0.2209)  lr: 0.000100\u001b[0m\n",
            "\u001b[32m2025-01-16 18:47:00.225\u001b[0m | \u001b[1mINFO    \u001b[0m | \u001b[36m__main__\u001b[0m:\u001b[36mtrain\u001b[0m:\u001b[36m197\u001b[0m - \u001b[1mepoch: 9  batch: 336/1475  loss: 0.0938 (0.2207)  lr: 0.000100\u001b[0m\n",
            "\u001b[32m2025-01-16 18:47:12.375\u001b[0m | \u001b[1mINFO    \u001b[0m | \u001b[36m__main__\u001b[0m:\u001b[36mtrain\u001b[0m:\u001b[36m197\u001b[0m - \u001b[1mepoch: 9  batch: 350/1475  loss: 0.0935 (0.2206)  lr: 0.000100\u001b[0m\n",
            "\u001b[32m2025-01-16 18:47:24.515\u001b[0m | \u001b[1mINFO    \u001b[0m | \u001b[36m__main__\u001b[0m:\u001b[36mtrain\u001b[0m:\u001b[36m197\u001b[0m - \u001b[1mepoch: 9  batch: 364/1475  loss: 0.0931 (0.2205)  lr: 0.000100\u001b[0m\n",
            "\u001b[32m2025-01-16 18:47:36.764\u001b[0m | \u001b[1mINFO    \u001b[0m | \u001b[36m__main__\u001b[0m:\u001b[36mtrain\u001b[0m:\u001b[36m197\u001b[0m - \u001b[1mepoch: 9  batch: 378/1475  loss: 0.0921 (0.2203)  lr: 0.000100\u001b[0m\n",
            "\u001b[32m2025-01-16 18:47:48.939\u001b[0m | \u001b[1mINFO    \u001b[0m | \u001b[36m__main__\u001b[0m:\u001b[36mtrain\u001b[0m:\u001b[36m197\u001b[0m - \u001b[1mepoch: 9  batch: 392/1475  loss: 0.0961 (0.2202)  lr: 0.000100\u001b[0m\n",
            "\u001b[32m2025-01-16 18:48:01.078\u001b[0m | \u001b[1mINFO    \u001b[0m | \u001b[36m__main__\u001b[0m:\u001b[36mtrain\u001b[0m:\u001b[36m197\u001b[0m - \u001b[1mepoch: 9  batch: 406/1475  loss: 0.0971 (0.2201)  lr: 0.000100\u001b[0m\n",
            "\u001b[32m2025-01-16 18:48:13.226\u001b[0m | \u001b[1mINFO    \u001b[0m | \u001b[36m__main__\u001b[0m:\u001b[36mtrain\u001b[0m:\u001b[36m197\u001b[0m - \u001b[1mepoch: 9  batch: 420/1475  loss: 0.0900 (0.2200)  lr: 0.000100\u001b[0m\n",
            "\u001b[32m2025-01-16 18:48:25.415\u001b[0m | \u001b[1mINFO    \u001b[0m | \u001b[36m__main__\u001b[0m:\u001b[36mtrain\u001b[0m:\u001b[36m197\u001b[0m - \u001b[1mepoch: 9  batch: 434/1475  loss: 0.1003 (0.2198)  lr: 0.000100\u001b[0m\n",
            "\u001b[32m2025-01-16 18:48:37.552\u001b[0m | \u001b[1mINFO    \u001b[0m | \u001b[36m__main__\u001b[0m:\u001b[36mtrain\u001b[0m:\u001b[36m197\u001b[0m - \u001b[1mepoch: 9  batch: 448/1475  loss: 0.0970 (0.2197)  lr: 0.000100\u001b[0m\n",
            "\u001b[32m2025-01-16 18:48:49.719\u001b[0m | \u001b[1mINFO    \u001b[0m | \u001b[36m__main__\u001b[0m:\u001b[36mtrain\u001b[0m:\u001b[36m197\u001b[0m - \u001b[1mepoch: 9  batch: 462/1475  loss: 0.0923 (0.2196)  lr: 0.000100\u001b[0m\n",
            "\u001b[32m2025-01-16 18:49:01.829\u001b[0m | \u001b[1mINFO    \u001b[0m | \u001b[36m__main__\u001b[0m:\u001b[36mtrain\u001b[0m:\u001b[36m197\u001b[0m - \u001b[1mepoch: 9  batch: 476/1475  loss: 0.0927 (0.2194)  lr: 0.000100\u001b[0m\n",
            "\u001b[32m2025-01-16 18:49:13.955\u001b[0m | \u001b[1mINFO    \u001b[0m | \u001b[36m__main__\u001b[0m:\u001b[36mtrain\u001b[0m:\u001b[36m197\u001b[0m - \u001b[1mepoch: 9  batch: 490/1475  loss: 0.0927 (0.2193)  lr: 0.000100\u001b[0m\n",
            "\u001b[32m2025-01-16 18:49:26.030\u001b[0m | \u001b[1mINFO    \u001b[0m | \u001b[36m__main__\u001b[0m:\u001b[36mtrain\u001b[0m:\u001b[36m197\u001b[0m - \u001b[1mepoch: 9  batch: 504/1475  loss: 0.0937 (0.2192)  lr: 0.000100\u001b[0m\n",
            "\u001b[32m2025-01-16 18:49:38.168\u001b[0m | \u001b[1mINFO    \u001b[0m | \u001b[36m__main__\u001b[0m:\u001b[36mtrain\u001b[0m:\u001b[36m197\u001b[0m - \u001b[1mepoch: 9  batch: 518/1475  loss: 0.0942 (0.2191)  lr: 0.000100\u001b[0m\n",
            "\u001b[32m2025-01-16 18:49:50.266\u001b[0m | \u001b[1mINFO    \u001b[0m | \u001b[36m__main__\u001b[0m:\u001b[36mtrain\u001b[0m:\u001b[36m197\u001b[0m - \u001b[1mepoch: 9  batch: 532/1475  loss: 0.0910 (0.2189)  lr: 0.000100\u001b[0m\n",
            "\u001b[32m2025-01-16 18:50:02.431\u001b[0m | \u001b[1mINFO    \u001b[0m | \u001b[36m__main__\u001b[0m:\u001b[36mtrain\u001b[0m:\u001b[36m197\u001b[0m - \u001b[1mepoch: 9  batch: 546/1475  loss: 0.0959 (0.2188)  lr: 0.000100\u001b[0m\n",
            "\u001b[32m2025-01-16 18:50:14.571\u001b[0m | \u001b[1mINFO    \u001b[0m | \u001b[36m__main__\u001b[0m:\u001b[36mtrain\u001b[0m:\u001b[36m197\u001b[0m - \u001b[1mepoch: 9  batch: 560/1475  loss: 0.0980 (0.2187)  lr: 0.000100\u001b[0m\n",
            "\u001b[32m2025-01-16 18:50:26.706\u001b[0m | \u001b[1mINFO    \u001b[0m | \u001b[36m__main__\u001b[0m:\u001b[36mtrain\u001b[0m:\u001b[36m197\u001b[0m - \u001b[1mepoch: 9  batch: 574/1475  loss: 0.0981 (0.2186)  lr: 0.000100\u001b[0m\n",
            "\u001b[32m2025-01-16 18:50:38.840\u001b[0m | \u001b[1mINFO    \u001b[0m | \u001b[36m__main__\u001b[0m:\u001b[36mtrain\u001b[0m:\u001b[36m197\u001b[0m - \u001b[1mepoch: 9  batch: 588/1475  loss: 0.0974 (0.2184)  lr: 0.000100\u001b[0m\n",
            "\u001b[32m2025-01-16 18:50:50.948\u001b[0m | \u001b[1mINFO    \u001b[0m | \u001b[36m__main__\u001b[0m:\u001b[36mtrain\u001b[0m:\u001b[36m197\u001b[0m - \u001b[1mepoch: 9  batch: 602/1475  loss: 0.0968 (0.2183)  lr: 0.000100\u001b[0m\n",
            "\u001b[32m2025-01-16 18:51:03.166\u001b[0m | \u001b[1mINFO    \u001b[0m | \u001b[36m__main__\u001b[0m:\u001b[36mtrain\u001b[0m:\u001b[36m197\u001b[0m - \u001b[1mepoch: 9  batch: 616/1475  loss: 0.0950 (0.2182)  lr: 0.000100\u001b[0m\n",
            "\u001b[32m2025-01-16 18:51:15.281\u001b[0m | \u001b[1mINFO    \u001b[0m | \u001b[36m__main__\u001b[0m:\u001b[36mtrain\u001b[0m:\u001b[36m197\u001b[0m - \u001b[1mepoch: 9  batch: 630/1475  loss: 0.0943 (0.2181)  lr: 0.000100\u001b[0m\n",
            "\u001b[32m2025-01-16 18:51:27.417\u001b[0m | \u001b[1mINFO    \u001b[0m | \u001b[36m__main__\u001b[0m:\u001b[36mtrain\u001b[0m:\u001b[36m197\u001b[0m - \u001b[1mepoch: 9  batch: 644/1475  loss: 0.0952 (0.2180)  lr: 0.000100\u001b[0m\n",
            "\u001b[32m2025-01-16 18:51:39.573\u001b[0m | \u001b[1mINFO    \u001b[0m | \u001b[36m__main__\u001b[0m:\u001b[36mtrain\u001b[0m:\u001b[36m197\u001b[0m - \u001b[1mepoch: 9  batch: 658/1475  loss: 0.0952 (0.2178)  lr: 0.000100\u001b[0m\n",
            "\u001b[32m2025-01-16 18:51:51.705\u001b[0m | \u001b[1mINFO    \u001b[0m | \u001b[36m__main__\u001b[0m:\u001b[36mtrain\u001b[0m:\u001b[36m197\u001b[0m - \u001b[1mepoch: 9  batch: 672/1475  loss: 0.0941 (0.2177)  lr: 0.000100\u001b[0m\n",
            "\u001b[32m2025-01-16 18:52:03.859\u001b[0m | \u001b[1mINFO    \u001b[0m | \u001b[36m__main__\u001b[0m:\u001b[36mtrain\u001b[0m:\u001b[36m197\u001b[0m - \u001b[1mepoch: 9  batch: 686/1475  loss: 0.0941 (0.2176)  lr: 0.000100\u001b[0m\n",
            "\u001b[32m2025-01-16 18:52:16.014\u001b[0m | \u001b[1mINFO    \u001b[0m | \u001b[36m__main__\u001b[0m:\u001b[36mtrain\u001b[0m:\u001b[36m197\u001b[0m - \u001b[1mepoch: 9  batch: 700/1475  loss: 0.0963 (0.2175)  lr: 0.000100\u001b[0m\n",
            "\u001b[32m2025-01-16 18:52:28.197\u001b[0m | \u001b[1mINFO    \u001b[0m | \u001b[36m__main__\u001b[0m:\u001b[36mtrain\u001b[0m:\u001b[36m197\u001b[0m - \u001b[1mepoch: 9  batch: 714/1475  loss: 0.0988 (0.2173)  lr: 0.000100\u001b[0m\n",
            "\u001b[32m2025-01-16 18:52:40.390\u001b[0m | \u001b[1mINFO    \u001b[0m | \u001b[36m__main__\u001b[0m:\u001b[36mtrain\u001b[0m:\u001b[36m197\u001b[0m - \u001b[1mepoch: 9  batch: 728/1475  loss: 0.0936 (0.2172)  lr: 0.000100\u001b[0m\n",
            "\u001b[32m2025-01-16 18:52:52.577\u001b[0m | \u001b[1mINFO    \u001b[0m | \u001b[36m__main__\u001b[0m:\u001b[36mtrain\u001b[0m:\u001b[36m197\u001b[0m - \u001b[1mepoch: 9  batch: 742/1475  loss: 0.0970 (0.2171)  lr: 0.000100\u001b[0m\n",
            "\u001b[32m2025-01-16 18:53:04.745\u001b[0m | \u001b[1mINFO    \u001b[0m | \u001b[36m__main__\u001b[0m:\u001b[36mtrain\u001b[0m:\u001b[36m197\u001b[0m - \u001b[1mepoch: 9  batch: 756/1475  loss: 0.0951 (0.2170)  lr: 0.000100\u001b[0m\n",
            "\u001b[32m2025-01-16 18:53:16.920\u001b[0m | \u001b[1mINFO    \u001b[0m | \u001b[36m__main__\u001b[0m:\u001b[36mtrain\u001b[0m:\u001b[36m197\u001b[0m - \u001b[1mepoch: 9  batch: 770/1475  loss: 0.0996 (0.2169)  lr: 0.000100\u001b[0m\n",
            "\u001b[32m2025-01-16 18:53:29.073\u001b[0m | \u001b[1mINFO    \u001b[0m | \u001b[36m__main__\u001b[0m:\u001b[36mtrain\u001b[0m:\u001b[36m197\u001b[0m - \u001b[1mepoch: 9  batch: 784/1475  loss: 0.0991 (0.2167)  lr: 0.000100\u001b[0m\n",
            "\u001b[32m2025-01-16 18:53:41.187\u001b[0m | \u001b[1mINFO    \u001b[0m | \u001b[36m__main__\u001b[0m:\u001b[36mtrain\u001b[0m:\u001b[36m197\u001b[0m - \u001b[1mepoch: 9  batch: 798/1475  loss: 0.0970 (0.2166)  lr: 0.000100\u001b[0m\n",
            "\u001b[32m2025-01-16 18:53:53.374\u001b[0m | \u001b[1mINFO    \u001b[0m | \u001b[36m__main__\u001b[0m:\u001b[36mtrain\u001b[0m:\u001b[36m197\u001b[0m - \u001b[1mepoch: 9  batch: 812/1475  loss: 0.0963 (0.2165)  lr: 0.000100\u001b[0m\n",
            "\u001b[32m2025-01-16 18:54:05.546\u001b[0m | \u001b[1mINFO    \u001b[0m | \u001b[36m__main__\u001b[0m:\u001b[36mtrain\u001b[0m:\u001b[36m197\u001b[0m - \u001b[1mepoch: 9  batch: 826/1475  loss: 0.0957 (0.2164)  lr: 0.000100\u001b[0m\n",
            "\u001b[32m2025-01-16 18:54:17.733\u001b[0m | \u001b[1mINFO    \u001b[0m | \u001b[36m__main__\u001b[0m:\u001b[36mtrain\u001b[0m:\u001b[36m197\u001b[0m - \u001b[1mepoch: 9  batch: 840/1475  loss: 0.0937 (0.2163)  lr: 0.000100\u001b[0m\n",
            "\u001b[32m2025-01-16 18:54:29.914\u001b[0m | \u001b[1mINFO    \u001b[0m | \u001b[36m__main__\u001b[0m:\u001b[36mtrain\u001b[0m:\u001b[36m197\u001b[0m - \u001b[1mepoch: 9  batch: 854/1475  loss: 0.0969 (0.2161)  lr: 0.000100\u001b[0m\n",
            "\u001b[32m2025-01-16 18:54:42.116\u001b[0m | \u001b[1mINFO    \u001b[0m | \u001b[36m__main__\u001b[0m:\u001b[36mtrain\u001b[0m:\u001b[36m197\u001b[0m - \u001b[1mepoch: 9  batch: 868/1475  loss: 0.0961 (0.2160)  lr: 0.000100\u001b[0m\n",
            "\u001b[32m2025-01-16 18:54:54.234\u001b[0m | \u001b[1mINFO    \u001b[0m | \u001b[36m__main__\u001b[0m:\u001b[36mtrain\u001b[0m:\u001b[36m197\u001b[0m - \u001b[1mepoch: 9  batch: 882/1475  loss: 0.0985 (0.2159)  lr: 0.000100\u001b[0m\n",
            "\u001b[32m2025-01-16 18:55:06.353\u001b[0m | \u001b[1mINFO    \u001b[0m | \u001b[36m__main__\u001b[0m:\u001b[36mtrain\u001b[0m:\u001b[36m197\u001b[0m - \u001b[1mepoch: 9  batch: 896/1475  loss: 0.0945 (0.2158)  lr: 0.000100\u001b[0m\n",
            "\u001b[32m2025-01-16 18:55:18.468\u001b[0m | \u001b[1mINFO    \u001b[0m | \u001b[36m__main__\u001b[0m:\u001b[36mtrain\u001b[0m:\u001b[36m197\u001b[0m - \u001b[1mepoch: 9  batch: 910/1475  loss: 0.0936 (0.2157)  lr: 0.000100\u001b[0m\n",
            "\u001b[32m2025-01-16 18:55:30.601\u001b[0m | \u001b[1mINFO    \u001b[0m | \u001b[36m__main__\u001b[0m:\u001b[36mtrain\u001b[0m:\u001b[36m197\u001b[0m - \u001b[1mepoch: 9  batch: 924/1475  loss: 0.0959 (0.2156)  lr: 0.000100\u001b[0m\n",
            "\u001b[32m2025-01-16 18:55:42.716\u001b[0m | \u001b[1mINFO    \u001b[0m | \u001b[36m__main__\u001b[0m:\u001b[36mtrain\u001b[0m:\u001b[36m197\u001b[0m - \u001b[1mepoch: 9  batch: 938/1475  loss: 0.0960 (0.2154)  lr: 0.000100\u001b[0m\n",
            "\u001b[32m2025-01-16 18:55:54.890\u001b[0m | \u001b[1mINFO    \u001b[0m | \u001b[36m__main__\u001b[0m:\u001b[36mtrain\u001b[0m:\u001b[36m197\u001b[0m - \u001b[1mepoch: 9  batch: 952/1475  loss: 0.0997 (0.2153)  lr: 0.000100\u001b[0m\n",
            "\u001b[32m2025-01-16 18:56:07.057\u001b[0m | \u001b[1mINFO    \u001b[0m | \u001b[36m__main__\u001b[0m:\u001b[36mtrain\u001b[0m:\u001b[36m197\u001b[0m - \u001b[1mepoch: 9  batch: 966/1475  loss: 0.0983 (0.2152)  lr: 0.000100\u001b[0m\n",
            "\u001b[32m2025-01-16 18:56:19.247\u001b[0m | \u001b[1mINFO    \u001b[0m | \u001b[36m__main__\u001b[0m:\u001b[36mtrain\u001b[0m:\u001b[36m197\u001b[0m - \u001b[1mepoch: 9  batch: 980/1475  loss: 0.0967 (0.2151)  lr: 0.000100\u001b[0m\n",
            "\u001b[32m2025-01-16 18:56:31.382\u001b[0m | \u001b[1mINFO    \u001b[0m | \u001b[36m__main__\u001b[0m:\u001b[36mtrain\u001b[0m:\u001b[36m197\u001b[0m - \u001b[1mepoch: 9  batch: 994/1475  loss: 0.0943 (0.2150)  lr: 0.000100\u001b[0m\n",
            "\u001b[32m2025-01-16 18:56:43.555\u001b[0m | \u001b[1mINFO    \u001b[0m | \u001b[36m__main__\u001b[0m:\u001b[36mtrain\u001b[0m:\u001b[36m197\u001b[0m - \u001b[1mepoch: 9  batch: 1008/1475  loss: 0.0978 (0.2149)  lr: 0.000100\u001b[0m\n",
            "\u001b[32m2025-01-16 18:56:55.670\u001b[0m | \u001b[1mINFO    \u001b[0m | \u001b[36m__main__\u001b[0m:\u001b[36mtrain\u001b[0m:\u001b[36m197\u001b[0m - \u001b[1mepoch: 9  batch: 1022/1475  loss: 0.0988 (0.2147)  lr: 0.000100\u001b[0m\n",
            "\u001b[32m2025-01-16 18:57:07.865\u001b[0m | \u001b[1mINFO    \u001b[0m | \u001b[36m__main__\u001b[0m:\u001b[36mtrain\u001b[0m:\u001b[36m197\u001b[0m - \u001b[1mepoch: 9  batch: 1036/1475  loss: 0.0934 (0.2146)  lr: 0.000100\u001b[0m\n",
            "\u001b[32m2025-01-16 18:57:20.046\u001b[0m | \u001b[1mINFO    \u001b[0m | \u001b[36m__main__\u001b[0m:\u001b[36mtrain\u001b[0m:\u001b[36m197\u001b[0m - \u001b[1mepoch: 9  batch: 1050/1475  loss: 0.0918 (0.2145)  lr: 0.000100\u001b[0m\n",
            "\u001b[32m2025-01-16 18:57:32.229\u001b[0m | \u001b[1mINFO    \u001b[0m | \u001b[36m__main__\u001b[0m:\u001b[36mtrain\u001b[0m:\u001b[36m197\u001b[0m - \u001b[1mepoch: 9  batch: 1064/1475  loss: 0.0953 (0.2144)  lr: 0.000100\u001b[0m\n",
            "\u001b[32m2025-01-16 18:57:44.421\u001b[0m | \u001b[1mINFO    \u001b[0m | \u001b[36m__main__\u001b[0m:\u001b[36mtrain\u001b[0m:\u001b[36m197\u001b[0m - \u001b[1mepoch: 9  batch: 1078/1475  loss: 0.0966 (0.2143)  lr: 0.000100\u001b[0m\n",
            "\u001b[32m2025-01-16 18:57:56.566\u001b[0m | \u001b[1mINFO    \u001b[0m | \u001b[36m__main__\u001b[0m:\u001b[36mtrain\u001b[0m:\u001b[36m197\u001b[0m - \u001b[1mepoch: 9  batch: 1092/1475  loss: 0.0966 (0.2142)  lr: 0.000100\u001b[0m\n",
            "\u001b[32m2025-01-16 18:58:08.704\u001b[0m | \u001b[1mINFO    \u001b[0m | \u001b[36m__main__\u001b[0m:\u001b[36mtrain\u001b[0m:\u001b[36m197\u001b[0m - \u001b[1mepoch: 9  batch: 1106/1475  loss: 0.0967 (0.2141)  lr: 0.000100\u001b[0m\n",
            "\u001b[32m2025-01-16 18:58:20.849\u001b[0m | \u001b[1mINFO    \u001b[0m | \u001b[36m__main__\u001b[0m:\u001b[36mtrain\u001b[0m:\u001b[36m197\u001b[0m - \u001b[1mepoch: 9  batch: 1120/1475  loss: 0.0985 (0.2139)  lr: 0.000100\u001b[0m\n",
            "\u001b[32m2025-01-16 18:58:32.988\u001b[0m | \u001b[1mINFO    \u001b[0m | \u001b[36m__main__\u001b[0m:\u001b[36mtrain\u001b[0m:\u001b[36m197\u001b[0m - \u001b[1mepoch: 9  batch: 1134/1475  loss: 0.0966 (0.2138)  lr: 0.000100\u001b[0m\n",
            "\u001b[32m2025-01-16 18:58:45.170\u001b[0m | \u001b[1mINFO    \u001b[0m | \u001b[36m__main__\u001b[0m:\u001b[36mtrain\u001b[0m:\u001b[36m197\u001b[0m - \u001b[1mepoch: 9  batch: 1148/1475  loss: 0.0966 (0.2137)  lr: 0.000100\u001b[0m\n",
            "\u001b[32m2025-01-16 18:58:57.375\u001b[0m | \u001b[1mINFO    \u001b[0m | \u001b[36m__main__\u001b[0m:\u001b[36mtrain\u001b[0m:\u001b[36m197\u001b[0m - \u001b[1mepoch: 9  batch: 1162/1475  loss: 0.0982 (0.2136)  lr: 0.000100\u001b[0m\n",
            "\u001b[32m2025-01-16 18:59:09.570\u001b[0m | \u001b[1mINFO    \u001b[0m | \u001b[36m__main__\u001b[0m:\u001b[36mtrain\u001b[0m:\u001b[36m197\u001b[0m - \u001b[1mepoch: 9  batch: 1176/1475  loss: 0.0971 (0.2135)  lr: 0.000100\u001b[0m\n",
            "\u001b[32m2025-01-16 18:59:21.712\u001b[0m | \u001b[1mINFO    \u001b[0m | \u001b[36m__main__\u001b[0m:\u001b[36mtrain\u001b[0m:\u001b[36m197\u001b[0m - \u001b[1mepoch: 9  batch: 1190/1475  loss: 0.0976 (0.2134)  lr: 0.000100\u001b[0m\n",
            "\u001b[32m2025-01-16 18:59:33.868\u001b[0m | \u001b[1mINFO    \u001b[0m | \u001b[36m__main__\u001b[0m:\u001b[36mtrain\u001b[0m:\u001b[36m197\u001b[0m - \u001b[1mepoch: 9  batch: 1204/1475  loss: 0.0956 (0.2133)  lr: 0.000100\u001b[0m\n",
            "\u001b[32m2025-01-16 18:59:46.003\u001b[0m | \u001b[1mINFO    \u001b[0m | \u001b[36m__main__\u001b[0m:\u001b[36mtrain\u001b[0m:\u001b[36m197\u001b[0m - \u001b[1mepoch: 9  batch: 1218/1475  loss: 0.0964 (0.2132)  lr: 0.000100\u001b[0m\n",
            "\u001b[32m2025-01-16 18:59:58.200\u001b[0m | \u001b[1mINFO    \u001b[0m | \u001b[36m__main__\u001b[0m:\u001b[36mtrain\u001b[0m:\u001b[36m197\u001b[0m - \u001b[1mepoch: 9  batch: 1232/1475  loss: 0.0958 (0.2130)  lr: 0.000100\u001b[0m\n",
            "\u001b[32m2025-01-16 19:00:10.450\u001b[0m | \u001b[1mINFO    \u001b[0m | \u001b[36m__main__\u001b[0m:\u001b[36mtrain\u001b[0m:\u001b[36m197\u001b[0m - \u001b[1mepoch: 9  batch: 1246/1475  loss: 0.0968 (0.2129)  lr: 0.000100\u001b[0m\n",
            "\u001b[32m2025-01-16 19:00:22.628\u001b[0m | \u001b[1mINFO    \u001b[0m | \u001b[36m__main__\u001b[0m:\u001b[36mtrain\u001b[0m:\u001b[36m197\u001b[0m - \u001b[1mepoch: 9  batch: 1260/1475  loss: 0.0995 (0.2128)  lr: 0.000100\u001b[0m\n",
            "\u001b[32m2025-01-16 19:00:34.885\u001b[0m | \u001b[1mINFO    \u001b[0m | \u001b[36m__main__\u001b[0m:\u001b[36mtrain\u001b[0m:\u001b[36m197\u001b[0m - \u001b[1mepoch: 9  batch: 1274/1475  loss: 0.0991 (0.2127)  lr: 0.000100\u001b[0m\n",
            "\u001b[32m2025-01-16 19:00:47.083\u001b[0m | \u001b[1mINFO    \u001b[0m | \u001b[36m__main__\u001b[0m:\u001b[36mtrain\u001b[0m:\u001b[36m197\u001b[0m - \u001b[1mepoch: 9  batch: 1288/1475  loss: 0.1003 (0.2126)  lr: 0.000100\u001b[0m\n",
            "\u001b[32m2025-01-16 19:00:59.250\u001b[0m | \u001b[1mINFO    \u001b[0m | \u001b[36m__main__\u001b[0m:\u001b[36mtrain\u001b[0m:\u001b[36m197\u001b[0m - \u001b[1mepoch: 9  batch: 1302/1475  loss: 0.0991 (0.2125)  lr: 0.000100\u001b[0m\n",
            "\u001b[32m2025-01-16 19:01:11.480\u001b[0m | \u001b[1mINFO    \u001b[0m | \u001b[36m__main__\u001b[0m:\u001b[36mtrain\u001b[0m:\u001b[36m197\u001b[0m - \u001b[1mepoch: 9  batch: 1316/1475  loss: 0.0924 (0.2124)  lr: 0.000100\u001b[0m\n",
            "\u001b[32m2025-01-16 19:01:23.700\u001b[0m | \u001b[1mINFO    \u001b[0m | \u001b[36m__main__\u001b[0m:\u001b[36mtrain\u001b[0m:\u001b[36m197\u001b[0m - \u001b[1mepoch: 9  batch: 1330/1475  loss: 0.0982 (0.2123)  lr: 0.000100\u001b[0m\n",
            "\u001b[32m2025-01-16 19:01:35.875\u001b[0m | \u001b[1mINFO    \u001b[0m | \u001b[36m__main__\u001b[0m:\u001b[36mtrain\u001b[0m:\u001b[36m197\u001b[0m - \u001b[1mepoch: 9  batch: 1344/1475  loss: 0.1012 (0.2122)  lr: 0.000100\u001b[0m\n",
            "\u001b[32m2025-01-16 19:01:48.058\u001b[0m | \u001b[1mINFO    \u001b[0m | \u001b[36m__main__\u001b[0m:\u001b[36mtrain\u001b[0m:\u001b[36m197\u001b[0m - \u001b[1mepoch: 9  batch: 1358/1475  loss: 0.0946 (0.2121)  lr: 0.000100\u001b[0m\n",
            "\u001b[32m2025-01-16 19:02:00.262\u001b[0m | \u001b[1mINFO    \u001b[0m | \u001b[36m__main__\u001b[0m:\u001b[36mtrain\u001b[0m:\u001b[36m197\u001b[0m - \u001b[1mepoch: 9  batch: 1372/1475  loss: 0.0947 (0.2120)  lr: 0.000100\u001b[0m\n",
            "\u001b[32m2025-01-16 19:02:12.464\u001b[0m | \u001b[1mINFO    \u001b[0m | \u001b[36m__main__\u001b[0m:\u001b[36mtrain\u001b[0m:\u001b[36m197\u001b[0m - \u001b[1mepoch: 9  batch: 1386/1475  loss: 0.1022 (0.2119)  lr: 0.000100\u001b[0m\n",
            "\u001b[32m2025-01-16 19:02:24.628\u001b[0m | \u001b[1mINFO    \u001b[0m | \u001b[36m__main__\u001b[0m:\u001b[36mtrain\u001b[0m:\u001b[36m197\u001b[0m - \u001b[1mepoch: 9  batch: 1400/1475  loss: 0.0986 (0.2117)  lr: 0.000100\u001b[0m\n",
            "\u001b[32m2025-01-16 19:02:36.809\u001b[0m | \u001b[1mINFO    \u001b[0m | \u001b[36m__main__\u001b[0m:\u001b[36mtrain\u001b[0m:\u001b[36m197\u001b[0m - \u001b[1mepoch: 9  batch: 1414/1475  loss: 0.0956 (0.2116)  lr: 0.000100\u001b[0m\n",
            "\u001b[32m2025-01-16 19:02:49.002\u001b[0m | \u001b[1mINFO    \u001b[0m | \u001b[36m__main__\u001b[0m:\u001b[36mtrain\u001b[0m:\u001b[36m197\u001b[0m - \u001b[1mepoch: 9  batch: 1428/1475  loss: 0.0988 (0.2115)  lr: 0.000100\u001b[0m\n",
            "\u001b[32m2025-01-16 19:03:01.187\u001b[0m | \u001b[1mINFO    \u001b[0m | \u001b[36m__main__\u001b[0m:\u001b[36mtrain\u001b[0m:\u001b[36m197\u001b[0m - \u001b[1mepoch: 9  batch: 1442/1475  loss: 0.1017 (0.2114)  lr: 0.000100\u001b[0m\n",
            "\u001b[32m2025-01-16 19:03:13.361\u001b[0m | \u001b[1mINFO    \u001b[0m | \u001b[36m__main__\u001b[0m:\u001b[36mtrain\u001b[0m:\u001b[36m197\u001b[0m - \u001b[1mepoch: 9  batch: 1456/1475  loss: 0.0992 (0.2113)  lr: 0.000100\u001b[0m\n",
            "\u001b[32m2025-01-16 19:03:25.520\u001b[0m | \u001b[1mINFO    \u001b[0m | \u001b[36m__main__\u001b[0m:\u001b[36mtrain\u001b[0m:\u001b[36m197\u001b[0m - \u001b[1mepoch: 9  batch: 1470/1475  loss: 0.0995 (0.2112)  lr: 0.000100\u001b[0m\n",
            "\u001b[32m2025-01-16 19:03:29.618\u001b[0m | \u001b[1mINFO    \u001b[0m | \u001b[36m__main__\u001b[0m:\u001b[36mtrain\u001b[0m:\u001b[36m219\u001b[0m - \u001b[1mFinish epoch: 9, without validation\u001b[0m\n",
            "\u001b[32m2025-01-16 19:03:47.606\u001b[0m | \u001b[1mINFO    \u001b[0m | \u001b[36m__main__\u001b[0m:\u001b[36mtrain\u001b[0m:\u001b[36m197\u001b[0m - \u001b[1mepoch: 10  batch: 14/1475  loss: 0.0874 (0.2111)  lr: 0.000100\u001b[0m\n",
            "\u001b[32m2025-01-16 19:03:59.828\u001b[0m | \u001b[1mINFO    \u001b[0m | \u001b[36m__main__\u001b[0m:\u001b[36mtrain\u001b[0m:\u001b[36m197\u001b[0m - \u001b[1mepoch: 10  batch: 28/1475  loss: 0.0867 (0.2109)  lr: 0.000100\u001b[0m\n",
            "\u001b[32m2025-01-16 19:04:12.130\u001b[0m | \u001b[1mINFO    \u001b[0m | \u001b[36m__main__\u001b[0m:\u001b[36mtrain\u001b[0m:\u001b[36m197\u001b[0m - \u001b[1mepoch: 10  batch: 42/1475  loss: 0.0815 (0.2108)  lr: 0.000100\u001b[0m\n",
            "\u001b[32m2025-01-16 19:04:24.353\u001b[0m | \u001b[1mINFO    \u001b[0m | \u001b[36m__main__\u001b[0m:\u001b[36mtrain\u001b[0m:\u001b[36m197\u001b[0m - \u001b[1mepoch: 10  batch: 56/1475  loss: 0.0824 (0.2107)  lr: 0.000100\u001b[0m\n",
            "\u001b[32m2025-01-16 19:04:36.519\u001b[0m | \u001b[1mINFO    \u001b[0m | \u001b[36m__main__\u001b[0m:\u001b[36mtrain\u001b[0m:\u001b[36m197\u001b[0m - \u001b[1mepoch: 10  batch: 70/1475  loss: 0.0839 (0.2106)  lr: 0.000100\u001b[0m\n",
            "\u001b[32m2025-01-16 19:04:48.651\u001b[0m | \u001b[1mINFO    \u001b[0m | \u001b[36m__main__\u001b[0m:\u001b[36mtrain\u001b[0m:\u001b[36m197\u001b[0m - \u001b[1mepoch: 10  batch: 84/1475  loss: 0.0850 (0.2105)  lr: 0.000100\u001b[0m\n",
            "\u001b[32m2025-01-16 19:05:00.801\u001b[0m | \u001b[1mINFO    \u001b[0m | \u001b[36m__main__\u001b[0m:\u001b[36mtrain\u001b[0m:\u001b[36m197\u001b[0m - \u001b[1mepoch: 10  batch: 98/1475  loss: 0.0844 (0.2103)  lr: 0.000100\u001b[0m\n",
            "\u001b[32m2025-01-16 19:05:12.964\u001b[0m | \u001b[1mINFO    \u001b[0m | \u001b[36m__main__\u001b[0m:\u001b[36mtrain\u001b[0m:\u001b[36m197\u001b[0m - \u001b[1mepoch: 10  batch: 112/1475  loss: 0.0818 (0.2102)  lr: 0.000100\u001b[0m\n",
            "\u001b[32m2025-01-16 19:05:25.185\u001b[0m | \u001b[1mINFO    \u001b[0m | \u001b[36m__main__\u001b[0m:\u001b[36mtrain\u001b[0m:\u001b[36m197\u001b[0m - \u001b[1mepoch: 10  batch: 126/1475  loss: 0.0817 (0.2101)  lr: 0.000100\u001b[0m\n",
            "\u001b[32m2025-01-16 19:05:37.338\u001b[0m | \u001b[1mINFO    \u001b[0m | \u001b[36m__main__\u001b[0m:\u001b[36mtrain\u001b[0m:\u001b[36m197\u001b[0m - \u001b[1mepoch: 10  batch: 140/1475  loss: 0.0830 (0.2100)  lr: 0.000100\u001b[0m\n",
            "\u001b[32m2025-01-16 19:05:49.520\u001b[0m | \u001b[1mINFO    \u001b[0m | \u001b[36m__main__\u001b[0m:\u001b[36mtrain\u001b[0m:\u001b[36m197\u001b[0m - \u001b[1mepoch: 10  batch: 154/1475  loss: 0.0830 (0.2099)  lr: 0.000100\u001b[0m\n",
            "\u001b[32m2025-01-16 19:06:01.693\u001b[0m | \u001b[1mINFO    \u001b[0m | \u001b[36m__main__\u001b[0m:\u001b[36mtrain\u001b[0m:\u001b[36m197\u001b[0m - \u001b[1mepoch: 10  batch: 168/1475  loss: 0.0835 (0.2097)  lr: 0.000100\u001b[0m\n",
            "\u001b[32m2025-01-16 19:06:13.803\u001b[0m | \u001b[1mINFO    \u001b[0m | \u001b[36m__main__\u001b[0m:\u001b[36mtrain\u001b[0m:\u001b[36m197\u001b[0m - \u001b[1mepoch: 10  batch: 182/1475  loss: 0.0827 (0.2096)  lr: 0.000100\u001b[0m\n",
            "\u001b[32m2025-01-16 19:06:25.957\u001b[0m | \u001b[1mINFO    \u001b[0m | \u001b[36m__main__\u001b[0m:\u001b[36mtrain\u001b[0m:\u001b[36m197\u001b[0m - \u001b[1mepoch: 10  batch: 196/1475  loss: 0.0823 (0.2095)  lr: 0.000100\u001b[0m\n",
            "\u001b[32m2025-01-16 19:06:38.181\u001b[0m | \u001b[1mINFO    \u001b[0m | \u001b[36m__main__\u001b[0m:\u001b[36mtrain\u001b[0m:\u001b[36m197\u001b[0m - \u001b[1mepoch: 10  batch: 210/1475  loss: 0.0839 (0.2094)  lr: 0.000100\u001b[0m\n",
            "\u001b[32m2025-01-16 19:06:50.387\u001b[0m | \u001b[1mINFO    \u001b[0m | \u001b[36m__main__\u001b[0m:\u001b[36mtrain\u001b[0m:\u001b[36m197\u001b[0m - \u001b[1mepoch: 10  batch: 224/1475  loss: 0.0829 (0.2093)  lr: 0.000100\u001b[0m\n",
            "\u001b[32m2025-01-16 19:07:02.581\u001b[0m | \u001b[1mINFO    \u001b[0m | \u001b[36m__main__\u001b[0m:\u001b[36mtrain\u001b[0m:\u001b[36m197\u001b[0m - \u001b[1mepoch: 10  batch: 238/1475  loss: 0.0824 (0.2092)  lr: 0.000100\u001b[0m\n",
            "\u001b[32m2025-01-16 19:07:14.768\u001b[0m | \u001b[1mINFO    \u001b[0m | \u001b[36m__main__\u001b[0m:\u001b[36mtrain\u001b[0m:\u001b[36m197\u001b[0m - \u001b[1mepoch: 10  batch: 252/1475  loss: 0.0838 (0.2090)  lr: 0.000100\u001b[0m\n",
            "\u001b[32m2025-01-16 19:07:26.941\u001b[0m | \u001b[1mINFO    \u001b[0m | \u001b[36m__main__\u001b[0m:\u001b[36mtrain\u001b[0m:\u001b[36m197\u001b[0m - \u001b[1mepoch: 10  batch: 266/1475  loss: 0.0862 (0.2089)  lr: 0.000100\u001b[0m\n",
            "\u001b[32m2025-01-16 19:07:39.095\u001b[0m | \u001b[1mINFO    \u001b[0m | \u001b[36m__main__\u001b[0m:\u001b[36mtrain\u001b[0m:\u001b[36m197\u001b[0m - \u001b[1mepoch: 10  batch: 280/1475  loss: 0.0812 (0.2088)  lr: 0.000100\u001b[0m\n",
            "\u001b[32m2025-01-16 19:07:51.349\u001b[0m | \u001b[1mINFO    \u001b[0m | \u001b[36m__main__\u001b[0m:\u001b[36mtrain\u001b[0m:\u001b[36m197\u001b[0m - \u001b[1mepoch: 10  batch: 294/1475  loss: 0.0840 (0.2087)  lr: 0.000100\u001b[0m\n",
            "\u001b[32m2025-01-16 19:08:03.589\u001b[0m | \u001b[1mINFO    \u001b[0m | \u001b[36m__main__\u001b[0m:\u001b[36mtrain\u001b[0m:\u001b[36m197\u001b[0m - \u001b[1mepoch: 10  batch: 308/1475  loss: 0.0848 (0.2086)  lr: 0.000100\u001b[0m\n",
            "\u001b[32m2025-01-16 19:08:15.716\u001b[0m | \u001b[1mINFO    \u001b[0m | \u001b[36m__main__\u001b[0m:\u001b[36mtrain\u001b[0m:\u001b[36m197\u001b[0m - \u001b[1mepoch: 10  batch: 322/1475  loss: 0.0836 (0.2085)  lr: 0.000100\u001b[0m\n",
            "\u001b[32m2025-01-16 19:08:27.838\u001b[0m | \u001b[1mINFO    \u001b[0m | \u001b[36m__main__\u001b[0m:\u001b[36mtrain\u001b[0m:\u001b[36m197\u001b[0m - \u001b[1mepoch: 10  batch: 336/1475  loss: 0.0826 (0.2083)  lr: 0.000100\u001b[0m\n",
            "\u001b[32m2025-01-16 19:08:40.039\u001b[0m | \u001b[1mINFO    \u001b[0m | \u001b[36m__main__\u001b[0m:\u001b[36mtrain\u001b[0m:\u001b[36m197\u001b[0m - \u001b[1mepoch: 10  batch: 350/1475  loss: 0.0868 (0.2082)  lr: 0.000100\u001b[0m\n",
            "\u001b[32m2025-01-16 19:08:52.204\u001b[0m | \u001b[1mINFO    \u001b[0m | \u001b[36m__main__\u001b[0m:\u001b[36mtrain\u001b[0m:\u001b[36m197\u001b[0m - \u001b[1mepoch: 10  batch: 364/1475  loss: 0.0872 (0.2081)  lr: 0.000100\u001b[0m\n",
            "\u001b[32m2025-01-16 19:09:04.327\u001b[0m | \u001b[1mINFO    \u001b[0m | \u001b[36m__main__\u001b[0m:\u001b[36mtrain\u001b[0m:\u001b[36m197\u001b[0m - \u001b[1mepoch: 10  batch: 378/1475  loss: 0.0851 (0.2080)  lr: 0.000100\u001b[0m\n",
            "\u001b[32m2025-01-16 19:09:16.480\u001b[0m | \u001b[1mINFO    \u001b[0m | \u001b[36m__main__\u001b[0m:\u001b[36mtrain\u001b[0m:\u001b[36m197\u001b[0m - \u001b[1mepoch: 10  batch: 392/1475  loss: 0.0852 (0.2079)  lr: 0.000100\u001b[0m\n",
            "\u001b[32m2025-01-16 19:09:28.609\u001b[0m | \u001b[1mINFO    \u001b[0m | \u001b[36m__main__\u001b[0m:\u001b[36mtrain\u001b[0m:\u001b[36m197\u001b[0m - \u001b[1mepoch: 10  batch: 406/1475  loss: 0.0828 (0.2078)  lr: 0.000100\u001b[0m\n",
            "\u001b[32m2025-01-16 19:09:40.749\u001b[0m | \u001b[1mINFO    \u001b[0m | \u001b[36m__main__\u001b[0m:\u001b[36mtrain\u001b[0m:\u001b[36m197\u001b[0m - \u001b[1mepoch: 10  batch: 420/1475  loss: 0.0899 (0.2077)  lr: 0.000100\u001b[0m\n",
            "\u001b[32m2025-01-16 19:09:52.933\u001b[0m | \u001b[1mINFO    \u001b[0m | \u001b[36m__main__\u001b[0m:\u001b[36mtrain\u001b[0m:\u001b[36m197\u001b[0m - \u001b[1mepoch: 10  batch: 434/1475  loss: 0.0859 (0.2076)  lr: 0.000100\u001b[0m\n",
            "\u001b[32m2025-01-16 19:10:05.109\u001b[0m | \u001b[1mINFO    \u001b[0m | \u001b[36m__main__\u001b[0m:\u001b[36mtrain\u001b[0m:\u001b[36m197\u001b[0m - \u001b[1mepoch: 10  batch: 448/1475  loss: 0.0859 (0.2074)  lr: 0.000100\u001b[0m\n",
            "\u001b[32m2025-01-16 19:10:17.331\u001b[0m | \u001b[1mINFO    \u001b[0m | \u001b[36m__main__\u001b[0m:\u001b[36mtrain\u001b[0m:\u001b[36m197\u001b[0m - \u001b[1mepoch: 10  batch: 462/1475  loss: 0.0875 (0.2073)  lr: 0.000100\u001b[0m\n",
            "\u001b[32m2025-01-16 19:10:29.539\u001b[0m | \u001b[1mINFO    \u001b[0m | \u001b[36m__main__\u001b[0m:\u001b[36mtrain\u001b[0m:\u001b[36m197\u001b[0m - \u001b[1mepoch: 10  batch: 476/1475  loss: 0.0875 (0.2072)  lr: 0.000100\u001b[0m\n",
            "\u001b[32m2025-01-16 19:10:41.726\u001b[0m | \u001b[1mINFO    \u001b[0m | \u001b[36m__main__\u001b[0m:\u001b[36mtrain\u001b[0m:\u001b[36m197\u001b[0m - \u001b[1mepoch: 10  batch: 490/1475  loss: 0.0845 (0.2071)  lr: 0.000100\u001b[0m\n",
            "\u001b[32m2025-01-16 19:10:53.878\u001b[0m | \u001b[1mINFO    \u001b[0m | \u001b[36m__main__\u001b[0m:\u001b[36mtrain\u001b[0m:\u001b[36m197\u001b[0m - \u001b[1mepoch: 10  batch: 504/1475  loss: 0.0834 (0.2070)  lr: 0.000100\u001b[0m\n",
            "\u001b[32m2025-01-16 19:11:06.057\u001b[0m | \u001b[1mINFO    \u001b[0m | \u001b[36m__main__\u001b[0m:\u001b[36mtrain\u001b[0m:\u001b[36m197\u001b[0m - \u001b[1mepoch: 10  batch: 518/1475  loss: 0.0860 (0.2069)  lr: 0.000100\u001b[0m\n",
            "\u001b[32m2025-01-16 19:11:18.216\u001b[0m | \u001b[1mINFO    \u001b[0m | \u001b[36m__main__\u001b[0m:\u001b[36mtrain\u001b[0m:\u001b[36m197\u001b[0m - \u001b[1mepoch: 10  batch: 532/1475  loss: 0.0860 (0.2068)  lr: 0.000100\u001b[0m\n",
            "\u001b[32m2025-01-16 19:11:30.457\u001b[0m | \u001b[1mINFO    \u001b[0m | \u001b[36m__main__\u001b[0m:\u001b[36mtrain\u001b[0m:\u001b[36m197\u001b[0m - \u001b[1mepoch: 10  batch: 546/1475  loss: 0.0892 (0.2067)  lr: 0.000100\u001b[0m\n",
            "\u001b[32m2025-01-16 19:11:42.656\u001b[0m | \u001b[1mINFO    \u001b[0m | \u001b[36m__main__\u001b[0m:\u001b[36mtrain\u001b[0m:\u001b[36m197\u001b[0m - \u001b[1mepoch: 10  batch: 560/1475  loss: 0.0880 (0.2066)  lr: 0.000100\u001b[0m\n",
            "\u001b[32m2025-01-16 19:11:54.850\u001b[0m | \u001b[1mINFO    \u001b[0m | \u001b[36m__main__\u001b[0m:\u001b[36mtrain\u001b[0m:\u001b[36m197\u001b[0m - \u001b[1mepoch: 10  batch: 574/1475  loss: 0.0861 (0.2065)  lr: 0.000100\u001b[0m\n",
            "\u001b[32m2025-01-16 19:12:07.035\u001b[0m | \u001b[1mINFO    \u001b[0m | \u001b[36m__main__\u001b[0m:\u001b[36mtrain\u001b[0m:\u001b[36m197\u001b[0m - \u001b[1mepoch: 10  batch: 588/1475  loss: 0.0872 (0.2063)  lr: 0.000100\u001b[0m\n",
            "\u001b[32m2025-01-16 19:12:19.183\u001b[0m | \u001b[1mINFO    \u001b[0m | \u001b[36m__main__\u001b[0m:\u001b[36mtrain\u001b[0m:\u001b[36m197\u001b[0m - \u001b[1mepoch: 10  batch: 602/1475  loss: 0.0872 (0.2062)  lr: 0.000100\u001b[0m\n",
            "\u001b[32m2025-01-16 19:12:31.369\u001b[0m | \u001b[1mINFO    \u001b[0m | \u001b[36m__main__\u001b[0m:\u001b[36mtrain\u001b[0m:\u001b[36m197\u001b[0m - \u001b[1mepoch: 10  batch: 616/1475  loss: 0.0874 (0.2061)  lr: 0.000100\u001b[0m\n",
            "\u001b[32m2025-01-16 19:12:43.538\u001b[0m | \u001b[1mINFO    \u001b[0m | \u001b[36m__main__\u001b[0m:\u001b[36mtrain\u001b[0m:\u001b[36m197\u001b[0m - \u001b[1mepoch: 10  batch: 630/1475  loss: 0.0872 (0.2060)  lr: 0.000100\u001b[0m\n",
            "\u001b[32m2025-01-16 19:12:55.746\u001b[0m | \u001b[1mINFO    \u001b[0m | \u001b[36m__main__\u001b[0m:\u001b[36mtrain\u001b[0m:\u001b[36m197\u001b[0m - \u001b[1mepoch: 10  batch: 644/1475  loss: 0.0873 (0.2059)  lr: 0.000100\u001b[0m\n",
            "\u001b[32m2025-01-16 19:13:07.906\u001b[0m | \u001b[1mINFO    \u001b[0m | \u001b[36m__main__\u001b[0m:\u001b[36mtrain\u001b[0m:\u001b[36m197\u001b[0m - \u001b[1mepoch: 10  batch: 658/1475  loss: 0.0880 (0.2058)  lr: 0.000100\u001b[0m\n",
            "\u001b[32m2025-01-16 19:13:20.090\u001b[0m | \u001b[1mINFO    \u001b[0m | \u001b[36m__main__\u001b[0m:\u001b[36mtrain\u001b[0m:\u001b[36m197\u001b[0m - \u001b[1mepoch: 10  batch: 672/1475  loss: 0.0903 (0.2057)  lr: 0.000100\u001b[0m\n",
            "\u001b[32m2025-01-16 19:13:32.303\u001b[0m | \u001b[1mINFO    \u001b[0m | \u001b[36m__main__\u001b[0m:\u001b[36mtrain\u001b[0m:\u001b[36m197\u001b[0m - \u001b[1mepoch: 10  batch: 686/1475  loss: 0.0867 (0.2056)  lr: 0.000100\u001b[0m\n",
            "\u001b[32m2025-01-16 19:13:44.407\u001b[0m | \u001b[1mINFO    \u001b[0m | \u001b[36m__main__\u001b[0m:\u001b[36mtrain\u001b[0m:\u001b[36m197\u001b[0m - \u001b[1mepoch: 10  batch: 700/1475  loss: 0.0839 (0.2055)  lr: 0.000100\u001b[0m\n",
            "\u001b[32m2025-01-16 19:13:56.569\u001b[0m | \u001b[1mINFO    \u001b[0m | \u001b[36m__main__\u001b[0m:\u001b[36mtrain\u001b[0m:\u001b[36m197\u001b[0m - \u001b[1mepoch: 10  batch: 714/1475  loss: 0.0909 (0.2054)  lr: 0.000100\u001b[0m\n",
            "\u001b[32m2025-01-16 19:14:08.763\u001b[0m | \u001b[1mINFO    \u001b[0m | \u001b[36m__main__\u001b[0m:\u001b[36mtrain\u001b[0m:\u001b[36m197\u001b[0m - \u001b[1mepoch: 10  batch: 728/1475  loss: 0.0907 (0.2053)  lr: 0.000100\u001b[0m\n",
            "\u001b[32m2025-01-16 19:14:20.921\u001b[0m | \u001b[1mINFO    \u001b[0m | \u001b[36m__main__\u001b[0m:\u001b[36mtrain\u001b[0m:\u001b[36m197\u001b[0m - \u001b[1mepoch: 10  batch: 742/1475  loss: 0.0870 (0.2052)  lr: 0.000100\u001b[0m\n",
            "\u001b[32m2025-01-16 19:14:33.077\u001b[0m | \u001b[1mINFO    \u001b[0m | \u001b[36m__main__\u001b[0m:\u001b[36mtrain\u001b[0m:\u001b[36m197\u001b[0m - \u001b[1mepoch: 10  batch: 756/1475  loss: 0.0884 (0.2051)  lr: 0.000100\u001b[0m\n",
            "\u001b[32m2025-01-16 19:14:45.237\u001b[0m | \u001b[1mINFO    \u001b[0m | \u001b[36m__main__\u001b[0m:\u001b[36mtrain\u001b[0m:\u001b[36m197\u001b[0m - \u001b[1mepoch: 10  batch: 770/1475  loss: 0.0868 (0.2050)  lr: 0.000100\u001b[0m\n",
            "\u001b[32m2025-01-16 19:14:57.361\u001b[0m | \u001b[1mINFO    \u001b[0m | \u001b[36m__main__\u001b[0m:\u001b[36mtrain\u001b[0m:\u001b[36m197\u001b[0m - \u001b[1mepoch: 10  batch: 784/1475  loss: 0.0867 (0.2049)  lr: 0.000100\u001b[0m\n",
            "\u001b[32m2025-01-16 19:15:09.501\u001b[0m | \u001b[1mINFO    \u001b[0m | \u001b[36m__main__\u001b[0m:\u001b[36mtrain\u001b[0m:\u001b[36m197\u001b[0m - \u001b[1mepoch: 10  batch: 798/1475  loss: 0.0867 (0.2048)  lr: 0.000100\u001b[0m\n",
            "\u001b[32m2025-01-16 19:15:21.675\u001b[0m | \u001b[1mINFO    \u001b[0m | \u001b[36m__main__\u001b[0m:\u001b[36mtrain\u001b[0m:\u001b[36m197\u001b[0m - \u001b[1mepoch: 10  batch: 812/1475  loss: 0.0892 (0.2046)  lr: 0.000100\u001b[0m\n",
            "\u001b[32m2025-01-16 19:15:33.885\u001b[0m | \u001b[1mINFO    \u001b[0m | \u001b[36m__main__\u001b[0m:\u001b[36mtrain\u001b[0m:\u001b[36m197\u001b[0m - \u001b[1mepoch: 10  batch: 826/1475  loss: 0.0911 (0.2045)  lr: 0.000100\u001b[0m\n",
            "\u001b[32m2025-01-16 19:15:46.063\u001b[0m | \u001b[1mINFO    \u001b[0m | \u001b[36m__main__\u001b[0m:\u001b[36mtrain\u001b[0m:\u001b[36m197\u001b[0m - \u001b[1mepoch: 10  batch: 840/1475  loss: 0.0875 (0.2044)  lr: 0.000100\u001b[0m\n",
            "\u001b[32m2025-01-16 19:15:58.247\u001b[0m | \u001b[1mINFO    \u001b[0m | \u001b[36m__main__\u001b[0m:\u001b[36mtrain\u001b[0m:\u001b[36m197\u001b[0m - \u001b[1mepoch: 10  batch: 854/1475  loss: 0.0913 (0.2043)  lr: 0.000100\u001b[0m\n",
            "\u001b[32m2025-01-16 19:16:10.429\u001b[0m | \u001b[1mINFO    \u001b[0m | \u001b[36m__main__\u001b[0m:\u001b[36mtrain\u001b[0m:\u001b[36m197\u001b[0m - \u001b[1mepoch: 10  batch: 868/1475  loss: 0.0918 (0.2042)  lr: 0.000100\u001b[0m\n",
            "\u001b[32m2025-01-16 19:16:22.610\u001b[0m | \u001b[1mINFO    \u001b[0m | \u001b[36m__main__\u001b[0m:\u001b[36mtrain\u001b[0m:\u001b[36m197\u001b[0m - \u001b[1mepoch: 10  batch: 882/1475  loss: 0.0905 (0.2041)  lr: 0.000100\u001b[0m\n",
            "\u001b[32m2025-01-16 19:16:34.776\u001b[0m | \u001b[1mINFO    \u001b[0m | \u001b[36m__main__\u001b[0m:\u001b[36mtrain\u001b[0m:\u001b[36m197\u001b[0m - \u001b[1mepoch: 10  batch: 896/1475  loss: 0.0857 (0.2040)  lr: 0.000100\u001b[0m\n",
            "\u001b[32m2025-01-16 19:16:46.936\u001b[0m | \u001b[1mINFO    \u001b[0m | \u001b[36m__main__\u001b[0m:\u001b[36mtrain\u001b[0m:\u001b[36m197\u001b[0m - \u001b[1mepoch: 10  batch: 910/1475  loss: 0.0855 (0.2039)  lr: 0.000100\u001b[0m\n",
            "\u001b[32m2025-01-16 19:16:59.104\u001b[0m | \u001b[1mINFO    \u001b[0m | \u001b[36m__main__\u001b[0m:\u001b[36mtrain\u001b[0m:\u001b[36m197\u001b[0m - \u001b[1mepoch: 10  batch: 924/1475  loss: 0.0848 (0.2038)  lr: 0.000100\u001b[0m\n",
            "\u001b[32m2025-01-16 19:17:11.249\u001b[0m | \u001b[1mINFO    \u001b[0m | \u001b[36m__main__\u001b[0m:\u001b[36mtrain\u001b[0m:\u001b[36m197\u001b[0m - \u001b[1mepoch: 10  batch: 938/1475  loss: 0.0840 (0.2037)  lr: 0.000100\u001b[0m\n",
            "\u001b[32m2025-01-16 19:17:23.374\u001b[0m | \u001b[1mINFO    \u001b[0m | \u001b[36m__main__\u001b[0m:\u001b[36mtrain\u001b[0m:\u001b[36m197\u001b[0m - \u001b[1mepoch: 10  batch: 952/1475  loss: 0.0861 (0.2036)  lr: 0.000100\u001b[0m\n",
            "\u001b[32m2025-01-16 19:17:35.479\u001b[0m | \u001b[1mINFO    \u001b[0m | \u001b[36m__main__\u001b[0m:\u001b[36mtrain\u001b[0m:\u001b[36m197\u001b[0m - \u001b[1mepoch: 10  batch: 966/1475  loss: 0.0854 (0.2035)  lr: 0.000100\u001b[0m\n",
            "\u001b[32m2025-01-16 19:17:47.601\u001b[0m | \u001b[1mINFO    \u001b[0m | \u001b[36m__main__\u001b[0m:\u001b[36mtrain\u001b[0m:\u001b[36m197\u001b[0m - \u001b[1mepoch: 10  batch: 980/1475  loss: 0.0855 (0.2034)  lr: 0.000100\u001b[0m\n",
            "\u001b[32m2025-01-16 19:17:59.768\u001b[0m | \u001b[1mINFO    \u001b[0m | \u001b[36m__main__\u001b[0m:\u001b[36mtrain\u001b[0m:\u001b[36m197\u001b[0m - \u001b[1mepoch: 10  batch: 994/1475  loss: 0.0893 (0.2033)  lr: 0.000100\u001b[0m\n",
            "\u001b[32m2025-01-16 19:18:11.928\u001b[0m | \u001b[1mINFO    \u001b[0m | \u001b[36m__main__\u001b[0m:\u001b[36mtrain\u001b[0m:\u001b[36m197\u001b[0m - \u001b[1mepoch: 10  batch: 1008/1475  loss: 0.0891 (0.2032)  lr: 0.000100\u001b[0m\n",
            "\u001b[32m2025-01-16 19:18:24.136\u001b[0m | \u001b[1mINFO    \u001b[0m | \u001b[36m__main__\u001b[0m:\u001b[36mtrain\u001b[0m:\u001b[36m197\u001b[0m - \u001b[1mepoch: 10  batch: 1022/1475  loss: 0.0932 (0.2031)  lr: 0.000100\u001b[0m\n",
            "\u001b[32m2025-01-16 19:18:36.290\u001b[0m | \u001b[1mINFO    \u001b[0m | \u001b[36m__main__\u001b[0m:\u001b[36mtrain\u001b[0m:\u001b[36m197\u001b[0m - \u001b[1mepoch: 10  batch: 1036/1475  loss: 0.0912 (0.2030)  lr: 0.000100\u001b[0m\n",
            "\u001b[32m2025-01-16 19:18:48.476\u001b[0m | \u001b[1mINFO    \u001b[0m | \u001b[36m__main__\u001b[0m:\u001b[36mtrain\u001b[0m:\u001b[36m197\u001b[0m - \u001b[1mepoch: 10  batch: 1050/1475  loss: 0.0907 (0.2029)  lr: 0.000100\u001b[0m\n",
            "\u001b[32m2025-01-16 19:19:00.607\u001b[0m | \u001b[1mINFO    \u001b[0m | \u001b[36m__main__\u001b[0m:\u001b[36mtrain\u001b[0m:\u001b[36m197\u001b[0m - \u001b[1mepoch: 10  batch: 1064/1475  loss: 0.0879 (0.2028)  lr: 0.000100\u001b[0m\n",
            "\u001b[32m2025-01-16 19:19:12.779\u001b[0m | \u001b[1mINFO    \u001b[0m | \u001b[36m__main__\u001b[0m:\u001b[36mtrain\u001b[0m:\u001b[36m197\u001b[0m - \u001b[1mepoch: 10  batch: 1078/1475  loss: 0.0899 (0.2027)  lr: 0.000100\u001b[0m\n",
            "\u001b[32m2025-01-16 19:19:25.001\u001b[0m | \u001b[1mINFO    \u001b[0m | \u001b[36m__main__\u001b[0m:\u001b[36mtrain\u001b[0m:\u001b[36m197\u001b[0m - \u001b[1mepoch: 10  batch: 1092/1475  loss: 0.0877 (0.2026)  lr: 0.000100\u001b[0m\n",
            "\u001b[32m2025-01-16 19:19:37.211\u001b[0m | \u001b[1mINFO    \u001b[0m | \u001b[36m__main__\u001b[0m:\u001b[36mtrain\u001b[0m:\u001b[36m197\u001b[0m - \u001b[1mepoch: 10  batch: 1106/1475  loss: 0.0939 (0.2025)  lr: 0.000100\u001b[0m\n",
            "\u001b[32m2025-01-16 19:19:49.487\u001b[0m | \u001b[1mINFO    \u001b[0m | \u001b[36m__main__\u001b[0m:\u001b[36mtrain\u001b[0m:\u001b[36m197\u001b[0m - \u001b[1mepoch: 10  batch: 1120/1475  loss: 0.0933 (0.2024)  lr: 0.000100\u001b[0m\n",
            "\u001b[32m2025-01-16 19:20:01.687\u001b[0m | \u001b[1mINFO    \u001b[0m | \u001b[36m__main__\u001b[0m:\u001b[36mtrain\u001b[0m:\u001b[36m197\u001b[0m - \u001b[1mepoch: 10  batch: 1134/1475  loss: 0.0898 (0.2023)  lr: 0.000100\u001b[0m\n",
            "\u001b[32m2025-01-16 19:20:13.887\u001b[0m | \u001b[1mINFO    \u001b[0m | \u001b[36m__main__\u001b[0m:\u001b[36mtrain\u001b[0m:\u001b[36m197\u001b[0m - \u001b[1mepoch: 10  batch: 1148/1475  loss: 0.0894 (0.2022)  lr: 0.000100\u001b[0m\n",
            "\u001b[32m2025-01-16 19:20:26.029\u001b[0m | \u001b[1mINFO    \u001b[0m | \u001b[36m__main__\u001b[0m:\u001b[36mtrain\u001b[0m:\u001b[36m197\u001b[0m - \u001b[1mepoch: 10  batch: 1162/1475  loss: 0.0893 (0.2021)  lr: 0.000100\u001b[0m\n",
            "\u001b[32m2025-01-16 19:20:38.189\u001b[0m | \u001b[1mINFO    \u001b[0m | \u001b[36m__main__\u001b[0m:\u001b[36mtrain\u001b[0m:\u001b[36m197\u001b[0m - \u001b[1mepoch: 10  batch: 1176/1475  loss: 0.0892 (0.2020)  lr: 0.000100\u001b[0m\n",
            "\u001b[32m2025-01-16 19:20:50.350\u001b[0m | \u001b[1mINFO    \u001b[0m | \u001b[36m__main__\u001b[0m:\u001b[36mtrain\u001b[0m:\u001b[36m197\u001b[0m - \u001b[1mepoch: 10  batch: 1190/1475  loss: 0.0874 (0.2019)  lr: 0.000100\u001b[0m\n",
            "\u001b[32m2025-01-16 19:21:02.500\u001b[0m | \u001b[1mINFO    \u001b[0m | \u001b[36m__main__\u001b[0m:\u001b[36mtrain\u001b[0m:\u001b[36m197\u001b[0m - \u001b[1mepoch: 10  batch: 1204/1475  loss: 0.0936 (0.2018)  lr: 0.000100\u001b[0m\n",
            "\u001b[32m2025-01-16 19:21:14.689\u001b[0m | \u001b[1mINFO    \u001b[0m | \u001b[36m__main__\u001b[0m:\u001b[36mtrain\u001b[0m:\u001b[36m197\u001b[0m - \u001b[1mepoch: 10  batch: 1218/1475  loss: 0.0897 (0.2017)  lr: 0.000100\u001b[0m\n",
            "\u001b[32m2025-01-16 19:21:26.872\u001b[0m | \u001b[1mINFO    \u001b[0m | \u001b[36m__main__\u001b[0m:\u001b[36mtrain\u001b[0m:\u001b[36m197\u001b[0m - \u001b[1mepoch: 10  batch: 1232/1475  loss: 0.0947 (0.2016)  lr: 0.000100\u001b[0m\n",
            "\u001b[32m2025-01-16 19:21:39.032\u001b[0m | \u001b[1mINFO    \u001b[0m | \u001b[36m__main__\u001b[0m:\u001b[36mtrain\u001b[0m:\u001b[36m197\u001b[0m - \u001b[1mepoch: 10  batch: 1246/1475  loss: 0.0946 (0.2015)  lr: 0.000100\u001b[0m\n",
            "\u001b[32m2025-01-16 19:21:51.187\u001b[0m | \u001b[1mINFO    \u001b[0m | \u001b[36m__main__\u001b[0m:\u001b[36mtrain\u001b[0m:\u001b[36m197\u001b[0m - \u001b[1mepoch: 10  batch: 1260/1475  loss: 0.0917 (0.2014)  lr: 0.000100\u001b[0m\n",
            "\u001b[32m2025-01-16 19:22:03.364\u001b[0m | \u001b[1mINFO    \u001b[0m | \u001b[36m__main__\u001b[0m:\u001b[36mtrain\u001b[0m:\u001b[36m197\u001b[0m - \u001b[1mepoch: 10  batch: 1274/1475  loss: 0.0904 (0.2014)  lr: 0.000100\u001b[0m\n",
            "\u001b[32m2025-01-16 19:22:15.538\u001b[0m | \u001b[1mINFO    \u001b[0m | \u001b[36m__main__\u001b[0m:\u001b[36mtrain\u001b[0m:\u001b[36m197\u001b[0m - \u001b[1mepoch: 10  batch: 1288/1475  loss: 0.0888 (0.2013)  lr: 0.000100\u001b[0m\n",
            "\u001b[32m2025-01-16 19:22:27.748\u001b[0m | \u001b[1mINFO    \u001b[0m | \u001b[36m__main__\u001b[0m:\u001b[36mtrain\u001b[0m:\u001b[36m197\u001b[0m - \u001b[1mepoch: 10  batch: 1302/1475  loss: 0.0897 (0.2012)  lr: 0.000100\u001b[0m\n",
            "\u001b[32m2025-01-16 19:22:39.949\u001b[0m | \u001b[1mINFO    \u001b[0m | \u001b[36m__main__\u001b[0m:\u001b[36mtrain\u001b[0m:\u001b[36m197\u001b[0m - \u001b[1mepoch: 10  batch: 1316/1475  loss: 0.0896 (0.2011)  lr: 0.000100\u001b[0m\n",
            "\u001b[32m2025-01-16 19:22:52.074\u001b[0m | \u001b[1mINFO    \u001b[0m | \u001b[36m__main__\u001b[0m:\u001b[36mtrain\u001b[0m:\u001b[36m197\u001b[0m - \u001b[1mepoch: 10  batch: 1330/1475  loss: 0.0866 (0.2010)  lr: 0.000100\u001b[0m\n",
            "\u001b[32m2025-01-16 19:23:04.259\u001b[0m | \u001b[1mINFO    \u001b[0m | \u001b[36m__main__\u001b[0m:\u001b[36mtrain\u001b[0m:\u001b[36m197\u001b[0m - \u001b[1mepoch: 10  batch: 1344/1475  loss: 0.0885 (0.2009)  lr: 0.000100\u001b[0m\n",
            "\u001b[32m2025-01-16 19:23:16.388\u001b[0m | \u001b[1mINFO    \u001b[0m | \u001b[36m__main__\u001b[0m:\u001b[36mtrain\u001b[0m:\u001b[36m197\u001b[0m - \u001b[1mepoch: 10  batch: 1358/1475  loss: 0.0886 (0.2008)  lr: 0.000100\u001b[0m\n",
            "\u001b[32m2025-01-16 19:23:28.576\u001b[0m | \u001b[1mINFO    \u001b[0m | \u001b[36m__main__\u001b[0m:\u001b[36mtrain\u001b[0m:\u001b[36m197\u001b[0m - \u001b[1mepoch: 10  batch: 1372/1475  loss: 0.0886 (0.2007)  lr: 0.000100\u001b[0m\n",
            "\u001b[32m2025-01-16 19:23:40.750\u001b[0m | \u001b[1mINFO    \u001b[0m | \u001b[36m__main__\u001b[0m:\u001b[36mtrain\u001b[0m:\u001b[36m197\u001b[0m - \u001b[1mepoch: 10  batch: 1386/1475  loss: 0.0923 (0.2006)  lr: 0.000100\u001b[0m\n",
            "\u001b[32m2025-01-16 19:23:52.922\u001b[0m | \u001b[1mINFO    \u001b[0m | \u001b[36m__main__\u001b[0m:\u001b[36mtrain\u001b[0m:\u001b[36m197\u001b[0m - \u001b[1mepoch: 10  batch: 1400/1475  loss: 0.0919 (0.2005)  lr: 0.000100\u001b[0m\n",
            "\u001b[32m2025-01-16 19:24:05.106\u001b[0m | \u001b[1mINFO    \u001b[0m | \u001b[36m__main__\u001b[0m:\u001b[36mtrain\u001b[0m:\u001b[36m197\u001b[0m - \u001b[1mepoch: 10  batch: 1414/1475  loss: 0.0923 (0.2004)  lr: 0.000100\u001b[0m\n",
            "\u001b[32m2025-01-16 19:24:17.303\u001b[0m | \u001b[1mINFO    \u001b[0m | \u001b[36m__main__\u001b[0m:\u001b[36mtrain\u001b[0m:\u001b[36m197\u001b[0m - \u001b[1mepoch: 10  batch: 1428/1475  loss: 0.0916 (0.2003)  lr: 0.000100\u001b[0m\n",
            "\u001b[32m2025-01-16 19:24:29.514\u001b[0m | \u001b[1mINFO    \u001b[0m | \u001b[36m__main__\u001b[0m:\u001b[36mtrain\u001b[0m:\u001b[36m197\u001b[0m - \u001b[1mepoch: 10  batch: 1442/1475  loss: 0.0941 (0.2002)  lr: 0.000100\u001b[0m\n",
            "\u001b[32m2025-01-16 19:24:41.701\u001b[0m | \u001b[1mINFO    \u001b[0m | \u001b[36m__main__\u001b[0m:\u001b[36mtrain\u001b[0m:\u001b[36m197\u001b[0m - \u001b[1mepoch: 10  batch: 1456/1475  loss: 0.0926 (0.2001)  lr: 0.000100\u001b[0m\n",
            "\u001b[32m2025-01-16 19:24:53.848\u001b[0m | \u001b[1mINFO    \u001b[0m | \u001b[36m__main__\u001b[0m:\u001b[36mtrain\u001b[0m:\u001b[36m197\u001b[0m - \u001b[1mepoch: 10  batch: 1470/1475  loss: 0.0896 (0.2000)  lr: 0.000100\u001b[0m\n",
            "\u001b[32m2025-01-16 19:24:57.936\u001b[0m | \u001b[1mINFO    \u001b[0m | \u001b[36m__main__\u001b[0m:\u001b[36mtrain\u001b[0m:\u001b[36m219\u001b[0m - \u001b[1mFinish epoch: 10, without validation\u001b[0m\n",
            "\u001b[32m2025-01-16 19:25:11.785\u001b[0m | \u001b[1mINFO    \u001b[0m | \u001b[36m__main__\u001b[0m:\u001b[36mtrain\u001b[0m:\u001b[36m197\u001b[0m - \u001b[1mepoch: 11  batch: 14/1475  loss: 0.0779 (0.1999)  lr: 0.000100\u001b[0m\n",
            "\u001b[32m2025-01-16 19:25:23.954\u001b[0m | \u001b[1mINFO    \u001b[0m | \u001b[36m__main__\u001b[0m:\u001b[36mtrain\u001b[0m:\u001b[36m197\u001b[0m - \u001b[1mepoch: 11  batch: 28/1475  loss: 0.0712 (0.1998)  lr: 0.000100\u001b[0m\n",
            "\u001b[32m2025-01-16 19:25:36.079\u001b[0m | \u001b[1mINFO    \u001b[0m | \u001b[36m__main__\u001b[0m:\u001b[36mtrain\u001b[0m:\u001b[36m197\u001b[0m - \u001b[1mepoch: 11  batch: 42/1475  loss: 0.0738 (0.1997)  lr: 0.000100\u001b[0m\n",
            "\u001b[32m2025-01-16 19:25:48.272\u001b[0m | \u001b[1mINFO    \u001b[0m | \u001b[36m__main__\u001b[0m:\u001b[36mtrain\u001b[0m:\u001b[36m197\u001b[0m - \u001b[1mepoch: 11  batch: 56/1475  loss: 0.0729 (0.1996)  lr: 0.000100\u001b[0m\n",
            "\u001b[32m2025-01-16 19:26:00.485\u001b[0m | \u001b[1mINFO    \u001b[0m | \u001b[36m__main__\u001b[0m:\u001b[36mtrain\u001b[0m:\u001b[36m197\u001b[0m - \u001b[1mepoch: 11  batch: 70/1475  loss: 0.0712 (0.1994)  lr: 0.000100\u001b[0m\n",
            "\u001b[32m2025-01-16 19:26:12.667\u001b[0m | \u001b[1mINFO    \u001b[0m | \u001b[36m__main__\u001b[0m:\u001b[36mtrain\u001b[0m:\u001b[36m197\u001b[0m - \u001b[1mepoch: 11  batch: 84/1475  loss: 0.0756 (0.1993)  lr: 0.000100\u001b[0m\n",
            "\u001b[32m2025-01-16 19:26:24.836\u001b[0m | \u001b[1mINFO    \u001b[0m | \u001b[36m__main__\u001b[0m:\u001b[36mtrain\u001b[0m:\u001b[36m197\u001b[0m - \u001b[1mepoch: 11  batch: 98/1475  loss: 0.0755 (0.1992)  lr: 0.000100\u001b[0m\n",
            "\u001b[32m2025-01-16 19:26:36.980\u001b[0m | \u001b[1mINFO    \u001b[0m | \u001b[36m__main__\u001b[0m:\u001b[36mtrain\u001b[0m:\u001b[36m197\u001b[0m - \u001b[1mepoch: 11  batch: 112/1475  loss: 0.0726 (0.1991)  lr: 0.000100\u001b[0m\n",
            "\u001b[32m2025-01-16 19:26:49.087\u001b[0m | \u001b[1mINFO    \u001b[0m | \u001b[36m__main__\u001b[0m:\u001b[36mtrain\u001b[0m:\u001b[36m197\u001b[0m - \u001b[1mepoch: 11  batch: 126/1475  loss: 0.0725 (0.1990)  lr: 0.000100\u001b[0m\n",
            "\u001b[32m2025-01-16 19:27:01.253\u001b[0m | \u001b[1mINFO    \u001b[0m | \u001b[36m__main__\u001b[0m:\u001b[36mtrain\u001b[0m:\u001b[36m197\u001b[0m - \u001b[1mepoch: 11  batch: 140/1475  loss: 0.0771 (0.1989)  lr: 0.000100\u001b[0m\n",
            "\u001b[32m2025-01-16 19:27:13.410\u001b[0m | \u001b[1mINFO    \u001b[0m | \u001b[36m__main__\u001b[0m:\u001b[36mtrain\u001b[0m:\u001b[36m197\u001b[0m - \u001b[1mepoch: 11  batch: 154/1475  loss: 0.0902 (0.1988)  lr: 0.000100\u001b[0m\n",
            "\u001b[32m2025-01-16 19:27:25.504\u001b[0m | \u001b[1mINFO    \u001b[0m | \u001b[36m__main__\u001b[0m:\u001b[36mtrain\u001b[0m:\u001b[36m197\u001b[0m - \u001b[1mepoch: 11  batch: 168/1475  loss: 0.0867 (0.1987)  lr: 0.000100\u001b[0m\n",
            "\u001b[32m2025-01-16 19:27:37.620\u001b[0m | \u001b[1mINFO    \u001b[0m | \u001b[36m__main__\u001b[0m:\u001b[36mtrain\u001b[0m:\u001b[36m197\u001b[0m - \u001b[1mepoch: 11  batch: 182/1475  loss: 0.0761 (0.1986)  lr: 0.000100\u001b[0m\n",
            "\u001b[32m2025-01-16 19:27:49.773\u001b[0m | \u001b[1mINFO    \u001b[0m | \u001b[36m__main__\u001b[0m:\u001b[36mtrain\u001b[0m:\u001b[36m197\u001b[0m - \u001b[1mepoch: 11  batch: 196/1475  loss: 0.0793 (0.1985)  lr: 0.000100\u001b[0m\n",
            "\u001b[32m2025-01-16 19:28:01.932\u001b[0m | \u001b[1mINFO    \u001b[0m | \u001b[36m__main__\u001b[0m:\u001b[36mtrain\u001b[0m:\u001b[36m197\u001b[0m - \u001b[1mepoch: 11  batch: 210/1475  loss: 0.0800 (0.1984)  lr: 0.000100\u001b[0m\n",
            "\u001b[32m2025-01-16 19:28:14.085\u001b[0m | \u001b[1mINFO    \u001b[0m | \u001b[36m__main__\u001b[0m:\u001b[36mtrain\u001b[0m:\u001b[36m197\u001b[0m - \u001b[1mepoch: 11  batch: 224/1475  loss: 0.0764 (0.1983)  lr: 0.000100\u001b[0m\n",
            "\u001b[32m2025-01-16 19:28:26.240\u001b[0m | \u001b[1mINFO    \u001b[0m | \u001b[36m__main__\u001b[0m:\u001b[36mtrain\u001b[0m:\u001b[36m197\u001b[0m - \u001b[1mepoch: 11  batch: 238/1475  loss: 0.0787 (0.1982)  lr: 0.000100\u001b[0m\n",
            "\u001b[32m2025-01-16 19:28:38.392\u001b[0m | \u001b[1mINFO    \u001b[0m | \u001b[36m__main__\u001b[0m:\u001b[36mtrain\u001b[0m:\u001b[36m197\u001b[0m - \u001b[1mepoch: 11  batch: 252/1475  loss: 0.0787 (0.1981)  lr: 0.000100\u001b[0m\n",
            "\u001b[32m2025-01-16 19:28:50.579\u001b[0m | \u001b[1mINFO    \u001b[0m | \u001b[36m__main__\u001b[0m:\u001b[36mtrain\u001b[0m:\u001b[36m197\u001b[0m - \u001b[1mepoch: 11  batch: 266/1475  loss: 0.0794 (0.1980)  lr: 0.000100\u001b[0m\n",
            "\u001b[32m2025-01-16 19:29:02.751\u001b[0m | \u001b[1mINFO    \u001b[0m | \u001b[36m__main__\u001b[0m:\u001b[36mtrain\u001b[0m:\u001b[36m197\u001b[0m - \u001b[1mepoch: 11  batch: 280/1475  loss: 0.0784 (0.1979)  lr: 0.000100\u001b[0m\n",
            "\u001b[32m2025-01-16 19:29:14.950\u001b[0m | \u001b[1mINFO    \u001b[0m | \u001b[36m__main__\u001b[0m:\u001b[36mtrain\u001b[0m:\u001b[36m197\u001b[0m - \u001b[1mepoch: 11  batch: 294/1475  loss: 0.0788 (0.1978)  lr: 0.000100\u001b[0m\n",
            "\u001b[32m2025-01-16 19:29:27.062\u001b[0m | \u001b[1mINFO    \u001b[0m | \u001b[36m__main__\u001b[0m:\u001b[36mtrain\u001b[0m:\u001b[36m197\u001b[0m - \u001b[1mepoch: 11  batch: 308/1475  loss: 0.0787 (0.1977)  lr: 0.000100\u001b[0m\n",
            "\u001b[32m2025-01-16 19:29:39.219\u001b[0m | \u001b[1mINFO    \u001b[0m | \u001b[36m__main__\u001b[0m:\u001b[36mtrain\u001b[0m:\u001b[36m197\u001b[0m - \u001b[1mepoch: 11  batch: 322/1475  loss: 0.0780 (0.1976)  lr: 0.000100\u001b[0m\n",
            "\u001b[32m2025-01-16 19:29:51.390\u001b[0m | \u001b[1mINFO    \u001b[0m | \u001b[36m__main__\u001b[0m:\u001b[36mtrain\u001b[0m:\u001b[36m197\u001b[0m - \u001b[1mepoch: 11  batch: 336/1475  loss: 0.0775 (0.1975)  lr: 0.000100\u001b[0m\n",
            "\u001b[32m2025-01-16 19:30:03.532\u001b[0m | \u001b[1mINFO    \u001b[0m | \u001b[36m__main__\u001b[0m:\u001b[36mtrain\u001b[0m:\u001b[36m197\u001b[0m - \u001b[1mepoch: 11  batch: 350/1475  loss: 0.0790 (0.1974)  lr: 0.000100\u001b[0m\n",
            "\u001b[32m2025-01-16 19:30:15.704\u001b[0m | \u001b[1mINFO    \u001b[0m | \u001b[36m__main__\u001b[0m:\u001b[36mtrain\u001b[0m:\u001b[36m197\u001b[0m - \u001b[1mepoch: 11  batch: 364/1475  loss: 0.0786 (0.1973)  lr: 0.000100\u001b[0m\n",
            "\u001b[32m2025-01-16 19:30:27.877\u001b[0m | \u001b[1mINFO    \u001b[0m | \u001b[36m__main__\u001b[0m:\u001b[36mtrain\u001b[0m:\u001b[36m197\u001b[0m - \u001b[1mepoch: 11  batch: 378/1475  loss: 0.0757 (0.1972)  lr: 0.000100\u001b[0m\n",
            "\u001b[32m2025-01-16 19:30:39.996\u001b[0m | \u001b[1mINFO    \u001b[0m | \u001b[36m__main__\u001b[0m:\u001b[36mtrain\u001b[0m:\u001b[36m197\u001b[0m - \u001b[1mepoch: 11  batch: 392/1475  loss: 0.0771 (0.1971)  lr: 0.000100\u001b[0m\n",
            "\u001b[32m2025-01-16 19:30:52.146\u001b[0m | \u001b[1mINFO    \u001b[0m | \u001b[36m__main__\u001b[0m:\u001b[36mtrain\u001b[0m:\u001b[36m197\u001b[0m - \u001b[1mepoch: 11  batch: 406/1475  loss: 0.0786 (0.1970)  lr: 0.000100\u001b[0m\n",
            "\u001b[32m2025-01-16 19:31:04.310\u001b[0m | \u001b[1mINFO    \u001b[0m | \u001b[36m__main__\u001b[0m:\u001b[36mtrain\u001b[0m:\u001b[36m197\u001b[0m - \u001b[1mepoch: 11  batch: 420/1475  loss: 0.0762 (0.1969)  lr: 0.000100\u001b[0m\n",
            "\u001b[32m2025-01-16 19:31:16.465\u001b[0m | \u001b[1mINFO    \u001b[0m | \u001b[36m__main__\u001b[0m:\u001b[36mtrain\u001b[0m:\u001b[36m197\u001b[0m - \u001b[1mepoch: 11  batch: 434/1475  loss: 0.0803 (0.1968)  lr: 0.000100\u001b[0m\n",
            "\u001b[32m2025-01-16 19:31:28.610\u001b[0m | \u001b[1mINFO    \u001b[0m | \u001b[36m__main__\u001b[0m:\u001b[36mtrain\u001b[0m:\u001b[36m197\u001b[0m - \u001b[1mepoch: 11  batch: 448/1475  loss: 0.0798 (0.1967)  lr: 0.000100\u001b[0m\n",
            "\u001b[32m2025-01-16 19:31:40.741\u001b[0m | \u001b[1mINFO    \u001b[0m | \u001b[36m__main__\u001b[0m:\u001b[36mtrain\u001b[0m:\u001b[36m197\u001b[0m - \u001b[1mepoch: 11  batch: 462/1475  loss: 0.0768 (0.1966)  lr: 0.000100\u001b[0m\n"
          ]
        }
      ],
      "source": [
        "# without GPU\n",
        "# !python3 -m SPARQL.train --input_dir processed_data/ --save_dir checkpoints/ --virtuoso_enabled False --num_epoch 30 --resume_training True --resume_model \"model_epoch8.pt\" --resume_epoch 8\n",
        "\n",
        "# with GPU\n",
        "# Run on Colab: --virtuoso_enabled False, there is no Virtuoso on Colab, no validating when training\n",
        "!CUDA_VISIBLE_DEVICES=0 python -m SPARQL.train --input_dir processed_data/ --save_dir checkpoints/MyDrive/ --virtuoso_enabled False --num_epoch 30 --resume_training False --resume_model \"model_epoch8.pt\" --resume_epoch 8"
      ]
    },
    {
      "cell_type": "markdown",
      "id": "0c8df0ce",
      "metadata": {
        "id": "0c8df0ce"
      },
      "source": [
        "### Test\n",
        "\n",
        "On Colab: unable to run the test command without configuration of Virtuoso Service"
      ]
    },
    {
      "cell_type": "code",
      "execution_count": null,
      "id": "4161ab87-26ba-4a71-863d-bfab745daea7",
      "metadata": {
        "colab": {
          "base_uri": "https://localhost:8080/"
        },
        "id": "4161ab87-26ba-4a71-863d-bfab745daea7",
        "outputId": "380f210b-6c4c-42df-c2c4-ca5277d36110"
      },
      "outputs": [
        {
          "name": "stdout",
          "output_type": "stream",
          "text": [
            "load test data\n",
            "load model\n",
            "100% 93/93 [00:59<00:00,  1.56it/s]\n"
          ]
        }
      ],
      "source": [
        "# without GPU\n",
        "# !python -m SPARQL.predict --input_dir processed_data/ --save_dir checkpoints/\n",
        "\n",
        "# with GPU\n",
        "!CUDA_VISIBLE_DEVICES=0 python -m SPARQL.predict --input_dir processed_data/ --save_dir checkpoints/"
      ]
    },
    {
      "cell_type": "code",
      "execution_count": null,
      "id": "UQIsX1vfgLQL",
      "metadata": {
        "id": "UQIsX1vfgLQL"
      },
      "outputs": [],
      "source": []
    }
  ],
  "metadata": {
    "accelerator": "GPU",
    "colab": {
      "gpuType": "T4",
      "provenance": [],
      "toc_visible": true
    },
    "kernelspec": {
      "display_name": "Python 3",
      "language": "python",
      "name": "python3"
    },
    "language_info": {
      "codemirror_mode": {
        "name": "ipython",
        "version": 3
      },
      "file_extension": ".py",
      "mimetype": "text/x-python",
      "name": "python",
      "nbconvert_exporter": "python",
      "pygments_lexer": "ipython3",
      "version": "3.8.10"
    }
  },
  "nbformat": 4,
  "nbformat_minor": 5
}