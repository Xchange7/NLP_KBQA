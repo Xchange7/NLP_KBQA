{
 "cells": [
  {
   "cell_type": "markdown",
   "id": "e11a5701-cea3-4c38-8f84-27f84aba242d",
   "metadata": {},
   "source": [
    "## KQAPro Baselines Pipeline - SPARQL Setup\n",
    "\n",
    "This Jupyter Notebook is designed to set up the pipeline for the [KQAPro Baselines - SPARQL](https://github.com/shijx12/KQAPro_Baselines/tree/master/SPARQL) project. It provides steps for downloading the necessary datasets, organizing files, and preparing the environment to run the SPARQL-based code.\n",
    "\n",
    "Ensure that all dependencies are installed and the required tools are available in your system before proceeding.\n"
   ]
  },
  {
   "cell_type": "markdown",
   "id": "bd8e79dd-fcc0-4968-ad9f-b1171f7fd98a",
   "metadata": {},
   "source": [
    "### Download Datasets\n",
    "\n",
    "- Download datasets `train.json`, `val.json` and `test.json` from [https://cloud.tsinghua.edu.cn/f/04ce81541e704a648b03/?dl=1](https://cloud.tsinghua.edu.cn/f/04ce81541e704a648b03/?dl=1)\n",
    "- Download datasets `kb.json` from [https://huggingface.co/datasets/drt/kqa_pro](https://huggingface.co/datasets/drt/kqa_pro)"
   ]
  },
  {
   "cell_type": "code",
   "execution_count": 1,
   "id": "9b805c03-47e8-46ff-9077-57309ad35b21",
   "metadata": {},
   "outputs": [
    {
     "name": "stdout",
     "output_type": "stream",
     "text": [
      "--2024-12-08 17:37:28--  https://cloud.tsinghua.edu.cn/f/04ce81541e704a648b03/?dl=1\n",
      "Resolving cloud.tsinghua.edu.cn (cloud.tsinghua.edu.cn)... 101.6.15.69, 2402:f000:1:402:101:6:15:69\n",
      "Connecting to cloud.tsinghua.edu.cn (cloud.tsinghua.edu.cn)|101.6.15.69|:443... connected.\n",
      "HTTP request sent, awaiting response... 302 Found\n",
      "Location: https://cloud.tsinghua.edu.cn/seafhttp/files/cbc90cbe-59d5-4119-9011-dfcddfa774a8/KQAPro.IID.zip [following]\n",
      "--2024-12-08 17:37:29--  https://cloud.tsinghua.edu.cn/seafhttp/files/cbc90cbe-59d5-4119-9011-dfcddfa774a8/KQAPro.IID.zip\n",
      "Reusing existing connection to cloud.tsinghua.edu.cn:443.\n",
      "HTTP request sent, awaiting response... 200 OK\n",
      "Length: 24786704 (24M) [application/zip]\n",
      "Saving to: ‘datasets.zip’\n",
      "\n",
      "datasets.zip        100%[===================>]  23.64M  4.99MB/s    in 6.2s    \n",
      "\n",
      "2024-12-08 17:37:36 (3.82 MB/s) - ‘datasets.zip’ saved [24786704/24786704]\n",
      "\n",
      "Archive:  datasets.zip\n",
      "   creating: datasets/KQAPro.IID/\n",
      "  inflating: datasets/KQAPro.IID/kb.json  \n",
      "  inflating: datasets/KQAPro.IID/README.md  \n",
      "  inflating: datasets/KQAPro.IID/train.json  \n",
      "  inflating: datasets/KQAPro.IID/test.json  \n",
      "  inflating: datasets/KQAPro.IID/val.json  \n"
     ]
    }
   ],
   "source": [
    "!wget -O datasets.zip \"https://cloud.tsinghua.edu.cn/f/04ce81541e704a648b03/?dl=1\" \\\n",
    "&& unzip -o datasets.zip -d datasets \\\n",
    "&& mv datasets/KQAPro.IID/* datasets/ \\\n",
    "&& rm -r datasets/KQAPro.IID \\\n",
    "&& rm datasets.zip"
   ]
  },
  {
   "cell_type": "code",
   "execution_count": 2,
   "id": "beec3dab-52e2-4145-9795-964fbb3bff4a",
   "metadata": {},
   "outputs": [
    {
     "name": "stdout",
     "output_type": "stream",
     "text": [
      "\u001b[0m\u001b[01;36mcheckpoints\u001b[0m/  \u001b[01;32mevaluate.py\u001b[0m*     \u001b[01;32mREADME.md\u001b[0m*  \u001b[01;32mSPARQL_pipeline.ipynb\u001b[0m*\n",
      "\u001b[01;36mdatasets\u001b[0m/     \u001b[01;36mprocessed_data\u001b[0m/  \u001b[01;36mSPARQL\u001b[0m/     \u001b[01;36mutils\u001b[0m/\n"
     ]
    }
   ],
   "source": [
    "%ls"
   ]
  },
  {
   "cell_type": "code",
   "execution_count": 3,
   "id": "e033209b-5085-4e91-94b8-944f05afe2ee",
   "metadata": {},
   "outputs": [
    {
     "name": "stdout",
     "output_type": "stream",
     "text": [
      "--2024-12-08 17:37:39--  https://huggingface.co/datasets/drt/kqa_pro/resolve/main/kb.json?download=true\n",
      "Resolving huggingface.co (huggingface.co)... 18.239.50.103, 18.239.50.49, 18.239.50.80, ...\n",
      "Connecting to huggingface.co (huggingface.co)|18.239.50.103|:443... connected.\n",
      "HTTP request sent, awaiting response... 302 Found\n",
      "Location: https://cdn-lfs.hf.co/repos/c0/a4/c0a4536356b7a43fa2d5f4ca0859ea436a28848a2a32e920357a4480a00d4aa7/04da7408320c5cb7023c44372cce32846d56d369d8865d2e61a18c3956661a7c?response-content-disposition=attachment%3B+filename*%3DUTF-8%27%27kb.json%3B+filename%3D%22kb.json%22%3B&response-content-type=application%2Fjson&Expires=1733935060&Policy=eyJTdGF0ZW1lbnQiOlt7IkNvbmRpdGlvbiI6eyJEYXRlTGVzc1RoYW4iOnsiQVdTOkVwb2NoVGltZSI6MTczMzkzNTA2MH19LCJSZXNvdXJjZSI6Imh0dHBzOi8vY2RuLWxmcy5oZi5jby9yZXBvcy9jMC9hNC9jMGE0NTM2MzU2YjdhNDNmYTJkNWY0Y2EwODU5ZWE0MzZhMjg4NDhhMmEzMmU5MjAzNTdhNDQ4MGEwMGQ0YWE3LzA0ZGE3NDA4MzIwYzVjYjcwMjNjNDQzNzJjY2UzMjg0NmQ1NmQzNjlkODg2NWQyZTYxYTE4YzM5NTY2NjFhN2M%7EcmVzcG9uc2UtY29udGVudC1kaXNwb3NpdGlvbj0qJnJlc3BvbnNlLWNvbnRlbnQtdHlwZT0qIn1dfQ__&Signature=SQ6bVf31oWE0VZ5DzisLbkFxcsYgHeYsIU-r9yse1G0fFFhgFvWoBt0Uvgia6z%7Exp38quVnGcasIfSc8BAgaYErG0jCwFsdq04EeC%7E78-dxQbKCxbn2uW0OuRuC0z-sMm65k3pMEfhr%7EiCpjAKXGeCJilxuo4gmsBTfurwVlosC00rWehvy1pJh-GDKOQiMlST3W%7EbJedgnTslweOH1VA1aOocpVJ-zE2vv%7E%7EwFCj7iCqCqemRJz4dD%7ExjCKOtIDPy%7EdTgH772UvhdhJsotv-nUjp7LSss2uwItIlKuegmih8VR4SGRCiWklpoOfg5jMY-KVNwVhRJlTkIy%7EuzSYYA__&Key-Pair-Id=K3RPWS32NSSJCE [following]\n",
      "--2024-12-08 17:37:39--  https://cdn-lfs.hf.co/repos/c0/a4/c0a4536356b7a43fa2d5f4ca0859ea436a28848a2a32e920357a4480a00d4aa7/04da7408320c5cb7023c44372cce32846d56d369d8865d2e61a18c3956661a7c?response-content-disposition=attachment%3B+filename*%3DUTF-8%27%27kb.json%3B+filename%3D%22kb.json%22%3B&response-content-type=application%2Fjson&Expires=1733935060&Policy=eyJTdGF0ZW1lbnQiOlt7IkNvbmRpdGlvbiI6eyJEYXRlTGVzc1RoYW4iOnsiQVdTOkVwb2NoVGltZSI6MTczMzkzNTA2MH19LCJSZXNvdXJjZSI6Imh0dHBzOi8vY2RuLWxmcy5oZi5jby9yZXBvcy9jMC9hNC9jMGE0NTM2MzU2YjdhNDNmYTJkNWY0Y2EwODU5ZWE0MzZhMjg4NDhhMmEzMmU5MjAzNTdhNDQ4MGEwMGQ0YWE3LzA0ZGE3NDA4MzIwYzVjYjcwMjNjNDQzNzJjY2UzMjg0NmQ1NmQzNjlkODg2NWQyZTYxYTE4YzM5NTY2NjFhN2M%7EcmVzcG9uc2UtY29udGVudC1kaXNwb3NpdGlvbj0qJnJlc3BvbnNlLWNvbnRlbnQtdHlwZT0qIn1dfQ__&Signature=SQ6bVf31oWE0VZ5DzisLbkFxcsYgHeYsIU-r9yse1G0fFFhgFvWoBt0Uvgia6z%7Exp38quVnGcasIfSc8BAgaYErG0jCwFsdq04EeC%7E78-dxQbKCxbn2uW0OuRuC0z-sMm65k3pMEfhr%7EiCpjAKXGeCJilxuo4gmsBTfurwVlosC00rWehvy1pJh-GDKOQiMlST3W%7EbJedgnTslweOH1VA1aOocpVJ-zE2vv%7E%7EwFCj7iCqCqemRJz4dD%7ExjCKOtIDPy%7EdTgH772UvhdhJsotv-nUjp7LSss2uwItIlKuegmih8VR4SGRCiWklpoOfg5jMY-KVNwVhRJlTkIy%7EuzSYYA__&Key-Pair-Id=K3RPWS32NSSJCE\n",
      "Resolving cdn-lfs.hf.co (cdn-lfs.hf.co)... 18.65.39.31, 18.65.39.121, 18.65.39.123, ...\n",
      "Connecting to cdn-lfs.hf.co (cdn-lfs.hf.co)|18.65.39.31|:443... connected.\n",
      "HTTP request sent, awaiting response... 200 OK\n",
      "Length: 79341787 (76M) [application/json]\n",
      "Saving to: ‘datasets/kb.json’\n",
      "\n",
      "datasets/kb.json    100%[===================>]  75.67M  11.0MB/s    in 6.8s    \n",
      "\n",
      "2024-12-08 17:37:46 (11.1 MB/s) - ‘datasets/kb.json’ saved [79341787/79341787]\n",
      "\n"
     ]
    }
   ],
   "source": [
    "!wget -O datasets/kb.json \"https://huggingface.co/datasets/drt/kqa_pro/resolve/main/kb.json?download=true\""
   ]
  },
  {
   "cell_type": "code",
   "execution_count": 4,
   "id": "2eb65f55-aa46-41e8-ac9d-779fee897e57",
   "metadata": {},
   "outputs": [
    {
     "name": "stdout",
     "output_type": "stream",
     "text": [
      "\u001b[0m\u001b[01;32mkb.json\u001b[0m*  \u001b[01;32mREADME.md\u001b[0m*  \u001b[01;32mtest.json\u001b[0m*  \u001b[01;32mtrain.json\u001b[0m*  \u001b[01;32mval.json\u001b[0m*\n"
     ]
    }
   ],
   "source": [
    "%ls ./datasets"
   ]
  },
  {
   "cell_type": "markdown",
   "id": "d223c74d-d46d-4799-84f9-202a070f3816",
   "metadata": {},
   "source": [
    "### Configure rdflib package\n",
    "\n",
    "Follow the instructions in [https://github.com/shijx12/KQAPro_Baselines/tree/master/SPARQL#requirements](https://github.com/shijx12/KQAPro_Baselines/tree/master/SPARQL#requirements)"
   ]
  },
  {
   "cell_type": "code",
   "execution_count": 5,
   "id": "f410d6a3-bb22-4171-8b60-60c78b2d9a34",
   "metadata": {},
   "outputs": [
    {
     "name": "stdout",
     "output_type": "stream",
     "text": [
      "Defaulting to user installation because normal site-packages is not writeable\n",
      "Requirement already satisfied: rdflib in /home/wsl/.local/lib/python3.8/site-packages (7.1.1)\n",
      "Requirement already satisfied: isodate<1.0.0,>=0.7.2 in /home/wsl/.local/lib/python3.8/site-packages (from rdflib) (0.7.2)\n",
      "Requirement already satisfied: pyparsing<4,>=2.1.0 in /home/wsl/.local/lib/python3.8/site-packages (from rdflib) (3.1.2)\n",
      "Note: you may need to restart the kernel to use updated packages.\n"
     ]
    }
   ],
   "source": [
    "%pip install rdflib"
   ]
  },
  {
   "cell_type": "code",
   "execution_count": 6,
   "id": "3efa088f-a8c7-4a81-92eb-e25a4bdd5d3a",
   "metadata": {},
   "outputs": [
    {
     "data": {
      "text/plain": [
       "'/home/wsl/.local/lib/python3.8/site-packages/rdflib/__init__.py'"
      ]
     },
     "execution_count": 6,
     "metadata": {},
     "output_type": "execute_result"
    }
   ],
   "source": [
    "import rdflib\n",
    "rdflib.__file__"
   ]
  },
  {
   "cell_type": "markdown",
   "id": "5ad52a04-9360-4203-847f-b5221e1eabfc",
   "metadata": {},
   "source": [
    "Then fix the listed errors according to the instructions\n",
    "\n",
    "### Configure SPARQLWrapper"
   ]
  },
  {
   "cell_type": "code",
   "execution_count": 7,
   "id": "ab050a27-3804-4816-b2f6-c731d3e64cce",
   "metadata": {},
   "outputs": [
    {
     "name": "stdout",
     "output_type": "stream",
     "text": [
      "Defaulting to user installation because normal site-packages is not writeable\n",
      "Requirement already satisfied: SPARQLWrapper==1.8.4 in /home/wsl/.local/lib/python3.8/site-packages (1.8.4)\n",
      "Requirement already satisfied: rdflib>=4.0 in /home/wsl/.local/lib/python3.8/site-packages (from SPARQLWrapper==1.8.4) (7.1.1)\n",
      "Requirement already satisfied: isodate<1.0.0,>=0.7.2 in /home/wsl/.local/lib/python3.8/site-packages (from rdflib>=4.0->SPARQLWrapper==1.8.4) (0.7.2)\n",
      "Requirement already satisfied: pyparsing<4,>=2.1.0 in /home/wsl/.local/lib/python3.8/site-packages (from rdflib>=4.0->SPARQLWrapper==1.8.4) (3.1.2)\n",
      "Note: you may need to restart the kernel to use updated packages.\n"
     ]
    }
   ],
   "source": [
    "%pip install SPARQLWrapper==1.8.4"
   ]
  },
  {
   "cell_type": "code",
   "execution_count": 8,
   "id": "d518e511-c41b-4042-80a9-44967f5e515b",
   "metadata": {},
   "outputs": [
    {
     "name": "stdout",
     "output_type": "stream",
     "text": [
      "\u001b[33mWARNING: Package(s) not found: keepalive\u001b[0m\u001b[33m\n",
      "\u001b[0mNote: you may need to restart the kernel to use updated packages.\n"
     ]
    }
   ],
   "source": [
    "%pip show keepalive  # Make sure `keepalive` NOT installed"
   ]
  },
  {
   "cell_type": "markdown",
   "id": "2501d07c-85b3-4d27-b37a-1801ef9606f9",
   "metadata": {},
   "source": [
    "### ~~Virtuoso Configuration~~ (Skipped)\n",
    "\n",
    "> *Not needed if we don't continue to process the SPARQL statements by querying the Knowledge Base.*\n",
    "\n",
    "- The virtuoso backend will start up a web service, we can import our kb into it and then execute SPARQL queries by network requests.\n",
    "- **Purpose of Virtuoso**: The primary purpose of this configuration is to install and set up the Virtuoso backend service on an Ubuntu system, enabling the import of a **knowledge base (KB)** and facilitating access and operations on the data through the **SPARQL query interface**.\n"
   ]
  },
  {
   "cell_type": "markdown",
   "id": "2e7d923a-41e8-40ac-b9bf-282b92aee9fd",
   "metadata": {},
   "source": [
    "Follow the steps in [https://github.com/shijx12/KQAPro_Baselines/tree/master/SPARQL#how-to-install-virtuoso-backend](https://github.com/shijx12/KQAPro_Baselines/tree/master/SPARQL#how-to-install-virtuoso-backend)"
   ]
  },
  {
   "cell_type": "markdown",
   "id": "b96db1cf-2994-4b60-a454-5ae07852351a",
   "metadata": {},
   "source": [
    "### Preprocess the training data"
   ]
  },
  {
   "cell_type": "code",
   "execution_count": 9,
   "id": "6ae20098-be27-484c-b327-6d189b5a199c",
   "metadata": {},
   "outputs": [
    {
     "name": "stderr",
     "output_type": "stream",
     "text": [
      "[nltk_data] Downloading package punkt_tab to /home/wsl/nltk_data...\n",
      "[nltk_data]   Package punkt_tab is already up-to-date!\n"
     ]
    },
    {
     "data": {
      "text/plain": [
       "True"
      ]
     },
     "execution_count": 9,
     "metadata": {},
     "output_type": "execute_result"
    }
   ],
   "source": [
    "import nltk\n",
    "nltk.download('punkt_tab')"
   ]
  },
  {
   "cell_type": "code",
   "execution_count": 10,
   "id": "7a62e93b-707c-44fc-a173-17209ed9eec9",
   "metadata": {},
   "outputs": [
    {
     "name": "stdout",
     "output_type": "stream",
     "text": [
      "Build kb vocabulary\n",
      "Load questions\n",
      "Build question vocabulary\n",
      "Dump vocab to processed_data/vocab.json\n",
      "word_token_to_idx:48554\n",
      "sparql_token_to_idx:45693\n",
      "answer_token_to_idx:81629\n",
      "Encode train set\n",
      "100%|██████████████████████████████████| 94376/94376 [00:09<00:00, 10169.35it/s]\n",
      "shape of questions, sparqls, choices, answers:\n",
      "(94376, 85)\n",
      "(94376, 103)\n",
      "(94376, 10)\n",
      "(94376,)\n",
      "Encode val set\n",
      "100%|███████████████████████████████████| 11797/11797 [00:01<00:00, 9143.99it/s]\n",
      "shape of questions, sparqls, choices, answers:\n",
      "(11797, 61)\n",
      "(11797, 100)\n",
      "(11797, 10)\n",
      "(11797,)\n",
      "Encode test set\n",
      "100%|██████████████████████████████████| 11797/11797 [00:00<00:00, 11920.91it/s]\n",
      "shape of questions, sparqls, choices, answers:\n",
      "(11797, 51)\n",
      "(0,)\n",
      "(11797, 10)\n",
      "(0,)\n"
     ]
    }
   ],
   "source": [
    "!python3 -m SPARQL.preprocess --input_dir ./datasets --output_dir processed_data"
   ]
  },
  {
   "cell_type": "code",
   "execution_count": 11,
   "id": "51d143a9-8f7b-49b2-b68c-910775510b14",
   "metadata": {},
   "outputs": [
    {
     "name": "stdout",
     "output_type": "stream",
     "text": [
      "datasets:\n",
      "\u001b[0m\u001b[01;32mkb.json\u001b[0m*  \u001b[01;32mREADME.md\u001b[0m*  \u001b[01;32mtest.json\u001b[0m*  \u001b[01;32mtrain.json\u001b[0m*  \u001b[01;32mval.json\u001b[0m*\n",
      "\n",
      "processed_data:\n",
      "\u001b[01;32mkb.json\u001b[0m*  \u001b[01;32mtest.pt\u001b[0m*  \u001b[01;32mtrain.pt\u001b[0m*  \u001b[01;32mval.pt\u001b[0m*  \u001b[01;32mvocab.json\u001b[0m*\n"
     ]
    }
   ],
   "source": [
    "%ls datasets processed_data"
   ]
  },
  {
   "cell_type": "code",
   "execution_count": 12,
   "id": "e83026cf-86d4-4e82-9e2a-85c1cf8fde0a",
   "metadata": {},
   "outputs": [],
   "source": [
    "!cp ./datasets/kb.json processed_data/"
   ]
  },
  {
   "cell_type": "markdown",
   "id": "1511c61b-a00a-4264-afce-a9b947171e9a",
   "metadata": {},
   "source": [
    "### Train \n",
    "\n",
    "**BUG here!!!**:  \n",
    "\n",
    "There is a bug if trained with GPU, which can be fixed by editing the file `....../dist-packages/torch/nn/utils/rnn.py`: add `lengths = lengths.cpu()` before the line `data, batch_sizes = _VF._pack_padded_sequence(input, lengths, batch_first)`"
   ]
  },
  {
   "cell_type": "code",
   "execution_count": null,
   "id": "c109e198-cf8d-434c-9f43-a618f3279326",
   "metadata": {},
   "outputs": [
    {
     "name": "stdout",
     "output_type": "stream",
     "text": [
      "2024-12-08 17:48:02,666 INFO     input_dir:processed_data/\n",
      "2024-12-08 17:48:02,667 INFO     save_dir:checkpoints/\n",
      "2024-12-08 17:48:02,667 INFO     lr:0.001\n",
      "2024-12-08 17:48:02,668 INFO     weight_decay:1e-05\n",
      "2024-12-08 17:48:02,668 INFO     num_epoch:1\n",
      "2024-12-08 17:48:02,668 INFO     batch_size:64\n",
      "2024-12-08 17:48:02,669 INFO     seed:666\n",
      "2024-12-08 17:48:02,669 INFO     dim_word:300\n",
      "2024-12-08 17:48:02,669 INFO     dim_hidden:1024\n",
      "2024-12-08 17:48:02,670 INFO     max_dec_len:100\n",
      "2024-12-08 17:48:02,673 INFO     Create train_loader and val_loader.........\n",
      "#vocab of word/sparql/answer: 48554/45693/81629\n",
      "2024-12-08 17:48:08,133 INFO     Create model.........\n",
      "2024-12-08 17:48:08,941 INFO     SPARQLParser(\n",
      "  (word_embeddings): Embedding(48554, 300)\n",
      "  (word_dropout): Dropout(p=0.3, inplace=False)\n",
      "  (question_encoder): GRU(\n",
      "    (encoder): GRU(300, 1024, num_layers=2, batch_first=True, dropout=0.2)\n",
      "  )\n",
      "  (sparql_embeddings): Embedding(45693, 300)\n",
      "  (decoder): GRU(\n",
      "    (encoder): GRU(300, 1024, num_layers=2, batch_first=True, dropout=0.2)\n",
      "  )\n",
      "  (sparql_classifier): Sequential(\n",
      "    (0): Linear(in_features=1024, out_features=1024, bias=True)\n",
      "    (1): ReLU()\n",
      "    (2): Linear(in_features=1024, out_features=45693, bias=True)\n",
      "  )\n",
      "  (att_lin): Linear(in_features=1024, out_features=1024, bias=True)\n",
      ")\n",
      "2024-12-08 17:48:09,480 INFO     Start training........\n",
      "2024-12-08 17:57:17,254 INFO     progress: 0.009  loss: 6.8046 (6.6105)  lr: 0.001000\n",
      "2024-12-08 18:05:38,717 INFO     progress: 0.019  loss: 1.2661 (3.8890)  lr: 0.001000\n",
      "2024-12-08 18:13:06,130 INFO     progress: 0.028  loss: 0.9313 (2.8946)  lr: 0.001000\n",
      "2024-12-08 18:21:34,821 INFO     progress: 0.038  loss: 0.7558 (2.3534)  lr: 0.001000\n",
      "2024-12-08 18:28:54,127 INFO     progress: 0.047  loss: 0.6978 (2.0205)  lr: 0.001000\n",
      "2024-12-08 18:37:02,033 INFO     progress: 0.057  loss: 0.6736 (1.7959)  lr: 0.001000\n",
      "2024-12-08 18:44:22,891 INFO     progress: 0.066  loss: 0.6270 (1.6294)  lr: 0.001000\n",
      "2024-12-08 18:51:20,310 INFO     progress: 0.076  loss: 0.6127 (1.5032)  lr: 0.001000\n",
      "2024-12-08 18:58:45,963 INFO     progress: 0.085  loss: 0.6085 (1.4040)  lr: 0.001000\n",
      "2024-12-08 19:06:29,094 INFO     progress: 0.095  loss: 0.5905 (1.3233)  lr: 0.001000\n",
      "2024-12-08 19:13:38,284 INFO     progress: 0.104  loss: 0.5621 (1.2539)  lr: 0.001000\n",
      "2024-12-08 19:22:16,317 INFO     progress: 0.114  loss: 0.5545 (1.1960)  lr: 0.001000\n",
      "2024-12-08 19:30:19,486 INFO     progress: 0.123  loss: 0.5545 (1.1456)  lr: 0.001000\n",
      "2024-12-08 19:37:45,256 INFO     progress: 0.133  loss: 0.5456 (1.1027)  lr: 0.001000\n",
      "2024-12-08 19:47:59,875 INFO     progress: 0.142  loss: 0.5389 (1.0650)  lr: 0.001000\n",
      "2024-12-08 19:57:20,894 INFO     progress: 0.152  loss: 0.5186 (1.0315)  lr: 0.001000\n",
      "2024-12-08 20:04:34,343 INFO     progress: 0.161  loss: 0.5167 (1.0010)  lr: 0.001000\n",
      "2024-12-08 20:11:06,342 INFO     progress: 0.171  loss: 0.5342 (0.9755)  lr: 0.001000\n",
      "2024-12-08 20:17:56,347 INFO     progress: 0.180  loss: 0.5460 (0.9527)  lr: 0.001000\n",
      "2024-12-08 20:24:46,278 INFO     progress: 0.190  loss: 0.5132 (0.9306)  lr: 0.001000\n",
      "2024-12-08 20:32:08,680 INFO     progress: 0.199  loss: 0.5082 (0.9106)  lr: 0.001000\n",
      "2024-12-08 20:38:57,369 INFO     progress: 0.209  loss: 0.5004 (0.8918)  lr: 0.001000\n",
      "2024-12-08 20:45:58,078 INFO     progress: 0.218  loss: 0.4963 (0.8743)  lr: 0.001000\n",
      "2024-12-08 20:52:50,619 INFO     progress: 0.228  loss: 0.4903 (0.8585)  lr: 0.001000\n",
      "2024-12-08 20:59:24,893 INFO     progress: 0.237  loss: 0.4860 (0.8439)  lr: 0.001000\n",
      "2024-12-08 21:06:30,636 INFO     progress: 0.247  loss: 0.4821 (0.8298)  lr: 0.001000\n",
      "2024-12-08 21:13:03,910 INFO     progress: 0.256  loss: 0.4731 (0.8167)  lr: 0.001000\n",
      "2024-12-08 21:19:32,926 INFO     progress: 0.266  loss: 0.4740 (0.8044)  lr: 0.001000\n",
      "2024-12-08 21:26:16,929 INFO     progress: 0.275  loss: 0.4653 (0.7927)  lr: 0.001000\n",
      "2024-12-08 21:33:18,611 INFO     progress: 0.285  loss: 0.4691 (0.7820)  lr: 0.001000\n",
      "2024-12-08 21:44:04,115 INFO     progress: 0.294  loss: 0.4691 (0.7718)  lr: 0.001000\n"
     ]
    }
   ],
   "source": [
    "!python3 -m SPARQL.train --input_dir processed_data/ --save_dir checkpoints/ --num_epoch 10\n",
    "# with GPU: python3 -m SPARQL.train --input_dir processed_data/ --save_dir checkpoints/ --num_epoch 10"
   ]
  },
  {
   "cell_type": "code",
   "execution_count": null,
   "id": "4161ab87-26ba-4a71-863d-bfab745daea7",
   "metadata": {},
   "outputs": [],
   "source": [
    "!python3 -m SPARQL.predict --input_dir processed_data --save_dir checkpoints"
   ]
  },
  {
   "cell_type": "code",
   "execution_count": null,
   "id": "e995810c-2f86-48bf-9324-b39d41632280",
   "metadata": {},
   "outputs": [],
   "source": []
  }
 ],
 "metadata": {
  "kernelspec": {
   "display_name": "Python 3 (ipykernel)",
   "language": "python",
   "name": "python3"
  },
  "language_info": {
   "codemirror_mode": {
    "name": "ipython",
    "version": 3
   },
   "file_extension": ".py",
   "mimetype": "text/x-python",
   "name": "python",
   "nbconvert_exporter": "python",
   "pygments_lexer": "ipython3",
   "version": "3.8.10"
  }
 },
 "nbformat": 4,
 "nbformat_minor": 5
}
